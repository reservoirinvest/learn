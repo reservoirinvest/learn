{
 "cells": [
  {
   "cell_type": "code",
   "execution_count": null,
   "metadata": {},
   "outputs": [],
   "source": [
    "import yfinance as yf\n",
    "import pandas as pd \n",
    "import numpy as np \n",
    "import ta\n",
    "import matplotlib.pyplot as plt"
   ]
  },
  {
   "cell_type": "code",
   "execution_count": null,
   "metadata": {},
   "outputs": [],
   "source": [
    "class Backtest:\n",
    "    \n",
    "    def __init__(self, symbol):\n",
    "        self.symbol = symbol\n",
    "        self.df = yf.download(self.symbol, start='2019-01-01')\n",
    "        if self.df.empty:\n",
    "            print('No data pulled')\n",
    "\n",
    "        else:\n",
    "            self.calc_indicators()\n",
    "            self.generate_signals()\n",
    "            self.loop_it()\n",
    "            # self.profit = self.calc_profit()\n",
    "\n",
    "    def calc_indicators(self):\n",
    "        self.df['ma_20'] = self.df.Close.rolling(20).mean()\n",
    "        self.df['vol'] = self.df.Close.rolling(20).std()\n",
    "        self.df['upper_bb'] = self.df.ma_20 + (2 * self.df.vol)\n",
    "        self.df['lower_bb'] = self.df.ma_20 - (2 * self.df.vol)\n",
    "        self.df['rsi'] = ta.momentum.rsi(self.df.Close, window=6)\n",
    "        self.df.dropna(inplace=True)\n",
    "        \n",
    "    def generate_signals(self):\n",
    "\n",
    "        conditions = [(self.df.rsi < 30) & (self.df.Close < self.df.lower_bb),\n",
    "                      (self.df.rsi > 70) & (self.df.Close > self.df.upper_bb)]\n",
    "        choices = ['Buy', 'Sell']\n",
    "        self.df['signal'] = np.select(conditions, choices)\n",
    "        self.df.signal = self.df.signal.shift()\n",
    "        self.df.dropna(inplace=True)\n",
    "        \n",
    "    def loop_it(self):\n",
    "        position = False\n",
    "        buydates, selldates = [], []\n",
    "\n",
    "        for index, row in self.df.iterrows():\n",
    "            if not position and row['signal'] == 'Buy':\n",
    "                position = True\n",
    "                buydates.append(index)\n",
    "\n",
    "            if position and row['signal'] == 'Sell':\n",
    "                position = False\n",
    "                selldates.append(index)\n",
    "\n",
    "        self.buy_arr = self.df.loc[buydates].Open\n",
    "        self.sell_arr = self.df.loc[selldates].Open\n",
    "    \n",
    "    def calc_profit(self):\n",
    "        if self.buy_arr[-1] > self.sell_arr[-1]:\n",
    "            self.buy_arr = self.buy_arr[:-1]\n",
    "            self.sell_arr = self.sell_arr[1:]\n",
    "\n",
    "        return (self.sell_arr.values - self.buy_arr.values)/self.buy_arr.values\n",
    "        "
   ]
  },
  {
   "cell_type": "code",
   "execution_count": null,
   "metadata": {},
   "outputs": [],
   "source": [
    "symbol = 'AAPL'\n",
    "instance = Backtest(symbol)"
   ]
  },
  {
   "cell_type": "code",
   "execution_count": null,
   "metadata": {},
   "outputs": [],
   "source": [
    "df = yf.download(symbol, start='2019-01-01')\n",
    "df['ma_20'] = df.Close.rolling(20).mean()\n",
    "df['vol'] = df.Close.rolling(20).std()\n",
    "df['upper_bb'] = df.ma_20 + (2 * df.vol)\n",
    "df['lower_bb'] = df.ma_20 - (2 * df.vol)\n",
    "df['rsi'] = ta.momentum.rsi(df.Close, window=6)\n",
    "df.dropna(inplace=True)\n",
    "conditions = [(df.rsi < 30) & (df.Close < df.lower_bb),\n",
    "                (df.rsi > 70) & (df.Close > df.upper_bb)]\n",
    "choices = ['Buy', 'Sell']\n",
    "df['signal'] = np.select(conditions, choices)\n",
    "df.signal = df.signal.shift()\n",
    "df.dropna(inplace=True)\n",
    "\n",
    "position = False\n",
    "buydates, selldates = [], []\n",
    "\n",
    "for index, row in df.iterrows():\n",
    "    if not position and row['signal'] == 'Buy':\n",
    "        position = True\n",
    "        buydates.append(index)\n",
    "\n",
    "    if position and row['signal'] == 'Sell':\n",
    "        position = False\n",
    "        selldates.append(index)\n",
    "\n",
    "buy_arr = df.loc[buydates].Open\n",
    "sell_arr = df.loc[selldates].Open"
   ]
  },
  {
   "cell_type": "code",
   "execution_count": null,
   "metadata": {},
   "outputs": [],
   "source": [
    "df"
   ]
  },
  {
   "cell_type": "code",
   "execution_count": null,
   "metadata": {},
   "outputs": [],
   "source": [
    "df.loc[buy_arr.index or sell_arr.index]"
   ]
  },
  {
   "cell_type": "code",
   "execution_count": null,
   "metadata": {},
   "outputs": [],
   "source": [
    "sell_arr"
   ]
  },
  {
   "cell_type": "code",
   "execution_count": null,
   "metadata": {},
   "outputs": [],
   "source": []
  }
 ],
 "metadata": {
  "kernelspec": {
   "display_name": "Python 3.10.4 64-bit",
   "language": "python",
   "name": "python3"
  },
  "language_info": {
   "codemirror_mode": {
    "name": "ipython",
    "version": 3
   },
   "file_extension": ".py",
   "mimetype": "text/x-python",
   "name": "python",
   "nbconvert_exporter": "python",
   "pygments_lexer": "ipython3",
   "version": "3.10.4"
  },
  "orig_nbformat": 4,
  "vscode": {
   "interpreter": {
    "hash": "aaea9d586457455d79e457f9f696b3b3be3cdbbec0b491f4d9e237cbea64165f"
   }
  }
 },
 "nbformat": 4,
 "nbformat_minor": 2
}
