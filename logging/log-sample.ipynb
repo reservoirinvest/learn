{
 "cells": [
  {
   "cell_type": "code",
   "execution_count": 1,
   "metadata": {},
   "outputs": [
    {
     "name": "stderr",
     "output_type": "stream",
     "text": "2020-03-01 06:52:28,974:__name__:Add: 10 + 0 = 10\n2020-03-01 06:52:28,976:__name__:Sub: 10 - 0 = 10\n2020-03-01 06:52:28,978:__name__:Mul: 10 * 0 = 0\n2020-03-01 06:52:28,979:__name__:Tried to divide by zero\nTraceback (most recent call last):\n  File \"<ipython-input-1-4cc2d6814a77>\", line 35, in divide\n    result = x / y\nZeroDivisionError: division by zero\n2020-03-01 06:52:28,980:__name__:Div: 10 / 0 = None\n"
    }
   ],
   "source": [
    "import logging\n",
    "import employee\n",
    "\n",
    "logger = logging.getLogger('__name__')\n",
    "logger.setLevel(logging.DEBUG)\n",
    "\n",
    "formatter = logging.Formatter('%(asctime)s:%(name)s:%(message)s')\n",
    "\n",
    "file_handler = logging.FileHandler('sample.log')\n",
    "file_handler.setLevel(logging.ERROR)\n",
    "file_handler.setFormatter(formatter)\n",
    "\n",
    "stream_handler = logging.StreamHandler()\n",
    "stream_handler.setFormatter(formatter)\n",
    "\n",
    "logger.addHandler(file_handler)\n",
    "logger.addHandler(stream_handler)\n",
    "\n",
    "\n",
    "def add(x, y):\n",
    "    '''Add Function'''\n",
    "    return x + y\n",
    "\n",
    "def subtract(x, y):\n",
    "    '''Subtract Function'''\n",
    "    return x - y\n",
    "\n",
    "def multiply(x, y):\n",
    "    '''Multiply Function'''\n",
    "    return x * y\n",
    "\n",
    "def divide(x, y):\n",
    "    '''Divide Funciton'''\n",
    "    try:\n",
    "        result = x / y\n",
    "    except ZeroDivisionError:\n",
    "        logger.exception('Tried to divide by zero')\n",
    "    else:\n",
    "        return result\n",
    "    \n",
    "num_1 = 10\n",
    "num_2 = 0\n",
    "\n",
    "add_result = add(num_1, num_2)\n",
    "logger.debug('Add: {} + {} = {}'.format(num_1, num_2, add_result))\n",
    "\n",
    "sub_result = subtract(num_1, num_2)\n",
    "logger.debug('Sub: {} - {} = {}'.format(num_1, num_2, sub_result))\n",
    "\n",
    "mul_result = multiply(num_1, num_2)\n",
    "logger.debug('Mul: {} * {} = {}'.format(num_1, num_2, mul_result))\n",
    "\n",
    "div_result = divide(num_1, num_2)\n",
    "logger.debug('Div: {} / {} = {}'.format(num_1, num_2, div_result))"
   ]
  },
  {
   "cell_type": "code",
   "execution_count": null,
   "metadata": {},
   "outputs": [],
   "source": []
  }
 ],
 "metadata": {
  "kernelspec": {
   "display_name": "Python 3",
   "language": "python",
   "name": "python3"
  },
  "language_info": {
   "codemirror_mode": {
    "name": "ipython",
    "version": 3
   },
   "file_extension": ".py",
   "mimetype": "text/x-python",
   "name": "python",
   "nbconvert_exporter": "python",
   "pygments_lexer": "ipython3",
   "version": "3.8.1-final"
  }
 },
 "nbformat": 4,
 "nbformat_minor": 2
}