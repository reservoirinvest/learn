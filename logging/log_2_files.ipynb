{
 "cells": [
  {
   "cell_type": "markdown",
   "metadata": {},
   "source": [
    "# Logs\n",
    "In this notebook we will experiment with different ways of logging in Python.\n",
    "\n",
    "A python program and its modules can be logged by many loggers. If no logger is specified and the logging module is called, the logging defaults to a `root` logger with `basicConfig`.\n",
    "\n",
    "In general logs have the following components:\n",
    "* [formatter](https://docs.python.org/3/library/logging.html#formatter-objects) - which formats the logs\n",
    "  * format details can be found under [LogRecord attributes](https://docs.python.org/3/library/logging.html#logrecord-attributes)\n",
    "* [handler](https://docs.python.org/3/library/logging.html#handler-objects) - which handles the logs - to either stream or a file\n",
    "  * handlers can be formatted by attaching an appropriate formatter\n",
    "* [filter](https://docs.python.org/3/library/logging.html#filter-objects) - a function / class that can be attached to handler(s) to suppress certain logs\n",
    "* [level](https://docs.python.org/3/library/logging.html#logging-levels) - can be DEBUG, INFO, WARNING, CRITICAL and FATAL - as a standard\n",
    "  * a level can be set to a handler\n",
    "  * the levels of these handlers should be greater than the root's level for the logger to log\n",
    "\n",
    "Loggers can be programmed within a python file or can use an external configuration file - which could be either in `dictionary` or `yaml` format.\n",
    "\n",
    "Let us play with all these.\n"
   ]
  },
  {
   "cell_type": "markdown",
   "metadata": {},
   "source": [
    "## Log to 2 files with a filter\n",
    "\n",
    "Let us assume that we want our single program to log to console and two files - msg.log and all.log as follows:\n",
    "* console - logs INFO and above, provided it does not contain the words 'no-console' in the message\n",
    "* msg.log - logs INFO and above messages\n",
    "* all.log - logs DEBUG and above messages"
   ]
  },
  {
   "cell_type": "code",
   "execution_count": null,
   "metadata": {},
   "outputs": [],
   "source": [
    "import logging\n",
    "\n",
    "logger = logging.getLogger(__name__)"
   ]
  },
  {
   "cell_type": "markdown",
   "metadata": {},
   "source": [
    "Loggers are never instantiated directly. The module level function `logging.getLogger(name)` is always to be used.\n",
    "\n",
    "By using `__name__` instead of a string, `main` for root or the name of the imported module is used for the log."
   ]
  },
  {
   "cell_type": "code",
   "execution_count": null,
   "metadata": {},
   "outputs": [],
   "source": [
    "logger.setLevel(logging.DEBUG) # it is important to set this to the lowest level required"
   ]
  },
  {
   "cell_type": "markdown",
   "metadata": {},
   "source": [
    "Next we will prepare a common format for the log"
   ]
  },
  {
   "cell_type": "code",
   "execution_count": null,
   "metadata": {},
   "outputs": [],
   "source": [
    "fmt = logging.Formatter(\"%(asctime)-15s %(name)-5s %(levelname)-8s %(message)s\")"
   ]
  },
  {
   "cell_type": "markdown",
   "metadata": {},
   "source": [
    "Next we will prepare a filter for the console log and instantiate it."
   ]
  },
  {
   "cell_type": "code",
   "execution_count": null,
   "metadata": {},
   "outputs": [],
   "source": [
    "class noConsoleFilter(logging.Filter):\n",
    "    def filter(self, record):\n",
    "        return not (record.levelname == 'INFO') & ('no-console' in record.msg)\n",
    "f = noConsoleFilter()\n"
   ]
  },
  {
   "cell_type": "markdown",
   "metadata": {},
   "source": [
    "And then we will set up the handlers, set its level and add filter for console only"
   ]
  },
  {
   "cell_type": "code",
   "execution_count": null,
   "metadata": {},
   "outputs": [],
   "source": [
    "# Set up the console handler\n",
    "ch = logging.StreamHandler() # create a console handler\n",
    "ch.setLevel(logging.INFO) # Set its level\n",
    "ch.setFormatter(fmt) # Set its format\n",
    "ch.addFilter(f) # add the filter\n",
    "\n",
    "# Set up the message file handler\n",
    "fh_msg = logging.FileHandler(filename='./msg.log') # put the path\n",
    "# Set msg.log's level, format and filter similar to console\n",
    "fh_msg.setLevel(ch.level)\n",
    "fh_msg.setFormatter(ch.formatter)\n",
    "\n",
    "# Set up the all file handler\n",
    "fh_all = logging.FileHandler(filename='./all.log') # put the path\n",
    "fh_all.setFormatter(fmt) # set its format"
   ]
  },
  {
   "cell_type": "markdown",
   "metadata": {},
   "source": [
    "...and lastly we will associate the handlers to the logger"
   ]
  },
  {
   "cell_type": "code",
   "execution_count": null,
   "metadata": {},
   "outputs": [],
   "source": [
    "logger.addHandler(ch)  # to console\n",
    "logger.addHandler(fh_msg) # to msg.log\n",
    "logger.addHandler(fh_all) # to all.log"
   ]
  },
  {
   "cell_type": "markdown",
   "metadata": {},
   "source": [
    "Let us check the code..."
   ]
  },
  {
   "cell_type": "code",
   "execution_count": null,
   "metadata": {},
   "outputs": [],
   "source": [
    "if __name__ == \"__main__\":\n",
    "    logger.warning(\"Warning message from main for Console, Msg and All logs\")\n",
    "    logger.info(\"Info message from main. Should log to Console, Msg and All logs\")\n",
    "    logger.info(\"no-console Info. Only for Msg and All logs\")\n",
    "    logger.debug(\"Debug. Should log only to all.log\")"
   ]
  },
  {
   "cell_type": "markdown",
   "metadata": {},
   "source": [
    "## Log to 2 files with filter and YAML config\n",
    "\n",
    "Let us now try to configure the same through `log2file.yml`. We will configure a different log called `yml_logger` to test out."
   ]
  },
  {
   "cell_type": "code",
   "execution_count": null,
   "metadata": {},
   "outputs": [],
   "source": [
    "import logging\n",
    "from setupLogging import setupLogging\n",
    "\n",
    "setupLogging()\n",
    "yml_logger = logging.getLogger(__name__)\n",
    "yml_logger.info(\"Logger set :D\")\n"
   ]
  },
  {
   "cell_type": "code",
   "execution_count": null,
   "metadata": {},
   "outputs": [],
   "source": []
  }
 ],
 "metadata": {
  "language_info": {
   "codemirror_mode": {
    "name": "ipython",
    "version": 3
   },
   "file_extension": ".py",
   "mimetype": "text/x-python",
   "name": "python",
   "nbconvert_exporter": "python",
   "pygments_lexer": "ipython3",
   "version": "3.8.1-final"
  },
  "orig_nbformat": 2,
  "kernelspec": {
   "name": "python38132bit2115ca79f6634adbad3a74c57c1d7c04",
   "display_name": "Python 3.8.1 32-bit"
  }
 },
 "nbformat": 4,
 "nbformat_minor": 2
}