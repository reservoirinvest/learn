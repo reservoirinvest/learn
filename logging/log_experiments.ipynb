{
 "cells": [
  {
   "cell_type": "markdown",
   "metadata": {},
   "source": [
    "# Logging python modules\n",
    "Ref: \n",
    "[electricmonk.nl](https://www.electricmonk.nl/log/2017/08/06/understanding-pythons-logging-module/) for best practice    \n",
    "[realphython.com](https://realpython.com/python-logging/) and \n",
    "[loggly](https://www.loggly.com/use-cases/6-python-logging-best-practices-you-should-be-aware-of/) for basics ...   \n",
    "\n"
   ]
  },
  {
   "cell_type": "code",
   "execution_count": null,
   "metadata": {},
   "outputs": [],
   "source": [
    "import logging\n",
    "import yaml\n",
    "\n",
    "with open('./logs/log.yml', 'r') as f:\n",
    "    config = yaml.safe_load(f.read())\n",
    "    logging.config.dictConfig(config)\n",
    "\n",
    "# initiate a new logger\n",
    "logger = logging.getLogger(__name__)"
   ]
  },
  {
   "cell_type": "code",
   "execution_count": null,
   "metadata": {},
   "outputs": [],
   "source": [
    "# print the log status\n",
    "print(f'\\nLogging level is: {logging.getLevelName(logger.getEffectiveLevel())}')\n",
    "logger.debug('This is a debug message from config')\n",
    "logger.info('This is a info log from config')"
   ]
  },
  {
   "cell_type": "code",
   "execution_count": null,
   "metadata": {},
   "outputs": [],
   "source": [
    "# Changing logging levels to INFO\n",
    "logger.setLevel(logging.INFO)\n",
    "print(f'\\nLogging level is: {logging.getLevelName(logger.getEffectiveLevel())}')\n",
    "logger.info(f'This info message after changing log levels will be in console and file')\n",
    "logger.debug('This debug message will not appear in the file, as the level has become higher!')"
   ]
  },
  {
   "cell_type": "code",
   "execution_count": null,
   "metadata": {},
   "outputs": [],
   "source": [
    "# Changing logging levels back to DEBUG\n",
    "logger.setLevel(logging.DEBUG)\n",
    "print(f'\\nLogging level is: {logging.getLevelName(logger.getEffectiveLevel())}')\n",
    "logger.info(f'This info message after changing log levels will be in console and file')\n",
    "logger.debug('This debug message will appear in the file, as the level has gone back lower')"
   ]
  },
  {
   "attachments": {},
   "cell_type": "markdown",
   "metadata": {},
   "source": [
    "# Using ib_insyc \n",
    "`util.logToFile` and `util.logToConsole`\n",
    "**Note:** After instantiating `util.logToConsole` or `util.logToFile`...   \n",
    "use logging.info/debug to directly send file messages to log. "
   ]
  },
  {
   "cell_type": "code",
   "execution_count": null,
   "metadata": {},
   "outputs": [],
   "source": [
    "from ib_insync import util\n",
    "import logging\n",
    "\n",
    "import sys\n",
    "import os\n",
    "\n",
    "sys.path.append(\"C:/Users/kashi/python/learn/logging\")"
   ]
  },
  {
   "cell_type": "code",
   "execution_count": null,
   "metadata": {},
   "outputs": [],
   "source": [
    "# log to console\n",
    "util.logToConsole(level=logging.DEBUG)\n",
    "\n",
    "logging.info('This is an insynch info message')\n",
    "logging.debug('This is an insynch debug message')"
   ]
  },
  {
   "cell_type": "code",
   "execution_count": null,
   "metadata": {},
   "outputs": [],
   "source": [
    "# log to file\n",
    "log_file_path = './logs/log.log'\n",
    "\n",
    "# try:\n",
    "#     os.remove(log_file_path)\n",
    "# except OSError:\n",
    "#     pass\n",
    "\n",
    "import contextlib\n",
    "\n",
    "with contextlib.suppress(FileNotFoundError, PermissionError):\n",
    "    os.remove(log_file_path)\n",
    "\n",
    "util.logToFile(log_file_path, level=logging.FATAL)\n",
    "logging.fatal(\"!!! FATAL !!!\")"
   ]
  }
 ],
 "metadata": {
  "kernelspec": {
   "display_name": ".venv",
   "language": "python",
   "name": "python3"
  },
  "language_info": {
   "codemirror_mode": {
    "name": "ipython",
    "version": 3
   },
   "file_extension": ".py",
   "mimetype": "text/x-python",
   "name": "python",
   "nbconvert_exporter": "python",
   "pygments_lexer": "ipython3",
   "version": "3.10.4"
  },
  "orig_nbformat": 4,
  "vscode": {
   "interpreter": {
    "hash": "00403e1792ba6e19de3eac9bb51d5f470bfdc19926f02e4e8552091730f28375"
   }
  }
 },
 "nbformat": 4,
 "nbformat_minor": 2
}
