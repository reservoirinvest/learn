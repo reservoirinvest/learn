{
 "cells": [
  {
   "cell_type": "markdown",
   "metadata": {},
   "source": [
    "# Distribution plot"
   ]
  },
  {
   "cell_type": "markdown",
   "metadata": {},
   "source": [
    "## Setting up the plotly library"
   ]
  },
  {
   "cell_type": "code",
   "execution_count": 1,
   "metadata": {},
   "outputs": [],
   "source": [
    "# Importing high-level chart objects\n",
    "import plotly.graph_objects as go\n",
    "import plotly.io as pio\n",
    "pio.renderers.default = 'iframe'\n",
    "\n",
    "# Importing the figure factory\n",
    "import plotly.figure_factory as ff\n",
    "\n",
    "# This should not be used for new installations !!!\n",
    "from plotly.offline import iplot "
   ]
  },
  {
   "cell_type": "markdown",
   "metadata": {},
   "source": [
    "## Creating data point values"
   ]
  },
  {
   "cell_type": "code",
   "execution_count": 2,
   "metadata": {},
   "outputs": [],
   "source": [
    "# Import the random module\n",
    "import random\n",
    "\n",
    "# Import the numerical python library\n",
    "import numpy as np\n",
    "\n",
    "# Seed the pseudo-random generator\n",
    "np.random.seed(1234)\n",
    "\n",
    "age = np.random.uniform(low = 21, high = 75, size = 1000)\n",
    "salary = np.random.normal(loc = 3000, scale = 1000, size = 1000)\n",
    "binary_gender = random.choices([\"female\", \"male\"], k = 1000);\n",
    "\n",
    "# Import pandas\n",
    "import pandas as pd\n",
    "\n",
    "# Create dataframe\n",
    "df = pd.DataFrame({\"Age\":age, \"Salary\":salary, \"Gender\":binary_gender})\n",
    "\n",
    "# Gender-based sub-dataframes\n",
    "female = df[df.Gender == \"female\"]\n",
    "male = df[df.Gender == \"male\"]"
   ]
  },
  {
   "cell_type": "code",
   "execution_count": 3,
   "metadata": {},
   "outputs": [
    {
     "data": {
      "text/html": [
       "<div>\n",
       "<style scoped>\n",
       "    .dataframe tbody tr th:only-of-type {\n",
       "        vertical-align: middle;\n",
       "    }\n",
       "\n",
       "    .dataframe tbody tr th {\n",
       "        vertical-align: top;\n",
       "    }\n",
       "\n",
       "    .dataframe thead th {\n",
       "        text-align: right;\n",
       "    }\n",
       "</style>\n",
       "<table border=\"1\" class=\"dataframe\">\n",
       "  <thead>\n",
       "    <tr style=\"text-align: right;\">\n",
       "      <th></th>\n",
       "      <th>Age</th>\n",
       "      <th>Salary</th>\n",
       "      <th>Gender</th>\n",
       "    </tr>\n",
       "  </thead>\n",
       "  <tbody>\n",
       "    <tr>\n",
       "      <th>1</th>\n",
       "      <td>54.593874</td>\n",
       "      <td>2842.556015</td>\n",
       "      <td>female</td>\n",
       "    </tr>\n",
       "    <tr>\n",
       "      <th>4</th>\n",
       "      <td>63.118694</td>\n",
       "      <td>3312.536292</td>\n",
       "      <td>female</td>\n",
       "    </tr>\n",
       "    <tr>\n",
       "      <th>6</th>\n",
       "      <td>35.929070</td>\n",
       "      <td>2211.528125</td>\n",
       "      <td>female</td>\n",
       "    </tr>\n",
       "    <tr>\n",
       "      <th>7</th>\n",
       "      <td>64.301098</td>\n",
       "      <td>2934.159666</td>\n",
       "      <td>female</td>\n",
       "    </tr>\n",
       "    <tr>\n",
       "      <th>12</th>\n",
       "      <td>57.906998</td>\n",
       "      <td>3693.118522</td>\n",
       "      <td>female</td>\n",
       "    </tr>\n",
       "  </tbody>\n",
       "</table>\n",
       "</div>"
      ],
      "text/plain": [
       "          Age       Salary  Gender\n",
       "1   54.593874  2842.556015  female\n",
       "4   63.118694  3312.536292  female\n",
       "6   35.929070  2211.528125  female\n",
       "7   64.301098  2934.159666  female\n",
       "12  57.906998  3693.118522  female"
      ]
     },
     "execution_count": 3,
     "metadata": {},
     "output_type": "execute_result"
    }
   ],
   "source": [
    "# First five rows of female sub-dataframe\n",
    "female.head()"
   ]
  },
  {
   "cell_type": "code",
   "execution_count": 4,
   "metadata": {},
   "outputs": [
    {
     "data": {
      "text/html": [
       "<div>\n",
       "<style scoped>\n",
       "    .dataframe tbody tr th:only-of-type {\n",
       "        vertical-align: middle;\n",
       "    }\n",
       "\n",
       "    .dataframe tbody tr th {\n",
       "        vertical-align: top;\n",
       "    }\n",
       "\n",
       "    .dataframe thead th {\n",
       "        text-align: right;\n",
       "    }\n",
       "</style>\n",
       "<table border=\"1\" class=\"dataframe\">\n",
       "  <thead>\n",
       "    <tr style=\"text-align: right;\">\n",
       "      <th></th>\n",
       "      <th>Age</th>\n",
       "      <th>Salary</th>\n",
       "      <th>Gender</th>\n",
       "    </tr>\n",
       "  </thead>\n",
       "  <tbody>\n",
       "    <tr>\n",
       "      <th>983</th>\n",
       "      <td>58.949884</td>\n",
       "      <td>1923.147291</td>\n",
       "      <td>male</td>\n",
       "    </tr>\n",
       "    <tr>\n",
       "      <th>984</th>\n",
       "      <td>43.793867</td>\n",
       "      <td>2092.053420</td>\n",
       "      <td>male</td>\n",
       "    </tr>\n",
       "    <tr>\n",
       "      <th>985</th>\n",
       "      <td>67.619007</td>\n",
       "      <td>3956.433621</td>\n",
       "      <td>male</td>\n",
       "    </tr>\n",
       "    <tr>\n",
       "      <th>996</th>\n",
       "      <td>71.987047</td>\n",
       "      <td>4154.716938</td>\n",
       "      <td>male</td>\n",
       "    </tr>\n",
       "    <tr>\n",
       "      <th>998</th>\n",
       "      <td>48.991173</td>\n",
       "      <td>2036.368347</td>\n",
       "      <td>male</td>\n",
       "    </tr>\n",
       "  </tbody>\n",
       "</table>\n",
       "</div>"
      ],
      "text/plain": [
       "           Age       Salary Gender\n",
       "983  58.949884  1923.147291   male\n",
       "984  43.793867  2092.053420   male\n",
       "985  67.619007  3956.433621   male\n",
       "996  71.987047  4154.716938   male\n",
       "998  48.991173  2036.368347   male"
      ]
     },
     "execution_count": 4,
     "metadata": {},
     "output_type": "execute_result"
    }
   ],
   "source": [
    "# last five rows of male sub-dataframe\n",
    "male.tail()"
   ]
  },
  {
   "cell_type": "markdown",
   "metadata": {},
   "source": [
    "## Bare-bones distribution plot"
   ]
  },
  {
   "cell_type": "code",
   "execution_count": 5,
   "metadata": {},
   "outputs": [
    {
     "data": {
      "text/html": [
       "<iframe\n",
       "    scrolling=\"no\"\n",
       "    width=\"100%\"\n",
       "    height=\"545px\"\n",
       "    src=\"iframe_figures/figure_5.html\"\n",
       "    frameborder=\"0\"\n",
       "    allowfullscreen\n",
       "></iframe>\n"
      ]
     },
     "metadata": {},
     "output_type": "display_data"
    }
   ],
   "source": [
    "fig = ff.create_distplot(hist_data = [df.Salary.values.tolist()],\n",
    "                         group_labels = [\"Salary distribution\"],\n",
    "                        bin_size = [200])\n",
    "\n",
    "pio.show(fig)"
   ]
  },
  {
   "cell_type": "markdown",
   "metadata": {},
   "source": [
    "## Adding a title"
   ]
  },
  {
   "cell_type": "code",
   "execution_count": 6,
   "metadata": {},
   "outputs": [
    {
     "data": {
      "text/html": [
       "<iframe\n",
       "    scrolling=\"no\"\n",
       "    width=\"100%\"\n",
       "    height=\"545px\"\n",
       "    src=\"iframe_figures/figure_6.html\"\n",
       "    frameborder=\"0\"\n",
       "    allowfullscreen\n",
       "></iframe>\n"
      ]
     },
     "metadata": {},
     "output_type": "display_data"
    }
   ],
   "source": [
    "fig = ff.create_distplot(hist_data = [df.Salary.values.tolist()],\n",
    "                         group_labels = [\"Salary distribution\"],\n",
    "                        bin_size = [200])\n",
    "\n",
    "fig[\"layout\"].update(title = \"Salary distribution\")\n",
    "\n",
    "# iplot(fig)\n",
    "pio.show(fig)"
   ]
  },
  {
   "cell_type": "markdown",
   "metadata": {},
   "source": [
    "## Distribution plot of two datasets"
   ]
  },
  {
   "cell_type": "code",
   "execution_count": 7,
   "metadata": {},
   "outputs": [
    {
     "data": {
      "text/html": [
       "<iframe\n",
       "    scrolling=\"no\"\n",
       "    width=\"100%\"\n",
       "    height=\"545px\"\n",
       "    src=\"iframe_figures/figure_7.html\"\n",
       "    frameborder=\"0\"\n",
       "    allowfullscreen\n",
       "></iframe>\n"
      ]
     },
     "metadata": {},
     "output_type": "display_data"
    }
   ],
   "source": [
    "hist_data = [female.Salary.values.tolist(), male.Salary.values.tolist()]\n",
    "group_labels = [\"Female salary\", \"Male salary\"]\n",
    "\n",
    "fig = ff.create_distplot(hist_data, group_labels,\n",
    "                        bin_size = [200, 200])\n",
    "\n",
    "# iplot(fig)\n",
    "pio.show(fig)"
   ]
  },
  {
   "cell_type": "markdown",
   "metadata": {},
   "source": [
    "## Changing colors"
   ]
  },
  {
   "cell_type": "code",
   "execution_count": 8,
   "metadata": {},
   "outputs": [
    {
     "data": {
      "text/html": [
       "<iframe\n",
       "    scrolling=\"no\"\n",
       "    width=\"100%\"\n",
       "    height=\"545px\"\n",
       "    src=\"iframe_figures/figure_8.html\"\n",
       "    frameborder=\"0\"\n",
       "    allowfullscreen\n",
       "></iframe>\n"
      ]
     },
     "metadata": {},
     "output_type": "display_data"
    }
   ],
   "source": [
    "hist_data = [female.Salary.values.tolist(), male.Salary.values.tolist()]\n",
    "group_labels = [\"Female salary\", \"Male salary\"]\n",
    "\n",
    "fig = ff.create_distplot(hist_data,\n",
    "                         group_labels,\n",
    "                         bin_size = [200, 200],\n",
    "                         colors = [\"rgba(20,20,20,0.8)\", \"rgba(150,150,150,0.8)\"])\n",
    "\n",
    "# iplot(fig)\n",
    "pio.show(fig)"
   ]
  },
  {
   "cell_type": "markdown",
   "metadata": {},
   "source": [
    "## Normal curve"
   ]
  },
  {
   "cell_type": "code",
   "execution_count": 9,
   "metadata": {},
   "outputs": [
    {
     "data": {
      "text/html": [
       "<iframe\n",
       "    scrolling=\"no\"\n",
       "    width=\"100%\"\n",
       "    height=\"545px\"\n",
       "    src=\"iframe_figures/figure_9.html\"\n",
       "    frameborder=\"0\"\n",
       "    allowfullscreen\n",
       "></iframe>\n"
      ]
     },
     "metadata": {},
     "output_type": "display_data"
    }
   ],
   "source": [
    "hist_data = [female.Salary.values.tolist(), male.Salary.values.tolist()]\n",
    "group_labels = [\"Female salary\", \"Male salary\"]\n",
    "\n",
    "fig = ff.create_distplot(hist_data,\n",
    "                         group_labels,\n",
    "                         bin_size = [200, 200],\n",
    "                        curve_type = \"normal\")\n",
    "\n",
    "fig.layout.update({\"title\":\"Fitted normal curve\"})\n",
    "\n",
    "# iplot(fig)\n",
    "pio.show(fig)"
   ]
  },
  {
   "cell_type": "markdown",
   "metadata": {},
   "source": [
    "## Omit the histogram and rug plot"
   ]
  },
  {
   "cell_type": "code",
   "execution_count": 10,
   "metadata": {},
   "outputs": [
    {
     "data": {
      "text/html": [
       "<iframe\n",
       "    scrolling=\"no\"\n",
       "    width=\"100%\"\n",
       "    height=\"545px\"\n",
       "    src=\"iframe_figures/figure_10.html\"\n",
       "    frameborder=\"0\"\n",
       "    allowfullscreen\n",
       "></iframe>\n"
      ]
     },
     "metadata": {},
     "output_type": "display_data"
    }
   ],
   "source": [
    "hist_data = [female.Salary.values.tolist(), male.Salary.values.tolist()]\n",
    "group_labels = [\"Female salary\", \"Male salary\"]\n",
    "\n",
    "fig = ff.create_distplot(hist_data,\n",
    "                         group_labels,\n",
    "                         bin_size = [200, 200],\n",
    "                         curve_type = \"normal\",\n",
    "                        show_hist = False,\n",
    "                        show_rug = False)\n",
    "\n",
    "fig.layout.update({\"title\":\"Fitted normal curve without histogram or rug plot\",\n",
    "                  \"xaxis\":{\"title\":\"Salary\", \"domain\":[0,1]}})\n",
    "\n",
    "# iplot(fig)\n",
    "pio.show(fig)"
   ]
  }
 ],
 "metadata": {
  "kernelspec": {
   "display_name": "Python 3 (ipykernel)",
   "language": "python",
   "name": "python3"
  },
  "language_info": {
   "codemirror_mode": {
    "name": "ipython",
    "version": 3
   },
   "file_extension": ".py",
   "mimetype": "text/x-python",
   "name": "python",
   "nbconvert_exporter": "python",
   "pygments_lexer": "ipython3",
   "version": "3.10.4"
  }
 },
 "nbformat": 4,
 "nbformat_minor": 4
}
