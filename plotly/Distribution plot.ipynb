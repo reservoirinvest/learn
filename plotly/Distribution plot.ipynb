{
 "cells": [
  {
   "cell_type": "markdown",
   "metadata": {},
   "source": [
    "# Distribution plot"
   ]
  },
  {
   "cell_type": "markdown",
   "metadata": {},
   "source": [
    "## Setting up the plotly library"
   ]
  },
  {
   "cell_type": "code",
   "execution_count": null,
   "metadata": {},
   "outputs": [],
   "source": [
    "# Importing high-level chart objects\n",
    "import plotly.graph_objects as go\n",
    "import plotly.io as pio\n",
    "pio.renderers.default = 'notebook'\n",
    "\n",
    "# Importing the figure factory\n",
    "import plotly.figure_factory as ff\n",
    "\n",
    "# This should not be used for new installations !!!\n",
    "from plotly.offline import iplot "
   ]
  },
  {
   "cell_type": "markdown",
   "metadata": {},
   "source": [
    "## Creating data point values"
   ]
  },
  {
   "cell_type": "code",
   "execution_count": null,
   "metadata": {},
   "outputs": [],
   "source": [
    "# Import the random module\n",
    "import random\n",
    "\n",
    "# Import the numerical python library\n",
    "import numpy as np\n",
    "\n",
    "# Seed the pseudo-random generator\n",
    "np.random.seed(1234)\n",
    "\n",
    "age = np.random.uniform(low = 21, high = 75, size = 1000)\n",
    "salary = np.random.normal(loc = 3000, scale = 1000, size = 1000)\n",
    "binary_gender = random.choices([\"female\", \"male\"], k = 1000);\n",
    "\n",
    "# Import pandas\n",
    "import pandas as pd\n",
    "\n",
    "# Create dataframe\n",
    "df = pd.DataFrame({\"Age\":age, \"Salary\":salary, \"Gender\":binary_gender})\n",
    "\n",
    "# Gender-based sub-dataframes\n",
    "female = df[df.Gender == \"female\"]\n",
    "male = df[df.Gender == \"male\"]"
   ]
  },
  {
   "cell_type": "code",
   "execution_count": null,
   "metadata": {},
   "outputs": [],
   "source": [
    "# First five rows of female sub-dataframe\n",
    "female.head()"
   ]
  },
  {
   "cell_type": "code",
   "execution_count": null,
   "metadata": {},
   "outputs": [],
   "source": [
    "# last five rows of male sub-dataframe\n",
    "male.tail()"
   ]
  },
  {
   "cell_type": "markdown",
   "metadata": {},
   "source": [
    "## Bare-bones distribution plot"
   ]
  },
  {
   "cell_type": "code",
   "execution_count": null,
   "metadata": {},
   "outputs": [],
   "source": [
    "fig = ff.create_distplot(hist_data = [df.Salary.values.tolist()],\n",
    "                         group_labels = [\"Salary distribution\"],\n",
    "                        bin_size = [200])\n",
    "\n",
    "pio.show(fig)"
   ]
  },
  {
   "cell_type": "markdown",
   "metadata": {},
   "source": [
    "## Adding a title"
   ]
  },
  {
   "cell_type": "code",
   "execution_count": null,
   "metadata": {},
   "outputs": [],
   "source": [
    "fig = ff.create_distplot(hist_data = [df.Salary.values.tolist()],\n",
    "                         group_labels = [\"Salary distribution\"],\n",
    "                        bin_size = [200])\n",
    "\n",
    "fig[\"layout\"].update(title = \"Salary distribution\")\n",
    "\n",
    "# iplot(fig)\n",
    "pio.show(fig)"
   ]
  },
  {
   "cell_type": "markdown",
   "metadata": {},
   "source": [
    "## Distribution plot of two datasets"
   ]
  },
  {
   "cell_type": "code",
   "execution_count": null,
   "metadata": {},
   "outputs": [],
   "source": [
    "hist_data = [female.Salary.values.tolist(), male.Salary.values.tolist()]\n",
    "group_labels = [\"Female salary\", \"Male salary\"]\n",
    "\n",
    "fig = ff.create_distplot(hist_data, group_labels,\n",
    "                        bin_size = [200, 200])\n",
    "\n",
    "# iplot(fig)\n",
    "pio.show(fig)"
   ]
  },
  {
   "cell_type": "markdown",
   "metadata": {},
   "source": [
    "## Changing colors"
   ]
  },
  {
   "cell_type": "code",
   "execution_count": null,
   "metadata": {},
   "outputs": [],
   "source": [
    "hist_data = [female.Salary.values.tolist(), male.Salary.values.tolist()]\n",
    "group_labels = [\"Female salary\", \"Male salary\"]\n",
    "\n",
    "fig = ff.create_distplot(hist_data,\n",
    "                         group_labels,\n",
    "                         bin_size = [200, 200],\n",
    "                         colors = [\"rgba(20,20,20,0.8)\", \"rgba(150,150,150,0.8)\"])\n",
    "\n",
    "# iplot(fig)\n",
    "pio.show(fig)"
   ]
  },
  {
   "cell_type": "markdown",
   "metadata": {},
   "source": [
    "## Normal curve"
   ]
  },
  {
   "cell_type": "code",
   "execution_count": null,
   "metadata": {},
   "outputs": [],
   "source": [
    "hist_data = [female.Salary.values.tolist(), male.Salary.values.tolist()]\n",
    "group_labels = [\"Female salary\", \"Male salary\"]\n",
    "\n",
    "fig = ff.create_distplot(hist_data,\n",
    "                         group_labels,\n",
    "                         bin_size = [200, 200],\n",
    "                        curve_type = \"normal\")\n",
    "\n",
    "fig.layout.update({\"title\":\"Fitted normal curve\"})\n",
    "\n",
    "# iplot(fig)\n",
    "pio.show(fig)"
   ]
  },
  {
   "cell_type": "markdown",
   "metadata": {},
   "source": [
    "## Omit the histogram and rug plot"
   ]
  },
  {
   "cell_type": "code",
   "execution_count": null,
   "metadata": {},
   "outputs": [],
   "source": [
    "hist_data = [female.Salary.values.tolist(), male.Salary.values.tolist()]\n",
    "group_labels = [\"Female salary\", \"Male salary\"]\n",
    "\n",
    "fig = ff.create_distplot(hist_data,\n",
    "                         group_labels,\n",
    "                         bin_size = [200, 200],\n",
    "                         curve_type = \"normal\",\n",
    "                        show_hist = False,\n",
    "                        show_rug = False)\n",
    "\n",
    "fig.layout.update({\"title\":\"Fitted normal curve without histogram or rug plot\",\n",
    "                  \"xaxis\":{\"title\":\"Salary\", \"domain\":[0,1]}})\n",
    "\n",
    "# iplot(fig)\n",
    "pio.show(fig)"
   ]
  },
  {
   "cell_type": "code",
   "execution_count": null,
   "metadata": {},
   "outputs": [],
   "source": []
  }
 ],
 "metadata": {
  "kernelspec": {
   "display_name": "Python 3",
   "language": "python",
   "name": "python3"
  },
  "language_info": {
   "codemirror_mode": {
    "name": "ipython",
    "version": 3
   },
   "file_extension": ".py",
   "mimetype": "text/x-python",
   "name": "python",
   "nbconvert_exporter": "python",
   "pygments_lexer": "ipython3",
   "version": "3.8.6"
  }
 },
 "nbformat": 4,
 "nbformat_minor": 4
}