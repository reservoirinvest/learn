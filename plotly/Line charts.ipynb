{
 "cells": [
  {
   "cell_type": "markdown",
   "metadata": {},
   "source": [
    "# Line charts"
   ]
  },
  {
   "cell_type": "markdown",
   "metadata": {},
   "source": [
    "## Setting up the plotly library"
   ]
  },
  {
   "cell_type": "code",
   "execution_count": 1,
   "metadata": {},
   "outputs": [],
   "source": [
    "# Importing high-level chart objects\n",
    "import plotly.graph_objects as go\n",
    "import plotly.io as pio\n",
    "pio.renderers.default = 'iframe'"
   ]
  },
  {
   "cell_type": "markdown",
   "metadata": {},
   "source": [
    "## Creating data point values"
   ]
  },
  {
   "cell_type": "code",
   "execution_count": 2,
   "metadata": {},
   "outputs": [],
   "source": [
    "days = [\"Monday\", \"Tuesday\", \"Wednesday\", \"Thursday\", \"Friday\", \"Saturday\", \"Sunday\"]\n",
    "sales = [11, 14, 11, 14, 10, 11, 10]"
   ]
  },
  {
   "cell_type": "markdown",
   "metadata": {},
   "source": [
    "## Simple line"
   ]
  },
  {
   "cell_type": "code",
   "execution_count": 3,
   "metadata": {},
   "outputs": [
    {
     "data": {
      "text/html": [
       "<iframe\n",
       "    scrolling=\"no\"\n",
       "    width=\"100%\"\n",
       "    height=\"545px\"\n",
       "    src=\"iframe_figures/figure_3.html\"\n",
       "    frameborder=\"0\"\n",
       "    allowfullscreen\n",
       "></iframe>\n"
      ]
     },
     "metadata": {},
     "output_type": "display_data"
    }
   ],
   "source": [
    "trace = go.Scatter(x = days,\n",
    "                   y = sales,\n",
    "                  mode = \"lines\")\n",
    "\n",
    "data = [trace]\n",
    "\n",
    "# iplot({\"data\":data}) # old way of doing things in Jupyter Notebook!\n",
    "pio.show({\"data\": data})"
   ]
  },
  {
   "cell_type": "markdown",
   "metadata": {},
   "source": [
    "## Filling"
   ]
  },
  {
   "cell_type": "code",
   "execution_count": 4,
   "metadata": {},
   "outputs": [
    {
     "data": {
      "text/html": [
       "<iframe\n",
       "    scrolling=\"no\"\n",
       "    width=\"100%\"\n",
       "    height=\"545px\"\n",
       "    src=\"iframe_figures/figure_4.html\"\n",
       "    frameborder=\"0\"\n",
       "    allowfullscreen\n",
       "></iframe>\n"
      ]
     },
     "metadata": {},
     "output_type": "display_data"
    }
   ],
   "source": [
    "trace = go.Scatter(x = days,\n",
    "                   y = sales,\n",
    "                   fill = \"tozerox\",\n",
    "                   fillcolor = \"#1f77b4\",\n",
    "                  mode = \"lines\")\n",
    "\n",
    "data = [trace]\n",
    "\n",
    "# iplot({\"data\":data}) # old way of doing things in Jupyter Notebook!\n",
    "pio.show({\"data\": data})"
   ]
  },
  {
   "cell_type": "markdown",
   "metadata": {},
   "source": [
    "## Line types"
   ]
  },
  {
   "cell_type": "markdown",
   "metadata": {},
   "source": [
    "Options for line type are: `dash`, `dot`, and `dashdot`"
   ]
  },
  {
   "cell_type": "code",
   "execution_count": 5,
   "metadata": {},
   "outputs": [
    {
     "data": {
      "text/html": [
       "<iframe\n",
       "    scrolling=\"no\"\n",
       "    width=\"100%\"\n",
       "    height=\"545px\"\n",
       "    src=\"iframe_figures/figure_5.html\"\n",
       "    frameborder=\"0\"\n",
       "    allowfullscreen\n",
       "></iframe>\n"
      ]
     },
     "metadata": {},
     "output_type": "display_data"
    }
   ],
   "source": [
    "# Line thickness and type\n",
    "trace = go.Scatter(x = days,\n",
    "                   y = sales,\n",
    "                  mode = \"lines\",\n",
    "                  line = dict(color = \"rgba(255, 70, 0, 0.9)\",\n",
    "                             width = 4,\n",
    "                             dash = \"dash\"))\n",
    "\n",
    "data = [trace]\n",
    "\n",
    "layout = {\"xaxis\":{\"zeroline\":False}}\n",
    "\n",
    "# iplot({\"data\":data}) # old way of doing things in Jupyter Notebook!\n",
    "pio.show({\"data\": data, 'layout':layout})"
   ]
  },
  {
   "cell_type": "markdown",
   "metadata": {},
   "source": [
    "## Line with markers"
   ]
  },
  {
   "cell_type": "code",
   "execution_count": 6,
   "metadata": {},
   "outputs": [
    {
     "data": {
      "text/html": [
       "<iframe\n",
       "    scrolling=\"no\"\n",
       "    width=\"100%\"\n",
       "    height=\"545px\"\n",
       "    src=\"iframe_figures/figure_6.html\"\n",
       "    frameborder=\"0\"\n",
       "    allowfullscreen\n",
       "></iframe>\n"
      ]
     },
     "metadata": {},
     "output_type": "display_data"
    }
   ],
   "source": [
    "trace = go.Scatter(x = days,\n",
    "                   y = sales,\n",
    "                  mode = \"lines+markers\",\n",
    "                  marker = dict(size = 16))\n",
    "\n",
    "data = [trace]\n",
    "\n",
    "layout = {\"title\":\"Sales for <i>last week</i>\", \"xaxis\":{\"zeroline\":False}}\n",
    "\n",
    "# iplot({\"data\":data}) # old way of doing things in Jupyter Notebook!\n",
    "pio.show({\"data\": data, 'layout':layout})"
   ]
  },
  {
   "cell_type": "markdown",
   "metadata": {},
   "source": [
    "## Interpolation"
   ]
  },
  {
   "cell_type": "markdown",
   "metadata": {},
   "source": [
    "### Spline"
   ]
  },
  {
   "cell_type": "code",
   "execution_count": 7,
   "metadata": {},
   "outputs": [
    {
     "data": {
      "text/html": [
       "<iframe\n",
       "    scrolling=\"no\"\n",
       "    width=\"100%\"\n",
       "    height=\"545px\"\n",
       "    src=\"iframe_figures/figure_7.html\"\n",
       "    frameborder=\"0\"\n",
       "    allowfullscreen\n",
       "></iframe>\n"
      ]
     },
     "metadata": {},
     "output_type": "display_data"
    }
   ],
   "source": [
    "trace = go.Scatter(x = days,\n",
    "                   y = sales,\n",
    "                  mode = \"lines+markers\",\n",
    "                  marker = dict(size = 16),\n",
    "                  line = dict(shape = \"spline\"))\n",
    "\n",
    "data = [trace]\n",
    "\n",
    "layout = {\"title\":\"Sales for <i>last week</i>\", \"xaxis\":{\"zeroline\":False}}\n",
    "\n",
    "# iplot({\"data\":data}) # old way of doing things in Jupyter Notebook!\n",
    "pio.show({\"data\": data, 'layout':layout})"
   ]
  },
  {
   "cell_type": "markdown",
   "metadata": {},
   "source": [
    "### Vertical horizontal"
   ]
  },
  {
   "cell_type": "code",
   "execution_count": 8,
   "metadata": {},
   "outputs": [
    {
     "data": {
      "text/html": [
       "<iframe\n",
       "    scrolling=\"no\"\n",
       "    width=\"100%\"\n",
       "    height=\"545px\"\n",
       "    src=\"iframe_figures/figure_8.html\"\n",
       "    frameborder=\"0\"\n",
       "    allowfullscreen\n",
       "></iframe>\n"
      ]
     },
     "metadata": {},
     "output_type": "display_data"
    }
   ],
   "source": [
    "trace = go.Scatter(x = days,\n",
    "                   y = sales,\n",
    "                  mode = \"lines+markers\",\n",
    "                  marker = dict(size = 16),\n",
    "                  line = dict(shape = \"vh\"))\n",
    "\n",
    "data = [trace]\n",
    "\n",
    "layout = {\"title\":\"Sales for <i>last week</i>\", \"xaxis\":{\"zeroline\":False}}\n",
    "\n",
    "# iplot({\"data\":data}) # old way of doing things in Jupyter Notebook!\n",
    "pio.show({\"data\": data, 'layout':layout})"
   ]
  },
  {
   "cell_type": "markdown",
   "metadata": {},
   "source": [
    "### Horizontal vertical"
   ]
  },
  {
   "cell_type": "code",
   "execution_count": 9,
   "metadata": {},
   "outputs": [
    {
     "data": {
      "text/html": [
       "<iframe\n",
       "    scrolling=\"no\"\n",
       "    width=\"100%\"\n",
       "    height=\"545px\"\n",
       "    src=\"iframe_figures/figure_9.html\"\n",
       "    frameborder=\"0\"\n",
       "    allowfullscreen\n",
       "></iframe>\n"
      ]
     },
     "metadata": {},
     "output_type": "display_data"
    }
   ],
   "source": [
    "trace = go.Scatter(x = days,\n",
    "                   y = sales,\n",
    "                  mode = \"lines+markers\",\n",
    "                  marker = dict(size = 16),\n",
    "                  line = dict(shape = \"hv\"))\n",
    "\n",
    "data = [trace]\n",
    "\n",
    "layout = {\"title\":\"Sales for <i>last week</i>\", \"xaxis\":{\"zeroline\":False}}\n",
    "\n",
    "# iplot({\"data\":data}) # old way of doing things in Jupyter Notebook!\n",
    "pio.show({\"data\": data, 'layout':layout})"
   ]
  },
  {
   "cell_type": "markdown",
   "metadata": {},
   "source": [
    "### Fillings gaps"
   ]
  },
  {
   "cell_type": "code",
   "execution_count": 10,
   "metadata": {},
   "outputs": [
    {
     "data": {
      "text/html": [
       "<iframe\n",
       "    scrolling=\"no\"\n",
       "    width=\"100%\"\n",
       "    height=\"545px\"\n",
       "    src=\"iframe_figures/figure_10.html\"\n",
       "    frameborder=\"0\"\n",
       "    allowfullscreen\n",
       "></iframe>\n"
      ]
     },
     "metadata": {},
     "output_type": "display_data"
    }
   ],
   "source": [
    "sales[3] = None\n",
    "\n",
    "trace = go.Scatter(x = days,\n",
    "                   y = sales,\n",
    "                  mode = \"lines+markers\",\n",
    "                  marker = dict(size = 16))\n",
    "\n",
    "data = [trace]\n",
    "\n",
    "layout = {\"title\":\"Sales for <i>last week</i>\", \"xaxis\":{\"zeroline\":False}}\n",
    "\n",
    "# iplot({\"data\":data}) # old way of doing things in Jupyter Notebook!\n",
    "pio.show({\"data\": data, 'layout':layout})"
   ]
  },
  {
   "cell_type": "code",
   "execution_count": 11,
   "metadata": {},
   "outputs": [
    {
     "data": {
      "text/html": [
       "<iframe\n",
       "    scrolling=\"no\"\n",
       "    width=\"100%\"\n",
       "    height=\"545px\"\n",
       "    src=\"iframe_figures/figure_11.html\"\n",
       "    frameborder=\"0\"\n",
       "    allowfullscreen\n",
       "></iframe>\n"
      ]
     },
     "metadata": {},
     "output_type": "display_data"
    }
   ],
   "source": [
    "trace = go.Scatter(x = days,\n",
    "                   y = sales,\n",
    "                  mode = \"lines+markers\",\n",
    "                  marker = dict(size = 16),\n",
    "                  connectgaps = True)\n",
    "\n",
    "data = [trace]\n",
    "\n",
    "layout = {\"title\":\"Sales for <i>last week</i>\", \"xaxis\":{\"zeroline\":False}}\n",
    "\n",
    "# iplot({\"data\":data}) # old way of doing things in Jupyter Notebook!\n",
    "pio.show({\"data\": data, 'layout':layout})"
   ]
  }
 ],
 "metadata": {
  "kernelspec": {
   "display_name": ".venv",
   "language": "python",
   "name": ".venv"
  },
  "language_info": {
   "codemirror_mode": {
    "name": "ipython",
    "version": 3
   },
   "file_extension": ".py",
   "mimetype": "text/x-python",
   "name": "python",
   "nbconvert_exporter": "python",
   "pygments_lexer": "ipython3",
   "version": "3.10.4"
  }
 },
 "nbformat": 4,
 "nbformat_minor": 4
}
