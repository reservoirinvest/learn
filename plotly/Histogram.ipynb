{
 "cells": [
  {
   "cell_type": "markdown",
   "metadata": {},
   "source": [
    "# The histogram"
   ]
  },
  {
   "cell_type": "markdown",
   "metadata": {},
   "source": [
    "## Setting up the plotly library"
   ]
  },
  {
   "cell_type": "code",
   "execution_count": 1,
   "metadata": {},
   "outputs": [],
   "source": [
    "# Importing high-level chart objects\n",
    "import plotly.graph_objects as go\n",
    "import plotly.io as pio\n",
    "# pio.renderers.default = 'notebook'\n",
    "pio.renderers.default = 'iframe'"
   ]
  },
  {
   "cell_type": "markdown",
   "metadata": {},
   "source": [
    "## Creating data point values for a numerical variable"
   ]
  },
  {
   "cell_type": "code",
   "execution_count": 2,
   "metadata": {},
   "outputs": [],
   "source": [
    "# Import the random module\n",
    "import random"
   ]
  },
  {
   "cell_type": "code",
   "execution_count": 3,
   "metadata": {},
   "outputs": [],
   "source": [
    "# Import the numerical python library\n",
    "import numpy as np"
   ]
  },
  {
   "cell_type": "code",
   "execution_count": 4,
   "metadata": {},
   "outputs": [],
   "source": [
    "# Seed the pseudo-random generator\n",
    "np.random.seed(1234)"
   ]
  },
  {
   "cell_type": "code",
   "execution_count": 5,
   "metadata": {},
   "outputs": [],
   "source": [
    "age = np.random.uniform(low = 21, high = 75, size = 100)\n",
    "salary = np.random.normal(loc = 3000, scale = 1000, size = 100)\n",
    "binary_gender = random.choices([\"female\", \"male\"], k = 100);"
   ]
  },
  {
   "cell_type": "code",
   "execution_count": 6,
   "metadata": {},
   "outputs": [],
   "source": [
    "# Import pandas\n",
    "import pandas as pd"
   ]
  },
  {
   "cell_type": "code",
   "execution_count": 7,
   "metadata": {},
   "outputs": [],
   "source": [
    "# Create dataframe\n",
    "df = pd.DataFrame({\"Age\":age, \"Salary\":salary, \"Gender\":binary_gender})"
   ]
  },
  {
   "cell_type": "code",
   "execution_count": 8,
   "metadata": {},
   "outputs": [],
   "source": [
    "# Gender-based sub-dataframes\n",
    "female = df[df.Gender == \"female\"]\n",
    "male = df[df.Gender == \"male\"]"
   ]
  },
  {
   "cell_type": "markdown",
   "metadata": {},
   "source": [
    "## Bare-bones histogram"
   ]
  },
  {
   "cell_type": "code",
   "execution_count": 9,
   "metadata": {},
   "outputs": [
    {
     "data": {
      "text/plain": [
       "array([31.34205032, 54.59387364, 44.63729791, 63.40936352, 63.11869364,\n",
       "       35.72000069, 35.92906978, 64.30109759, 72.7395251 , 68.30036228])"
      ]
     },
     "execution_count": 9,
     "metadata": {},
     "output_type": "execute_result"
    }
   ],
   "source": [
    "age[:10]"
   ]
  },
  {
   "cell_type": "code",
   "execution_count": 10,
   "metadata": {},
   "outputs": [
    {
     "data": {
      "text/html": [
       "<iframe\n",
       "    scrolling=\"no\"\n",
       "    width=\"100%\"\n",
       "    height=\"545px\"\n",
       "    src=\"iframe_figures/figure_10.html\"\n",
       "    frameborder=\"0\"\n",
       "    allowfullscreen\n",
       "></iframe>\n"
      ]
     },
     "metadata": {},
     "output_type": "display_data"
    }
   ],
   "source": [
    "trace = go.Histogram(x = age)\n",
    "\n",
    "data = [trace]\n",
    "\n",
    "# iplot({\"data\":data}) # old way of doing things in Jupyter Notebook!\n",
    "pio.show({\"data\": data})"
   ]
  },
  {
   "cell_type": "markdown",
   "metadata": {},
   "source": [
    "## Frequency distribution (normalized histogram)"
   ]
  },
  {
   "cell_type": "code",
   "execution_count": 11,
   "metadata": {},
   "outputs": [
    {
     "data": {
      "text/html": [
       "<iframe\n",
       "    scrolling=\"no\"\n",
       "    width=\"100%\"\n",
       "    height=\"545px\"\n",
       "    src=\"iframe_figures/figure_11.html\"\n",
       "    frameborder=\"0\"\n",
       "    allowfullscreen\n",
       "></iframe>\n"
      ]
     },
     "metadata": {},
     "output_type": "display_data"
    }
   ],
   "source": [
    "trace = go.Histogram(x = age,\n",
    "                    histnorm  = \"probability\")\n",
    "\n",
    "data = [trace]\n",
    "\n",
    "layout = {\"title\":\"Frequency distribution of age\",\n",
    "         \"xaxis\":{\"title\":\"Age in 5-year increments\"}}\n",
    "\n",
    "# iplot({\"data\":data}) # old way of doing things in Jupyter Notebook!\n",
    "pio.show({\"data\": data, 'layout':layout})"
   ]
  },
  {
   "cell_type": "markdown",
   "metadata": {},
   "source": [
    "## Two datasets"
   ]
  },
  {
   "cell_type": "markdown",
   "metadata": {},
   "source": [
    "### Overlay"
   ]
  },
  {
   "cell_type": "code",
   "execution_count": 12,
   "metadata": {},
   "outputs": [
    {
     "data": {
      "text/html": [
       "<iframe\n",
       "    scrolling=\"no\"\n",
       "    width=\"100%\"\n",
       "    height=\"545px\"\n",
       "    src=\"iframe_figures/figure_12.html\"\n",
       "    frameborder=\"0\"\n",
       "    allowfullscreen\n",
       "></iframe>\n"
      ]
     },
     "metadata": {},
     "output_type": "display_data"
    }
   ],
   "source": [
    "trace0 = go.Histogram(x = female.Age,\n",
    "                     name = \"Female age\")\n",
    "\n",
    "trace1 = go.Histogram(x = male.Age,\n",
    "                     name = \"Male age\",\n",
    "                     opacity = 0.8)\n",
    "\n",
    "data = [trace0, trace1]\n",
    "\n",
    "layout = {\"title\":\"Age by gender\",\n",
    "         \"xaxis\":{\"title\":\"Age in 10-year increments\"},\n",
    "         \"barmode\":\"overlay\"}\n",
    "\n",
    "# iplot({\"data\":data}) # old way of doing things in Jupyter Notebook!\n",
    "pio.show({\"data\": data, 'layout':layout})"
   ]
  },
  {
   "cell_type": "markdown",
   "metadata": {},
   "source": [
    "### Stack"
   ]
  },
  {
   "cell_type": "code",
   "execution_count": 13,
   "metadata": {},
   "outputs": [
    {
     "data": {
      "text/html": [
       "<iframe\n",
       "    scrolling=\"no\"\n",
       "    width=\"100%\"\n",
       "    height=\"545px\"\n",
       "    src=\"iframe_figures/figure_13.html\"\n",
       "    frameborder=\"0\"\n",
       "    allowfullscreen\n",
       "></iframe>\n"
      ]
     },
     "metadata": {},
     "output_type": "display_data"
    }
   ],
   "source": [
    "trace0 = go.Histogram(x = female.Age,\n",
    "                     name = \"Female age\")\n",
    "\n",
    "trace1 = go.Histogram(x = male.Age,\n",
    "                     name = \"Male age\")\n",
    "\n",
    "data = [trace0, trace1]\n",
    "\n",
    "layout = {\"title\":\"Age by gender\",\n",
    "         \"xaxis\":{\"title\":\"Age in 10-year increments\"},\n",
    "         \"barmode\":\"stack\"}\n",
    "\n",
    "# iplot({\"data\":data}) # old way of doing things in Jupyter Notebook!\n",
    "pio.show({\"data\": data, 'layout':layout})"
   ]
  },
  {
   "cell_type": "markdown",
   "metadata": {},
   "source": [
    "## Bin size"
   ]
  },
  {
   "cell_type": "code",
   "execution_count": 14,
   "metadata": {},
   "outputs": [
    {
     "data": {
      "text/html": [
       "<iframe\n",
       "    scrolling=\"no\"\n",
       "    width=\"100%\"\n",
       "    height=\"545px\"\n",
       "    src=\"iframe_figures/figure_14.html\"\n",
       "    frameborder=\"0\"\n",
       "    allowfullscreen\n",
       "></iframe>\n"
      ]
     },
     "metadata": {},
     "output_type": "display_data"
    }
   ],
   "source": [
    "trace0 = go.Histogram(x = female.Age,\n",
    "                     name = \"Female age\",\n",
    "                     xbins = dict(start = 20, end = 80, size = 5))\n",
    "\n",
    "trace1 = go.Histogram(x = male.Age,\n",
    "                     name = \"Male age\",\n",
    "                     xbins = dict(start = 20, end = 80, size = 5))\n",
    "\n",
    "data = [trace0, trace1]\n",
    "\n",
    "layout = {\"title\":\"Age by gender\",\n",
    "         \"xaxis\":{\"title\":\"Age in 5-year increments\"},\n",
    "         \"barmode\":\"stack\"}\n",
    "\n",
    "# iplot({\"data\":data}) # old way of doing things in Jupyter Notebook!\n",
    "pio.show({\"data\": data, 'layout':layout})"
   ]
  },
  {
   "cell_type": "code",
   "execution_count": 15,
   "metadata": {},
   "outputs": [
    {
     "data": {
      "text/html": [
       "<iframe\n",
       "    scrolling=\"no\"\n",
       "    width=\"100%\"\n",
       "    height=\"545px\"\n",
       "    src=\"iframe_figures/figure_15.html\"\n",
       "    frameborder=\"0\"\n",
       "    allowfullscreen\n",
       "></iframe>\n"
      ]
     },
     "metadata": {},
     "output_type": "display_data"
    }
   ],
   "source": [
    "trace0 = go.Histogram(x = female.Salary,\n",
    "                     name = \"Female salary\",\n",
    "                     xbins = dict(start = 500, end = 5500, size = 200))\n",
    "\n",
    "trace1 = go.Histogram(x = male.Salary,\n",
    "                     name = \"Male salay\",\n",
    "                     xbins = dict(start = 500, end = 5500, size = 200))\n",
    "\n",
    "data = [trace0, trace1]\n",
    "\n",
    "layout = {\"title\":\"Salary by gender\",\n",
    "         \"xaxis\":{\"title\":\"Salary in 200 euro increments\"},\n",
    "         \"barmode\":\"stack\"}\n",
    "\n",
    "# iplot({\"data\":data}) # old way of doing things in Jupyter Notebook!\n",
    "pio.show({\"data\": data, 'layout':layout})"
   ]
  },
  {
   "cell_type": "markdown",
   "metadata": {},
   "source": [
    "## Cumulative histogram"
   ]
  },
  {
   "cell_type": "code",
   "execution_count": 16,
   "metadata": {},
   "outputs": [
    {
     "data": {
      "text/html": [
       "<iframe\n",
       "    scrolling=\"no\"\n",
       "    width=\"100%\"\n",
       "    height=\"545px\"\n",
       "    src=\"iframe_figures/figure_16.html\"\n",
       "    frameborder=\"0\"\n",
       "    allowfullscreen\n",
       "></iframe>\n"
      ]
     },
     "metadata": {},
     "output_type": "display_data"
    }
   ],
   "source": [
    "trace = go.Histogram(x = df.Salary,\n",
    "                    cumulative = dict(enabled = True))\n",
    "\n",
    "data = [trace]\n",
    "\n",
    "layout = {\"title\":\"Cumulative histogram\"}\n",
    "\n",
    "# iplot({\"data\":data}) # old way of doing things in Jupyter Notebook!\n",
    "pio.show({\"data\": data, 'layout':layout})"
   ]
  }
 ],
 "metadata": {
  "kernelspec": {
   "display_name": "Python 3 (ipykernel)",
   "language": "python",
   "name": "python3"
  },
  "language_info": {
   "codemirror_mode": {
    "name": "ipython",
    "version": 3
   },
   "file_extension": ".py",
   "mimetype": "text/x-python",
   "name": "python",
   "nbconvert_exporter": "python",
   "pygments_lexer": "ipython3",
   "version": "3.10.4"
  }
 },
 "nbformat": 4,
 "nbformat_minor": 4
}
