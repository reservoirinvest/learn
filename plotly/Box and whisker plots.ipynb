{
 "cells": [
  {
   "cell_type": "markdown",
   "metadata": {},
   "source": [
    "# Box-and-whisker plots"
   ]
  },
  {
   "cell_type": "code",
   "execution_count": 1,
   "metadata": {},
   "outputs": [],
   "source": [
    "# Importing high-level chart objects\n",
    "import plotly.graph_objects as go\n",
    "import plotly.io as pio\n",
    "pio.renderers.default = 'jupyterlab'\n",
    "\n",
    "# Importing the figure factory\n",
    "import plotly.figure_factory as ff"
   ]
  },
  {
   "cell_type": "markdown",
   "metadata": {},
   "source": [
    "## Creating data point values"
   ]
  },
  {
   "cell_type": "code",
   "execution_count": 2,
   "metadata": {},
   "outputs": [],
   "source": [
    "# Import numerical python library\n",
    "import numpy as np"
   ]
  },
  {
   "cell_type": "code",
   "execution_count": 3,
   "metadata": {},
   "outputs": [],
   "source": [
    "# Seed pseudo-random number generator\n",
    "np.random.seed(1234)"
   ]
  },
  {
   "cell_type": "code",
   "execution_count": 4,
   "metadata": {},
   "outputs": [],
   "source": [
    "group_a = np.random.normal(loc = 100, scale = 10, size = 500)\n",
    "group_b = np.random.normal(loc = 110, scale = 15, size = 500)\n",
    "control_group = np.random.normal(loc = 105, scale = 20, size = 500)"
   ]
  },
  {
   "cell_type": "markdown",
   "metadata": {},
   "source": [
    "## Simple box plot"
   ]
  },
  {
   "cell_type": "code",
   "execution_count": 5,
   "metadata": {},
   "outputs": [
    {
     "data": {
      "application/vnd.plotly.v1+json": {
       "config": {
        "plotlyServerURL": "https://plot.ly"
       },
       "data": [
        {
         "type": "box",
         "y": [
          104.71435163732492,
          88.09024305293535,
          114.32706968426098,
          96.87348103908288,
          92.79411266634989,
          108.87162940307738,
          108.59588413717417,
          93.63476495582651,
          100.1569637211443,
          77.57315045814595,
          111.50035724719818,
          109.91946022342678,
          109.5332412811243,
          79.7874517980503,
          96.65922634191904,
          100.02118364683487,
          104.05453411570191,
          102.89091940980035,
          113.21158192129386,
          84.5309444677076,
          97.97353675370817,
          93.44030655861066,
          101.93421376470359,
          105.53438910956741,
          113.18151554180136,
          95.306947152941,
          106.75554085122381,
          81.82972773409803,
          98.16891459821001,
          110.58969187571151,
          96.02159771800008,
          103.37437653613972,
          110.47578572892722,
          110.45938255627665,
          108.63717291684839,
          98.77908425152326,
          101.24712953768216,
          96.77205194391705,
          108.41674712996142,
          123.90960515463033,
          100.76199587837236,
          94.33554069535043,
          100.36141936684072,
          79.25022399309971,
          102.47792199748547,
          91.02843215560301,
          98.63205166738652,
          100.1828919134922,
          107.55413982398136,
          102.15268580969443,
          108.4100879493139,
          85.54189922955693,
          85.98026718499156,
          98.99081800051086,
          94.51757550813144,
          98.55380491630616,
          103.54020332199238,
          99.64486974721859,
          105.65738306062595,
          115.45658804625558,
          90.25763666232685,
          99.29655122895898,
          103.07968855216035,
          97.9150123689412,
          110.338007325555,
          75.99546366187704,
          120.306036208388,
          88.57368710977237,
          102.11883386777701,
          107.04720624317109,
          92.14564788236802,
          104.62059737162049,
          107.04228225462174,
          105.23507967893809,
          90.73745686469775,
          120.07842950778,
          102.26962541870896,
          88.47340890749048,
          106.3197944580913,
          100.39512686693367,
          104.64392325050896,
          64.36483339375265,
          113.21105615470206,
          101.52630552204535,
          101.64529542932398,
          95.69904309123513,
          107.67368735752412,
          109.84919841909897,
          102.70835848826803,
          113.91986193446408,
          100.79842313008629,
          96.00035419303478,
          89.72149441318095,
          94.15281788739212,
          108.16593926547841,
          99.18052948173334,
          96.55233985745356,
          105.28288145297394,
          89.31011216519867,
          94.88118690873185,
          102.91205359743063,
          105.66533696353572,
          105.03591759111202,
          102.85295684781858,
          104.8428811274975,
          113.63481512426145,
          92.18894716374608,
          95.31982333662515,
          112.24574355126174,
          87.18891724855958,
          108.75475504274324,
          82.89284675970471,
          95.49234896863726,
          107.49163805919065,
          97.96067133898748,
          98.17824588334265,
          106.80656004381457,
          81.81501009608385,
          100.47071635325712,
          103.94844209327205,
          97.51567945619153,
          93.82293352002984,
          93.17116003550666,
          104.36257604340916,
          82.96987225886762,
          103.93710599138666,
          95.20675996424502,
          97.0098370703392,
          106.94103287678765,
          106.78629673709857,
          102.39555995003897,
          101.5122662929445,
          108.16127233360041,
          118.935344675962,
          106.39632763193703,
          90.37971168094809,
          79.14734357879891,
          119.30246767465576,
          82.64651125529608,
          112.10383704904514,
          107.97435419427873,
          96.20189215952621,
          107.025622240016,
          91.49653728344884,
          111.76812450104929,
          94.75663897367544,
          107.00907730915604,
          109.84188070722415,
          98.7827159133318,
          123.65768628840038,
          104.96142926247595,
          107.96594866664952,
          95.25979109874315,
          99.4330428350907,
          113.57797258107058,
          91.95166275833296,
          78.7637975090707,
          96.66497559566753,
          91.13280647514623,
          103.34197930899009,
          105.3678382490275,
          92.56169632063799,
          96.7979611775912,
          90.83801138733459,
          91.4033170001826,
          102.25985486733755,
          106.28775826538295,
          101.86494348773074,
          109.52478345109122,
          109.88137582593309,
          99.27391686037325,
          94.49397076436581,
          90.61847385906896,
          87.60928437405207,
          101.39683274031295,
          97.76981018117525,
          121.23691888593552,
          101.22273434258828,
          85.90568260077231,
          114.22985952772243,
          78.52144962356391,
          86.52467486542245,
          103.63564556806648,
          99.85247888195406,
          112.7239507854621,
          85.50433391136613,
          88.0447625833303,
          94.08137026852751,
          95.8549515646781,
          85.74205266561978,
          102.09394787535923,
          94.07113996161074,
          85.26883586534353,
          91.03419384698128,
          111.04351569860313,
          95.68450484483955,
          98.38863091755941,
          108.89157494072873,
          102.88376847715266,
          89.48461062429962,
          96.80438600159769,
          93.80006912278797,
          101.56998376446688,
          94.2854464892021,
          110.57633183204614,
          92.08511190522114,
          94.75372654071529,
          100.71878039370368,
          119.10759427277182,
          107.87964683137615,
          105.13082144466992,
          94.53583719726406,
          110.43944655495324,
          121.0778515279337,
          114.59927481585294,
          110.1540545781252,
          107.49184600924198,
          93.24478521563312,
          104.4026639166873,
          106.88971856326943,
          97.23353872723013,
          119.2453332001529,
          104.11204020707224,
          108.90764956173118,
          102.26363227251707,
          79.21382106297824,
          96.12113768032825,
          99.12893030036001,
          111.26385822137273,
          102.47111716157737,
          101.21171805331541,
          102.98983935542047,
          98.42900863153348,
          92.59530977219282,
          87.52347076948767,
          102.49455215152449,
          105.81073320620607,
          127.63844079849567,
          103.99325436979576,
          106.68488169205806,
          97.24226271343694,
          105.00482900154373,
          108.63064860590625,
          89.48372140534788,
          86.07945922506913,
          111.53922240612225,
          111.81944105999231,
          103.91371448421931,
          91.1895290779843,
          102.9507995978624,
          118.63801062132504,
          82.87726075528744,
          85.92915454256774,
          101.26781186326971,
          100.03759847795496,
          87.31005743926607,
          91.6115707857971,
          105.5392125143972,
          94.95957281918037,
          92.11559815482121,
          115.29400674483931,
          102.0545485392598,
          103.1301312898086,
          108.665207121683,
          102.99070529594377,
          110.76540643846121,
          103.63177347544452,
          118.93679825551843,
          95.14247255717191,
          103.87674455777598,
          100.23557610392554,
          93.3977049795572,
          96.81315070421985,
          92.77337806325627,
          101.77386719384599,
          109.83512729343164,
          100.23504585885395,
          105.53776977863366,
          103.53769293996639,
          97.24406366232317,
          95.09516408521318,
          96.2556339980722,
          76.02496023861184,
          115.41029983277939,
          100.63084538957305,
          97.15559316073707,
          87.3439946239879,
          117.8797963245575,
          96.45491291930625,
          98.95238876932896,
          103.86253689189053,
          108.22775373765373,
          93.16210177568992,
          110.57203331214129,
          100.31879973569032,
          113.43182457528941,
          99.49460310451228,
          96.35990043692891,
          84.4665766056894,
          96.80702198179839,
          105.27046450954964,
          107.11112399364823,
          97.82454519509524,
          126.37791210703864,
          82.57862369405035,
          99.05565192258555,
          114.31183752254563,
          105.92758446550668,
          101.70296895326288,
          82.48294052207976,
          102.88581322343208,
          94.5742048309322,
          101.71602381985996,
          109.82817829243105,
          99.74651097937232,
          97.12447550715892,
          109.24442867343366,
          99.38753700133685,
          92.68966657414794,
          89.77226295304857,
          109.95992970245753,
          109.55557932627455,
          107.13840771195044,
          101.33370962194122,
          91.92961691527186,
          96.57989218120785,
          119.08779658091186,
          101.55923261453127,
          107.59652532092963,
          95.76993771580752,
          101.81672745323682,
          102.74492570746403,
          100.67912357380757,
          99.6301718512408,
          98.29198969302378,
          102.66973231539868,
          113.82997248852925,
          99.77539126488574,
          101.31395367225915,
          104.34437185102232,
          102.64534068316999,
          105.65658344273825,
          105.85084279501724,
          98.25701847247913,
          89.2863132854491,
          99.51539497447617,
          91.54709610433757,
          104.1510055838158,
          104.25530591397859,
          90.19275642499414,
          95.72173890027979,
          114.98569955138537,
          96.39843429130973,
          95.41759610662507,
          86.62031598049029,
          99.58613460385128,
          108.21047956107915,
          120.97800780771692,
          112.82933246874524,
          102.70337925739372,
          110.03140362044931,
          110.78673551320406,
          103.40752685129765,
          98.01925040376432,
          124.81458422875653,
          113.85254876189207,
          88.45399034610331,
          87.31930949622918,
          106.07862186209479,
          89.19903516842409,
          93.88718325204238,
          101.02035112292332,
          85.63426063227881,
          102.10717052505655,
          91.03095829302488,
          82.75606921008168,
          117.92339196646942,
          86.87287293407769,
          105.55877426385625,
          93.1811869450887,
          115.72742745755804,
          98.95348425152234,
          118.50397801609901,
          96.666495732506,
          101.93464233819873,
          95.03255062135091,
          110.32723215735861,
          82.60196202477441,
          92.44137824377091,
          91.18888267352065,
          103.93892262912675,
          90.49974465203717,
          103.32506622162249,
          105.28944408856047,
          88.79479006007276,
          100.48264206925657,
          100.61988450521777,
          89.72484326782133,
          97.61664634532674,
          119.32178169581346,
          97.73367706323164,
          90.76169279823077,
          103.5583899747282,
          87.29936521613712,
          98.04527587303241,
          95.36580600782537,
          109.8941484728585,
          113.88647381631716,
          110.87713736524141,
          104.38801263034391,
          90.38397759118764,
          112.45609937147846,
          105.02925517670631,
          93.6860122162148,
          92.9574795291174,
          97.59517463241657,
          105.85599310929858,
          103.52800560108406,
          81.84442307567915,
          90.89876154304858,
          92.5147204666094,
          98.91875073519736,
          102.74778837052168,
          102.37349764509425,
          97.40156305636611,
          96.875578228436,
          104.48509742512407,
          99.40468035295599,
          95.29985186602214,
          103.49566771627666,
          89.72531152826387,
          96.93361516130389,
          114.06176139494268,
          87.50303227205647,
          84.39851111114767,
          115.57397650649023,
          94.06643605023513,
          98.297114876705,
          116.72626808454706,
          94.59200192350124,
          93.15871671233415,
          105.99962085981993,
          97.82800874855361,
          103.31526518352153,
          96.16635419849172,
          92.18183911926889,
          102.66237406827837,
          102.79428024532737,
          87.8037430482623,
          92.76051083244495,
          82.65221692456066,
          102.71660784374025,
          100.9911201694909,
          96.36910093562742,
          94.1177327171148,
          100.25941713524132,
          94.27697649254841,
          111.05586962797162,
          87.91984407170352,
          86.60298960025085,
          120.75185406731782,
          85.1059029866899,
          88.49046934374036,
          104.19059824673965,
          104.13405276424496,
          107.17576932588283,
          102.61724839679904,
          97.57228728899638,
          94.98731867248333,
          93.01871021031145,
          113.84580160839074,
          97.13574586064244,
          105.00069585028226,
          119.51103236540061,
          97.21632538406992,
          100.3678625863071,
          104.45852506261001,
          85.89649242319331,
          104.50001300695475,
          105.15479530793898,
          88.45916059617397,
          86.19826604928161,
          95.04166994786837,
          95.86720927581129,
          82.80683332072451,
          99.70439097246916,
          92.33960116477171,
          100.99882076502627,
          92.86976043370255,
          77.73882379022413,
          107.25714153121955,
          109.16976283069235,
          94.36109759588744,
          84.7782044317683,
          99.85721211372437,
          97.53279193181116,
          98.34670523482721,
          101.19113982598341,
          79.25019513829952,
          89.97244782983083
         ]
        }
       ],
       "layout": {
        "autosize": true,
        "template": {
         "data": {
          "bar": [
           {
            "error_x": {
             "color": "#2a3f5f"
            },
            "error_y": {
             "color": "#2a3f5f"
            },
            "marker": {
             "line": {
              "color": "#E5ECF6",
              "width": 0.5
             }
            },
            "type": "bar"
           }
          ],
          "barpolar": [
           {
            "marker": {
             "line": {
              "color": "#E5ECF6",
              "width": 0.5
             }
            },
            "type": "barpolar"
           }
          ],
          "carpet": [
           {
            "aaxis": {
             "endlinecolor": "#2a3f5f",
             "gridcolor": "white",
             "linecolor": "white",
             "minorgridcolor": "white",
             "startlinecolor": "#2a3f5f"
            },
            "baxis": {
             "endlinecolor": "#2a3f5f",
             "gridcolor": "white",
             "linecolor": "white",
             "minorgridcolor": "white",
             "startlinecolor": "#2a3f5f"
            },
            "type": "carpet"
           }
          ],
          "choropleth": [
           {
            "colorbar": {
             "outlinewidth": 0,
             "ticks": ""
            },
            "type": "choropleth"
           }
          ],
          "contour": [
           {
            "colorbar": {
             "outlinewidth": 0,
             "ticks": ""
            },
            "colorscale": [
             [
              0,
              "#0d0887"
             ],
             [
              0.1111111111111111,
              "#46039f"
             ],
             [
              0.2222222222222222,
              "#7201a8"
             ],
             [
              0.3333333333333333,
              "#9c179e"
             ],
             [
              0.4444444444444444,
              "#bd3786"
             ],
             [
              0.5555555555555556,
              "#d8576b"
             ],
             [
              0.6666666666666666,
              "#ed7953"
             ],
             [
              0.7777777777777778,
              "#fb9f3a"
             ],
             [
              0.8888888888888888,
              "#fdca26"
             ],
             [
              1,
              "#f0f921"
             ]
            ],
            "type": "contour"
           }
          ],
          "contourcarpet": [
           {
            "colorbar": {
             "outlinewidth": 0,
             "ticks": ""
            },
            "type": "contourcarpet"
           }
          ],
          "heatmap": [
           {
            "colorbar": {
             "outlinewidth": 0,
             "ticks": ""
            },
            "colorscale": [
             [
              0,
              "#0d0887"
             ],
             [
              0.1111111111111111,
              "#46039f"
             ],
             [
              0.2222222222222222,
              "#7201a8"
             ],
             [
              0.3333333333333333,
              "#9c179e"
             ],
             [
              0.4444444444444444,
              "#bd3786"
             ],
             [
              0.5555555555555556,
              "#d8576b"
             ],
             [
              0.6666666666666666,
              "#ed7953"
             ],
             [
              0.7777777777777778,
              "#fb9f3a"
             ],
             [
              0.8888888888888888,
              "#fdca26"
             ],
             [
              1,
              "#f0f921"
             ]
            ],
            "type": "heatmap"
           }
          ],
          "heatmapgl": [
           {
            "colorbar": {
             "outlinewidth": 0,
             "ticks": ""
            },
            "colorscale": [
             [
              0,
              "#0d0887"
             ],
             [
              0.1111111111111111,
              "#46039f"
             ],
             [
              0.2222222222222222,
              "#7201a8"
             ],
             [
              0.3333333333333333,
              "#9c179e"
             ],
             [
              0.4444444444444444,
              "#bd3786"
             ],
             [
              0.5555555555555556,
              "#d8576b"
             ],
             [
              0.6666666666666666,
              "#ed7953"
             ],
             [
              0.7777777777777778,
              "#fb9f3a"
             ],
             [
              0.8888888888888888,
              "#fdca26"
             ],
             [
              1,
              "#f0f921"
             ]
            ],
            "type": "heatmapgl"
           }
          ],
          "histogram": [
           {
            "marker": {
             "colorbar": {
              "outlinewidth": 0,
              "ticks": ""
             }
            },
            "type": "histogram"
           }
          ],
          "histogram2d": [
           {
            "colorbar": {
             "outlinewidth": 0,
             "ticks": ""
            },
            "colorscale": [
             [
              0,
              "#0d0887"
             ],
             [
              0.1111111111111111,
              "#46039f"
             ],
             [
              0.2222222222222222,
              "#7201a8"
             ],
             [
              0.3333333333333333,
              "#9c179e"
             ],
             [
              0.4444444444444444,
              "#bd3786"
             ],
             [
              0.5555555555555556,
              "#d8576b"
             ],
             [
              0.6666666666666666,
              "#ed7953"
             ],
             [
              0.7777777777777778,
              "#fb9f3a"
             ],
             [
              0.8888888888888888,
              "#fdca26"
             ],
             [
              1,
              "#f0f921"
             ]
            ],
            "type": "histogram2d"
           }
          ],
          "histogram2dcontour": [
           {
            "colorbar": {
             "outlinewidth": 0,
             "ticks": ""
            },
            "colorscale": [
             [
              0,
              "#0d0887"
             ],
             [
              0.1111111111111111,
              "#46039f"
             ],
             [
              0.2222222222222222,
              "#7201a8"
             ],
             [
              0.3333333333333333,
              "#9c179e"
             ],
             [
              0.4444444444444444,
              "#bd3786"
             ],
             [
              0.5555555555555556,
              "#d8576b"
             ],
             [
              0.6666666666666666,
              "#ed7953"
             ],
             [
              0.7777777777777778,
              "#fb9f3a"
             ],
             [
              0.8888888888888888,
              "#fdca26"
             ],
             [
              1,
              "#f0f921"
             ]
            ],
            "type": "histogram2dcontour"
           }
          ],
          "mesh3d": [
           {
            "colorbar": {
             "outlinewidth": 0,
             "ticks": ""
            },
            "type": "mesh3d"
           }
          ],
          "parcoords": [
           {
            "line": {
             "colorbar": {
              "outlinewidth": 0,
              "ticks": ""
             }
            },
            "type": "parcoords"
           }
          ],
          "pie": [
           {
            "automargin": true,
            "type": "pie"
           }
          ],
          "scatter": [
           {
            "marker": {
             "colorbar": {
              "outlinewidth": 0,
              "ticks": ""
             }
            },
            "type": "scatter"
           }
          ],
          "scatter3d": [
           {
            "line": {
             "colorbar": {
              "outlinewidth": 0,
              "ticks": ""
             }
            },
            "marker": {
             "colorbar": {
              "outlinewidth": 0,
              "ticks": ""
             }
            },
            "type": "scatter3d"
           }
          ],
          "scattercarpet": [
           {
            "marker": {
             "colorbar": {
              "outlinewidth": 0,
              "ticks": ""
             }
            },
            "type": "scattercarpet"
           }
          ],
          "scattergeo": [
           {
            "marker": {
             "colorbar": {
              "outlinewidth": 0,
              "ticks": ""
             }
            },
            "type": "scattergeo"
           }
          ],
          "scattergl": [
           {
            "marker": {
             "colorbar": {
              "outlinewidth": 0,
              "ticks": ""
             }
            },
            "type": "scattergl"
           }
          ],
          "scattermapbox": [
           {
            "marker": {
             "colorbar": {
              "outlinewidth": 0,
              "ticks": ""
             }
            },
            "type": "scattermapbox"
           }
          ],
          "scatterpolar": [
           {
            "marker": {
             "colorbar": {
              "outlinewidth": 0,
              "ticks": ""
             }
            },
            "type": "scatterpolar"
           }
          ],
          "scatterpolargl": [
           {
            "marker": {
             "colorbar": {
              "outlinewidth": 0,
              "ticks": ""
             }
            },
            "type": "scatterpolargl"
           }
          ],
          "scatterternary": [
           {
            "marker": {
             "colorbar": {
              "outlinewidth": 0,
              "ticks": ""
             }
            },
            "type": "scatterternary"
           }
          ],
          "surface": [
           {
            "colorbar": {
             "outlinewidth": 0,
             "ticks": ""
            },
            "colorscale": [
             [
              0,
              "#0d0887"
             ],
             [
              0.1111111111111111,
              "#46039f"
             ],
             [
              0.2222222222222222,
              "#7201a8"
             ],
             [
              0.3333333333333333,
              "#9c179e"
             ],
             [
              0.4444444444444444,
              "#bd3786"
             ],
             [
              0.5555555555555556,
              "#d8576b"
             ],
             [
              0.6666666666666666,
              "#ed7953"
             ],
             [
              0.7777777777777778,
              "#fb9f3a"
             ],
             [
              0.8888888888888888,
              "#fdca26"
             ],
             [
              1,
              "#f0f921"
             ]
            ],
            "type": "surface"
           }
          ],
          "table": [
           {
            "cells": {
             "fill": {
              "color": "#EBF0F8"
             },
             "line": {
              "color": "white"
             }
            },
            "header": {
             "fill": {
              "color": "#C8D4E3"
             },
             "line": {
              "color": "white"
             }
            },
            "type": "table"
           }
          ]
         },
         "layout": {
          "annotationdefaults": {
           "arrowcolor": "#2a3f5f",
           "arrowhead": 0,
           "arrowwidth": 1
          },
          "coloraxis": {
           "colorbar": {
            "outlinewidth": 0,
            "ticks": ""
           }
          },
          "colorscale": {
           "diverging": [
            [
             0,
             "#8e0152"
            ],
            [
             0.1,
             "#c51b7d"
            ],
            [
             0.2,
             "#de77ae"
            ],
            [
             0.3,
             "#f1b6da"
            ],
            [
             0.4,
             "#fde0ef"
            ],
            [
             0.5,
             "#f7f7f7"
            ],
            [
             0.6,
             "#e6f5d0"
            ],
            [
             0.7,
             "#b8e186"
            ],
            [
             0.8,
             "#7fbc41"
            ],
            [
             0.9,
             "#4d9221"
            ],
            [
             1,
             "#276419"
            ]
           ],
           "sequential": [
            [
             0,
             "#0d0887"
            ],
            [
             0.1111111111111111,
             "#46039f"
            ],
            [
             0.2222222222222222,
             "#7201a8"
            ],
            [
             0.3333333333333333,
             "#9c179e"
            ],
            [
             0.4444444444444444,
             "#bd3786"
            ],
            [
             0.5555555555555556,
             "#d8576b"
            ],
            [
             0.6666666666666666,
             "#ed7953"
            ],
            [
             0.7777777777777778,
             "#fb9f3a"
            ],
            [
             0.8888888888888888,
             "#fdca26"
            ],
            [
             1,
             "#f0f921"
            ]
           ],
           "sequentialminus": [
            [
             0,
             "#0d0887"
            ],
            [
             0.1111111111111111,
             "#46039f"
            ],
            [
             0.2222222222222222,
             "#7201a8"
            ],
            [
             0.3333333333333333,
             "#9c179e"
            ],
            [
             0.4444444444444444,
             "#bd3786"
            ],
            [
             0.5555555555555556,
             "#d8576b"
            ],
            [
             0.6666666666666666,
             "#ed7953"
            ],
            [
             0.7777777777777778,
             "#fb9f3a"
            ],
            [
             0.8888888888888888,
             "#fdca26"
            ],
            [
             1,
             "#f0f921"
            ]
           ]
          },
          "colorway": [
           "#636efa",
           "#EF553B",
           "#00cc96",
           "#ab63fa",
           "#FFA15A",
           "#19d3f3",
           "#FF6692",
           "#B6E880",
           "#FF97FF",
           "#FECB52"
          ],
          "font": {
           "color": "#2a3f5f"
          },
          "geo": {
           "bgcolor": "white",
           "lakecolor": "white",
           "landcolor": "#E5ECF6",
           "showlakes": true,
           "showland": true,
           "subunitcolor": "white"
          },
          "hoverlabel": {
           "align": "left"
          },
          "hovermode": "closest",
          "mapbox": {
           "style": "light"
          },
          "paper_bgcolor": "white",
          "plot_bgcolor": "#E5ECF6",
          "polar": {
           "angularaxis": {
            "gridcolor": "white",
            "linecolor": "white",
            "ticks": ""
           },
           "bgcolor": "#E5ECF6",
           "radialaxis": {
            "gridcolor": "white",
            "linecolor": "white",
            "ticks": ""
           }
          },
          "scene": {
           "xaxis": {
            "backgroundcolor": "#E5ECF6",
            "gridcolor": "white",
            "gridwidth": 2,
            "linecolor": "white",
            "showbackground": true,
            "ticks": "",
            "zerolinecolor": "white"
           },
           "yaxis": {
            "backgroundcolor": "#E5ECF6",
            "gridcolor": "white",
            "gridwidth": 2,
            "linecolor": "white",
            "showbackground": true,
            "ticks": "",
            "zerolinecolor": "white"
           },
           "zaxis": {
            "backgroundcolor": "#E5ECF6",
            "gridcolor": "white",
            "gridwidth": 2,
            "linecolor": "white",
            "showbackground": true,
            "ticks": "",
            "zerolinecolor": "white"
           }
          },
          "shapedefaults": {
           "line": {
            "color": "#2a3f5f"
           }
          },
          "ternary": {
           "aaxis": {
            "gridcolor": "white",
            "linecolor": "white",
            "ticks": ""
           },
           "baxis": {
            "gridcolor": "white",
            "linecolor": "white",
            "ticks": ""
           },
           "bgcolor": "#E5ECF6",
           "caxis": {
            "gridcolor": "white",
            "linecolor": "white",
            "ticks": ""
           }
          },
          "title": {
           "x": 0.05
          },
          "xaxis": {
           "automargin": true,
           "gridcolor": "white",
           "linecolor": "white",
           "ticks": "",
           "title": {
            "standoff": 15
           },
           "zerolinecolor": "white",
           "zerolinewidth": 2
          },
          "yaxis": {
           "automargin": true,
           "gridcolor": "white",
           "linecolor": "white",
           "ticks": "",
           "title": {
            "standoff": 15
           },
           "zerolinecolor": "white",
           "zerolinewidth": 2
          }
         }
        },
        "xaxis": {
         "autorange": true,
         "range": [
          -0.5,
          0.5
         ],
         "type": "category"
        },
        "yaxis": {
         "autorange": true,
         "range": [
          60.84963298237803,
          131.15364120987027
         ],
         "type": "linear"
        }
       }
      },
      "image/png": "[encoded data removed]"
     },
     "metadata": {},
     "output_type": "display_data"
    }
   ],
   "source": [
    "trace = go.Box(y = group_a)\n",
    "\n",
    "data = [trace]\n",
    "\n",
    "\n",
    "# pio.show(dict(data=trace)) # Will not reneder in Github!\n",
    "pio.show({\"data\": data})"
   ]
  },
  {
   "cell_type": "markdown",
   "metadata": {},
   "source": [
    "## More than one dataset"
   ]
  },
  {
   "cell_type": "code",
   "execution_count": 6,
   "metadata": {},
   "outputs": [],
   "source": [
    "trace = []\n",
    "vals = [group_a, group_b, control_group]\n",
    "groups = [\"Group A\", \"Group B\", \"Control group\"]"
   ]
  },
  {
   "cell_type": "code",
   "execution_count": 7,
   "metadata": {},
   "outputs": [
    {
     "data": {
      "application/vnd.plotly.v1+json": {
       "config": {
        "plotlyServerURL": "https://plot.ly"
       },
       "data": [
        {
         "name": "Group A",
         "type": "box",
         "y": [
          104.71435163732492,
          88.09024305293535,
          114.32706968426098,
          96.87348103908288,
          92.79411266634989,
          108.87162940307738,
          108.59588413717417,
          93.63476495582651,
          100.1569637211443,
          77.57315045814595,
          111.50035724719818,
          109.91946022342678,
          109.5332412811243,
          79.7874517980503,
          96.65922634191904,
          100.02118364683487,
          104.05453411570191,
          102.89091940980035,
          113.21158192129386,
          84.5309444677076,
          97.97353675370817,
          93.44030655861066,
          101.93421376470359,
          105.53438910956741,
          113.18151554180136,
          95.306947152941,
          106.75554085122381,
          81.82972773409803,
          98.16891459821001,
          110.58969187571151,
          96.02159771800008,
          103.37437653613972,
          110.47578572892722,
          110.45938255627665,
          108.63717291684839,
          98.77908425152326,
          101.24712953768216,
          96.77205194391705,
          108.41674712996142,
          123.90960515463033,
          100.76199587837236,
          94.33554069535043,
          100.36141936684072,
          79.25022399309971,
          102.47792199748547,
          91.02843215560301,
          98.63205166738652,
          100.1828919134922,
          107.55413982398136,
          102.15268580969443,
          108.4100879493139,
          85.54189922955693,
          85.98026718499156,
          98.99081800051086,
          94.51757550813144,
          98.55380491630616,
          103.54020332199238,
          99.64486974721859,
          105.65738306062595,
          115.45658804625558,
          90.25763666232685,
          99.29655122895898,
          103.07968855216035,
          97.9150123689412,
          110.338007325555,
          75.99546366187704,
          120.306036208388,
          88.57368710977237,
          102.11883386777701,
          107.04720624317109,
          92.14564788236802,
          104.62059737162049,
          107.04228225462174,
          105.23507967893809,
          90.73745686469775,
          120.07842950778,
          102.26962541870896,
          88.47340890749048,
          106.3197944580913,
          100.39512686693367,
          104.64392325050896,
          64.36483339375265,
          113.21105615470206,
          101.52630552204535,
          101.64529542932398,
          95.69904309123513,
          107.67368735752412,
          109.84919841909897,
          102.70835848826803,
          113.91986193446408,
          100.79842313008629,
          96.00035419303478,
          89.72149441318095,
          94.15281788739212,
          108.16593926547841,
          99.18052948173334,
          96.55233985745356,
          105.28288145297394,
          89.31011216519867,
          94.88118690873185,
          102.91205359743063,
          105.66533696353572,
          105.03591759111202,
          102.85295684781858,
          104.8428811274975,
          113.63481512426145,
          92.18894716374608,
          95.31982333662515,
          112.24574355126174,
          87.18891724855958,
          108.75475504274324,
          82.89284675970471,
          95.49234896863726,
          107.49163805919065,
          97.96067133898748,
          98.17824588334265,
          106.80656004381457,
          81.81501009608385,
          100.47071635325712,
          103.94844209327205,
          97.51567945619153,
          93.82293352002984,
          93.17116003550666,
          104.36257604340916,
          82.96987225886762,
          103.93710599138666,
          95.20675996424502,
          97.0098370703392,
          106.94103287678765,
          106.78629673709857,
          102.39555995003897,
          101.5122662929445,
          108.16127233360041,
          118.935344675962,
          106.39632763193703,
          90.37971168094809,
          79.14734357879891,
          119.30246767465576,
          82.64651125529608,
          112.10383704904514,
          107.97435419427873,
          96.20189215952621,
          107.025622240016,
          91.49653728344884,
          111.76812450104929,
          94.75663897367544,
          107.00907730915604,
          109.84188070722415,
          98.7827159133318,
          123.65768628840038,
          104.96142926247595,
          107.96594866664952,
          95.25979109874315,
          99.4330428350907,
          113.57797258107058,
          91.95166275833296,
          78.7637975090707,
          96.66497559566753,
          91.13280647514623,
          103.34197930899009,
          105.3678382490275,
          92.56169632063799,
          96.7979611775912,
          90.83801138733459,
          91.4033170001826,
          102.25985486733755,
          106.28775826538295,
          101.86494348773074,
          109.52478345109122,
          109.88137582593309,
          99.27391686037325,
          94.49397076436581,
          90.61847385906896,
          87.60928437405207,
          101.39683274031295,
          97.76981018117525,
          121.23691888593552,
          101.22273434258828,
          85.90568260077231,
          114.22985952772243,
          78.52144962356391,
          86.52467486542245,
          103.63564556806648,
          99.85247888195406,
          112.7239507854621,
          85.50433391136613,
          88.0447625833303,
          94.08137026852751,
          95.8549515646781,
          85.74205266561978,
          102.09394787535923,
          94.07113996161074,
          85.26883586534353,
          91.03419384698128,
          111.04351569860313,
          95.68450484483955,
          98.38863091755941,
          108.89157494072873,
          102.88376847715266,
          89.48461062429962,
          96.80438600159769,
          93.80006912278797,
          101.56998376446688,
          94.2854464892021,
          110.57633183204614,
          92.08511190522114,
          94.75372654071529,
          100.71878039370368,
          119.10759427277182,
          107.87964683137615,
          105.13082144466992,
          94.53583719726406,
          110.43944655495324,
          121.0778515279337,
          114.59927481585294,
          110.1540545781252,
          107.49184600924198,
          93.24478521563312,
          104.4026639166873,
          106.88971856326943,
          97.23353872723013,
          119.2453332001529,
          104.11204020707224,
          108.90764956173118,
          102.26363227251707,
          79.21382106297824,
          96.12113768032825,
          99.12893030036001,
          111.26385822137273,
          102.47111716157737,
          101.21171805331541,
          102.98983935542047,
          98.42900863153348,
          92.59530977219282,
          87.52347076948767,
          102.49455215152449,
          105.81073320620607,
          127.63844079849567,
          103.99325436979576,
          106.68488169205806,
          97.24226271343694,
          105.00482900154373,
          108.63064860590625,
          89.48372140534788,
          86.07945922506913,
          111.53922240612225,
          111.81944105999231,
          103.91371448421931,
          91.1895290779843,
          102.9507995978624,
          118.63801062132504,
          82.87726075528744,
          85.92915454256774,
          101.26781186326971,
          100.03759847795496,
          87.31005743926607,
          91.6115707857971,
          105.5392125143972,
          94.95957281918037,
          92.11559815482121,
          115.29400674483931,
          102.0545485392598,
          103.1301312898086,
          108.665207121683,
          102.99070529594377,
          110.76540643846121,
          103.63177347544452,
          118.93679825551843,
          95.14247255717191,
          103.87674455777598,
          100.23557610392554,
          93.3977049795572,
          96.81315070421985,
          92.77337806325627,
          101.77386719384599,
          109.83512729343164,
          100.23504585885395,
          105.53776977863366,
          103.53769293996639,
          97.24406366232317,
          95.09516408521318,
          96.2556339980722,
          76.02496023861184,
          115.41029983277939,
          100.63084538957305,
          97.15559316073707,
          87.3439946239879,
          117.8797963245575,
          96.45491291930625,
          98.95238876932896,
          103.86253689189053,
          108.22775373765373,
          93.16210177568992,
          110.57203331214129,
          100.31879973569032,
          113.43182457528941,
          99.49460310451228,
          96.35990043692891,
          84.4665766056894,
          96.80702198179839,
          105.27046450954964,
          107.11112399364823,
          97.82454519509524,
          126.37791210703864,
          82.57862369405035,
          99.05565192258555,
          114.31183752254563,
          105.92758446550668,
          101.70296895326288,
          82.48294052207976,
          102.88581322343208,
          94.5742048309322,
          101.71602381985996,
          109.82817829243105,
          99.74651097937232,
          97.12447550715892,
          109.24442867343366,
          99.38753700133685,
          92.68966657414794,
          89.77226295304857,
          109.95992970245753,
          109.55557932627455,
          107.13840771195044,
          101.33370962194122,
          91.92961691527186,
          96.57989218120785,
          119.08779658091186,
          101.55923261453127,
          107.59652532092963,
          95.76993771580752,
          101.81672745323682,
          102.74492570746403,
          100.67912357380757,
          99.6301718512408,
          98.29198969302378,
          102.66973231539868,
          113.82997248852925,
          99.77539126488574,
          101.31395367225915,
          104.34437185102232,
          102.64534068316999,
          105.65658344273825,
          105.85084279501724,
          98.25701847247913,
          89.2863132854491,
          99.51539497447617,
          91.54709610433757,
          104.1510055838158,
          104.25530591397859,
          90.19275642499414,
          95.72173890027979,
          114.98569955138537,
          96.39843429130973,
          95.41759610662507,
          86.62031598049029,
          99.58613460385128,
          108.21047956107915,
          120.97800780771692,
          112.82933246874524,
          102.70337925739372,
          110.03140362044931,
          110.78673551320406,
          103.40752685129765,
          98.01925040376432,
          124.81458422875653,
          113.85254876189207,
          88.45399034610331,
          87.31930949622918,
          106.07862186209479,
          89.19903516842409,
          93.88718325204238,
          101.02035112292332,
          85.63426063227881,
          102.10717052505655,
          91.03095829302488,
          82.75606921008168,
          117.92339196646942,
          86.87287293407769,
          105.55877426385625,
          93.1811869450887,
          115.72742745755804,
          98.95348425152234,
          118.50397801609901,
          96.666495732506,
          101.93464233819873,
          95.03255062135091,
          110.32723215735861,
          82.60196202477441,
          92.44137824377091,
          91.18888267352065,
          103.93892262912675,
          90.49974465203717,
          103.32506622162249,
          105.28944408856047,
          88.79479006007276,
          100.48264206925657,
          100.61988450521777,
          89.72484326782133,
          97.61664634532674,
          119.32178169581346,
          97.73367706323164,
          90.76169279823077,
          103.5583899747282,
          87.29936521613712,
          98.04527587303241,
          95.36580600782537,
          109.8941484728585,
          113.88647381631716,
          110.87713736524141,
          104.38801263034391,
          90.38397759118764,
          112.45609937147846,
          105.02925517670631,
          93.6860122162148,
          92.9574795291174,
          97.59517463241657,
          105.85599310929858,
          103.52800560108406,
          81.84442307567915,
          90.89876154304858,
          92.5147204666094,
          98.91875073519736,
          102.74778837052168,
          102.37349764509425,
          97.40156305636611,
          96.875578228436,
          104.48509742512407,
          99.40468035295599,
          95.29985186602214,
          103.49566771627666,
          89.72531152826387,
          96.93361516130389,
          114.06176139494268,
          87.50303227205647,
          84.39851111114767,
          115.57397650649023,
          94.06643605023513,
          98.297114876705,
          116.72626808454706,
          94.59200192350124,
          93.15871671233415,
          105.99962085981993,
          97.82800874855361,
          103.31526518352153,
          96.16635419849172,
          92.18183911926889,
          102.66237406827837,
          102.79428024532737,
          87.8037430482623,
          92.76051083244495,
          82.65221692456066,
          102.71660784374025,
          100.9911201694909,
          96.36910093562742,
          94.1177327171148,
          100.25941713524132,
          94.27697649254841,
          111.05586962797162,
          87.91984407170352,
          86.60298960025085,
          120.75185406731782,
          85.1059029866899,
          88.49046934374036,
          104.19059824673965,
          104.13405276424496,
          107.17576932588283,
          102.61724839679904,
          97.57228728899638,
          94.98731867248333,
          93.01871021031145,
          113.84580160839074,
          97.13574586064244,
          105.00069585028226,
          119.51103236540061,
          97.21632538406992,
          100.3678625863071,
          104.45852506261001,
          85.89649242319331,
          104.50001300695475,
          105.15479530793898,
          88.45916059617397,
          86.19826604928161,
          95.04166994786837,
          95.86720927581129,
          82.80683332072451,
          99.70439097246916,
          92.33960116477171,
          100.99882076502627,
          92.86976043370255,
          77.73882379022413,
          107.25714153121955,
          109.16976283069235,
          94.36109759588744,
          84.7782044317683,
          99.85721211372437,
          97.53279193181116,
          98.34670523482721,
          101.19113982598341,
          79.25019513829952,
          89.97244782983083
         ]
        },
        {
         "name": "Group B",
         "type": "box",
         "y": [
          117.85319027095699,
          122.32275963498384,
          107.76887226000706,
          109.31944382061062,
          99.43260611705358,
          135.9547327925951,
          113.4339088325608,
          126.39111585936259,
          104.6964271000786,
          109.54011702594823,
          106.99742224068986,
          102.78034640964088,
          135.67138995517365,
          131.5308062937893,
          92.48719500138492,
          110.61265137149003,
          115.43027293505668,
          118.58888286564869,
          126.56690355099724,
          103.61491960219111,
          121.33533264273035,
          110.15422185732992,
          113.36878656147344,
          92.97937660147565,
          95.72718588152665,
          108.09304315886351,
          110.43416747601685,
          141.56116049943958,
          133.51271215195575,
          100.6365555081369,
          103.99033696910035,
          92.94407692686313,
          96.4526144450468,
          93.54082906371453,
          108.9303618555335,
          90.2099137002372,
          101.59860581184392,
          112.47431835550046,
          100.52621318113322,
          96.99395330655847,
          94.96155993934003,
          128.1102230486851,
          135.67980519478988,
          100.63115781047432,
          106.81781294021062,
          92.09653726588482,
          119.86378838649767,
          113.00119822328591,
          126.36889788832627,
          102.66466912589436,
          130.52330393338937,
          123.37437676290213,
          122.56349318675205,
          117.7121707008387,
          109.24925461385249,
          121.1592926924734,
          84.1392469469281,
          111.34852359909092,
          114.841093428278,
          104.34275861582665,
          109.99668652547601,
          125.75170540668832,
          107.46951331673728,
          121.96814744631745,
          118.28786469736997,
          92.70360107293729,
          134.62328283543206,
          88.41533248288636,
          140.4160927072628,
          89.52024018239504,
          111.08223293588428,
          119.19727517636966,
          132.33749639441368,
          113.31944862551931,
          87.03661837420078,
          122.02832321324726,
          103.63299930704991,
          126.78282458203796,
          133.5432209687427,
          131.41597656601454,
          89.42243190324959,
          106.00373161036705,
          121.68821847821363,
          108.45778557972478,
          101.20303067362418,
          113.60378981892575,
          95.02916511842692,
          112.86754869234807,
          95.70795467628636,
          132.0649486925751,
          120.78357382314347,
          107.50160634084637,
          121.4691694503233,
          92.15834793728209,
          101.97714104419603,
          109.67603230030025,
          93.42212612780321,
          94.16080492212596,
          125.32033488485084,
          135.6448414246981,
          110.44342927906426,
          111.85763024657356,
          114.34145085054463,
          105.4776163408018,
          116.21652516919717,
          124.24786851706673,
          117.82772813164284,
          80.46105688922242,
          117.54215041636677,
          104.6836634099936,
          103.29514277282908,
          93.24532421096345,
          98.17600426128355,
          125.83628245948795,
          90.4318818365452,
          118.09602856014193,
          115.20486875560054,
          123.11289339995824,
          86.37230956068865,
          107.60024515737574,
          100.35000145749555,
          99.26943670053058,
          135.49188395932444,
          129.2425583703005,
          103.21163500522688,
          115.90700190673742,
          116.38610915878694,
          108.04928851712607,
          104.09400250727657,
          100.3841033883777,
          112.57946382073179,
          97.39776471059982,
          122.97497462787435,
          106.92708001877807,
          108.39389998501193,
          106.36839972402922,
          96.46275837594276,
          121.96806329479446,
          105.66356318514278,
          120.15466418998633,
          104.85223949104194,
          117.30815201911767,
          121.48498037244217,
          76.99153346383821,
          71.05906404831237,
          117.1351225717477,
          86.0767153215165,
          93.3488490250094,
          95.02390256722362,
          75.86290096180007,
          133.29210811799805,
          92.76051846988526,
          112.8279594289646,
          124.83445674630472,
          86.20795545060568,
          102.91428686684354,
          107.16730478186386,
          113.16690620492606,
          134.17583438683846,
          118.50095662719845,
          100.38234119801922,
          133.0816091174001,
          114.6449597884243,
          103.26726979471958,
          136.53650855468842,
          114.02300731945657,
          88.0666240711215,
          137.76215253458304,
          135.51154258506443,
          115.3008658392247,
          115.04733531653288,
          125.85658151663418,
          127.98018083701501,
          71.08018595507176,
          99.27881938765113,
          122.06519062458482,
          127.87483018807785,
          108.08951923825497,
          93.8753710101696,
          131.72403687775966,
          105.82468580426543,
          94.4477200408859,
          113.02177199573381,
          117.52633698486093,
          134.20002383017192,
          81.53434057624247,
          129.48623860664418,
          118.29776638958454,
          106.99456555990008,
          118.18504992639575,
          113.93429928459754,
          113.28605314520578,
          123.98529398402722,
          136.14578641821274,
          108.12944480345226,
          124.31047500702722,
          120.68076423837336,
          101.30995014176462,
          98.57270816725912,
          134.92253193115647,
          148.21537553686574,
          109.4163151395633,
          104.65386189142622,
          82.06147019848706,
          149.77998677201316,
          107.95654444465498,
          111.55624009956449,
          111.73148338526984,
          113.88005696684058,
          132.31614997942185,
          131.81515214585949,
          120.56462447252147,
          131.99527063785007,
          115.30433273805144,
          93.71714804648087,
          115.44814641504453,
          82.80084301392009,
          107.03133860426249,
          116.49311888073917,
          101.89151318438465,
          114.43445982471343,
          141.19766355250553,
          82.36350620058431,
          102.33250975069143,
          101.2859730740789,
          125.94104699997959,
          110.2708266448442,
          110.34197599534058,
          84.80312772627596,
          122.18634501023757,
          100.61166940300848,
          91.2459377229691,
          119.22703187530927,
          108.17908083479307,
          90.78657092993666,
          114.8691470888788,
          120.0585408592618,
          112.23741984715063,
          114.90595705824346,
          104.70557464787268,
          96.41708539334493,
          135.14278138364693,
          120.21494011590156,
          99.44423584109889,
          111.53119623064836,
          127.9258420952672,
          105.83060921327586,
          109.2175206255524,
          115.3052540187472,
          103.87533856834169,
          82.84355498307218,
          96.45037906579839,
          125.8106763678397,
          95.28684684906526,
          115.28118337106568,
          119.98972760465905,
          125.98252252932232,
          106.57349580345947,
          115.46725856368741,
          87.2773001417685,
          108.87108069144162,
          105.54412877363936,
          99.08878427340107,
          106.31186989421631,
          108.08076586820552,
          104.46034070135808,
          70.65493573283703,
          141.73776093386851,
          120.28342378218716,
          107.63834022932375,
          130.7193165111951,
          111.02639838112823,
          114.6880443872508,
          116.81379777725543,
          98.17292187047224,
          109.0123949853326,
          88.72280230835463,
          107.90369989683619,
          101.66967715680352,
          102.47123331721978,
          120.39677782255649,
          106.31959254724752,
          90.95852211371218,
          106.06514217223894,
          145.06397723292585,
          98.27423843485954,
          111.20149618307376,
          89.90883318852039,
          116.2017644573775,
          113.06677951022982,
          117.1767994179455,
          110.44371456462855,
          107.26337023401592,
          110.26200012702215,
          140.81434295004217,
          72.02175029914955,
          116.3572202605738,
          95.66474726614047,
          107.99488684517331,
          93.83895012935808,
          128.74853766036736,
          118.56723130194655,
          114.45572643736183,
          123.0779782625244,
          107.54433205138655,
          120.34284798181902,
          139.7688485478483,
          108.22577172358982,
          124.32694878384909,
          92.29170670703344,
          132.05710908944658,
          109.67663174565459,
          120.66292206604217,
          97.82247421887914,
          76.23180402065233,
          93.10849721012241,
          105.38199881124658,
          95.57173196540266,
          120.06238938978828,
          110.95075139887345,
          100.1480617930365,
          105.6745522632092,
          106.70309756383226,
          113.00371941210388,
          97.31749638454002,
          149.64384027058568,
          104.99382844004649,
          107.81737459741238,
          123.40053061522536,
          129.32832107680971,
          114.96797282017225,
          108.8694815284052,
          109.08278516715644,
          137.84085299672853,
          98.70438076315807,
          104.89661195353091,
          101.73505941040548,
          100.93944010621685,
          141.83884939405195,
          110.30458281096327,
          97.00609918328996,
          104.66167420515748,
          95.68486533846539,
          133.8719617114575,
          110.0088100705493,
          103.03952402273042,
          87.14433820536051,
          112.32305548022107,
          97.39025984028638,
          110.16028673766503,
          101.84389414316738,
          120.13183015493757,
          95.39986680153402,
          122.27522153519608,
          108.25974071819311,
          99.63712678463312,
          125.58433213555838,
          124.71907772042883,
          119.24931205346238,
          98.18769451497269,
          110.31285105131698,
          118.99009857554556,
          104.32707105989981,
          109.16796849680836,
          139.7523208174074,
          111.16832042041811,
          116.06876621673118,
          97.26485735139778,
          108.82865301368936,
          102.0903163907036,
          106.35968099545957,
          126.60424769012809,
          109.46705127392292,
          95.60127524431873,
          100.5657353779543,
          114.0277223405759,
          117.32541219283584,
          118.80257903172486,
          107.36910888363815,
          103.49860614736762,
          110.65508017111019,
          74.46660603081457,
          86.10918296801194,
          73.37493889635752,
          106.05899257595135,
          97.66072521933705,
          109.36597492502263,
          104.13094698743824,
          113.45870749869853,
          114.92845839932815,
          122.57072875929926,
          96.38177580858283,
          109.37381730109051,
          80.08496534892303,
          111.62246383728922,
          101.16071466490673,
          95.22529649563265,
          94.45733900433012,
          140.59529055738378,
          100.11864374090116,
          100.88024658244711,
          122.9967935276871,
          98.8779576585811,
          87.94157790193971,
          120.62711181581732,
          108.07231403868343,
          107.59040255717728,
          126.15755313987708,
          100.79903896767618,
          99.32354553031551,
          110.9815780900296,
          103.67793750033393,
          104.88174674488349,
          129.6805476012414,
          82.65601268247885,
          113.23063889842491,
          99.93930007526188,
          113.89576210518452,
          117.0432414029118,
          117.38349664769842,
          117.68255791525685,
          92.86969615487965,
          108.27659203633931,
          128.98962376956743,
          96.06154962229908,
          112.86372980765286,
          125.02333443867974,
          108.53867764403452,
          78.20604526520879,
          77.04617390017262,
          126.83401799086877,
          140.1776302871927,
          114.53016120551469,
          102.65507539637146,
          102.29676357850765,
          93.891184101144,
          143.05271834441794,
          105.51757314022424,
          130.19147488514392,
          119.40230721601586,
          109.01283868045569,
          82.34202186950697,
          111.64958814044724,
          140.09841690466496,
          98.63224100744138,
          125.23996760184873,
          86.11260270508984,
          114.38549807229262,
          130.05548216144504,
          106.35119114308375,
          106.5346465043257,
          104.91606076637244,
          114.77924023142917,
          130.95558093712302,
          96.80280426930263,
          111.67730716702354,
          116.47352189711012,
          134.206776457636,
          105.53923143488595,
          134.58443471785142,
          112.01144888247646,
          112.58056049536503,
          89.52474268573548,
          103.68101475889969,
          123.20960222969649,
          87.91150172100755,
          121.36564593771746,
          100.4509248086643,
          109.76242758987684,
          104.18277888595598,
          123.34495123182924,
          127.01235747863848,
          135.97445292585812,
          99.41720232655749,
          90.71284349621848,
          100.42684913670038,
          120.51177193588832,
          123.21710784548323,
          100.20194285016451,
          90.2005114621253,
          97.71931093330127,
          112.44053316793848,
          120.04639986831071,
          101.38879371853082,
          121.15530679688831,
          119.25068929505827,
          124.57800251061877,
          99.3214472406147,
          98.96460822276123,
          95.54804325844142,
          116.8870655483946,
          119.84357309457053,
          121.27255215354285,
          81.91724583099703,
          101.65579908171091,
          114.0824594860766,
          123.97318629159868,
          114.91298496773591,
          121.11220700752644,
          97.9714242835997
         ]
        },
        {
         "name": "Control group",
         "type": "box",
         "y": [
          73.35584003137875,
          72.59619570323669,
          105.93123781185527,
          71.40342282208564,
          132.9178465401845,
          88.10057156395942,
          121.28013872100105,
          104.00515388263601,
          115.6849350850162,
          88.8598174081421,
          121.83281488659125,
          93.83654763063926,
          92.4168509515501,
          128.55334252775467,
          88.09838532405132,
          99.37122184033994,
          139.399141059282,
          83.45000899766126,
          77.43436628018182,
          99.09711172350765,
          137.57711636125526,
          97.45124910804579,
          105.5351585034302,
          86.55523492150462,
          76.6648510656996,
          122.27056014944101,
          100.91188443822372,
          62.80319948693061,
          94.47832038417307,
          106.04751862000441,
          70.11612981022478,
          106.10438036352042,
          113.66946786777328,
          103.99881620572326,
          91.98975081737082,
          122.94628053844133,
          77.57478572088951,
          110.05916991766661,
          95.23976953915088,
          117.74740263538318,
          67.20991271052648,
          70.56297204377378,
          95.19511912401538,
          122.52461326308276,
          95.02786866912321,
          118.67205645194423,
          112.35448791259036,
          126.445975289519,
          105.73160084146457,
          108.2044852878328,
          131.10974627440203,
          130.64206579566752,
          78.51150562723646,
          109.41044995974389,
          108.29114325712193,
          138.18933670049194,
          85.54301711452678,
          90.02190602713007,
          120.2961828073343,
          105.13240870608021,
          108.83400602097066,
          105.58033106446806,
          67.21554460329978,
          73.27650499511427,
          120.1649931003032,
          109.76045456947662,
          106.7566579833674,
          89.9934560035641,
          114.60206727054543,
          89.82574184956908,
          98.00717960431516,
          105.54269750664906,
          92.85269776025733,
          105.94958896055338,
          109.53074773302656,
          100.42949138536622,
          92.21348989510591,
          124.39596321567956,
          83.23115852652602,
          61.4216087542378,
          106.07553376263408,
          100.61324922626115,
          92.87265343109375,
          118.89410684233727,
          101.61146767358944,
          54.38284045245319,
          63.060274465686426,
          105.47380194712785,
          110.65367572271172,
          89.15694874645246,
          97.70090042983732,
          96.65430849627482,
          98.49587115822342,
          111.30717846967329,
          105.43989293280025,
          127.16320134724612,
          111.85938760613948,
          100.12248044543772,
          141.8302094094312,
          95.83437530510426,
          136.42791968328584,
          76.88185855223605,
          105.14529286183352,
          141.60024432430734,
          117.95708307150761,
          115.13185809189685,
          137.6131774131551,
          149.5801054147843,
          97.66879135668563,
          106.35821172379664,
          99.28675779734887,
          109.99942472170237,
          96.9142406891039,
          85.06796340579064,
          88.79202352473447,
          90.7917179432885,
          87.94882723965915,
          159.20724123481534,
          105.61901959018603,
          86.88538490097875,
          103.15940590049013,
          76.77188833073703,
          99.41425449385343,
          122.177008571981,
          124.78838178110146,
          100.60909187950735,
          110.77978775161507,
          136.32666827865685,
          153.89119588513353,
          79.26163653031848,
          128.57010123450794,
          97.7940411489036,
          142.44839052019915,
          96.37052520341636,
          133.03684397468788,
          129.81689950660956,
          126.38222300415848,
          83.19848572798192,
          106.02955721391062,
          87.18820685545577,
          124.99183829990645,
          120.57437532978463,
          80.19945885834073,
          89.46981947848911,
          86.86524844923525,
          113.64653301253777,
          96.64805249659523,
          104.49152572789086,
          90.24597894880462,
          118.01808919066391,
          114.16683241379857,
          116.35923807818426,
          82.78694339162664,
          96.31511006697912,
          121.70654279137878,
          66.82953831558345,
          113.94947447432953,
          93.86598034863259,
          110.91235510668943,
          65.2091355757742,
          122.590670097812,
          110.98137475670903,
          102.41936268302004,
          105.76308358459501,
          118.70896154996052,
          111.95656773622363,
          88.3175339571006,
          122.70149292966775,
          83.63804633407437,
          105.43055359119764,
          136.43321994330498,
          122.67911148281216,
          101.63809484490854,
          90.20157627440634,
          132.87526352643582,
          106.224330407355,
          103.72313833155235,
          86.35796279765032,
          130.84236447405289,
          153.36281158367834,
          111.89715811476549,
          79.90652339143494,
          152.77827869118838,
          118.3724861777294,
          109.65595549516122,
          95.72991318193948,
          101.28067258373102,
          100.28338719618745,
          100.28739741407843,
          134.83066565336983,
          85.076551864373,
          76.21937159096987,
          91.59363777246237,
          116.0466913972449,
          105.05396092807592,
          82.29320262306578,
          106.2104268323159,
          62.59116733670788,
          61.154128470286835,
          102.76797524601668,
          95.42652901600192,
          96.62149275544346,
          69.34448612849066,
          145.4198845070132,
          118.04756173516819,
          87.84220043474625,
          142.49171251547068,
          136.858925736884,
          150.91927610808165,
          80.79736047677324,
          134.1602131534798,
          101.7860267360141,
          109.02186259253389,
          112.72353504228052,
          112.63659005384825,
          91.96161765691151,
          75.24678784151297,
          135.3343665382391,
          100.41762787798021,
          108.27840810740129,
          134.93058722852072,
          93.01499035301185,
          89.79661377255582,
          103.59485859678553,
          102.11474508916291,
          108.86195775321374,
          104.92668333377419,
          120.29410968809157,
          84.42897719781581,
          96.50806512629093,
          120.25841361458421,
          115.3024076150804,
          156.55800244834333,
          83.72901069608956,
          108.6742323786768,
          98.99545796018592,
          87.93662128641755,
          127.40876193104695,
          107.40623567030265,
          129.05175929081793,
          96.80182192646632,
          113.68396850683364,
          116.94741836517912,
          72.77196664210635,
          96.88500190305483,
          112.70172723255224,
          64.60695706675642,
          86.75406247716222,
          78.6156908485435,
          106.011415039911,
          155.51058425024394,
          116.5614524448961,
          82.46783696245248,
          101.49945937668024,
          103.21027825467738,
          115.03930636729166,
          112.15573918006794,
          87.4664567864969,
          74.59875600298113,
          115.89621777563501,
          122.85117724438064,
          92.57013759050854,
          103.42481480925841,
          101.8483815244196,
          108.7974524426228,
          121.38203882209275,
          91.52690168231219,
          128.63636968149567,
          74.7756238117532,
          76.24303851365552,
          139.14827505577875,
          92.78046026095474,
          91.1674306550581,
          94.0174648495487,
          119.13201880078918,
          87.14310672669305,
          129.18271616974624,
          115.79570953040562,
          95.51019291824092,
          112.63729687650063,
          100.77993304375285,
          97.84325934212652,
          124.20211642670917,
          143.59750828073828,
          102.65433865835253,
          84.12145722412562,
          151.09729506883644,
          119.80281517397887,
          99.37658395355912,
          126.94755138271609,
          122.50176422952272,
          88.6102009014311,
          117.5959655539159,
          117.76197166963651,
          102.4474246648817,
          116.45382049989462,
          111.82411116636213,
          147.11567452687845,
          69.58256083690549,
          73.64566528037412,
          125.81397905533575,
          97.20863588642825,
          154.57361430218066,
          87.96509181148883,
          108.50182721820951,
          80.17724066548968,
          117.28715136804618,
          167.51270297929395,
          118.08739800540323,
          146.90689055436243,
          125.95422909886878,
          91.78538367822726,
          65.42009025404076,
          135.2051000228171,
          116.4381942432489,
          100.32111917959944,
          77.32280682319589,
          119.78895949738889,
          133.17944052767285,
          147.36666920703584,
          116.60613424535553,
          82.85915571141666,
          101.72468920642967,
          115.13486580460216,
          104.42821400799657,
          94.88743726289387,
          104.97373222199063,
          89.7723511853605,
          95.24370854925348,
          109.42247734537702,
          104.69427747770196,
          73.61972734079498,
          97.63829704126698,
          167.1927070081392,
          92.53585241786719,
          124.55436863015629,
          108.0661358650097,
          85.36749492889491,
          97.79797906272951,
          134.90334266668742,
          108.63417896617442,
          89.64902116326884,
          98.1828477184991,
          112.44818994590372,
          111.11843894883569,
          133.79109197822098,
          110.72033886686025,
          147.0776580325823,
          91.92740536024502,
          120.5670564054652,
          91.34337362017854,
          105.93819813511057,
          90.11799572761203,
          111.21479109190248,
          99.35019672994956,
          136.7453846822023,
          84.72396425207722,
          132.47307316738588,
          118.15955895493649,
          116.11467577089209,
          96.39379812246709,
          106.86640342217045,
          99.20110592460625,
          93.26923503279063,
          107.4753508056864,
          91.91366201553832,
          123.75574312855437,
          121.78481506401832,
          91.65337435437247,
          111.83827375419035,
          85.0472077817511,
          87.128829075733,
          152.2939509869739,
          67.77151971315733,
          92.28057643078158,
          91.15389531584428,
          101.29482845907977,
          67.05158504214776,
          116.61434314930027,
          105.53830338811754,
          119.33015824069282,
          117.31132646284496,
          83.19133639539689,
          74.83421480616633,
          127.66758196096809,
          125.45868381097932,
          98.57294460087745,
          94.23082569630273,
          103.32354086477845,
          97.05055878467529,
          98.61418812864648,
          123.97068497334084,
          94.20603920582866,
          99.07327432600354,
          103.56066846619872,
          132.98102647910918,
          119.37611522284445,
          87.72657735895267,
          104.06561172768964,
          89.98330193087487,
          92.29690067680427,
          91.37959685552671,
          74.96828498519604,
          97.62149780963819,
          97.94001293460462,
          107.54768786401391,
          115.3506265882798,
          119.95673680613515,
          88.81244886029134,
          92.3462815714413,
          96.06690340844949,
          91.26159596626194,
          109.18620167700966,
          114.60616440884982,
          107.77034407801189,
          89.1979972451837,
          97.28299296058316,
          116.15332328095859,
          111.86694813030181,
          106.34687739135666,
          92.68389644205837,
          86.78793604864285,
          148.42086138418708,
          103.98890742684455,
          136.04704396360376,
          120.92311581564805,
          94.09661063998634,
          67.58593749414233,
          93.75269164563029,
          69.3281040136861,
          106.41268767337091,
          95.50925778950551,
          110.04611753103767,
          82.78150188441552,
          103.20391088878338,
          88.26901348407253,
          96.711858752552,
          122.06618480903366,
          117.2845322349194,
          100.228664790671,
          83.89424192696687,
          113.66870945488526,
          140.2823893940472,
          128.95292268024082,
          86.0226340595664,
          95.62696617241689,
          79.79617339129538,
          136.60570359850826,
          93.88614712334899,
          117.99630666789842,
          121.75936524598154,
          141.6001822762604,
          110.38612755507717,
          68.0248712088042,
          90.00389993041486,
          99.6453399135892,
          117.6253997974566,
          103.25714144733043,
          103.61501963156232,
          101.64354375466822,
          117.98997378061118,
          117.40870951103567,
          107.88816928043904,
          128.2009104426778,
          83.91255595758818,
          110.29555867392033,
          91.50770080403419,
          131.41745545967257,
          85.80189083316479,
          88.8513892374485,
          98.43554797205186,
          123.34175218371686,
          98.66463309886903,
          123.45626416208806,
          87.14046378482428,
          143.7008787461584,
          123.39722653184049,
          126.32455342483186,
          66.17943289056095,
          76.8394796965569,
          138.45012759360802,
          127.71551220380367,
          111.8864699881905,
          92.05811698857137,
          84.44148256471559,
          67.58431148818741,
          118.22200886832579,
          68.90733864862844,
          128.31071675970725,
          118.27715923109906,
          108.12155063557144,
          113.27227131634118,
          129.22232576198763,
          101.47757337829505,
          123.84875608059667,
          117.66871672249798,
          102.72239400490025,
          114.15993282996553,
          92.688787672224,
          112.70571072805403
         ]
        }
       ],
       "layout": {
        "autosize": true,
        "template": {
         "data": {
          "bar": [
           {
            "error_x": {
             "color": "#2a3f5f"
            },
            "error_y": {
             "color": "#2a3f5f"
            },
            "marker": {
             "line": {
              "color": "#E5ECF6",
              "width": 0.5
             }
            },
            "type": "bar"
           }
          ],
          "barpolar": [
           {
            "marker": {
             "line": {
              "color": "#E5ECF6",
              "width": 0.5
             }
            },
            "type": "barpolar"
           }
          ],
          "carpet": [
           {
            "aaxis": {
             "endlinecolor": "#2a3f5f",
             "gridcolor": "white",
             "linecolor": "white",
             "minorgridcolor": "white",
             "startlinecolor": "#2a3f5f"
            },
            "baxis": {
             "endlinecolor": "#2a3f5f",
             "gridcolor": "white",
             "linecolor": "white",
             "minorgridcolor": "white",
             "startlinecolor": "#2a3f5f"
            },
            "type": "carpet"
           }
          ],
          "choropleth": [
           {
            "colorbar": {
             "outlinewidth": 0,
             "ticks": ""
            },
            "type": "choropleth"
           }
          ],
          "contour": [
           {
            "colorbar": {
             "outlinewidth": 0,
             "ticks": ""
            },
            "colorscale": [
             [
              0,
              "#0d0887"
             ],
             [
              0.1111111111111111,
              "#46039f"
             ],
             [
              0.2222222222222222,
              "#7201a8"
             ],
             [
              0.3333333333333333,
              "#9c179e"
             ],
             [
              0.4444444444444444,
              "#bd3786"
             ],
             [
              0.5555555555555556,
              "#d8576b"
             ],
             [
              0.6666666666666666,
              "#ed7953"
             ],
             [
              0.7777777777777778,
              "#fb9f3a"
             ],
             [
              0.8888888888888888,
              "#fdca26"
             ],
             [
              1,
              "#f0f921"
             ]
            ],
            "type": "contour"
           }
          ],
          "contourcarpet": [
           {
            "colorbar": {
             "outlinewidth": 0,
             "ticks": ""
            },
            "type": "contourcarpet"
           }
          ],
          "heatmap": [
           {
            "colorbar": {
             "outlinewidth": 0,
             "ticks": ""
            },
            "colorscale": [
             [
              0,
              "#0d0887"
             ],
             [
              0.1111111111111111,
              "#46039f"
             ],
             [
              0.2222222222222222,
              "#7201a8"
             ],
             [
              0.3333333333333333,
              "#9c179e"
             ],
             [
              0.4444444444444444,
              "#bd3786"
             ],
             [
              0.5555555555555556,
              "#d8576b"
             ],
             [
              0.6666666666666666,
              "#ed7953"
             ],
             [
              0.7777777777777778,
              "#fb9f3a"
             ],
             [
              0.8888888888888888,
              "#fdca26"
             ],
             [
              1,
              "#f0f921"
             ]
            ],
            "type": "heatmap"
           }
          ],
          "heatmapgl": [
           {
            "colorbar": {
             "outlinewidth": 0,
             "ticks": ""
            },
            "colorscale": [
             [
              0,
              "#0d0887"
             ],
             [
              0.1111111111111111,
              "#46039f"
             ],
             [
              0.2222222222222222,
              "#7201a8"
             ],
             [
              0.3333333333333333,
              "#9c179e"
             ],
             [
              0.4444444444444444,
              "#bd3786"
             ],
             [
              0.5555555555555556,
              "#d8576b"
             ],
             [
              0.6666666666666666,
              "#ed7953"
             ],
             [
              0.7777777777777778,
              "#fb9f3a"
             ],
             [
              0.8888888888888888,
              "#fdca26"
             ],
             [
              1,
              "#f0f921"
             ]
            ],
            "type": "heatmapgl"
           }
          ],
          "histogram": [
           {
            "marker": {
             "colorbar": {
              "outlinewidth": 0,
              "ticks": ""
             }
            },
            "type": "histogram"
           }
          ],
          "histogram2d": [
           {
            "colorbar": {
             "outlinewidth": 0,
             "ticks": ""
            },
            "colorscale": [
             [
              0,
              "#0d0887"
             ],
             [
              0.1111111111111111,
              "#46039f"
             ],
             [
              0.2222222222222222,
              "#7201a8"
             ],
             [
              0.3333333333333333,
              "#9c179e"
             ],
             [
              0.4444444444444444,
              "#bd3786"
             ],
             [
              0.5555555555555556,
              "#d8576b"
             ],
             [
              0.6666666666666666,
              "#ed7953"
             ],
             [
              0.7777777777777778,
              "#fb9f3a"
             ],
             [
              0.8888888888888888,
              "#fdca26"
             ],
             [
              1,
              "#f0f921"
             ]
            ],
            "type": "histogram2d"
           }
          ],
          "histogram2dcontour": [
           {
            "colorbar": {
             "outlinewidth": 0,
             "ticks": ""
            },
            "colorscale": [
             [
              0,
              "#0d0887"
             ],
             [
              0.1111111111111111,
              "#46039f"
             ],
             [
              0.2222222222222222,
              "#7201a8"
             ],
             [
              0.3333333333333333,
              "#9c179e"
             ],
             [
              0.4444444444444444,
              "#bd3786"
             ],
             [
              0.5555555555555556,
              "#d8576b"
             ],
             [
              0.6666666666666666,
              "#ed7953"
             ],
             [
              0.7777777777777778,
              "#fb9f3a"
             ],
             [
              0.8888888888888888,
              "#fdca26"
             ],
             [
              1,
              "#f0f921"
             ]
            ],
            "type": "histogram2dcontour"
           }
          ],
          "mesh3d": [
           {
            "colorbar": {
             "outlinewidth": 0,
             "ticks": ""
            },
            "type": "mesh3d"
           }
          ],
          "parcoords": [
           {
            "line": {
             "colorbar": {
              "outlinewidth": 0,
              "ticks": ""
             }
            },
            "type": "parcoords"
           }
          ],
          "pie": [
           {
            "automargin": true,
            "type": "pie"
           }
          ],
          "scatter": [
           {
            "marker": {
             "colorbar": {
              "outlinewidth": 0,
              "ticks": ""
             }
            },
            "type": "scatter"
           }
          ],
          "scatter3d": [
           {
            "line": {
             "colorbar": {
              "outlinewidth": 0,
              "ticks": ""
             }
            },
            "marker": {
             "colorbar": {
              "outlinewidth": 0,
              "ticks": ""
             }
            },
            "type": "scatter3d"
           }
          ],
          "scattercarpet": [
           {
            "marker": {
             "colorbar": {
              "outlinewidth": 0,
              "ticks": ""
             }
            },
            "type": "scattercarpet"
           }
          ],
          "scattergeo": [
           {
            "marker": {
             "colorbar": {
              "outlinewidth": 0,
              "ticks": ""
             }
            },
            "type": "scattergeo"
           }
          ],
          "scattergl": [
           {
            "marker": {
             "colorbar": {
              "outlinewidth": 0,
              "ticks": ""
             }
            },
            "type": "scattergl"
           }
          ],
          "scattermapbox": [
           {
            "marker": {
             "colorbar": {
              "outlinewidth": 0,
              "ticks": ""
             }
            },
            "type": "scattermapbox"
           }
          ],
          "scatterpolar": [
           {
            "marker": {
             "colorbar": {
              "outlinewidth": 0,
              "ticks": ""
             }
            },
            "type": "scatterpolar"
           }
          ],
          "scatterpolargl": [
           {
            "marker": {
             "colorbar": {
              "outlinewidth": 0,
              "ticks": ""
             }
            },
            "type": "scatterpolargl"
           }
          ],
          "scatterternary": [
           {
            "marker": {
             "colorbar": {
              "outlinewidth": 0,
              "ticks": ""
             }
            },
            "type": "scatterternary"
           }
          ],
          "surface": [
           {
            "colorbar": {
             "outlinewidth": 0,
             "ticks": ""
            },
            "colorscale": [
             [
              0,
              "#0d0887"
             ],
             [
              0.1111111111111111,
              "#46039f"
             ],
             [
              0.2222222222222222,
              "#7201a8"
             ],
             [
              0.3333333333333333,
              "#9c179e"
             ],
             [
              0.4444444444444444,
              "#bd3786"
             ],
             [
              0.5555555555555556,
              "#d8576b"
             ],
             [
              0.6666666666666666,
              "#ed7953"
             ],
             [
              0.7777777777777778,
              "#fb9f3a"
             ],
             [
              0.8888888888888888,
              "#fdca26"
             ],
             [
              1,
              "#f0f921"
             ]
            ],
            "type": "surface"
           }
          ],
          "table": [
           {
            "cells": {
             "fill": {
              "color": "#EBF0F8"
             },
             "line": {
              "color": "white"
             }
            },
            "header": {
             "fill": {
              "color": "#C8D4E3"
             },
             "line": {
              "color": "white"
             }
            },
            "type": "table"
           }
          ]
         },
         "layout": {
          "annotationdefaults": {
           "arrowcolor": "#2a3f5f",
           "arrowhead": 0,
           "arrowwidth": 1
          },
          "coloraxis": {
           "colorbar": {
            "outlinewidth": 0,
            "ticks": ""
           }
          },
          "colorscale": {
           "diverging": [
            [
             0,
             "#8e0152"
            ],
            [
             0.1,
             "#c51b7d"
            ],
            [
             0.2,
             "#de77ae"
            ],
            [
             0.3,
             "#f1b6da"
            ],
            [
             0.4,
             "#fde0ef"
            ],
            [
             0.5,
             "#f7f7f7"
            ],
            [
             0.6,
             "#e6f5d0"
            ],
            [
             0.7,
             "#b8e186"
            ],
            [
             0.8,
             "#7fbc41"
            ],
            [
             0.9,
             "#4d9221"
            ],
            [
             1,
             "#276419"
            ]
           ],
           "sequential": [
            [
             0,
             "#0d0887"
            ],
            [
             0.1111111111111111,
             "#46039f"
            ],
            [
             0.2222222222222222,
             "#7201a8"
            ],
            [
             0.3333333333333333,
             "#9c179e"
            ],
            [
             0.4444444444444444,
             "#bd3786"
            ],
            [
             0.5555555555555556,
             "#d8576b"
            ],
            [
             0.6666666666666666,
             "#ed7953"
            ],
            [
             0.7777777777777778,
             "#fb9f3a"
            ],
            [
             0.8888888888888888,
             "#fdca26"
            ],
            [
             1,
             "#f0f921"
            ]
           ],
           "sequentialminus": [
            [
             0,
             "#0d0887"
            ],
            [
             0.1111111111111111,
             "#46039f"
            ],
            [
             0.2222222222222222,
             "#7201a8"
            ],
            [
             0.3333333333333333,
             "#9c179e"
            ],
            [
             0.4444444444444444,
             "#bd3786"
            ],
            [
             0.5555555555555556,
             "#d8576b"
            ],
            [
             0.6666666666666666,
             "#ed7953"
            ],
            [
             0.7777777777777778,
             "#fb9f3a"
            ],
            [
             0.8888888888888888,
             "#fdca26"
            ],
            [
             1,
             "#f0f921"
            ]
           ]
          },
          "colorway": [
           "#636efa",
           "#EF553B",
           "#00cc96",
           "#ab63fa",
           "#FFA15A",
           "#19d3f3",
           "#FF6692",
           "#B6E880",
           "#FF97FF",
           "#FECB52"
          ],
          "font": {
           "color": "#2a3f5f"
          },
          "geo": {
           "bgcolor": "white",
           "lakecolor": "white",
           "landcolor": "#E5ECF6",
           "showlakes": true,
           "showland": true,
           "subunitcolor": "white"
          },
          "hoverlabel": {
           "align": "left"
          },
          "hovermode": "closest",
          "mapbox": {
           "style": "light"
          },
          "paper_bgcolor": "white",
          "plot_bgcolor": "#E5ECF6",
          "polar": {
           "angularaxis": {
            "gridcolor": "white",
            "linecolor": "white",
            "ticks": ""
           },
           "bgcolor": "#E5ECF6",
           "radialaxis": {
            "gridcolor": "white",
            "linecolor": "white",
            "ticks": ""
           }
          },
          "scene": {
           "xaxis": {
            "backgroundcolor": "#E5ECF6",
            "gridcolor": "white",
            "gridwidth": 2,
            "linecolor": "white",
            "showbackground": true,
            "ticks": "",
            "zerolinecolor": "white"
           },
           "yaxis": {
            "backgroundcolor": "#E5ECF6",
            "gridcolor": "white",
            "gridwidth": 2,
            "linecolor": "white",
            "showbackground": true,
            "ticks": "",
            "zerolinecolor": "white"
           },
           "zaxis": {
            "backgroundcolor": "#E5ECF6",
            "gridcolor": "white",
            "gridwidth": 2,
            "linecolor": "white",
            "showbackground": true,
            "ticks": "",
            "zerolinecolor": "white"
           }
          },
          "shapedefaults": {
           "line": {
            "color": "#2a3f5f"
           }
          },
          "ternary": {
           "aaxis": {
            "gridcolor": "white",
            "linecolor": "white",
            "ticks": ""
           },
           "baxis": {
            "gridcolor": "white",
            "linecolor": "white",
            "ticks": ""
           },
           "bgcolor": "#E5ECF6",
           "caxis": {
            "gridcolor": "white",
            "linecolor": "white",
            "ticks": ""
           }
          },
          "title": {
           "x": 0.05
          },
          "xaxis": {
           "automargin": true,
           "gridcolor": "white",
           "linecolor": "white",
           "ticks": "",
           "title": {
            "standoff": 15
           },
           "zerolinecolor": "white",
           "zerolinewidth": 2
          },
          "yaxis": {
           "automargin": true,
           "gridcolor": "white",
           "linecolor": "white",
           "ticks": "",
           "title": {
            "standoff": 15
           },
           "zerolinecolor": "white",
           "zerolinewidth": 2
          }
         }
        },
        "xaxis": {
         "autorange": true,
         "range": [
          -0.5,
          2.5
         ],
         "type": "category"
        },
        "yaxis": {
         "autorange": true,
         "range": [
          48.09784808985093,
          173.7976953418962
         ],
         "type": "linear"
        }
       }
      },
      "image/png": "[encoded data removed]"
     },
     "metadata": {},
     "output_type": "display_data"
    }
   ],
   "source": [
    "for i in range(0, len(groups)):\n",
    "        trace.append(go.Box(y = vals[i],\n",
    "                           name = groups[i]))\n",
    "        \n",
    "data = trace\n",
    "\n",
    "# iplot({\"data\":data}) # old way of doing things in Jupyter Notebook!\n",
    "pio.show({\"data\": data}, 'jupyterlab')"
   ]
  },
  {
   "cell_type": "markdown",
   "metadata": {},
   "source": [
    "## Outliers"
   ]
  },
  {
   "cell_type": "code",
   "execution_count": 8,
   "metadata": {},
   "outputs": [
    {
     "data": {
      "application/vnd.plotly.v1+json": {
       "config": {
        "plotlyServerURL": "https://plot.ly"
       },
       "data": [
        {
         "boxpoints": "outliers",
         "name": "Group A",
         "type": "box",
         "y": [
          104.71435163732492,
          88.09024305293535,
          114.32706968426098,
          96.87348103908288,
          92.79411266634989,
          108.87162940307738,
          108.59588413717417,
          93.63476495582651,
          100.1569637211443,
          77.57315045814595,
          111.50035724719818,
          109.91946022342678,
          109.5332412811243,
          79.7874517980503,
          96.65922634191904,
          100.02118364683487,
          104.05453411570191,
          102.89091940980035,
          113.21158192129386,
          84.5309444677076,
          97.97353675370817,
          93.44030655861066,
          101.93421376470359,
          105.53438910956741,
          113.18151554180136,
          95.306947152941,
          106.75554085122381,
          81.82972773409803,
          98.16891459821001,
          110.58969187571151,
          96.02159771800008,
          103.37437653613972,
          110.47578572892722,
          110.45938255627665,
          108.63717291684839,
          98.77908425152326,
          101.24712953768216,
          96.77205194391705,
          108.41674712996142,
          123.90960515463033,
          100.76199587837236,
          94.33554069535043,
          100.36141936684072,
          79.25022399309971,
          102.47792199748547,
          91.02843215560301,
          98.63205166738652,
          100.1828919134922,
          107.55413982398136,
          102.15268580969443,
          108.4100879493139,
          85.54189922955693,
          85.98026718499156,
          98.99081800051086,
          94.51757550813144,
          98.55380491630616,
          103.54020332199238,
          99.64486974721859,
          105.65738306062595,
          115.45658804625558,
          90.25763666232685,
          99.29655122895898,
          103.07968855216035,
          97.9150123689412,
          110.338007325555,
          75.99546366187704,
          120.306036208388,
          88.57368710977237,
          102.11883386777701,
          107.04720624317109,
          92.14564788236802,
          104.62059737162049,
          107.04228225462174,
          105.23507967893809,
          90.73745686469775,
          120.07842950778,
          102.26962541870896,
          88.47340890749048,
          106.3197944580913,
          100.39512686693367,
          104.64392325050896,
          64.36483339375265,
          113.21105615470206,
          101.52630552204535,
          101.64529542932398,
          95.69904309123513,
          107.67368735752412,
          109.84919841909897,
          102.70835848826803,
          113.91986193446408,
          100.79842313008629,
          96.00035419303478,
          89.72149441318095,
          94.15281788739212,
          108.16593926547841,
          99.18052948173334,
          96.55233985745356,
          105.28288145297394,
          89.31011216519867,
          94.88118690873185,
          102.91205359743063,
          105.66533696353572,
          105.03591759111202,
          102.85295684781858,
          104.8428811274975,
          113.63481512426145,
          92.18894716374608,
          95.31982333662515,
          112.24574355126174,
          87.18891724855958,
          108.75475504274324,
          82.89284675970471,
          95.49234896863726,
          107.49163805919065,
          97.96067133898748,
          98.17824588334265,
          106.80656004381457,
          81.81501009608385,
          100.47071635325712,
          103.94844209327205,
          97.51567945619153,
          93.82293352002984,
          93.17116003550666,
          104.36257604340916,
          82.96987225886762,
          103.93710599138666,
          95.20675996424502,
          97.0098370703392,
          106.94103287678765,
          106.78629673709857,
          102.39555995003897,
          101.5122662929445,
          108.16127233360041,
          118.935344675962,
          106.39632763193703,
          90.37971168094809,
          79.14734357879891,
          119.30246767465576,
          82.64651125529608,
          112.10383704904514,
          107.97435419427873,
          96.20189215952621,
          107.025622240016,
          91.49653728344884,
          111.76812450104929,
          94.75663897367544,
          107.00907730915604,
          109.84188070722415,
          98.7827159133318,
          123.65768628840038,
          104.96142926247595,
          107.96594866664952,
          95.25979109874315,
          99.4330428350907,
          113.57797258107058,
          91.95166275833296,
          78.7637975090707,
          96.66497559566753,
          91.13280647514623,
          103.34197930899009,
          105.3678382490275,
          92.56169632063799,
          96.7979611775912,
          90.83801138733459,
          91.4033170001826,
          102.25985486733755,
          106.28775826538295,
          101.86494348773074,
          109.52478345109122,
          109.88137582593309,
          99.27391686037325,
          94.49397076436581,
          90.61847385906896,
          87.60928437405207,
          101.39683274031295,
          97.76981018117525,
          121.23691888593552,
          101.22273434258828,
          85.90568260077231,
          114.22985952772243,
          78.52144962356391,
          86.52467486542245,
          103.63564556806648,
          99.85247888195406,
          112.7239507854621,
          85.50433391136613,
          88.0447625833303,
          94.08137026852751,
          95.8549515646781,
          85.74205266561978,
          102.09394787535923,
          94.07113996161074,
          85.26883586534353,
          91.03419384698128,
          111.04351569860313,
          95.68450484483955,
          98.38863091755941,
          108.89157494072873,
          102.88376847715266,
          89.48461062429962,
          96.80438600159769,
          93.80006912278797,
          101.56998376446688,
          94.2854464892021,
          110.57633183204614,
          92.08511190522114,
          94.75372654071529,
          100.71878039370368,
          119.10759427277182,
          107.87964683137615,
          105.13082144466992,
          94.53583719726406,
          110.43944655495324,
          121.0778515279337,
          114.59927481585294,
          110.1540545781252,
          107.49184600924198,
          93.24478521563312,
          104.4026639166873,
          106.88971856326943,
          97.23353872723013,
          119.2453332001529,
          104.11204020707224,
          108.90764956173118,
          102.26363227251707,
          79.21382106297824,
          96.12113768032825,
          99.12893030036001,
          111.26385822137273,
          102.47111716157737,
          101.21171805331541,
          102.98983935542047,
          98.42900863153348,
          92.59530977219282,
          87.52347076948767,
          102.49455215152449,
          105.81073320620607,
          127.63844079849567,
          103.99325436979576,
          106.68488169205806,
          97.24226271343694,
          105.00482900154373,
          108.63064860590625,
          89.48372140534788,
          86.07945922506913,
          111.53922240612225,
          111.81944105999231,
          103.91371448421931,
          91.1895290779843,
          102.9507995978624,
          118.63801062132504,
          82.87726075528744,
          85.92915454256774,
          101.26781186326971,
          100.03759847795496,
          87.31005743926607,
          91.6115707857971,
          105.5392125143972,
          94.95957281918037,
          92.11559815482121,
          115.29400674483931,
          102.0545485392598,
          103.1301312898086,
          108.665207121683,
          102.99070529594377,
          110.76540643846121,
          103.63177347544452,
          118.93679825551843,
          95.14247255717191,
          103.87674455777598,
          100.23557610392554,
          93.3977049795572,
          96.81315070421985,
          92.77337806325627,
          101.77386719384599,
          109.83512729343164,
          100.23504585885395,
          105.53776977863366,
          103.53769293996639,
          97.24406366232317,
          95.09516408521318,
          96.2556339980722,
          76.02496023861184,
          115.41029983277939,
          100.63084538957305,
          97.15559316073707,
          87.3439946239879,
          117.8797963245575,
          96.45491291930625,
          98.95238876932896,
          103.86253689189053,
          108.22775373765373,
          93.16210177568992,
          110.57203331214129,
          100.31879973569032,
          113.43182457528941,
          99.49460310451228,
          96.35990043692891,
          84.4665766056894,
          96.80702198179839,
          105.27046450954964,
          107.11112399364823,
          97.82454519509524,
          126.37791210703864,
          82.57862369405035,
          99.05565192258555,
          114.31183752254563,
          105.92758446550668,
          101.70296895326288,
          82.48294052207976,
          102.88581322343208,
          94.5742048309322,
          101.71602381985996,
          109.82817829243105,
          99.74651097937232,
          97.12447550715892,
          109.24442867343366,
          99.38753700133685,
          92.68966657414794,
          89.77226295304857,
          109.95992970245753,
          109.55557932627455,
          107.13840771195044,
          101.33370962194122,
          91.92961691527186,
          96.57989218120785,
          119.08779658091186,
          101.55923261453127,
          107.59652532092963,
          95.76993771580752,
          101.81672745323682,
          102.74492570746403,
          100.67912357380757,
          99.6301718512408,
          98.29198969302378,
          102.66973231539868,
          113.82997248852925,
          99.77539126488574,
          101.31395367225915,
          104.34437185102232,
          102.64534068316999,
          105.65658344273825,
          105.85084279501724,
          98.25701847247913,
          89.2863132854491,
          99.51539497447617,
          91.54709610433757,
          104.1510055838158,
          104.25530591397859,
          90.19275642499414,
          95.72173890027979,
          114.98569955138537,
          96.39843429130973,
          95.41759610662507,
          86.62031598049029,
          99.58613460385128,
          108.21047956107915,
          120.97800780771692,
          112.82933246874524,
          102.70337925739372,
          110.03140362044931,
          110.78673551320406,
          103.40752685129765,
          98.01925040376432,
          124.81458422875653,
          113.85254876189207,
          88.45399034610331,
          87.31930949622918,
          106.07862186209479,
          89.19903516842409,
          93.88718325204238,
          101.02035112292332,
          85.63426063227881,
          102.10717052505655,
          91.03095829302488,
          82.75606921008168,
          117.92339196646942,
          86.87287293407769,
          105.55877426385625,
          93.1811869450887,
          115.72742745755804,
          98.95348425152234,
          118.50397801609901,
          96.666495732506,
          101.93464233819873,
          95.03255062135091,
          110.32723215735861,
          82.60196202477441,
          92.44137824377091,
          91.18888267352065,
          103.93892262912675,
          90.49974465203717,
          103.32506622162249,
          105.28944408856047,
          88.79479006007276,
          100.48264206925657,
          100.61988450521777,
          89.72484326782133,
          97.61664634532674,
          119.32178169581346,
          97.73367706323164,
          90.76169279823077,
          103.5583899747282,
          87.29936521613712,
          98.04527587303241,
          95.36580600782537,
          109.8941484728585,
          113.88647381631716,
          110.87713736524141,
          104.38801263034391,
          90.38397759118764,
          112.45609937147846,
          105.02925517670631,
          93.6860122162148,
          92.9574795291174,
          97.59517463241657,
          105.85599310929858,
          103.52800560108406,
          81.84442307567915,
          90.89876154304858,
          92.5147204666094,
          98.91875073519736,
          102.74778837052168,
          102.37349764509425,
          97.40156305636611,
          96.875578228436,
          104.48509742512407,
          99.40468035295599,
          95.29985186602214,
          103.49566771627666,
          89.72531152826387,
          96.93361516130389,
          114.06176139494268,
          87.50303227205647,
          84.39851111114767,
          115.57397650649023,
          94.06643605023513,
          98.297114876705,
          116.72626808454706,
          94.59200192350124,
          93.15871671233415,
          105.99962085981993,
          97.82800874855361,
          103.31526518352153,
          96.16635419849172,
          92.18183911926889,
          102.66237406827837,
          102.79428024532737,
          87.8037430482623,
          92.76051083244495,
          82.65221692456066,
          102.71660784374025,
          100.9911201694909,
          96.36910093562742,
          94.1177327171148,
          100.25941713524132,
          94.27697649254841,
          111.05586962797162,
          87.91984407170352,
          86.60298960025085,
          120.75185406731782,
          85.1059029866899,
          88.49046934374036,
          104.19059824673965,
          104.13405276424496,
          107.17576932588283,
          102.61724839679904,
          97.57228728899638,
          94.98731867248333,
          93.01871021031145,
          113.84580160839074,
          97.13574586064244,
          105.00069585028226,
          119.51103236540061,
          97.21632538406992,
          100.3678625863071,
          104.45852506261001,
          85.89649242319331,
          104.50001300695475,
          105.15479530793898,
          88.45916059617397,
          86.19826604928161,
          95.04166994786837,
          95.86720927581129,
          82.80683332072451,
          99.70439097246916,
          92.33960116477171,
          100.99882076502627,
          92.86976043370255,
          77.73882379022413,
          107.25714153121955,
          109.16976283069235,
          94.36109759588744,
          84.7782044317683,
          99.85721211372437,
          97.53279193181116,
          98.34670523482721,
          101.19113982598341,
          79.25019513829952,
          89.97244782983083
         ]
        },
        {
         "boxpoints": "outliers",
         "name": "Group B",
         "type": "box",
         "y": [
          117.85319027095699,
          122.32275963498384,
          107.76887226000706,
          109.31944382061062,
          99.43260611705358,
          135.9547327925951,
          113.4339088325608,
          126.39111585936259,
          104.6964271000786,
          109.54011702594823,
          106.99742224068986,
          102.78034640964088,
          135.67138995517365,
          131.5308062937893,
          92.48719500138492,
          110.61265137149003,
          115.43027293505668,
          118.58888286564869,
          126.56690355099724,
          103.61491960219111,
          121.33533264273035,
          110.15422185732992,
          113.36878656147344,
          92.97937660147565,
          95.72718588152665,
          108.09304315886351,
          110.43416747601685,
          141.56116049943958,
          133.51271215195575,
          100.6365555081369,
          103.99033696910035,
          92.94407692686313,
          96.4526144450468,
          93.54082906371453,
          108.9303618555335,
          90.2099137002372,
          101.59860581184392,
          112.47431835550046,
          100.52621318113322,
          96.99395330655847,
          94.96155993934003,
          128.1102230486851,
          135.67980519478988,
          100.63115781047432,
          106.81781294021062,
          92.09653726588482,
          119.86378838649767,
          113.00119822328591,
          126.36889788832627,
          102.66466912589436,
          130.52330393338937,
          123.37437676290213,
          122.56349318675205,
          117.7121707008387,
          109.24925461385249,
          121.1592926924734,
          84.1392469469281,
          111.34852359909092,
          114.841093428278,
          104.34275861582665,
          109.99668652547601,
          125.75170540668832,
          107.46951331673728,
          121.96814744631745,
          118.28786469736997,
          92.70360107293729,
          134.62328283543206,
          88.41533248288636,
          140.4160927072628,
          89.52024018239504,
          111.08223293588428,
          119.19727517636966,
          132.33749639441368,
          113.31944862551931,
          87.03661837420078,
          122.02832321324726,
          103.63299930704991,
          126.78282458203796,
          133.5432209687427,
          131.41597656601454,
          89.42243190324959,
          106.00373161036705,
          121.68821847821363,
          108.45778557972478,
          101.20303067362418,
          113.60378981892575,
          95.02916511842692,
          112.86754869234807,
          95.70795467628636,
          132.0649486925751,
          120.78357382314347,
          107.50160634084637,
          121.4691694503233,
          92.15834793728209,
          101.97714104419603,
          109.67603230030025,
          93.42212612780321,
          94.16080492212596,
          125.32033488485084,
          135.6448414246981,
          110.44342927906426,
          111.85763024657356,
          114.34145085054463,
          105.4776163408018,
          116.21652516919717,
          124.24786851706673,
          117.82772813164284,
          80.46105688922242,
          117.54215041636677,
          104.6836634099936,
          103.29514277282908,
          93.24532421096345,
          98.17600426128355,
          125.83628245948795,
          90.4318818365452,
          118.09602856014193,
          115.20486875560054,
          123.11289339995824,
          86.37230956068865,
          107.60024515737574,
          100.35000145749555,
          99.26943670053058,
          135.49188395932444,
          129.2425583703005,
          103.21163500522688,
          115.90700190673742,
          116.38610915878694,
          108.04928851712607,
          104.09400250727657,
          100.3841033883777,
          112.57946382073179,
          97.39776471059982,
          122.97497462787435,
          106.92708001877807,
          108.39389998501193,
          106.36839972402922,
          96.46275837594276,
          121.96806329479446,
          105.66356318514278,
          120.15466418998633,
          104.85223949104194,
          117.30815201911767,
          121.48498037244217,
          76.99153346383821,
          71.05906404831237,
          117.1351225717477,
          86.0767153215165,
          93.3488490250094,
          95.02390256722362,
          75.86290096180007,
          133.29210811799805,
          92.76051846988526,
          112.8279594289646,
          124.83445674630472,
          86.20795545060568,
          102.91428686684354,
          107.16730478186386,
          113.16690620492606,
          134.17583438683846,
          118.50095662719845,
          100.38234119801922,
          133.0816091174001,
          114.6449597884243,
          103.26726979471958,
          136.53650855468842,
          114.02300731945657,
          88.0666240711215,
          137.76215253458304,
          135.51154258506443,
          115.3008658392247,
          115.04733531653288,
          125.85658151663418,
          127.98018083701501,
          71.08018595507176,
          99.27881938765113,
          122.06519062458482,
          127.87483018807785,
          108.08951923825497,
          93.8753710101696,
          131.72403687775966,
          105.82468580426543,
          94.4477200408859,
          113.02177199573381,
          117.52633698486093,
          134.20002383017192,
          81.53434057624247,
          129.48623860664418,
          118.29776638958454,
          106.99456555990008,
          118.18504992639575,
          113.93429928459754,
          113.28605314520578,
          123.98529398402722,
          136.14578641821274,
          108.12944480345226,
          124.31047500702722,
          120.68076423837336,
          101.30995014176462,
          98.57270816725912,
          134.92253193115647,
          148.21537553686574,
          109.4163151395633,
          104.65386189142622,
          82.06147019848706,
          149.77998677201316,
          107.95654444465498,
          111.55624009956449,
          111.73148338526984,
          113.88005696684058,
          132.31614997942185,
          131.81515214585949,
          120.56462447252147,
          131.99527063785007,
          115.30433273805144,
          93.71714804648087,
          115.44814641504453,
          82.80084301392009,
          107.03133860426249,
          116.49311888073917,
          101.89151318438465,
          114.43445982471343,
          141.19766355250553,
          82.36350620058431,
          102.33250975069143,
          101.2859730740789,
          125.94104699997959,
          110.2708266448442,
          110.34197599534058,
          84.80312772627596,
          122.18634501023757,
          100.61166940300848,
          91.2459377229691,
          119.22703187530927,
          108.17908083479307,
          90.78657092993666,
          114.8691470888788,
          120.0585408592618,
          112.23741984715063,
          114.90595705824346,
          104.70557464787268,
          96.41708539334493,
          135.14278138364693,
          120.21494011590156,
          99.44423584109889,
          111.53119623064836,
          127.9258420952672,
          105.83060921327586,
          109.2175206255524,
          115.3052540187472,
          103.87533856834169,
          82.84355498307218,
          96.45037906579839,
          125.8106763678397,
          95.28684684906526,
          115.28118337106568,
          119.98972760465905,
          125.98252252932232,
          106.57349580345947,
          115.46725856368741,
          87.2773001417685,
          108.87108069144162,
          105.54412877363936,
          99.08878427340107,
          106.31186989421631,
          108.08076586820552,
          104.46034070135808,
          70.65493573283703,
          141.73776093386851,
          120.28342378218716,
          107.63834022932375,
          130.7193165111951,
          111.02639838112823,
          114.6880443872508,
          116.81379777725543,
          98.17292187047224,
          109.0123949853326,
          88.72280230835463,
          107.90369989683619,
          101.66967715680352,
          102.47123331721978,
          120.39677782255649,
          106.31959254724752,
          90.95852211371218,
          106.06514217223894,
          145.06397723292585,
          98.27423843485954,
          111.20149618307376,
          89.90883318852039,
          116.2017644573775,
          113.06677951022982,
          117.1767994179455,
          110.44371456462855,
          107.26337023401592,
          110.26200012702215,
          140.81434295004217,
          72.02175029914955,
          116.3572202605738,
          95.66474726614047,
          107.99488684517331,
          93.83895012935808,
          128.74853766036736,
          118.56723130194655,
          114.45572643736183,
          123.0779782625244,
          107.54433205138655,
          120.34284798181902,
          139.7688485478483,
          108.22577172358982,
          124.32694878384909,
          92.29170670703344,
          132.05710908944658,
          109.67663174565459,
          120.66292206604217,
          97.82247421887914,
          76.23180402065233,
          93.10849721012241,
          105.38199881124658,
          95.57173196540266,
          120.06238938978828,
          110.95075139887345,
          100.1480617930365,
          105.6745522632092,
          106.70309756383226,
          113.00371941210388,
          97.31749638454002,
          149.64384027058568,
          104.99382844004649,
          107.81737459741238,
          123.40053061522536,
          129.32832107680971,
          114.96797282017225,
          108.8694815284052,
          109.08278516715644,
          137.84085299672853,
          98.70438076315807,
          104.89661195353091,
          101.73505941040548,
          100.93944010621685,
          141.83884939405195,
          110.30458281096327,
          97.00609918328996,
          104.66167420515748,
          95.68486533846539,
          133.8719617114575,
          110.0088100705493,
          103.03952402273042,
          87.14433820536051,
          112.32305548022107,
          97.39025984028638,
          110.16028673766503,
          101.84389414316738,
          120.13183015493757,
          95.39986680153402,
          122.27522153519608,
          108.25974071819311,
          99.63712678463312,
          125.58433213555838,
          124.71907772042883,
          119.24931205346238,
          98.18769451497269,
          110.31285105131698,
          118.99009857554556,
          104.32707105989981,
          109.16796849680836,
          139.7523208174074,
          111.16832042041811,
          116.06876621673118,
          97.26485735139778,
          108.82865301368936,
          102.0903163907036,
          106.35968099545957,
          126.60424769012809,
          109.46705127392292,
          95.60127524431873,
          100.5657353779543,
          114.0277223405759,
          117.32541219283584,
          118.80257903172486,
          107.36910888363815,
          103.49860614736762,
          110.65508017111019,
          74.46660603081457,
          86.10918296801194,
          73.37493889635752,
          106.05899257595135,
          97.66072521933705,
          109.36597492502263,
          104.13094698743824,
          113.45870749869853,
          114.92845839932815,
          122.57072875929926,
          96.38177580858283,
          109.37381730109051,
          80.08496534892303,
          111.62246383728922,
          101.16071466490673,
          95.22529649563265,
          94.45733900433012,
          140.59529055738378,
          100.11864374090116,
          100.88024658244711,
          122.9967935276871,
          98.8779576585811,
          87.94157790193971,
          120.62711181581732,
          108.07231403868343,
          107.59040255717728,
          126.15755313987708,
          100.79903896767618,
          99.32354553031551,
          110.9815780900296,
          103.67793750033393,
          104.88174674488349,
          129.6805476012414,
          82.65601268247885,
          113.23063889842491,
          99.93930007526188,
          113.89576210518452,
          117.0432414029118,
          117.38349664769842,
          117.68255791525685,
          92.86969615487965,
          108.27659203633931,
          128.98962376956743,
          96.06154962229908,
          112.86372980765286,
          125.02333443867974,
          108.53867764403452,
          78.20604526520879,
          77.04617390017262,
          126.83401799086877,
          140.1776302871927,
          114.53016120551469,
          102.65507539637146,
          102.29676357850765,
          93.891184101144,
          143.05271834441794,
          105.51757314022424,
          130.19147488514392,
          119.40230721601586,
          109.01283868045569,
          82.34202186950697,
          111.64958814044724,
          140.09841690466496,
          98.63224100744138,
          125.23996760184873,
          86.11260270508984,
          114.38549807229262,
          130.05548216144504,
          106.35119114308375,
          106.5346465043257,
          104.91606076637244,
          114.77924023142917,
          130.95558093712302,
          96.80280426930263,
          111.67730716702354,
          116.47352189711012,
          134.206776457636,
          105.53923143488595,
          134.58443471785142,
          112.01144888247646,
          112.58056049536503,
          89.52474268573548,
          103.68101475889969,
          123.20960222969649,
          87.91150172100755,
          121.36564593771746,
          100.4509248086643,
          109.76242758987684,
          104.18277888595598,
          123.34495123182924,
          127.01235747863848,
          135.97445292585812,
          99.41720232655749,
          90.71284349621848,
          100.42684913670038,
          120.51177193588832,
          123.21710784548323,
          100.20194285016451,
          90.2005114621253,
          97.71931093330127,
          112.44053316793848,
          120.04639986831071,
          101.38879371853082,
          121.15530679688831,
          119.25068929505827,
          124.57800251061877,
          99.3214472406147,
          98.96460822276123,
          95.54804325844142,
          116.8870655483946,
          119.84357309457053,
          121.27255215354285,
          81.91724583099703,
          101.65579908171091,
          114.0824594860766,
          123.97318629159868,
          114.91298496773591,
          121.11220700752644,
          97.9714242835997
         ]
        },
        {
         "boxpoints": "outliers",
         "name": "Control group",
         "type": "box",
         "y": [
          73.35584003137875,
          72.59619570323669,
          105.93123781185527,
          71.40342282208564,
          132.9178465401845,
          88.10057156395942,
          121.28013872100105,
          104.00515388263601,
          115.6849350850162,
          88.8598174081421,
          121.83281488659125,
          93.83654763063926,
          92.4168509515501,
          128.55334252775467,
          88.09838532405132,
          99.37122184033994,
          139.399141059282,
          83.45000899766126,
          77.43436628018182,
          99.09711172350765,
          137.57711636125526,
          97.45124910804579,
          105.5351585034302,
          86.55523492150462,
          76.6648510656996,
          122.27056014944101,
          100.91188443822372,
          62.80319948693061,
          94.47832038417307,
          106.04751862000441,
          70.11612981022478,
          106.10438036352042,
          113.66946786777328,
          103.99881620572326,
          91.98975081737082,
          122.94628053844133,
          77.57478572088951,
          110.05916991766661,
          95.23976953915088,
          117.74740263538318,
          67.20991271052648,
          70.56297204377378,
          95.19511912401538,
          122.52461326308276,
          95.02786866912321,
          118.67205645194423,
          112.35448791259036,
          126.445975289519,
          105.73160084146457,
          108.2044852878328,
          131.10974627440203,
          130.64206579566752,
          78.51150562723646,
          109.41044995974389,
          108.29114325712193,
          138.18933670049194,
          85.54301711452678,
          90.02190602713007,
          120.2961828073343,
          105.13240870608021,
          108.83400602097066,
          105.58033106446806,
          67.21554460329978,
          73.27650499511427,
          120.1649931003032,
          109.76045456947662,
          106.7566579833674,
          89.9934560035641,
          114.60206727054543,
          89.82574184956908,
          98.00717960431516,
          105.54269750664906,
          92.85269776025733,
          105.94958896055338,
          109.53074773302656,
          100.42949138536622,
          92.21348989510591,
          124.39596321567956,
          83.23115852652602,
          61.4216087542378,
          106.07553376263408,
          100.61324922626115,
          92.87265343109375,
          118.89410684233727,
          101.61146767358944,
          54.38284045245319,
          63.060274465686426,
          105.47380194712785,
          110.65367572271172,
          89.15694874645246,
          97.70090042983732,
          96.65430849627482,
          98.49587115822342,
          111.30717846967329,
          105.43989293280025,
          127.16320134724612,
          111.85938760613948,
          100.12248044543772,
          141.8302094094312,
          95.83437530510426,
          136.42791968328584,
          76.88185855223605,
          105.14529286183352,
          141.60024432430734,
          117.95708307150761,
          115.13185809189685,
          137.6131774131551,
          149.5801054147843,
          97.66879135668563,
          106.35821172379664,
          99.28675779734887,
          109.99942472170237,
          96.9142406891039,
          85.06796340579064,
          88.79202352473447,
          90.7917179432885,
          87.94882723965915,
          159.20724123481534,
          105.61901959018603,
          86.88538490097875,
          103.15940590049013,
          76.77188833073703,
          99.41425449385343,
          122.177008571981,
          124.78838178110146,
          100.60909187950735,
          110.77978775161507,
          136.32666827865685,
          153.89119588513353,
          79.26163653031848,
          128.57010123450794,
          97.7940411489036,
          142.44839052019915,
          96.37052520341636,
          133.03684397468788,
          129.81689950660956,
          126.38222300415848,
          83.19848572798192,
          106.02955721391062,
          87.18820685545577,
          124.99183829990645,
          120.57437532978463,
          80.19945885834073,
          89.46981947848911,
          86.86524844923525,
          113.64653301253777,
          96.64805249659523,
          104.49152572789086,
          90.24597894880462,
          118.01808919066391,
          114.16683241379857,
          116.35923807818426,
          82.78694339162664,
          96.31511006697912,
          121.70654279137878,
          66.82953831558345,
          113.94947447432953,
          93.86598034863259,
          110.91235510668943,
          65.2091355757742,
          122.590670097812,
          110.98137475670903,
          102.41936268302004,
          105.76308358459501,
          118.70896154996052,
          111.95656773622363,
          88.3175339571006,
          122.70149292966775,
          83.63804633407437,
          105.43055359119764,
          136.43321994330498,
          122.67911148281216,
          101.63809484490854,
          90.20157627440634,
          132.87526352643582,
          106.224330407355,
          103.72313833155235,
          86.35796279765032,
          130.84236447405289,
          153.36281158367834,
          111.89715811476549,
          79.90652339143494,
          152.77827869118838,
          118.3724861777294,
          109.65595549516122,
          95.72991318193948,
          101.28067258373102,
          100.28338719618745,
          100.28739741407843,
          134.83066565336983,
          85.076551864373,
          76.21937159096987,
          91.59363777246237,
          116.0466913972449,
          105.05396092807592,
          82.29320262306578,
          106.2104268323159,
          62.59116733670788,
          61.154128470286835,
          102.76797524601668,
          95.42652901600192,
          96.62149275544346,
          69.34448612849066,
          145.4198845070132,
          118.04756173516819,
          87.84220043474625,
          142.49171251547068,
          136.858925736884,
          150.91927610808165,
          80.79736047677324,
          134.1602131534798,
          101.7860267360141,
          109.02186259253389,
          112.72353504228052,
          112.63659005384825,
          91.96161765691151,
          75.24678784151297,
          135.3343665382391,
          100.41762787798021,
          108.27840810740129,
          134.93058722852072,
          93.01499035301185,
          89.79661377255582,
          103.59485859678553,
          102.11474508916291,
          108.86195775321374,
          104.92668333377419,
          120.29410968809157,
          84.42897719781581,
          96.50806512629093,
          120.25841361458421,
          115.3024076150804,
          156.55800244834333,
          83.72901069608956,
          108.6742323786768,
          98.99545796018592,
          87.93662128641755,
          127.40876193104695,
          107.40623567030265,
          129.05175929081793,
          96.80182192646632,
          113.68396850683364,
          116.94741836517912,
          72.77196664210635,
          96.88500190305483,
          112.70172723255224,
          64.60695706675642,
          86.75406247716222,
          78.6156908485435,
          106.011415039911,
          155.51058425024394,
          116.5614524448961,
          82.46783696245248,
          101.49945937668024,
          103.21027825467738,
          115.03930636729166,
          112.15573918006794,
          87.4664567864969,
          74.59875600298113,
          115.89621777563501,
          122.85117724438064,
          92.57013759050854,
          103.42481480925841,
          101.8483815244196,
          108.7974524426228,
          121.38203882209275,
          91.52690168231219,
          128.63636968149567,
          74.7756238117532,
          76.24303851365552,
          139.14827505577875,
          92.78046026095474,
          91.1674306550581,
          94.0174648495487,
          119.13201880078918,
          87.14310672669305,
          129.18271616974624,
          115.79570953040562,
          95.51019291824092,
          112.63729687650063,
          100.77993304375285,
          97.84325934212652,
          124.20211642670917,
          143.59750828073828,
          102.65433865835253,
          84.12145722412562,
          151.09729506883644,
          119.80281517397887,
          99.37658395355912,
          126.94755138271609,
          122.50176422952272,
          88.6102009014311,
          117.5959655539159,
          117.76197166963651,
          102.4474246648817,
          116.45382049989462,
          111.82411116636213,
          147.11567452687845,
          69.58256083690549,
          73.64566528037412,
          125.81397905533575,
          97.20863588642825,
          154.57361430218066,
          87.96509181148883,
          108.50182721820951,
          80.17724066548968,
          117.28715136804618,
          167.51270297929395,
          118.08739800540323,
          146.90689055436243,
          125.95422909886878,
          91.78538367822726,
          65.42009025404076,
          135.2051000228171,
          116.4381942432489,
          100.32111917959944,
          77.32280682319589,
          119.78895949738889,
          133.17944052767285,
          147.36666920703584,
          116.60613424535553,
          82.85915571141666,
          101.72468920642967,
          115.13486580460216,
          104.42821400799657,
          94.88743726289387,
          104.97373222199063,
          89.7723511853605,
          95.24370854925348,
          109.42247734537702,
          104.69427747770196,
          73.61972734079498,
          97.63829704126698,
          167.1927070081392,
          92.53585241786719,
          124.55436863015629,
          108.0661358650097,
          85.36749492889491,
          97.79797906272951,
          134.90334266668742,
          108.63417896617442,
          89.64902116326884,
          98.1828477184991,
          112.44818994590372,
          111.11843894883569,
          133.79109197822098,
          110.72033886686025,
          147.0776580325823,
          91.92740536024502,
          120.5670564054652,
          91.34337362017854,
          105.93819813511057,
          90.11799572761203,
          111.21479109190248,
          99.35019672994956,
          136.7453846822023,
          84.72396425207722,
          132.47307316738588,
          118.15955895493649,
          116.11467577089209,
          96.39379812246709,
          106.86640342217045,
          99.20110592460625,
          93.26923503279063,
          107.4753508056864,
          91.91366201553832,
          123.75574312855437,
          121.78481506401832,
          91.65337435437247,
          111.83827375419035,
          85.0472077817511,
          87.128829075733,
          152.2939509869739,
          67.77151971315733,
          92.28057643078158,
          91.15389531584428,
          101.29482845907977,
          67.05158504214776,
          116.61434314930027,
          105.53830338811754,
          119.33015824069282,
          117.31132646284496,
          83.19133639539689,
          74.83421480616633,
          127.66758196096809,
          125.45868381097932,
          98.57294460087745,
          94.23082569630273,
          103.32354086477845,
          97.05055878467529,
          98.61418812864648,
          123.97068497334084,
          94.20603920582866,
          99.07327432600354,
          103.56066846619872,
          132.98102647910918,
          119.37611522284445,
          87.72657735895267,
          104.06561172768964,
          89.98330193087487,
          92.29690067680427,
          91.37959685552671,
          74.96828498519604,
          97.62149780963819,
          97.94001293460462,
          107.54768786401391,
          115.3506265882798,
          119.95673680613515,
          88.81244886029134,
          92.3462815714413,
          96.06690340844949,
          91.26159596626194,
          109.18620167700966,
          114.60616440884982,
          107.77034407801189,
          89.1979972451837,
          97.28299296058316,
          116.15332328095859,
          111.86694813030181,
          106.34687739135666,
          92.68389644205837,
          86.78793604864285,
          148.42086138418708,
          103.98890742684455,
          136.04704396360376,
          120.92311581564805,
          94.09661063998634,
          67.58593749414233,
          93.75269164563029,
          69.3281040136861,
          106.41268767337091,
          95.50925778950551,
          110.04611753103767,
          82.78150188441552,
          103.20391088878338,
          88.26901348407253,
          96.711858752552,
          122.06618480903366,
          117.2845322349194,
          100.228664790671,
          83.89424192696687,
          113.66870945488526,
          140.2823893940472,
          128.95292268024082,
          86.0226340595664,
          95.62696617241689,
          79.79617339129538,
          136.60570359850826,
          93.88614712334899,
          117.99630666789842,
          121.75936524598154,
          141.6001822762604,
          110.38612755507717,
          68.0248712088042,
          90.00389993041486,
          99.6453399135892,
          117.6253997974566,
          103.25714144733043,
          103.61501963156232,
          101.64354375466822,
          117.98997378061118,
          117.40870951103567,
          107.88816928043904,
          128.2009104426778,
          83.91255595758818,
          110.29555867392033,
          91.50770080403419,
          131.41745545967257,
          85.80189083316479,
          88.8513892374485,
          98.43554797205186,
          123.34175218371686,
          98.66463309886903,
          123.45626416208806,
          87.14046378482428,
          143.7008787461584,
          123.39722653184049,
          126.32455342483186,
          66.17943289056095,
          76.8394796965569,
          138.45012759360802,
          127.71551220380367,
          111.8864699881905,
          92.05811698857137,
          84.44148256471559,
          67.58431148818741,
          118.22200886832579,
          68.90733864862844,
          128.31071675970725,
          118.27715923109906,
          108.12155063557144,
          113.27227131634118,
          129.22232576198763,
          101.47757337829505,
          123.84875608059667,
          117.66871672249798,
          102.72239400490025,
          114.15993282996553,
          92.688787672224,
          112.70571072805403
         ]
        }
       ],
       "layout": {
        "autosize": true,
        "template": {
         "data": {
          "bar": [
           {
            "error_x": {
             "color": "#2a3f5f"
            },
            "error_y": {
             "color": "#2a3f5f"
            },
            "marker": {
             "line": {
              "color": "#E5ECF6",
              "width": 0.5
             }
            },
            "type": "bar"
           }
          ],
          "barpolar": [
           {
            "marker": {
             "line": {
              "color": "#E5ECF6",
              "width": 0.5
             }
            },
            "type": "barpolar"
           }
          ],
          "carpet": [
           {
            "aaxis": {
             "endlinecolor": "#2a3f5f",
             "gridcolor": "white",
             "linecolor": "white",
             "minorgridcolor": "white",
             "startlinecolor": "#2a3f5f"
            },
            "baxis": {
             "endlinecolor": "#2a3f5f",
             "gridcolor": "white",
             "linecolor": "white",
             "minorgridcolor": "white",
             "startlinecolor": "#2a3f5f"
            },
            "type": "carpet"
           }
          ],
          "choropleth": [
           {
            "colorbar": {
             "outlinewidth": 0,
             "ticks": ""
            },
            "type": "choropleth"
           }
          ],
          "contour": [
           {
            "colorbar": {
             "outlinewidth": 0,
             "ticks": ""
            },
            "colorscale": [
             [
              0,
              "#0d0887"
             ],
             [
              0.1111111111111111,
              "#46039f"
             ],
             [
              0.2222222222222222,
              "#7201a8"
             ],
             [
              0.3333333333333333,
              "#9c179e"
             ],
             [
              0.4444444444444444,
              "#bd3786"
             ],
             [
              0.5555555555555556,
              "#d8576b"
             ],
             [
              0.6666666666666666,
              "#ed7953"
             ],
             [
              0.7777777777777778,
              "#fb9f3a"
             ],
             [
              0.8888888888888888,
              "#fdca26"
             ],
             [
              1,
              "#f0f921"
             ]
            ],
            "type": "contour"
           }
          ],
          "contourcarpet": [
           {
            "colorbar": {
             "outlinewidth": 0,
             "ticks": ""
            },
            "type": "contourcarpet"
           }
          ],
          "heatmap": [
           {
            "colorbar": {
             "outlinewidth": 0,
             "ticks": ""
            },
            "colorscale": [
             [
              0,
              "#0d0887"
             ],
             [
              0.1111111111111111,
              "#46039f"
             ],
             [
              0.2222222222222222,
              "#7201a8"
             ],
             [
              0.3333333333333333,
              "#9c179e"
             ],
             [
              0.4444444444444444,
              "#bd3786"
             ],
             [
              0.5555555555555556,
              "#d8576b"
             ],
             [
              0.6666666666666666,
              "#ed7953"
             ],
             [
              0.7777777777777778,
              "#fb9f3a"
             ],
             [
              0.8888888888888888,
              "#fdca26"
             ],
             [
              1,
              "#f0f921"
             ]
            ],
            "type": "heatmap"
           }
          ],
          "heatmapgl": [
           {
            "colorbar": {
             "outlinewidth": 0,
             "ticks": ""
            },
            "colorscale": [
             [
              0,
              "#0d0887"
             ],
             [
              0.1111111111111111,
              "#46039f"
             ],
             [
              0.2222222222222222,
              "#7201a8"
             ],
             [
              0.3333333333333333,
              "#9c179e"
             ],
             [
              0.4444444444444444,
              "#bd3786"
             ],
             [
              0.5555555555555556,
              "#d8576b"
             ],
             [
              0.6666666666666666,
              "#ed7953"
             ],
             [
              0.7777777777777778,
              "#fb9f3a"
             ],
             [
              0.8888888888888888,
              "#fdca26"
             ],
             [
              1,
              "#f0f921"
             ]
            ],
            "type": "heatmapgl"
           }
          ],
          "histogram": [
           {
            "marker": {
             "colorbar": {
              "outlinewidth": 0,
              "ticks": ""
             }
            },
            "type": "histogram"
           }
          ],
          "histogram2d": [
           {
            "colorbar": {
             "outlinewidth": 0,
             "ticks": ""
            },
            "colorscale": [
             [
              0,
              "#0d0887"
             ],
             [
              0.1111111111111111,
              "#46039f"
             ],
             [
              0.2222222222222222,
              "#7201a8"
             ],
             [
              0.3333333333333333,
              "#9c179e"
             ],
             [
              0.4444444444444444,
              "#bd3786"
             ],
             [
              0.5555555555555556,
              "#d8576b"
             ],
             [
              0.6666666666666666,
              "#ed7953"
             ],
             [
              0.7777777777777778,
              "#fb9f3a"
             ],
             [
              0.8888888888888888,
              "#fdca26"
             ],
             [
              1,
              "#f0f921"
             ]
            ],
            "type": "histogram2d"
           }
          ],
          "histogram2dcontour": [
           {
            "colorbar": {
             "outlinewidth": 0,
             "ticks": ""
            },
            "colorscale": [
             [
              0,
              "#0d0887"
             ],
             [
              0.1111111111111111,
              "#46039f"
             ],
             [
              0.2222222222222222,
              "#7201a8"
             ],
             [
              0.3333333333333333,
              "#9c179e"
             ],
             [
              0.4444444444444444,
              "#bd3786"
             ],
             [
              0.5555555555555556,
              "#d8576b"
             ],
             [
              0.6666666666666666,
              "#ed7953"
             ],
             [
              0.7777777777777778,
              "#fb9f3a"
             ],
             [
              0.8888888888888888,
              "#fdca26"
             ],
             [
              1,
              "#f0f921"
             ]
            ],
            "type": "histogram2dcontour"
           }
          ],
          "mesh3d": [
           {
            "colorbar": {
             "outlinewidth": 0,
             "ticks": ""
            },
            "type": "mesh3d"
           }
          ],
          "parcoords": [
           {
            "line": {
             "colorbar": {
              "outlinewidth": 0,
              "ticks": ""
             }
            },
            "type": "parcoords"
           }
          ],
          "pie": [
           {
            "automargin": true,
            "type": "pie"
           }
          ],
          "scatter": [
           {
            "marker": {
             "colorbar": {
              "outlinewidth": 0,
              "ticks": ""
             }
            },
            "type": "scatter"
           }
          ],
          "scatter3d": [
           {
            "line": {
             "colorbar": {
              "outlinewidth": 0,
              "ticks": ""
             }
            },
            "marker": {
             "colorbar": {
              "outlinewidth": 0,
              "ticks": ""
             }
            },
            "type": "scatter3d"
           }
          ],
          "scattercarpet": [
           {
            "marker": {
             "colorbar": {
              "outlinewidth": 0,
              "ticks": ""
             }
            },
            "type": "scattercarpet"
           }
          ],
          "scattergeo": [
           {
            "marker": {
             "colorbar": {
              "outlinewidth": 0,
              "ticks": ""
             }
            },
            "type": "scattergeo"
           }
          ],
          "scattergl": [
           {
            "marker": {
             "colorbar": {
              "outlinewidth": 0,
              "ticks": ""
             }
            },
            "type": "scattergl"
           }
          ],
          "scattermapbox": [
           {
            "marker": {
             "colorbar": {
              "outlinewidth": 0,
              "ticks": ""
             }
            },
            "type": "scattermapbox"
           }
          ],
          "scatterpolar": [
           {
            "marker": {
             "colorbar": {
              "outlinewidth": 0,
              "ticks": ""
             }
            },
            "type": "scatterpolar"
           }
          ],
          "scatterpolargl": [
           {
            "marker": {
             "colorbar": {
              "outlinewidth": 0,
              "ticks": ""
             }
            },
            "type": "scatterpolargl"
           }
          ],
          "scatterternary": [
           {
            "marker": {
             "colorbar": {
              "outlinewidth": 0,
              "ticks": ""
             }
            },
            "type": "scatterternary"
           }
          ],
          "surface": [
           {
            "colorbar": {
             "outlinewidth": 0,
             "ticks": ""
            },
            "colorscale": [
             [
              0,
              "#0d0887"
             ],
             [
              0.1111111111111111,
              "#46039f"
             ],
             [
              0.2222222222222222,
              "#7201a8"
             ],
             [
              0.3333333333333333,
              "#9c179e"
             ],
             [
              0.4444444444444444,
              "#bd3786"
             ],
             [
              0.5555555555555556,
              "#d8576b"
             ],
             [
              0.6666666666666666,
              "#ed7953"
             ],
             [
              0.7777777777777778,
              "#fb9f3a"
             ],
             [
              0.8888888888888888,
              "#fdca26"
             ],
             [
              1,
              "#f0f921"
             ]
            ],
            "type": "surface"
           }
          ],
          "table": [
           {
            "cells": {
             "fill": {
              "color": "#EBF0F8"
             },
             "line": {
              "color": "white"
             }
            },
            "header": {
             "fill": {
              "color": "#C8D4E3"
             },
             "line": {
              "color": "white"
             }
            },
            "type": "table"
           }
          ]
         },
         "layout": {
          "annotationdefaults": {
           "arrowcolor": "#2a3f5f",
           "arrowhead": 0,
           "arrowwidth": 1
          },
          "coloraxis": {
           "colorbar": {
            "outlinewidth": 0,
            "ticks": ""
           }
          },
          "colorscale": {
           "diverging": [
            [
             0,
             "#8e0152"
            ],
            [
             0.1,
             "#c51b7d"
            ],
            [
             0.2,
             "#de77ae"
            ],
            [
             0.3,
             "#f1b6da"
            ],
            [
             0.4,
             "#fde0ef"
            ],
            [
             0.5,
             "#f7f7f7"
            ],
            [
             0.6,
             "#e6f5d0"
            ],
            [
             0.7,
             "#b8e186"
            ],
            [
             0.8,
             "#7fbc41"
            ],
            [
             0.9,
             "#4d9221"
            ],
            [
             1,
             "#276419"
            ]
           ],
           "sequential": [
            [
             0,
             "#0d0887"
            ],
            [
             0.1111111111111111,
             "#46039f"
            ],
            [
             0.2222222222222222,
             "#7201a8"
            ],
            [
             0.3333333333333333,
             "#9c179e"
            ],
            [
             0.4444444444444444,
             "#bd3786"
            ],
            [
             0.5555555555555556,
             "#d8576b"
            ],
            [
             0.6666666666666666,
             "#ed7953"
            ],
            [
             0.7777777777777778,
             "#fb9f3a"
            ],
            [
             0.8888888888888888,
             "#fdca26"
            ],
            [
             1,
             "#f0f921"
            ]
           ],
           "sequentialminus": [
            [
             0,
             "#0d0887"
            ],
            [
             0.1111111111111111,
             "#46039f"
            ],
            [
             0.2222222222222222,
             "#7201a8"
            ],
            [
             0.3333333333333333,
             "#9c179e"
            ],
            [
             0.4444444444444444,
             "#bd3786"
            ],
            [
             0.5555555555555556,
             "#d8576b"
            ],
            [
             0.6666666666666666,
             "#ed7953"
            ],
            [
             0.7777777777777778,
             "#fb9f3a"
            ],
            [
             0.8888888888888888,
             "#fdca26"
            ],
            [
             1,
             "#f0f921"
            ]
           ]
          },
          "colorway": [
           "#636efa",
           "#EF553B",
           "#00cc96",
           "#ab63fa",
           "#FFA15A",
           "#19d3f3",
           "#FF6692",
           "#B6E880",
           "#FF97FF",
           "#FECB52"
          ],
          "font": {
           "color": "#2a3f5f"
          },
          "geo": {
           "bgcolor": "white",
           "lakecolor": "white",
           "landcolor": "#E5ECF6",
           "showlakes": true,
           "showland": true,
           "subunitcolor": "white"
          },
          "hoverlabel": {
           "align": "left"
          },
          "hovermode": "closest",
          "mapbox": {
           "style": "light"
          },
          "paper_bgcolor": "white",
          "plot_bgcolor": "#E5ECF6",
          "polar": {
           "angularaxis": {
            "gridcolor": "white",
            "linecolor": "white",
            "ticks": ""
           },
           "bgcolor": "#E5ECF6",
           "radialaxis": {
            "gridcolor": "white",
            "linecolor": "white",
            "ticks": ""
           }
          },
          "scene": {
           "xaxis": {
            "backgroundcolor": "#E5ECF6",
            "gridcolor": "white",
            "gridwidth": 2,
            "linecolor": "white",
            "showbackground": true,
            "ticks": "",
            "zerolinecolor": "white"
           },
           "yaxis": {
            "backgroundcolor": "#E5ECF6",
            "gridcolor": "white",
            "gridwidth": 2,
            "linecolor": "white",
            "showbackground": true,
            "ticks": "",
            "zerolinecolor": "white"
           },
           "zaxis": {
            "backgroundcolor": "#E5ECF6",
            "gridcolor": "white",
            "gridwidth": 2,
            "linecolor": "white",
            "showbackground": true,
            "ticks": "",
            "zerolinecolor": "white"
           }
          },
          "shapedefaults": {
           "line": {
            "color": "#2a3f5f"
           }
          },
          "ternary": {
           "aaxis": {
            "gridcolor": "white",
            "linecolor": "white",
            "ticks": ""
           },
           "baxis": {
            "gridcolor": "white",
            "linecolor": "white",
            "ticks": ""
           },
           "bgcolor": "#E5ECF6",
           "caxis": {
            "gridcolor": "white",
            "linecolor": "white",
            "ticks": ""
           }
          },
          "title": {
           "x": 0.05
          },
          "xaxis": {
           "automargin": true,
           "gridcolor": "white",
           "linecolor": "white",
           "ticks": "",
           "title": {
            "standoff": 15
           },
           "zerolinecolor": "white",
           "zerolinewidth": 2
          },
          "yaxis": {
           "automargin": true,
           "gridcolor": "white",
           "linecolor": "white",
           "ticks": "",
           "title": {
            "standoff": 15
           },
           "zerolinecolor": "white",
           "zerolinewidth": 2
          }
         }
        },
        "xaxis": {
         "autorange": true,
         "range": [
          -0.5,
          2.5
         ],
         "type": "category"
        },
        "yaxis": {
         "autorange": true,
         "range": [
          48.09784808985093,
          173.7976953418962
         ],
         "type": "linear"
        }
       }
      },
      "image/png": "[encoded data removed]"
     },
     "metadata": {},
     "output_type": "display_data"
    }
   ],
   "source": [
    "trace = []\n",
    "vals = [group_a, group_b, control_group]\n",
    "groups = [\"Group A\", \"Group B\", \"Control group\"]\n",
    "\n",
    "for i in range(0, len(groups)):\n",
    "        trace.append(go.Box(y = vals[i],\n",
    "                           name = groups[i],\n",
    "                           boxpoints = \"outliers\"))\n",
    "        \n",
    "data = trace\n",
    "\n",
    "# iplot({\"data\":data}) # Old way of showing things\n",
    "pio.show({\"data\":data}) # New way: replace iplot with pio.show()"
   ]
  },
  {
   "cell_type": "markdown",
   "metadata": {},
   "source": [
    "## Horizontal boxplots"
   ]
  },
  {
   "cell_type": "code",
   "execution_count": 9,
   "metadata": {},
   "outputs": [
    {
     "data": {
      "application/vnd.plotly.v1+json": {
       "config": {
        "plotlyServerURL": "https://plot.ly"
       },
       "data": [
        {
         "name": "Group A",
         "type": "box",
         "x": [
          104.71435163732492,
          88.09024305293535,
          114.32706968426098,
          96.87348103908288,
          92.79411266634989,
          108.87162940307738,
          108.59588413717417,
          93.63476495582651,
          100.1569637211443,
          77.57315045814595,
          111.50035724719818,
          109.91946022342678,
          109.5332412811243,
          79.7874517980503,
          96.65922634191904,
          100.02118364683487,
          104.05453411570191,
          102.89091940980035,
          113.21158192129386,
          84.5309444677076,
          97.97353675370817,
          93.44030655861066,
          101.93421376470359,
          105.53438910956741,
          113.18151554180136,
          95.306947152941,
          106.75554085122381,
          81.82972773409803,
          98.16891459821001,
          110.58969187571151,
          96.02159771800008,
          103.37437653613972,
          110.47578572892722,
          110.45938255627665,
          108.63717291684839,
          98.77908425152326,
          101.24712953768216,
          96.77205194391705,
          108.41674712996142,
          123.90960515463033,
          100.76199587837236,
          94.33554069535043,
          100.36141936684072,
          79.25022399309971,
          102.47792199748547,
          91.02843215560301,
          98.63205166738652,
          100.1828919134922,
          107.55413982398136,
          102.15268580969443,
          108.4100879493139,
          85.54189922955693,
          85.98026718499156,
          98.99081800051086,
          94.51757550813144,
          98.55380491630616,
          103.54020332199238,
          99.64486974721859,
          105.65738306062595,
          115.45658804625558,
          90.25763666232685,
          99.29655122895898,
          103.07968855216035,
          97.9150123689412,
          110.338007325555,
          75.99546366187704,
          120.306036208388,
          88.57368710977237,
          102.11883386777701,
          107.04720624317109,
          92.14564788236802,
          104.62059737162049,
          107.04228225462174,
          105.23507967893809,
          90.73745686469775,
          120.07842950778,
          102.26962541870896,
          88.47340890749048,
          106.3197944580913,
          100.39512686693367,
          104.64392325050896,
          64.36483339375265,
          113.21105615470206,
          101.52630552204535,
          101.64529542932398,
          95.69904309123513,
          107.67368735752412,
          109.84919841909897,
          102.70835848826803,
          113.91986193446408,
          100.79842313008629,
          96.00035419303478,
          89.72149441318095,
          94.15281788739212,
          108.16593926547841,
          99.18052948173334,
          96.55233985745356,
          105.28288145297394,
          89.31011216519867,
          94.88118690873185,
          102.91205359743063,
          105.66533696353572,
          105.03591759111202,
          102.85295684781858,
          104.8428811274975,
          113.63481512426145,
          92.18894716374608,
          95.31982333662515,
          112.24574355126174,
          87.18891724855958,
          108.75475504274324,
          82.89284675970471,
          95.49234896863726,
          107.49163805919065,
          97.96067133898748,
          98.17824588334265,
          106.80656004381457,
          81.81501009608385,
          100.47071635325712,
          103.94844209327205,
          97.51567945619153,
          93.82293352002984,
          93.17116003550666,
          104.36257604340916,
          82.96987225886762,
          103.93710599138666,
          95.20675996424502,
          97.0098370703392,
          106.94103287678765,
          106.78629673709857,
          102.39555995003897,
          101.5122662929445,
          108.16127233360041,
          118.935344675962,
          106.39632763193703,
          90.37971168094809,
          79.14734357879891,
          119.30246767465576,
          82.64651125529608,
          112.10383704904514,
          107.97435419427873,
          96.20189215952621,
          107.025622240016,
          91.49653728344884,
          111.76812450104929,
          94.75663897367544,
          107.00907730915604,
          109.84188070722415,
          98.7827159133318,
          123.65768628840038,
          104.96142926247595,
          107.96594866664952,
          95.25979109874315,
          99.4330428350907,
          113.57797258107058,
          91.95166275833296,
          78.7637975090707,
          96.66497559566753,
          91.13280647514623,
          103.34197930899009,
          105.3678382490275,
          92.56169632063799,
          96.7979611775912,
          90.83801138733459,
          91.4033170001826,
          102.25985486733755,
          106.28775826538295,
          101.86494348773074,
          109.52478345109122,
          109.88137582593309,
          99.27391686037325,
          94.49397076436581,
          90.61847385906896,
          87.60928437405207,
          101.39683274031295,
          97.76981018117525,
          121.23691888593552,
          101.22273434258828,
          85.90568260077231,
          114.22985952772243,
          78.52144962356391,
          86.52467486542245,
          103.63564556806648,
          99.85247888195406,
          112.7239507854621,
          85.50433391136613,
          88.0447625833303,
          94.08137026852751,
          95.8549515646781,
          85.74205266561978,
          102.09394787535923,
          94.07113996161074,
          85.26883586534353,
          91.03419384698128,
          111.04351569860313,
          95.68450484483955,
          98.38863091755941,
          108.89157494072873,
          102.88376847715266,
          89.48461062429962,
          96.80438600159769,
          93.80006912278797,
          101.56998376446688,
          94.2854464892021,
          110.57633183204614,
          92.08511190522114,
          94.75372654071529,
          100.71878039370368,
          119.10759427277182,
          107.87964683137615,
          105.13082144466992,
          94.53583719726406,
          110.43944655495324,
          121.0778515279337,
          114.59927481585294,
          110.1540545781252,
          107.49184600924198,
          93.24478521563312,
          104.4026639166873,
          106.88971856326943,
          97.23353872723013,
          119.2453332001529,
          104.11204020707224,
          108.90764956173118,
          102.26363227251707,
          79.21382106297824,
          96.12113768032825,
          99.12893030036001,
          111.26385822137273,
          102.47111716157737,
          101.21171805331541,
          102.98983935542047,
          98.42900863153348,
          92.59530977219282,
          87.52347076948767,
          102.49455215152449,
          105.81073320620607,
          127.63844079849567,
          103.99325436979576,
          106.68488169205806,
          97.24226271343694,
          105.00482900154373,
          108.63064860590625,
          89.48372140534788,
          86.07945922506913,
          111.53922240612225,
          111.81944105999231,
          103.91371448421931,
          91.1895290779843,
          102.9507995978624,
          118.63801062132504,
          82.87726075528744,
          85.92915454256774,
          101.26781186326971,
          100.03759847795496,
          87.31005743926607,
          91.6115707857971,
          105.5392125143972,
          94.95957281918037,
          92.11559815482121,
          115.29400674483931,
          102.0545485392598,
          103.1301312898086,
          108.665207121683,
          102.99070529594377,
          110.76540643846121,
          103.63177347544452,
          118.93679825551843,
          95.14247255717191,
          103.87674455777598,
          100.23557610392554,
          93.3977049795572,
          96.81315070421985,
          92.77337806325627,
          101.77386719384599,
          109.83512729343164,
          100.23504585885395,
          105.53776977863366,
          103.53769293996639,
          97.24406366232317,
          95.09516408521318,
          96.2556339980722,
          76.02496023861184,
          115.41029983277939,
          100.63084538957305,
          97.15559316073707,
          87.3439946239879,
          117.8797963245575,
          96.45491291930625,
          98.95238876932896,
          103.86253689189053,
          108.22775373765373,
          93.16210177568992,
          110.57203331214129,
          100.31879973569032,
          113.43182457528941,
          99.49460310451228,
          96.35990043692891,
          84.4665766056894,
          96.80702198179839,
          105.27046450954964,
          107.11112399364823,
          97.82454519509524,
          126.37791210703864,
          82.57862369405035,
          99.05565192258555,
          114.31183752254563,
          105.92758446550668,
          101.70296895326288,
          82.48294052207976,
          102.88581322343208,
          94.5742048309322,
          101.71602381985996,
          109.82817829243105,
          99.74651097937232,
          97.12447550715892,
          109.24442867343366,
          99.38753700133685,
          92.68966657414794,
          89.77226295304857,
          109.95992970245753,
          109.55557932627455,
          107.13840771195044,
          101.33370962194122,
          91.92961691527186,
          96.57989218120785,
          119.08779658091186,
          101.55923261453127,
          107.59652532092963,
          95.76993771580752,
          101.81672745323682,
          102.74492570746403,
          100.67912357380757,
          99.6301718512408,
          98.29198969302378,
          102.66973231539868,
          113.82997248852925,
          99.77539126488574,
          101.31395367225915,
          104.34437185102232,
          102.64534068316999,
          105.65658344273825,
          105.85084279501724,
          98.25701847247913,
          89.2863132854491,
          99.51539497447617,
          91.54709610433757,
          104.1510055838158,
          104.25530591397859,
          90.19275642499414,
          95.72173890027979,
          114.98569955138537,
          96.39843429130973,
          95.41759610662507,
          86.62031598049029,
          99.58613460385128,
          108.21047956107915,
          120.97800780771692,
          112.82933246874524,
          102.70337925739372,
          110.03140362044931,
          110.78673551320406,
          103.40752685129765,
          98.01925040376432,
          124.81458422875653,
          113.85254876189207,
          88.45399034610331,
          87.31930949622918,
          106.07862186209479,
          89.19903516842409,
          93.88718325204238,
          101.02035112292332,
          85.63426063227881,
          102.10717052505655,
          91.03095829302488,
          82.75606921008168,
          117.92339196646942,
          86.87287293407769,
          105.55877426385625,
          93.1811869450887,
          115.72742745755804,
          98.95348425152234,
          118.50397801609901,
          96.666495732506,
          101.93464233819873,
          95.03255062135091,
          110.32723215735861,
          82.60196202477441,
          92.44137824377091,
          91.18888267352065,
          103.93892262912675,
          90.49974465203717,
          103.32506622162249,
          105.28944408856047,
          88.79479006007276,
          100.48264206925657,
          100.61988450521777,
          89.72484326782133,
          97.61664634532674,
          119.32178169581346,
          97.73367706323164,
          90.76169279823077,
          103.5583899747282,
          87.29936521613712,
          98.04527587303241,
          95.36580600782537,
          109.8941484728585,
          113.88647381631716,
          110.87713736524141,
          104.38801263034391,
          90.38397759118764,
          112.45609937147846,
          105.02925517670631,
          93.6860122162148,
          92.9574795291174,
          97.59517463241657,
          105.85599310929858,
          103.52800560108406,
          81.84442307567915,
          90.89876154304858,
          92.5147204666094,
          98.91875073519736,
          102.74778837052168,
          102.37349764509425,
          97.40156305636611,
          96.875578228436,
          104.48509742512407,
          99.40468035295599,
          95.29985186602214,
          103.49566771627666,
          89.72531152826387,
          96.93361516130389,
          114.06176139494268,
          87.50303227205647,
          84.39851111114767,
          115.57397650649023,
          94.06643605023513,
          98.297114876705,
          116.72626808454706,
          94.59200192350124,
          93.15871671233415,
          105.99962085981993,
          97.82800874855361,
          103.31526518352153,
          96.16635419849172,
          92.18183911926889,
          102.66237406827837,
          102.79428024532737,
          87.8037430482623,
          92.76051083244495,
          82.65221692456066,
          102.71660784374025,
          100.9911201694909,
          96.36910093562742,
          94.1177327171148,
          100.25941713524132,
          94.27697649254841,
          111.05586962797162,
          87.91984407170352,
          86.60298960025085,
          120.75185406731782,
          85.1059029866899,
          88.49046934374036,
          104.19059824673965,
          104.13405276424496,
          107.17576932588283,
          102.61724839679904,
          97.57228728899638,
          94.98731867248333,
          93.01871021031145,
          113.84580160839074,
          97.13574586064244,
          105.00069585028226,
          119.51103236540061,
          97.21632538406992,
          100.3678625863071,
          104.45852506261001,
          85.89649242319331,
          104.50001300695475,
          105.15479530793898,
          88.45916059617397,
          86.19826604928161,
          95.04166994786837,
          95.86720927581129,
          82.80683332072451,
          99.70439097246916,
          92.33960116477171,
          100.99882076502627,
          92.86976043370255,
          77.73882379022413,
          107.25714153121955,
          109.16976283069235,
          94.36109759588744,
          84.7782044317683,
          99.85721211372437,
          97.53279193181116,
          98.34670523482721,
          101.19113982598341,
          79.25019513829952,
          89.97244782983083
         ]
        },
        {
         "name": "Group B",
         "type": "box",
         "x": [
          117.85319027095699,
          122.32275963498384,
          107.76887226000706,
          109.31944382061062,
          99.43260611705358,
          135.9547327925951,
          113.4339088325608,
          126.39111585936259,
          104.6964271000786,
          109.54011702594823,
          106.99742224068986,
          102.78034640964088,
          135.67138995517365,
          131.5308062937893,
          92.48719500138492,
          110.61265137149003,
          115.43027293505668,
          118.58888286564869,
          126.56690355099724,
          103.61491960219111,
          121.33533264273035,
          110.15422185732992,
          113.36878656147344,
          92.97937660147565,
          95.72718588152665,
          108.09304315886351,
          110.43416747601685,
          141.56116049943958,
          133.51271215195575,
          100.6365555081369,
          103.99033696910035,
          92.94407692686313,
          96.4526144450468,
          93.54082906371453,
          108.9303618555335,
          90.2099137002372,
          101.59860581184392,
          112.47431835550046,
          100.52621318113322,
          96.99395330655847,
          94.96155993934003,
          128.1102230486851,
          135.67980519478988,
          100.63115781047432,
          106.81781294021062,
          92.09653726588482,
          119.86378838649767,
          113.00119822328591,
          126.36889788832627,
          102.66466912589436,
          130.52330393338937,
          123.37437676290213,
          122.56349318675205,
          117.7121707008387,
          109.24925461385249,
          121.1592926924734,
          84.1392469469281,
          111.34852359909092,
          114.841093428278,
          104.34275861582665,
          109.99668652547601,
          125.75170540668832,
          107.46951331673728,
          121.96814744631745,
          118.28786469736997,
          92.70360107293729,
          134.62328283543206,
          88.41533248288636,
          140.4160927072628,
          89.52024018239504,
          111.08223293588428,
          119.19727517636966,
          132.33749639441368,
          113.31944862551931,
          87.03661837420078,
          122.02832321324726,
          103.63299930704991,
          126.78282458203796,
          133.5432209687427,
          131.41597656601454,
          89.42243190324959,
          106.00373161036705,
          121.68821847821363,
          108.45778557972478,
          101.20303067362418,
          113.60378981892575,
          95.02916511842692,
          112.86754869234807,
          95.70795467628636,
          132.0649486925751,
          120.78357382314347,
          107.50160634084637,
          121.4691694503233,
          92.15834793728209,
          101.97714104419603,
          109.67603230030025,
          93.42212612780321,
          94.16080492212596,
          125.32033488485084,
          135.6448414246981,
          110.44342927906426,
          111.85763024657356,
          114.34145085054463,
          105.4776163408018,
          116.21652516919717,
          124.24786851706673,
          117.82772813164284,
          80.46105688922242,
          117.54215041636677,
          104.6836634099936,
          103.29514277282908,
          93.24532421096345,
          98.17600426128355,
          125.83628245948795,
          90.4318818365452,
          118.09602856014193,
          115.20486875560054,
          123.11289339995824,
          86.37230956068865,
          107.60024515737574,
          100.35000145749555,
          99.26943670053058,
          135.49188395932444,
          129.2425583703005,
          103.21163500522688,
          115.90700190673742,
          116.38610915878694,
          108.04928851712607,
          104.09400250727657,
          100.3841033883777,
          112.57946382073179,
          97.39776471059982,
          122.97497462787435,
          106.92708001877807,
          108.39389998501193,
          106.36839972402922,
          96.46275837594276,
          121.96806329479446,
          105.66356318514278,
          120.15466418998633,
          104.85223949104194,
          117.30815201911767,
          121.48498037244217,
          76.99153346383821,
          71.05906404831237,
          117.1351225717477,
          86.0767153215165,
          93.3488490250094,
          95.02390256722362,
          75.86290096180007,
          133.29210811799805,
          92.76051846988526,
          112.8279594289646,
          124.83445674630472,
          86.20795545060568,
          102.91428686684354,
          107.16730478186386,
          113.16690620492606,
          134.17583438683846,
          118.50095662719845,
          100.38234119801922,
          133.0816091174001,
          114.6449597884243,
          103.26726979471958,
          136.53650855468842,
          114.02300731945657,
          88.0666240711215,
          137.76215253458304,
          135.51154258506443,
          115.3008658392247,
          115.04733531653288,
          125.85658151663418,
          127.98018083701501,
          71.08018595507176,
          99.27881938765113,
          122.06519062458482,
          127.87483018807785,
          108.08951923825497,
          93.8753710101696,
          131.72403687775966,
          105.82468580426543,
          94.4477200408859,
          113.02177199573381,
          117.52633698486093,
          134.20002383017192,
          81.53434057624247,
          129.48623860664418,
          118.29776638958454,
          106.99456555990008,
          118.18504992639575,
          113.93429928459754,
          113.28605314520578,
          123.98529398402722,
          136.14578641821274,
          108.12944480345226,
          124.31047500702722,
          120.68076423837336,
          101.30995014176462,
          98.57270816725912,
          134.92253193115647,
          148.21537553686574,
          109.4163151395633,
          104.65386189142622,
          82.06147019848706,
          149.77998677201316,
          107.95654444465498,
          111.55624009956449,
          111.73148338526984,
          113.88005696684058,
          132.31614997942185,
          131.81515214585949,
          120.56462447252147,
          131.99527063785007,
          115.30433273805144,
          93.71714804648087,
          115.44814641504453,
          82.80084301392009,
          107.03133860426249,
          116.49311888073917,
          101.89151318438465,
          114.43445982471343,
          141.19766355250553,
          82.36350620058431,
          102.33250975069143,
          101.2859730740789,
          125.94104699997959,
          110.2708266448442,
          110.34197599534058,
          84.80312772627596,
          122.18634501023757,
          100.61166940300848,
          91.2459377229691,
          119.22703187530927,
          108.17908083479307,
          90.78657092993666,
          114.8691470888788,
          120.0585408592618,
          112.23741984715063,
          114.90595705824346,
          104.70557464787268,
          96.41708539334493,
          135.14278138364693,
          120.21494011590156,
          99.44423584109889,
          111.53119623064836,
          127.9258420952672,
          105.83060921327586,
          109.2175206255524,
          115.3052540187472,
          103.87533856834169,
          82.84355498307218,
          96.45037906579839,
          125.8106763678397,
          95.28684684906526,
          115.28118337106568,
          119.98972760465905,
          125.98252252932232,
          106.57349580345947,
          115.46725856368741,
          87.2773001417685,
          108.87108069144162,
          105.54412877363936,
          99.08878427340107,
          106.31186989421631,
          108.08076586820552,
          104.46034070135808,
          70.65493573283703,
          141.73776093386851,
          120.28342378218716,
          107.63834022932375,
          130.7193165111951,
          111.02639838112823,
          114.6880443872508,
          116.81379777725543,
          98.17292187047224,
          109.0123949853326,
          88.72280230835463,
          107.90369989683619,
          101.66967715680352,
          102.47123331721978,
          120.39677782255649,
          106.31959254724752,
          90.95852211371218,
          106.06514217223894,
          145.06397723292585,
          98.27423843485954,
          111.20149618307376,
          89.90883318852039,
          116.2017644573775,
          113.06677951022982,
          117.1767994179455,
          110.44371456462855,
          107.26337023401592,
          110.26200012702215,
          140.81434295004217,
          72.02175029914955,
          116.3572202605738,
          95.66474726614047,
          107.99488684517331,
          93.83895012935808,
          128.74853766036736,
          118.56723130194655,
          114.45572643736183,
          123.0779782625244,
          107.54433205138655,
          120.34284798181902,
          139.7688485478483,
          108.22577172358982,
          124.32694878384909,
          92.29170670703344,
          132.05710908944658,
          109.67663174565459,
          120.66292206604217,
          97.82247421887914,
          76.23180402065233,
          93.10849721012241,
          105.38199881124658,
          95.57173196540266,
          120.06238938978828,
          110.95075139887345,
          100.1480617930365,
          105.6745522632092,
          106.70309756383226,
          113.00371941210388,
          97.31749638454002,
          149.64384027058568,
          104.99382844004649,
          107.81737459741238,
          123.40053061522536,
          129.32832107680971,
          114.96797282017225,
          108.8694815284052,
          109.08278516715644,
          137.84085299672853,
          98.70438076315807,
          104.89661195353091,
          101.73505941040548,
          100.93944010621685,
          141.83884939405195,
          110.30458281096327,
          97.00609918328996,
          104.66167420515748,
          95.68486533846539,
          133.8719617114575,
          110.0088100705493,
          103.03952402273042,
          87.14433820536051,
          112.32305548022107,
          97.39025984028638,
          110.16028673766503,
          101.84389414316738,
          120.13183015493757,
          95.39986680153402,
          122.27522153519608,
          108.25974071819311,
          99.63712678463312,
          125.58433213555838,
          124.71907772042883,
          119.24931205346238,
          98.18769451497269,
          110.31285105131698,
          118.99009857554556,
          104.32707105989981,
          109.16796849680836,
          139.7523208174074,
          111.16832042041811,
          116.06876621673118,
          97.26485735139778,
          108.82865301368936,
          102.0903163907036,
          106.35968099545957,
          126.60424769012809,
          109.46705127392292,
          95.60127524431873,
          100.5657353779543,
          114.0277223405759,
          117.32541219283584,
          118.80257903172486,
          107.36910888363815,
          103.49860614736762,
          110.65508017111019,
          74.46660603081457,
          86.10918296801194,
          73.37493889635752,
          106.05899257595135,
          97.66072521933705,
          109.36597492502263,
          104.13094698743824,
          113.45870749869853,
          114.92845839932815,
          122.57072875929926,
          96.38177580858283,
          109.37381730109051,
          80.08496534892303,
          111.62246383728922,
          101.16071466490673,
          95.22529649563265,
          94.45733900433012,
          140.59529055738378,
          100.11864374090116,
          100.88024658244711,
          122.9967935276871,
          98.8779576585811,
          87.94157790193971,
          120.62711181581732,
          108.07231403868343,
          107.59040255717728,
          126.15755313987708,
          100.79903896767618,
          99.32354553031551,
          110.9815780900296,
          103.67793750033393,
          104.88174674488349,
          129.6805476012414,
          82.65601268247885,
          113.23063889842491,
          99.93930007526188,
          113.89576210518452,
          117.0432414029118,
          117.38349664769842,
          117.68255791525685,
          92.86969615487965,
          108.27659203633931,
          128.98962376956743,
          96.06154962229908,
          112.86372980765286,
          125.02333443867974,
          108.53867764403452,
          78.20604526520879,
          77.04617390017262,
          126.83401799086877,
          140.1776302871927,
          114.53016120551469,
          102.65507539637146,
          102.29676357850765,
          93.891184101144,
          143.05271834441794,
          105.51757314022424,
          130.19147488514392,
          119.40230721601586,
          109.01283868045569,
          82.34202186950697,
          111.64958814044724,
          140.09841690466496,
          98.63224100744138,
          125.23996760184873,
          86.11260270508984,
          114.38549807229262,
          130.05548216144504,
          106.35119114308375,
          106.5346465043257,
          104.91606076637244,
          114.77924023142917,
          130.95558093712302,
          96.80280426930263,
          111.67730716702354,
          116.47352189711012,
          134.206776457636,
          105.53923143488595,
          134.58443471785142,
          112.01144888247646,
          112.58056049536503,
          89.52474268573548,
          103.68101475889969,
          123.20960222969649,
          87.91150172100755,
          121.36564593771746,
          100.4509248086643,
          109.76242758987684,
          104.18277888595598,
          123.34495123182924,
          127.01235747863848,
          135.97445292585812,
          99.41720232655749,
          90.71284349621848,
          100.42684913670038,
          120.51177193588832,
          123.21710784548323,
          100.20194285016451,
          90.2005114621253,
          97.71931093330127,
          112.44053316793848,
          120.04639986831071,
          101.38879371853082,
          121.15530679688831,
          119.25068929505827,
          124.57800251061877,
          99.3214472406147,
          98.96460822276123,
          95.54804325844142,
          116.8870655483946,
          119.84357309457053,
          121.27255215354285,
          81.91724583099703,
          101.65579908171091,
          114.0824594860766,
          123.97318629159868,
          114.91298496773591,
          121.11220700752644,
          97.9714242835997
         ]
        },
        {
         "name": "Control group",
         "type": "box",
         "x": [
          73.35584003137875,
          72.59619570323669,
          105.93123781185527,
          71.40342282208564,
          132.9178465401845,
          88.10057156395942,
          121.28013872100105,
          104.00515388263601,
          115.6849350850162,
          88.8598174081421,
          121.83281488659125,
          93.83654763063926,
          92.4168509515501,
          128.55334252775467,
          88.09838532405132,
          99.37122184033994,
          139.399141059282,
          83.45000899766126,
          77.43436628018182,
          99.09711172350765,
          137.57711636125526,
          97.45124910804579,
          105.5351585034302,
          86.55523492150462,
          76.6648510656996,
          122.27056014944101,
          100.91188443822372,
          62.80319948693061,
          94.47832038417307,
          106.04751862000441,
          70.11612981022478,
          106.10438036352042,
          113.66946786777328,
          103.99881620572326,
          91.98975081737082,
          122.94628053844133,
          77.57478572088951,
          110.05916991766661,
          95.23976953915088,
          117.74740263538318,
          67.20991271052648,
          70.56297204377378,
          95.19511912401538,
          122.52461326308276,
          95.02786866912321,
          118.67205645194423,
          112.35448791259036,
          126.445975289519,
          105.73160084146457,
          108.2044852878328,
          131.10974627440203,
          130.64206579566752,
          78.51150562723646,
          109.41044995974389,
          108.29114325712193,
          138.18933670049194,
          85.54301711452678,
          90.02190602713007,
          120.2961828073343,
          105.13240870608021,
          108.83400602097066,
          105.58033106446806,
          67.21554460329978,
          73.27650499511427,
          120.1649931003032,
          109.76045456947662,
          106.7566579833674,
          89.9934560035641,
          114.60206727054543,
          89.82574184956908,
          98.00717960431516,
          105.54269750664906,
          92.85269776025733,
          105.94958896055338,
          109.53074773302656,
          100.42949138536622,
          92.21348989510591,
          124.39596321567956,
          83.23115852652602,
          61.4216087542378,
          106.07553376263408,
          100.61324922626115,
          92.87265343109375,
          118.89410684233727,
          101.61146767358944,
          54.38284045245319,
          63.060274465686426,
          105.47380194712785,
          110.65367572271172,
          89.15694874645246,
          97.70090042983732,
          96.65430849627482,
          98.49587115822342,
          111.30717846967329,
          105.43989293280025,
          127.16320134724612,
          111.85938760613948,
          100.12248044543772,
          141.8302094094312,
          95.83437530510426,
          136.42791968328584,
          76.88185855223605,
          105.14529286183352,
          141.60024432430734,
          117.95708307150761,
          115.13185809189685,
          137.6131774131551,
          149.5801054147843,
          97.66879135668563,
          106.35821172379664,
          99.28675779734887,
          109.99942472170237,
          96.9142406891039,
          85.06796340579064,
          88.79202352473447,
          90.7917179432885,
          87.94882723965915,
          159.20724123481534,
          105.61901959018603,
          86.88538490097875,
          103.15940590049013,
          76.77188833073703,
          99.41425449385343,
          122.177008571981,
          124.78838178110146,
          100.60909187950735,
          110.77978775161507,
          136.32666827865685,
          153.89119588513353,
          79.26163653031848,
          128.57010123450794,
          97.7940411489036,
          142.44839052019915,
          96.37052520341636,
          133.03684397468788,
          129.81689950660956,
          126.38222300415848,
          83.19848572798192,
          106.02955721391062,
          87.18820685545577,
          124.99183829990645,
          120.57437532978463,
          80.19945885834073,
          89.46981947848911,
          86.86524844923525,
          113.64653301253777,
          96.64805249659523,
          104.49152572789086,
          90.24597894880462,
          118.01808919066391,
          114.16683241379857,
          116.35923807818426,
          82.78694339162664,
          96.31511006697912,
          121.70654279137878,
          66.82953831558345,
          113.94947447432953,
          93.86598034863259,
          110.91235510668943,
          65.2091355757742,
          122.590670097812,
          110.98137475670903,
          102.41936268302004,
          105.76308358459501,
          118.70896154996052,
          111.95656773622363,
          88.3175339571006,
          122.70149292966775,
          83.63804633407437,
          105.43055359119764,
          136.43321994330498,
          122.67911148281216,
          101.63809484490854,
          90.20157627440634,
          132.87526352643582,
          106.224330407355,
          103.72313833155235,
          86.35796279765032,
          130.84236447405289,
          153.36281158367834,
          111.89715811476549,
          79.90652339143494,
          152.77827869118838,
          118.3724861777294,
          109.65595549516122,
          95.72991318193948,
          101.28067258373102,
          100.28338719618745,
          100.28739741407843,
          134.83066565336983,
          85.076551864373,
          76.21937159096987,
          91.59363777246237,
          116.0466913972449,
          105.05396092807592,
          82.29320262306578,
          106.2104268323159,
          62.59116733670788,
          61.154128470286835,
          102.76797524601668,
          95.42652901600192,
          96.62149275544346,
          69.34448612849066,
          145.4198845070132,
          118.04756173516819,
          87.84220043474625,
          142.49171251547068,
          136.858925736884,
          150.91927610808165,
          80.79736047677324,
          134.1602131534798,
          101.7860267360141,
          109.02186259253389,
          112.72353504228052,
          112.63659005384825,
          91.96161765691151,
          75.24678784151297,
          135.3343665382391,
          100.41762787798021,
          108.27840810740129,
          134.93058722852072,
          93.01499035301185,
          89.79661377255582,
          103.59485859678553,
          102.11474508916291,
          108.86195775321374,
          104.92668333377419,
          120.29410968809157,
          84.42897719781581,
          96.50806512629093,
          120.25841361458421,
          115.3024076150804,
          156.55800244834333,
          83.72901069608956,
          108.6742323786768,
          98.99545796018592,
          87.93662128641755,
          127.40876193104695,
          107.40623567030265,
          129.05175929081793,
          96.80182192646632,
          113.68396850683364,
          116.94741836517912,
          72.77196664210635,
          96.88500190305483,
          112.70172723255224,
          64.60695706675642,
          86.75406247716222,
          78.6156908485435,
          106.011415039911,
          155.51058425024394,
          116.5614524448961,
          82.46783696245248,
          101.49945937668024,
          103.21027825467738,
          115.03930636729166,
          112.15573918006794,
          87.4664567864969,
          74.59875600298113,
          115.89621777563501,
          122.85117724438064,
          92.57013759050854,
          103.42481480925841,
          101.8483815244196,
          108.7974524426228,
          121.38203882209275,
          91.52690168231219,
          128.63636968149567,
          74.7756238117532,
          76.24303851365552,
          139.14827505577875,
          92.78046026095474,
          91.1674306550581,
          94.0174648495487,
          119.13201880078918,
          87.14310672669305,
          129.18271616974624,
          115.79570953040562,
          95.51019291824092,
          112.63729687650063,
          100.77993304375285,
          97.84325934212652,
          124.20211642670917,
          143.59750828073828,
          102.65433865835253,
          84.12145722412562,
          151.09729506883644,
          119.80281517397887,
          99.37658395355912,
          126.94755138271609,
          122.50176422952272,
          88.6102009014311,
          117.5959655539159,
          117.76197166963651,
          102.4474246648817,
          116.45382049989462,
          111.82411116636213,
          147.11567452687845,
          69.58256083690549,
          73.64566528037412,
          125.81397905533575,
          97.20863588642825,
          154.57361430218066,
          87.96509181148883,
          108.50182721820951,
          80.17724066548968,
          117.28715136804618,
          167.51270297929395,
          118.08739800540323,
          146.90689055436243,
          125.95422909886878,
          91.78538367822726,
          65.42009025404076,
          135.2051000228171,
          116.4381942432489,
          100.32111917959944,
          77.32280682319589,
          119.78895949738889,
          133.17944052767285,
          147.36666920703584,
          116.60613424535553,
          82.85915571141666,
          101.72468920642967,
          115.13486580460216,
          104.42821400799657,
          94.88743726289387,
          104.97373222199063,
          89.7723511853605,
          95.24370854925348,
          109.42247734537702,
          104.69427747770196,
          73.61972734079498,
          97.63829704126698,
          167.1927070081392,
          92.53585241786719,
          124.55436863015629,
          108.0661358650097,
          85.36749492889491,
          97.79797906272951,
          134.90334266668742,
          108.63417896617442,
          89.64902116326884,
          98.1828477184991,
          112.44818994590372,
          111.11843894883569,
          133.79109197822098,
          110.72033886686025,
          147.0776580325823,
          91.92740536024502,
          120.5670564054652,
          91.34337362017854,
          105.93819813511057,
          90.11799572761203,
          111.21479109190248,
          99.35019672994956,
          136.7453846822023,
          84.72396425207722,
          132.47307316738588,
          118.15955895493649,
          116.11467577089209,
          96.39379812246709,
          106.86640342217045,
          99.20110592460625,
          93.26923503279063,
          107.4753508056864,
          91.91366201553832,
          123.75574312855437,
          121.78481506401832,
          91.65337435437247,
          111.83827375419035,
          85.0472077817511,
          87.128829075733,
          152.2939509869739,
          67.77151971315733,
          92.28057643078158,
          91.15389531584428,
          101.29482845907977,
          67.05158504214776,
          116.61434314930027,
          105.53830338811754,
          119.33015824069282,
          117.31132646284496,
          83.19133639539689,
          74.83421480616633,
          127.66758196096809,
          125.45868381097932,
          98.57294460087745,
          94.23082569630273,
          103.32354086477845,
          97.05055878467529,
          98.61418812864648,
          123.97068497334084,
          94.20603920582866,
          99.07327432600354,
          103.56066846619872,
          132.98102647910918,
          119.37611522284445,
          87.72657735895267,
          104.06561172768964,
          89.98330193087487,
          92.29690067680427,
          91.37959685552671,
          74.96828498519604,
          97.62149780963819,
          97.94001293460462,
          107.54768786401391,
          115.3506265882798,
          119.95673680613515,
          88.81244886029134,
          92.3462815714413,
          96.06690340844949,
          91.26159596626194,
          109.18620167700966,
          114.60616440884982,
          107.77034407801189,
          89.1979972451837,
          97.28299296058316,
          116.15332328095859,
          111.86694813030181,
          106.34687739135666,
          92.68389644205837,
          86.78793604864285,
          148.42086138418708,
          103.98890742684455,
          136.04704396360376,
          120.92311581564805,
          94.09661063998634,
          67.58593749414233,
          93.75269164563029,
          69.3281040136861,
          106.41268767337091,
          95.50925778950551,
          110.04611753103767,
          82.78150188441552,
          103.20391088878338,
          88.26901348407253,
          96.711858752552,
          122.06618480903366,
          117.2845322349194,
          100.228664790671,
          83.89424192696687,
          113.66870945488526,
          140.2823893940472,
          128.95292268024082,
          86.0226340595664,
          95.62696617241689,
          79.79617339129538,
          136.60570359850826,
          93.88614712334899,
          117.99630666789842,
          121.75936524598154,
          141.6001822762604,
          110.38612755507717,
          68.0248712088042,
          90.00389993041486,
          99.6453399135892,
          117.6253997974566,
          103.25714144733043,
          103.61501963156232,
          101.64354375466822,
          117.98997378061118,
          117.40870951103567,
          107.88816928043904,
          128.2009104426778,
          83.91255595758818,
          110.29555867392033,
          91.50770080403419,
          131.41745545967257,
          85.80189083316479,
          88.8513892374485,
          98.43554797205186,
          123.34175218371686,
          98.66463309886903,
          123.45626416208806,
          87.14046378482428,
          143.7008787461584,
          123.39722653184049,
          126.32455342483186,
          66.17943289056095,
          76.8394796965569,
          138.45012759360802,
          127.71551220380367,
          111.8864699881905,
          92.05811698857137,
          84.44148256471559,
          67.58431148818741,
          118.22200886832579,
          68.90733864862844,
          128.31071675970725,
          118.27715923109906,
          108.12155063557144,
          113.27227131634118,
          129.22232576198763,
          101.47757337829505,
          123.84875608059667,
          117.66871672249798,
          102.72239400490025,
          114.15993282996553,
          92.688787672224,
          112.70571072805403
         ]
        }
       ],
       "layout": {
        "autosize": true,
        "template": {
         "data": {
          "bar": [
           {
            "error_x": {
             "color": "#2a3f5f"
            },
            "error_y": {
             "color": "#2a3f5f"
            },
            "marker": {
             "line": {
              "color": "#E5ECF6",
              "width": 0.5
             }
            },
            "type": "bar"
           }
          ],
          "barpolar": [
           {
            "marker": {
             "line": {
              "color": "#E5ECF6",
              "width": 0.5
             }
            },
            "type": "barpolar"
           }
          ],
          "carpet": [
           {
            "aaxis": {
             "endlinecolor": "#2a3f5f",
             "gridcolor": "white",
             "linecolor": "white",
             "minorgridcolor": "white",
             "startlinecolor": "#2a3f5f"
            },
            "baxis": {
             "endlinecolor": "#2a3f5f",
             "gridcolor": "white",
             "linecolor": "white",
             "minorgridcolor": "white",
             "startlinecolor": "#2a3f5f"
            },
            "type": "carpet"
           }
          ],
          "choropleth": [
           {
            "colorbar": {
             "outlinewidth": 0,
             "ticks": ""
            },
            "type": "choropleth"
           }
          ],
          "contour": [
           {
            "colorbar": {
             "outlinewidth": 0,
             "ticks": ""
            },
            "colorscale": [
             [
              0,
              "#0d0887"
             ],
             [
              0.1111111111111111,
              "#46039f"
             ],
             [
              0.2222222222222222,
              "#7201a8"
             ],
             [
              0.3333333333333333,
              "#9c179e"
             ],
             [
              0.4444444444444444,
              "#bd3786"
             ],
             [
              0.5555555555555556,
              "#d8576b"
             ],
             [
              0.6666666666666666,
              "#ed7953"
             ],
             [
              0.7777777777777778,
              "#fb9f3a"
             ],
             [
              0.8888888888888888,
              "#fdca26"
             ],
             [
              1,
              "#f0f921"
             ]
            ],
            "type": "contour"
           }
          ],
          "contourcarpet": [
           {
            "colorbar": {
             "outlinewidth": 0,
             "ticks": ""
            },
            "type": "contourcarpet"
           }
          ],
          "heatmap": [
           {
            "colorbar": {
             "outlinewidth": 0,
             "ticks": ""
            },
            "colorscale": [
             [
              0,
              "#0d0887"
             ],
             [
              0.1111111111111111,
              "#46039f"
             ],
             [
              0.2222222222222222,
              "#7201a8"
             ],
             [
              0.3333333333333333,
              "#9c179e"
             ],
             [
              0.4444444444444444,
              "#bd3786"
             ],
             [
              0.5555555555555556,
              "#d8576b"
             ],
             [
              0.6666666666666666,
              "#ed7953"
             ],
             [
              0.7777777777777778,
              "#fb9f3a"
             ],
             [
              0.8888888888888888,
              "#fdca26"
             ],
             [
              1,
              "#f0f921"
             ]
            ],
            "type": "heatmap"
           }
          ],
          "heatmapgl": [
           {
            "colorbar": {
             "outlinewidth": 0,
             "ticks": ""
            },
            "colorscale": [
             [
              0,
              "#0d0887"
             ],
             [
              0.1111111111111111,
              "#46039f"
             ],
             [
              0.2222222222222222,
              "#7201a8"
             ],
             [
              0.3333333333333333,
              "#9c179e"
             ],
             [
              0.4444444444444444,
              "#bd3786"
             ],
             [
              0.5555555555555556,
              "#d8576b"
             ],
             [
              0.6666666666666666,
              "#ed7953"
             ],
             [
              0.7777777777777778,
              "#fb9f3a"
             ],
             [
              0.8888888888888888,
              "#fdca26"
             ],
             [
              1,
              "#f0f921"
             ]
            ],
            "type": "heatmapgl"
           }
          ],
          "histogram": [
           {
            "marker": {
             "colorbar": {
              "outlinewidth": 0,
              "ticks": ""
             }
            },
            "type": "histogram"
           }
          ],
          "histogram2d": [
           {
            "colorbar": {
             "outlinewidth": 0,
             "ticks": ""
            },
            "colorscale": [
             [
              0,
              "#0d0887"
             ],
             [
              0.1111111111111111,
              "#46039f"
             ],
             [
              0.2222222222222222,
              "#7201a8"
             ],
             [
              0.3333333333333333,
              "#9c179e"
             ],
             [
              0.4444444444444444,
              "#bd3786"
             ],
             [
              0.5555555555555556,
              "#d8576b"
             ],
             [
              0.6666666666666666,
              "#ed7953"
             ],
             [
              0.7777777777777778,
              "#fb9f3a"
             ],
             [
              0.8888888888888888,
              "#fdca26"
             ],
             [
              1,
              "#f0f921"
             ]
            ],
            "type": "histogram2d"
           }
          ],
          "histogram2dcontour": [
           {
            "colorbar": {
             "outlinewidth": 0,
             "ticks": ""
            },
            "colorscale": [
             [
              0,
              "#0d0887"
             ],
             [
              0.1111111111111111,
              "#46039f"
             ],
             [
              0.2222222222222222,
              "#7201a8"
             ],
             [
              0.3333333333333333,
              "#9c179e"
             ],
             [
              0.4444444444444444,
              "#bd3786"
             ],
             [
              0.5555555555555556,
              "#d8576b"
             ],
             [
              0.6666666666666666,
              "#ed7953"
             ],
             [
              0.7777777777777778,
              "#fb9f3a"
             ],
             [
              0.8888888888888888,
              "#fdca26"
             ],
             [
              1,
              "#f0f921"
             ]
            ],
            "type": "histogram2dcontour"
           }
          ],
          "mesh3d": [
           {
            "colorbar": {
             "outlinewidth": 0,
             "ticks": ""
            },
            "type": "mesh3d"
           }
          ],
          "parcoords": [
           {
            "line": {
             "colorbar": {
              "outlinewidth": 0,
              "ticks": ""
             }
            },
            "type": "parcoords"
           }
          ],
          "pie": [
           {
            "automargin": true,
            "type": "pie"
           }
          ],
          "scatter": [
           {
            "marker": {
             "colorbar": {
              "outlinewidth": 0,
              "ticks": ""
             }
            },
            "type": "scatter"
           }
          ],
          "scatter3d": [
           {
            "line": {
             "colorbar": {
              "outlinewidth": 0,
              "ticks": ""
             }
            },
            "marker": {
             "colorbar": {
              "outlinewidth": 0,
              "ticks": ""
             }
            },
            "type": "scatter3d"
           }
          ],
          "scattercarpet": [
           {
            "marker": {
             "colorbar": {
              "outlinewidth": 0,
              "ticks": ""
             }
            },
            "type": "scattercarpet"
           }
          ],
          "scattergeo": [
           {
            "marker": {
             "colorbar": {
              "outlinewidth": 0,
              "ticks": ""
             }
            },
            "type": "scattergeo"
           }
          ],
          "scattergl": [
           {
            "marker": {
             "colorbar": {
              "outlinewidth": 0,
              "ticks": ""
             }
            },
            "type": "scattergl"
           }
          ],
          "scattermapbox": [
           {
            "marker": {
             "colorbar": {
              "outlinewidth": 0,
              "ticks": ""
             }
            },
            "type": "scattermapbox"
           }
          ],
          "scatterpolar": [
           {
            "marker": {
             "colorbar": {
              "outlinewidth": 0,
              "ticks": ""
             }
            },
            "type": "scatterpolar"
           }
          ],
          "scatterpolargl": [
           {
            "marker": {
             "colorbar": {
              "outlinewidth": 0,
              "ticks": ""
             }
            },
            "type": "scatterpolargl"
           }
          ],
          "scatterternary": [
           {
            "marker": {
             "colorbar": {
              "outlinewidth": 0,
              "ticks": ""
             }
            },
            "type": "scatterternary"
           }
          ],
          "surface": [
           {
            "colorbar": {
             "outlinewidth": 0,
             "ticks": ""
            },
            "colorscale": [
             [
              0,
              "#0d0887"
             ],
             [
              0.1111111111111111,
              "#46039f"
             ],
             [
              0.2222222222222222,
              "#7201a8"
             ],
             [
              0.3333333333333333,
              "#9c179e"
             ],
             [
              0.4444444444444444,
              "#bd3786"
             ],
             [
              0.5555555555555556,
              "#d8576b"
             ],
             [
              0.6666666666666666,
              "#ed7953"
             ],
             [
              0.7777777777777778,
              "#fb9f3a"
             ],
             [
              0.8888888888888888,
              "#fdca26"
             ],
             [
              1,
              "#f0f921"
             ]
            ],
            "type": "surface"
           }
          ],
          "table": [
           {
            "cells": {
             "fill": {
              "color": "#EBF0F8"
             },
             "line": {
              "color": "white"
             }
            },
            "header": {
             "fill": {
              "color": "#C8D4E3"
             },
             "line": {
              "color": "white"
             }
            },
            "type": "table"
           }
          ]
         },
         "layout": {
          "annotationdefaults": {
           "arrowcolor": "#2a3f5f",
           "arrowhead": 0,
           "arrowwidth": 1
          },
          "coloraxis": {
           "colorbar": {
            "outlinewidth": 0,
            "ticks": ""
           }
          },
          "colorscale": {
           "diverging": [
            [
             0,
             "#8e0152"
            ],
            [
             0.1,
             "#c51b7d"
            ],
            [
             0.2,
             "#de77ae"
            ],
            [
             0.3,
             "#f1b6da"
            ],
            [
             0.4,
             "#fde0ef"
            ],
            [
             0.5,
             "#f7f7f7"
            ],
            [
             0.6,
             "#e6f5d0"
            ],
            [
             0.7,
             "#b8e186"
            ],
            [
             0.8,
             "#7fbc41"
            ],
            [
             0.9,
             "#4d9221"
            ],
            [
             1,
             "#276419"
            ]
           ],
           "sequential": [
            [
             0,
             "#0d0887"
            ],
            [
             0.1111111111111111,
             "#46039f"
            ],
            [
             0.2222222222222222,
             "#7201a8"
            ],
            [
             0.3333333333333333,
             "#9c179e"
            ],
            [
             0.4444444444444444,
             "#bd3786"
            ],
            [
             0.5555555555555556,
             "#d8576b"
            ],
            [
             0.6666666666666666,
             "#ed7953"
            ],
            [
             0.7777777777777778,
             "#fb9f3a"
            ],
            [
             0.8888888888888888,
             "#fdca26"
            ],
            [
             1,
             "#f0f921"
            ]
           ],
           "sequentialminus": [
            [
             0,
             "#0d0887"
            ],
            [
             0.1111111111111111,
             "#46039f"
            ],
            [
             0.2222222222222222,
             "#7201a8"
            ],
            [
             0.3333333333333333,
             "#9c179e"
            ],
            [
             0.4444444444444444,
             "#bd3786"
            ],
            [
             0.5555555555555556,
             "#d8576b"
            ],
            [
             0.6666666666666666,
             "#ed7953"
            ],
            [
             0.7777777777777778,
             "#fb9f3a"
            ],
            [
             0.8888888888888888,
             "#fdca26"
            ],
            [
             1,
             "#f0f921"
            ]
           ]
          },
          "colorway": [
           "#636efa",
           "#EF553B",
           "#00cc96",
           "#ab63fa",
           "#FFA15A",
           "#19d3f3",
           "#FF6692",
           "#B6E880",
           "#FF97FF",
           "#FECB52"
          ],
          "font": {
           "color": "#2a3f5f"
          },
          "geo": {
           "bgcolor": "white",
           "lakecolor": "white",
           "landcolor": "#E5ECF6",
           "showlakes": true,
           "showland": true,
           "subunitcolor": "white"
          },
          "hoverlabel": {
           "align": "left"
          },
          "hovermode": "closest",
          "mapbox": {
           "style": "light"
          },
          "paper_bgcolor": "white",
          "plot_bgcolor": "#E5ECF6",
          "polar": {
           "angularaxis": {
            "gridcolor": "white",
            "linecolor": "white",
            "ticks": ""
           },
           "bgcolor": "#E5ECF6",
           "radialaxis": {
            "gridcolor": "white",
            "linecolor": "white",
            "ticks": ""
           }
          },
          "scene": {
           "xaxis": {
            "backgroundcolor": "#E5ECF6",
            "gridcolor": "white",
            "gridwidth": 2,
            "linecolor": "white",
            "showbackground": true,
            "ticks": "",
            "zerolinecolor": "white"
           },
           "yaxis": {
            "backgroundcolor": "#E5ECF6",
            "gridcolor": "white",
            "gridwidth": 2,
            "linecolor": "white",
            "showbackground": true,
            "ticks": "",
            "zerolinecolor": "white"
           },
           "zaxis": {
            "backgroundcolor": "#E5ECF6",
            "gridcolor": "white",
            "gridwidth": 2,
            "linecolor": "white",
            "showbackground": true,
            "ticks": "",
            "zerolinecolor": "white"
           }
          },
          "shapedefaults": {
           "line": {
            "color": "#2a3f5f"
           }
          },
          "ternary": {
           "aaxis": {
            "gridcolor": "white",
            "linecolor": "white",
            "ticks": ""
           },
           "baxis": {
            "gridcolor": "white",
            "linecolor": "white",
            "ticks": ""
           },
           "bgcolor": "#E5ECF6",
           "caxis": {
            "gridcolor": "white",
            "linecolor": "white",
            "ticks": ""
           }
          },
          "title": {
           "x": 0.05
          },
          "xaxis": {
           "automargin": true,
           "gridcolor": "white",
           "linecolor": "white",
           "ticks": "",
           "title": {
            "standoff": 15
           },
           "zerolinecolor": "white",
           "zerolinewidth": 2
          },
          "yaxis": {
           "automargin": true,
           "gridcolor": "white",
           "linecolor": "white",
           "ticks": "",
           "title": {
            "standoff": 15
           },
           "zerolinecolor": "white",
           "zerolinewidth": 2
          }
         }
        },
        "xaxis": {
         "autorange": true,
         "range": [
          48.09784808985093,
          173.7976953418962
         ],
         "type": "linear"
        },
        "yaxis": {
         "autorange": true,
         "range": [
          -0.5,
          2.5
         ],
         "type": "category"
        }
       }
      },
      "image/png": "[encoded data removed]"
     },
     "metadata": {},
     "output_type": "display_data"
    }
   ],
   "source": [
    "trace = []\n",
    "vals = [group_a, group_b, control_group]\n",
    "groups = [\"Group A\", \"Group B\", \"Control group\"]\n",
    "\n",
    "for i in range(0, len(groups)):\n",
    "        trace.append(go.Box(x = vals[i],\n",
    "                           name = groups[i]))\n",
    "        \n",
    "data = trace\n",
    "\n",
    "pio.show({\"data\":data})"
   ]
  },
  {
   "cell_type": "markdown",
   "metadata": {},
   "source": [
    "## Add the data point values"
   ]
  },
  {
   "cell_type": "code",
   "execution_count": 10,
   "metadata": {},
   "outputs": [
    {
     "data": {
      "application/vnd.plotly.v1+json": {
       "config": {
        "plotlyServerURL": "https://plot.ly"
       },
       "data": [
        {
         "boxpoints": "all",
         "jitter": 0.2,
         "name": "Group A",
         "pointpos": -1.5,
         "type": "box",
         "y": [
          104.71435163732492,
          88.09024305293535,
          114.32706968426098,
          96.87348103908288,
          92.79411266634989,
          108.87162940307738,
          108.59588413717417,
          93.63476495582651,
          100.1569637211443,
          77.57315045814595,
          111.50035724719818,
          109.91946022342678,
          109.5332412811243,
          79.7874517980503,
          96.65922634191904,
          100.02118364683487,
          104.05453411570191,
          102.89091940980035,
          113.21158192129386,
          84.5309444677076,
          97.97353675370817,
          93.44030655861066,
          101.93421376470359,
          105.53438910956741,
          113.18151554180136,
          95.306947152941,
          106.75554085122381,
          81.82972773409803,
          98.16891459821001,
          110.58969187571151,
          96.02159771800008,
          103.37437653613972,
          110.47578572892722,
          110.45938255627665,
          108.63717291684839,
          98.77908425152326,
          101.24712953768216,
          96.77205194391705,
          108.41674712996142,
          123.90960515463033,
          100.76199587837236,
          94.33554069535043,
          100.36141936684072,
          79.25022399309971,
          102.47792199748547,
          91.02843215560301,
          98.63205166738652,
          100.1828919134922,
          107.55413982398136,
          102.15268580969443,
          108.4100879493139,
          85.54189922955693,
          85.98026718499156,
          98.99081800051086,
          94.51757550813144,
          98.55380491630616,
          103.54020332199238,
          99.64486974721859,
          105.65738306062595,
          115.45658804625558,
          90.25763666232685,
          99.29655122895898,
          103.07968855216035,
          97.9150123689412,
          110.338007325555,
          75.99546366187704,
          120.306036208388,
          88.57368710977237,
          102.11883386777701,
          107.04720624317109,
          92.14564788236802,
          104.62059737162049,
          107.04228225462174,
          105.23507967893809,
          90.73745686469775,
          120.07842950778,
          102.26962541870896,
          88.47340890749048,
          106.3197944580913,
          100.39512686693367,
          104.64392325050896,
          64.36483339375265,
          113.21105615470206,
          101.52630552204535,
          101.64529542932398,
          95.69904309123513,
          107.67368735752412,
          109.84919841909897,
          102.70835848826803,
          113.91986193446408,
          100.79842313008629,
          96.00035419303478,
          89.72149441318095,
          94.15281788739212,
          108.16593926547841,
          99.18052948173334,
          96.55233985745356,
          105.28288145297394,
          89.31011216519867,
          94.88118690873185,
          102.91205359743063,
          105.66533696353572,
          105.03591759111202,
          102.85295684781858,
          104.8428811274975,
          113.63481512426145,
          92.18894716374608,
          95.31982333662515,
          112.24574355126174,
          87.18891724855958,
          108.75475504274324,
          82.89284675970471,
          95.49234896863726,
          107.49163805919065,
          97.96067133898748,
          98.17824588334265,
          106.80656004381457,
          81.81501009608385,
          100.47071635325712,
          103.94844209327205,
          97.51567945619153,
          93.82293352002984,
          93.17116003550666,
          104.36257604340916,
          82.96987225886762,
          103.93710599138666,
          95.20675996424502,
          97.0098370703392,
          106.94103287678765,
          106.78629673709857,
          102.39555995003897,
          101.5122662929445,
          108.16127233360041,
          118.935344675962,
          106.39632763193703,
          90.37971168094809,
          79.14734357879891,
          119.30246767465576,
          82.64651125529608,
          112.10383704904514,
          107.97435419427873,
          96.20189215952621,
          107.025622240016,
          91.49653728344884,
          111.76812450104929,
          94.75663897367544,
          107.00907730915604,
          109.84188070722415,
          98.7827159133318,
          123.65768628840038,
          104.96142926247595,
          107.96594866664952,
          95.25979109874315,
          99.4330428350907,
          113.57797258107058,
          91.95166275833296,
          78.7637975090707,
          96.66497559566753,
          91.13280647514623,
          103.34197930899009,
          105.3678382490275,
          92.56169632063799,
          96.7979611775912,
          90.83801138733459,
          91.4033170001826,
          102.25985486733755,
          106.28775826538295,
          101.86494348773074,
          109.52478345109122,
          109.88137582593309,
          99.27391686037325,
          94.49397076436581,
          90.61847385906896,
          87.60928437405207,
          101.39683274031295,
          97.76981018117525,
          121.23691888593552,
          101.22273434258828,
          85.90568260077231,
          114.22985952772243,
          78.52144962356391,
          86.52467486542245,
          103.63564556806648,
          99.85247888195406,
          112.7239507854621,
          85.50433391136613,
          88.0447625833303,
          94.08137026852751,
          95.8549515646781,
          85.74205266561978,
          102.09394787535923,
          94.07113996161074,
          85.26883586534353,
          91.03419384698128,
          111.04351569860313,
          95.68450484483955,
          98.38863091755941,
          108.89157494072873,
          102.88376847715266,
          89.48461062429962,
          96.80438600159769,
          93.80006912278797,
          101.56998376446688,
          94.2854464892021,
          110.57633183204614,
          92.08511190522114,
          94.75372654071529,
          100.71878039370368,
          119.10759427277182,
          107.87964683137615,
          105.13082144466992,
          94.53583719726406,
          110.43944655495324,
          121.0778515279337,
          114.59927481585294,
          110.1540545781252,
          107.49184600924198,
          93.24478521563312,
          104.4026639166873,
          106.88971856326943,
          97.23353872723013,
          119.2453332001529,
          104.11204020707224,
          108.90764956173118,
          102.26363227251707,
          79.21382106297824,
          96.12113768032825,
          99.12893030036001,
          111.26385822137273,
          102.47111716157737,
          101.21171805331541,
          102.98983935542047,
          98.42900863153348,
          92.59530977219282,
          87.52347076948767,
          102.49455215152449,
          105.81073320620607,
          127.63844079849567,
          103.99325436979576,
          106.68488169205806,
          97.24226271343694,
          105.00482900154373,
          108.63064860590625,
          89.48372140534788,
          86.07945922506913,
          111.53922240612225,
          111.81944105999231,
          103.91371448421931,
          91.1895290779843,
          102.9507995978624,
          118.63801062132504,
          82.87726075528744,
          85.92915454256774,
          101.26781186326971,
          100.03759847795496,
          87.31005743926607,
          91.6115707857971,
          105.5392125143972,
          94.95957281918037,
          92.11559815482121,
          115.29400674483931,
          102.0545485392598,
          103.1301312898086,
          108.665207121683,
          102.99070529594377,
          110.76540643846121,
          103.63177347544452,
          118.93679825551843,
          95.14247255717191,
          103.87674455777598,
          100.23557610392554,
          93.3977049795572,
          96.81315070421985,
          92.77337806325627,
          101.77386719384599,
          109.83512729343164,
          100.23504585885395,
          105.53776977863366,
          103.53769293996639,
          97.24406366232317,
          95.09516408521318,
          96.2556339980722,
          76.02496023861184,
          115.41029983277939,
          100.63084538957305,
          97.15559316073707,
          87.3439946239879,
          117.8797963245575,
          96.45491291930625,
          98.95238876932896,
          103.86253689189053,
          108.22775373765373,
          93.16210177568992,
          110.57203331214129,
          100.31879973569032,
          113.43182457528941,
          99.49460310451228,
          96.35990043692891,
          84.4665766056894,
          96.80702198179839,
          105.27046450954964,
          107.11112399364823,
          97.82454519509524,
          126.37791210703864,
          82.57862369405035,
          99.05565192258555,
          114.31183752254563,
          105.92758446550668,
          101.70296895326288,
          82.48294052207976,
          102.88581322343208,
          94.5742048309322,
          101.71602381985996,
          109.82817829243105,
          99.74651097937232,
          97.12447550715892,
          109.24442867343366,
          99.38753700133685,
          92.68966657414794,
          89.77226295304857,
          109.95992970245753,
          109.55557932627455,
          107.13840771195044,
          101.33370962194122,
          91.92961691527186,
          96.57989218120785,
          119.08779658091186,
          101.55923261453127,
          107.59652532092963,
          95.76993771580752,
          101.81672745323682,
          102.74492570746403,
          100.67912357380757,
          99.6301718512408,
          98.29198969302378,
          102.66973231539868,
          113.82997248852925,
          99.77539126488574,
          101.31395367225915,
          104.34437185102232,
          102.64534068316999,
          105.65658344273825,
          105.85084279501724,
          98.25701847247913,
          89.2863132854491,
          99.51539497447617,
          91.54709610433757,
          104.1510055838158,
          104.25530591397859,
          90.19275642499414,
          95.72173890027979,
          114.98569955138537,
          96.39843429130973,
          95.41759610662507,
          86.62031598049029,
          99.58613460385128,
          108.21047956107915,
          120.97800780771692,
          112.82933246874524,
          102.70337925739372,
          110.03140362044931,
          110.78673551320406,
          103.40752685129765,
          98.01925040376432,
          124.81458422875653,
          113.85254876189207,
          88.45399034610331,
          87.31930949622918,
          106.07862186209479,
          89.19903516842409,
          93.88718325204238,
          101.02035112292332,
          85.63426063227881,
          102.10717052505655,
          91.03095829302488,
          82.75606921008168,
          117.92339196646942,
          86.87287293407769,
          105.55877426385625,
          93.1811869450887,
          115.72742745755804,
          98.95348425152234,
          118.50397801609901,
          96.666495732506,
          101.93464233819873,
          95.03255062135091,
          110.32723215735861,
          82.60196202477441,
          92.44137824377091,
          91.18888267352065,
          103.93892262912675,
          90.49974465203717,
          103.32506622162249,
          105.28944408856047,
          88.79479006007276,
          100.48264206925657,
          100.61988450521777,
          89.72484326782133,
          97.61664634532674,
          119.32178169581346,
          97.73367706323164,
          90.76169279823077,
          103.5583899747282,
          87.29936521613712,
          98.04527587303241,
          95.36580600782537,
          109.8941484728585,
          113.88647381631716,
          110.87713736524141,
          104.38801263034391,
          90.38397759118764,
          112.45609937147846,
          105.02925517670631,
          93.6860122162148,
          92.9574795291174,
          97.59517463241657,
          105.85599310929858,
          103.52800560108406,
          81.84442307567915,
          90.89876154304858,
          92.5147204666094,
          98.91875073519736,
          102.74778837052168,
          102.37349764509425,
          97.40156305636611,
          96.875578228436,
          104.48509742512407,
          99.40468035295599,
          95.29985186602214,
          103.49566771627666,
          89.72531152826387,
          96.93361516130389,
          114.06176139494268,
          87.50303227205647,
          84.39851111114767,
          115.57397650649023,
          94.06643605023513,
          98.297114876705,
          116.72626808454706,
          94.59200192350124,
          93.15871671233415,
          105.99962085981993,
          97.82800874855361,
          103.31526518352153,
          96.16635419849172,
          92.18183911926889,
          102.66237406827837,
          102.79428024532737,
          87.8037430482623,
          92.76051083244495,
          82.65221692456066,
          102.71660784374025,
          100.9911201694909,
          96.36910093562742,
          94.1177327171148,
          100.25941713524132,
          94.27697649254841,
          111.05586962797162,
          87.91984407170352,
          86.60298960025085,
          120.75185406731782,
          85.1059029866899,
          88.49046934374036,
          104.19059824673965,
          104.13405276424496,
          107.17576932588283,
          102.61724839679904,
          97.57228728899638,
          94.98731867248333,
          93.01871021031145,
          113.84580160839074,
          97.13574586064244,
          105.00069585028226,
          119.51103236540061,
          97.21632538406992,
          100.3678625863071,
          104.45852506261001,
          85.89649242319331,
          104.50001300695475,
          105.15479530793898,
          88.45916059617397,
          86.19826604928161,
          95.04166994786837,
          95.86720927581129,
          82.80683332072451,
          99.70439097246916,
          92.33960116477171,
          100.99882076502627,
          92.86976043370255,
          77.73882379022413,
          107.25714153121955,
          109.16976283069235,
          94.36109759588744,
          84.7782044317683,
          99.85721211372437,
          97.53279193181116,
          98.34670523482721,
          101.19113982598341,
          79.25019513829952,
          89.97244782983083
         ]
        },
        {
         "boxpoints": "all",
         "jitter": 0.2,
         "name": "Group B",
         "pointpos": -1.5,
         "type": "box",
         "y": [
          117.85319027095699,
          122.32275963498384,
          107.76887226000706,
          109.31944382061062,
          99.43260611705358,
          135.9547327925951,
          113.4339088325608,
          126.39111585936259,
          104.6964271000786,
          109.54011702594823,
          106.99742224068986,
          102.78034640964088,
          135.67138995517365,
          131.5308062937893,
          92.48719500138492,
          110.61265137149003,
          115.43027293505668,
          118.58888286564869,
          126.56690355099724,
          103.61491960219111,
          121.33533264273035,
          110.15422185732992,
          113.36878656147344,
          92.97937660147565,
          95.72718588152665,
          108.09304315886351,
          110.43416747601685,
          141.56116049943958,
          133.51271215195575,
          100.6365555081369,
          103.99033696910035,
          92.94407692686313,
          96.4526144450468,
          93.54082906371453,
          108.9303618555335,
          90.2099137002372,
          101.59860581184392,
          112.47431835550046,
          100.52621318113322,
          96.99395330655847,
          94.96155993934003,
          128.1102230486851,
          135.67980519478988,
          100.63115781047432,
          106.81781294021062,
          92.09653726588482,
          119.86378838649767,
          113.00119822328591,
          126.36889788832627,
          102.66466912589436,
          130.52330393338937,
          123.37437676290213,
          122.56349318675205,
          117.7121707008387,
          109.24925461385249,
          121.1592926924734,
          84.1392469469281,
          111.34852359909092,
          114.841093428278,
          104.34275861582665,
          109.99668652547601,
          125.75170540668832,
          107.46951331673728,
          121.96814744631745,
          118.28786469736997,
          92.70360107293729,
          134.62328283543206,
          88.41533248288636,
          140.4160927072628,
          89.52024018239504,
          111.08223293588428,
          119.19727517636966,
          132.33749639441368,
          113.31944862551931,
          87.03661837420078,
          122.02832321324726,
          103.63299930704991,
          126.78282458203796,
          133.5432209687427,
          131.41597656601454,
          89.42243190324959,
          106.00373161036705,
          121.68821847821363,
          108.45778557972478,
          101.20303067362418,
          113.60378981892575,
          95.02916511842692,
          112.86754869234807,
          95.70795467628636,
          132.0649486925751,
          120.78357382314347,
          107.50160634084637,
          121.4691694503233,
          92.15834793728209,
          101.97714104419603,
          109.67603230030025,
          93.42212612780321,
          94.16080492212596,
          125.32033488485084,
          135.6448414246981,
          110.44342927906426,
          111.85763024657356,
          114.34145085054463,
          105.4776163408018,
          116.21652516919717,
          124.24786851706673,
          117.82772813164284,
          80.46105688922242,
          117.54215041636677,
          104.6836634099936,
          103.29514277282908,
          93.24532421096345,
          98.17600426128355,
          125.83628245948795,
          90.4318818365452,
          118.09602856014193,
          115.20486875560054,
          123.11289339995824,
          86.37230956068865,
          107.60024515737574,
          100.35000145749555,
          99.26943670053058,
          135.49188395932444,
          129.2425583703005,
          103.21163500522688,
          115.90700190673742,
          116.38610915878694,
          108.04928851712607,
          104.09400250727657,
          100.3841033883777,
          112.57946382073179,
          97.39776471059982,
          122.97497462787435,
          106.92708001877807,
          108.39389998501193,
          106.36839972402922,
          96.46275837594276,
          121.96806329479446,
          105.66356318514278,
          120.15466418998633,
          104.85223949104194,
          117.30815201911767,
          121.48498037244217,
          76.99153346383821,
          71.05906404831237,
          117.1351225717477,
          86.0767153215165,
          93.3488490250094,
          95.02390256722362,
          75.86290096180007,
          133.29210811799805,
          92.76051846988526,
          112.8279594289646,
          124.83445674630472,
          86.20795545060568,
          102.91428686684354,
          107.16730478186386,
          113.16690620492606,
          134.17583438683846,
          118.50095662719845,
          100.38234119801922,
          133.0816091174001,
          114.6449597884243,
          103.26726979471958,
          136.53650855468842,
          114.02300731945657,
          88.0666240711215,
          137.76215253458304,
          135.51154258506443,
          115.3008658392247,
          115.04733531653288,
          125.85658151663418,
          127.98018083701501,
          71.08018595507176,
          99.27881938765113,
          122.06519062458482,
          127.87483018807785,
          108.08951923825497,
          93.8753710101696,
          131.72403687775966,
          105.82468580426543,
          94.4477200408859,
          113.02177199573381,
          117.52633698486093,
          134.20002383017192,
          81.53434057624247,
          129.48623860664418,
          118.29776638958454,
          106.99456555990008,
          118.18504992639575,
          113.93429928459754,
          113.28605314520578,
          123.98529398402722,
          136.14578641821274,
          108.12944480345226,
          124.31047500702722,
          120.68076423837336,
          101.30995014176462,
          98.57270816725912,
          134.92253193115647,
          148.21537553686574,
          109.4163151395633,
          104.65386189142622,
          82.06147019848706,
          149.77998677201316,
          107.95654444465498,
          111.55624009956449,
          111.73148338526984,
          113.88005696684058,
          132.31614997942185,
          131.81515214585949,
          120.56462447252147,
          131.99527063785007,
          115.30433273805144,
          93.71714804648087,
          115.44814641504453,
          82.80084301392009,
          107.03133860426249,
          116.49311888073917,
          101.89151318438465,
          114.43445982471343,
          141.19766355250553,
          82.36350620058431,
          102.33250975069143,
          101.2859730740789,
          125.94104699997959,
          110.2708266448442,
          110.34197599534058,
          84.80312772627596,
          122.18634501023757,
          100.61166940300848,
          91.2459377229691,
          119.22703187530927,
          108.17908083479307,
          90.78657092993666,
          114.8691470888788,
          120.0585408592618,
          112.23741984715063,
          114.90595705824346,
          104.70557464787268,
          96.41708539334493,
          135.14278138364693,
          120.21494011590156,
          99.44423584109889,
          111.53119623064836,
          127.9258420952672,
          105.83060921327586,
          109.2175206255524,
          115.3052540187472,
          103.87533856834169,
          82.84355498307218,
          96.45037906579839,
          125.8106763678397,
          95.28684684906526,
          115.28118337106568,
          119.98972760465905,
          125.98252252932232,
          106.57349580345947,
          115.46725856368741,
          87.2773001417685,
          108.87108069144162,
          105.54412877363936,
          99.08878427340107,
          106.31186989421631,
          108.08076586820552,
          104.46034070135808,
          70.65493573283703,
          141.73776093386851,
          120.28342378218716,
          107.63834022932375,
          130.7193165111951,
          111.02639838112823,
          114.6880443872508,
          116.81379777725543,
          98.17292187047224,
          109.0123949853326,
          88.72280230835463,
          107.90369989683619,
          101.66967715680352,
          102.47123331721978,
          120.39677782255649,
          106.31959254724752,
          90.95852211371218,
          106.06514217223894,
          145.06397723292585,
          98.27423843485954,
          111.20149618307376,
          89.90883318852039,
          116.2017644573775,
          113.06677951022982,
          117.1767994179455,
          110.44371456462855,
          107.26337023401592,
          110.26200012702215,
          140.81434295004217,
          72.02175029914955,
          116.3572202605738,
          95.66474726614047,
          107.99488684517331,
          93.83895012935808,
          128.74853766036736,
          118.56723130194655,
          114.45572643736183,
          123.0779782625244,
          107.54433205138655,
          120.34284798181902,
          139.7688485478483,
          108.22577172358982,
          124.32694878384909,
          92.29170670703344,
          132.05710908944658,
          109.67663174565459,
          120.66292206604217,
          97.82247421887914,
          76.23180402065233,
          93.10849721012241,
          105.38199881124658,
          95.57173196540266,
          120.06238938978828,
          110.95075139887345,
          100.1480617930365,
          105.6745522632092,
          106.70309756383226,
          113.00371941210388,
          97.31749638454002,
          149.64384027058568,
          104.99382844004649,
          107.81737459741238,
          123.40053061522536,
          129.32832107680971,
          114.96797282017225,
          108.8694815284052,
          109.08278516715644,
          137.84085299672853,
          98.70438076315807,
          104.89661195353091,
          101.73505941040548,
          100.93944010621685,
          141.83884939405195,
          110.30458281096327,
          97.00609918328996,
          104.66167420515748,
          95.68486533846539,
          133.8719617114575,
          110.0088100705493,
          103.03952402273042,
          87.14433820536051,
          112.32305548022107,
          97.39025984028638,
          110.16028673766503,
          101.84389414316738,
          120.13183015493757,
          95.39986680153402,
          122.27522153519608,
          108.25974071819311,
          99.63712678463312,
          125.58433213555838,
          124.71907772042883,
          119.24931205346238,
          98.18769451497269,
          110.31285105131698,
          118.99009857554556,
          104.32707105989981,
          109.16796849680836,
          139.7523208174074,
          111.16832042041811,
          116.06876621673118,
          97.26485735139778,
          108.82865301368936,
          102.0903163907036,
          106.35968099545957,
          126.60424769012809,
          109.46705127392292,
          95.60127524431873,
          100.5657353779543,
          114.0277223405759,
          117.32541219283584,
          118.80257903172486,
          107.36910888363815,
          103.49860614736762,
          110.65508017111019,
          74.46660603081457,
          86.10918296801194,
          73.37493889635752,
          106.05899257595135,
          97.66072521933705,
          109.36597492502263,
          104.13094698743824,
          113.45870749869853,
          114.92845839932815,
          122.57072875929926,
          96.38177580858283,
          109.37381730109051,
          80.08496534892303,
          111.62246383728922,
          101.16071466490673,
          95.22529649563265,
          94.45733900433012,
          140.59529055738378,
          100.11864374090116,
          100.88024658244711,
          122.9967935276871,
          98.8779576585811,
          87.94157790193971,
          120.62711181581732,
          108.07231403868343,
          107.59040255717728,
          126.15755313987708,
          100.79903896767618,
          99.32354553031551,
          110.9815780900296,
          103.67793750033393,
          104.88174674488349,
          129.6805476012414,
          82.65601268247885,
          113.23063889842491,
          99.93930007526188,
          113.89576210518452,
          117.0432414029118,
          117.38349664769842,
          117.68255791525685,
          92.86969615487965,
          108.27659203633931,
          128.98962376956743,
          96.06154962229908,
          112.86372980765286,
          125.02333443867974,
          108.53867764403452,
          78.20604526520879,
          77.04617390017262,
          126.83401799086877,
          140.1776302871927,
          114.53016120551469,
          102.65507539637146,
          102.29676357850765,
          93.891184101144,
          143.05271834441794,
          105.51757314022424,
          130.19147488514392,
          119.40230721601586,
          109.01283868045569,
          82.34202186950697,
          111.64958814044724,
          140.09841690466496,
          98.63224100744138,
          125.23996760184873,
          86.11260270508984,
          114.38549807229262,
          130.05548216144504,
          106.35119114308375,
          106.5346465043257,
          104.91606076637244,
          114.77924023142917,
          130.95558093712302,
          96.80280426930263,
          111.67730716702354,
          116.47352189711012,
          134.206776457636,
          105.53923143488595,
          134.58443471785142,
          112.01144888247646,
          112.58056049536503,
          89.52474268573548,
          103.68101475889969,
          123.20960222969649,
          87.91150172100755,
          121.36564593771746,
          100.4509248086643,
          109.76242758987684,
          104.18277888595598,
          123.34495123182924,
          127.01235747863848,
          135.97445292585812,
          99.41720232655749,
          90.71284349621848,
          100.42684913670038,
          120.51177193588832,
          123.21710784548323,
          100.20194285016451,
          90.2005114621253,
          97.71931093330127,
          112.44053316793848,
          120.04639986831071,
          101.38879371853082,
          121.15530679688831,
          119.25068929505827,
          124.57800251061877,
          99.3214472406147,
          98.96460822276123,
          95.54804325844142,
          116.8870655483946,
          119.84357309457053,
          121.27255215354285,
          81.91724583099703,
          101.65579908171091,
          114.0824594860766,
          123.97318629159868,
          114.91298496773591,
          121.11220700752644,
          97.9714242835997
         ]
        },
        {
         "boxpoints": "all",
         "jitter": 0.2,
         "name": "Control group",
         "pointpos": -1.5,
         "type": "box",
         "y": [
          73.35584003137875,
          72.59619570323669,
          105.93123781185527,
          71.40342282208564,
          132.9178465401845,
          88.10057156395942,
          121.28013872100105,
          104.00515388263601,
          115.6849350850162,
          88.8598174081421,
          121.83281488659125,
          93.83654763063926,
          92.4168509515501,
          128.55334252775467,
          88.09838532405132,
          99.37122184033994,
          139.399141059282,
          83.45000899766126,
          77.43436628018182,
          99.09711172350765,
          137.57711636125526,
          97.45124910804579,
          105.5351585034302,
          86.55523492150462,
          76.6648510656996,
          122.27056014944101,
          100.91188443822372,
          62.80319948693061,
          94.47832038417307,
          106.04751862000441,
          70.11612981022478,
          106.10438036352042,
          113.66946786777328,
          103.99881620572326,
          91.98975081737082,
          122.94628053844133,
          77.57478572088951,
          110.05916991766661,
          95.23976953915088,
          117.74740263538318,
          67.20991271052648,
          70.56297204377378,
          95.19511912401538,
          122.52461326308276,
          95.02786866912321,
          118.67205645194423,
          112.35448791259036,
          126.445975289519,
          105.73160084146457,
          108.2044852878328,
          131.10974627440203,
          130.64206579566752,
          78.51150562723646,
          109.41044995974389,
          108.29114325712193,
          138.18933670049194,
          85.54301711452678,
          90.02190602713007,
          120.2961828073343,
          105.13240870608021,
          108.83400602097066,
          105.58033106446806,
          67.21554460329978,
          73.27650499511427,
          120.1649931003032,
          109.76045456947662,
          106.7566579833674,
          89.9934560035641,
          114.60206727054543,
          89.82574184956908,
          98.00717960431516,
          105.54269750664906,
          92.85269776025733,
          105.94958896055338,
          109.53074773302656,
          100.42949138536622,
          92.21348989510591,
          124.39596321567956,
          83.23115852652602,
          61.4216087542378,
          106.07553376263408,
          100.61324922626115,
          92.87265343109375,
          118.89410684233727,
          101.61146767358944,
          54.38284045245319,
          63.060274465686426,
          105.47380194712785,
          110.65367572271172,
          89.15694874645246,
          97.70090042983732,
          96.65430849627482,
          98.49587115822342,
          111.30717846967329,
          105.43989293280025,
          127.16320134724612,
          111.85938760613948,
          100.12248044543772,
          141.8302094094312,
          95.83437530510426,
          136.42791968328584,
          76.88185855223605,
          105.14529286183352,
          141.60024432430734,
          117.95708307150761,
          115.13185809189685,
          137.6131774131551,
          149.5801054147843,
          97.66879135668563,
          106.35821172379664,
          99.28675779734887,
          109.99942472170237,
          96.9142406891039,
          85.06796340579064,
          88.79202352473447,
          90.7917179432885,
          87.94882723965915,
          159.20724123481534,
          105.61901959018603,
          86.88538490097875,
          103.15940590049013,
          76.77188833073703,
          99.41425449385343,
          122.177008571981,
          124.78838178110146,
          100.60909187950735,
          110.77978775161507,
          136.32666827865685,
          153.89119588513353,
          79.26163653031848,
          128.57010123450794,
          97.7940411489036,
          142.44839052019915,
          96.37052520341636,
          133.03684397468788,
          129.81689950660956,
          126.38222300415848,
          83.19848572798192,
          106.02955721391062,
          87.18820685545577,
          124.99183829990645,
          120.57437532978463,
          80.19945885834073,
          89.46981947848911,
          86.86524844923525,
          113.64653301253777,
          96.64805249659523,
          104.49152572789086,
          90.24597894880462,
          118.01808919066391,
          114.16683241379857,
          116.35923807818426,
          82.78694339162664,
          96.31511006697912,
          121.70654279137878,
          66.82953831558345,
          113.94947447432953,
          93.86598034863259,
          110.91235510668943,
          65.2091355757742,
          122.590670097812,
          110.98137475670903,
          102.41936268302004,
          105.76308358459501,
          118.70896154996052,
          111.95656773622363,
          88.3175339571006,
          122.70149292966775,
          83.63804633407437,
          105.43055359119764,
          136.43321994330498,
          122.67911148281216,
          101.63809484490854,
          90.20157627440634,
          132.87526352643582,
          106.224330407355,
          103.72313833155235,
          86.35796279765032,
          130.84236447405289,
          153.36281158367834,
          111.89715811476549,
          79.90652339143494,
          152.77827869118838,
          118.3724861777294,
          109.65595549516122,
          95.72991318193948,
          101.28067258373102,
          100.28338719618745,
          100.28739741407843,
          134.83066565336983,
          85.076551864373,
          76.21937159096987,
          91.59363777246237,
          116.0466913972449,
          105.05396092807592,
          82.29320262306578,
          106.2104268323159,
          62.59116733670788,
          61.154128470286835,
          102.76797524601668,
          95.42652901600192,
          96.62149275544346,
          69.34448612849066,
          145.4198845070132,
          118.04756173516819,
          87.84220043474625,
          142.49171251547068,
          136.858925736884,
          150.91927610808165,
          80.79736047677324,
          134.1602131534798,
          101.7860267360141,
          109.02186259253389,
          112.72353504228052,
          112.63659005384825,
          91.96161765691151,
          75.24678784151297,
          135.3343665382391,
          100.41762787798021,
          108.27840810740129,
          134.93058722852072,
          93.01499035301185,
          89.79661377255582,
          103.59485859678553,
          102.11474508916291,
          108.86195775321374,
          104.92668333377419,
          120.29410968809157,
          84.42897719781581,
          96.50806512629093,
          120.25841361458421,
          115.3024076150804,
          156.55800244834333,
          83.72901069608956,
          108.6742323786768,
          98.99545796018592,
          87.93662128641755,
          127.40876193104695,
          107.40623567030265,
          129.05175929081793,
          96.80182192646632,
          113.68396850683364,
          116.94741836517912,
          72.77196664210635,
          96.88500190305483,
          112.70172723255224,
          64.60695706675642,
          86.75406247716222,
          78.6156908485435,
          106.011415039911,
          155.51058425024394,
          116.5614524448961,
          82.46783696245248,
          101.49945937668024,
          103.21027825467738,
          115.03930636729166,
          112.15573918006794,
          87.4664567864969,
          74.59875600298113,
          115.89621777563501,
          122.85117724438064,
          92.57013759050854,
          103.42481480925841,
          101.8483815244196,
          108.7974524426228,
          121.38203882209275,
          91.52690168231219,
          128.63636968149567,
          74.7756238117532,
          76.24303851365552,
          139.14827505577875,
          92.78046026095474,
          91.1674306550581,
          94.0174648495487,
          119.13201880078918,
          87.14310672669305,
          129.18271616974624,
          115.79570953040562,
          95.51019291824092,
          112.63729687650063,
          100.77993304375285,
          97.84325934212652,
          124.20211642670917,
          143.59750828073828,
          102.65433865835253,
          84.12145722412562,
          151.09729506883644,
          119.80281517397887,
          99.37658395355912,
          126.94755138271609,
          122.50176422952272,
          88.6102009014311,
          117.5959655539159,
          117.76197166963651,
          102.4474246648817,
          116.45382049989462,
          111.82411116636213,
          147.11567452687845,
          69.58256083690549,
          73.64566528037412,
          125.81397905533575,
          97.20863588642825,
          154.57361430218066,
          87.96509181148883,
          108.50182721820951,
          80.17724066548968,
          117.28715136804618,
          167.51270297929395,
          118.08739800540323,
          146.90689055436243,
          125.95422909886878,
          91.78538367822726,
          65.42009025404076,
          135.2051000228171,
          116.4381942432489,
          100.32111917959944,
          77.32280682319589,
          119.78895949738889,
          133.17944052767285,
          147.36666920703584,
          116.60613424535553,
          82.85915571141666,
          101.72468920642967,
          115.13486580460216,
          104.42821400799657,
          94.88743726289387,
          104.97373222199063,
          89.7723511853605,
          95.24370854925348,
          109.42247734537702,
          104.69427747770196,
          73.61972734079498,
          97.63829704126698,
          167.1927070081392,
          92.53585241786719,
          124.55436863015629,
          108.0661358650097,
          85.36749492889491,
          97.79797906272951,
          134.90334266668742,
          108.63417896617442,
          89.64902116326884,
          98.1828477184991,
          112.44818994590372,
          111.11843894883569,
          133.79109197822098,
          110.72033886686025,
          147.0776580325823,
          91.92740536024502,
          120.5670564054652,
          91.34337362017854,
          105.93819813511057,
          90.11799572761203,
          111.21479109190248,
          99.35019672994956,
          136.7453846822023,
          84.72396425207722,
          132.47307316738588,
          118.15955895493649,
          116.11467577089209,
          96.39379812246709,
          106.86640342217045,
          99.20110592460625,
          93.26923503279063,
          107.4753508056864,
          91.91366201553832,
          123.75574312855437,
          121.78481506401832,
          91.65337435437247,
          111.83827375419035,
          85.0472077817511,
          87.128829075733,
          152.2939509869739,
          67.77151971315733,
          92.28057643078158,
          91.15389531584428,
          101.29482845907977,
          67.05158504214776,
          116.61434314930027,
          105.53830338811754,
          119.33015824069282,
          117.31132646284496,
          83.19133639539689,
          74.83421480616633,
          127.66758196096809,
          125.45868381097932,
          98.57294460087745,
          94.23082569630273,
          103.32354086477845,
          97.05055878467529,
          98.61418812864648,
          123.97068497334084,
          94.20603920582866,
          99.07327432600354,
          103.56066846619872,
          132.98102647910918,
          119.37611522284445,
          87.72657735895267,
          104.06561172768964,
          89.98330193087487,
          92.29690067680427,
          91.37959685552671,
          74.96828498519604,
          97.62149780963819,
          97.94001293460462,
          107.54768786401391,
          115.3506265882798,
          119.95673680613515,
          88.81244886029134,
          92.3462815714413,
          96.06690340844949,
          91.26159596626194,
          109.18620167700966,
          114.60616440884982,
          107.77034407801189,
          89.1979972451837,
          97.28299296058316,
          116.15332328095859,
          111.86694813030181,
          106.34687739135666,
          92.68389644205837,
          86.78793604864285,
          148.42086138418708,
          103.98890742684455,
          136.04704396360376,
          120.92311581564805,
          94.09661063998634,
          67.58593749414233,
          93.75269164563029,
          69.3281040136861,
          106.41268767337091,
          95.50925778950551,
          110.04611753103767,
          82.78150188441552,
          103.20391088878338,
          88.26901348407253,
          96.711858752552,
          122.06618480903366,
          117.2845322349194,
          100.228664790671,
          83.89424192696687,
          113.66870945488526,
          140.2823893940472,
          128.95292268024082,
          86.0226340595664,
          95.62696617241689,
          79.79617339129538,
          136.60570359850826,
          93.88614712334899,
          117.99630666789842,
          121.75936524598154,
          141.6001822762604,
          110.38612755507717,
          68.0248712088042,
          90.00389993041486,
          99.6453399135892,
          117.6253997974566,
          103.25714144733043,
          103.61501963156232,
          101.64354375466822,
          117.98997378061118,
          117.40870951103567,
          107.88816928043904,
          128.2009104426778,
          83.91255595758818,
          110.29555867392033,
          91.50770080403419,
          131.41745545967257,
          85.80189083316479,
          88.8513892374485,
          98.43554797205186,
          123.34175218371686,
          98.66463309886903,
          123.45626416208806,
          87.14046378482428,
          143.7008787461584,
          123.39722653184049,
          126.32455342483186,
          66.17943289056095,
          76.8394796965569,
          138.45012759360802,
          127.71551220380367,
          111.8864699881905,
          92.05811698857137,
          84.44148256471559,
          67.58431148818741,
          118.22200886832579,
          68.90733864862844,
          128.31071675970725,
          118.27715923109906,
          108.12155063557144,
          113.27227131634118,
          129.22232576198763,
          101.47757337829505,
          123.84875608059667,
          117.66871672249798,
          102.72239400490025,
          114.15993282996553,
          92.688787672224,
          112.70571072805403
         ]
        }
       ],
       "layout": {
        "autosize": true,
        "template": {
         "data": {
          "bar": [
           {
            "error_x": {
             "color": "#2a3f5f"
            },
            "error_y": {
             "color": "#2a3f5f"
            },
            "marker": {
             "line": {
              "color": "#E5ECF6",
              "width": 0.5
             }
            },
            "type": "bar"
           }
          ],
          "barpolar": [
           {
            "marker": {
             "line": {
              "color": "#E5ECF6",
              "width": 0.5
             }
            },
            "type": "barpolar"
           }
          ],
          "carpet": [
           {
            "aaxis": {
             "endlinecolor": "#2a3f5f",
             "gridcolor": "white",
             "linecolor": "white",
             "minorgridcolor": "white",
             "startlinecolor": "#2a3f5f"
            },
            "baxis": {
             "endlinecolor": "#2a3f5f",
             "gridcolor": "white",
             "linecolor": "white",
             "minorgridcolor": "white",
             "startlinecolor": "#2a3f5f"
            },
            "type": "carpet"
           }
          ],
          "choropleth": [
           {
            "colorbar": {
             "outlinewidth": 0,
             "ticks": ""
            },
            "type": "choropleth"
           }
          ],
          "contour": [
           {
            "colorbar": {
             "outlinewidth": 0,
             "ticks": ""
            },
            "colorscale": [
             [
              0,
              "#0d0887"
             ],
             [
              0.1111111111111111,
              "#46039f"
             ],
             [
              0.2222222222222222,
              "#7201a8"
             ],
             [
              0.3333333333333333,
              "#9c179e"
             ],
             [
              0.4444444444444444,
              "#bd3786"
             ],
             [
              0.5555555555555556,
              "#d8576b"
             ],
             [
              0.6666666666666666,
              "#ed7953"
             ],
             [
              0.7777777777777778,
              "#fb9f3a"
             ],
             [
              0.8888888888888888,
              "#fdca26"
             ],
             [
              1,
              "#f0f921"
             ]
            ],
            "type": "contour"
           }
          ],
          "contourcarpet": [
           {
            "colorbar": {
             "outlinewidth": 0,
             "ticks": ""
            },
            "type": "contourcarpet"
           }
          ],
          "heatmap": [
           {
            "colorbar": {
             "outlinewidth": 0,
             "ticks": ""
            },
            "colorscale": [
             [
              0,
              "#0d0887"
             ],
             [
              0.1111111111111111,
              "#46039f"
             ],
             [
              0.2222222222222222,
              "#7201a8"
             ],
             [
              0.3333333333333333,
              "#9c179e"
             ],
             [
              0.4444444444444444,
              "#bd3786"
             ],
             [
              0.5555555555555556,
              "#d8576b"
             ],
             [
              0.6666666666666666,
              "#ed7953"
             ],
             [
              0.7777777777777778,
              "#fb9f3a"
             ],
             [
              0.8888888888888888,
              "#fdca26"
             ],
             [
              1,
              "#f0f921"
             ]
            ],
            "type": "heatmap"
           }
          ],
          "heatmapgl": [
           {
            "colorbar": {
             "outlinewidth": 0,
             "ticks": ""
            },
            "colorscale": [
             [
              0,
              "#0d0887"
             ],
             [
              0.1111111111111111,
              "#46039f"
             ],
             [
              0.2222222222222222,
              "#7201a8"
             ],
             [
              0.3333333333333333,
              "#9c179e"
             ],
             [
              0.4444444444444444,
              "#bd3786"
             ],
             [
              0.5555555555555556,
              "#d8576b"
             ],
             [
              0.6666666666666666,
              "#ed7953"
             ],
             [
              0.7777777777777778,
              "#fb9f3a"
             ],
             [
              0.8888888888888888,
              "#fdca26"
             ],
             [
              1,
              "#f0f921"
             ]
            ],
            "type": "heatmapgl"
           }
          ],
          "histogram": [
           {
            "marker": {
             "colorbar": {
              "outlinewidth": 0,
              "ticks": ""
             }
            },
            "type": "histogram"
           }
          ],
          "histogram2d": [
           {
            "colorbar": {
             "outlinewidth": 0,
             "ticks": ""
            },
            "colorscale": [
             [
              0,
              "#0d0887"
             ],
             [
              0.1111111111111111,
              "#46039f"
             ],
             [
              0.2222222222222222,
              "#7201a8"
             ],
             [
              0.3333333333333333,
              "#9c179e"
             ],
             [
              0.4444444444444444,
              "#bd3786"
             ],
             [
              0.5555555555555556,
              "#d8576b"
             ],
             [
              0.6666666666666666,
              "#ed7953"
             ],
             [
              0.7777777777777778,
              "#fb9f3a"
             ],
             [
              0.8888888888888888,
              "#fdca26"
             ],
             [
              1,
              "#f0f921"
             ]
            ],
            "type": "histogram2d"
           }
          ],
          "histogram2dcontour": [
           {
            "colorbar": {
             "outlinewidth": 0,
             "ticks": ""
            },
            "colorscale": [
             [
              0,
              "#0d0887"
             ],
             [
              0.1111111111111111,
              "#46039f"
             ],
             [
              0.2222222222222222,
              "#7201a8"
             ],
             [
              0.3333333333333333,
              "#9c179e"
             ],
             [
              0.4444444444444444,
              "#bd3786"
             ],
             [
              0.5555555555555556,
              "#d8576b"
             ],
             [
              0.6666666666666666,
              "#ed7953"
             ],
             [
              0.7777777777777778,
              "#fb9f3a"
             ],
             [
              0.8888888888888888,
              "#fdca26"
             ],
             [
              1,
              "#f0f921"
             ]
            ],
            "type": "histogram2dcontour"
           }
          ],
          "mesh3d": [
           {
            "colorbar": {
             "outlinewidth": 0,
             "ticks": ""
            },
            "type": "mesh3d"
           }
          ],
          "parcoords": [
           {
            "line": {
             "colorbar": {
              "outlinewidth": 0,
              "ticks": ""
             }
            },
            "type": "parcoords"
           }
          ],
          "pie": [
           {
            "automargin": true,
            "type": "pie"
           }
          ],
          "scatter": [
           {
            "marker": {
             "colorbar": {
              "outlinewidth": 0,
              "ticks": ""
             }
            },
            "type": "scatter"
           }
          ],
          "scatter3d": [
           {
            "line": {
             "colorbar": {
              "outlinewidth": 0,
              "ticks": ""
             }
            },
            "marker": {
             "colorbar": {
              "outlinewidth": 0,
              "ticks": ""
             }
            },
            "type": "scatter3d"
           }
          ],
          "scattercarpet": [
           {
            "marker": {
             "colorbar": {
              "outlinewidth": 0,
              "ticks": ""
             }
            },
            "type": "scattercarpet"
           }
          ],
          "scattergeo": [
           {
            "marker": {
             "colorbar": {
              "outlinewidth": 0,
              "ticks": ""
             }
            },
            "type": "scattergeo"
           }
          ],
          "scattergl": [
           {
            "marker": {
             "colorbar": {
              "outlinewidth": 0,
              "ticks": ""
             }
            },
            "type": "scattergl"
           }
          ],
          "scattermapbox": [
           {
            "marker": {
             "colorbar": {
              "outlinewidth": 0,
              "ticks": ""
             }
            },
            "type": "scattermapbox"
           }
          ],
          "scatterpolar": [
           {
            "marker": {
             "colorbar": {
              "outlinewidth": 0,
              "ticks": ""
             }
            },
            "type": "scatterpolar"
           }
          ],
          "scatterpolargl": [
           {
            "marker": {
             "colorbar": {
              "outlinewidth": 0,
              "ticks": ""
             }
            },
            "type": "scatterpolargl"
           }
          ],
          "scatterternary": [
           {
            "marker": {
             "colorbar": {
              "outlinewidth": 0,
              "ticks": ""
             }
            },
            "type": "scatterternary"
           }
          ],
          "surface": [
           {
            "colorbar": {
             "outlinewidth": 0,
             "ticks": ""
            },
            "colorscale": [
             [
              0,
              "#0d0887"
             ],
             [
              0.1111111111111111,
              "#46039f"
             ],
             [
              0.2222222222222222,
              "#7201a8"
             ],
             [
              0.3333333333333333,
              "#9c179e"
             ],
             [
              0.4444444444444444,
              "#bd3786"
             ],
             [
              0.5555555555555556,
              "#d8576b"
             ],
             [
              0.6666666666666666,
              "#ed7953"
             ],
             [
              0.7777777777777778,
              "#fb9f3a"
             ],
             [
              0.8888888888888888,
              "#fdca26"
             ],
             [
              1,
              "#f0f921"
             ]
            ],
            "type": "surface"
           }
          ],
          "table": [
           {
            "cells": {
             "fill": {
              "color": "#EBF0F8"
             },
             "line": {
              "color": "white"
             }
            },
            "header": {
             "fill": {
              "color": "#C8D4E3"
             },
             "line": {
              "color": "white"
             }
            },
            "type": "table"
           }
          ]
         },
         "layout": {
          "annotationdefaults": {
           "arrowcolor": "#2a3f5f",
           "arrowhead": 0,
           "arrowwidth": 1
          },
          "coloraxis": {
           "colorbar": {
            "outlinewidth": 0,
            "ticks": ""
           }
          },
          "colorscale": {
           "diverging": [
            [
             0,
             "#8e0152"
            ],
            [
             0.1,
             "#c51b7d"
            ],
            [
             0.2,
             "#de77ae"
            ],
            [
             0.3,
             "#f1b6da"
            ],
            [
             0.4,
             "#fde0ef"
            ],
            [
             0.5,
             "#f7f7f7"
            ],
            [
             0.6,
             "#e6f5d0"
            ],
            [
             0.7,
             "#b8e186"
            ],
            [
             0.8,
             "#7fbc41"
            ],
            [
             0.9,
             "#4d9221"
            ],
            [
             1,
             "#276419"
            ]
           ],
           "sequential": [
            [
             0,
             "#0d0887"
            ],
            [
             0.1111111111111111,
             "#46039f"
            ],
            [
             0.2222222222222222,
             "#7201a8"
            ],
            [
             0.3333333333333333,
             "#9c179e"
            ],
            [
             0.4444444444444444,
             "#bd3786"
            ],
            [
             0.5555555555555556,
             "#d8576b"
            ],
            [
             0.6666666666666666,
             "#ed7953"
            ],
            [
             0.7777777777777778,
             "#fb9f3a"
            ],
            [
             0.8888888888888888,
             "#fdca26"
            ],
            [
             1,
             "#f0f921"
            ]
           ],
           "sequentialminus": [
            [
             0,
             "#0d0887"
            ],
            [
             0.1111111111111111,
             "#46039f"
            ],
            [
             0.2222222222222222,
             "#7201a8"
            ],
            [
             0.3333333333333333,
             "#9c179e"
            ],
            [
             0.4444444444444444,
             "#bd3786"
            ],
            [
             0.5555555555555556,
             "#d8576b"
            ],
            [
             0.6666666666666666,
             "#ed7953"
            ],
            [
             0.7777777777777778,
             "#fb9f3a"
            ],
            [
             0.8888888888888888,
             "#fdca26"
            ],
            [
             1,
             "#f0f921"
            ]
           ]
          },
          "colorway": [
           "#636efa",
           "#EF553B",
           "#00cc96",
           "#ab63fa",
           "#FFA15A",
           "#19d3f3",
           "#FF6692",
           "#B6E880",
           "#FF97FF",
           "#FECB52"
          ],
          "font": {
           "color": "#2a3f5f"
          },
          "geo": {
           "bgcolor": "white",
           "lakecolor": "white",
           "landcolor": "#E5ECF6",
           "showlakes": true,
           "showland": true,
           "subunitcolor": "white"
          },
          "hoverlabel": {
           "align": "left"
          },
          "hovermode": "closest",
          "mapbox": {
           "style": "light"
          },
          "paper_bgcolor": "white",
          "plot_bgcolor": "#E5ECF6",
          "polar": {
           "angularaxis": {
            "gridcolor": "white",
            "linecolor": "white",
            "ticks": ""
           },
           "bgcolor": "#E5ECF6",
           "radialaxis": {
            "gridcolor": "white",
            "linecolor": "white",
            "ticks": ""
           }
          },
          "scene": {
           "xaxis": {
            "backgroundcolor": "#E5ECF6",
            "gridcolor": "white",
            "gridwidth": 2,
            "linecolor": "white",
            "showbackground": true,
            "ticks": "",
            "zerolinecolor": "white"
           },
           "yaxis": {
            "backgroundcolor": "#E5ECF6",
            "gridcolor": "white",
            "gridwidth": 2,
            "linecolor": "white",
            "showbackground": true,
            "ticks": "",
            "zerolinecolor": "white"
           },
           "zaxis": {
            "backgroundcolor": "#E5ECF6",
            "gridcolor": "white",
            "gridwidth": 2,
            "linecolor": "white",
            "showbackground": true,
            "ticks": "",
            "zerolinecolor": "white"
           }
          },
          "shapedefaults": {
           "line": {
            "color": "#2a3f5f"
           }
          },
          "ternary": {
           "aaxis": {
            "gridcolor": "white",
            "linecolor": "white",
            "ticks": ""
           },
           "baxis": {
            "gridcolor": "white",
            "linecolor": "white",
            "ticks": ""
           },
           "bgcolor": "#E5ECF6",
           "caxis": {
            "gridcolor": "white",
            "linecolor": "white",
            "ticks": ""
           }
          },
          "title": {
           "x": 0.05
          },
          "xaxis": {
           "automargin": true,
           "gridcolor": "white",
           "linecolor": "white",
           "ticks": "",
           "title": {
            "standoff": 15
           },
           "zerolinecolor": "white",
           "zerolinewidth": 2
          },
          "yaxis": {
           "automargin": true,
           "gridcolor": "white",
           "linecolor": "white",
           "ticks": "",
           "title": {
            "standoff": 15
           },
           "zerolinecolor": "white",
           "zerolinewidth": 2
          }
         }
        },
        "xaxis": {
         "autorange": true,
         "range": [
          -0.5069605568445475,
          2.5
         ],
         "type": "category"
        },
        "yaxis": {
         "autorange": true,
         "range": [
          48.09784808985093,
          173.7976953418962
         ],
         "type": "linear"
        }
       }
      },
      "image/png": "[encoded data removed]"
     },
     "metadata": {},
     "output_type": "display_data"
    }
   ],
   "source": [
    "trace = []\n",
    "vals = [group_a, group_b, control_group]\n",
    "groups = [\"Group A\", \"Group B\", \"Control group\"]\n",
    "\n",
    "for i in range(0, len(groups)):\n",
    "        trace.append(go.Box(y = vals[i],\n",
    "                           name = groups[i],\n",
    "                           boxpoints = \"all\",\n",
    "                           jitter = 0.2,\n",
    "                           pointpos = -1.5))\n",
    "        \n",
    "data = trace\n",
    "\n",
    "# iplot({\"data\":data}) # Old way!!\n",
    "pio.show(dict(data=data)) # Using another technique for dictionary!"
   ]
  },
  {
   "cell_type": "markdown",
   "metadata": {},
   "source": [
    "## Adding the mean"
   ]
  },
  {
   "cell_type": "code",
   "execution_count": 11,
   "metadata": {},
   "outputs": [
    {
     "data": {
      "application/vnd.plotly.v1+json": {
       "config": {
        "plotlyServerURL": "https://plot.ly"
       },
       "data": [
        {
         "boxmean": true,
         "boxpoints": "all",
         "jitter": 0.2,
         "name": "Group A",
         "pointpos": -1.5,
         "type": "box",
         "y": [
          104.71435163732492,
          88.09024305293535,
          114.32706968426098,
          96.87348103908288,
          92.79411266634989,
          108.87162940307738,
          108.59588413717417,
          93.63476495582651,
          100.1569637211443,
          77.57315045814595,
          111.50035724719818,
          109.91946022342678,
          109.5332412811243,
          79.7874517980503,
          96.65922634191904,
          100.02118364683487,
          104.05453411570191,
          102.89091940980035,
          113.21158192129386,
          84.5309444677076,
          97.97353675370817,
          93.44030655861066,
          101.93421376470359,
          105.53438910956741,
          113.18151554180136,
          95.306947152941,
          106.75554085122381,
          81.82972773409803,
          98.16891459821001,
          110.58969187571151,
          96.02159771800008,
          103.37437653613972,
          110.47578572892722,
          110.45938255627665,
          108.63717291684839,
          98.77908425152326,
          101.24712953768216,
          96.77205194391705,
          108.41674712996142,
          123.90960515463033,
          100.76199587837236,
          94.33554069535043,
          100.36141936684072,
          79.25022399309971,
          102.47792199748547,
          91.02843215560301,
          98.63205166738652,
          100.1828919134922,
          107.55413982398136,
          102.15268580969443,
          108.4100879493139,
          85.54189922955693,
          85.98026718499156,
          98.99081800051086,
          94.51757550813144,
          98.55380491630616,
          103.54020332199238,
          99.64486974721859,
          105.65738306062595,
          115.45658804625558,
          90.25763666232685,
          99.29655122895898,
          103.07968855216035,
          97.9150123689412,
          110.338007325555,
          75.99546366187704,
          120.306036208388,
          88.57368710977237,
          102.11883386777701,
          107.04720624317109,
          92.14564788236802,
          104.62059737162049,
          107.04228225462174,
          105.23507967893809,
          90.73745686469775,
          120.07842950778,
          102.26962541870896,
          88.47340890749048,
          106.3197944580913,
          100.39512686693367,
          104.64392325050896,
          64.36483339375265,
          113.21105615470206,
          101.52630552204535,
          101.64529542932398,
          95.69904309123513,
          107.67368735752412,
          109.84919841909897,
          102.70835848826803,
          113.91986193446408,
          100.79842313008629,
          96.00035419303478,
          89.72149441318095,
          94.15281788739212,
          108.16593926547841,
          99.18052948173334,
          96.55233985745356,
          105.28288145297394,
          89.31011216519867,
          94.88118690873185,
          102.91205359743063,
          105.66533696353572,
          105.03591759111202,
          102.85295684781858,
          104.8428811274975,
          113.63481512426145,
          92.18894716374608,
          95.31982333662515,
          112.24574355126174,
          87.18891724855958,
          108.75475504274324,
          82.89284675970471,
          95.49234896863726,
          107.49163805919065,
          97.96067133898748,
          98.17824588334265,
          106.80656004381457,
          81.81501009608385,
          100.47071635325712,
          103.94844209327205,
          97.51567945619153,
          93.82293352002984,
          93.17116003550666,
          104.36257604340916,
          82.96987225886762,
          103.93710599138666,
          95.20675996424502,
          97.0098370703392,
          106.94103287678765,
          106.78629673709857,
          102.39555995003897,
          101.5122662929445,
          108.16127233360041,
          118.935344675962,
          106.39632763193703,
          90.37971168094809,
          79.14734357879891,
          119.30246767465576,
          82.64651125529608,
          112.10383704904514,
          107.97435419427873,
          96.20189215952621,
          107.025622240016,
          91.49653728344884,
          111.76812450104929,
          94.75663897367544,
          107.00907730915604,
          109.84188070722415,
          98.7827159133318,
          123.65768628840038,
          104.96142926247595,
          107.96594866664952,
          95.25979109874315,
          99.4330428350907,
          113.57797258107058,
          91.95166275833296,
          78.7637975090707,
          96.66497559566753,
          91.13280647514623,
          103.34197930899009,
          105.3678382490275,
          92.56169632063799,
          96.7979611775912,
          90.83801138733459,
          91.4033170001826,
          102.25985486733755,
          106.28775826538295,
          101.86494348773074,
          109.52478345109122,
          109.88137582593309,
          99.27391686037325,
          94.49397076436581,
          90.61847385906896,
          87.60928437405207,
          101.39683274031295,
          97.76981018117525,
          121.23691888593552,
          101.22273434258828,
          85.90568260077231,
          114.22985952772243,
          78.52144962356391,
          86.52467486542245,
          103.63564556806648,
          99.85247888195406,
          112.7239507854621,
          85.50433391136613,
          88.0447625833303,
          94.08137026852751,
          95.8549515646781,
          85.74205266561978,
          102.09394787535923,
          94.07113996161074,
          85.26883586534353,
          91.03419384698128,
          111.04351569860313,
          95.68450484483955,
          98.38863091755941,
          108.89157494072873,
          102.88376847715266,
          89.48461062429962,
          96.80438600159769,
          93.80006912278797,
          101.56998376446688,
          94.2854464892021,
          110.57633183204614,
          92.08511190522114,
          94.75372654071529,
          100.71878039370368,
          119.10759427277182,
          107.87964683137615,
          105.13082144466992,
          94.53583719726406,
          110.43944655495324,
          121.0778515279337,
          114.59927481585294,
          110.1540545781252,
          107.49184600924198,
          93.24478521563312,
          104.4026639166873,
          106.88971856326943,
          97.23353872723013,
          119.2453332001529,
          104.11204020707224,
          108.90764956173118,
          102.26363227251707,
          79.21382106297824,
          96.12113768032825,
          99.12893030036001,
          111.26385822137273,
          102.47111716157737,
          101.21171805331541,
          102.98983935542047,
          98.42900863153348,
          92.59530977219282,
          87.52347076948767,
          102.49455215152449,
          105.81073320620607,
          127.63844079849567,
          103.99325436979576,
          106.68488169205806,
          97.24226271343694,
          105.00482900154373,
          108.63064860590625,
          89.48372140534788,
          86.07945922506913,
          111.53922240612225,
          111.81944105999231,
          103.91371448421931,
          91.1895290779843,
          102.9507995978624,
          118.63801062132504,
          82.87726075528744,
          85.92915454256774,
          101.26781186326971,
          100.03759847795496,
          87.31005743926607,
          91.6115707857971,
          105.5392125143972,
          94.95957281918037,
          92.11559815482121,
          115.29400674483931,
          102.0545485392598,
          103.1301312898086,
          108.665207121683,
          102.99070529594377,
          110.76540643846121,
          103.63177347544452,
          118.93679825551843,
          95.14247255717191,
          103.87674455777598,
          100.23557610392554,
          93.3977049795572,
          96.81315070421985,
          92.77337806325627,
          101.77386719384599,
          109.83512729343164,
          100.23504585885395,
          105.53776977863366,
          103.53769293996639,
          97.24406366232317,
          95.09516408521318,
          96.2556339980722,
          76.02496023861184,
          115.41029983277939,
          100.63084538957305,
          97.15559316073707,
          87.3439946239879,
          117.8797963245575,
          96.45491291930625,
          98.95238876932896,
          103.86253689189053,
          108.22775373765373,
          93.16210177568992,
          110.57203331214129,
          100.31879973569032,
          113.43182457528941,
          99.49460310451228,
          96.35990043692891,
          84.4665766056894,
          96.80702198179839,
          105.27046450954964,
          107.11112399364823,
          97.82454519509524,
          126.37791210703864,
          82.57862369405035,
          99.05565192258555,
          114.31183752254563,
          105.92758446550668,
          101.70296895326288,
          82.48294052207976,
          102.88581322343208,
          94.5742048309322,
          101.71602381985996,
          109.82817829243105,
          99.74651097937232,
          97.12447550715892,
          109.24442867343366,
          99.38753700133685,
          92.68966657414794,
          89.77226295304857,
          109.95992970245753,
          109.55557932627455,
          107.13840771195044,
          101.33370962194122,
          91.92961691527186,
          96.57989218120785,
          119.08779658091186,
          101.55923261453127,
          107.59652532092963,
          95.76993771580752,
          101.81672745323682,
          102.74492570746403,
          100.67912357380757,
          99.6301718512408,
          98.29198969302378,
          102.66973231539868,
          113.82997248852925,
          99.77539126488574,
          101.31395367225915,
          104.34437185102232,
          102.64534068316999,
          105.65658344273825,
          105.85084279501724,
          98.25701847247913,
          89.2863132854491,
          99.51539497447617,
          91.54709610433757,
          104.1510055838158,
          104.25530591397859,
          90.19275642499414,
          95.72173890027979,
          114.98569955138537,
          96.39843429130973,
          95.41759610662507,
          86.62031598049029,
          99.58613460385128,
          108.21047956107915,
          120.97800780771692,
          112.82933246874524,
          102.70337925739372,
          110.03140362044931,
          110.78673551320406,
          103.40752685129765,
          98.01925040376432,
          124.81458422875653,
          113.85254876189207,
          88.45399034610331,
          87.31930949622918,
          106.07862186209479,
          89.19903516842409,
          93.88718325204238,
          101.02035112292332,
          85.63426063227881,
          102.10717052505655,
          91.03095829302488,
          82.75606921008168,
          117.92339196646942,
          86.87287293407769,
          105.55877426385625,
          93.1811869450887,
          115.72742745755804,
          98.95348425152234,
          118.50397801609901,
          96.666495732506,
          101.93464233819873,
          95.03255062135091,
          110.32723215735861,
          82.60196202477441,
          92.44137824377091,
          91.18888267352065,
          103.93892262912675,
          90.49974465203717,
          103.32506622162249,
          105.28944408856047,
          88.79479006007276,
          100.48264206925657,
          100.61988450521777,
          89.72484326782133,
          97.61664634532674,
          119.32178169581346,
          97.73367706323164,
          90.76169279823077,
          103.5583899747282,
          87.29936521613712,
          98.04527587303241,
          95.36580600782537,
          109.8941484728585,
          113.88647381631716,
          110.87713736524141,
          104.38801263034391,
          90.38397759118764,
          112.45609937147846,
          105.02925517670631,
          93.6860122162148,
          92.9574795291174,
          97.59517463241657,
          105.85599310929858,
          103.52800560108406,
          81.84442307567915,
          90.89876154304858,
          92.5147204666094,
          98.91875073519736,
          102.74778837052168,
          102.37349764509425,
          97.40156305636611,
          96.875578228436,
          104.48509742512407,
          99.40468035295599,
          95.29985186602214,
          103.49566771627666,
          89.72531152826387,
          96.93361516130389,
          114.06176139494268,
          87.50303227205647,
          84.39851111114767,
          115.57397650649023,
          94.06643605023513,
          98.297114876705,
          116.72626808454706,
          94.59200192350124,
          93.15871671233415,
          105.99962085981993,
          97.82800874855361,
          103.31526518352153,
          96.16635419849172,
          92.18183911926889,
          102.66237406827837,
          102.79428024532737,
          87.8037430482623,
          92.76051083244495,
          82.65221692456066,
          102.71660784374025,
          100.9911201694909,
          96.36910093562742,
          94.1177327171148,
          100.25941713524132,
          94.27697649254841,
          111.05586962797162,
          87.91984407170352,
          86.60298960025085,
          120.75185406731782,
          85.1059029866899,
          88.49046934374036,
          104.19059824673965,
          104.13405276424496,
          107.17576932588283,
          102.61724839679904,
          97.57228728899638,
          94.98731867248333,
          93.01871021031145,
          113.84580160839074,
          97.13574586064244,
          105.00069585028226,
          119.51103236540061,
          97.21632538406992,
          100.3678625863071,
          104.45852506261001,
          85.89649242319331,
          104.50001300695475,
          105.15479530793898,
          88.45916059617397,
          86.19826604928161,
          95.04166994786837,
          95.86720927581129,
          82.80683332072451,
          99.70439097246916,
          92.33960116477171,
          100.99882076502627,
          92.86976043370255,
          77.73882379022413,
          107.25714153121955,
          109.16976283069235,
          94.36109759588744,
          84.7782044317683,
          99.85721211372437,
          97.53279193181116,
          98.34670523482721,
          101.19113982598341,
          79.25019513829952,
          89.97244782983083
         ]
        },
        {
         "boxmean": true,
         "boxpoints": "all",
         "jitter": 0.2,
         "name": "Group B",
         "pointpos": -1.5,
         "type": "box",
         "y": [
          117.85319027095699,
          122.32275963498384,
          107.76887226000706,
          109.31944382061062,
          99.43260611705358,
          135.9547327925951,
          113.4339088325608,
          126.39111585936259,
          104.6964271000786,
          109.54011702594823,
          106.99742224068986,
          102.78034640964088,
          135.67138995517365,
          131.5308062937893,
          92.48719500138492,
          110.61265137149003,
          115.43027293505668,
          118.58888286564869,
          126.56690355099724,
          103.61491960219111,
          121.33533264273035,
          110.15422185732992,
          113.36878656147344,
          92.97937660147565,
          95.72718588152665,
          108.09304315886351,
          110.43416747601685,
          141.56116049943958,
          133.51271215195575,
          100.6365555081369,
          103.99033696910035,
          92.94407692686313,
          96.4526144450468,
          93.54082906371453,
          108.9303618555335,
          90.2099137002372,
          101.59860581184392,
          112.47431835550046,
          100.52621318113322,
          96.99395330655847,
          94.96155993934003,
          128.1102230486851,
          135.67980519478988,
          100.63115781047432,
          106.81781294021062,
          92.09653726588482,
          119.86378838649767,
          113.00119822328591,
          126.36889788832627,
          102.66466912589436,
          130.52330393338937,
          123.37437676290213,
          122.56349318675205,
          117.7121707008387,
          109.24925461385249,
          121.1592926924734,
          84.1392469469281,
          111.34852359909092,
          114.841093428278,
          104.34275861582665,
          109.99668652547601,
          125.75170540668832,
          107.46951331673728,
          121.96814744631745,
          118.28786469736997,
          92.70360107293729,
          134.62328283543206,
          88.41533248288636,
          140.4160927072628,
          89.52024018239504,
          111.08223293588428,
          119.19727517636966,
          132.33749639441368,
          113.31944862551931,
          87.03661837420078,
          122.02832321324726,
          103.63299930704991,
          126.78282458203796,
          133.5432209687427,
          131.41597656601454,
          89.42243190324959,
          106.00373161036705,
          121.68821847821363,
          108.45778557972478,
          101.20303067362418,
          113.60378981892575,
          95.02916511842692,
          112.86754869234807,
          95.70795467628636,
          132.0649486925751,
          120.78357382314347,
          107.50160634084637,
          121.4691694503233,
          92.15834793728209,
          101.97714104419603,
          109.67603230030025,
          93.42212612780321,
          94.16080492212596,
          125.32033488485084,
          135.6448414246981,
          110.44342927906426,
          111.85763024657356,
          114.34145085054463,
          105.4776163408018,
          116.21652516919717,
          124.24786851706673,
          117.82772813164284,
          80.46105688922242,
          117.54215041636677,
          104.6836634099936,
          103.29514277282908,
          93.24532421096345,
          98.17600426128355,
          125.83628245948795,
          90.4318818365452,
          118.09602856014193,
          115.20486875560054,
          123.11289339995824,
          86.37230956068865,
          107.60024515737574,
          100.35000145749555,
          99.26943670053058,
          135.49188395932444,
          129.2425583703005,
          103.21163500522688,
          115.90700190673742,
          116.38610915878694,
          108.04928851712607,
          104.09400250727657,
          100.3841033883777,
          112.57946382073179,
          97.39776471059982,
          122.97497462787435,
          106.92708001877807,
          108.39389998501193,
          106.36839972402922,
          96.46275837594276,
          121.96806329479446,
          105.66356318514278,
          120.15466418998633,
          104.85223949104194,
          117.30815201911767,
          121.48498037244217,
          76.99153346383821,
          71.05906404831237,
          117.1351225717477,
          86.0767153215165,
          93.3488490250094,
          95.02390256722362,
          75.86290096180007,
          133.29210811799805,
          92.76051846988526,
          112.8279594289646,
          124.83445674630472,
          86.20795545060568,
          102.91428686684354,
          107.16730478186386,
          113.16690620492606,
          134.17583438683846,
          118.50095662719845,
          100.38234119801922,
          133.0816091174001,
          114.6449597884243,
          103.26726979471958,
          136.53650855468842,
          114.02300731945657,
          88.0666240711215,
          137.76215253458304,
          135.51154258506443,
          115.3008658392247,
          115.04733531653288,
          125.85658151663418,
          127.98018083701501,
          71.08018595507176,
          99.27881938765113,
          122.06519062458482,
          127.87483018807785,
          108.08951923825497,
          93.8753710101696,
          131.72403687775966,
          105.82468580426543,
          94.4477200408859,
          113.02177199573381,
          117.52633698486093,
          134.20002383017192,
          81.53434057624247,
          129.48623860664418,
          118.29776638958454,
          106.99456555990008,
          118.18504992639575,
          113.93429928459754,
          113.28605314520578,
          123.98529398402722,
          136.14578641821274,
          108.12944480345226,
          124.31047500702722,
          120.68076423837336,
          101.30995014176462,
          98.57270816725912,
          134.92253193115647,
          148.21537553686574,
          109.4163151395633,
          104.65386189142622,
          82.06147019848706,
          149.77998677201316,
          107.95654444465498,
          111.55624009956449,
          111.73148338526984,
          113.88005696684058,
          132.31614997942185,
          131.81515214585949,
          120.56462447252147,
          131.99527063785007,
          115.30433273805144,
          93.71714804648087,
          115.44814641504453,
          82.80084301392009,
          107.03133860426249,
          116.49311888073917,
          101.89151318438465,
          114.43445982471343,
          141.19766355250553,
          82.36350620058431,
          102.33250975069143,
          101.2859730740789,
          125.94104699997959,
          110.2708266448442,
          110.34197599534058,
          84.80312772627596,
          122.18634501023757,
          100.61166940300848,
          91.2459377229691,
          119.22703187530927,
          108.17908083479307,
          90.78657092993666,
          114.8691470888788,
          120.0585408592618,
          112.23741984715063,
          114.90595705824346,
          104.70557464787268,
          96.41708539334493,
          135.14278138364693,
          120.21494011590156,
          99.44423584109889,
          111.53119623064836,
          127.9258420952672,
          105.83060921327586,
          109.2175206255524,
          115.3052540187472,
          103.87533856834169,
          82.84355498307218,
          96.45037906579839,
          125.8106763678397,
          95.28684684906526,
          115.28118337106568,
          119.98972760465905,
          125.98252252932232,
          106.57349580345947,
          115.46725856368741,
          87.2773001417685,
          108.87108069144162,
          105.54412877363936,
          99.08878427340107,
          106.31186989421631,
          108.08076586820552,
          104.46034070135808,
          70.65493573283703,
          141.73776093386851,
          120.28342378218716,
          107.63834022932375,
          130.7193165111951,
          111.02639838112823,
          114.6880443872508,
          116.81379777725543,
          98.17292187047224,
          109.0123949853326,
          88.72280230835463,
          107.90369989683619,
          101.66967715680352,
          102.47123331721978,
          120.39677782255649,
          106.31959254724752,
          90.95852211371218,
          106.06514217223894,
          145.06397723292585,
          98.27423843485954,
          111.20149618307376,
          89.90883318852039,
          116.2017644573775,
          113.06677951022982,
          117.1767994179455,
          110.44371456462855,
          107.26337023401592,
          110.26200012702215,
          140.81434295004217,
          72.02175029914955,
          116.3572202605738,
          95.66474726614047,
          107.99488684517331,
          93.83895012935808,
          128.74853766036736,
          118.56723130194655,
          114.45572643736183,
          123.0779782625244,
          107.54433205138655,
          120.34284798181902,
          139.7688485478483,
          108.22577172358982,
          124.32694878384909,
          92.29170670703344,
          132.05710908944658,
          109.67663174565459,
          120.66292206604217,
          97.82247421887914,
          76.23180402065233,
          93.10849721012241,
          105.38199881124658,
          95.57173196540266,
          120.06238938978828,
          110.95075139887345,
          100.1480617930365,
          105.6745522632092,
          106.70309756383226,
          113.00371941210388,
          97.31749638454002,
          149.64384027058568,
          104.99382844004649,
          107.81737459741238,
          123.40053061522536,
          129.32832107680971,
          114.96797282017225,
          108.8694815284052,
          109.08278516715644,
          137.84085299672853,
          98.70438076315807,
          104.89661195353091,
          101.73505941040548,
          100.93944010621685,
          141.83884939405195,
          110.30458281096327,
          97.00609918328996,
          104.66167420515748,
          95.68486533846539,
          133.8719617114575,
          110.0088100705493,
          103.03952402273042,
          87.14433820536051,
          112.32305548022107,
          97.39025984028638,
          110.16028673766503,
          101.84389414316738,
          120.13183015493757,
          95.39986680153402,
          122.27522153519608,
          108.25974071819311,
          99.63712678463312,
          125.58433213555838,
          124.71907772042883,
          119.24931205346238,
          98.18769451497269,
          110.31285105131698,
          118.99009857554556,
          104.32707105989981,
          109.16796849680836,
          139.7523208174074,
          111.16832042041811,
          116.06876621673118,
          97.26485735139778,
          108.82865301368936,
          102.0903163907036,
          106.35968099545957,
          126.60424769012809,
          109.46705127392292,
          95.60127524431873,
          100.5657353779543,
          114.0277223405759,
          117.32541219283584,
          118.80257903172486,
          107.36910888363815,
          103.49860614736762,
          110.65508017111019,
          74.46660603081457,
          86.10918296801194,
          73.37493889635752,
          106.05899257595135,
          97.66072521933705,
          109.36597492502263,
          104.13094698743824,
          113.45870749869853,
          114.92845839932815,
          122.57072875929926,
          96.38177580858283,
          109.37381730109051,
          80.08496534892303,
          111.62246383728922,
          101.16071466490673,
          95.22529649563265,
          94.45733900433012,
          140.59529055738378,
          100.11864374090116,
          100.88024658244711,
          122.9967935276871,
          98.8779576585811,
          87.94157790193971,
          120.62711181581732,
          108.07231403868343,
          107.59040255717728,
          126.15755313987708,
          100.79903896767618,
          99.32354553031551,
          110.9815780900296,
          103.67793750033393,
          104.88174674488349,
          129.6805476012414,
          82.65601268247885,
          113.23063889842491,
          99.93930007526188,
          113.89576210518452,
          117.0432414029118,
          117.38349664769842,
          117.68255791525685,
          92.86969615487965,
          108.27659203633931,
          128.98962376956743,
          96.06154962229908,
          112.86372980765286,
          125.02333443867974,
          108.53867764403452,
          78.20604526520879,
          77.04617390017262,
          126.83401799086877,
          140.1776302871927,
          114.53016120551469,
          102.65507539637146,
          102.29676357850765,
          93.891184101144,
          143.05271834441794,
          105.51757314022424,
          130.19147488514392,
          119.40230721601586,
          109.01283868045569,
          82.34202186950697,
          111.64958814044724,
          140.09841690466496,
          98.63224100744138,
          125.23996760184873,
          86.11260270508984,
          114.38549807229262,
          130.05548216144504,
          106.35119114308375,
          106.5346465043257,
          104.91606076637244,
          114.77924023142917,
          130.95558093712302,
          96.80280426930263,
          111.67730716702354,
          116.47352189711012,
          134.206776457636,
          105.53923143488595,
          134.58443471785142,
          112.01144888247646,
          112.58056049536503,
          89.52474268573548,
          103.68101475889969,
          123.20960222969649,
          87.91150172100755,
          121.36564593771746,
          100.4509248086643,
          109.76242758987684,
          104.18277888595598,
          123.34495123182924,
          127.01235747863848,
          135.97445292585812,
          99.41720232655749,
          90.71284349621848,
          100.42684913670038,
          120.51177193588832,
          123.21710784548323,
          100.20194285016451,
          90.2005114621253,
          97.71931093330127,
          112.44053316793848,
          120.04639986831071,
          101.38879371853082,
          121.15530679688831,
          119.25068929505827,
          124.57800251061877,
          99.3214472406147,
          98.96460822276123,
          95.54804325844142,
          116.8870655483946,
          119.84357309457053,
          121.27255215354285,
          81.91724583099703,
          101.65579908171091,
          114.0824594860766,
          123.97318629159868,
          114.91298496773591,
          121.11220700752644,
          97.9714242835997
         ]
        },
        {
         "boxmean": true,
         "boxpoints": "all",
         "jitter": 0.2,
         "name": "Control group",
         "pointpos": -1.5,
         "type": "box",
         "y": [
          73.35584003137875,
          72.59619570323669,
          105.93123781185527,
          71.40342282208564,
          132.9178465401845,
          88.10057156395942,
          121.28013872100105,
          104.00515388263601,
          115.6849350850162,
          88.8598174081421,
          121.83281488659125,
          93.83654763063926,
          92.4168509515501,
          128.55334252775467,
          88.09838532405132,
          99.37122184033994,
          139.399141059282,
          83.45000899766126,
          77.43436628018182,
          99.09711172350765,
          137.57711636125526,
          97.45124910804579,
          105.5351585034302,
          86.55523492150462,
          76.6648510656996,
          122.27056014944101,
          100.91188443822372,
          62.80319948693061,
          94.47832038417307,
          106.04751862000441,
          70.11612981022478,
          106.10438036352042,
          113.66946786777328,
          103.99881620572326,
          91.98975081737082,
          122.94628053844133,
          77.57478572088951,
          110.05916991766661,
          95.23976953915088,
          117.74740263538318,
          67.20991271052648,
          70.56297204377378,
          95.19511912401538,
          122.52461326308276,
          95.02786866912321,
          118.67205645194423,
          112.35448791259036,
          126.445975289519,
          105.73160084146457,
          108.2044852878328,
          131.10974627440203,
          130.64206579566752,
          78.51150562723646,
          109.41044995974389,
          108.29114325712193,
          138.18933670049194,
          85.54301711452678,
          90.02190602713007,
          120.2961828073343,
          105.13240870608021,
          108.83400602097066,
          105.58033106446806,
          67.21554460329978,
          73.27650499511427,
          120.1649931003032,
          109.76045456947662,
          106.7566579833674,
          89.9934560035641,
          114.60206727054543,
          89.82574184956908,
          98.00717960431516,
          105.54269750664906,
          92.85269776025733,
          105.94958896055338,
          109.53074773302656,
          100.42949138536622,
          92.21348989510591,
          124.39596321567956,
          83.23115852652602,
          61.4216087542378,
          106.07553376263408,
          100.61324922626115,
          92.87265343109375,
          118.89410684233727,
          101.61146767358944,
          54.38284045245319,
          63.060274465686426,
          105.47380194712785,
          110.65367572271172,
          89.15694874645246,
          97.70090042983732,
          96.65430849627482,
          98.49587115822342,
          111.30717846967329,
          105.43989293280025,
          127.16320134724612,
          111.85938760613948,
          100.12248044543772,
          141.8302094094312,
          95.83437530510426,
          136.42791968328584,
          76.88185855223605,
          105.14529286183352,
          141.60024432430734,
          117.95708307150761,
          115.13185809189685,
          137.6131774131551,
          149.5801054147843,
          97.66879135668563,
          106.35821172379664,
          99.28675779734887,
          109.99942472170237,
          96.9142406891039,
          85.06796340579064,
          88.79202352473447,
          90.7917179432885,
          87.94882723965915,
          159.20724123481534,
          105.61901959018603,
          86.88538490097875,
          103.15940590049013,
          76.77188833073703,
          99.41425449385343,
          122.177008571981,
          124.78838178110146,
          100.60909187950735,
          110.77978775161507,
          136.32666827865685,
          153.89119588513353,
          79.26163653031848,
          128.57010123450794,
          97.7940411489036,
          142.44839052019915,
          96.37052520341636,
          133.03684397468788,
          129.81689950660956,
          126.38222300415848,
          83.19848572798192,
          106.02955721391062,
          87.18820685545577,
          124.99183829990645,
          120.57437532978463,
          80.19945885834073,
          89.46981947848911,
          86.86524844923525,
          113.64653301253777,
          96.64805249659523,
          104.49152572789086,
          90.24597894880462,
          118.01808919066391,
          114.16683241379857,
          116.35923807818426,
          82.78694339162664,
          96.31511006697912,
          121.70654279137878,
          66.82953831558345,
          113.94947447432953,
          93.86598034863259,
          110.91235510668943,
          65.2091355757742,
          122.590670097812,
          110.98137475670903,
          102.41936268302004,
          105.76308358459501,
          118.70896154996052,
          111.95656773622363,
          88.3175339571006,
          122.70149292966775,
          83.63804633407437,
          105.43055359119764,
          136.43321994330498,
          122.67911148281216,
          101.63809484490854,
          90.20157627440634,
          132.87526352643582,
          106.224330407355,
          103.72313833155235,
          86.35796279765032,
          130.84236447405289,
          153.36281158367834,
          111.89715811476549,
          79.90652339143494,
          152.77827869118838,
          118.3724861777294,
          109.65595549516122,
          95.72991318193948,
          101.28067258373102,
          100.28338719618745,
          100.28739741407843,
          134.83066565336983,
          85.076551864373,
          76.21937159096987,
          91.59363777246237,
          116.0466913972449,
          105.05396092807592,
          82.29320262306578,
          106.2104268323159,
          62.59116733670788,
          61.154128470286835,
          102.76797524601668,
          95.42652901600192,
          96.62149275544346,
          69.34448612849066,
          145.4198845070132,
          118.04756173516819,
          87.84220043474625,
          142.49171251547068,
          136.858925736884,
          150.91927610808165,
          80.79736047677324,
          134.1602131534798,
          101.7860267360141,
          109.02186259253389,
          112.72353504228052,
          112.63659005384825,
          91.96161765691151,
          75.24678784151297,
          135.3343665382391,
          100.41762787798021,
          108.27840810740129,
          134.93058722852072,
          93.01499035301185,
          89.79661377255582,
          103.59485859678553,
          102.11474508916291,
          108.86195775321374,
          104.92668333377419,
          120.29410968809157,
          84.42897719781581,
          96.50806512629093,
          120.25841361458421,
          115.3024076150804,
          156.55800244834333,
          83.72901069608956,
          108.6742323786768,
          98.99545796018592,
          87.93662128641755,
          127.40876193104695,
          107.40623567030265,
          129.05175929081793,
          96.80182192646632,
          113.68396850683364,
          116.94741836517912,
          72.77196664210635,
          96.88500190305483,
          112.70172723255224,
          64.60695706675642,
          86.75406247716222,
          78.6156908485435,
          106.011415039911,
          155.51058425024394,
          116.5614524448961,
          82.46783696245248,
          101.49945937668024,
          103.21027825467738,
          115.03930636729166,
          112.15573918006794,
          87.4664567864969,
          74.59875600298113,
          115.89621777563501,
          122.85117724438064,
          92.57013759050854,
          103.42481480925841,
          101.8483815244196,
          108.7974524426228,
          121.38203882209275,
          91.52690168231219,
          128.63636968149567,
          74.7756238117532,
          76.24303851365552,
          139.14827505577875,
          92.78046026095474,
          91.1674306550581,
          94.0174648495487,
          119.13201880078918,
          87.14310672669305,
          129.18271616974624,
          115.79570953040562,
          95.51019291824092,
          112.63729687650063,
          100.77993304375285,
          97.84325934212652,
          124.20211642670917,
          143.59750828073828,
          102.65433865835253,
          84.12145722412562,
          151.09729506883644,
          119.80281517397887,
          99.37658395355912,
          126.94755138271609,
          122.50176422952272,
          88.6102009014311,
          117.5959655539159,
          117.76197166963651,
          102.4474246648817,
          116.45382049989462,
          111.82411116636213,
          147.11567452687845,
          69.58256083690549,
          73.64566528037412,
          125.81397905533575,
          97.20863588642825,
          154.57361430218066,
          87.96509181148883,
          108.50182721820951,
          80.17724066548968,
          117.28715136804618,
          167.51270297929395,
          118.08739800540323,
          146.90689055436243,
          125.95422909886878,
          91.78538367822726,
          65.42009025404076,
          135.2051000228171,
          116.4381942432489,
          100.32111917959944,
          77.32280682319589,
          119.78895949738889,
          133.17944052767285,
          147.36666920703584,
          116.60613424535553,
          82.85915571141666,
          101.72468920642967,
          115.13486580460216,
          104.42821400799657,
          94.88743726289387,
          104.97373222199063,
          89.7723511853605,
          95.24370854925348,
          109.42247734537702,
          104.69427747770196,
          73.61972734079498,
          97.63829704126698,
          167.1927070081392,
          92.53585241786719,
          124.55436863015629,
          108.0661358650097,
          85.36749492889491,
          97.79797906272951,
          134.90334266668742,
          108.63417896617442,
          89.64902116326884,
          98.1828477184991,
          112.44818994590372,
          111.11843894883569,
          133.79109197822098,
          110.72033886686025,
          147.0776580325823,
          91.92740536024502,
          120.5670564054652,
          91.34337362017854,
          105.93819813511057,
          90.11799572761203,
          111.21479109190248,
          99.35019672994956,
          136.7453846822023,
          84.72396425207722,
          132.47307316738588,
          118.15955895493649,
          116.11467577089209,
          96.39379812246709,
          106.86640342217045,
          99.20110592460625,
          93.26923503279063,
          107.4753508056864,
          91.91366201553832,
          123.75574312855437,
          121.78481506401832,
          91.65337435437247,
          111.83827375419035,
          85.0472077817511,
          87.128829075733,
          152.2939509869739,
          67.77151971315733,
          92.28057643078158,
          91.15389531584428,
          101.29482845907977,
          67.05158504214776,
          116.61434314930027,
          105.53830338811754,
          119.33015824069282,
          117.31132646284496,
          83.19133639539689,
          74.83421480616633,
          127.66758196096809,
          125.45868381097932,
          98.57294460087745,
          94.23082569630273,
          103.32354086477845,
          97.05055878467529,
          98.61418812864648,
          123.97068497334084,
          94.20603920582866,
          99.07327432600354,
          103.56066846619872,
          132.98102647910918,
          119.37611522284445,
          87.72657735895267,
          104.06561172768964,
          89.98330193087487,
          92.29690067680427,
          91.37959685552671,
          74.96828498519604,
          97.62149780963819,
          97.94001293460462,
          107.54768786401391,
          115.3506265882798,
          119.95673680613515,
          88.81244886029134,
          92.3462815714413,
          96.06690340844949,
          91.26159596626194,
          109.18620167700966,
          114.60616440884982,
          107.77034407801189,
          89.1979972451837,
          97.28299296058316,
          116.15332328095859,
          111.86694813030181,
          106.34687739135666,
          92.68389644205837,
          86.78793604864285,
          148.42086138418708,
          103.98890742684455,
          136.04704396360376,
          120.92311581564805,
          94.09661063998634,
          67.58593749414233,
          93.75269164563029,
          69.3281040136861,
          106.41268767337091,
          95.50925778950551,
          110.04611753103767,
          82.78150188441552,
          103.20391088878338,
          88.26901348407253,
          96.711858752552,
          122.06618480903366,
          117.2845322349194,
          100.228664790671,
          83.89424192696687,
          113.66870945488526,
          140.2823893940472,
          128.95292268024082,
          86.0226340595664,
          95.62696617241689,
          79.79617339129538,
          136.60570359850826,
          93.88614712334899,
          117.99630666789842,
          121.75936524598154,
          141.6001822762604,
          110.38612755507717,
          68.0248712088042,
          90.00389993041486,
          99.6453399135892,
          117.6253997974566,
          103.25714144733043,
          103.61501963156232,
          101.64354375466822,
          117.98997378061118,
          117.40870951103567,
          107.88816928043904,
          128.2009104426778,
          83.91255595758818,
          110.29555867392033,
          91.50770080403419,
          131.41745545967257,
          85.80189083316479,
          88.8513892374485,
          98.43554797205186,
          123.34175218371686,
          98.66463309886903,
          123.45626416208806,
          87.14046378482428,
          143.7008787461584,
          123.39722653184049,
          126.32455342483186,
          66.17943289056095,
          76.8394796965569,
          138.45012759360802,
          127.71551220380367,
          111.8864699881905,
          92.05811698857137,
          84.44148256471559,
          67.58431148818741,
          118.22200886832579,
          68.90733864862844,
          128.31071675970725,
          118.27715923109906,
          108.12155063557144,
          113.27227131634118,
          129.22232576198763,
          101.47757337829505,
          123.84875608059667,
          117.66871672249798,
          102.72239400490025,
          114.15993282996553,
          92.688787672224,
          112.70571072805403
         ]
        }
       ],
       "layout": {
        "autosize": true,
        "template": {
         "data": {
          "bar": [
           {
            "error_x": {
             "color": "#2a3f5f"
            },
            "error_y": {
             "color": "#2a3f5f"
            },
            "marker": {
             "line": {
              "color": "#E5ECF6",
              "width": 0.5
             }
            },
            "type": "bar"
           }
          ],
          "barpolar": [
           {
            "marker": {
             "line": {
              "color": "#E5ECF6",
              "width": 0.5
             }
            },
            "type": "barpolar"
           }
          ],
          "carpet": [
           {
            "aaxis": {
             "endlinecolor": "#2a3f5f",
             "gridcolor": "white",
             "linecolor": "white",
             "minorgridcolor": "white",
             "startlinecolor": "#2a3f5f"
            },
            "baxis": {
             "endlinecolor": "#2a3f5f",
             "gridcolor": "white",
             "linecolor": "white",
             "minorgridcolor": "white",
             "startlinecolor": "#2a3f5f"
            },
            "type": "carpet"
           }
          ],
          "choropleth": [
           {
            "colorbar": {
             "outlinewidth": 0,
             "ticks": ""
            },
            "type": "choropleth"
           }
          ],
          "contour": [
           {
            "colorbar": {
             "outlinewidth": 0,
             "ticks": ""
            },
            "colorscale": [
             [
              0,
              "#0d0887"
             ],
             [
              0.1111111111111111,
              "#46039f"
             ],
             [
              0.2222222222222222,
              "#7201a8"
             ],
             [
              0.3333333333333333,
              "#9c179e"
             ],
             [
              0.4444444444444444,
              "#bd3786"
             ],
             [
              0.5555555555555556,
              "#d8576b"
             ],
             [
              0.6666666666666666,
              "#ed7953"
             ],
             [
              0.7777777777777778,
              "#fb9f3a"
             ],
             [
              0.8888888888888888,
              "#fdca26"
             ],
             [
              1,
              "#f0f921"
             ]
            ],
            "type": "contour"
           }
          ],
          "contourcarpet": [
           {
            "colorbar": {
             "outlinewidth": 0,
             "ticks": ""
            },
            "type": "contourcarpet"
           }
          ],
          "heatmap": [
           {
            "colorbar": {
             "outlinewidth": 0,
             "ticks": ""
            },
            "colorscale": [
             [
              0,
              "#0d0887"
             ],
             [
              0.1111111111111111,
              "#46039f"
             ],
             [
              0.2222222222222222,
              "#7201a8"
             ],
             [
              0.3333333333333333,
              "#9c179e"
             ],
             [
              0.4444444444444444,
              "#bd3786"
             ],
             [
              0.5555555555555556,
              "#d8576b"
             ],
             [
              0.6666666666666666,
              "#ed7953"
             ],
             [
              0.7777777777777778,
              "#fb9f3a"
             ],
             [
              0.8888888888888888,
              "#fdca26"
             ],
             [
              1,
              "#f0f921"
             ]
            ],
            "type": "heatmap"
           }
          ],
          "heatmapgl": [
           {
            "colorbar": {
             "outlinewidth": 0,
             "ticks": ""
            },
            "colorscale": [
             [
              0,
              "#0d0887"
             ],
             [
              0.1111111111111111,
              "#46039f"
             ],
             [
              0.2222222222222222,
              "#7201a8"
             ],
             [
              0.3333333333333333,
              "#9c179e"
             ],
             [
              0.4444444444444444,
              "#bd3786"
             ],
             [
              0.5555555555555556,
              "#d8576b"
             ],
             [
              0.6666666666666666,
              "#ed7953"
             ],
             [
              0.7777777777777778,
              "#fb9f3a"
             ],
             [
              0.8888888888888888,
              "#fdca26"
             ],
             [
              1,
              "#f0f921"
             ]
            ],
            "type": "heatmapgl"
           }
          ],
          "histogram": [
           {
            "marker": {
             "colorbar": {
              "outlinewidth": 0,
              "ticks": ""
             }
            },
            "type": "histogram"
           }
          ],
          "histogram2d": [
           {
            "colorbar": {
             "outlinewidth": 0,
             "ticks": ""
            },
            "colorscale": [
             [
              0,
              "#0d0887"
             ],
             [
              0.1111111111111111,
              "#46039f"
             ],
             [
              0.2222222222222222,
              "#7201a8"
             ],
             [
              0.3333333333333333,
              "#9c179e"
             ],
             [
              0.4444444444444444,
              "#bd3786"
             ],
             [
              0.5555555555555556,
              "#d8576b"
             ],
             [
              0.6666666666666666,
              "#ed7953"
             ],
             [
              0.7777777777777778,
              "#fb9f3a"
             ],
             [
              0.8888888888888888,
              "#fdca26"
             ],
             [
              1,
              "#f0f921"
             ]
            ],
            "type": "histogram2d"
           }
          ],
          "histogram2dcontour": [
           {
            "colorbar": {
             "outlinewidth": 0,
             "ticks": ""
            },
            "colorscale": [
             [
              0,
              "#0d0887"
             ],
             [
              0.1111111111111111,
              "#46039f"
             ],
             [
              0.2222222222222222,
              "#7201a8"
             ],
             [
              0.3333333333333333,
              "#9c179e"
             ],
             [
              0.4444444444444444,
              "#bd3786"
             ],
             [
              0.5555555555555556,
              "#d8576b"
             ],
             [
              0.6666666666666666,
              "#ed7953"
             ],
             [
              0.7777777777777778,
              "#fb9f3a"
             ],
             [
              0.8888888888888888,
              "#fdca26"
             ],
             [
              1,
              "#f0f921"
             ]
            ],
            "type": "histogram2dcontour"
           }
          ],
          "mesh3d": [
           {
            "colorbar": {
             "outlinewidth": 0,
             "ticks": ""
            },
            "type": "mesh3d"
           }
          ],
          "parcoords": [
           {
            "line": {
             "colorbar": {
              "outlinewidth": 0,
              "ticks": ""
             }
            },
            "type": "parcoords"
           }
          ],
          "pie": [
           {
            "automargin": true,
            "type": "pie"
           }
          ],
          "scatter": [
           {
            "marker": {
             "colorbar": {
              "outlinewidth": 0,
              "ticks": ""
             }
            },
            "type": "scatter"
           }
          ],
          "scatter3d": [
           {
            "line": {
             "colorbar": {
              "outlinewidth": 0,
              "ticks": ""
             }
            },
            "marker": {
             "colorbar": {
              "outlinewidth": 0,
              "ticks": ""
             }
            },
            "type": "scatter3d"
           }
          ],
          "scattercarpet": [
           {
            "marker": {
             "colorbar": {
              "outlinewidth": 0,
              "ticks": ""
             }
            },
            "type": "scattercarpet"
           }
          ],
          "scattergeo": [
           {
            "marker": {
             "colorbar": {
              "outlinewidth": 0,
              "ticks": ""
             }
            },
            "type": "scattergeo"
           }
          ],
          "scattergl": [
           {
            "marker": {
             "colorbar": {
              "outlinewidth": 0,
              "ticks": ""
             }
            },
            "type": "scattergl"
           }
          ],
          "scattermapbox": [
           {
            "marker": {
             "colorbar": {
              "outlinewidth": 0,
              "ticks": ""
             }
            },
            "type": "scattermapbox"
           }
          ],
          "scatterpolar": [
           {
            "marker": {
             "colorbar": {
              "outlinewidth": 0,
              "ticks": ""
             }
            },
            "type": "scatterpolar"
           }
          ],
          "scatterpolargl": [
           {
            "marker": {
             "colorbar": {
              "outlinewidth": 0,
              "ticks": ""
             }
            },
            "type": "scatterpolargl"
           }
          ],
          "scatterternary": [
           {
            "marker": {
             "colorbar": {
              "outlinewidth": 0,
              "ticks": ""
             }
            },
            "type": "scatterternary"
           }
          ],
          "surface": [
           {
            "colorbar": {
             "outlinewidth": 0,
             "ticks": ""
            },
            "colorscale": [
             [
              0,
              "#0d0887"
             ],
             [
              0.1111111111111111,
              "#46039f"
             ],
             [
              0.2222222222222222,
              "#7201a8"
             ],
             [
              0.3333333333333333,
              "#9c179e"
             ],
             [
              0.4444444444444444,
              "#bd3786"
             ],
             [
              0.5555555555555556,
              "#d8576b"
             ],
             [
              0.6666666666666666,
              "#ed7953"
             ],
             [
              0.7777777777777778,
              "#fb9f3a"
             ],
             [
              0.8888888888888888,
              "#fdca26"
             ],
             [
              1,
              "#f0f921"
             ]
            ],
            "type": "surface"
           }
          ],
          "table": [
           {
            "cells": {
             "fill": {
              "color": "#EBF0F8"
             },
             "line": {
              "color": "white"
             }
            },
            "header": {
             "fill": {
              "color": "#C8D4E3"
             },
             "line": {
              "color": "white"
             }
            },
            "type": "table"
           }
          ]
         },
         "layout": {
          "annotationdefaults": {
           "arrowcolor": "#2a3f5f",
           "arrowhead": 0,
           "arrowwidth": 1
          },
          "coloraxis": {
           "colorbar": {
            "outlinewidth": 0,
            "ticks": ""
           }
          },
          "colorscale": {
           "diverging": [
            [
             0,
             "#8e0152"
            ],
            [
             0.1,
             "#c51b7d"
            ],
            [
             0.2,
             "#de77ae"
            ],
            [
             0.3,
             "#f1b6da"
            ],
            [
             0.4,
             "#fde0ef"
            ],
            [
             0.5,
             "#f7f7f7"
            ],
            [
             0.6,
             "#e6f5d0"
            ],
            [
             0.7,
             "#b8e186"
            ],
            [
             0.8,
             "#7fbc41"
            ],
            [
             0.9,
             "#4d9221"
            ],
            [
             1,
             "#276419"
            ]
           ],
           "sequential": [
            [
             0,
             "#0d0887"
            ],
            [
             0.1111111111111111,
             "#46039f"
            ],
            [
             0.2222222222222222,
             "#7201a8"
            ],
            [
             0.3333333333333333,
             "#9c179e"
            ],
            [
             0.4444444444444444,
             "#bd3786"
            ],
            [
             0.5555555555555556,
             "#d8576b"
            ],
            [
             0.6666666666666666,
             "#ed7953"
            ],
            [
             0.7777777777777778,
             "#fb9f3a"
            ],
            [
             0.8888888888888888,
             "#fdca26"
            ],
            [
             1,
             "#f0f921"
            ]
           ],
           "sequentialminus": [
            [
             0,
             "#0d0887"
            ],
            [
             0.1111111111111111,
             "#46039f"
            ],
            [
             0.2222222222222222,
             "#7201a8"
            ],
            [
             0.3333333333333333,
             "#9c179e"
            ],
            [
             0.4444444444444444,
             "#bd3786"
            ],
            [
             0.5555555555555556,
             "#d8576b"
            ],
            [
             0.6666666666666666,
             "#ed7953"
            ],
            [
             0.7777777777777778,
             "#fb9f3a"
            ],
            [
             0.8888888888888888,
             "#fdca26"
            ],
            [
             1,
             "#f0f921"
            ]
           ]
          },
          "colorway": [
           "#636efa",
           "#EF553B",
           "#00cc96",
           "#ab63fa",
           "#FFA15A",
           "#19d3f3",
           "#FF6692",
           "#B6E880",
           "#FF97FF",
           "#FECB52"
          ],
          "font": {
           "color": "#2a3f5f"
          },
          "geo": {
           "bgcolor": "white",
           "lakecolor": "white",
           "landcolor": "#E5ECF6",
           "showlakes": true,
           "showland": true,
           "subunitcolor": "white"
          },
          "hoverlabel": {
           "align": "left"
          },
          "hovermode": "closest",
          "mapbox": {
           "style": "light"
          },
          "paper_bgcolor": "white",
          "plot_bgcolor": "#E5ECF6",
          "polar": {
           "angularaxis": {
            "gridcolor": "white",
            "linecolor": "white",
            "ticks": ""
           },
           "bgcolor": "#E5ECF6",
           "radialaxis": {
            "gridcolor": "white",
            "linecolor": "white",
            "ticks": ""
           }
          },
          "scene": {
           "xaxis": {
            "backgroundcolor": "#E5ECF6",
            "gridcolor": "white",
            "gridwidth": 2,
            "linecolor": "white",
            "showbackground": true,
            "ticks": "",
            "zerolinecolor": "white"
           },
           "yaxis": {
            "backgroundcolor": "#E5ECF6",
            "gridcolor": "white",
            "gridwidth": 2,
            "linecolor": "white",
            "showbackground": true,
            "ticks": "",
            "zerolinecolor": "white"
           },
           "zaxis": {
            "backgroundcolor": "#E5ECF6",
            "gridcolor": "white",
            "gridwidth": 2,
            "linecolor": "white",
            "showbackground": true,
            "ticks": "",
            "zerolinecolor": "white"
           }
          },
          "shapedefaults": {
           "line": {
            "color": "#2a3f5f"
           }
          },
          "ternary": {
           "aaxis": {
            "gridcolor": "white",
            "linecolor": "white",
            "ticks": ""
           },
           "baxis": {
            "gridcolor": "white",
            "linecolor": "white",
            "ticks": ""
           },
           "bgcolor": "#E5ECF6",
           "caxis": {
            "gridcolor": "white",
            "linecolor": "white",
            "ticks": ""
           }
          },
          "title": {
           "x": 0.05
          },
          "xaxis": {
           "automargin": true,
           "gridcolor": "white",
           "linecolor": "white",
           "ticks": "",
           "title": {
            "standoff": 15
           },
           "zerolinecolor": "white",
           "zerolinewidth": 2
          },
          "yaxis": {
           "automargin": true,
           "gridcolor": "white",
           "linecolor": "white",
           "ticks": "",
           "title": {
            "standoff": 15
           },
           "zerolinecolor": "white",
           "zerolinewidth": 2
          }
         }
        },
        "xaxis": {
         "autorange": true,
         "range": [
          -0.5069605568445475,
          2.5
         ],
         "type": "category"
        },
        "yaxis": {
         "autorange": true,
         "range": [
          48.09784808985093,
          173.7976953418962
         ],
         "type": "linear"
        }
       }
      },
      "image/png": "[encoded data removed]"
     },
     "metadata": {},
     "output_type": "display_data"
    }
   ],
   "source": [
    "trace = []\n",
    "vals = [group_a, group_b, control_group]\n",
    "groups = [\"Group A\", \"Group B\", \"Control group\"]\n",
    "\n",
    "for i in range(0, len(groups)):\n",
    "        trace.append(go.Box(y = vals[i],\n",
    "                           name = groups[i],\n",
    "                           boxpoints = \"all\",\n",
    "                           jitter = 0.2,\n",
    "                           pointpos = -1.5,\n",
    "                           boxmean = True))\n",
    "        \n",
    "data = trace\n",
    "\n",
    "# iplot({\"data\":data}) # Old way!!\n",
    "pio.show({\"data\":data})"
   ]
  },
  {
   "cell_type": "markdown",
   "metadata": {},
   "source": [
    "## Mean and standard deviation"
   ]
  },
  {
   "cell_type": "code",
   "execution_count": 12,
   "metadata": {},
   "outputs": [
    {
     "data": {
      "application/vnd.plotly.v1+json": {
       "config": {
        "plotlyServerURL": "https://plot.ly"
       },
       "data": [
        {
         "boxmean": "sd",
         "boxpoints": "all",
         "jitter": 0.2,
         "name": "Group A",
         "pointpos": -1.5,
         "type": "box",
         "y": [
          104.71435163732492,
          88.09024305293535,
          114.32706968426098,
          96.87348103908288,
          92.79411266634989,
          108.87162940307738,
          108.59588413717417,
          93.63476495582651,
          100.1569637211443,
          77.57315045814595,
          111.50035724719818,
          109.91946022342678,
          109.5332412811243,
          79.7874517980503,
          96.65922634191904,
          100.02118364683487,
          104.05453411570191,
          102.89091940980035,
          113.21158192129386,
          84.5309444677076,
          97.97353675370817,
          93.44030655861066,
          101.93421376470359,
          105.53438910956741,
          113.18151554180136,
          95.306947152941,
          106.75554085122381,
          81.82972773409803,
          98.16891459821001,
          110.58969187571151,
          96.02159771800008,
          103.37437653613972,
          110.47578572892722,
          110.45938255627665,
          108.63717291684839,
          98.77908425152326,
          101.24712953768216,
          96.77205194391705,
          108.41674712996142,
          123.90960515463033,
          100.76199587837236,
          94.33554069535043,
          100.36141936684072,
          79.25022399309971,
          102.47792199748547,
          91.02843215560301,
          98.63205166738652,
          100.1828919134922,
          107.55413982398136,
          102.15268580969443,
          108.4100879493139,
          85.54189922955693,
          85.98026718499156,
          98.99081800051086,
          94.51757550813144,
          98.55380491630616,
          103.54020332199238,
          99.64486974721859,
          105.65738306062595,
          115.45658804625558,
          90.25763666232685,
          99.29655122895898,
          103.07968855216035,
          97.9150123689412,
          110.338007325555,
          75.99546366187704,
          120.306036208388,
          88.57368710977237,
          102.11883386777701,
          107.04720624317109,
          92.14564788236802,
          104.62059737162049,
          107.04228225462174,
          105.23507967893809,
          90.73745686469775,
          120.07842950778,
          102.26962541870896,
          88.47340890749048,
          106.3197944580913,
          100.39512686693367,
          104.64392325050896,
          64.36483339375265,
          113.21105615470206,
          101.52630552204535,
          101.64529542932398,
          95.69904309123513,
          107.67368735752412,
          109.84919841909897,
          102.70835848826803,
          113.91986193446408,
          100.79842313008629,
          96.00035419303478,
          89.72149441318095,
          94.15281788739212,
          108.16593926547841,
          99.18052948173334,
          96.55233985745356,
          105.28288145297394,
          89.31011216519867,
          94.88118690873185,
          102.91205359743063,
          105.66533696353572,
          105.03591759111202,
          102.85295684781858,
          104.8428811274975,
          113.63481512426145,
          92.18894716374608,
          95.31982333662515,
          112.24574355126174,
          87.18891724855958,
          108.75475504274324,
          82.89284675970471,
          95.49234896863726,
          107.49163805919065,
          97.96067133898748,
          98.17824588334265,
          106.80656004381457,
          81.81501009608385,
          100.47071635325712,
          103.94844209327205,
          97.51567945619153,
          93.82293352002984,
          93.17116003550666,
          104.36257604340916,
          82.96987225886762,
          103.93710599138666,
          95.20675996424502,
          97.0098370703392,
          106.94103287678765,
          106.78629673709857,
          102.39555995003897,
          101.5122662929445,
          108.16127233360041,
          118.935344675962,
          106.39632763193703,
          90.37971168094809,
          79.14734357879891,
          119.30246767465576,
          82.64651125529608,
          112.10383704904514,
          107.97435419427873,
          96.20189215952621,
          107.025622240016,
          91.49653728344884,
          111.76812450104929,
          94.75663897367544,
          107.00907730915604,
          109.84188070722415,
          98.7827159133318,
          123.65768628840038,
          104.96142926247595,
          107.96594866664952,
          95.25979109874315,
          99.4330428350907,
          113.57797258107058,
          91.95166275833296,
          78.7637975090707,
          96.66497559566753,
          91.13280647514623,
          103.34197930899009,
          105.3678382490275,
          92.56169632063799,
          96.7979611775912,
          90.83801138733459,
          91.4033170001826,
          102.25985486733755,
          106.28775826538295,
          101.86494348773074,
          109.52478345109122,
          109.88137582593309,
          99.27391686037325,
          94.49397076436581,
          90.61847385906896,
          87.60928437405207,
          101.39683274031295,
          97.76981018117525,
          121.23691888593552,
          101.22273434258828,
          85.90568260077231,
          114.22985952772243,
          78.52144962356391,
          86.52467486542245,
          103.63564556806648,
          99.85247888195406,
          112.7239507854621,
          85.50433391136613,
          88.0447625833303,
          94.08137026852751,
          95.8549515646781,
          85.74205266561978,
          102.09394787535923,
          94.07113996161074,
          85.26883586534353,
          91.03419384698128,
          111.04351569860313,
          95.68450484483955,
          98.38863091755941,
          108.89157494072873,
          102.88376847715266,
          89.48461062429962,
          96.80438600159769,
          93.80006912278797,
          101.56998376446688,
          94.2854464892021,
          110.57633183204614,
          92.08511190522114,
          94.75372654071529,
          100.71878039370368,
          119.10759427277182,
          107.87964683137615,
          105.13082144466992,
          94.53583719726406,
          110.43944655495324,
          121.0778515279337,
          114.59927481585294,
          110.1540545781252,
          107.49184600924198,
          93.24478521563312,
          104.4026639166873,
          106.88971856326943,
          97.23353872723013,
          119.2453332001529,
          104.11204020707224,
          108.90764956173118,
          102.26363227251707,
          79.21382106297824,
          96.12113768032825,
          99.12893030036001,
          111.26385822137273,
          102.47111716157737,
          101.21171805331541,
          102.98983935542047,
          98.42900863153348,
          92.59530977219282,
          87.52347076948767,
          102.49455215152449,
          105.81073320620607,
          127.63844079849567,
          103.99325436979576,
          106.68488169205806,
          97.24226271343694,
          105.00482900154373,
          108.63064860590625,
          89.48372140534788,
          86.07945922506913,
          111.53922240612225,
          111.81944105999231,
          103.91371448421931,
          91.1895290779843,
          102.9507995978624,
          118.63801062132504,
          82.87726075528744,
          85.92915454256774,
          101.26781186326971,
          100.03759847795496,
          87.31005743926607,
          91.6115707857971,
          105.5392125143972,
          94.95957281918037,
          92.11559815482121,
          115.29400674483931,
          102.0545485392598,
          103.1301312898086,
          108.665207121683,
          102.99070529594377,
          110.76540643846121,
          103.63177347544452,
          118.93679825551843,
          95.14247255717191,
          103.87674455777598,
          100.23557610392554,
          93.3977049795572,
          96.81315070421985,
          92.77337806325627,
          101.77386719384599,
          109.83512729343164,
          100.23504585885395,
          105.53776977863366,
          103.53769293996639,
          97.24406366232317,
          95.09516408521318,
          96.2556339980722,
          76.02496023861184,
          115.41029983277939,
          100.63084538957305,
          97.15559316073707,
          87.3439946239879,
          117.8797963245575,
          96.45491291930625,
          98.95238876932896,
          103.86253689189053,
          108.22775373765373,
          93.16210177568992,
          110.57203331214129,
          100.31879973569032,
          113.43182457528941,
          99.49460310451228,
          96.35990043692891,
          84.4665766056894,
          96.80702198179839,
          105.27046450954964,
          107.11112399364823,
          97.82454519509524,
          126.37791210703864,
          82.57862369405035,
          99.05565192258555,
          114.31183752254563,
          105.92758446550668,
          101.70296895326288,
          82.48294052207976,
          102.88581322343208,
          94.5742048309322,
          101.71602381985996,
          109.82817829243105,
          99.74651097937232,
          97.12447550715892,
          109.24442867343366,
          99.38753700133685,
          92.68966657414794,
          89.77226295304857,
          109.95992970245753,
          109.55557932627455,
          107.13840771195044,
          101.33370962194122,
          91.92961691527186,
          96.57989218120785,
          119.08779658091186,
          101.55923261453127,
          107.59652532092963,
          95.76993771580752,
          101.81672745323682,
          102.74492570746403,
          100.67912357380757,
          99.6301718512408,
          98.29198969302378,
          102.66973231539868,
          113.82997248852925,
          99.77539126488574,
          101.31395367225915,
          104.34437185102232,
          102.64534068316999,
          105.65658344273825,
          105.85084279501724,
          98.25701847247913,
          89.2863132854491,
          99.51539497447617,
          91.54709610433757,
          104.1510055838158,
          104.25530591397859,
          90.19275642499414,
          95.72173890027979,
          114.98569955138537,
          96.39843429130973,
          95.41759610662507,
          86.62031598049029,
          99.58613460385128,
          108.21047956107915,
          120.97800780771692,
          112.82933246874524,
          102.70337925739372,
          110.03140362044931,
          110.78673551320406,
          103.40752685129765,
          98.01925040376432,
          124.81458422875653,
          113.85254876189207,
          88.45399034610331,
          87.31930949622918,
          106.07862186209479,
          89.19903516842409,
          93.88718325204238,
          101.02035112292332,
          85.63426063227881,
          102.10717052505655,
          91.03095829302488,
          82.75606921008168,
          117.92339196646942,
          86.87287293407769,
          105.55877426385625,
          93.1811869450887,
          115.72742745755804,
          98.95348425152234,
          118.50397801609901,
          96.666495732506,
          101.93464233819873,
          95.03255062135091,
          110.32723215735861,
          82.60196202477441,
          92.44137824377091,
          91.18888267352065,
          103.93892262912675,
          90.49974465203717,
          103.32506622162249,
          105.28944408856047,
          88.79479006007276,
          100.48264206925657,
          100.61988450521777,
          89.72484326782133,
          97.61664634532674,
          119.32178169581346,
          97.73367706323164,
          90.76169279823077,
          103.5583899747282,
          87.29936521613712,
          98.04527587303241,
          95.36580600782537,
          109.8941484728585,
          113.88647381631716,
          110.87713736524141,
          104.38801263034391,
          90.38397759118764,
          112.45609937147846,
          105.02925517670631,
          93.6860122162148,
          92.9574795291174,
          97.59517463241657,
          105.85599310929858,
          103.52800560108406,
          81.84442307567915,
          90.89876154304858,
          92.5147204666094,
          98.91875073519736,
          102.74778837052168,
          102.37349764509425,
          97.40156305636611,
          96.875578228436,
          104.48509742512407,
          99.40468035295599,
          95.29985186602214,
          103.49566771627666,
          89.72531152826387,
          96.93361516130389,
          114.06176139494268,
          87.50303227205647,
          84.39851111114767,
          115.57397650649023,
          94.06643605023513,
          98.297114876705,
          116.72626808454706,
          94.59200192350124,
          93.15871671233415,
          105.99962085981993,
          97.82800874855361,
          103.31526518352153,
          96.16635419849172,
          92.18183911926889,
          102.66237406827837,
          102.79428024532737,
          87.8037430482623,
          92.76051083244495,
          82.65221692456066,
          102.71660784374025,
          100.9911201694909,
          96.36910093562742,
          94.1177327171148,
          100.25941713524132,
          94.27697649254841,
          111.05586962797162,
          87.91984407170352,
          86.60298960025085,
          120.75185406731782,
          85.1059029866899,
          88.49046934374036,
          104.19059824673965,
          104.13405276424496,
          107.17576932588283,
          102.61724839679904,
          97.57228728899638,
          94.98731867248333,
          93.01871021031145,
          113.84580160839074,
          97.13574586064244,
          105.00069585028226,
          119.51103236540061,
          97.21632538406992,
          100.3678625863071,
          104.45852506261001,
          85.89649242319331,
          104.50001300695475,
          105.15479530793898,
          88.45916059617397,
          86.19826604928161,
          95.04166994786837,
          95.86720927581129,
          82.80683332072451,
          99.70439097246916,
          92.33960116477171,
          100.99882076502627,
          92.86976043370255,
          77.73882379022413,
          107.25714153121955,
          109.16976283069235,
          94.36109759588744,
          84.7782044317683,
          99.85721211372437,
          97.53279193181116,
          98.34670523482721,
          101.19113982598341,
          79.25019513829952,
          89.97244782983083
         ]
        },
        {
         "boxmean": "sd",
         "boxpoints": "all",
         "jitter": 0.2,
         "name": "Group B",
         "pointpos": -1.5,
         "type": "box",
         "y": [
          117.85319027095699,
          122.32275963498384,
          107.76887226000706,
          109.31944382061062,
          99.43260611705358,
          135.9547327925951,
          113.4339088325608,
          126.39111585936259,
          104.6964271000786,
          109.54011702594823,
          106.99742224068986,
          102.78034640964088,
          135.67138995517365,
          131.5308062937893,
          92.48719500138492,
          110.61265137149003,
          115.43027293505668,
          118.58888286564869,
          126.56690355099724,
          103.61491960219111,
          121.33533264273035,
          110.15422185732992,
          113.36878656147344,
          92.97937660147565,
          95.72718588152665,
          108.09304315886351,
          110.43416747601685,
          141.56116049943958,
          133.51271215195575,
          100.6365555081369,
          103.99033696910035,
          92.94407692686313,
          96.4526144450468,
          93.54082906371453,
          108.9303618555335,
          90.2099137002372,
          101.59860581184392,
          112.47431835550046,
          100.52621318113322,
          96.99395330655847,
          94.96155993934003,
          128.1102230486851,
          135.67980519478988,
          100.63115781047432,
          106.81781294021062,
          92.09653726588482,
          119.86378838649767,
          113.00119822328591,
          126.36889788832627,
          102.66466912589436,
          130.52330393338937,
          123.37437676290213,
          122.56349318675205,
          117.7121707008387,
          109.24925461385249,
          121.1592926924734,
          84.1392469469281,
          111.34852359909092,
          114.841093428278,
          104.34275861582665,
          109.99668652547601,
          125.75170540668832,
          107.46951331673728,
          121.96814744631745,
          118.28786469736997,
          92.70360107293729,
          134.62328283543206,
          88.41533248288636,
          140.4160927072628,
          89.52024018239504,
          111.08223293588428,
          119.19727517636966,
          132.33749639441368,
          113.31944862551931,
          87.03661837420078,
          122.02832321324726,
          103.63299930704991,
          126.78282458203796,
          133.5432209687427,
          131.41597656601454,
          89.42243190324959,
          106.00373161036705,
          121.68821847821363,
          108.45778557972478,
          101.20303067362418,
          113.60378981892575,
          95.02916511842692,
          112.86754869234807,
          95.70795467628636,
          132.0649486925751,
          120.78357382314347,
          107.50160634084637,
          121.4691694503233,
          92.15834793728209,
          101.97714104419603,
          109.67603230030025,
          93.42212612780321,
          94.16080492212596,
          125.32033488485084,
          135.6448414246981,
          110.44342927906426,
          111.85763024657356,
          114.34145085054463,
          105.4776163408018,
          116.21652516919717,
          124.24786851706673,
          117.82772813164284,
          80.46105688922242,
          117.54215041636677,
          104.6836634099936,
          103.29514277282908,
          93.24532421096345,
          98.17600426128355,
          125.83628245948795,
          90.4318818365452,
          118.09602856014193,
          115.20486875560054,
          123.11289339995824,
          86.37230956068865,
          107.60024515737574,
          100.35000145749555,
          99.26943670053058,
          135.49188395932444,
          129.2425583703005,
          103.21163500522688,
          115.90700190673742,
          116.38610915878694,
          108.04928851712607,
          104.09400250727657,
          100.3841033883777,
          112.57946382073179,
          97.39776471059982,
          122.97497462787435,
          106.92708001877807,
          108.39389998501193,
          106.36839972402922,
          96.46275837594276,
          121.96806329479446,
          105.66356318514278,
          120.15466418998633,
          104.85223949104194,
          117.30815201911767,
          121.48498037244217,
          76.99153346383821,
          71.05906404831237,
          117.1351225717477,
          86.0767153215165,
          93.3488490250094,
          95.02390256722362,
          75.86290096180007,
          133.29210811799805,
          92.76051846988526,
          112.8279594289646,
          124.83445674630472,
          86.20795545060568,
          102.91428686684354,
          107.16730478186386,
          113.16690620492606,
          134.17583438683846,
          118.50095662719845,
          100.38234119801922,
          133.0816091174001,
          114.6449597884243,
          103.26726979471958,
          136.53650855468842,
          114.02300731945657,
          88.0666240711215,
          137.76215253458304,
          135.51154258506443,
          115.3008658392247,
          115.04733531653288,
          125.85658151663418,
          127.98018083701501,
          71.08018595507176,
          99.27881938765113,
          122.06519062458482,
          127.87483018807785,
          108.08951923825497,
          93.8753710101696,
          131.72403687775966,
          105.82468580426543,
          94.4477200408859,
          113.02177199573381,
          117.52633698486093,
          134.20002383017192,
          81.53434057624247,
          129.48623860664418,
          118.29776638958454,
          106.99456555990008,
          118.18504992639575,
          113.93429928459754,
          113.28605314520578,
          123.98529398402722,
          136.14578641821274,
          108.12944480345226,
          124.31047500702722,
          120.68076423837336,
          101.30995014176462,
          98.57270816725912,
          134.92253193115647,
          148.21537553686574,
          109.4163151395633,
          104.65386189142622,
          82.06147019848706,
          149.77998677201316,
          107.95654444465498,
          111.55624009956449,
          111.73148338526984,
          113.88005696684058,
          132.31614997942185,
          131.81515214585949,
          120.56462447252147,
          131.99527063785007,
          115.30433273805144,
          93.71714804648087,
          115.44814641504453,
          82.80084301392009,
          107.03133860426249,
          116.49311888073917,
          101.89151318438465,
          114.43445982471343,
          141.19766355250553,
          82.36350620058431,
          102.33250975069143,
          101.2859730740789,
          125.94104699997959,
          110.2708266448442,
          110.34197599534058,
          84.80312772627596,
          122.18634501023757,
          100.61166940300848,
          91.2459377229691,
          119.22703187530927,
          108.17908083479307,
          90.78657092993666,
          114.8691470888788,
          120.0585408592618,
          112.23741984715063,
          114.90595705824346,
          104.70557464787268,
          96.41708539334493,
          135.14278138364693,
          120.21494011590156,
          99.44423584109889,
          111.53119623064836,
          127.9258420952672,
          105.83060921327586,
          109.2175206255524,
          115.3052540187472,
          103.87533856834169,
          82.84355498307218,
          96.45037906579839,
          125.8106763678397,
          95.28684684906526,
          115.28118337106568,
          119.98972760465905,
          125.98252252932232,
          106.57349580345947,
          115.46725856368741,
          87.2773001417685,
          108.87108069144162,
          105.54412877363936,
          99.08878427340107,
          106.31186989421631,
          108.08076586820552,
          104.46034070135808,
          70.65493573283703,
          141.73776093386851,
          120.28342378218716,
          107.63834022932375,
          130.7193165111951,
          111.02639838112823,
          114.6880443872508,
          116.81379777725543,
          98.17292187047224,
          109.0123949853326,
          88.72280230835463,
          107.90369989683619,
          101.66967715680352,
          102.47123331721978,
          120.39677782255649,
          106.31959254724752,
          90.95852211371218,
          106.06514217223894,
          145.06397723292585,
          98.27423843485954,
          111.20149618307376,
          89.90883318852039,
          116.2017644573775,
          113.06677951022982,
          117.1767994179455,
          110.44371456462855,
          107.26337023401592,
          110.26200012702215,
          140.81434295004217,
          72.02175029914955,
          116.3572202605738,
          95.66474726614047,
          107.99488684517331,
          93.83895012935808,
          128.74853766036736,
          118.56723130194655,
          114.45572643736183,
          123.0779782625244,
          107.54433205138655,
          120.34284798181902,
          139.7688485478483,
          108.22577172358982,
          124.32694878384909,
          92.29170670703344,
          132.05710908944658,
          109.67663174565459,
          120.66292206604217,
          97.82247421887914,
          76.23180402065233,
          93.10849721012241,
          105.38199881124658,
          95.57173196540266,
          120.06238938978828,
          110.95075139887345,
          100.1480617930365,
          105.6745522632092,
          106.70309756383226,
          113.00371941210388,
          97.31749638454002,
          149.64384027058568,
          104.99382844004649,
          107.81737459741238,
          123.40053061522536,
          129.32832107680971,
          114.96797282017225,
          108.8694815284052,
          109.08278516715644,
          137.84085299672853,
          98.70438076315807,
          104.89661195353091,
          101.73505941040548,
          100.93944010621685,
          141.83884939405195,
          110.30458281096327,
          97.00609918328996,
          104.66167420515748,
          95.68486533846539,
          133.8719617114575,
          110.0088100705493,
          103.03952402273042,
          87.14433820536051,
          112.32305548022107,
          97.39025984028638,
          110.16028673766503,
          101.84389414316738,
          120.13183015493757,
          95.39986680153402,
          122.27522153519608,
          108.25974071819311,
          99.63712678463312,
          125.58433213555838,
          124.71907772042883,
          119.24931205346238,
          98.18769451497269,
          110.31285105131698,
          118.99009857554556,
          104.32707105989981,
          109.16796849680836,
          139.7523208174074,
          111.16832042041811,
          116.06876621673118,
          97.26485735139778,
          108.82865301368936,
          102.0903163907036,
          106.35968099545957,
          126.60424769012809,
          109.46705127392292,
          95.60127524431873,
          100.5657353779543,
          114.0277223405759,
          117.32541219283584,
          118.80257903172486,
          107.36910888363815,
          103.49860614736762,
          110.65508017111019,
          74.46660603081457,
          86.10918296801194,
          73.37493889635752,
          106.05899257595135,
          97.66072521933705,
          109.36597492502263,
          104.13094698743824,
          113.45870749869853,
          114.92845839932815,
          122.57072875929926,
          96.38177580858283,
          109.37381730109051,
          80.08496534892303,
          111.62246383728922,
          101.16071466490673,
          95.22529649563265,
          94.45733900433012,
          140.59529055738378,
          100.11864374090116,
          100.88024658244711,
          122.9967935276871,
          98.8779576585811,
          87.94157790193971,
          120.62711181581732,
          108.07231403868343,
          107.59040255717728,
          126.15755313987708,
          100.79903896767618,
          99.32354553031551,
          110.9815780900296,
          103.67793750033393,
          104.88174674488349,
          129.6805476012414,
          82.65601268247885,
          113.23063889842491,
          99.93930007526188,
          113.89576210518452,
          117.0432414029118,
          117.38349664769842,
          117.68255791525685,
          92.86969615487965,
          108.27659203633931,
          128.98962376956743,
          96.06154962229908,
          112.86372980765286,
          125.02333443867974,
          108.53867764403452,
          78.20604526520879,
          77.04617390017262,
          126.83401799086877,
          140.1776302871927,
          114.53016120551469,
          102.65507539637146,
          102.29676357850765,
          93.891184101144,
          143.05271834441794,
          105.51757314022424,
          130.19147488514392,
          119.40230721601586,
          109.01283868045569,
          82.34202186950697,
          111.64958814044724,
          140.09841690466496,
          98.63224100744138,
          125.23996760184873,
          86.11260270508984,
          114.38549807229262,
          130.05548216144504,
          106.35119114308375,
          106.5346465043257,
          104.91606076637244,
          114.77924023142917,
          130.95558093712302,
          96.80280426930263,
          111.67730716702354,
          116.47352189711012,
          134.206776457636,
          105.53923143488595,
          134.58443471785142,
          112.01144888247646,
          112.58056049536503,
          89.52474268573548,
          103.68101475889969,
          123.20960222969649,
          87.91150172100755,
          121.36564593771746,
          100.4509248086643,
          109.76242758987684,
          104.18277888595598,
          123.34495123182924,
          127.01235747863848,
          135.97445292585812,
          99.41720232655749,
          90.71284349621848,
          100.42684913670038,
          120.51177193588832,
          123.21710784548323,
          100.20194285016451,
          90.2005114621253,
          97.71931093330127,
          112.44053316793848,
          120.04639986831071,
          101.38879371853082,
          121.15530679688831,
          119.25068929505827,
          124.57800251061877,
          99.3214472406147,
          98.96460822276123,
          95.54804325844142,
          116.8870655483946,
          119.84357309457053,
          121.27255215354285,
          81.91724583099703,
          101.65579908171091,
          114.0824594860766,
          123.97318629159868,
          114.91298496773591,
          121.11220700752644,
          97.9714242835997
         ]
        },
        {
         "boxmean": "sd",
         "boxpoints": "all",
         "jitter": 0.2,
         "name": "Control group",
         "pointpos": -1.5,
         "type": "box",
         "y": [
          73.35584003137875,
          72.59619570323669,
          105.93123781185527,
          71.40342282208564,
          132.9178465401845,
          88.10057156395942,
          121.28013872100105,
          104.00515388263601,
          115.6849350850162,
          88.8598174081421,
          121.83281488659125,
          93.83654763063926,
          92.4168509515501,
          128.55334252775467,
          88.09838532405132,
          99.37122184033994,
          139.399141059282,
          83.45000899766126,
          77.43436628018182,
          99.09711172350765,
          137.57711636125526,
          97.45124910804579,
          105.5351585034302,
          86.55523492150462,
          76.6648510656996,
          122.27056014944101,
          100.91188443822372,
          62.80319948693061,
          94.47832038417307,
          106.04751862000441,
          70.11612981022478,
          106.10438036352042,
          113.66946786777328,
          103.99881620572326,
          91.98975081737082,
          122.94628053844133,
          77.57478572088951,
          110.05916991766661,
          95.23976953915088,
          117.74740263538318,
          67.20991271052648,
          70.56297204377378,
          95.19511912401538,
          122.52461326308276,
          95.02786866912321,
          118.67205645194423,
          112.35448791259036,
          126.445975289519,
          105.73160084146457,
          108.2044852878328,
          131.10974627440203,
          130.64206579566752,
          78.51150562723646,
          109.41044995974389,
          108.29114325712193,
          138.18933670049194,
          85.54301711452678,
          90.02190602713007,
          120.2961828073343,
          105.13240870608021,
          108.83400602097066,
          105.58033106446806,
          67.21554460329978,
          73.27650499511427,
          120.1649931003032,
          109.76045456947662,
          106.7566579833674,
          89.9934560035641,
          114.60206727054543,
          89.82574184956908,
          98.00717960431516,
          105.54269750664906,
          92.85269776025733,
          105.94958896055338,
          109.53074773302656,
          100.42949138536622,
          92.21348989510591,
          124.39596321567956,
          83.23115852652602,
          61.4216087542378,
          106.07553376263408,
          100.61324922626115,
          92.87265343109375,
          118.89410684233727,
          101.61146767358944,
          54.38284045245319,
          63.060274465686426,
          105.47380194712785,
          110.65367572271172,
          89.15694874645246,
          97.70090042983732,
          96.65430849627482,
          98.49587115822342,
          111.30717846967329,
          105.43989293280025,
          127.16320134724612,
          111.85938760613948,
          100.12248044543772,
          141.8302094094312,
          95.83437530510426,
          136.42791968328584,
          76.88185855223605,
          105.14529286183352,
          141.60024432430734,
          117.95708307150761,
          115.13185809189685,
          137.6131774131551,
          149.5801054147843,
          97.66879135668563,
          106.35821172379664,
          99.28675779734887,
          109.99942472170237,
          96.9142406891039,
          85.06796340579064,
          88.79202352473447,
          90.7917179432885,
          87.94882723965915,
          159.20724123481534,
          105.61901959018603,
          86.88538490097875,
          103.15940590049013,
          76.77188833073703,
          99.41425449385343,
          122.177008571981,
          124.78838178110146,
          100.60909187950735,
          110.77978775161507,
          136.32666827865685,
          153.89119588513353,
          79.26163653031848,
          128.57010123450794,
          97.7940411489036,
          142.44839052019915,
          96.37052520341636,
          133.03684397468788,
          129.81689950660956,
          126.38222300415848,
          83.19848572798192,
          106.02955721391062,
          87.18820685545577,
          124.99183829990645,
          120.57437532978463,
          80.19945885834073,
          89.46981947848911,
          86.86524844923525,
          113.64653301253777,
          96.64805249659523,
          104.49152572789086,
          90.24597894880462,
          118.01808919066391,
          114.16683241379857,
          116.35923807818426,
          82.78694339162664,
          96.31511006697912,
          121.70654279137878,
          66.82953831558345,
          113.94947447432953,
          93.86598034863259,
          110.91235510668943,
          65.2091355757742,
          122.590670097812,
          110.98137475670903,
          102.41936268302004,
          105.76308358459501,
          118.70896154996052,
          111.95656773622363,
          88.3175339571006,
          122.70149292966775,
          83.63804633407437,
          105.43055359119764,
          136.43321994330498,
          122.67911148281216,
          101.63809484490854,
          90.20157627440634,
          132.87526352643582,
          106.224330407355,
          103.72313833155235,
          86.35796279765032,
          130.84236447405289,
          153.36281158367834,
          111.89715811476549,
          79.90652339143494,
          152.77827869118838,
          118.3724861777294,
          109.65595549516122,
          95.72991318193948,
          101.28067258373102,
          100.28338719618745,
          100.28739741407843,
          134.83066565336983,
          85.076551864373,
          76.21937159096987,
          91.59363777246237,
          116.0466913972449,
          105.05396092807592,
          82.29320262306578,
          106.2104268323159,
          62.59116733670788,
          61.154128470286835,
          102.76797524601668,
          95.42652901600192,
          96.62149275544346,
          69.34448612849066,
          145.4198845070132,
          118.04756173516819,
          87.84220043474625,
          142.49171251547068,
          136.858925736884,
          150.91927610808165,
          80.79736047677324,
          134.1602131534798,
          101.7860267360141,
          109.02186259253389,
          112.72353504228052,
          112.63659005384825,
          91.96161765691151,
          75.24678784151297,
          135.3343665382391,
          100.41762787798021,
          108.27840810740129,
          134.93058722852072,
          93.01499035301185,
          89.79661377255582,
          103.59485859678553,
          102.11474508916291,
          108.86195775321374,
          104.92668333377419,
          120.29410968809157,
          84.42897719781581,
          96.50806512629093,
          120.25841361458421,
          115.3024076150804,
          156.55800244834333,
          83.72901069608956,
          108.6742323786768,
          98.99545796018592,
          87.93662128641755,
          127.40876193104695,
          107.40623567030265,
          129.05175929081793,
          96.80182192646632,
          113.68396850683364,
          116.94741836517912,
          72.77196664210635,
          96.88500190305483,
          112.70172723255224,
          64.60695706675642,
          86.75406247716222,
          78.6156908485435,
          106.011415039911,
          155.51058425024394,
          116.5614524448961,
          82.46783696245248,
          101.49945937668024,
          103.21027825467738,
          115.03930636729166,
          112.15573918006794,
          87.4664567864969,
          74.59875600298113,
          115.89621777563501,
          122.85117724438064,
          92.57013759050854,
          103.42481480925841,
          101.8483815244196,
          108.7974524426228,
          121.38203882209275,
          91.52690168231219,
          128.63636968149567,
          74.7756238117532,
          76.24303851365552,
          139.14827505577875,
          92.78046026095474,
          91.1674306550581,
          94.0174648495487,
          119.13201880078918,
          87.14310672669305,
          129.18271616974624,
          115.79570953040562,
          95.51019291824092,
          112.63729687650063,
          100.77993304375285,
          97.84325934212652,
          124.20211642670917,
          143.59750828073828,
          102.65433865835253,
          84.12145722412562,
          151.09729506883644,
          119.80281517397887,
          99.37658395355912,
          126.94755138271609,
          122.50176422952272,
          88.6102009014311,
          117.5959655539159,
          117.76197166963651,
          102.4474246648817,
          116.45382049989462,
          111.82411116636213,
          147.11567452687845,
          69.58256083690549,
          73.64566528037412,
          125.81397905533575,
          97.20863588642825,
          154.57361430218066,
          87.96509181148883,
          108.50182721820951,
          80.17724066548968,
          117.28715136804618,
          167.51270297929395,
          118.08739800540323,
          146.90689055436243,
          125.95422909886878,
          91.78538367822726,
          65.42009025404076,
          135.2051000228171,
          116.4381942432489,
          100.32111917959944,
          77.32280682319589,
          119.78895949738889,
          133.17944052767285,
          147.36666920703584,
          116.60613424535553,
          82.85915571141666,
          101.72468920642967,
          115.13486580460216,
          104.42821400799657,
          94.88743726289387,
          104.97373222199063,
          89.7723511853605,
          95.24370854925348,
          109.42247734537702,
          104.69427747770196,
          73.61972734079498,
          97.63829704126698,
          167.1927070081392,
          92.53585241786719,
          124.55436863015629,
          108.0661358650097,
          85.36749492889491,
          97.79797906272951,
          134.90334266668742,
          108.63417896617442,
          89.64902116326884,
          98.1828477184991,
          112.44818994590372,
          111.11843894883569,
          133.79109197822098,
          110.72033886686025,
          147.0776580325823,
          91.92740536024502,
          120.5670564054652,
          91.34337362017854,
          105.93819813511057,
          90.11799572761203,
          111.21479109190248,
          99.35019672994956,
          136.7453846822023,
          84.72396425207722,
          132.47307316738588,
          118.15955895493649,
          116.11467577089209,
          96.39379812246709,
          106.86640342217045,
          99.20110592460625,
          93.26923503279063,
          107.4753508056864,
          91.91366201553832,
          123.75574312855437,
          121.78481506401832,
          91.65337435437247,
          111.83827375419035,
          85.0472077817511,
          87.128829075733,
          152.2939509869739,
          67.77151971315733,
          92.28057643078158,
          91.15389531584428,
          101.29482845907977,
          67.05158504214776,
          116.61434314930027,
          105.53830338811754,
          119.33015824069282,
          117.31132646284496,
          83.19133639539689,
          74.83421480616633,
          127.66758196096809,
          125.45868381097932,
          98.57294460087745,
          94.23082569630273,
          103.32354086477845,
          97.05055878467529,
          98.61418812864648,
          123.97068497334084,
          94.20603920582866,
          99.07327432600354,
          103.56066846619872,
          132.98102647910918,
          119.37611522284445,
          87.72657735895267,
          104.06561172768964,
          89.98330193087487,
          92.29690067680427,
          91.37959685552671,
          74.96828498519604,
          97.62149780963819,
          97.94001293460462,
          107.54768786401391,
          115.3506265882798,
          119.95673680613515,
          88.81244886029134,
          92.3462815714413,
          96.06690340844949,
          91.26159596626194,
          109.18620167700966,
          114.60616440884982,
          107.77034407801189,
          89.1979972451837,
          97.28299296058316,
          116.15332328095859,
          111.86694813030181,
          106.34687739135666,
          92.68389644205837,
          86.78793604864285,
          148.42086138418708,
          103.98890742684455,
          136.04704396360376,
          120.92311581564805,
          94.09661063998634,
          67.58593749414233,
          93.75269164563029,
          69.3281040136861,
          106.41268767337091,
          95.50925778950551,
          110.04611753103767,
          82.78150188441552,
          103.20391088878338,
          88.26901348407253,
          96.711858752552,
          122.06618480903366,
          117.2845322349194,
          100.228664790671,
          83.89424192696687,
          113.66870945488526,
          140.2823893940472,
          128.95292268024082,
          86.0226340595664,
          95.62696617241689,
          79.79617339129538,
          136.60570359850826,
          93.88614712334899,
          117.99630666789842,
          121.75936524598154,
          141.6001822762604,
          110.38612755507717,
          68.0248712088042,
          90.00389993041486,
          99.6453399135892,
          117.6253997974566,
          103.25714144733043,
          103.61501963156232,
          101.64354375466822,
          117.98997378061118,
          117.40870951103567,
          107.88816928043904,
          128.2009104426778,
          83.91255595758818,
          110.29555867392033,
          91.50770080403419,
          131.41745545967257,
          85.80189083316479,
          88.8513892374485,
          98.43554797205186,
          123.34175218371686,
          98.66463309886903,
          123.45626416208806,
          87.14046378482428,
          143.7008787461584,
          123.39722653184049,
          126.32455342483186,
          66.17943289056095,
          76.8394796965569,
          138.45012759360802,
          127.71551220380367,
          111.8864699881905,
          92.05811698857137,
          84.44148256471559,
          67.58431148818741,
          118.22200886832579,
          68.90733864862844,
          128.31071675970725,
          118.27715923109906,
          108.12155063557144,
          113.27227131634118,
          129.22232576198763,
          101.47757337829505,
          123.84875608059667,
          117.66871672249798,
          102.72239400490025,
          114.15993282996553,
          92.688787672224,
          112.70571072805403
         ]
        }
       ],
       "layout": {
        "autosize": true,
        "template": {
         "data": {
          "bar": [
           {
            "error_x": {
             "color": "#2a3f5f"
            },
            "error_y": {
             "color": "#2a3f5f"
            },
            "marker": {
             "line": {
              "color": "#E5ECF6",
              "width": 0.5
             }
            },
            "type": "bar"
           }
          ],
          "barpolar": [
           {
            "marker": {
             "line": {
              "color": "#E5ECF6",
              "width": 0.5
             }
            },
            "type": "barpolar"
           }
          ],
          "carpet": [
           {
            "aaxis": {
             "endlinecolor": "#2a3f5f",
             "gridcolor": "white",
             "linecolor": "white",
             "minorgridcolor": "white",
             "startlinecolor": "#2a3f5f"
            },
            "baxis": {
             "endlinecolor": "#2a3f5f",
             "gridcolor": "white",
             "linecolor": "white",
             "minorgridcolor": "white",
             "startlinecolor": "#2a3f5f"
            },
            "type": "carpet"
           }
          ],
          "choropleth": [
           {
            "colorbar": {
             "outlinewidth": 0,
             "ticks": ""
            },
            "type": "choropleth"
           }
          ],
          "contour": [
           {
            "colorbar": {
             "outlinewidth": 0,
             "ticks": ""
            },
            "colorscale": [
             [
              0,
              "#0d0887"
             ],
             [
              0.1111111111111111,
              "#46039f"
             ],
             [
              0.2222222222222222,
              "#7201a8"
             ],
             [
              0.3333333333333333,
              "#9c179e"
             ],
             [
              0.4444444444444444,
              "#bd3786"
             ],
             [
              0.5555555555555556,
              "#d8576b"
             ],
             [
              0.6666666666666666,
              "#ed7953"
             ],
             [
              0.7777777777777778,
              "#fb9f3a"
             ],
             [
              0.8888888888888888,
              "#fdca26"
             ],
             [
              1,
              "#f0f921"
             ]
            ],
            "type": "contour"
           }
          ],
          "contourcarpet": [
           {
            "colorbar": {
             "outlinewidth": 0,
             "ticks": ""
            },
            "type": "contourcarpet"
           }
          ],
          "heatmap": [
           {
            "colorbar": {
             "outlinewidth": 0,
             "ticks": ""
            },
            "colorscale": [
             [
              0,
              "#0d0887"
             ],
             [
              0.1111111111111111,
              "#46039f"
             ],
             [
              0.2222222222222222,
              "#7201a8"
             ],
             [
              0.3333333333333333,
              "#9c179e"
             ],
             [
              0.4444444444444444,
              "#bd3786"
             ],
             [
              0.5555555555555556,
              "#d8576b"
             ],
             [
              0.6666666666666666,
              "#ed7953"
             ],
             [
              0.7777777777777778,
              "#fb9f3a"
             ],
             [
              0.8888888888888888,
              "#fdca26"
             ],
             [
              1,
              "#f0f921"
             ]
            ],
            "type": "heatmap"
           }
          ],
          "heatmapgl": [
           {
            "colorbar": {
             "outlinewidth": 0,
             "ticks": ""
            },
            "colorscale": [
             [
              0,
              "#0d0887"
             ],
             [
              0.1111111111111111,
              "#46039f"
             ],
             [
              0.2222222222222222,
              "#7201a8"
             ],
             [
              0.3333333333333333,
              "#9c179e"
             ],
             [
              0.4444444444444444,
              "#bd3786"
             ],
             [
              0.5555555555555556,
              "#d8576b"
             ],
             [
              0.6666666666666666,
              "#ed7953"
             ],
             [
              0.7777777777777778,
              "#fb9f3a"
             ],
             [
              0.8888888888888888,
              "#fdca26"
             ],
             [
              1,
              "#f0f921"
             ]
            ],
            "type": "heatmapgl"
           }
          ],
          "histogram": [
           {
            "marker": {
             "colorbar": {
              "outlinewidth": 0,
              "ticks": ""
             }
            },
            "type": "histogram"
           }
          ],
          "histogram2d": [
           {
            "colorbar": {
             "outlinewidth": 0,
             "ticks": ""
            },
            "colorscale": [
             [
              0,
              "#0d0887"
             ],
             [
              0.1111111111111111,
              "#46039f"
             ],
             [
              0.2222222222222222,
              "#7201a8"
             ],
             [
              0.3333333333333333,
              "#9c179e"
             ],
             [
              0.4444444444444444,
              "#bd3786"
             ],
             [
              0.5555555555555556,
              "#d8576b"
             ],
             [
              0.6666666666666666,
              "#ed7953"
             ],
             [
              0.7777777777777778,
              "#fb9f3a"
             ],
             [
              0.8888888888888888,
              "#fdca26"
             ],
             [
              1,
              "#f0f921"
             ]
            ],
            "type": "histogram2d"
           }
          ],
          "histogram2dcontour": [
           {
            "colorbar": {
             "outlinewidth": 0,
             "ticks": ""
            },
            "colorscale": [
             [
              0,
              "#0d0887"
             ],
             [
              0.1111111111111111,
              "#46039f"
             ],
             [
              0.2222222222222222,
              "#7201a8"
             ],
             [
              0.3333333333333333,
              "#9c179e"
             ],
             [
              0.4444444444444444,
              "#bd3786"
             ],
             [
              0.5555555555555556,
              "#d8576b"
             ],
             [
              0.6666666666666666,
              "#ed7953"
             ],
             [
              0.7777777777777778,
              "#fb9f3a"
             ],
             [
              0.8888888888888888,
              "#fdca26"
             ],
             [
              1,
              "#f0f921"
             ]
            ],
            "type": "histogram2dcontour"
           }
          ],
          "mesh3d": [
           {
            "colorbar": {
             "outlinewidth": 0,
             "ticks": ""
            },
            "type": "mesh3d"
           }
          ],
          "parcoords": [
           {
            "line": {
             "colorbar": {
              "outlinewidth": 0,
              "ticks": ""
             }
            },
            "type": "parcoords"
           }
          ],
          "pie": [
           {
            "automargin": true,
            "type": "pie"
           }
          ],
          "scatter": [
           {
            "marker": {
             "colorbar": {
              "outlinewidth": 0,
              "ticks": ""
             }
            },
            "type": "scatter"
           }
          ],
          "scatter3d": [
           {
            "line": {
             "colorbar": {
              "outlinewidth": 0,
              "ticks": ""
             }
            },
            "marker": {
             "colorbar": {
              "outlinewidth": 0,
              "ticks": ""
             }
            },
            "type": "scatter3d"
           }
          ],
          "scattercarpet": [
           {
            "marker": {
             "colorbar": {
              "outlinewidth": 0,
              "ticks": ""
             }
            },
            "type": "scattercarpet"
           }
          ],
          "scattergeo": [
           {
            "marker": {
             "colorbar": {
              "outlinewidth": 0,
              "ticks": ""
             }
            },
            "type": "scattergeo"
           }
          ],
          "scattergl": [
           {
            "marker": {
             "colorbar": {
              "outlinewidth": 0,
              "ticks": ""
             }
            },
            "type": "scattergl"
           }
          ],
          "scattermapbox": [
           {
            "marker": {
             "colorbar": {
              "outlinewidth": 0,
              "ticks": ""
             }
            },
            "type": "scattermapbox"
           }
          ],
          "scatterpolar": [
           {
            "marker": {
             "colorbar": {
              "outlinewidth": 0,
              "ticks": ""
             }
            },
            "type": "scatterpolar"
           }
          ],
          "scatterpolargl": [
           {
            "marker": {
             "colorbar": {
              "outlinewidth": 0,
              "ticks": ""
             }
            },
            "type": "scatterpolargl"
           }
          ],
          "scatterternary": [
           {
            "marker": {
             "colorbar": {
              "outlinewidth": 0,
              "ticks": ""
             }
            },
            "type": "scatterternary"
           }
          ],
          "surface": [
           {
            "colorbar": {
             "outlinewidth": 0,
             "ticks": ""
            },
            "colorscale": [
             [
              0,
              "#0d0887"
             ],
             [
              0.1111111111111111,
              "#46039f"
             ],
             [
              0.2222222222222222,
              "#7201a8"
             ],
             [
              0.3333333333333333,
              "#9c179e"
             ],
             [
              0.4444444444444444,
              "#bd3786"
             ],
             [
              0.5555555555555556,
              "#d8576b"
             ],
             [
              0.6666666666666666,
              "#ed7953"
             ],
             [
              0.7777777777777778,
              "#fb9f3a"
             ],
             [
              0.8888888888888888,
              "#fdca26"
             ],
             [
              1,
              "#f0f921"
             ]
            ],
            "type": "surface"
           }
          ],
          "table": [
           {
            "cells": {
             "fill": {
              "color": "#EBF0F8"
             },
             "line": {
              "color": "white"
             }
            },
            "header": {
             "fill": {
              "color": "#C8D4E3"
             },
             "line": {
              "color": "white"
             }
            },
            "type": "table"
           }
          ]
         },
         "layout": {
          "annotationdefaults": {
           "arrowcolor": "#2a3f5f",
           "arrowhead": 0,
           "arrowwidth": 1
          },
          "coloraxis": {
           "colorbar": {
            "outlinewidth": 0,
            "ticks": ""
           }
          },
          "colorscale": {
           "diverging": [
            [
             0,
             "#8e0152"
            ],
            [
             0.1,
             "#c51b7d"
            ],
            [
             0.2,
             "#de77ae"
            ],
            [
             0.3,
             "#f1b6da"
            ],
            [
             0.4,
             "#fde0ef"
            ],
            [
             0.5,
             "#f7f7f7"
            ],
            [
             0.6,
             "#e6f5d0"
            ],
            [
             0.7,
             "#b8e186"
            ],
            [
             0.8,
             "#7fbc41"
            ],
            [
             0.9,
             "#4d9221"
            ],
            [
             1,
             "#276419"
            ]
           ],
           "sequential": [
            [
             0,
             "#0d0887"
            ],
            [
             0.1111111111111111,
             "#46039f"
            ],
            [
             0.2222222222222222,
             "#7201a8"
            ],
            [
             0.3333333333333333,
             "#9c179e"
            ],
            [
             0.4444444444444444,
             "#bd3786"
            ],
            [
             0.5555555555555556,
             "#d8576b"
            ],
            [
             0.6666666666666666,
             "#ed7953"
            ],
            [
             0.7777777777777778,
             "#fb9f3a"
            ],
            [
             0.8888888888888888,
             "#fdca26"
            ],
            [
             1,
             "#f0f921"
            ]
           ],
           "sequentialminus": [
            [
             0,
             "#0d0887"
            ],
            [
             0.1111111111111111,
             "#46039f"
            ],
            [
             0.2222222222222222,
             "#7201a8"
            ],
            [
             0.3333333333333333,
             "#9c179e"
            ],
            [
             0.4444444444444444,
             "#bd3786"
            ],
            [
             0.5555555555555556,
             "#d8576b"
            ],
            [
             0.6666666666666666,
             "#ed7953"
            ],
            [
             0.7777777777777778,
             "#fb9f3a"
            ],
            [
             0.8888888888888888,
             "#fdca26"
            ],
            [
             1,
             "#f0f921"
            ]
           ]
          },
          "colorway": [
           "#636efa",
           "#EF553B",
           "#00cc96",
           "#ab63fa",
           "#FFA15A",
           "#19d3f3",
           "#FF6692",
           "#B6E880",
           "#FF97FF",
           "#FECB52"
          ],
          "font": {
           "color": "#2a3f5f"
          },
          "geo": {
           "bgcolor": "white",
           "lakecolor": "white",
           "landcolor": "#E5ECF6",
           "showlakes": true,
           "showland": true,
           "subunitcolor": "white"
          },
          "hoverlabel": {
           "align": "left"
          },
          "hovermode": "closest",
          "mapbox": {
           "style": "light"
          },
          "paper_bgcolor": "white",
          "plot_bgcolor": "#E5ECF6",
          "polar": {
           "angularaxis": {
            "gridcolor": "white",
            "linecolor": "white",
            "ticks": ""
           },
           "bgcolor": "#E5ECF6",
           "radialaxis": {
            "gridcolor": "white",
            "linecolor": "white",
            "ticks": ""
           }
          },
          "scene": {
           "xaxis": {
            "backgroundcolor": "#E5ECF6",
            "gridcolor": "white",
            "gridwidth": 2,
            "linecolor": "white",
            "showbackground": true,
            "ticks": "",
            "zerolinecolor": "white"
           },
           "yaxis": {
            "backgroundcolor": "#E5ECF6",
            "gridcolor": "white",
            "gridwidth": 2,
            "linecolor": "white",
            "showbackground": true,
            "ticks": "",
            "zerolinecolor": "white"
           },
           "zaxis": {
            "backgroundcolor": "#E5ECF6",
            "gridcolor": "white",
            "gridwidth": 2,
            "linecolor": "white",
            "showbackground": true,
            "ticks": "",
            "zerolinecolor": "white"
           }
          },
          "shapedefaults": {
           "line": {
            "color": "#2a3f5f"
           }
          },
          "ternary": {
           "aaxis": {
            "gridcolor": "white",
            "linecolor": "white",
            "ticks": ""
           },
           "baxis": {
            "gridcolor": "white",
            "linecolor": "white",
            "ticks": ""
           },
           "bgcolor": "#E5ECF6",
           "caxis": {
            "gridcolor": "white",
            "linecolor": "white",
            "ticks": ""
           }
          },
          "title": {
           "x": 0.05
          },
          "xaxis": {
           "automargin": true,
           "gridcolor": "white",
           "linecolor": "white",
           "ticks": "",
           "title": {
            "standoff": 15
           },
           "zerolinecolor": "white",
           "zerolinewidth": 2
          },
          "yaxis": {
           "automargin": true,
           "gridcolor": "white",
           "linecolor": "white",
           "ticks": "",
           "title": {
            "standoff": 15
           },
           "zerolinecolor": "white",
           "zerolinewidth": 2
          }
         }
        },
        "xaxis": {
         "autorange": true,
         "range": [
          -0.5069605568445475,
          2.5
         ],
         "type": "category"
        },
        "yaxis": {
         "autorange": true,
         "range": [
          48.09784808985093,
          173.7976953418962
         ],
         "type": "linear"
        }
       }
      },
      "image/png": "[encoded data removed]"
     },
     "metadata": {},
     "output_type": "display_data"
    }
   ],
   "source": [
    "trace = []\n",
    "vals = [group_a, group_b, control_group]\n",
    "groups = [\"Group A\", \"Group B\", \"Control group\"]\n",
    "\n",
    "for i in range(0, len(groups)):\n",
    "        trace.append(go.Box(y = vals[i],\n",
    "                           name = groups[i],\n",
    "                           boxpoints = \"all\",\n",
    "                           jitter = 0.2,\n",
    "                           pointpos = -1.5,\n",
    "                           boxmean = \"sd\"))\n",
    "        \n",
    "data = trace\n",
    "\n",
    "# iplot({\"data\":data}) # Old way!!\n",
    "pio.show({\"data\":data})"
   ]
  },
  {
   "cell_type": "markdown",
   "metadata": {},
   "source": [
    "## Line color"
   ]
  },
  {
   "cell_type": "code",
   "execution_count": 13,
   "metadata": {},
   "outputs": [
    {
     "data": {
      "application/vnd.plotly.v1+json": {
       "config": {
        "plotlyServerURL": "https://plot.ly"
       },
       "data": [
        {
         "line": {
          "color": "rgb(0, 0, 0)",
          "width": 1
         },
         "name": "Group A",
         "showlegend": false,
         "type": "box",
         "y": [
          104.71435163732492,
          88.09024305293535,
          114.32706968426098,
          96.87348103908288,
          92.79411266634989,
          108.87162940307738,
          108.59588413717417,
          93.63476495582651,
          100.1569637211443,
          77.57315045814595,
          111.50035724719818,
          109.91946022342678,
          109.5332412811243,
          79.7874517980503,
          96.65922634191904,
          100.02118364683487,
          104.05453411570191,
          102.89091940980035,
          113.21158192129386,
          84.5309444677076,
          97.97353675370817,
          93.44030655861066,
          101.93421376470359,
          105.53438910956741,
          113.18151554180136,
          95.306947152941,
          106.75554085122381,
          81.82972773409803,
          98.16891459821001,
          110.58969187571151,
          96.02159771800008,
          103.37437653613972,
          110.47578572892722,
          110.45938255627665,
          108.63717291684839,
          98.77908425152326,
          101.24712953768216,
          96.77205194391705,
          108.41674712996142,
          123.90960515463033,
          100.76199587837236,
          94.33554069535043,
          100.36141936684072,
          79.25022399309971,
          102.47792199748547,
          91.02843215560301,
          98.63205166738652,
          100.1828919134922,
          107.55413982398136,
          102.15268580969443,
          108.4100879493139,
          85.54189922955693,
          85.98026718499156,
          98.99081800051086,
          94.51757550813144,
          98.55380491630616,
          103.54020332199238,
          99.64486974721859,
          105.65738306062595,
          115.45658804625558,
          90.25763666232685,
          99.29655122895898,
          103.07968855216035,
          97.9150123689412,
          110.338007325555,
          75.99546366187704,
          120.306036208388,
          88.57368710977237,
          102.11883386777701,
          107.04720624317109,
          92.14564788236802,
          104.62059737162049,
          107.04228225462174,
          105.23507967893809,
          90.73745686469775,
          120.07842950778,
          102.26962541870896,
          88.47340890749048,
          106.3197944580913,
          100.39512686693367,
          104.64392325050896,
          64.36483339375265,
          113.21105615470206,
          101.52630552204535,
          101.64529542932398,
          95.69904309123513,
          107.67368735752412,
          109.84919841909897,
          102.70835848826803,
          113.91986193446408,
          100.79842313008629,
          96.00035419303478,
          89.72149441318095,
          94.15281788739212,
          108.16593926547841,
          99.18052948173334,
          96.55233985745356,
          105.28288145297394,
          89.31011216519867,
          94.88118690873185,
          102.91205359743063,
          105.66533696353572,
          105.03591759111202,
          102.85295684781858,
          104.8428811274975,
          113.63481512426145,
          92.18894716374608,
          95.31982333662515,
          112.24574355126174,
          87.18891724855958,
          108.75475504274324,
          82.89284675970471,
          95.49234896863726,
          107.49163805919065,
          97.96067133898748,
          98.17824588334265,
          106.80656004381457,
          81.81501009608385,
          100.47071635325712,
          103.94844209327205,
          97.51567945619153,
          93.82293352002984,
          93.17116003550666,
          104.36257604340916,
          82.96987225886762,
          103.93710599138666,
          95.20675996424502,
          97.0098370703392,
          106.94103287678765,
          106.78629673709857,
          102.39555995003897,
          101.5122662929445,
          108.16127233360041,
          118.935344675962,
          106.39632763193703,
          90.37971168094809,
          79.14734357879891,
          119.30246767465576,
          82.64651125529608,
          112.10383704904514,
          107.97435419427873,
          96.20189215952621,
          107.025622240016,
          91.49653728344884,
          111.76812450104929,
          94.75663897367544,
          107.00907730915604,
          109.84188070722415,
          98.7827159133318,
          123.65768628840038,
          104.96142926247595,
          107.96594866664952,
          95.25979109874315,
          99.4330428350907,
          113.57797258107058,
          91.95166275833296,
          78.7637975090707,
          96.66497559566753,
          91.13280647514623,
          103.34197930899009,
          105.3678382490275,
          92.56169632063799,
          96.7979611775912,
          90.83801138733459,
          91.4033170001826,
          102.25985486733755,
          106.28775826538295,
          101.86494348773074,
          109.52478345109122,
          109.88137582593309,
          99.27391686037325,
          94.49397076436581,
          90.61847385906896,
          87.60928437405207,
          101.39683274031295,
          97.76981018117525,
          121.23691888593552,
          101.22273434258828,
          85.90568260077231,
          114.22985952772243,
          78.52144962356391,
          86.52467486542245,
          103.63564556806648,
          99.85247888195406,
          112.7239507854621,
          85.50433391136613,
          88.0447625833303,
          94.08137026852751,
          95.8549515646781,
          85.74205266561978,
          102.09394787535923,
          94.07113996161074,
          85.26883586534353,
          91.03419384698128,
          111.04351569860313,
          95.68450484483955,
          98.38863091755941,
          108.89157494072873,
          102.88376847715266,
          89.48461062429962,
          96.80438600159769,
          93.80006912278797,
          101.56998376446688,
          94.2854464892021,
          110.57633183204614,
          92.08511190522114,
          94.75372654071529,
          100.71878039370368,
          119.10759427277182,
          107.87964683137615,
          105.13082144466992,
          94.53583719726406,
          110.43944655495324,
          121.0778515279337,
          114.59927481585294,
          110.1540545781252,
          107.49184600924198,
          93.24478521563312,
          104.4026639166873,
          106.88971856326943,
          97.23353872723013,
          119.2453332001529,
          104.11204020707224,
          108.90764956173118,
          102.26363227251707,
          79.21382106297824,
          96.12113768032825,
          99.12893030036001,
          111.26385822137273,
          102.47111716157737,
          101.21171805331541,
          102.98983935542047,
          98.42900863153348,
          92.59530977219282,
          87.52347076948767,
          102.49455215152449,
          105.81073320620607,
          127.63844079849567,
          103.99325436979576,
          106.68488169205806,
          97.24226271343694,
          105.00482900154373,
          108.63064860590625,
          89.48372140534788,
          86.07945922506913,
          111.53922240612225,
          111.81944105999231,
          103.91371448421931,
          91.1895290779843,
          102.9507995978624,
          118.63801062132504,
          82.87726075528744,
          85.92915454256774,
          101.26781186326971,
          100.03759847795496,
          87.31005743926607,
          91.6115707857971,
          105.5392125143972,
          94.95957281918037,
          92.11559815482121,
          115.29400674483931,
          102.0545485392598,
          103.1301312898086,
          108.665207121683,
          102.99070529594377,
          110.76540643846121,
          103.63177347544452,
          118.93679825551843,
          95.14247255717191,
          103.87674455777598,
          100.23557610392554,
          93.3977049795572,
          96.81315070421985,
          92.77337806325627,
          101.77386719384599,
          109.83512729343164,
          100.23504585885395,
          105.53776977863366,
          103.53769293996639,
          97.24406366232317,
          95.09516408521318,
          96.2556339980722,
          76.02496023861184,
          115.41029983277939,
          100.63084538957305,
          97.15559316073707,
          87.3439946239879,
          117.8797963245575,
          96.45491291930625,
          98.95238876932896,
          103.86253689189053,
          108.22775373765373,
          93.16210177568992,
          110.57203331214129,
          100.31879973569032,
          113.43182457528941,
          99.49460310451228,
          96.35990043692891,
          84.4665766056894,
          96.80702198179839,
          105.27046450954964,
          107.11112399364823,
          97.82454519509524,
          126.37791210703864,
          82.57862369405035,
          99.05565192258555,
          114.31183752254563,
          105.92758446550668,
          101.70296895326288,
          82.48294052207976,
          102.88581322343208,
          94.5742048309322,
          101.71602381985996,
          109.82817829243105,
          99.74651097937232,
          97.12447550715892,
          109.24442867343366,
          99.38753700133685,
          92.68966657414794,
          89.77226295304857,
          109.95992970245753,
          109.55557932627455,
          107.13840771195044,
          101.33370962194122,
          91.92961691527186,
          96.57989218120785,
          119.08779658091186,
          101.55923261453127,
          107.59652532092963,
          95.76993771580752,
          101.81672745323682,
          102.74492570746403,
          100.67912357380757,
          99.6301718512408,
          98.29198969302378,
          102.66973231539868,
          113.82997248852925,
          99.77539126488574,
          101.31395367225915,
          104.34437185102232,
          102.64534068316999,
          105.65658344273825,
          105.85084279501724,
          98.25701847247913,
          89.2863132854491,
          99.51539497447617,
          91.54709610433757,
          104.1510055838158,
          104.25530591397859,
          90.19275642499414,
          95.72173890027979,
          114.98569955138537,
          96.39843429130973,
          95.41759610662507,
          86.62031598049029,
          99.58613460385128,
          108.21047956107915,
          120.97800780771692,
          112.82933246874524,
          102.70337925739372,
          110.03140362044931,
          110.78673551320406,
          103.40752685129765,
          98.01925040376432,
          124.81458422875653,
          113.85254876189207,
          88.45399034610331,
          87.31930949622918,
          106.07862186209479,
          89.19903516842409,
          93.88718325204238,
          101.02035112292332,
          85.63426063227881,
          102.10717052505655,
          91.03095829302488,
          82.75606921008168,
          117.92339196646942,
          86.87287293407769,
          105.55877426385625,
          93.1811869450887,
          115.72742745755804,
          98.95348425152234,
          118.50397801609901,
          96.666495732506,
          101.93464233819873,
          95.03255062135091,
          110.32723215735861,
          82.60196202477441,
          92.44137824377091,
          91.18888267352065,
          103.93892262912675,
          90.49974465203717,
          103.32506622162249,
          105.28944408856047,
          88.79479006007276,
          100.48264206925657,
          100.61988450521777,
          89.72484326782133,
          97.61664634532674,
          119.32178169581346,
          97.73367706323164,
          90.76169279823077,
          103.5583899747282,
          87.29936521613712,
          98.04527587303241,
          95.36580600782537,
          109.8941484728585,
          113.88647381631716,
          110.87713736524141,
          104.38801263034391,
          90.38397759118764,
          112.45609937147846,
          105.02925517670631,
          93.6860122162148,
          92.9574795291174,
          97.59517463241657,
          105.85599310929858,
          103.52800560108406,
          81.84442307567915,
          90.89876154304858,
          92.5147204666094,
          98.91875073519736,
          102.74778837052168,
          102.37349764509425,
          97.40156305636611,
          96.875578228436,
          104.48509742512407,
          99.40468035295599,
          95.29985186602214,
          103.49566771627666,
          89.72531152826387,
          96.93361516130389,
          114.06176139494268,
          87.50303227205647,
          84.39851111114767,
          115.57397650649023,
          94.06643605023513,
          98.297114876705,
          116.72626808454706,
          94.59200192350124,
          93.15871671233415,
          105.99962085981993,
          97.82800874855361,
          103.31526518352153,
          96.16635419849172,
          92.18183911926889,
          102.66237406827837,
          102.79428024532737,
          87.8037430482623,
          92.76051083244495,
          82.65221692456066,
          102.71660784374025,
          100.9911201694909,
          96.36910093562742,
          94.1177327171148,
          100.25941713524132,
          94.27697649254841,
          111.05586962797162,
          87.91984407170352,
          86.60298960025085,
          120.75185406731782,
          85.1059029866899,
          88.49046934374036,
          104.19059824673965,
          104.13405276424496,
          107.17576932588283,
          102.61724839679904,
          97.57228728899638,
          94.98731867248333,
          93.01871021031145,
          113.84580160839074,
          97.13574586064244,
          105.00069585028226,
          119.51103236540061,
          97.21632538406992,
          100.3678625863071,
          104.45852506261001,
          85.89649242319331,
          104.50001300695475,
          105.15479530793898,
          88.45916059617397,
          86.19826604928161,
          95.04166994786837,
          95.86720927581129,
          82.80683332072451,
          99.70439097246916,
          92.33960116477171,
          100.99882076502627,
          92.86976043370255,
          77.73882379022413,
          107.25714153121955,
          109.16976283069235,
          94.36109759588744,
          84.7782044317683,
          99.85721211372437,
          97.53279193181116,
          98.34670523482721,
          101.19113982598341,
          79.25019513829952,
          89.97244782983083
         ]
        },
        {
         "line": {
          "color": "rgb(0, 0, 0)",
          "width": 1
         },
         "name": "Group B",
         "showlegend": false,
         "type": "box",
         "y": [
          117.85319027095699,
          122.32275963498384,
          107.76887226000706,
          109.31944382061062,
          99.43260611705358,
          135.9547327925951,
          113.4339088325608,
          126.39111585936259,
          104.6964271000786,
          109.54011702594823,
          106.99742224068986,
          102.78034640964088,
          135.67138995517365,
          131.5308062937893,
          92.48719500138492,
          110.61265137149003,
          115.43027293505668,
          118.58888286564869,
          126.56690355099724,
          103.61491960219111,
          121.33533264273035,
          110.15422185732992,
          113.36878656147344,
          92.97937660147565,
          95.72718588152665,
          108.09304315886351,
          110.43416747601685,
          141.56116049943958,
          133.51271215195575,
          100.6365555081369,
          103.99033696910035,
          92.94407692686313,
          96.4526144450468,
          93.54082906371453,
          108.9303618555335,
          90.2099137002372,
          101.59860581184392,
          112.47431835550046,
          100.52621318113322,
          96.99395330655847,
          94.96155993934003,
          128.1102230486851,
          135.67980519478988,
          100.63115781047432,
          106.81781294021062,
          92.09653726588482,
          119.86378838649767,
          113.00119822328591,
          126.36889788832627,
          102.66466912589436,
          130.52330393338937,
          123.37437676290213,
          122.56349318675205,
          117.7121707008387,
          109.24925461385249,
          121.1592926924734,
          84.1392469469281,
          111.34852359909092,
          114.841093428278,
          104.34275861582665,
          109.99668652547601,
          125.75170540668832,
          107.46951331673728,
          121.96814744631745,
          118.28786469736997,
          92.70360107293729,
          134.62328283543206,
          88.41533248288636,
          140.4160927072628,
          89.52024018239504,
          111.08223293588428,
          119.19727517636966,
          132.33749639441368,
          113.31944862551931,
          87.03661837420078,
          122.02832321324726,
          103.63299930704991,
          126.78282458203796,
          133.5432209687427,
          131.41597656601454,
          89.42243190324959,
          106.00373161036705,
          121.68821847821363,
          108.45778557972478,
          101.20303067362418,
          113.60378981892575,
          95.02916511842692,
          112.86754869234807,
          95.70795467628636,
          132.0649486925751,
          120.78357382314347,
          107.50160634084637,
          121.4691694503233,
          92.15834793728209,
          101.97714104419603,
          109.67603230030025,
          93.42212612780321,
          94.16080492212596,
          125.32033488485084,
          135.6448414246981,
          110.44342927906426,
          111.85763024657356,
          114.34145085054463,
          105.4776163408018,
          116.21652516919717,
          124.24786851706673,
          117.82772813164284,
          80.46105688922242,
          117.54215041636677,
          104.6836634099936,
          103.29514277282908,
          93.24532421096345,
          98.17600426128355,
          125.83628245948795,
          90.4318818365452,
          118.09602856014193,
          115.20486875560054,
          123.11289339995824,
          86.37230956068865,
          107.60024515737574,
          100.35000145749555,
          99.26943670053058,
          135.49188395932444,
          129.2425583703005,
          103.21163500522688,
          115.90700190673742,
          116.38610915878694,
          108.04928851712607,
          104.09400250727657,
          100.3841033883777,
          112.57946382073179,
          97.39776471059982,
          122.97497462787435,
          106.92708001877807,
          108.39389998501193,
          106.36839972402922,
          96.46275837594276,
          121.96806329479446,
          105.66356318514278,
          120.15466418998633,
          104.85223949104194,
          117.30815201911767,
          121.48498037244217,
          76.99153346383821,
          71.05906404831237,
          117.1351225717477,
          86.0767153215165,
          93.3488490250094,
          95.02390256722362,
          75.86290096180007,
          133.29210811799805,
          92.76051846988526,
          112.8279594289646,
          124.83445674630472,
          86.20795545060568,
          102.91428686684354,
          107.16730478186386,
          113.16690620492606,
          134.17583438683846,
          118.50095662719845,
          100.38234119801922,
          133.0816091174001,
          114.6449597884243,
          103.26726979471958,
          136.53650855468842,
          114.02300731945657,
          88.0666240711215,
          137.76215253458304,
          135.51154258506443,
          115.3008658392247,
          115.04733531653288,
          125.85658151663418,
          127.98018083701501,
          71.08018595507176,
          99.27881938765113,
          122.06519062458482,
          127.87483018807785,
          108.08951923825497,
          93.8753710101696,
          131.72403687775966,
          105.82468580426543,
          94.4477200408859,
          113.02177199573381,
          117.52633698486093,
          134.20002383017192,
          81.53434057624247,
          129.48623860664418,
          118.29776638958454,
          106.99456555990008,
          118.18504992639575,
          113.93429928459754,
          113.28605314520578,
          123.98529398402722,
          136.14578641821274,
          108.12944480345226,
          124.31047500702722,
          120.68076423837336,
          101.30995014176462,
          98.57270816725912,
          134.92253193115647,
          148.21537553686574,
          109.4163151395633,
          104.65386189142622,
          82.06147019848706,
          149.77998677201316,
          107.95654444465498,
          111.55624009956449,
          111.73148338526984,
          113.88005696684058,
          132.31614997942185,
          131.81515214585949,
          120.56462447252147,
          131.99527063785007,
          115.30433273805144,
          93.71714804648087,
          115.44814641504453,
          82.80084301392009,
          107.03133860426249,
          116.49311888073917,
          101.89151318438465,
          114.43445982471343,
          141.19766355250553,
          82.36350620058431,
          102.33250975069143,
          101.2859730740789,
          125.94104699997959,
          110.2708266448442,
          110.34197599534058,
          84.80312772627596,
          122.18634501023757,
          100.61166940300848,
          91.2459377229691,
          119.22703187530927,
          108.17908083479307,
          90.78657092993666,
          114.8691470888788,
          120.0585408592618,
          112.23741984715063,
          114.90595705824346,
          104.70557464787268,
          96.41708539334493,
          135.14278138364693,
          120.21494011590156,
          99.44423584109889,
          111.53119623064836,
          127.9258420952672,
          105.83060921327586,
          109.2175206255524,
          115.3052540187472,
          103.87533856834169,
          82.84355498307218,
          96.45037906579839,
          125.8106763678397,
          95.28684684906526,
          115.28118337106568,
          119.98972760465905,
          125.98252252932232,
          106.57349580345947,
          115.46725856368741,
          87.2773001417685,
          108.87108069144162,
          105.54412877363936,
          99.08878427340107,
          106.31186989421631,
          108.08076586820552,
          104.46034070135808,
          70.65493573283703,
          141.73776093386851,
          120.28342378218716,
          107.63834022932375,
          130.7193165111951,
          111.02639838112823,
          114.6880443872508,
          116.81379777725543,
          98.17292187047224,
          109.0123949853326,
          88.72280230835463,
          107.90369989683619,
          101.66967715680352,
          102.47123331721978,
          120.39677782255649,
          106.31959254724752,
          90.95852211371218,
          106.06514217223894,
          145.06397723292585,
          98.27423843485954,
          111.20149618307376,
          89.90883318852039,
          116.2017644573775,
          113.06677951022982,
          117.1767994179455,
          110.44371456462855,
          107.26337023401592,
          110.26200012702215,
          140.81434295004217,
          72.02175029914955,
          116.3572202605738,
          95.66474726614047,
          107.99488684517331,
          93.83895012935808,
          128.74853766036736,
          118.56723130194655,
          114.45572643736183,
          123.0779782625244,
          107.54433205138655,
          120.34284798181902,
          139.7688485478483,
          108.22577172358982,
          124.32694878384909,
          92.29170670703344,
          132.05710908944658,
          109.67663174565459,
          120.66292206604217,
          97.82247421887914,
          76.23180402065233,
          93.10849721012241,
          105.38199881124658,
          95.57173196540266,
          120.06238938978828,
          110.95075139887345,
          100.1480617930365,
          105.6745522632092,
          106.70309756383226,
          113.00371941210388,
          97.31749638454002,
          149.64384027058568,
          104.99382844004649,
          107.81737459741238,
          123.40053061522536,
          129.32832107680971,
          114.96797282017225,
          108.8694815284052,
          109.08278516715644,
          137.84085299672853,
          98.70438076315807,
          104.89661195353091,
          101.73505941040548,
          100.93944010621685,
          141.83884939405195,
          110.30458281096327,
          97.00609918328996,
          104.66167420515748,
          95.68486533846539,
          133.8719617114575,
          110.0088100705493,
          103.03952402273042,
          87.14433820536051,
          112.32305548022107,
          97.39025984028638,
          110.16028673766503,
          101.84389414316738,
          120.13183015493757,
          95.39986680153402,
          122.27522153519608,
          108.25974071819311,
          99.63712678463312,
          125.58433213555838,
          124.71907772042883,
          119.24931205346238,
          98.18769451497269,
          110.31285105131698,
          118.99009857554556,
          104.32707105989981,
          109.16796849680836,
          139.7523208174074,
          111.16832042041811,
          116.06876621673118,
          97.26485735139778,
          108.82865301368936,
          102.0903163907036,
          106.35968099545957,
          126.60424769012809,
          109.46705127392292,
          95.60127524431873,
          100.5657353779543,
          114.0277223405759,
          117.32541219283584,
          118.80257903172486,
          107.36910888363815,
          103.49860614736762,
          110.65508017111019,
          74.46660603081457,
          86.10918296801194,
          73.37493889635752,
          106.05899257595135,
          97.66072521933705,
          109.36597492502263,
          104.13094698743824,
          113.45870749869853,
          114.92845839932815,
          122.57072875929926,
          96.38177580858283,
          109.37381730109051,
          80.08496534892303,
          111.62246383728922,
          101.16071466490673,
          95.22529649563265,
          94.45733900433012,
          140.59529055738378,
          100.11864374090116,
          100.88024658244711,
          122.9967935276871,
          98.8779576585811,
          87.94157790193971,
          120.62711181581732,
          108.07231403868343,
          107.59040255717728,
          126.15755313987708,
          100.79903896767618,
          99.32354553031551,
          110.9815780900296,
          103.67793750033393,
          104.88174674488349,
          129.6805476012414,
          82.65601268247885,
          113.23063889842491,
          99.93930007526188,
          113.89576210518452,
          117.0432414029118,
          117.38349664769842,
          117.68255791525685,
          92.86969615487965,
          108.27659203633931,
          128.98962376956743,
          96.06154962229908,
          112.86372980765286,
          125.02333443867974,
          108.53867764403452,
          78.20604526520879,
          77.04617390017262,
          126.83401799086877,
          140.1776302871927,
          114.53016120551469,
          102.65507539637146,
          102.29676357850765,
          93.891184101144,
          143.05271834441794,
          105.51757314022424,
          130.19147488514392,
          119.40230721601586,
          109.01283868045569,
          82.34202186950697,
          111.64958814044724,
          140.09841690466496,
          98.63224100744138,
          125.23996760184873,
          86.11260270508984,
          114.38549807229262,
          130.05548216144504,
          106.35119114308375,
          106.5346465043257,
          104.91606076637244,
          114.77924023142917,
          130.95558093712302,
          96.80280426930263,
          111.67730716702354,
          116.47352189711012,
          134.206776457636,
          105.53923143488595,
          134.58443471785142,
          112.01144888247646,
          112.58056049536503,
          89.52474268573548,
          103.68101475889969,
          123.20960222969649,
          87.91150172100755,
          121.36564593771746,
          100.4509248086643,
          109.76242758987684,
          104.18277888595598,
          123.34495123182924,
          127.01235747863848,
          135.97445292585812,
          99.41720232655749,
          90.71284349621848,
          100.42684913670038,
          120.51177193588832,
          123.21710784548323,
          100.20194285016451,
          90.2005114621253,
          97.71931093330127,
          112.44053316793848,
          120.04639986831071,
          101.38879371853082,
          121.15530679688831,
          119.25068929505827,
          124.57800251061877,
          99.3214472406147,
          98.96460822276123,
          95.54804325844142,
          116.8870655483946,
          119.84357309457053,
          121.27255215354285,
          81.91724583099703,
          101.65579908171091,
          114.0824594860766,
          123.97318629159868,
          114.91298496773591,
          121.11220700752644,
          97.9714242835997
         ]
        },
        {
         "line": {
          "color": "rgb(0, 0, 0)",
          "width": 1
         },
         "name": "Control group",
         "showlegend": false,
         "type": "box",
         "y": [
          73.35584003137875,
          72.59619570323669,
          105.93123781185527,
          71.40342282208564,
          132.9178465401845,
          88.10057156395942,
          121.28013872100105,
          104.00515388263601,
          115.6849350850162,
          88.8598174081421,
          121.83281488659125,
          93.83654763063926,
          92.4168509515501,
          128.55334252775467,
          88.09838532405132,
          99.37122184033994,
          139.399141059282,
          83.45000899766126,
          77.43436628018182,
          99.09711172350765,
          137.57711636125526,
          97.45124910804579,
          105.5351585034302,
          86.55523492150462,
          76.6648510656996,
          122.27056014944101,
          100.91188443822372,
          62.80319948693061,
          94.47832038417307,
          106.04751862000441,
          70.11612981022478,
          106.10438036352042,
          113.66946786777328,
          103.99881620572326,
          91.98975081737082,
          122.94628053844133,
          77.57478572088951,
          110.05916991766661,
          95.23976953915088,
          117.74740263538318,
          67.20991271052648,
          70.56297204377378,
          95.19511912401538,
          122.52461326308276,
          95.02786866912321,
          118.67205645194423,
          112.35448791259036,
          126.445975289519,
          105.73160084146457,
          108.2044852878328,
          131.10974627440203,
          130.64206579566752,
          78.51150562723646,
          109.41044995974389,
          108.29114325712193,
          138.18933670049194,
          85.54301711452678,
          90.02190602713007,
          120.2961828073343,
          105.13240870608021,
          108.83400602097066,
          105.58033106446806,
          67.21554460329978,
          73.27650499511427,
          120.1649931003032,
          109.76045456947662,
          106.7566579833674,
          89.9934560035641,
          114.60206727054543,
          89.82574184956908,
          98.00717960431516,
          105.54269750664906,
          92.85269776025733,
          105.94958896055338,
          109.53074773302656,
          100.42949138536622,
          92.21348989510591,
          124.39596321567956,
          83.23115852652602,
          61.4216087542378,
          106.07553376263408,
          100.61324922626115,
          92.87265343109375,
          118.89410684233727,
          101.61146767358944,
          54.38284045245319,
          63.060274465686426,
          105.47380194712785,
          110.65367572271172,
          89.15694874645246,
          97.70090042983732,
          96.65430849627482,
          98.49587115822342,
          111.30717846967329,
          105.43989293280025,
          127.16320134724612,
          111.85938760613948,
          100.12248044543772,
          141.8302094094312,
          95.83437530510426,
          136.42791968328584,
          76.88185855223605,
          105.14529286183352,
          141.60024432430734,
          117.95708307150761,
          115.13185809189685,
          137.6131774131551,
          149.5801054147843,
          97.66879135668563,
          106.35821172379664,
          99.28675779734887,
          109.99942472170237,
          96.9142406891039,
          85.06796340579064,
          88.79202352473447,
          90.7917179432885,
          87.94882723965915,
          159.20724123481534,
          105.61901959018603,
          86.88538490097875,
          103.15940590049013,
          76.77188833073703,
          99.41425449385343,
          122.177008571981,
          124.78838178110146,
          100.60909187950735,
          110.77978775161507,
          136.32666827865685,
          153.89119588513353,
          79.26163653031848,
          128.57010123450794,
          97.7940411489036,
          142.44839052019915,
          96.37052520341636,
          133.03684397468788,
          129.81689950660956,
          126.38222300415848,
          83.19848572798192,
          106.02955721391062,
          87.18820685545577,
          124.99183829990645,
          120.57437532978463,
          80.19945885834073,
          89.46981947848911,
          86.86524844923525,
          113.64653301253777,
          96.64805249659523,
          104.49152572789086,
          90.24597894880462,
          118.01808919066391,
          114.16683241379857,
          116.35923807818426,
          82.78694339162664,
          96.31511006697912,
          121.70654279137878,
          66.82953831558345,
          113.94947447432953,
          93.86598034863259,
          110.91235510668943,
          65.2091355757742,
          122.590670097812,
          110.98137475670903,
          102.41936268302004,
          105.76308358459501,
          118.70896154996052,
          111.95656773622363,
          88.3175339571006,
          122.70149292966775,
          83.63804633407437,
          105.43055359119764,
          136.43321994330498,
          122.67911148281216,
          101.63809484490854,
          90.20157627440634,
          132.87526352643582,
          106.224330407355,
          103.72313833155235,
          86.35796279765032,
          130.84236447405289,
          153.36281158367834,
          111.89715811476549,
          79.90652339143494,
          152.77827869118838,
          118.3724861777294,
          109.65595549516122,
          95.72991318193948,
          101.28067258373102,
          100.28338719618745,
          100.28739741407843,
          134.83066565336983,
          85.076551864373,
          76.21937159096987,
          91.59363777246237,
          116.0466913972449,
          105.05396092807592,
          82.29320262306578,
          106.2104268323159,
          62.59116733670788,
          61.154128470286835,
          102.76797524601668,
          95.42652901600192,
          96.62149275544346,
          69.34448612849066,
          145.4198845070132,
          118.04756173516819,
          87.84220043474625,
          142.49171251547068,
          136.858925736884,
          150.91927610808165,
          80.79736047677324,
          134.1602131534798,
          101.7860267360141,
          109.02186259253389,
          112.72353504228052,
          112.63659005384825,
          91.96161765691151,
          75.24678784151297,
          135.3343665382391,
          100.41762787798021,
          108.27840810740129,
          134.93058722852072,
          93.01499035301185,
          89.79661377255582,
          103.59485859678553,
          102.11474508916291,
          108.86195775321374,
          104.92668333377419,
          120.29410968809157,
          84.42897719781581,
          96.50806512629093,
          120.25841361458421,
          115.3024076150804,
          156.55800244834333,
          83.72901069608956,
          108.6742323786768,
          98.99545796018592,
          87.93662128641755,
          127.40876193104695,
          107.40623567030265,
          129.05175929081793,
          96.80182192646632,
          113.68396850683364,
          116.94741836517912,
          72.77196664210635,
          96.88500190305483,
          112.70172723255224,
          64.60695706675642,
          86.75406247716222,
          78.6156908485435,
          106.011415039911,
          155.51058425024394,
          116.5614524448961,
          82.46783696245248,
          101.49945937668024,
          103.21027825467738,
          115.03930636729166,
          112.15573918006794,
          87.4664567864969,
          74.59875600298113,
          115.89621777563501,
          122.85117724438064,
          92.57013759050854,
          103.42481480925841,
          101.8483815244196,
          108.7974524426228,
          121.38203882209275,
          91.52690168231219,
          128.63636968149567,
          74.7756238117532,
          76.24303851365552,
          139.14827505577875,
          92.78046026095474,
          91.1674306550581,
          94.0174648495487,
          119.13201880078918,
          87.14310672669305,
          129.18271616974624,
          115.79570953040562,
          95.51019291824092,
          112.63729687650063,
          100.77993304375285,
          97.84325934212652,
          124.20211642670917,
          143.59750828073828,
          102.65433865835253,
          84.12145722412562,
          151.09729506883644,
          119.80281517397887,
          99.37658395355912,
          126.94755138271609,
          122.50176422952272,
          88.6102009014311,
          117.5959655539159,
          117.76197166963651,
          102.4474246648817,
          116.45382049989462,
          111.82411116636213,
          147.11567452687845,
          69.58256083690549,
          73.64566528037412,
          125.81397905533575,
          97.20863588642825,
          154.57361430218066,
          87.96509181148883,
          108.50182721820951,
          80.17724066548968,
          117.28715136804618,
          167.51270297929395,
          118.08739800540323,
          146.90689055436243,
          125.95422909886878,
          91.78538367822726,
          65.42009025404076,
          135.2051000228171,
          116.4381942432489,
          100.32111917959944,
          77.32280682319589,
          119.78895949738889,
          133.17944052767285,
          147.36666920703584,
          116.60613424535553,
          82.85915571141666,
          101.72468920642967,
          115.13486580460216,
          104.42821400799657,
          94.88743726289387,
          104.97373222199063,
          89.7723511853605,
          95.24370854925348,
          109.42247734537702,
          104.69427747770196,
          73.61972734079498,
          97.63829704126698,
          167.1927070081392,
          92.53585241786719,
          124.55436863015629,
          108.0661358650097,
          85.36749492889491,
          97.79797906272951,
          134.90334266668742,
          108.63417896617442,
          89.64902116326884,
          98.1828477184991,
          112.44818994590372,
          111.11843894883569,
          133.79109197822098,
          110.72033886686025,
          147.0776580325823,
          91.92740536024502,
          120.5670564054652,
          91.34337362017854,
          105.93819813511057,
          90.11799572761203,
          111.21479109190248,
          99.35019672994956,
          136.7453846822023,
          84.72396425207722,
          132.47307316738588,
          118.15955895493649,
          116.11467577089209,
          96.39379812246709,
          106.86640342217045,
          99.20110592460625,
          93.26923503279063,
          107.4753508056864,
          91.91366201553832,
          123.75574312855437,
          121.78481506401832,
          91.65337435437247,
          111.83827375419035,
          85.0472077817511,
          87.128829075733,
          152.2939509869739,
          67.77151971315733,
          92.28057643078158,
          91.15389531584428,
          101.29482845907977,
          67.05158504214776,
          116.61434314930027,
          105.53830338811754,
          119.33015824069282,
          117.31132646284496,
          83.19133639539689,
          74.83421480616633,
          127.66758196096809,
          125.45868381097932,
          98.57294460087745,
          94.23082569630273,
          103.32354086477845,
          97.05055878467529,
          98.61418812864648,
          123.97068497334084,
          94.20603920582866,
          99.07327432600354,
          103.56066846619872,
          132.98102647910918,
          119.37611522284445,
          87.72657735895267,
          104.06561172768964,
          89.98330193087487,
          92.29690067680427,
          91.37959685552671,
          74.96828498519604,
          97.62149780963819,
          97.94001293460462,
          107.54768786401391,
          115.3506265882798,
          119.95673680613515,
          88.81244886029134,
          92.3462815714413,
          96.06690340844949,
          91.26159596626194,
          109.18620167700966,
          114.60616440884982,
          107.77034407801189,
          89.1979972451837,
          97.28299296058316,
          116.15332328095859,
          111.86694813030181,
          106.34687739135666,
          92.68389644205837,
          86.78793604864285,
          148.42086138418708,
          103.98890742684455,
          136.04704396360376,
          120.92311581564805,
          94.09661063998634,
          67.58593749414233,
          93.75269164563029,
          69.3281040136861,
          106.41268767337091,
          95.50925778950551,
          110.04611753103767,
          82.78150188441552,
          103.20391088878338,
          88.26901348407253,
          96.711858752552,
          122.06618480903366,
          117.2845322349194,
          100.228664790671,
          83.89424192696687,
          113.66870945488526,
          140.2823893940472,
          128.95292268024082,
          86.0226340595664,
          95.62696617241689,
          79.79617339129538,
          136.60570359850826,
          93.88614712334899,
          117.99630666789842,
          121.75936524598154,
          141.6001822762604,
          110.38612755507717,
          68.0248712088042,
          90.00389993041486,
          99.6453399135892,
          117.6253997974566,
          103.25714144733043,
          103.61501963156232,
          101.64354375466822,
          117.98997378061118,
          117.40870951103567,
          107.88816928043904,
          128.2009104426778,
          83.91255595758818,
          110.29555867392033,
          91.50770080403419,
          131.41745545967257,
          85.80189083316479,
          88.8513892374485,
          98.43554797205186,
          123.34175218371686,
          98.66463309886903,
          123.45626416208806,
          87.14046378482428,
          143.7008787461584,
          123.39722653184049,
          126.32455342483186,
          66.17943289056095,
          76.8394796965569,
          138.45012759360802,
          127.71551220380367,
          111.8864699881905,
          92.05811698857137,
          84.44148256471559,
          67.58431148818741,
          118.22200886832579,
          68.90733864862844,
          128.31071675970725,
          118.27715923109906,
          108.12155063557144,
          113.27227131634118,
          129.22232576198763,
          101.47757337829505,
          123.84875608059667,
          117.66871672249798,
          102.72239400490025,
          114.15993282996553,
          92.688787672224,
          112.70571072805403
         ]
        }
       ],
       "layout": {
        "autosize": true,
        "template": {
         "data": {
          "bar": [
           {
            "error_x": {
             "color": "#2a3f5f"
            },
            "error_y": {
             "color": "#2a3f5f"
            },
            "marker": {
             "line": {
              "color": "#E5ECF6",
              "width": 0.5
             }
            },
            "type": "bar"
           }
          ],
          "barpolar": [
           {
            "marker": {
             "line": {
              "color": "#E5ECF6",
              "width": 0.5
             }
            },
            "type": "barpolar"
           }
          ],
          "carpet": [
           {
            "aaxis": {
             "endlinecolor": "#2a3f5f",
             "gridcolor": "white",
             "linecolor": "white",
             "minorgridcolor": "white",
             "startlinecolor": "#2a3f5f"
            },
            "baxis": {
             "endlinecolor": "#2a3f5f",
             "gridcolor": "white",
             "linecolor": "white",
             "minorgridcolor": "white",
             "startlinecolor": "#2a3f5f"
            },
            "type": "carpet"
           }
          ],
          "choropleth": [
           {
            "colorbar": {
             "outlinewidth": 0,
             "ticks": ""
            },
            "type": "choropleth"
           }
          ],
          "contour": [
           {
            "colorbar": {
             "outlinewidth": 0,
             "ticks": ""
            },
            "colorscale": [
             [
              0,
              "#0d0887"
             ],
             [
              0.1111111111111111,
              "#46039f"
             ],
             [
              0.2222222222222222,
              "#7201a8"
             ],
             [
              0.3333333333333333,
              "#9c179e"
             ],
             [
              0.4444444444444444,
              "#bd3786"
             ],
             [
              0.5555555555555556,
              "#d8576b"
             ],
             [
              0.6666666666666666,
              "#ed7953"
             ],
             [
              0.7777777777777778,
              "#fb9f3a"
             ],
             [
              0.8888888888888888,
              "#fdca26"
             ],
             [
              1,
              "#f0f921"
             ]
            ],
            "type": "contour"
           }
          ],
          "contourcarpet": [
           {
            "colorbar": {
             "outlinewidth": 0,
             "ticks": ""
            },
            "type": "contourcarpet"
           }
          ],
          "heatmap": [
           {
            "colorbar": {
             "outlinewidth": 0,
             "ticks": ""
            },
            "colorscale": [
             [
              0,
              "#0d0887"
             ],
             [
              0.1111111111111111,
              "#46039f"
             ],
             [
              0.2222222222222222,
              "#7201a8"
             ],
             [
              0.3333333333333333,
              "#9c179e"
             ],
             [
              0.4444444444444444,
              "#bd3786"
             ],
             [
              0.5555555555555556,
              "#d8576b"
             ],
             [
              0.6666666666666666,
              "#ed7953"
             ],
             [
              0.7777777777777778,
              "#fb9f3a"
             ],
             [
              0.8888888888888888,
              "#fdca26"
             ],
             [
              1,
              "#f0f921"
             ]
            ],
            "type": "heatmap"
           }
          ],
          "heatmapgl": [
           {
            "colorbar": {
             "outlinewidth": 0,
             "ticks": ""
            },
            "colorscale": [
             [
              0,
              "#0d0887"
             ],
             [
              0.1111111111111111,
              "#46039f"
             ],
             [
              0.2222222222222222,
              "#7201a8"
             ],
             [
              0.3333333333333333,
              "#9c179e"
             ],
             [
              0.4444444444444444,
              "#bd3786"
             ],
             [
              0.5555555555555556,
              "#d8576b"
             ],
             [
              0.6666666666666666,
              "#ed7953"
             ],
             [
              0.7777777777777778,
              "#fb9f3a"
             ],
             [
              0.8888888888888888,
              "#fdca26"
             ],
             [
              1,
              "#f0f921"
             ]
            ],
            "type": "heatmapgl"
           }
          ],
          "histogram": [
           {
            "marker": {
             "colorbar": {
              "outlinewidth": 0,
              "ticks": ""
             }
            },
            "type": "histogram"
           }
          ],
          "histogram2d": [
           {
            "colorbar": {
             "outlinewidth": 0,
             "ticks": ""
            },
            "colorscale": [
             [
              0,
              "#0d0887"
             ],
             [
              0.1111111111111111,
              "#46039f"
             ],
             [
              0.2222222222222222,
              "#7201a8"
             ],
             [
              0.3333333333333333,
              "#9c179e"
             ],
             [
              0.4444444444444444,
              "#bd3786"
             ],
             [
              0.5555555555555556,
              "#d8576b"
             ],
             [
              0.6666666666666666,
              "#ed7953"
             ],
             [
              0.7777777777777778,
              "#fb9f3a"
             ],
             [
              0.8888888888888888,
              "#fdca26"
             ],
             [
              1,
              "#f0f921"
             ]
            ],
            "type": "histogram2d"
           }
          ],
          "histogram2dcontour": [
           {
            "colorbar": {
             "outlinewidth": 0,
             "ticks": ""
            },
            "colorscale": [
             [
              0,
              "#0d0887"
             ],
             [
              0.1111111111111111,
              "#46039f"
             ],
             [
              0.2222222222222222,
              "#7201a8"
             ],
             [
              0.3333333333333333,
              "#9c179e"
             ],
             [
              0.4444444444444444,
              "#bd3786"
             ],
             [
              0.5555555555555556,
              "#d8576b"
             ],
             [
              0.6666666666666666,
              "#ed7953"
             ],
             [
              0.7777777777777778,
              "#fb9f3a"
             ],
             [
              0.8888888888888888,
              "#fdca26"
             ],
             [
              1,
              "#f0f921"
             ]
            ],
            "type": "histogram2dcontour"
           }
          ],
          "mesh3d": [
           {
            "colorbar": {
             "outlinewidth": 0,
             "ticks": ""
            },
            "type": "mesh3d"
           }
          ],
          "parcoords": [
           {
            "line": {
             "colorbar": {
              "outlinewidth": 0,
              "ticks": ""
             }
            },
            "type": "parcoords"
           }
          ],
          "pie": [
           {
            "automargin": true,
            "type": "pie"
           }
          ],
          "scatter": [
           {
            "marker": {
             "colorbar": {
              "outlinewidth": 0,
              "ticks": ""
             }
            },
            "type": "scatter"
           }
          ],
          "scatter3d": [
           {
            "line": {
             "colorbar": {
              "outlinewidth": 0,
              "ticks": ""
             }
            },
            "marker": {
             "colorbar": {
              "outlinewidth": 0,
              "ticks": ""
             }
            },
            "type": "scatter3d"
           }
          ],
          "scattercarpet": [
           {
            "marker": {
             "colorbar": {
              "outlinewidth": 0,
              "ticks": ""
             }
            },
            "type": "scattercarpet"
           }
          ],
          "scattergeo": [
           {
            "marker": {
             "colorbar": {
              "outlinewidth": 0,
              "ticks": ""
             }
            },
            "type": "scattergeo"
           }
          ],
          "scattergl": [
           {
            "marker": {
             "colorbar": {
              "outlinewidth": 0,
              "ticks": ""
             }
            },
            "type": "scattergl"
           }
          ],
          "scattermapbox": [
           {
            "marker": {
             "colorbar": {
              "outlinewidth": 0,
              "ticks": ""
             }
            },
            "type": "scattermapbox"
           }
          ],
          "scatterpolar": [
           {
            "marker": {
             "colorbar": {
              "outlinewidth": 0,
              "ticks": ""
             }
            },
            "type": "scatterpolar"
           }
          ],
          "scatterpolargl": [
           {
            "marker": {
             "colorbar": {
              "outlinewidth": 0,
              "ticks": ""
             }
            },
            "type": "scatterpolargl"
           }
          ],
          "scatterternary": [
           {
            "marker": {
             "colorbar": {
              "outlinewidth": 0,
              "ticks": ""
             }
            },
            "type": "scatterternary"
           }
          ],
          "surface": [
           {
            "colorbar": {
             "outlinewidth": 0,
             "ticks": ""
            },
            "colorscale": [
             [
              0,
              "#0d0887"
             ],
             [
              0.1111111111111111,
              "#46039f"
             ],
             [
              0.2222222222222222,
              "#7201a8"
             ],
             [
              0.3333333333333333,
              "#9c179e"
             ],
             [
              0.4444444444444444,
              "#bd3786"
             ],
             [
              0.5555555555555556,
              "#d8576b"
             ],
             [
              0.6666666666666666,
              "#ed7953"
             ],
             [
              0.7777777777777778,
              "#fb9f3a"
             ],
             [
              0.8888888888888888,
              "#fdca26"
             ],
             [
              1,
              "#f0f921"
             ]
            ],
            "type": "surface"
           }
          ],
          "table": [
           {
            "cells": {
             "fill": {
              "color": "#EBF0F8"
             },
             "line": {
              "color": "white"
             }
            },
            "header": {
             "fill": {
              "color": "#C8D4E3"
             },
             "line": {
              "color": "white"
             }
            },
            "type": "table"
           }
          ]
         },
         "layout": {
          "annotationdefaults": {
           "arrowcolor": "#2a3f5f",
           "arrowhead": 0,
           "arrowwidth": 1
          },
          "coloraxis": {
           "colorbar": {
            "outlinewidth": 0,
            "ticks": ""
           }
          },
          "colorscale": {
           "diverging": [
            [
             0,
             "#8e0152"
            ],
            [
             0.1,
             "#c51b7d"
            ],
            [
             0.2,
             "#de77ae"
            ],
            [
             0.3,
             "#f1b6da"
            ],
            [
             0.4,
             "#fde0ef"
            ],
            [
             0.5,
             "#f7f7f7"
            ],
            [
             0.6,
             "#e6f5d0"
            ],
            [
             0.7,
             "#b8e186"
            ],
            [
             0.8,
             "#7fbc41"
            ],
            [
             0.9,
             "#4d9221"
            ],
            [
             1,
             "#276419"
            ]
           ],
           "sequential": [
            [
             0,
             "#0d0887"
            ],
            [
             0.1111111111111111,
             "#46039f"
            ],
            [
             0.2222222222222222,
             "#7201a8"
            ],
            [
             0.3333333333333333,
             "#9c179e"
            ],
            [
             0.4444444444444444,
             "#bd3786"
            ],
            [
             0.5555555555555556,
             "#d8576b"
            ],
            [
             0.6666666666666666,
             "#ed7953"
            ],
            [
             0.7777777777777778,
             "#fb9f3a"
            ],
            [
             0.8888888888888888,
             "#fdca26"
            ],
            [
             1,
             "#f0f921"
            ]
           ],
           "sequentialminus": [
            [
             0,
             "#0d0887"
            ],
            [
             0.1111111111111111,
             "#46039f"
            ],
            [
             0.2222222222222222,
             "#7201a8"
            ],
            [
             0.3333333333333333,
             "#9c179e"
            ],
            [
             0.4444444444444444,
             "#bd3786"
            ],
            [
             0.5555555555555556,
             "#d8576b"
            ],
            [
             0.6666666666666666,
             "#ed7953"
            ],
            [
             0.7777777777777778,
             "#fb9f3a"
            ],
            [
             0.8888888888888888,
             "#fdca26"
            ],
            [
             1,
             "#f0f921"
            ]
           ]
          },
          "colorway": [
           "#636efa",
           "#EF553B",
           "#00cc96",
           "#ab63fa",
           "#FFA15A",
           "#19d3f3",
           "#FF6692",
           "#B6E880",
           "#FF97FF",
           "#FECB52"
          ],
          "font": {
           "color": "#2a3f5f"
          },
          "geo": {
           "bgcolor": "white",
           "lakecolor": "white",
           "landcolor": "#E5ECF6",
           "showlakes": true,
           "showland": true,
           "subunitcolor": "white"
          },
          "hoverlabel": {
           "align": "left"
          },
          "hovermode": "closest",
          "mapbox": {
           "style": "light"
          },
          "paper_bgcolor": "white",
          "plot_bgcolor": "#E5ECF6",
          "polar": {
           "angularaxis": {
            "gridcolor": "white",
            "linecolor": "white",
            "ticks": ""
           },
           "bgcolor": "#E5ECF6",
           "radialaxis": {
            "gridcolor": "white",
            "linecolor": "white",
            "ticks": ""
           }
          },
          "scene": {
           "xaxis": {
            "backgroundcolor": "#E5ECF6",
            "gridcolor": "white",
            "gridwidth": 2,
            "linecolor": "white",
            "showbackground": true,
            "ticks": "",
            "zerolinecolor": "white"
           },
           "yaxis": {
            "backgroundcolor": "#E5ECF6",
            "gridcolor": "white",
            "gridwidth": 2,
            "linecolor": "white",
            "showbackground": true,
            "ticks": "",
            "zerolinecolor": "white"
           },
           "zaxis": {
            "backgroundcolor": "#E5ECF6",
            "gridcolor": "white",
            "gridwidth": 2,
            "linecolor": "white",
            "showbackground": true,
            "ticks": "",
            "zerolinecolor": "white"
           }
          },
          "shapedefaults": {
           "line": {
            "color": "#2a3f5f"
           }
          },
          "ternary": {
           "aaxis": {
            "gridcolor": "white",
            "linecolor": "white",
            "ticks": ""
           },
           "baxis": {
            "gridcolor": "white",
            "linecolor": "white",
            "ticks": ""
           },
           "bgcolor": "#E5ECF6",
           "caxis": {
            "gridcolor": "white",
            "linecolor": "white",
            "ticks": ""
           }
          },
          "title": {
           "x": 0.05
          },
          "xaxis": {
           "automargin": true,
           "gridcolor": "white",
           "linecolor": "white",
           "ticks": "",
           "title": {
            "standoff": 15
           },
           "zerolinecolor": "white",
           "zerolinewidth": 2
          },
          "yaxis": {
           "automargin": true,
           "gridcolor": "white",
           "linecolor": "white",
           "ticks": "",
           "title": {
            "standoff": 15
           },
           "zerolinecolor": "white",
           "zerolinewidth": 2
          }
         }
        },
        "xaxis": {
         "autorange": true,
         "range": [
          -0.5,
          2.5
         ],
         "type": "category"
        },
        "yaxis": {
         "autorange": true,
         "range": [
          48.09784808985093,
          173.7976953418962
         ],
         "type": "linear"
        }
       }
      },
      "image/png": "[encoded data removed]"
     },
     "metadata": {},
     "output_type": "display_data"
    }
   ],
   "source": [
    "trace = []\n",
    "vals = [group_a, group_b, control_group]\n",
    "groups = [\"Group A\", \"Group B\", \"Control group\"]\n",
    "\n",
    "for i in range(0, len(groups)):\n",
    "        trace.append(go.Box(y = vals[i],\n",
    "                           name = groups[i],\n",
    "                           line = dict(color = \"rgb(0, 0, 0)\",\n",
    "                                      width = 1),\n",
    "                           showlegend = False))\n",
    "        \n",
    "data = trace\n",
    "\n",
    "# iplot({\"data\":data}) # Old way!!\n",
    "pio.show({\"data\":data})"
   ]
  },
  {
   "cell_type": "markdown",
   "metadata": {},
   "source": [
    "## Fill color"
   ]
  },
  {
   "cell_type": "code",
   "execution_count": 14,
   "metadata": {},
   "outputs": [
    {
     "data": {
      "application/vnd.plotly.v1+json": {
       "config": {
        "plotlyServerURL": "https://plot.ly"
       },
       "data": [
        {
         "fillcolor": "rgb(50, 50, 50)",
         "line": {
          "color": "rgb(0, 0, 0)",
          "width": 1
         },
         "marker": {
          "outliercolor": "rgb(255, 100, 0)",
          "size": 10,
          "symbol": "circle-open"
         },
         "name": "Group A",
         "showlegend": false,
         "type": "box",
         "y": [
          104.71435163732492,
          88.09024305293535,
          114.32706968426098,
          96.87348103908288,
          92.79411266634989,
          108.87162940307738,
          108.59588413717417,
          93.63476495582651,
          100.1569637211443,
          77.57315045814595,
          111.50035724719818,
          109.91946022342678,
          109.5332412811243,
          79.7874517980503,
          96.65922634191904,
          100.02118364683487,
          104.05453411570191,
          102.89091940980035,
          113.21158192129386,
          84.5309444677076,
          97.97353675370817,
          93.44030655861066,
          101.93421376470359,
          105.53438910956741,
          113.18151554180136,
          95.306947152941,
          106.75554085122381,
          81.82972773409803,
          98.16891459821001,
          110.58969187571151,
          96.02159771800008,
          103.37437653613972,
          110.47578572892722,
          110.45938255627665,
          108.63717291684839,
          98.77908425152326,
          101.24712953768216,
          96.77205194391705,
          108.41674712996142,
          123.90960515463033,
          100.76199587837236,
          94.33554069535043,
          100.36141936684072,
          79.25022399309971,
          102.47792199748547,
          91.02843215560301,
          98.63205166738652,
          100.1828919134922,
          107.55413982398136,
          102.15268580969443,
          108.4100879493139,
          85.54189922955693,
          85.98026718499156,
          98.99081800051086,
          94.51757550813144,
          98.55380491630616,
          103.54020332199238,
          99.64486974721859,
          105.65738306062595,
          115.45658804625558,
          90.25763666232685,
          99.29655122895898,
          103.07968855216035,
          97.9150123689412,
          110.338007325555,
          75.99546366187704,
          120.306036208388,
          88.57368710977237,
          102.11883386777701,
          107.04720624317109,
          92.14564788236802,
          104.62059737162049,
          107.04228225462174,
          105.23507967893809,
          90.73745686469775,
          120.07842950778,
          102.26962541870896,
          88.47340890749048,
          106.3197944580913,
          100.39512686693367,
          104.64392325050896,
          64.36483339375265,
          113.21105615470206,
          101.52630552204535,
          101.64529542932398,
          95.69904309123513,
          107.67368735752412,
          109.84919841909897,
          102.70835848826803,
          113.91986193446408,
          100.79842313008629,
          96.00035419303478,
          89.72149441318095,
          94.15281788739212,
          108.16593926547841,
          99.18052948173334,
          96.55233985745356,
          105.28288145297394,
          89.31011216519867,
          94.88118690873185,
          102.91205359743063,
          105.66533696353572,
          105.03591759111202,
          102.85295684781858,
          104.8428811274975,
          113.63481512426145,
          92.18894716374608,
          95.31982333662515,
          112.24574355126174,
          87.18891724855958,
          108.75475504274324,
          82.89284675970471,
          95.49234896863726,
          107.49163805919065,
          97.96067133898748,
          98.17824588334265,
          106.80656004381457,
          81.81501009608385,
          100.47071635325712,
          103.94844209327205,
          97.51567945619153,
          93.82293352002984,
          93.17116003550666,
          104.36257604340916,
          82.96987225886762,
          103.93710599138666,
          95.20675996424502,
          97.0098370703392,
          106.94103287678765,
          106.78629673709857,
          102.39555995003897,
          101.5122662929445,
          108.16127233360041,
          118.935344675962,
          106.39632763193703,
          90.37971168094809,
          79.14734357879891,
          119.30246767465576,
          82.64651125529608,
          112.10383704904514,
          107.97435419427873,
          96.20189215952621,
          107.025622240016,
          91.49653728344884,
          111.76812450104929,
          94.75663897367544,
          107.00907730915604,
          109.84188070722415,
          98.7827159133318,
          123.65768628840038,
          104.96142926247595,
          107.96594866664952,
          95.25979109874315,
          99.4330428350907,
          113.57797258107058,
          91.95166275833296,
          78.7637975090707,
          96.66497559566753,
          91.13280647514623,
          103.34197930899009,
          105.3678382490275,
          92.56169632063799,
          96.7979611775912,
          90.83801138733459,
          91.4033170001826,
          102.25985486733755,
          106.28775826538295,
          101.86494348773074,
          109.52478345109122,
          109.88137582593309,
          99.27391686037325,
          94.49397076436581,
          90.61847385906896,
          87.60928437405207,
          101.39683274031295,
          97.76981018117525,
          121.23691888593552,
          101.22273434258828,
          85.90568260077231,
          114.22985952772243,
          78.52144962356391,
          86.52467486542245,
          103.63564556806648,
          99.85247888195406,
          112.7239507854621,
          85.50433391136613,
          88.0447625833303,
          94.08137026852751,
          95.8549515646781,
          85.74205266561978,
          102.09394787535923,
          94.07113996161074,
          85.26883586534353,
          91.03419384698128,
          111.04351569860313,
          95.68450484483955,
          98.38863091755941,
          108.89157494072873,
          102.88376847715266,
          89.48461062429962,
          96.80438600159769,
          93.80006912278797,
          101.56998376446688,
          94.2854464892021,
          110.57633183204614,
          92.08511190522114,
          94.75372654071529,
          100.71878039370368,
          119.10759427277182,
          107.87964683137615,
          105.13082144466992,
          94.53583719726406,
          110.43944655495324,
          121.0778515279337,
          114.59927481585294,
          110.1540545781252,
          107.49184600924198,
          93.24478521563312,
          104.4026639166873,
          106.88971856326943,
          97.23353872723013,
          119.2453332001529,
          104.11204020707224,
          108.90764956173118,
          102.26363227251707,
          79.21382106297824,
          96.12113768032825,
          99.12893030036001,
          111.26385822137273,
          102.47111716157737,
          101.21171805331541,
          102.98983935542047,
          98.42900863153348,
          92.59530977219282,
          87.52347076948767,
          102.49455215152449,
          105.81073320620607,
          127.63844079849567,
          103.99325436979576,
          106.68488169205806,
          97.24226271343694,
          105.00482900154373,
          108.63064860590625,
          89.48372140534788,
          86.07945922506913,
          111.53922240612225,
          111.81944105999231,
          103.91371448421931,
          91.1895290779843,
          102.9507995978624,
          118.63801062132504,
          82.87726075528744,
          85.92915454256774,
          101.26781186326971,
          100.03759847795496,
          87.31005743926607,
          91.6115707857971,
          105.5392125143972,
          94.95957281918037,
          92.11559815482121,
          115.29400674483931,
          102.0545485392598,
          103.1301312898086,
          108.665207121683,
          102.99070529594377,
          110.76540643846121,
          103.63177347544452,
          118.93679825551843,
          95.14247255717191,
          103.87674455777598,
          100.23557610392554,
          93.3977049795572,
          96.81315070421985,
          92.77337806325627,
          101.77386719384599,
          109.83512729343164,
          100.23504585885395,
          105.53776977863366,
          103.53769293996639,
          97.24406366232317,
          95.09516408521318,
          96.2556339980722,
          76.02496023861184,
          115.41029983277939,
          100.63084538957305,
          97.15559316073707,
          87.3439946239879,
          117.8797963245575,
          96.45491291930625,
          98.95238876932896,
          103.86253689189053,
          108.22775373765373,
          93.16210177568992,
          110.57203331214129,
          100.31879973569032,
          113.43182457528941,
          99.49460310451228,
          96.35990043692891,
          84.4665766056894,
          96.80702198179839,
          105.27046450954964,
          107.11112399364823,
          97.82454519509524,
          126.37791210703864,
          82.57862369405035,
          99.05565192258555,
          114.31183752254563,
          105.92758446550668,
          101.70296895326288,
          82.48294052207976,
          102.88581322343208,
          94.5742048309322,
          101.71602381985996,
          109.82817829243105,
          99.74651097937232,
          97.12447550715892,
          109.24442867343366,
          99.38753700133685,
          92.68966657414794,
          89.77226295304857,
          109.95992970245753,
          109.55557932627455,
          107.13840771195044,
          101.33370962194122,
          91.92961691527186,
          96.57989218120785,
          119.08779658091186,
          101.55923261453127,
          107.59652532092963,
          95.76993771580752,
          101.81672745323682,
          102.74492570746403,
          100.67912357380757,
          99.6301718512408,
          98.29198969302378,
          102.66973231539868,
          113.82997248852925,
          99.77539126488574,
          101.31395367225915,
          104.34437185102232,
          102.64534068316999,
          105.65658344273825,
          105.85084279501724,
          98.25701847247913,
          89.2863132854491,
          99.51539497447617,
          91.54709610433757,
          104.1510055838158,
          104.25530591397859,
          90.19275642499414,
          95.72173890027979,
          114.98569955138537,
          96.39843429130973,
          95.41759610662507,
          86.62031598049029,
          99.58613460385128,
          108.21047956107915,
          120.97800780771692,
          112.82933246874524,
          102.70337925739372,
          110.03140362044931,
          110.78673551320406,
          103.40752685129765,
          98.01925040376432,
          124.81458422875653,
          113.85254876189207,
          88.45399034610331,
          87.31930949622918,
          106.07862186209479,
          89.19903516842409,
          93.88718325204238,
          101.02035112292332,
          85.63426063227881,
          102.10717052505655,
          91.03095829302488,
          82.75606921008168,
          117.92339196646942,
          86.87287293407769,
          105.55877426385625,
          93.1811869450887,
          115.72742745755804,
          98.95348425152234,
          118.50397801609901,
          96.666495732506,
          101.93464233819873,
          95.03255062135091,
          110.32723215735861,
          82.60196202477441,
          92.44137824377091,
          91.18888267352065,
          103.93892262912675,
          90.49974465203717,
          103.32506622162249,
          105.28944408856047,
          88.79479006007276,
          100.48264206925657,
          100.61988450521777,
          89.72484326782133,
          97.61664634532674,
          119.32178169581346,
          97.73367706323164,
          90.76169279823077,
          103.5583899747282,
          87.29936521613712,
          98.04527587303241,
          95.36580600782537,
          109.8941484728585,
          113.88647381631716,
          110.87713736524141,
          104.38801263034391,
          90.38397759118764,
          112.45609937147846,
          105.02925517670631,
          93.6860122162148,
          92.9574795291174,
          97.59517463241657,
          105.85599310929858,
          103.52800560108406,
          81.84442307567915,
          90.89876154304858,
          92.5147204666094,
          98.91875073519736,
          102.74778837052168,
          102.37349764509425,
          97.40156305636611,
          96.875578228436,
          104.48509742512407,
          99.40468035295599,
          95.29985186602214,
          103.49566771627666,
          89.72531152826387,
          96.93361516130389,
          114.06176139494268,
          87.50303227205647,
          84.39851111114767,
          115.57397650649023,
          94.06643605023513,
          98.297114876705,
          116.72626808454706,
          94.59200192350124,
          93.15871671233415,
          105.99962085981993,
          97.82800874855361,
          103.31526518352153,
          96.16635419849172,
          92.18183911926889,
          102.66237406827837,
          102.79428024532737,
          87.8037430482623,
          92.76051083244495,
          82.65221692456066,
          102.71660784374025,
          100.9911201694909,
          96.36910093562742,
          94.1177327171148,
          100.25941713524132,
          94.27697649254841,
          111.05586962797162,
          87.91984407170352,
          86.60298960025085,
          120.75185406731782,
          85.1059029866899,
          88.49046934374036,
          104.19059824673965,
          104.13405276424496,
          107.17576932588283,
          102.61724839679904,
          97.57228728899638,
          94.98731867248333,
          93.01871021031145,
          113.84580160839074,
          97.13574586064244,
          105.00069585028226,
          119.51103236540061,
          97.21632538406992,
          100.3678625863071,
          104.45852506261001,
          85.89649242319331,
          104.50001300695475,
          105.15479530793898,
          88.45916059617397,
          86.19826604928161,
          95.04166994786837,
          95.86720927581129,
          82.80683332072451,
          99.70439097246916,
          92.33960116477171,
          100.99882076502627,
          92.86976043370255,
          77.73882379022413,
          107.25714153121955,
          109.16976283069235,
          94.36109759588744,
          84.7782044317683,
          99.85721211372437,
          97.53279193181116,
          98.34670523482721,
          101.19113982598341,
          79.25019513829952,
          89.97244782983083
         ]
        },
        {
         "fillcolor": "rgb(150, 150, 150)",
         "line": {
          "color": "rgb(0, 0, 0)",
          "width": 1
         },
         "marker": {
          "outliercolor": "rgb(255, 100, 0)",
          "size": 10,
          "symbol": "circle-open"
         },
         "name": "Group B",
         "showlegend": false,
         "type": "box",
         "y": [
          117.85319027095699,
          122.32275963498384,
          107.76887226000706,
          109.31944382061062,
          99.43260611705358,
          135.9547327925951,
          113.4339088325608,
          126.39111585936259,
          104.6964271000786,
          109.54011702594823,
          106.99742224068986,
          102.78034640964088,
          135.67138995517365,
          131.5308062937893,
          92.48719500138492,
          110.61265137149003,
          115.43027293505668,
          118.58888286564869,
          126.56690355099724,
          103.61491960219111,
          121.33533264273035,
          110.15422185732992,
          113.36878656147344,
          92.97937660147565,
          95.72718588152665,
          108.09304315886351,
          110.43416747601685,
          141.56116049943958,
          133.51271215195575,
          100.6365555081369,
          103.99033696910035,
          92.94407692686313,
          96.4526144450468,
          93.54082906371453,
          108.9303618555335,
          90.2099137002372,
          101.59860581184392,
          112.47431835550046,
          100.52621318113322,
          96.99395330655847,
          94.96155993934003,
          128.1102230486851,
          135.67980519478988,
          100.63115781047432,
          106.81781294021062,
          92.09653726588482,
          119.86378838649767,
          113.00119822328591,
          126.36889788832627,
          102.66466912589436,
          130.52330393338937,
          123.37437676290213,
          122.56349318675205,
          117.7121707008387,
          109.24925461385249,
          121.1592926924734,
          84.1392469469281,
          111.34852359909092,
          114.841093428278,
          104.34275861582665,
          109.99668652547601,
          125.75170540668832,
          107.46951331673728,
          121.96814744631745,
          118.28786469736997,
          92.70360107293729,
          134.62328283543206,
          88.41533248288636,
          140.4160927072628,
          89.52024018239504,
          111.08223293588428,
          119.19727517636966,
          132.33749639441368,
          113.31944862551931,
          87.03661837420078,
          122.02832321324726,
          103.63299930704991,
          126.78282458203796,
          133.5432209687427,
          131.41597656601454,
          89.42243190324959,
          106.00373161036705,
          121.68821847821363,
          108.45778557972478,
          101.20303067362418,
          113.60378981892575,
          95.02916511842692,
          112.86754869234807,
          95.70795467628636,
          132.0649486925751,
          120.78357382314347,
          107.50160634084637,
          121.4691694503233,
          92.15834793728209,
          101.97714104419603,
          109.67603230030025,
          93.42212612780321,
          94.16080492212596,
          125.32033488485084,
          135.6448414246981,
          110.44342927906426,
          111.85763024657356,
          114.34145085054463,
          105.4776163408018,
          116.21652516919717,
          124.24786851706673,
          117.82772813164284,
          80.46105688922242,
          117.54215041636677,
          104.6836634099936,
          103.29514277282908,
          93.24532421096345,
          98.17600426128355,
          125.83628245948795,
          90.4318818365452,
          118.09602856014193,
          115.20486875560054,
          123.11289339995824,
          86.37230956068865,
          107.60024515737574,
          100.35000145749555,
          99.26943670053058,
          135.49188395932444,
          129.2425583703005,
          103.21163500522688,
          115.90700190673742,
          116.38610915878694,
          108.04928851712607,
          104.09400250727657,
          100.3841033883777,
          112.57946382073179,
          97.39776471059982,
          122.97497462787435,
          106.92708001877807,
          108.39389998501193,
          106.36839972402922,
          96.46275837594276,
          121.96806329479446,
          105.66356318514278,
          120.15466418998633,
          104.85223949104194,
          117.30815201911767,
          121.48498037244217,
          76.99153346383821,
          71.05906404831237,
          117.1351225717477,
          86.0767153215165,
          93.3488490250094,
          95.02390256722362,
          75.86290096180007,
          133.29210811799805,
          92.76051846988526,
          112.8279594289646,
          124.83445674630472,
          86.20795545060568,
          102.91428686684354,
          107.16730478186386,
          113.16690620492606,
          134.17583438683846,
          118.50095662719845,
          100.38234119801922,
          133.0816091174001,
          114.6449597884243,
          103.26726979471958,
          136.53650855468842,
          114.02300731945657,
          88.0666240711215,
          137.76215253458304,
          135.51154258506443,
          115.3008658392247,
          115.04733531653288,
          125.85658151663418,
          127.98018083701501,
          71.08018595507176,
          99.27881938765113,
          122.06519062458482,
          127.87483018807785,
          108.08951923825497,
          93.8753710101696,
          131.72403687775966,
          105.82468580426543,
          94.4477200408859,
          113.02177199573381,
          117.52633698486093,
          134.20002383017192,
          81.53434057624247,
          129.48623860664418,
          118.29776638958454,
          106.99456555990008,
          118.18504992639575,
          113.93429928459754,
          113.28605314520578,
          123.98529398402722,
          136.14578641821274,
          108.12944480345226,
          124.31047500702722,
          120.68076423837336,
          101.30995014176462,
          98.57270816725912,
          134.92253193115647,
          148.21537553686574,
          109.4163151395633,
          104.65386189142622,
          82.06147019848706,
          149.77998677201316,
          107.95654444465498,
          111.55624009956449,
          111.73148338526984,
          113.88005696684058,
          132.31614997942185,
          131.81515214585949,
          120.56462447252147,
          131.99527063785007,
          115.30433273805144,
          93.71714804648087,
          115.44814641504453,
          82.80084301392009,
          107.03133860426249,
          116.49311888073917,
          101.89151318438465,
          114.43445982471343,
          141.19766355250553,
          82.36350620058431,
          102.33250975069143,
          101.2859730740789,
          125.94104699997959,
          110.2708266448442,
          110.34197599534058,
          84.80312772627596,
          122.18634501023757,
          100.61166940300848,
          91.2459377229691,
          119.22703187530927,
          108.17908083479307,
          90.78657092993666,
          114.8691470888788,
          120.0585408592618,
          112.23741984715063,
          114.90595705824346,
          104.70557464787268,
          96.41708539334493,
          135.14278138364693,
          120.21494011590156,
          99.44423584109889,
          111.53119623064836,
          127.9258420952672,
          105.83060921327586,
          109.2175206255524,
          115.3052540187472,
          103.87533856834169,
          82.84355498307218,
          96.45037906579839,
          125.8106763678397,
          95.28684684906526,
          115.28118337106568,
          119.98972760465905,
          125.98252252932232,
          106.57349580345947,
          115.46725856368741,
          87.2773001417685,
          108.87108069144162,
          105.54412877363936,
          99.08878427340107,
          106.31186989421631,
          108.08076586820552,
          104.46034070135808,
          70.65493573283703,
          141.73776093386851,
          120.28342378218716,
          107.63834022932375,
          130.7193165111951,
          111.02639838112823,
          114.6880443872508,
          116.81379777725543,
          98.17292187047224,
          109.0123949853326,
          88.72280230835463,
          107.90369989683619,
          101.66967715680352,
          102.47123331721978,
          120.39677782255649,
          106.31959254724752,
          90.95852211371218,
          106.06514217223894,
          145.06397723292585,
          98.27423843485954,
          111.20149618307376,
          89.90883318852039,
          116.2017644573775,
          113.06677951022982,
          117.1767994179455,
          110.44371456462855,
          107.26337023401592,
          110.26200012702215,
          140.81434295004217,
          72.02175029914955,
          116.3572202605738,
          95.66474726614047,
          107.99488684517331,
          93.83895012935808,
          128.74853766036736,
          118.56723130194655,
          114.45572643736183,
          123.0779782625244,
          107.54433205138655,
          120.34284798181902,
          139.7688485478483,
          108.22577172358982,
          124.32694878384909,
          92.29170670703344,
          132.05710908944658,
          109.67663174565459,
          120.66292206604217,
          97.82247421887914,
          76.23180402065233,
          93.10849721012241,
          105.38199881124658,
          95.57173196540266,
          120.06238938978828,
          110.95075139887345,
          100.1480617930365,
          105.6745522632092,
          106.70309756383226,
          113.00371941210388,
          97.31749638454002,
          149.64384027058568,
          104.99382844004649,
          107.81737459741238,
          123.40053061522536,
          129.32832107680971,
          114.96797282017225,
          108.8694815284052,
          109.08278516715644,
          137.84085299672853,
          98.70438076315807,
          104.89661195353091,
          101.73505941040548,
          100.93944010621685,
          141.83884939405195,
          110.30458281096327,
          97.00609918328996,
          104.66167420515748,
          95.68486533846539,
          133.8719617114575,
          110.0088100705493,
          103.03952402273042,
          87.14433820536051,
          112.32305548022107,
          97.39025984028638,
          110.16028673766503,
          101.84389414316738,
          120.13183015493757,
          95.39986680153402,
          122.27522153519608,
          108.25974071819311,
          99.63712678463312,
          125.58433213555838,
          124.71907772042883,
          119.24931205346238,
          98.18769451497269,
          110.31285105131698,
          118.99009857554556,
          104.32707105989981,
          109.16796849680836,
          139.7523208174074,
          111.16832042041811,
          116.06876621673118,
          97.26485735139778,
          108.82865301368936,
          102.0903163907036,
          106.35968099545957,
          126.60424769012809,
          109.46705127392292,
          95.60127524431873,
          100.5657353779543,
          114.0277223405759,
          117.32541219283584,
          118.80257903172486,
          107.36910888363815,
          103.49860614736762,
          110.65508017111019,
          74.46660603081457,
          86.10918296801194,
          73.37493889635752,
          106.05899257595135,
          97.66072521933705,
          109.36597492502263,
          104.13094698743824,
          113.45870749869853,
          114.92845839932815,
          122.57072875929926,
          96.38177580858283,
          109.37381730109051,
          80.08496534892303,
          111.62246383728922,
          101.16071466490673,
          95.22529649563265,
          94.45733900433012,
          140.59529055738378,
          100.11864374090116,
          100.88024658244711,
          122.9967935276871,
          98.8779576585811,
          87.94157790193971,
          120.62711181581732,
          108.07231403868343,
          107.59040255717728,
          126.15755313987708,
          100.79903896767618,
          99.32354553031551,
          110.9815780900296,
          103.67793750033393,
          104.88174674488349,
          129.6805476012414,
          82.65601268247885,
          113.23063889842491,
          99.93930007526188,
          113.89576210518452,
          117.0432414029118,
          117.38349664769842,
          117.68255791525685,
          92.86969615487965,
          108.27659203633931,
          128.98962376956743,
          96.06154962229908,
          112.86372980765286,
          125.02333443867974,
          108.53867764403452,
          78.20604526520879,
          77.04617390017262,
          126.83401799086877,
          140.1776302871927,
          114.53016120551469,
          102.65507539637146,
          102.29676357850765,
          93.891184101144,
          143.05271834441794,
          105.51757314022424,
          130.19147488514392,
          119.40230721601586,
          109.01283868045569,
          82.34202186950697,
          111.64958814044724,
          140.09841690466496,
          98.63224100744138,
          125.23996760184873,
          86.11260270508984,
          114.38549807229262,
          130.05548216144504,
          106.35119114308375,
          106.5346465043257,
          104.91606076637244,
          114.77924023142917,
          130.95558093712302,
          96.80280426930263,
          111.67730716702354,
          116.47352189711012,
          134.206776457636,
          105.53923143488595,
          134.58443471785142,
          112.01144888247646,
          112.58056049536503,
          89.52474268573548,
          103.68101475889969,
          123.20960222969649,
          87.91150172100755,
          121.36564593771746,
          100.4509248086643,
          109.76242758987684,
          104.18277888595598,
          123.34495123182924,
          127.01235747863848,
          135.97445292585812,
          99.41720232655749,
          90.71284349621848,
          100.42684913670038,
          120.51177193588832,
          123.21710784548323,
          100.20194285016451,
          90.2005114621253,
          97.71931093330127,
          112.44053316793848,
          120.04639986831071,
          101.38879371853082,
          121.15530679688831,
          119.25068929505827,
          124.57800251061877,
          99.3214472406147,
          98.96460822276123,
          95.54804325844142,
          116.8870655483946,
          119.84357309457053,
          121.27255215354285,
          81.91724583099703,
          101.65579908171091,
          114.0824594860766,
          123.97318629159868,
          114.91298496773591,
          121.11220700752644,
          97.9714242835997
         ]
        },
        {
         "fillcolor": "rgb(220, 220, 220)",
         "line": {
          "color": "rgb(0, 0, 0)",
          "width": 1
         },
         "marker": {
          "outliercolor": "rgb(255, 100, 0)",
          "size": 10,
          "symbol": "circle-open"
         },
         "name": "Control group",
         "showlegend": false,
         "type": "box",
         "y": [
          73.35584003137875,
          72.59619570323669,
          105.93123781185527,
          71.40342282208564,
          132.9178465401845,
          88.10057156395942,
          121.28013872100105,
          104.00515388263601,
          115.6849350850162,
          88.8598174081421,
          121.83281488659125,
          93.83654763063926,
          92.4168509515501,
          128.55334252775467,
          88.09838532405132,
          99.37122184033994,
          139.399141059282,
          83.45000899766126,
          77.43436628018182,
          99.09711172350765,
          137.57711636125526,
          97.45124910804579,
          105.5351585034302,
          86.55523492150462,
          76.6648510656996,
          122.27056014944101,
          100.91188443822372,
          62.80319948693061,
          94.47832038417307,
          106.04751862000441,
          70.11612981022478,
          106.10438036352042,
          113.66946786777328,
          103.99881620572326,
          91.98975081737082,
          122.94628053844133,
          77.57478572088951,
          110.05916991766661,
          95.23976953915088,
          117.74740263538318,
          67.20991271052648,
          70.56297204377378,
          95.19511912401538,
          122.52461326308276,
          95.02786866912321,
          118.67205645194423,
          112.35448791259036,
          126.445975289519,
          105.73160084146457,
          108.2044852878328,
          131.10974627440203,
          130.64206579566752,
          78.51150562723646,
          109.41044995974389,
          108.29114325712193,
          138.18933670049194,
          85.54301711452678,
          90.02190602713007,
          120.2961828073343,
          105.13240870608021,
          108.83400602097066,
          105.58033106446806,
          67.21554460329978,
          73.27650499511427,
          120.1649931003032,
          109.76045456947662,
          106.7566579833674,
          89.9934560035641,
          114.60206727054543,
          89.82574184956908,
          98.00717960431516,
          105.54269750664906,
          92.85269776025733,
          105.94958896055338,
          109.53074773302656,
          100.42949138536622,
          92.21348989510591,
          124.39596321567956,
          83.23115852652602,
          61.4216087542378,
          106.07553376263408,
          100.61324922626115,
          92.87265343109375,
          118.89410684233727,
          101.61146767358944,
          54.38284045245319,
          63.060274465686426,
          105.47380194712785,
          110.65367572271172,
          89.15694874645246,
          97.70090042983732,
          96.65430849627482,
          98.49587115822342,
          111.30717846967329,
          105.43989293280025,
          127.16320134724612,
          111.85938760613948,
          100.12248044543772,
          141.8302094094312,
          95.83437530510426,
          136.42791968328584,
          76.88185855223605,
          105.14529286183352,
          141.60024432430734,
          117.95708307150761,
          115.13185809189685,
          137.6131774131551,
          149.5801054147843,
          97.66879135668563,
          106.35821172379664,
          99.28675779734887,
          109.99942472170237,
          96.9142406891039,
          85.06796340579064,
          88.79202352473447,
          90.7917179432885,
          87.94882723965915,
          159.20724123481534,
          105.61901959018603,
          86.88538490097875,
          103.15940590049013,
          76.77188833073703,
          99.41425449385343,
          122.177008571981,
          124.78838178110146,
          100.60909187950735,
          110.77978775161507,
          136.32666827865685,
          153.89119588513353,
          79.26163653031848,
          128.57010123450794,
          97.7940411489036,
          142.44839052019915,
          96.37052520341636,
          133.03684397468788,
          129.81689950660956,
          126.38222300415848,
          83.19848572798192,
          106.02955721391062,
          87.18820685545577,
          124.99183829990645,
          120.57437532978463,
          80.19945885834073,
          89.46981947848911,
          86.86524844923525,
          113.64653301253777,
          96.64805249659523,
          104.49152572789086,
          90.24597894880462,
          118.01808919066391,
          114.16683241379857,
          116.35923807818426,
          82.78694339162664,
          96.31511006697912,
          121.70654279137878,
          66.82953831558345,
          113.94947447432953,
          93.86598034863259,
          110.91235510668943,
          65.2091355757742,
          122.590670097812,
          110.98137475670903,
          102.41936268302004,
          105.76308358459501,
          118.70896154996052,
          111.95656773622363,
          88.3175339571006,
          122.70149292966775,
          83.63804633407437,
          105.43055359119764,
          136.43321994330498,
          122.67911148281216,
          101.63809484490854,
          90.20157627440634,
          132.87526352643582,
          106.224330407355,
          103.72313833155235,
          86.35796279765032,
          130.84236447405289,
          153.36281158367834,
          111.89715811476549,
          79.90652339143494,
          152.77827869118838,
          118.3724861777294,
          109.65595549516122,
          95.72991318193948,
          101.28067258373102,
          100.28338719618745,
          100.28739741407843,
          134.83066565336983,
          85.076551864373,
          76.21937159096987,
          91.59363777246237,
          116.0466913972449,
          105.05396092807592,
          82.29320262306578,
          106.2104268323159,
          62.59116733670788,
          61.154128470286835,
          102.76797524601668,
          95.42652901600192,
          96.62149275544346,
          69.34448612849066,
          145.4198845070132,
          118.04756173516819,
          87.84220043474625,
          142.49171251547068,
          136.858925736884,
          150.91927610808165,
          80.79736047677324,
          134.1602131534798,
          101.7860267360141,
          109.02186259253389,
          112.72353504228052,
          112.63659005384825,
          91.96161765691151,
          75.24678784151297,
          135.3343665382391,
          100.41762787798021,
          108.27840810740129,
          134.93058722852072,
          93.01499035301185,
          89.79661377255582,
          103.59485859678553,
          102.11474508916291,
          108.86195775321374,
          104.92668333377419,
          120.29410968809157,
          84.42897719781581,
          96.50806512629093,
          120.25841361458421,
          115.3024076150804,
          156.55800244834333,
          83.72901069608956,
          108.6742323786768,
          98.99545796018592,
          87.93662128641755,
          127.40876193104695,
          107.40623567030265,
          129.05175929081793,
          96.80182192646632,
          113.68396850683364,
          116.94741836517912,
          72.77196664210635,
          96.88500190305483,
          112.70172723255224,
          64.60695706675642,
          86.75406247716222,
          78.6156908485435,
          106.011415039911,
          155.51058425024394,
          116.5614524448961,
          82.46783696245248,
          101.49945937668024,
          103.21027825467738,
          115.03930636729166,
          112.15573918006794,
          87.4664567864969,
          74.59875600298113,
          115.89621777563501,
          122.85117724438064,
          92.57013759050854,
          103.42481480925841,
          101.8483815244196,
          108.7974524426228,
          121.38203882209275,
          91.52690168231219,
          128.63636968149567,
          74.7756238117532,
          76.24303851365552,
          139.14827505577875,
          92.78046026095474,
          91.1674306550581,
          94.0174648495487,
          119.13201880078918,
          87.14310672669305,
          129.18271616974624,
          115.79570953040562,
          95.51019291824092,
          112.63729687650063,
          100.77993304375285,
          97.84325934212652,
          124.20211642670917,
          143.59750828073828,
          102.65433865835253,
          84.12145722412562,
          151.09729506883644,
          119.80281517397887,
          99.37658395355912,
          126.94755138271609,
          122.50176422952272,
          88.6102009014311,
          117.5959655539159,
          117.76197166963651,
          102.4474246648817,
          116.45382049989462,
          111.82411116636213,
          147.11567452687845,
          69.58256083690549,
          73.64566528037412,
          125.81397905533575,
          97.20863588642825,
          154.57361430218066,
          87.96509181148883,
          108.50182721820951,
          80.17724066548968,
          117.28715136804618,
          167.51270297929395,
          118.08739800540323,
          146.90689055436243,
          125.95422909886878,
          91.78538367822726,
          65.42009025404076,
          135.2051000228171,
          116.4381942432489,
          100.32111917959944,
          77.32280682319589,
          119.78895949738889,
          133.17944052767285,
          147.36666920703584,
          116.60613424535553,
          82.85915571141666,
          101.72468920642967,
          115.13486580460216,
          104.42821400799657,
          94.88743726289387,
          104.97373222199063,
          89.7723511853605,
          95.24370854925348,
          109.42247734537702,
          104.69427747770196,
          73.61972734079498,
          97.63829704126698,
          167.1927070081392,
          92.53585241786719,
          124.55436863015629,
          108.0661358650097,
          85.36749492889491,
          97.79797906272951,
          134.90334266668742,
          108.63417896617442,
          89.64902116326884,
          98.1828477184991,
          112.44818994590372,
          111.11843894883569,
          133.79109197822098,
          110.72033886686025,
          147.0776580325823,
          91.92740536024502,
          120.5670564054652,
          91.34337362017854,
          105.93819813511057,
          90.11799572761203,
          111.21479109190248,
          99.35019672994956,
          136.7453846822023,
          84.72396425207722,
          132.47307316738588,
          118.15955895493649,
          116.11467577089209,
          96.39379812246709,
          106.86640342217045,
          99.20110592460625,
          93.26923503279063,
          107.4753508056864,
          91.91366201553832,
          123.75574312855437,
          121.78481506401832,
          91.65337435437247,
          111.83827375419035,
          85.0472077817511,
          87.128829075733,
          152.2939509869739,
          67.77151971315733,
          92.28057643078158,
          91.15389531584428,
          101.29482845907977,
          67.05158504214776,
          116.61434314930027,
          105.53830338811754,
          119.33015824069282,
          117.31132646284496,
          83.19133639539689,
          74.83421480616633,
          127.66758196096809,
          125.45868381097932,
          98.57294460087745,
          94.23082569630273,
          103.32354086477845,
          97.05055878467529,
          98.61418812864648,
          123.97068497334084,
          94.20603920582866,
          99.07327432600354,
          103.56066846619872,
          132.98102647910918,
          119.37611522284445,
          87.72657735895267,
          104.06561172768964,
          89.98330193087487,
          92.29690067680427,
          91.37959685552671,
          74.96828498519604,
          97.62149780963819,
          97.94001293460462,
          107.54768786401391,
          115.3506265882798,
          119.95673680613515,
          88.81244886029134,
          92.3462815714413,
          96.06690340844949,
          91.26159596626194,
          109.18620167700966,
          114.60616440884982,
          107.77034407801189,
          89.1979972451837,
          97.28299296058316,
          116.15332328095859,
          111.86694813030181,
          106.34687739135666,
          92.68389644205837,
          86.78793604864285,
          148.42086138418708,
          103.98890742684455,
          136.04704396360376,
          120.92311581564805,
          94.09661063998634,
          67.58593749414233,
          93.75269164563029,
          69.3281040136861,
          106.41268767337091,
          95.50925778950551,
          110.04611753103767,
          82.78150188441552,
          103.20391088878338,
          88.26901348407253,
          96.711858752552,
          122.06618480903366,
          117.2845322349194,
          100.228664790671,
          83.89424192696687,
          113.66870945488526,
          140.2823893940472,
          128.95292268024082,
          86.0226340595664,
          95.62696617241689,
          79.79617339129538,
          136.60570359850826,
          93.88614712334899,
          117.99630666789842,
          121.75936524598154,
          141.6001822762604,
          110.38612755507717,
          68.0248712088042,
          90.00389993041486,
          99.6453399135892,
          117.6253997974566,
          103.25714144733043,
          103.61501963156232,
          101.64354375466822,
          117.98997378061118,
          117.40870951103567,
          107.88816928043904,
          128.2009104426778,
          83.91255595758818,
          110.29555867392033,
          91.50770080403419,
          131.41745545967257,
          85.80189083316479,
          88.8513892374485,
          98.43554797205186,
          123.34175218371686,
          98.66463309886903,
          123.45626416208806,
          87.14046378482428,
          143.7008787461584,
          123.39722653184049,
          126.32455342483186,
          66.17943289056095,
          76.8394796965569,
          138.45012759360802,
          127.71551220380367,
          111.8864699881905,
          92.05811698857137,
          84.44148256471559,
          67.58431148818741,
          118.22200886832579,
          68.90733864862844,
          128.31071675970725,
          118.27715923109906,
          108.12155063557144,
          113.27227131634118,
          129.22232576198763,
          101.47757337829505,
          123.84875608059667,
          117.66871672249798,
          102.72239400490025,
          114.15993282996553,
          92.688787672224,
          112.70571072805403
         ]
        }
       ],
       "layout": {
        "autosize": true,
        "template": {
         "data": {
          "bar": [
           {
            "error_x": {
             "color": "#2a3f5f"
            },
            "error_y": {
             "color": "#2a3f5f"
            },
            "marker": {
             "line": {
              "color": "#E5ECF6",
              "width": 0.5
             }
            },
            "type": "bar"
           }
          ],
          "barpolar": [
           {
            "marker": {
             "line": {
              "color": "#E5ECF6",
              "width": 0.5
             }
            },
            "type": "barpolar"
           }
          ],
          "carpet": [
           {
            "aaxis": {
             "endlinecolor": "#2a3f5f",
             "gridcolor": "white",
             "linecolor": "white",
             "minorgridcolor": "white",
             "startlinecolor": "#2a3f5f"
            },
            "baxis": {
             "endlinecolor": "#2a3f5f",
             "gridcolor": "white",
             "linecolor": "white",
             "minorgridcolor": "white",
             "startlinecolor": "#2a3f5f"
            },
            "type": "carpet"
           }
          ],
          "choropleth": [
           {
            "colorbar": {
             "outlinewidth": 0,
             "ticks": ""
            },
            "type": "choropleth"
           }
          ],
          "contour": [
           {
            "colorbar": {
             "outlinewidth": 0,
             "ticks": ""
            },
            "colorscale": [
             [
              0,
              "#0d0887"
             ],
             [
              0.1111111111111111,
              "#46039f"
             ],
             [
              0.2222222222222222,
              "#7201a8"
             ],
             [
              0.3333333333333333,
              "#9c179e"
             ],
             [
              0.4444444444444444,
              "#bd3786"
             ],
             [
              0.5555555555555556,
              "#d8576b"
             ],
             [
              0.6666666666666666,
              "#ed7953"
             ],
             [
              0.7777777777777778,
              "#fb9f3a"
             ],
             [
              0.8888888888888888,
              "#fdca26"
             ],
             [
              1,
              "#f0f921"
             ]
            ],
            "type": "contour"
           }
          ],
          "contourcarpet": [
           {
            "colorbar": {
             "outlinewidth": 0,
             "ticks": ""
            },
            "type": "contourcarpet"
           }
          ],
          "heatmap": [
           {
            "colorbar": {
             "outlinewidth": 0,
             "ticks": ""
            },
            "colorscale": [
             [
              0,
              "#0d0887"
             ],
             [
              0.1111111111111111,
              "#46039f"
             ],
             [
              0.2222222222222222,
              "#7201a8"
             ],
             [
              0.3333333333333333,
              "#9c179e"
             ],
             [
              0.4444444444444444,
              "#bd3786"
             ],
             [
              0.5555555555555556,
              "#d8576b"
             ],
             [
              0.6666666666666666,
              "#ed7953"
             ],
             [
              0.7777777777777778,
              "#fb9f3a"
             ],
             [
              0.8888888888888888,
              "#fdca26"
             ],
             [
              1,
              "#f0f921"
             ]
            ],
            "type": "heatmap"
           }
          ],
          "heatmapgl": [
           {
            "colorbar": {
             "outlinewidth": 0,
             "ticks": ""
            },
            "colorscale": [
             [
              0,
              "#0d0887"
             ],
             [
              0.1111111111111111,
              "#46039f"
             ],
             [
              0.2222222222222222,
              "#7201a8"
             ],
             [
              0.3333333333333333,
              "#9c179e"
             ],
             [
              0.4444444444444444,
              "#bd3786"
             ],
             [
              0.5555555555555556,
              "#d8576b"
             ],
             [
              0.6666666666666666,
              "#ed7953"
             ],
             [
              0.7777777777777778,
              "#fb9f3a"
             ],
             [
              0.8888888888888888,
              "#fdca26"
             ],
             [
              1,
              "#f0f921"
             ]
            ],
            "type": "heatmapgl"
           }
          ],
          "histogram": [
           {
            "marker": {
             "colorbar": {
              "outlinewidth": 0,
              "ticks": ""
             }
            },
            "type": "histogram"
           }
          ],
          "histogram2d": [
           {
            "colorbar": {
             "outlinewidth": 0,
             "ticks": ""
            },
            "colorscale": [
             [
              0,
              "#0d0887"
             ],
             [
              0.1111111111111111,
              "#46039f"
             ],
             [
              0.2222222222222222,
              "#7201a8"
             ],
             [
              0.3333333333333333,
              "#9c179e"
             ],
             [
              0.4444444444444444,
              "#bd3786"
             ],
             [
              0.5555555555555556,
              "#d8576b"
             ],
             [
              0.6666666666666666,
              "#ed7953"
             ],
             [
              0.7777777777777778,
              "#fb9f3a"
             ],
             [
              0.8888888888888888,
              "#fdca26"
             ],
             [
              1,
              "#f0f921"
             ]
            ],
            "type": "histogram2d"
           }
          ],
          "histogram2dcontour": [
           {
            "colorbar": {
             "outlinewidth": 0,
             "ticks": ""
            },
            "colorscale": [
             [
              0,
              "#0d0887"
             ],
             [
              0.1111111111111111,
              "#46039f"
             ],
             [
              0.2222222222222222,
              "#7201a8"
             ],
             [
              0.3333333333333333,
              "#9c179e"
             ],
             [
              0.4444444444444444,
              "#bd3786"
             ],
             [
              0.5555555555555556,
              "#d8576b"
             ],
             [
              0.6666666666666666,
              "#ed7953"
             ],
             [
              0.7777777777777778,
              "#fb9f3a"
             ],
             [
              0.8888888888888888,
              "#fdca26"
             ],
             [
              1,
              "#f0f921"
             ]
            ],
            "type": "histogram2dcontour"
           }
          ],
          "mesh3d": [
           {
            "colorbar": {
             "outlinewidth": 0,
             "ticks": ""
            },
            "type": "mesh3d"
           }
          ],
          "parcoords": [
           {
            "line": {
             "colorbar": {
              "outlinewidth": 0,
              "ticks": ""
             }
            },
            "type": "parcoords"
           }
          ],
          "pie": [
           {
            "automargin": true,
            "type": "pie"
           }
          ],
          "scatter": [
           {
            "marker": {
             "colorbar": {
              "outlinewidth": 0,
              "ticks": ""
             }
            },
            "type": "scatter"
           }
          ],
          "scatter3d": [
           {
            "line": {
             "colorbar": {
              "outlinewidth": 0,
              "ticks": ""
             }
            },
            "marker": {
             "colorbar": {
              "outlinewidth": 0,
              "ticks": ""
             }
            },
            "type": "scatter3d"
           }
          ],
          "scattercarpet": [
           {
            "marker": {
             "colorbar": {
              "outlinewidth": 0,
              "ticks": ""
             }
            },
            "type": "scattercarpet"
           }
          ],
          "scattergeo": [
           {
            "marker": {
             "colorbar": {
              "outlinewidth": 0,
              "ticks": ""
             }
            },
            "type": "scattergeo"
           }
          ],
          "scattergl": [
           {
            "marker": {
             "colorbar": {
              "outlinewidth": 0,
              "ticks": ""
             }
            },
            "type": "scattergl"
           }
          ],
          "scattermapbox": [
           {
            "marker": {
             "colorbar": {
              "outlinewidth": 0,
              "ticks": ""
             }
            },
            "type": "scattermapbox"
           }
          ],
          "scatterpolar": [
           {
            "marker": {
             "colorbar": {
              "outlinewidth": 0,
              "ticks": ""
             }
            },
            "type": "scatterpolar"
           }
          ],
          "scatterpolargl": [
           {
            "marker": {
             "colorbar": {
              "outlinewidth": 0,
              "ticks": ""
             }
            },
            "type": "scatterpolargl"
           }
          ],
          "scatterternary": [
           {
            "marker": {
             "colorbar": {
              "outlinewidth": 0,
              "ticks": ""
             }
            },
            "type": "scatterternary"
           }
          ],
          "surface": [
           {
            "colorbar": {
             "outlinewidth": 0,
             "ticks": ""
            },
            "colorscale": [
             [
              0,
              "#0d0887"
             ],
             [
              0.1111111111111111,
              "#46039f"
             ],
             [
              0.2222222222222222,
              "#7201a8"
             ],
             [
              0.3333333333333333,
              "#9c179e"
             ],
             [
              0.4444444444444444,
              "#bd3786"
             ],
             [
              0.5555555555555556,
              "#d8576b"
             ],
             [
              0.6666666666666666,
              "#ed7953"
             ],
             [
              0.7777777777777778,
              "#fb9f3a"
             ],
             [
              0.8888888888888888,
              "#fdca26"
             ],
             [
              1,
              "#f0f921"
             ]
            ],
            "type": "surface"
           }
          ],
          "table": [
           {
            "cells": {
             "fill": {
              "color": "#EBF0F8"
             },
             "line": {
              "color": "white"
             }
            },
            "header": {
             "fill": {
              "color": "#C8D4E3"
             },
             "line": {
              "color": "white"
             }
            },
            "type": "table"
           }
          ]
         },
         "layout": {
          "annotationdefaults": {
           "arrowcolor": "#2a3f5f",
           "arrowhead": 0,
           "arrowwidth": 1
          },
          "coloraxis": {
           "colorbar": {
            "outlinewidth": 0,
            "ticks": ""
           }
          },
          "colorscale": {
           "diverging": [
            [
             0,
             "#8e0152"
            ],
            [
             0.1,
             "#c51b7d"
            ],
            [
             0.2,
             "#de77ae"
            ],
            [
             0.3,
             "#f1b6da"
            ],
            [
             0.4,
             "#fde0ef"
            ],
            [
             0.5,
             "#f7f7f7"
            ],
            [
             0.6,
             "#e6f5d0"
            ],
            [
             0.7,
             "#b8e186"
            ],
            [
             0.8,
             "#7fbc41"
            ],
            [
             0.9,
             "#4d9221"
            ],
            [
             1,
             "#276419"
            ]
           ],
           "sequential": [
            [
             0,
             "#0d0887"
            ],
            [
             0.1111111111111111,
             "#46039f"
            ],
            [
             0.2222222222222222,
             "#7201a8"
            ],
            [
             0.3333333333333333,
             "#9c179e"
            ],
            [
             0.4444444444444444,
             "#bd3786"
            ],
            [
             0.5555555555555556,
             "#d8576b"
            ],
            [
             0.6666666666666666,
             "#ed7953"
            ],
            [
             0.7777777777777778,
             "#fb9f3a"
            ],
            [
             0.8888888888888888,
             "#fdca26"
            ],
            [
             1,
             "#f0f921"
            ]
           ],
           "sequentialminus": [
            [
             0,
             "#0d0887"
            ],
            [
             0.1111111111111111,
             "#46039f"
            ],
            [
             0.2222222222222222,
             "#7201a8"
            ],
            [
             0.3333333333333333,
             "#9c179e"
            ],
            [
             0.4444444444444444,
             "#bd3786"
            ],
            [
             0.5555555555555556,
             "#d8576b"
            ],
            [
             0.6666666666666666,
             "#ed7953"
            ],
            [
             0.7777777777777778,
             "#fb9f3a"
            ],
            [
             0.8888888888888888,
             "#fdca26"
            ],
            [
             1,
             "#f0f921"
            ]
           ]
          },
          "colorway": [
           "#636efa",
           "#EF553B",
           "#00cc96",
           "#ab63fa",
           "#FFA15A",
           "#19d3f3",
           "#FF6692",
           "#B6E880",
           "#FF97FF",
           "#FECB52"
          ],
          "font": {
           "color": "#2a3f5f"
          },
          "geo": {
           "bgcolor": "white",
           "lakecolor": "white",
           "landcolor": "#E5ECF6",
           "showlakes": true,
           "showland": true,
           "subunitcolor": "white"
          },
          "hoverlabel": {
           "align": "left"
          },
          "hovermode": "closest",
          "mapbox": {
           "style": "light"
          },
          "paper_bgcolor": "white",
          "plot_bgcolor": "#E5ECF6",
          "polar": {
           "angularaxis": {
            "gridcolor": "white",
            "linecolor": "white",
            "ticks": ""
           },
           "bgcolor": "#E5ECF6",
           "radialaxis": {
            "gridcolor": "white",
            "linecolor": "white",
            "ticks": ""
           }
          },
          "scene": {
           "xaxis": {
            "backgroundcolor": "#E5ECF6",
            "gridcolor": "white",
            "gridwidth": 2,
            "linecolor": "white",
            "showbackground": true,
            "ticks": "",
            "zerolinecolor": "white"
           },
           "yaxis": {
            "backgroundcolor": "#E5ECF6",
            "gridcolor": "white",
            "gridwidth": 2,
            "linecolor": "white",
            "showbackground": true,
            "ticks": "",
            "zerolinecolor": "white"
           },
           "zaxis": {
            "backgroundcolor": "#E5ECF6",
            "gridcolor": "white",
            "gridwidth": 2,
            "linecolor": "white",
            "showbackground": true,
            "ticks": "",
            "zerolinecolor": "white"
           }
          },
          "shapedefaults": {
           "line": {
            "color": "#2a3f5f"
           }
          },
          "ternary": {
           "aaxis": {
            "gridcolor": "white",
            "linecolor": "white",
            "ticks": ""
           },
           "baxis": {
            "gridcolor": "white",
            "linecolor": "white",
            "ticks": ""
           },
           "bgcolor": "#E5ECF6",
           "caxis": {
            "gridcolor": "white",
            "linecolor": "white",
            "ticks": ""
           }
          },
          "title": {
           "x": 0.05
          },
          "xaxis": {
           "automargin": true,
           "gridcolor": "white",
           "linecolor": "white",
           "ticks": "",
           "title": {
            "standoff": 15
           },
           "zerolinecolor": "white",
           "zerolinewidth": 2
          },
          "yaxis": {
           "automargin": true,
           "gridcolor": "white",
           "linecolor": "white",
           "ticks": "",
           "title": {
            "standoff": 15
           },
           "zerolinecolor": "white",
           "zerolinewidth": 2
          }
         }
        },
        "xaxis": {
         "autorange": true,
         "range": [
          -0.5,
          2.5
         ],
         "type": "category"
        },
        "yaxis": {
         "autorange": true,
         "range": [
          48.09784808985093,
          173.7976953418962
         ],
         "type": "linear"
        }
       }
      },
      "image/png": "[encoded data removed]"
     },
     "metadata": {},
     "output_type": "display_data"
    }
   ],
   "source": [
    "trace = []\n",
    "vals = [group_a, group_b, control_group]\n",
    "groups = [\"Group A\", \"Group B\", \"Control group\"]\n",
    "clr = [\"rgb(50, 50, 50)\", \"rgb(150, 150, 150)\", \"rgb(220, 220, 220)\"]\n",
    "\n",
    "for i in range(0, len(groups)):\n",
    "        trace.append(go.Box(y = vals[i],\n",
    "                           name = groups[i],\n",
    "                           line = dict(color = \"rgb(0, 0, 0)\",\n",
    "                                      width = 1),\n",
    "                            fillcolor = clr[i],\n",
    "                           showlegend = False,\n",
    "                           marker = dict(outliercolor = \"rgb(255, 100, 0)\",\n",
    "                                        symbol = \"circle-open\",\n",
    "                                        size = 10)))\n",
    "        \n",
    "data = trace\n",
    "\n",
    "# iplot({\"data\":data}) # Old way!!\n",
    "pio.show({\"data\":data})"
   ]
  },
  {
   "cell_type": "code",
   "execution_count": null,
   "metadata": {},
   "outputs": [],
   "source": []
  }
 ],
 "metadata": {
  "kernelspec": {
   "display_name": "Python 3",
   "language": "python",
   "name": "python3"
  },
  "language_info": {
   "codemirror_mode": {
    "name": "ipython",
    "version": 3
   },
   "file_extension": ".py",
   "mimetype": "text/x-python",
   "name": "python",
   "nbconvert_exporter": "python",
   "pygments_lexer": "ipython3",
   "version": "3.8.6"
  }
 },
 "nbformat": 4,
 "nbformat_minor": 4
}
