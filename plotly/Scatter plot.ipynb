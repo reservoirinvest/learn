{
 "cells": [
  {
   "cell_type": "markdown",
   "metadata": {},
   "source": [
    "# Scatter plot"
   ]
  },
  {
   "cell_type": "markdown",
   "metadata": {},
   "source": [
    "## Setting up the plotly library"
   ]
  },
  {
   "cell_type": "code",
   "execution_count": 1,
   "metadata": {},
   "outputs": [],
   "source": [
    "# Importing high-level chart objects\n",
    "import plotly.graph_objects as go\n",
    "import plotly.io as pio\n",
    "pio.renderers.default = 'iframe'"
   ]
  },
  {
   "cell_type": "markdown",
   "metadata": {},
   "source": [
    "## Creating data point values"
   ]
  },
  {
   "cell_type": "code",
   "execution_count": 2,
   "metadata": {},
   "outputs": [],
   "source": [
    "# Importing numerical python\n",
    "import numpy as np\n",
    "\n",
    "# Seed pseudo-number generator\n",
    "np.random.seed(1234)"
   ]
  },
  {
   "cell_type": "code",
   "execution_count": 3,
   "metadata": {},
   "outputs": [],
   "source": [
    "female_age = np.random.randint(low = 20, high = 65, size = 100)\n",
    "male_age = np.random.randint(low= 20, high = 65, size = 100)\n",
    "\n",
    "female_salary = female_age + np.random.uniform(low = -10, high = 10, size = 100) + 1000\n",
    "male_salary = male_age + np.random.uniform(low = -10, high = 10, size = 100) + 1000\n",
    "\n",
    "female_debt = male_debt = np.random.randint(15, 30, 100)\n",
    "\n",
    "female_tax = male_tax = np.random.randn(100) + 10"
   ]
  },
  {
   "cell_type": "markdown",
   "metadata": {},
   "source": [
    "## Bare-bones scatter plot"
   ]
  },
  {
   "cell_type": "code",
   "execution_count": 4,
   "metadata": {},
   "outputs": [
    {
     "data": {
      "text/html": [
       "<iframe\n",
       "    scrolling=\"no\"\n",
       "    width=\"100%\"\n",
       "    height=\"545px\"\n",
       "    src=\"iframe_figures/figure_4.html\"\n",
       "    frameborder=\"0\"\n",
       "    allowfullscreen\n",
       "></iframe>\n"
      ]
     },
     "metadata": {},
     "output_type": "display_data"
    }
   ],
   "source": [
    "trace = go.Scatter(x = female_age,\n",
    "                  y = female_salary,\n",
    "                  mode = \"markers\")\n",
    "\n",
    "data = [trace]\n",
    "\n",
    "# iplot({\"data\":data}) # old way of doing things in Jupyter Notebook!\n",
    "pio.show({\"data\": data})"
   ]
  },
  {
   "cell_type": "markdown",
   "metadata": {},
   "source": [
    "## Changing the markers"
   ]
  },
  {
   "cell_type": "code",
   "execution_count": 5,
   "metadata": {},
   "outputs": [
    {
     "data": {
      "text/html": [
       "<iframe\n",
       "    scrolling=\"no\"\n",
       "    width=\"100%\"\n",
       "    height=\"545px\"\n",
       "    src=\"iframe_figures/figure_5.html\"\n",
       "    frameborder=\"0\"\n",
       "    allowfullscreen\n",
       "></iframe>\n"
      ]
     },
     "metadata": {},
     "output_type": "display_data"
    }
   ],
   "source": [
    "trace = go.Scatter(x = female_age,\n",
    "                  y = female_salary,\n",
    "                  mode = \"markers\",\n",
    "                  marker = dict(size = 12, color = \"rgba(255, 70, 0, 0.9)\"))\n",
    "\n",
    "data = [trace]\n",
    "\n",
    "layout = {\"title\":\"Correlation between female age and salary\",\n",
    "         \"xaxis\":{\"title\":\"Age\", \"zeroline\":False},\n",
    "         \"yaxis\":{\"title\":\"Salary\", \"zeroline\":False}}\n",
    "\n",
    "# iplot({\"data\":data, \"layout\":layout})\n",
    "pio.show({\"data\": data, 'layout':layout})"
   ]
  },
  {
   "cell_type": "markdown",
   "metadata": {},
   "source": [
    "## Plotting more than one dataset"
   ]
  },
  {
   "cell_type": "code",
   "execution_count": 7,
   "metadata": {},
   "outputs": [
    {
     "data": {
      "text/html": [
       "<iframe\n",
       "    scrolling=\"no\"\n",
       "    width=\"100%\"\n",
       "    height=\"545px\"\n",
       "    src=\"iframe_figures/figure_7.html\"\n",
       "    frameborder=\"0\"\n",
       "    allowfullscreen\n",
       "></iframe>\n"
      ]
     },
     "metadata": {},
     "output_type": "display_data"
    }
   ],
   "source": [
    "trace0 = go.Scatter(x = female_age,\n",
    "                  y = female_salary,\n",
    "                  mode = \"markers\",\n",
    "                  marker = dict(size = 12, color = \"rgba(255, 70, 0, 0.9)\"),\n",
    "                    name = \"Female\")\n",
    "\n",
    "trace1 = go.Scatter(x = male_age,\n",
    "                  y = male_salary,\n",
    "                  mode = \"markers\",\n",
    "                  marker = dict(size = 12, color = \"rgba(0, 190, 255, 0.9)\"),\n",
    "                    name = \"Male\")\n",
    "\n",
    "data = [trace0, trace1]\n",
    "\n",
    "pio.show({\"data\": data})"
   ]
  },
  {
   "cell_type": "markdown",
   "metadata": {},
   "source": [
    "## Adding a third variable in 2D space"
   ]
  },
  {
   "cell_type": "markdown",
   "metadata": {},
   "source": [
    "### Marker color"
   ]
  },
  {
   "cell_type": "markdown",
   "metadata": {},
   "source": [
    "Choices for `colorscale` are: Greys, YlGnBu, Greens, YlOrRd, Bluered, RdBu, Reds, Blues, Picnic, Rainbow, Portland, Jet, Hot, Blackbody, Earth, Electric, Viridis, Cividis."
   ]
  },
  {
   "cell_type": "code",
   "execution_count": 8,
   "metadata": {},
   "outputs": [
    {
     "data": {
      "text/html": [
       "<iframe\n",
       "    scrolling=\"no\"\n",
       "    width=\"100%\"\n",
       "    height=\"545px\"\n",
       "    src=\"iframe_figures/figure_8.html\"\n",
       "    frameborder=\"0\"\n",
       "    allowfullscreen\n",
       "></iframe>\n"
      ]
     },
     "metadata": {},
     "output_type": "display_data"
    }
   ],
   "source": [
    "trace = go.Scatter(x = female_age,\n",
    "                  y = female_salary,\n",
    "                  mode = \"markers\",\n",
    "                  marker = dict(size = 15,\n",
    "                                color = female_debt,\n",
    "                               colorscale = \"Portland\",\n",
    "                               showscale = True))\n",
    "\n",
    "data = [trace]\n",
    "\n",
    "layout = {\"title\":\"Correlation between female age and salary\",\n",
    "         \"xaxis\":{\"title\":\"Age\", \"zeroline\":False},\n",
    "         \"yaxis\":{\"title\":\"Salary\", \"zeroline\":False}}\n",
    "\n",
    "pio.show({\"data\": data, 'layout':layout})"
   ]
  },
  {
   "cell_type": "markdown",
   "metadata": {},
   "source": [
    "### Marker size (bubble chart)"
   ]
  },
  {
   "cell_type": "code",
   "execution_count": 9,
   "metadata": {},
   "outputs": [
    {
     "data": {
      "text/html": [
       "<iframe\n",
       "    scrolling=\"no\"\n",
       "    width=\"100%\"\n",
       "    height=\"545px\"\n",
       "    src=\"iframe_figures/figure_9.html\"\n",
       "    frameborder=\"0\"\n",
       "    allowfullscreen\n",
       "></iframe>\n"
      ]
     },
     "metadata": {},
     "output_type": "display_data"
    }
   ],
   "source": [
    "trace = go.Scatter(x = male_age,\n",
    "                  y = male_salary,\n",
    "                  mode = \"markers\",\n",
    "                  marker = dict(size = male_debt,\n",
    "                                color = \"rgba(0, 190, 255, 0.9)\"))\n",
    "\n",
    "data = [trace]\n",
    "\n",
    "layout = {\"title\":\"Correlation between male age and salary\",\n",
    "         \"xaxis\":{\"title\":\"Age\", \"zeroline\":False},\n",
    "         \"yaxis\":{\"title\":\"Salary\", \"zeroline\":False}}\n",
    "\n",
    "pio.show({\"data\": data, 'layout':layout})"
   ]
  },
  {
   "cell_type": "markdown",
   "metadata": {},
   "source": [
    "## Adding a fourth dimension in 2D space"
   ]
  },
  {
   "cell_type": "code",
   "execution_count": 10,
   "metadata": {},
   "outputs": [
    {
     "data": {
      "text/html": [
       "<iframe\n",
       "    scrolling=\"no\"\n",
       "    width=\"100%\"\n",
       "    height=\"545px\"\n",
       "    src=\"iframe_figures/figure_10.html\"\n",
       "    frameborder=\"0\"\n",
       "    allowfullscreen\n",
       "></iframe>\n"
      ]
     },
     "metadata": {},
     "output_type": "display_data"
    }
   ],
   "source": [
    "trace = go.Scatter(x = male_age,\n",
    "                  y = male_salary,\n",
    "                  mode = \"markers\",\n",
    "                  marker = dict(size = male_debt,\n",
    "                                color = male_tax,\n",
    "                               colorscale = \"Earth\",\n",
    "                               showscale = True))\n",
    "\n",
    "data = [trace]\n",
    "\n",
    "layout = {\"title\":\"Correlation between male age and salary\",\n",
    "         \"xaxis\":{\"title\":\"Age\", \"zeroline\":False},\n",
    "         \"yaxis\":{\"title\":\"Salary\", \"zeroline\":False}}\n",
    "\n",
    "pio.show({\"data\": data, 'layout':layout})"
   ]
  }
 ],
 "metadata": {
  "kernelspec": {
   "display_name": ".venv",
   "language": "python",
   "name": ".venv"
  },
  "language_info": {
   "codemirror_mode": {
    "name": "ipython",
    "version": 3
   },
   "file_extension": ".py",
   "mimetype": "text/x-python",
   "name": "python",
   "nbconvert_exporter": "python",
   "pygments_lexer": "ipython3",
   "version": "3.10.4"
  }
 },
 "nbformat": 4,
 "nbformat_minor": 4
}
