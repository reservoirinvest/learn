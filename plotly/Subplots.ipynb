{
 "cells": [
  {
   "cell_type": "code",
   "execution_count": 1,
   "metadata": {},
   "outputs": [
    {
     "data": {
      "text/html": [
       "<link href='http://fonts.googleapis.com/css?family=Alegreya+Sans:100,300,400,500,700,800,900,100italic,300italic,400italic,500italic,700italic,800italic,900italic' rel='stylesheet' type='text/css'>\n",
       "<link href='http://fonts.googleapis.com/css?family=Arvo:400,700,400italic' rel='stylesheet' type='text/css'>\n",
       "<link href='http://fonts.googleapis.com/css?family=PT+Mono' rel='stylesheet' type='text/css'>\n",
       "<link href='http://fonts.googleapis.com/css?family=Shadows+Into+Light' rel='stylesheet' type='text/css'>\n",
       "<link href='http://fonts.googleapis.com/css?family=Philosopher:400,700,400italic,700italic' rel='stylesheet' type='text/css'>\n",
       "\n",
       "<style>\n",
       "\n",
       "@font-face {\n",
       "    font-family: \"Computer Modern\";\n",
       "    src: url('http://mirrors.ctan.org/fonts/cm-unicode/fonts/otf/cmunss.otf');\n",
       "}\n",
       "\n",
       "\n",
       "/* Formatting for header cells */\n",
       ".text_cell_render h1 {\n",
       "    font-family: 'Philosopher', sans-serif;\n",
       "    font-weight: 400;\n",
       "    font-size: 2.2em;\n",
       "    line-height: 100%;\n",
       "    color: rgb(0, 80, 120);\n",
       "    margin-bottom: 0.1em;\n",
       "    margin-top: 0.1em;\n",
       "    display: block;\n",
       "}\t\n",
       ".text_cell_render h2 {\n",
       "    font-family: 'Philosopher', serif;\n",
       "    font-weight: 400;\n",
       "    font-size: 1.9em;\n",
       "    line-height: 100%;\n",
       "    color: rgb(200,100,0);\n",
       "    margin-bottom: 0.1em;\n",
       "    margin-top: 0.1em;\n",
       "    display: block;\n",
       "}\t\n",
       "\n",
       ".text_cell_render h3 {\n",
       "    font-family: 'Philosopher', serif;\n",
       "    margin-top:12px;\n",
       "    margin-bottom: 3px;\n",
       "    font-style: italic;\n",
       "    color: rgb(94,127,192);\n",
       "}\n",
       "\n",
       ".text_cell_render h4 {\n",
       "    font-family: 'Philosopher', serif;\n",
       "}\n",
       "\n",
       ".text_cell_render h5 {\n",
       "    font-family: 'Alegreya Sans', sans-serif;\n",
       "    font-weight: 300;\n",
       "    font-size: 16pt;\n",
       "    color: grey;\n",
       "    font-style: italic;\n",
       "    margin-bottom: .1em;\n",
       "    margin-top: 0.1em;\n",
       "    display: block;\n",
       "}\n",
       "\n",
       ".text_cell_render h6 {\n",
       "    font-family: 'PT Mono', sans-serif;\n",
       "    font-weight: 300;\n",
       "    font-size: 10pt;\n",
       "    color: grey;\n",
       "    margin-bottom: 1px;\n",
       "    margin-top: 1px;\n",
       "}\n",
       "\n",
       ".CodeMirror{\n",
       "        font-family: \"PT Mono\";\n",
       "        font-size: 100%;\n",
       "}\n",
       "\n",
       "</style>\n",
       "\n"
      ],
      "text/plain": [
       "<IPython.core.display.HTML object>"
      ]
     },
     "execution_count": 1,
     "metadata": {},
     "output_type": "execute_result"
    }
   ],
   "source": [
    "from IPython.core.display import HTML\n",
    "css_file = 'style.css'\n",
    "HTML(open(css_file, 'r').read())"
   ]
  },
  {
   "cell_type": "markdown",
   "metadata": {},
   "source": [
    "# Subplots"
   ]
  },
  {
   "cell_type": "markdown",
   "metadata": {},
   "source": [
    "## Setting up the plotly library"
   ]
  },
  {
   "cell_type": "code",
   "execution_count": 2,
   "metadata": {},
   "outputs": [],
   "source": [
    "# Importing high-level chart objects\n",
    "import plotly.graph_objects as go\n",
    "import plotly.io as pio\n",
    "pio.renderers.default = 'jupyterlab'\n",
    "\n",
    "# For subplots\n",
    "import plotly.subplots as subplots"
   ]
  },
  {
   "cell_type": "markdown",
   "metadata": {},
   "source": [
    "## Creating data point values"
   ]
  },
  {
   "cell_type": "code",
   "execution_count": 3,
   "metadata": {},
   "outputs": [],
   "source": [
    "# Importing numerical python\n",
    "import numpy as np\n",
    "\n",
    "# Seed pseudo number generator\n",
    "np.random.seed(1234)"
   ]
  },
  {
   "cell_type": "code",
   "execution_count": 4,
   "metadata": {},
   "outputs": [],
   "source": [
    "female_age = np.random.randint(low = 20, high = 65, size = 100)\n",
    "male_age = np.random.randint(low= 20, high = 65, size = 100)\n",
    "\n",
    "female_salary = female_age + np.random.uniform(low = -10, high = 10, size = 100) + 1000\n",
    "male_salary = male_age + np.random.uniform(low = -10, high = 10, size = 100) + 1000\n",
    "\n",
    "debt = np.random.randint(15, 30, 100)\n",
    "\n",
    "female_tax = male_tax = np.random.randn(100) + 10"
   ]
  },
  {
   "cell_type": "markdown",
   "metadata": {},
   "source": [
    "## Two plots on same row"
   ]
  },
  {
   "cell_type": "code",
   "execution_count": 5,
   "metadata": {},
   "outputs": [
    {
     "data": {
      "application/vnd.plotly.v1+json": {
       "config": {
        "plotlyServerURL": "https://plot.ly"
       },
       "data": [
        {
         "marker": {
          "color": "rgba(255, 70, 0, 0.9)",
          "size": 12
         },
         "mode": "markers",
         "name": "Female",
         "type": "scatter",
         "x": [
          1042.0839202304187,
          1055.371153642003,
          1041.0476934824042,
          1037.935409568618,
          1041.9986005534297,
          1052.2091658673428,
          1058.6223654549997,
          1042.6187240564307,
          1045.2184690696465,
          1066.3098217511447,
          1043.6359086308596,
          1061.5359987857348,
          1036.2851712576155,
          1044.782706030998,
          1023.0270280790877,
          1035.3514733317131,
          1032.0421100107278,
          1041.943842880755,
          1057.3492456510608,
          1052.072231112952,
          1049.1689352719045,
          1013.9039142050032,
          1061.541608877667,
          1021.1613682345386,
          1018.3576051851012,
          1051.1268466701226,
          1029.4841266819947,
          1033.2556557242713,
          1025.375751863632,
          1020.3800156735829,
          1029.274227669082,
          1030.2669918783931,
          1015.3971432449822,
          1031.5987335417772,
          1068.5934007020824,
          1037.4345464144315,
          1034.1095326980476,
          1018.3041250170079,
          1060.1649779844429,
          1067.0644403463466,
          1056.4885987685673,
          1038.0022283141673,
          1039.6489916638616,
          1035.863711934621,
          1061.0406466043617,
          1026.2883817316413,
          1033.0963465759464,
          1051.57187977008,
          1062.1509740556905,
          1051.447194297169,
          1046.8901131107882,
          1037.416407704999,
          1027.644649520979,
          1061.598398119565,
          1033.1831616380146,
          1054.3555621175526,
          1016.7066844226766,
          1050.8789422255281,
          1062.1113837555777,
          1044.9580379016384,
          1044.6527182037648,
          1039.4838558496651,
          1048.5285176097575,
          1051.207706165622,
          1055.5458814106876,
          1064.6766631727705,
          1019.2427881897761,
          1063.375604884218,
          1028.826919028319,
          1024.8334732100836,
          1032.9165389196467,
          1044.7119472990544,
          1023.4337850533587,
          1041.7808934569937,
          1016.0573846970981,
          1046.1808241268134,
          1060.6465735453974,
          1052.976624805019,
          1061.7000436892026,
          1025.5673555957894,
          1037.4941503748496,
          1043.9525208410362,
          1060.9998031873733,
          1020.0855726336418,
          1058.9249490230625,
          1053.543537627594,
          1047.4215169028698,
          1036.7475898795851,
          1036.8652884262951,
          1031.2317053938514,
          1051.1769039775322,
          1034.316167708031,
          1021.3097372394352,
          1039.1136117728263,
          1051.645409588114,
          1054.387478888361,
          1019.613851225669,
          1039.608687719969,
          1021.5434346792455,
          1055.7986183623166
         ],
         "xaxis": "x",
         "y": [
          39,
          58,
          32,
          44,
          35,
          43,
          61,
          46,
          50,
          63,
          50,
          64,
          46,
          48,
          25,
          36,
          29,
          32,
          57,
          54,
          58,
          23,
          59,
          31,
          20,
          61,
          31,
          36,
          23,
          22,
          39,
          32,
          21,
          31,
          63,
          37,
          34,
          27,
          62,
          63,
          48,
          37,
          43,
          33,
          52,
          32,
          25,
          51,
          57,
          51,
          45,
          40,
          36,
          61,
          28,
          64,
          26,
          42,
          64,
          46,
          39,
          38,
          41,
          54,
          57,
          58,
          27,
          56,
          23,
          25,
          35,
          54,
          30,
          48,
          24,
          38,
          59,
          45,
          63,
          34,
          43,
          40,
          61,
          20,
          54,
          46,
          53,
          41,
          27,
          24,
          59,
          37,
          20,
          41,
          61,
          61,
          21,
          34,
          23,
          50
         ],
         "yaxis": "y"
        },
        {
         "marker": {
          "color": "rgba(0, 190, 255, 0.9)",
          "size": 12
         },
         "mode": "markers",
         "name": "Male",
         "type": "scatter",
         "x": [
          1029.7225192333995,
          1038.582007387041,
          1033.3881078990287,
          1037.8571053479136,
          1061.5085334561848,
          1019.7668816009666,
          1053.4117235479926,
          1029.9776507263296,
          1042.4384519216662,
          1046.45992510997,
          1034.9862877814282,
          1067.7159271811345,
          1034.6867882307486,
          1041.0700129885029,
          1052.6904514365872,
          1041.3270845457155,
          1036.2885409423977,
          1026.1961872935865,
          1026.743663428415,
          1063.6135906065222,
          1019.3950633001024,
          1038.2219846088208,
          1015.8224893618153,
          1061.2133329297412,
          1055.0224925674115,
          1053.5956267913245,
          1053.8410642323115,
          1065.6721613101197,
          1030.75098944173,
          1043.9340673054517,
          1033.3040779605883,
          1054.7751735078527,
          1042.0180995587973,
          1030.4008905405049,
          1018.5512276604887,
          1042.6367445054502,
          1036.8632898590247,
          1033.6313213058415,
          1032.8708914775984,
          1027.1834733436422,
          1030.2139537802345,
          1026.2644942505465,
          1019.03904836183,
          1061.7669039522993,
          1041.8846979554914,
          1035.4321445311107,
          1040.2707480638778,
          1037.308906778927,
          1068.8000077580948,
          1063.5771110118797,
          1056.598815430702,
          1048.2481853077823,
          1041.1237320336938,
          1028.5123278242297,
          1027.9913678046946,
          1044.1311739513096,
          1056.0623672584813,
          1055.059498791665,
          1060.6584820410958,
          1042.1474959741893,
          1061.744339435943,
          1038.3944314369126,
          1027.6731844694898,
          1022.2399419233507,
          1046.0205275109397,
          1033.2890257111212,
          1037.5457710587837,
          1042.749830792948,
          1040.8033258553778,
          1042.5042258145747,
          1039.2669854884798,
          1066.1554686630825,
          1053.1023772319018,
          1059.292129647783,
          1055.7681943829941,
          1044.14510900566,
          1060.493525296145,
          1036.2280899128089,
          1053.5226136948431,
          1056.086708827202,
          1042.4403216320673,
          1067.6573976849293,
          1036.5412790097555,
          1033.9032351760118,
          1058.4655684916668,
          1041.1348531621652,
          1060.8850423568467,
          1063.40473428443,
          1055.20635589952,
          1057.4391671878948,
          1032.9062387835063,
          1041.274285226737,
          1043.224657535719,
          1059.543659401437,
          1045.743231142929,
          1015.9107444812716,
          1058.8954466410557,
          1017.2139428823122,
          1046.3052910613728,
          1056.0559171084492
         ],
         "xaxis": "x2",
         "y": [
          32,
          29,
          39,
          46,
          52,
          24,
          56,
          20,
          42,
          40,
          28,
          64,
          44,
          50,
          61,
          35,
          28,
          22,
          36,
          63,
          22,
          35,
          23,
          54,
          56,
          44,
          53,
          62,
          22,
          43,
          40,
          55,
          38,
          32,
          25,
          37,
          36,
          28,
          31,
          35,
          40,
          36,
          20,
          52,
          39,
          39,
          47,
          43,
          61,
          55,
          56,
          40,
          48,
          21,
          31,
          37,
          50,
          58,
          54,
          45,
          59,
          44,
          32,
          32,
          52,
          28,
          43,
          45,
          41,
          42,
          39,
          61,
          56,
          59,
          59,
          37,
          59,
          38,
          57,
          54,
          43,
          58,
          28,
          37,
          61,
          39,
          63,
          64,
          55,
          62,
          40,
          46,
          45,
          63,
          43,
          22,
          60,
          21,
          45,
          47
         ],
         "yaxis": "y2"
        }
       ],
       "layout": {
        "annotations": [
         {
          "font": {
           "size": 16
          },
          "showarrow": false,
          "text": "Female",
          "x": 0.225,
          "xanchor": "center",
          "xref": "paper",
          "y": 1,
          "yanchor": "bottom",
          "yref": "paper"
         },
         {
          "font": {
           "size": 16
          },
          "showarrow": false,
          "text": "Male",
          "x": 0.775,
          "xanchor": "center",
          "xref": "paper",
          "y": 1,
          "yanchor": "bottom",
          "yref": "paper"
         }
        ],
        "autosize": true,
        "template": {
         "data": {
          "bar": [
           {
            "error_x": {
             "color": "#2a3f5f"
            },
            "error_y": {
             "color": "#2a3f5f"
            },
            "marker": {
             "line": {
              "color": "#E5ECF6",
              "width": 0.5
             }
            },
            "type": "bar"
           }
          ],
          "barpolar": [
           {
            "marker": {
             "line": {
              "color": "#E5ECF6",
              "width": 0.5
             }
            },
            "type": "barpolar"
           }
          ],
          "carpet": [
           {
            "aaxis": {
             "endlinecolor": "#2a3f5f",
             "gridcolor": "white",
             "linecolor": "white",
             "minorgridcolor": "white",
             "startlinecolor": "#2a3f5f"
            },
            "baxis": {
             "endlinecolor": "#2a3f5f",
             "gridcolor": "white",
             "linecolor": "white",
             "minorgridcolor": "white",
             "startlinecolor": "#2a3f5f"
            },
            "type": "carpet"
           }
          ],
          "choropleth": [
           {
            "colorbar": {
             "outlinewidth": 0,
             "ticks": ""
            },
            "type": "choropleth"
           }
          ],
          "contour": [
           {
            "colorbar": {
             "outlinewidth": 0,
             "ticks": ""
            },
            "colorscale": [
             [
              0,
              "#0d0887"
             ],
             [
              0.1111111111111111,
              "#46039f"
             ],
             [
              0.2222222222222222,
              "#7201a8"
             ],
             [
              0.3333333333333333,
              "#9c179e"
             ],
             [
              0.4444444444444444,
              "#bd3786"
             ],
             [
              0.5555555555555556,
              "#d8576b"
             ],
             [
              0.6666666666666666,
              "#ed7953"
             ],
             [
              0.7777777777777778,
              "#fb9f3a"
             ],
             [
              0.8888888888888888,
              "#fdca26"
             ],
             [
              1,
              "#f0f921"
             ]
            ],
            "type": "contour"
           }
          ],
          "contourcarpet": [
           {
            "colorbar": {
             "outlinewidth": 0,
             "ticks": ""
            },
            "type": "contourcarpet"
           }
          ],
          "heatmap": [
           {
            "colorbar": {
             "outlinewidth": 0,
             "ticks": ""
            },
            "colorscale": [
             [
              0,
              "#0d0887"
             ],
             [
              0.1111111111111111,
              "#46039f"
             ],
             [
              0.2222222222222222,
              "#7201a8"
             ],
             [
              0.3333333333333333,
              "#9c179e"
             ],
             [
              0.4444444444444444,
              "#bd3786"
             ],
             [
              0.5555555555555556,
              "#d8576b"
             ],
             [
              0.6666666666666666,
              "#ed7953"
             ],
             [
              0.7777777777777778,
              "#fb9f3a"
             ],
             [
              0.8888888888888888,
              "#fdca26"
             ],
             [
              1,
              "#f0f921"
             ]
            ],
            "type": "heatmap"
           }
          ],
          "heatmapgl": [
           {
            "colorbar": {
             "outlinewidth": 0,
             "ticks": ""
            },
            "colorscale": [
             [
              0,
              "#0d0887"
             ],
             [
              0.1111111111111111,
              "#46039f"
             ],
             [
              0.2222222222222222,
              "#7201a8"
             ],
             [
              0.3333333333333333,
              "#9c179e"
             ],
             [
              0.4444444444444444,
              "#bd3786"
             ],
             [
              0.5555555555555556,
              "#d8576b"
             ],
             [
              0.6666666666666666,
              "#ed7953"
             ],
             [
              0.7777777777777778,
              "#fb9f3a"
             ],
             [
              0.8888888888888888,
              "#fdca26"
             ],
             [
              1,
              "#f0f921"
             ]
            ],
            "type": "heatmapgl"
           }
          ],
          "histogram": [
           {
            "marker": {
             "colorbar": {
              "outlinewidth": 0,
              "ticks": ""
             }
            },
            "type": "histogram"
           }
          ],
          "histogram2d": [
           {
            "colorbar": {
             "outlinewidth": 0,
             "ticks": ""
            },
            "colorscale": [
             [
              0,
              "#0d0887"
             ],
             [
              0.1111111111111111,
              "#46039f"
             ],
             [
              0.2222222222222222,
              "#7201a8"
             ],
             [
              0.3333333333333333,
              "#9c179e"
             ],
             [
              0.4444444444444444,
              "#bd3786"
             ],
             [
              0.5555555555555556,
              "#d8576b"
             ],
             [
              0.6666666666666666,
              "#ed7953"
             ],
             [
              0.7777777777777778,
              "#fb9f3a"
             ],
             [
              0.8888888888888888,
              "#fdca26"
             ],
             [
              1,
              "#f0f921"
             ]
            ],
            "type": "histogram2d"
           }
          ],
          "histogram2dcontour": [
           {
            "colorbar": {
             "outlinewidth": 0,
             "ticks": ""
            },
            "colorscale": [
             [
              0,
              "#0d0887"
             ],
             [
              0.1111111111111111,
              "#46039f"
             ],
             [
              0.2222222222222222,
              "#7201a8"
             ],
             [
              0.3333333333333333,
              "#9c179e"
             ],
             [
              0.4444444444444444,
              "#bd3786"
             ],
             [
              0.5555555555555556,
              "#d8576b"
             ],
             [
              0.6666666666666666,
              "#ed7953"
             ],
             [
              0.7777777777777778,
              "#fb9f3a"
             ],
             [
              0.8888888888888888,
              "#fdca26"
             ],
             [
              1,
              "#f0f921"
             ]
            ],
            "type": "histogram2dcontour"
           }
          ],
          "mesh3d": [
           {
            "colorbar": {
             "outlinewidth": 0,
             "ticks": ""
            },
            "type": "mesh3d"
           }
          ],
          "parcoords": [
           {
            "line": {
             "colorbar": {
              "outlinewidth": 0,
              "ticks": ""
             }
            },
            "type": "parcoords"
           }
          ],
          "pie": [
           {
            "automargin": true,
            "type": "pie"
           }
          ],
          "scatter": [
           {
            "marker": {
             "colorbar": {
              "outlinewidth": 0,
              "ticks": ""
             }
            },
            "type": "scatter"
           }
          ],
          "scatter3d": [
           {
            "line": {
             "colorbar": {
              "outlinewidth": 0,
              "ticks": ""
             }
            },
            "marker": {
             "colorbar": {
              "outlinewidth": 0,
              "ticks": ""
             }
            },
            "type": "scatter3d"
           }
          ],
          "scattercarpet": [
           {
            "marker": {
             "colorbar": {
              "outlinewidth": 0,
              "ticks": ""
             }
            },
            "type": "scattercarpet"
           }
          ],
          "scattergeo": [
           {
            "marker": {
             "colorbar": {
              "outlinewidth": 0,
              "ticks": ""
             }
            },
            "type": "scattergeo"
           }
          ],
          "scattergl": [
           {
            "marker": {
             "colorbar": {
              "outlinewidth": 0,
              "ticks": ""
             }
            },
            "type": "scattergl"
           }
          ],
          "scattermapbox": [
           {
            "marker": {
             "colorbar": {
              "outlinewidth": 0,
              "ticks": ""
             }
            },
            "type": "scattermapbox"
           }
          ],
          "scatterpolar": [
           {
            "marker": {
             "colorbar": {
              "outlinewidth": 0,
              "ticks": ""
             }
            },
            "type": "scatterpolar"
           }
          ],
          "scatterpolargl": [
           {
            "marker": {
             "colorbar": {
              "outlinewidth": 0,
              "ticks": ""
             }
            },
            "type": "scatterpolargl"
           }
          ],
          "scatterternary": [
           {
            "marker": {
             "colorbar": {
              "outlinewidth": 0,
              "ticks": ""
             }
            },
            "type": "scatterternary"
           }
          ],
          "surface": [
           {
            "colorbar": {
             "outlinewidth": 0,
             "ticks": ""
            },
            "colorscale": [
             [
              0,
              "#0d0887"
             ],
             [
              0.1111111111111111,
              "#46039f"
             ],
             [
              0.2222222222222222,
              "#7201a8"
             ],
             [
              0.3333333333333333,
              "#9c179e"
             ],
             [
              0.4444444444444444,
              "#bd3786"
             ],
             [
              0.5555555555555556,
              "#d8576b"
             ],
             [
              0.6666666666666666,
              "#ed7953"
             ],
             [
              0.7777777777777778,
              "#fb9f3a"
             ],
             [
              0.8888888888888888,
              "#fdca26"
             ],
             [
              1,
              "#f0f921"
             ]
            ],
            "type": "surface"
           }
          ],
          "table": [
           {
            "cells": {
             "fill": {
              "color": "#EBF0F8"
             },
             "line": {
              "color": "white"
             }
            },
            "header": {
             "fill": {
              "color": "#C8D4E3"
             },
             "line": {
              "color": "white"
             }
            },
            "type": "table"
           }
          ]
         },
         "layout": {
          "annotationdefaults": {
           "arrowcolor": "#2a3f5f",
           "arrowhead": 0,
           "arrowwidth": 1
          },
          "coloraxis": {
           "colorbar": {
            "outlinewidth": 0,
            "ticks": ""
           }
          },
          "colorscale": {
           "diverging": [
            [
             0,
             "#8e0152"
            ],
            [
             0.1,
             "#c51b7d"
            ],
            [
             0.2,
             "#de77ae"
            ],
            [
             0.3,
             "#f1b6da"
            ],
            [
             0.4,
             "#fde0ef"
            ],
            [
             0.5,
             "#f7f7f7"
            ],
            [
             0.6,
             "#e6f5d0"
            ],
            [
             0.7,
             "#b8e186"
            ],
            [
             0.8,
             "#7fbc41"
            ],
            [
             0.9,
             "#4d9221"
            ],
            [
             1,
             "#276419"
            ]
           ],
           "sequential": [
            [
             0,
             "#0d0887"
            ],
            [
             0.1111111111111111,
             "#46039f"
            ],
            [
             0.2222222222222222,
             "#7201a8"
            ],
            [
             0.3333333333333333,
             "#9c179e"
            ],
            [
             0.4444444444444444,
             "#bd3786"
            ],
            [
             0.5555555555555556,
             "#d8576b"
            ],
            [
             0.6666666666666666,
             "#ed7953"
            ],
            [
             0.7777777777777778,
             "#fb9f3a"
            ],
            [
             0.8888888888888888,
             "#fdca26"
            ],
            [
             1,
             "#f0f921"
            ]
           ],
           "sequentialminus": [
            [
             0,
             "#0d0887"
            ],
            [
             0.1111111111111111,
             "#46039f"
            ],
            [
             0.2222222222222222,
             "#7201a8"
            ],
            [
             0.3333333333333333,
             "#9c179e"
            ],
            [
             0.4444444444444444,
             "#bd3786"
            ],
            [
             0.5555555555555556,
             "#d8576b"
            ],
            [
             0.6666666666666666,
             "#ed7953"
            ],
            [
             0.7777777777777778,
             "#fb9f3a"
            ],
            [
             0.8888888888888888,
             "#fdca26"
            ],
            [
             1,
             "#f0f921"
            ]
           ]
          },
          "colorway": [
           "#636efa",
           "#EF553B",
           "#00cc96",
           "#ab63fa",
           "#FFA15A",
           "#19d3f3",
           "#FF6692",
           "#B6E880",
           "#FF97FF",
           "#FECB52"
          ],
          "font": {
           "color": "#2a3f5f"
          },
          "geo": {
           "bgcolor": "white",
           "lakecolor": "white",
           "landcolor": "#E5ECF6",
           "showlakes": true,
           "showland": true,
           "subunitcolor": "white"
          },
          "hoverlabel": {
           "align": "left"
          },
          "hovermode": "closest",
          "mapbox": {
           "style": "light"
          },
          "paper_bgcolor": "white",
          "plot_bgcolor": "#E5ECF6",
          "polar": {
           "angularaxis": {
            "gridcolor": "white",
            "linecolor": "white",
            "ticks": ""
           },
           "bgcolor": "#E5ECF6",
           "radialaxis": {
            "gridcolor": "white",
            "linecolor": "white",
            "ticks": ""
           }
          },
          "scene": {
           "xaxis": {
            "backgroundcolor": "#E5ECF6",
            "gridcolor": "white",
            "gridwidth": 2,
            "linecolor": "white",
            "showbackground": true,
            "ticks": "",
            "zerolinecolor": "white"
           },
           "yaxis": {
            "backgroundcolor": "#E5ECF6",
            "gridcolor": "white",
            "gridwidth": 2,
            "linecolor": "white",
            "showbackground": true,
            "ticks": "",
            "zerolinecolor": "white"
           },
           "zaxis": {
            "backgroundcolor": "#E5ECF6",
            "gridcolor": "white",
            "gridwidth": 2,
            "linecolor": "white",
            "showbackground": true,
            "ticks": "",
            "zerolinecolor": "white"
           }
          },
          "shapedefaults": {
           "line": {
            "color": "#2a3f5f"
           }
          },
          "ternary": {
           "aaxis": {
            "gridcolor": "white",
            "linecolor": "white",
            "ticks": ""
           },
           "baxis": {
            "gridcolor": "white",
            "linecolor": "white",
            "ticks": ""
           },
           "bgcolor": "#E5ECF6",
           "caxis": {
            "gridcolor": "white",
            "linecolor": "white",
            "ticks": ""
           }
          },
          "title": {
           "x": 0.05
          },
          "xaxis": {
           "automargin": true,
           "gridcolor": "white",
           "linecolor": "white",
           "ticks": "",
           "title": {
            "standoff": 15
           },
           "zerolinecolor": "white",
           "zerolinewidth": 2
          },
          "yaxis": {
           "automargin": true,
           "gridcolor": "white",
           "linecolor": "white",
           "ticks": "",
           "title": {
            "standoff": 15
           },
           "zerolinecolor": "white",
           "zerolinewidth": 2
          }
         }
        },
        "title": {
         "text": "Correlation between salary and age"
        },
        "xaxis": {
         "anchor": "y",
         "autorange": true,
         "domain": [
          0,
          0.45
         ],
         "range": [
          1009.8312928701143,
          1072.6660220369713
         ],
         "type": "linear"
        },
        "xaxis2": {
         "anchor": "y2",
         "autorange": true,
         "domain": [
          0.55,
          1
         ],
         "range": [
          1011.8773550131561,
          1072.745142106754
         ],
         "type": "linear"
        },
        "yaxis": {
         "anchor": "x",
         "autorange": true,
         "domain": [
          0,
          1
         ],
         "range": [
          15.947368421052632,
          68.05263157894737
         ],
         "type": "linear"
        },
        "yaxis2": {
         "anchor": "x2",
         "autorange": true,
         "domain": [
          0,
          1
         ],
         "range": [
          15.947368421052632,
          68.05263157894737
         ],
         "type": "linear"
        }
       }
      },
      "image/png": "[encoded data removed]"
     },
     "metadata": {},
     "output_type": "display_data"
    }
   ],
   "source": [
    "trace0 = go.Scatter(x = female_salary,\n",
    "                  y = female_age,\n",
    "                  mode = \"markers\",\n",
    "                   name = \"Female\",\n",
    "                  marker = dict(size = 12, color = \"rgba(255, 70, 0, 0.9)\"))\n",
    "\n",
    "trace1 = go.Scatter(x = male_salary,\n",
    "                  y = male_age,\n",
    "                    name = \"Male\",\n",
    "                  mode = \"markers\",\n",
    "                  marker = dict(size = 12, color = \"rgba(0, 190, 255, 0.9)\"))\n",
    "\n",
    "fig = subplots.make_subplots(rows = 1,\n",
    "                          cols = 2,\n",
    "                         subplot_titles = (\"Female\", \"Male\"))\n",
    "\n",
    "fig.append_trace(trace0, 1, 1)\n",
    "fig.append_trace(trace1, 1, 2)\n",
    "\n",
    "fig.layout.update(title = \"Correlation between salary and age\")\n",
    "\n",
    "fig.show()"
   ]
  },
  {
   "cell_type": "markdown",
   "metadata": {},
   "source": [
    "## Sharing a *y*-axes"
   ]
  },
  {
   "cell_type": "code",
   "execution_count": 6,
   "metadata": {},
   "outputs": [
    {
     "data": {
      "application/vnd.plotly.v1+json": {
       "config": {
        "plotlyServerURL": "https://plot.ly"
       },
       "data": [
        {
         "marker": {
          "color": "rgba(255, 70, 0, 0.9)",
          "size": 12
         },
         "mode": "markers",
         "name": "Female",
         "type": "scatter",
         "x": [
          1042.0839202304187,
          1055.371153642003,
          1041.0476934824042,
          1037.935409568618,
          1041.9986005534297,
          1052.2091658673428,
          1058.6223654549997,
          1042.6187240564307,
          1045.2184690696465,
          1066.3098217511447,
          1043.6359086308596,
          1061.5359987857348,
          1036.2851712576155,
          1044.782706030998,
          1023.0270280790877,
          1035.3514733317131,
          1032.0421100107278,
          1041.943842880755,
          1057.3492456510608,
          1052.072231112952,
          1049.1689352719045,
          1013.9039142050032,
          1061.541608877667,
          1021.1613682345386,
          1018.3576051851012,
          1051.1268466701226,
          1029.4841266819947,
          1033.2556557242713,
          1025.375751863632,
          1020.3800156735829,
          1029.274227669082,
          1030.2669918783931,
          1015.3971432449822,
          1031.5987335417772,
          1068.5934007020824,
          1037.4345464144315,
          1034.1095326980476,
          1018.3041250170079,
          1060.1649779844429,
          1067.0644403463466,
          1056.4885987685673,
          1038.0022283141673,
          1039.6489916638616,
          1035.863711934621,
          1061.0406466043617,
          1026.2883817316413,
          1033.0963465759464,
          1051.57187977008,
          1062.1509740556905,
          1051.447194297169,
          1046.8901131107882,
          1037.416407704999,
          1027.644649520979,
          1061.598398119565,
          1033.1831616380146,
          1054.3555621175526,
          1016.7066844226766,
          1050.8789422255281,
          1062.1113837555777,
          1044.9580379016384,
          1044.6527182037648,
          1039.4838558496651,
          1048.5285176097575,
          1051.207706165622,
          1055.5458814106876,
          1064.6766631727705,
          1019.2427881897761,
          1063.375604884218,
          1028.826919028319,
          1024.8334732100836,
          1032.9165389196467,
          1044.7119472990544,
          1023.4337850533587,
          1041.7808934569937,
          1016.0573846970981,
          1046.1808241268134,
          1060.6465735453974,
          1052.976624805019,
          1061.7000436892026,
          1025.5673555957894,
          1037.4941503748496,
          1043.9525208410362,
          1060.9998031873733,
          1020.0855726336418,
          1058.9249490230625,
          1053.543537627594,
          1047.4215169028698,
          1036.7475898795851,
          1036.8652884262951,
          1031.2317053938514,
          1051.1769039775322,
          1034.316167708031,
          1021.3097372394352,
          1039.1136117728263,
          1051.645409588114,
          1054.387478888361,
          1019.613851225669,
          1039.608687719969,
          1021.5434346792455,
          1055.7986183623166
         ],
         "xaxis": "x",
         "y": [
          39,
          58,
          32,
          44,
          35,
          43,
          61,
          46,
          50,
          63,
          50,
          64,
          46,
          48,
          25,
          36,
          29,
          32,
          57,
          54,
          58,
          23,
          59,
          31,
          20,
          61,
          31,
          36,
          23,
          22,
          39,
          32,
          21,
          31,
          63,
          37,
          34,
          27,
          62,
          63,
          48,
          37,
          43,
          33,
          52,
          32,
          25,
          51,
          57,
          51,
          45,
          40,
          36,
          61,
          28,
          64,
          26,
          42,
          64,
          46,
          39,
          38,
          41,
          54,
          57,
          58,
          27,
          56,
          23,
          25,
          35,
          54,
          30,
          48,
          24,
          38,
          59,
          45,
          63,
          34,
          43,
          40,
          61,
          20,
          54,
          46,
          53,
          41,
          27,
          24,
          59,
          37,
          20,
          41,
          61,
          61,
          21,
          34,
          23,
          50
         ],
         "yaxis": "y"
        },
        {
         "marker": {
          "color": "rgba(0, 190, 255, 0.9)",
          "size": 12
         },
         "mode": "markers",
         "name": "Male",
         "type": "scatter",
         "x": [
          1029.7225192333995,
          1038.582007387041,
          1033.3881078990287,
          1037.8571053479136,
          1061.5085334561848,
          1019.7668816009666,
          1053.4117235479926,
          1029.9776507263296,
          1042.4384519216662,
          1046.45992510997,
          1034.9862877814282,
          1067.7159271811345,
          1034.6867882307486,
          1041.0700129885029,
          1052.6904514365872,
          1041.3270845457155,
          1036.2885409423977,
          1026.1961872935865,
          1026.743663428415,
          1063.6135906065222,
          1019.3950633001024,
          1038.2219846088208,
          1015.8224893618153,
          1061.2133329297412,
          1055.0224925674115,
          1053.5956267913245,
          1053.8410642323115,
          1065.6721613101197,
          1030.75098944173,
          1043.9340673054517,
          1033.3040779605883,
          1054.7751735078527,
          1042.0180995587973,
          1030.4008905405049,
          1018.5512276604887,
          1042.6367445054502,
          1036.8632898590247,
          1033.6313213058415,
          1032.8708914775984,
          1027.1834733436422,
          1030.2139537802345,
          1026.2644942505465,
          1019.03904836183,
          1061.7669039522993,
          1041.8846979554914,
          1035.4321445311107,
          1040.2707480638778,
          1037.308906778927,
          1068.8000077580948,
          1063.5771110118797,
          1056.598815430702,
          1048.2481853077823,
          1041.1237320336938,
          1028.5123278242297,
          1027.9913678046946,
          1044.1311739513096,
          1056.0623672584813,
          1055.059498791665,
          1060.6584820410958,
          1042.1474959741893,
          1061.744339435943,
          1038.3944314369126,
          1027.6731844694898,
          1022.2399419233507,
          1046.0205275109397,
          1033.2890257111212,
          1037.5457710587837,
          1042.749830792948,
          1040.8033258553778,
          1042.5042258145747,
          1039.2669854884798,
          1066.1554686630825,
          1053.1023772319018,
          1059.292129647783,
          1055.7681943829941,
          1044.14510900566,
          1060.493525296145,
          1036.2280899128089,
          1053.5226136948431,
          1056.086708827202,
          1042.4403216320673,
          1067.6573976849293,
          1036.5412790097555,
          1033.9032351760118,
          1058.4655684916668,
          1041.1348531621652,
          1060.8850423568467,
          1063.40473428443,
          1055.20635589952,
          1057.4391671878948,
          1032.9062387835063,
          1041.274285226737,
          1043.224657535719,
          1059.543659401437,
          1045.743231142929,
          1015.9107444812716,
          1058.8954466410557,
          1017.2139428823122,
          1046.3052910613728,
          1056.0559171084492
         ],
         "xaxis": "x2",
         "y": [
          32,
          29,
          39,
          46,
          52,
          24,
          56,
          20,
          42,
          40,
          28,
          64,
          44,
          50,
          61,
          35,
          28,
          22,
          36,
          63,
          22,
          35,
          23,
          54,
          56,
          44,
          53,
          62,
          22,
          43,
          40,
          55,
          38,
          32,
          25,
          37,
          36,
          28,
          31,
          35,
          40,
          36,
          20,
          52,
          39,
          39,
          47,
          43,
          61,
          55,
          56,
          40,
          48,
          21,
          31,
          37,
          50,
          58,
          54,
          45,
          59,
          44,
          32,
          32,
          52,
          28,
          43,
          45,
          41,
          42,
          39,
          61,
          56,
          59,
          59,
          37,
          59,
          38,
          57,
          54,
          43,
          58,
          28,
          37,
          61,
          39,
          63,
          64,
          55,
          62,
          40,
          46,
          45,
          63,
          43,
          22,
          60,
          21,
          45,
          47
         ],
         "yaxis": "y2"
        }
       ],
       "layout": {
        "annotations": [
         {
          "font": {
           "size": 16
          },
          "showarrow": false,
          "text": "Female",
          "x": 0.225,
          "xanchor": "center",
          "xref": "paper",
          "y": 1,
          "yanchor": "bottom",
          "yref": "paper"
         },
         {
          "font": {
           "size": 16
          },
          "showarrow": false,
          "text": "Male",
          "x": 0.775,
          "xanchor": "center",
          "xref": "paper",
          "y": 1,
          "yanchor": "bottom",
          "yref": "paper"
         }
        ],
        "autosize": true,
        "template": {
         "data": {
          "bar": [
           {
            "error_x": {
             "color": "#2a3f5f"
            },
            "error_y": {
             "color": "#2a3f5f"
            },
            "marker": {
             "line": {
              "color": "#E5ECF6",
              "width": 0.5
             }
            },
            "type": "bar"
           }
          ],
          "barpolar": [
           {
            "marker": {
             "line": {
              "color": "#E5ECF6",
              "width": 0.5
             }
            },
            "type": "barpolar"
           }
          ],
          "carpet": [
           {
            "aaxis": {
             "endlinecolor": "#2a3f5f",
             "gridcolor": "white",
             "linecolor": "white",
             "minorgridcolor": "white",
             "startlinecolor": "#2a3f5f"
            },
            "baxis": {
             "endlinecolor": "#2a3f5f",
             "gridcolor": "white",
             "linecolor": "white",
             "minorgridcolor": "white",
             "startlinecolor": "#2a3f5f"
            },
            "type": "carpet"
           }
          ],
          "choropleth": [
           {
            "colorbar": {
             "outlinewidth": 0,
             "ticks": ""
            },
            "type": "choropleth"
           }
          ],
          "contour": [
           {
            "colorbar": {
             "outlinewidth": 0,
             "ticks": ""
            },
            "colorscale": [
             [
              0,
              "#0d0887"
             ],
             [
              0.1111111111111111,
              "#46039f"
             ],
             [
              0.2222222222222222,
              "#7201a8"
             ],
             [
              0.3333333333333333,
              "#9c179e"
             ],
             [
              0.4444444444444444,
              "#bd3786"
             ],
             [
              0.5555555555555556,
              "#d8576b"
             ],
             [
              0.6666666666666666,
              "#ed7953"
             ],
             [
              0.7777777777777778,
              "#fb9f3a"
             ],
             [
              0.8888888888888888,
              "#fdca26"
             ],
             [
              1,
              "#f0f921"
             ]
            ],
            "type": "contour"
           }
          ],
          "contourcarpet": [
           {
            "colorbar": {
             "outlinewidth": 0,
             "ticks": ""
            },
            "type": "contourcarpet"
           }
          ],
          "heatmap": [
           {
            "colorbar": {
             "outlinewidth": 0,
             "ticks": ""
            },
            "colorscale": [
             [
              0,
              "#0d0887"
             ],
             [
              0.1111111111111111,
              "#46039f"
             ],
             [
              0.2222222222222222,
              "#7201a8"
             ],
             [
              0.3333333333333333,
              "#9c179e"
             ],
             [
              0.4444444444444444,
              "#bd3786"
             ],
             [
              0.5555555555555556,
              "#d8576b"
             ],
             [
              0.6666666666666666,
              "#ed7953"
             ],
             [
              0.7777777777777778,
              "#fb9f3a"
             ],
             [
              0.8888888888888888,
              "#fdca26"
             ],
             [
              1,
              "#f0f921"
             ]
            ],
            "type": "heatmap"
           }
          ],
          "heatmapgl": [
           {
            "colorbar": {
             "outlinewidth": 0,
             "ticks": ""
            },
            "colorscale": [
             [
              0,
              "#0d0887"
             ],
             [
              0.1111111111111111,
              "#46039f"
             ],
             [
              0.2222222222222222,
              "#7201a8"
             ],
             [
              0.3333333333333333,
              "#9c179e"
             ],
             [
              0.4444444444444444,
              "#bd3786"
             ],
             [
              0.5555555555555556,
              "#d8576b"
             ],
             [
              0.6666666666666666,
              "#ed7953"
             ],
             [
              0.7777777777777778,
              "#fb9f3a"
             ],
             [
              0.8888888888888888,
              "#fdca26"
             ],
             [
              1,
              "#f0f921"
             ]
            ],
            "type": "heatmapgl"
           }
          ],
          "histogram": [
           {
            "marker": {
             "colorbar": {
              "outlinewidth": 0,
              "ticks": ""
             }
            },
            "type": "histogram"
           }
          ],
          "histogram2d": [
           {
            "colorbar": {
             "outlinewidth": 0,
             "ticks": ""
            },
            "colorscale": [
             [
              0,
              "#0d0887"
             ],
             [
              0.1111111111111111,
              "#46039f"
             ],
             [
              0.2222222222222222,
              "#7201a8"
             ],
             [
              0.3333333333333333,
              "#9c179e"
             ],
             [
              0.4444444444444444,
              "#bd3786"
             ],
             [
              0.5555555555555556,
              "#d8576b"
             ],
             [
              0.6666666666666666,
              "#ed7953"
             ],
             [
              0.7777777777777778,
              "#fb9f3a"
             ],
             [
              0.8888888888888888,
              "#fdca26"
             ],
             [
              1,
              "#f0f921"
             ]
            ],
            "type": "histogram2d"
           }
          ],
          "histogram2dcontour": [
           {
            "colorbar": {
             "outlinewidth": 0,
             "ticks": ""
            },
            "colorscale": [
             [
              0,
              "#0d0887"
             ],
             [
              0.1111111111111111,
              "#46039f"
             ],
             [
              0.2222222222222222,
              "#7201a8"
             ],
             [
              0.3333333333333333,
              "#9c179e"
             ],
             [
              0.4444444444444444,
              "#bd3786"
             ],
             [
              0.5555555555555556,
              "#d8576b"
             ],
             [
              0.6666666666666666,
              "#ed7953"
             ],
             [
              0.7777777777777778,
              "#fb9f3a"
             ],
             [
              0.8888888888888888,
              "#fdca26"
             ],
             [
              1,
              "#f0f921"
             ]
            ],
            "type": "histogram2dcontour"
           }
          ],
          "mesh3d": [
           {
            "colorbar": {
             "outlinewidth": 0,
             "ticks": ""
            },
            "type": "mesh3d"
           }
          ],
          "parcoords": [
           {
            "line": {
             "colorbar": {
              "outlinewidth": 0,
              "ticks": ""
             }
            },
            "type": "parcoords"
           }
          ],
          "pie": [
           {
            "automargin": true,
            "type": "pie"
           }
          ],
          "scatter": [
           {
            "marker": {
             "colorbar": {
              "outlinewidth": 0,
              "ticks": ""
             }
            },
            "type": "scatter"
           }
          ],
          "scatter3d": [
           {
            "line": {
             "colorbar": {
              "outlinewidth": 0,
              "ticks": ""
             }
            },
            "marker": {
             "colorbar": {
              "outlinewidth": 0,
              "ticks": ""
             }
            },
            "type": "scatter3d"
           }
          ],
          "scattercarpet": [
           {
            "marker": {
             "colorbar": {
              "outlinewidth": 0,
              "ticks": ""
             }
            },
            "type": "scattercarpet"
           }
          ],
          "scattergeo": [
           {
            "marker": {
             "colorbar": {
              "outlinewidth": 0,
              "ticks": ""
             }
            },
            "type": "scattergeo"
           }
          ],
          "scattergl": [
           {
            "marker": {
             "colorbar": {
              "outlinewidth": 0,
              "ticks": ""
             }
            },
            "type": "scattergl"
           }
          ],
          "scattermapbox": [
           {
            "marker": {
             "colorbar": {
              "outlinewidth": 0,
              "ticks": ""
             }
            },
            "type": "scattermapbox"
           }
          ],
          "scatterpolar": [
           {
            "marker": {
             "colorbar": {
              "outlinewidth": 0,
              "ticks": ""
             }
            },
            "type": "scatterpolar"
           }
          ],
          "scatterpolargl": [
           {
            "marker": {
             "colorbar": {
              "outlinewidth": 0,
              "ticks": ""
             }
            },
            "type": "scatterpolargl"
           }
          ],
          "scatterternary": [
           {
            "marker": {
             "colorbar": {
              "outlinewidth": 0,
              "ticks": ""
             }
            },
            "type": "scatterternary"
           }
          ],
          "surface": [
           {
            "colorbar": {
             "outlinewidth": 0,
             "ticks": ""
            },
            "colorscale": [
             [
              0,
              "#0d0887"
             ],
             [
              0.1111111111111111,
              "#46039f"
             ],
             [
              0.2222222222222222,
              "#7201a8"
             ],
             [
              0.3333333333333333,
              "#9c179e"
             ],
             [
              0.4444444444444444,
              "#bd3786"
             ],
             [
              0.5555555555555556,
              "#d8576b"
             ],
             [
              0.6666666666666666,
              "#ed7953"
             ],
             [
              0.7777777777777778,
              "#fb9f3a"
             ],
             [
              0.8888888888888888,
              "#fdca26"
             ],
             [
              1,
              "#f0f921"
             ]
            ],
            "type": "surface"
           }
          ],
          "table": [
           {
            "cells": {
             "fill": {
              "color": "#EBF0F8"
             },
             "line": {
              "color": "white"
             }
            },
            "header": {
             "fill": {
              "color": "#C8D4E3"
             },
             "line": {
              "color": "white"
             }
            },
            "type": "table"
           }
          ]
         },
         "layout": {
          "annotationdefaults": {
           "arrowcolor": "#2a3f5f",
           "arrowhead": 0,
           "arrowwidth": 1
          },
          "coloraxis": {
           "colorbar": {
            "outlinewidth": 0,
            "ticks": ""
           }
          },
          "colorscale": {
           "diverging": [
            [
             0,
             "#8e0152"
            ],
            [
             0.1,
             "#c51b7d"
            ],
            [
             0.2,
             "#de77ae"
            ],
            [
             0.3,
             "#f1b6da"
            ],
            [
             0.4,
             "#fde0ef"
            ],
            [
             0.5,
             "#f7f7f7"
            ],
            [
             0.6,
             "#e6f5d0"
            ],
            [
             0.7,
             "#b8e186"
            ],
            [
             0.8,
             "#7fbc41"
            ],
            [
             0.9,
             "#4d9221"
            ],
            [
             1,
             "#276419"
            ]
           ],
           "sequential": [
            [
             0,
             "#0d0887"
            ],
            [
             0.1111111111111111,
             "#46039f"
            ],
            [
             0.2222222222222222,
             "#7201a8"
            ],
            [
             0.3333333333333333,
             "#9c179e"
            ],
            [
             0.4444444444444444,
             "#bd3786"
            ],
            [
             0.5555555555555556,
             "#d8576b"
            ],
            [
             0.6666666666666666,
             "#ed7953"
            ],
            [
             0.7777777777777778,
             "#fb9f3a"
            ],
            [
             0.8888888888888888,
             "#fdca26"
            ],
            [
             1,
             "#f0f921"
            ]
           ],
           "sequentialminus": [
            [
             0,
             "#0d0887"
            ],
            [
             0.1111111111111111,
             "#46039f"
            ],
            [
             0.2222222222222222,
             "#7201a8"
            ],
            [
             0.3333333333333333,
             "#9c179e"
            ],
            [
             0.4444444444444444,
             "#bd3786"
            ],
            [
             0.5555555555555556,
             "#d8576b"
            ],
            [
             0.6666666666666666,
             "#ed7953"
            ],
            [
             0.7777777777777778,
             "#fb9f3a"
            ],
            [
             0.8888888888888888,
             "#fdca26"
            ],
            [
             1,
             "#f0f921"
            ]
           ]
          },
          "colorway": [
           "#636efa",
           "#EF553B",
           "#00cc96",
           "#ab63fa",
           "#FFA15A",
           "#19d3f3",
           "#FF6692",
           "#B6E880",
           "#FF97FF",
           "#FECB52"
          ],
          "font": {
           "color": "#2a3f5f"
          },
          "geo": {
           "bgcolor": "white",
           "lakecolor": "white",
           "landcolor": "#E5ECF6",
           "showlakes": true,
           "showland": true,
           "subunitcolor": "white"
          },
          "hoverlabel": {
           "align": "left"
          },
          "hovermode": "closest",
          "mapbox": {
           "style": "light"
          },
          "paper_bgcolor": "white",
          "plot_bgcolor": "#E5ECF6",
          "polar": {
           "angularaxis": {
            "gridcolor": "white",
            "linecolor": "white",
            "ticks": ""
           },
           "bgcolor": "#E5ECF6",
           "radialaxis": {
            "gridcolor": "white",
            "linecolor": "white",
            "ticks": ""
           }
          },
          "scene": {
           "xaxis": {
            "backgroundcolor": "#E5ECF6",
            "gridcolor": "white",
            "gridwidth": 2,
            "linecolor": "white",
            "showbackground": true,
            "ticks": "",
            "zerolinecolor": "white"
           },
           "yaxis": {
            "backgroundcolor": "#E5ECF6",
            "gridcolor": "white",
            "gridwidth": 2,
            "linecolor": "white",
            "showbackground": true,
            "ticks": "",
            "zerolinecolor": "white"
           },
           "zaxis": {
            "backgroundcolor": "#E5ECF6",
            "gridcolor": "white",
            "gridwidth": 2,
            "linecolor": "white",
            "showbackground": true,
            "ticks": "",
            "zerolinecolor": "white"
           }
          },
          "shapedefaults": {
           "line": {
            "color": "#2a3f5f"
           }
          },
          "ternary": {
           "aaxis": {
            "gridcolor": "white",
            "linecolor": "white",
            "ticks": ""
           },
           "baxis": {
            "gridcolor": "white",
            "linecolor": "white",
            "ticks": ""
           },
           "bgcolor": "#E5ECF6",
           "caxis": {
            "gridcolor": "white",
            "linecolor": "white",
            "ticks": ""
           }
          },
          "title": {
           "x": 0.05
          },
          "xaxis": {
           "automargin": true,
           "gridcolor": "white",
           "linecolor": "white",
           "ticks": "",
           "title": {
            "standoff": 15
           },
           "zerolinecolor": "white",
           "zerolinewidth": 2
          },
          "yaxis": {
           "automargin": true,
           "gridcolor": "white",
           "linecolor": "white",
           "ticks": "",
           "title": {
            "standoff": 15
           },
           "zerolinecolor": "white",
           "zerolinewidth": 2
          }
         }
        },
        "title": {
         "text": "Correlation between salary and age"
        },
        "xaxis": {
         "anchor": "y",
         "autorange": true,
         "domain": [
          0,
          0.45
         ],
         "range": [
          1009.8312928701143,
          1072.6660220369713
         ],
         "type": "linear"
        },
        "xaxis2": {
         "anchor": "y2",
         "autorange": true,
         "domain": [
          0.55,
          1
         ],
         "range": [
          1011.8773550131561,
          1072.745142106754
         ],
         "type": "linear"
        },
        "yaxis": {
         "anchor": "x",
         "autorange": true,
         "domain": [
          0,
          1
         ],
         "range": [
          15.947368421052632,
          68.05263157894737
         ],
         "title": {
          "text": "Age"
         },
         "type": "linear"
        },
        "yaxis2": {
         "anchor": "x2",
         "autorange": true,
         "domain": [
          0,
          1
         ],
         "matches": "y",
         "range": [
          15.947368421052632,
          68.05263157894737
         ],
         "showticklabels": false,
         "type": "linear"
        }
       }
      },
      "image/png": "[encoded data removed]"
     },
     "metadata": {},
     "output_type": "display_data"
    }
   ],
   "source": [
    "trace0 = go.Scatter(x = female_salary,\n",
    "                  y = female_age,\n",
    "                  mode = \"markers\",\n",
    "                   name = \"Female\",\n",
    "                  marker = dict(size = 12, color = \"rgba(255, 70, 0, 0.9)\"))\n",
    "\n",
    "trace1 = go.Scatter(x = male_salary,\n",
    "                  y = male_age,\n",
    "                    name = \"Male\",\n",
    "                  mode = \"markers\",\n",
    "                  marker = dict(size = 12, color = \"rgba(0, 190, 255, 0.9)\"))\n",
    "\n",
    "fig = subplots.make_subplots(rows = 1,\n",
    "                          cols = 2,\n",
    "                         subplot_titles = (\"Female\", \"Male\"),\n",
    "                         shared_yaxes = True)\n",
    "\n",
    "fig.append_trace(trace0, 1, 1)\n",
    "fig.append_trace(trace1, 1, 2)\n",
    "\n",
    "fig.layout.update(title = \"Correlation between salary and age\",\n",
    "                 yaxis = dict(title = \"Age\"))\n",
    "\n",
    "# iplot(fig);\n",
    "pio.show(fig);\n"
   ]
  },
  {
   "cell_type": "markdown",
   "metadata": {},
   "source": [
    "## Two rows and one column sharing *x*-axes"
   ]
  },
  {
   "cell_type": "code",
   "execution_count": 7,
   "metadata": {},
   "outputs": [
    {
     "data": {
      "application/vnd.plotly.v1+json": {
       "config": {
        "plotlyServerURL": "https://plot.ly"
       },
       "data": [
        {
         "marker": {
          "color": "rgba(255, 70, 0, 0.9)",
          "size": 12
         },
         "mode": "markers",
         "name": "Female",
         "type": "scatter",
         "x": [
          1042.0839202304187,
          1055.371153642003,
          1041.0476934824042,
          1037.935409568618,
          1041.9986005534297,
          1052.2091658673428,
          1058.6223654549997,
          1042.6187240564307,
          1045.2184690696465,
          1066.3098217511447,
          1043.6359086308596,
          1061.5359987857348,
          1036.2851712576155,
          1044.782706030998,
          1023.0270280790877,
          1035.3514733317131,
          1032.0421100107278,
          1041.943842880755,
          1057.3492456510608,
          1052.072231112952,
          1049.1689352719045,
          1013.9039142050032,
          1061.541608877667,
          1021.1613682345386,
          1018.3576051851012,
          1051.1268466701226,
          1029.4841266819947,
          1033.2556557242713,
          1025.375751863632,
          1020.3800156735829,
          1029.274227669082,
          1030.2669918783931,
          1015.3971432449822,
          1031.5987335417772,
          1068.5934007020824,
          1037.4345464144315,
          1034.1095326980476,
          1018.3041250170079,
          1060.1649779844429,
          1067.0644403463466,
          1056.4885987685673,
          1038.0022283141673,
          1039.6489916638616,
          1035.863711934621,
          1061.0406466043617,
          1026.2883817316413,
          1033.0963465759464,
          1051.57187977008,
          1062.1509740556905,
          1051.447194297169,
          1046.8901131107882,
          1037.416407704999,
          1027.644649520979,
          1061.598398119565,
          1033.1831616380146,
          1054.3555621175526,
          1016.7066844226766,
          1050.8789422255281,
          1062.1113837555777,
          1044.9580379016384,
          1044.6527182037648,
          1039.4838558496651,
          1048.5285176097575,
          1051.207706165622,
          1055.5458814106876,
          1064.6766631727705,
          1019.2427881897761,
          1063.375604884218,
          1028.826919028319,
          1024.8334732100836,
          1032.9165389196467,
          1044.7119472990544,
          1023.4337850533587,
          1041.7808934569937,
          1016.0573846970981,
          1046.1808241268134,
          1060.6465735453974,
          1052.976624805019,
          1061.7000436892026,
          1025.5673555957894,
          1037.4941503748496,
          1043.9525208410362,
          1060.9998031873733,
          1020.0855726336418,
          1058.9249490230625,
          1053.543537627594,
          1047.4215169028698,
          1036.7475898795851,
          1036.8652884262951,
          1031.2317053938514,
          1051.1769039775322,
          1034.316167708031,
          1021.3097372394352,
          1039.1136117728263,
          1051.645409588114,
          1054.387478888361,
          1019.613851225669,
          1039.608687719969,
          1021.5434346792455,
          1055.7986183623166
         ],
         "xaxis": "x",
         "y": [
          39,
          58,
          32,
          44,
          35,
          43,
          61,
          46,
          50,
          63,
          50,
          64,
          46,
          48,
          25,
          36,
          29,
          32,
          57,
          54,
          58,
          23,
          59,
          31,
          20,
          61,
          31,
          36,
          23,
          22,
          39,
          32,
          21,
          31,
          63,
          37,
          34,
          27,
          62,
          63,
          48,
          37,
          43,
          33,
          52,
          32,
          25,
          51,
          57,
          51,
          45,
          40,
          36,
          61,
          28,
          64,
          26,
          42,
          64,
          46,
          39,
          38,
          41,
          54,
          57,
          58,
          27,
          56,
          23,
          25,
          35,
          54,
          30,
          48,
          24,
          38,
          59,
          45,
          63,
          34,
          43,
          40,
          61,
          20,
          54,
          46,
          53,
          41,
          27,
          24,
          59,
          37,
          20,
          41,
          61,
          61,
          21,
          34,
          23,
          50
         ],
         "yaxis": "y"
        },
        {
         "marker": {
          "color": "rgba(0, 190, 255, 0.9)",
          "size": 12
         },
         "mode": "markers",
         "name": "Male",
         "type": "scatter",
         "x": [
          1029.7225192333995,
          1038.582007387041,
          1033.3881078990287,
          1037.8571053479136,
          1061.5085334561848,
          1019.7668816009666,
          1053.4117235479926,
          1029.9776507263296,
          1042.4384519216662,
          1046.45992510997,
          1034.9862877814282,
          1067.7159271811345,
          1034.6867882307486,
          1041.0700129885029,
          1052.6904514365872,
          1041.3270845457155,
          1036.2885409423977,
          1026.1961872935865,
          1026.743663428415,
          1063.6135906065222,
          1019.3950633001024,
          1038.2219846088208,
          1015.8224893618153,
          1061.2133329297412,
          1055.0224925674115,
          1053.5956267913245,
          1053.8410642323115,
          1065.6721613101197,
          1030.75098944173,
          1043.9340673054517,
          1033.3040779605883,
          1054.7751735078527,
          1042.0180995587973,
          1030.4008905405049,
          1018.5512276604887,
          1042.6367445054502,
          1036.8632898590247,
          1033.6313213058415,
          1032.8708914775984,
          1027.1834733436422,
          1030.2139537802345,
          1026.2644942505465,
          1019.03904836183,
          1061.7669039522993,
          1041.8846979554914,
          1035.4321445311107,
          1040.2707480638778,
          1037.308906778927,
          1068.8000077580948,
          1063.5771110118797,
          1056.598815430702,
          1048.2481853077823,
          1041.1237320336938,
          1028.5123278242297,
          1027.9913678046946,
          1044.1311739513096,
          1056.0623672584813,
          1055.059498791665,
          1060.6584820410958,
          1042.1474959741893,
          1061.744339435943,
          1038.3944314369126,
          1027.6731844694898,
          1022.2399419233507,
          1046.0205275109397,
          1033.2890257111212,
          1037.5457710587837,
          1042.749830792948,
          1040.8033258553778,
          1042.5042258145747,
          1039.2669854884798,
          1066.1554686630825,
          1053.1023772319018,
          1059.292129647783,
          1055.7681943829941,
          1044.14510900566,
          1060.493525296145,
          1036.2280899128089,
          1053.5226136948431,
          1056.086708827202,
          1042.4403216320673,
          1067.6573976849293,
          1036.5412790097555,
          1033.9032351760118,
          1058.4655684916668,
          1041.1348531621652,
          1060.8850423568467,
          1063.40473428443,
          1055.20635589952,
          1057.4391671878948,
          1032.9062387835063,
          1041.274285226737,
          1043.224657535719,
          1059.543659401437,
          1045.743231142929,
          1015.9107444812716,
          1058.8954466410557,
          1017.2139428823122,
          1046.3052910613728,
          1056.0559171084492
         ],
         "xaxis": "x2",
         "y": [
          32,
          29,
          39,
          46,
          52,
          24,
          56,
          20,
          42,
          40,
          28,
          64,
          44,
          50,
          61,
          35,
          28,
          22,
          36,
          63,
          22,
          35,
          23,
          54,
          56,
          44,
          53,
          62,
          22,
          43,
          40,
          55,
          38,
          32,
          25,
          37,
          36,
          28,
          31,
          35,
          40,
          36,
          20,
          52,
          39,
          39,
          47,
          43,
          61,
          55,
          56,
          40,
          48,
          21,
          31,
          37,
          50,
          58,
          54,
          45,
          59,
          44,
          32,
          32,
          52,
          28,
          43,
          45,
          41,
          42,
          39,
          61,
          56,
          59,
          59,
          37,
          59,
          38,
          57,
          54,
          43,
          58,
          28,
          37,
          61,
          39,
          63,
          64,
          55,
          62,
          40,
          46,
          45,
          63,
          43,
          22,
          60,
          21,
          45,
          47
         ],
         "yaxis": "y2"
        }
       ],
       "layout": {
        "annotations": [
         {
          "font": {
           "size": 16
          },
          "showarrow": false,
          "text": "Female",
          "x": 0.5,
          "xanchor": "center",
          "xref": "paper",
          "y": 1,
          "yanchor": "bottom",
          "yref": "paper"
         },
         {
          "font": {
           "size": 16
          },
          "showarrow": false,
          "text": "Male",
          "x": 0.5,
          "xanchor": "center",
          "xref": "paper",
          "y": 0.375,
          "yanchor": "bottom",
          "yref": "paper"
         }
        ],
        "autosize": true,
        "template": {
         "data": {
          "bar": [
           {
            "error_x": {
             "color": "#2a3f5f"
            },
            "error_y": {
             "color": "#2a3f5f"
            },
            "marker": {
             "line": {
              "color": "#E5ECF6",
              "width": 0.5
             }
            },
            "type": "bar"
           }
          ],
          "barpolar": [
           {
            "marker": {
             "line": {
              "color": "#E5ECF6",
              "width": 0.5
             }
            },
            "type": "barpolar"
           }
          ],
          "carpet": [
           {
            "aaxis": {
             "endlinecolor": "#2a3f5f",
             "gridcolor": "white",
             "linecolor": "white",
             "minorgridcolor": "white",
             "startlinecolor": "#2a3f5f"
            },
            "baxis": {
             "endlinecolor": "#2a3f5f",
             "gridcolor": "white",
             "linecolor": "white",
             "minorgridcolor": "white",
             "startlinecolor": "#2a3f5f"
            },
            "type": "carpet"
           }
          ],
          "choropleth": [
           {
            "colorbar": {
             "outlinewidth": 0,
             "ticks": ""
            },
            "type": "choropleth"
           }
          ],
          "contour": [
           {
            "colorbar": {
             "outlinewidth": 0,
             "ticks": ""
            },
            "colorscale": [
             [
              0,
              "#0d0887"
             ],
             [
              0.1111111111111111,
              "#46039f"
             ],
             [
              0.2222222222222222,
              "#7201a8"
             ],
             [
              0.3333333333333333,
              "#9c179e"
             ],
             [
              0.4444444444444444,
              "#bd3786"
             ],
             [
              0.5555555555555556,
              "#d8576b"
             ],
             [
              0.6666666666666666,
              "#ed7953"
             ],
             [
              0.7777777777777778,
              "#fb9f3a"
             ],
             [
              0.8888888888888888,
              "#fdca26"
             ],
             [
              1,
              "#f0f921"
             ]
            ],
            "type": "contour"
           }
          ],
          "contourcarpet": [
           {
            "colorbar": {
             "outlinewidth": 0,
             "ticks": ""
            },
            "type": "contourcarpet"
           }
          ],
          "heatmap": [
           {
            "colorbar": {
             "outlinewidth": 0,
             "ticks": ""
            },
            "colorscale": [
             [
              0,
              "#0d0887"
             ],
             [
              0.1111111111111111,
              "#46039f"
             ],
             [
              0.2222222222222222,
              "#7201a8"
             ],
             [
              0.3333333333333333,
              "#9c179e"
             ],
             [
              0.4444444444444444,
              "#bd3786"
             ],
             [
              0.5555555555555556,
              "#d8576b"
             ],
             [
              0.6666666666666666,
              "#ed7953"
             ],
             [
              0.7777777777777778,
              "#fb9f3a"
             ],
             [
              0.8888888888888888,
              "#fdca26"
             ],
             [
              1,
              "#f0f921"
             ]
            ],
            "type": "heatmap"
           }
          ],
          "heatmapgl": [
           {
            "colorbar": {
             "outlinewidth": 0,
             "ticks": ""
            },
            "colorscale": [
             [
              0,
              "#0d0887"
             ],
             [
              0.1111111111111111,
              "#46039f"
             ],
             [
              0.2222222222222222,
              "#7201a8"
             ],
             [
              0.3333333333333333,
              "#9c179e"
             ],
             [
              0.4444444444444444,
              "#bd3786"
             ],
             [
              0.5555555555555556,
              "#d8576b"
             ],
             [
              0.6666666666666666,
              "#ed7953"
             ],
             [
              0.7777777777777778,
              "#fb9f3a"
             ],
             [
              0.8888888888888888,
              "#fdca26"
             ],
             [
              1,
              "#f0f921"
             ]
            ],
            "type": "heatmapgl"
           }
          ],
          "histogram": [
           {
            "marker": {
             "colorbar": {
              "outlinewidth": 0,
              "ticks": ""
             }
            },
            "type": "histogram"
           }
          ],
          "histogram2d": [
           {
            "colorbar": {
             "outlinewidth": 0,
             "ticks": ""
            },
            "colorscale": [
             [
              0,
              "#0d0887"
             ],
             [
              0.1111111111111111,
              "#46039f"
             ],
             [
              0.2222222222222222,
              "#7201a8"
             ],
             [
              0.3333333333333333,
              "#9c179e"
             ],
             [
              0.4444444444444444,
              "#bd3786"
             ],
             [
              0.5555555555555556,
              "#d8576b"
             ],
             [
              0.6666666666666666,
              "#ed7953"
             ],
             [
              0.7777777777777778,
              "#fb9f3a"
             ],
             [
              0.8888888888888888,
              "#fdca26"
             ],
             [
              1,
              "#f0f921"
             ]
            ],
            "type": "histogram2d"
           }
          ],
          "histogram2dcontour": [
           {
            "colorbar": {
             "outlinewidth": 0,
             "ticks": ""
            },
            "colorscale": [
             [
              0,
              "#0d0887"
             ],
             [
              0.1111111111111111,
              "#46039f"
             ],
             [
              0.2222222222222222,
              "#7201a8"
             ],
             [
              0.3333333333333333,
              "#9c179e"
             ],
             [
              0.4444444444444444,
              "#bd3786"
             ],
             [
              0.5555555555555556,
              "#d8576b"
             ],
             [
              0.6666666666666666,
              "#ed7953"
             ],
             [
              0.7777777777777778,
              "#fb9f3a"
             ],
             [
              0.8888888888888888,
              "#fdca26"
             ],
             [
              1,
              "#f0f921"
             ]
            ],
            "type": "histogram2dcontour"
           }
          ],
          "mesh3d": [
           {
            "colorbar": {
             "outlinewidth": 0,
             "ticks": ""
            },
            "type": "mesh3d"
           }
          ],
          "parcoords": [
           {
            "line": {
             "colorbar": {
              "outlinewidth": 0,
              "ticks": ""
             }
            },
            "type": "parcoords"
           }
          ],
          "pie": [
           {
            "automargin": true,
            "type": "pie"
           }
          ],
          "scatter": [
           {
            "marker": {
             "colorbar": {
              "outlinewidth": 0,
              "ticks": ""
             }
            },
            "type": "scatter"
           }
          ],
          "scatter3d": [
           {
            "line": {
             "colorbar": {
              "outlinewidth": 0,
              "ticks": ""
             }
            },
            "marker": {
             "colorbar": {
              "outlinewidth": 0,
              "ticks": ""
             }
            },
            "type": "scatter3d"
           }
          ],
          "scattercarpet": [
           {
            "marker": {
             "colorbar": {
              "outlinewidth": 0,
              "ticks": ""
             }
            },
            "type": "scattercarpet"
           }
          ],
          "scattergeo": [
           {
            "marker": {
             "colorbar": {
              "outlinewidth": 0,
              "ticks": ""
             }
            },
            "type": "scattergeo"
           }
          ],
          "scattergl": [
           {
            "marker": {
             "colorbar": {
              "outlinewidth": 0,
              "ticks": ""
             }
            },
            "type": "scattergl"
           }
          ],
          "scattermapbox": [
           {
            "marker": {
             "colorbar": {
              "outlinewidth": 0,
              "ticks": ""
             }
            },
            "type": "scattermapbox"
           }
          ],
          "scatterpolar": [
           {
            "marker": {
             "colorbar": {
              "outlinewidth": 0,
              "ticks": ""
             }
            },
            "type": "scatterpolar"
           }
          ],
          "scatterpolargl": [
           {
            "marker": {
             "colorbar": {
              "outlinewidth": 0,
              "ticks": ""
             }
            },
            "type": "scatterpolargl"
           }
          ],
          "scatterternary": [
           {
            "marker": {
             "colorbar": {
              "outlinewidth": 0,
              "ticks": ""
             }
            },
            "type": "scatterternary"
           }
          ],
          "surface": [
           {
            "colorbar": {
             "outlinewidth": 0,
             "ticks": ""
            },
            "colorscale": [
             [
              0,
              "#0d0887"
             ],
             [
              0.1111111111111111,
              "#46039f"
             ],
             [
              0.2222222222222222,
              "#7201a8"
             ],
             [
              0.3333333333333333,
              "#9c179e"
             ],
             [
              0.4444444444444444,
              "#bd3786"
             ],
             [
              0.5555555555555556,
              "#d8576b"
             ],
             [
              0.6666666666666666,
              "#ed7953"
             ],
             [
              0.7777777777777778,
              "#fb9f3a"
             ],
             [
              0.8888888888888888,
              "#fdca26"
             ],
             [
              1,
              "#f0f921"
             ]
            ],
            "type": "surface"
           }
          ],
          "table": [
           {
            "cells": {
             "fill": {
              "color": "#EBF0F8"
             },
             "line": {
              "color": "white"
             }
            },
            "header": {
             "fill": {
              "color": "#C8D4E3"
             },
             "line": {
              "color": "white"
             }
            },
            "type": "table"
           }
          ]
         },
         "layout": {
          "annotationdefaults": {
           "arrowcolor": "#2a3f5f",
           "arrowhead": 0,
           "arrowwidth": 1
          },
          "coloraxis": {
           "colorbar": {
            "outlinewidth": 0,
            "ticks": ""
           }
          },
          "colorscale": {
           "diverging": [
            [
             0,
             "#8e0152"
            ],
            [
             0.1,
             "#c51b7d"
            ],
            [
             0.2,
             "#de77ae"
            ],
            [
             0.3,
             "#f1b6da"
            ],
            [
             0.4,
             "#fde0ef"
            ],
            [
             0.5,
             "#f7f7f7"
            ],
            [
             0.6,
             "#e6f5d0"
            ],
            [
             0.7,
             "#b8e186"
            ],
            [
             0.8,
             "#7fbc41"
            ],
            [
             0.9,
             "#4d9221"
            ],
            [
             1,
             "#276419"
            ]
           ],
           "sequential": [
            [
             0,
             "#0d0887"
            ],
            [
             0.1111111111111111,
             "#46039f"
            ],
            [
             0.2222222222222222,
             "#7201a8"
            ],
            [
             0.3333333333333333,
             "#9c179e"
            ],
            [
             0.4444444444444444,
             "#bd3786"
            ],
            [
             0.5555555555555556,
             "#d8576b"
            ],
            [
             0.6666666666666666,
             "#ed7953"
            ],
            [
             0.7777777777777778,
             "#fb9f3a"
            ],
            [
             0.8888888888888888,
             "#fdca26"
            ],
            [
             1,
             "#f0f921"
            ]
           ],
           "sequentialminus": [
            [
             0,
             "#0d0887"
            ],
            [
             0.1111111111111111,
             "#46039f"
            ],
            [
             0.2222222222222222,
             "#7201a8"
            ],
            [
             0.3333333333333333,
             "#9c179e"
            ],
            [
             0.4444444444444444,
             "#bd3786"
            ],
            [
             0.5555555555555556,
             "#d8576b"
            ],
            [
             0.6666666666666666,
             "#ed7953"
            ],
            [
             0.7777777777777778,
             "#fb9f3a"
            ],
            [
             0.8888888888888888,
             "#fdca26"
            ],
            [
             1,
             "#f0f921"
            ]
           ]
          },
          "colorway": [
           "#636efa",
           "#EF553B",
           "#00cc96",
           "#ab63fa",
           "#FFA15A",
           "#19d3f3",
           "#FF6692",
           "#B6E880",
           "#FF97FF",
           "#FECB52"
          ],
          "font": {
           "color": "#2a3f5f"
          },
          "geo": {
           "bgcolor": "white",
           "lakecolor": "white",
           "landcolor": "#E5ECF6",
           "showlakes": true,
           "showland": true,
           "subunitcolor": "white"
          },
          "hoverlabel": {
           "align": "left"
          },
          "hovermode": "closest",
          "mapbox": {
           "style": "light"
          },
          "paper_bgcolor": "white",
          "plot_bgcolor": "#E5ECF6",
          "polar": {
           "angularaxis": {
            "gridcolor": "white",
            "linecolor": "white",
            "ticks": ""
           },
           "bgcolor": "#E5ECF6",
           "radialaxis": {
            "gridcolor": "white",
            "linecolor": "white",
            "ticks": ""
           }
          },
          "scene": {
           "xaxis": {
            "backgroundcolor": "#E5ECF6",
            "gridcolor": "white",
            "gridwidth": 2,
            "linecolor": "white",
            "showbackground": true,
            "ticks": "",
            "zerolinecolor": "white"
           },
           "yaxis": {
            "backgroundcolor": "#E5ECF6",
            "gridcolor": "white",
            "gridwidth": 2,
            "linecolor": "white",
            "showbackground": true,
            "ticks": "",
            "zerolinecolor": "white"
           },
           "zaxis": {
            "backgroundcolor": "#E5ECF6",
            "gridcolor": "white",
            "gridwidth": 2,
            "linecolor": "white",
            "showbackground": true,
            "ticks": "",
            "zerolinecolor": "white"
           }
          },
          "shapedefaults": {
           "line": {
            "color": "#2a3f5f"
           }
          },
          "ternary": {
           "aaxis": {
            "gridcolor": "white",
            "linecolor": "white",
            "ticks": ""
           },
           "baxis": {
            "gridcolor": "white",
            "linecolor": "white",
            "ticks": ""
           },
           "bgcolor": "#E5ECF6",
           "caxis": {
            "gridcolor": "white",
            "linecolor": "white",
            "ticks": ""
           }
          },
          "title": {
           "x": 0.05
          },
          "xaxis": {
           "automargin": true,
           "gridcolor": "white",
           "linecolor": "white",
           "ticks": "",
           "title": {
            "standoff": 15
           },
           "zerolinecolor": "white",
           "zerolinewidth": 2
          },
          "yaxis": {
           "automargin": true,
           "gridcolor": "white",
           "linecolor": "white",
           "ticks": "",
           "title": {
            "standoff": 15
           },
           "zerolinecolor": "white",
           "zerolinewidth": 2
          }
         }
        },
        "title": {
         "text": "Correlation between salary and age"
        },
        "xaxis": {
         "anchor": "y",
         "autorange": true,
         "domain": [
          0,
          1
         ],
         "matches": "x2",
         "range": [
          1010.4087214589492,
          1072.1857890089848
         ],
         "showticklabels": false,
         "type": "linear"
        },
        "xaxis2": {
         "anchor": "y2",
         "autorange": true,
         "domain": [
          0,
          1
         ],
         "range": [
          1010.4087214589492,
          1072.1857890089848
         ],
         "type": "linear"
        },
        "yaxis": {
         "anchor": "x",
         "autorange": true,
         "domain": [
          0.625,
          1
         ],
         "range": [
          12.738916256157637,
          71.26108374384236
         ],
         "type": "linear"
        },
        "yaxis2": {
         "anchor": "x2",
         "autorange": true,
         "domain": [
          0,
          0.375
         ],
         "range": [
          12.738916256157637,
          71.26108374384236
         ],
         "type": "linear"
        }
       }
      },
      "image/png": "[encoded data removed]"
     },
     "metadata": {},
     "output_type": "display_data"
    }
   ],
   "source": [
    "trace0 = go.Scatter(x = female_salary,\n",
    "                  y = female_age,\n",
    "                  mode = \"markers\",\n",
    "                   name = \"Female\",\n",
    "                  marker = dict(size = 12, color = \"rgba(255, 70, 0, 0.9)\"))\n",
    "\n",
    "trace1 = go.Scatter(x = male_salary,\n",
    "                  y = male_age,\n",
    "                    name = \"Male\",\n",
    "                  mode = \"markers\",\n",
    "                  marker = dict(size = 12, color = \"rgba(0, 190, 255, 0.9)\"))\n",
    "\n",
    "fig = subplots.make_subplots(rows = 2,\n",
    "                          cols = 1,\n",
    "                         subplot_titles = (\"Female\", \"Male\"),\n",
    "                         shared_xaxes = True)\n",
    "\n",
    "fig.append_trace(trace0, 1, 1)\n",
    "fig.append_trace(trace1, 2, 1)\n",
    "\n",
    "fig.layout.update(title = \"Correlation between salary and age\")\n",
    "\n",
    "# iplot(fig);\n",
    "pio.show(fig);"
   ]
  },
  {
   "cell_type": "markdown",
   "metadata": {},
   "source": [
    "## Constrain plot proportions"
   ]
  },
  {
   "cell_type": "code",
   "execution_count": 8,
   "metadata": {},
   "outputs": [
    {
     "data": {
      "application/vnd.plotly.v1+json": {
       "config": {
        "plotlyServerURL": "https://plot.ly"
       },
       "data": [
        {
         "marker": {
          "color": "rgba(255, 70, 0, 0.9)",
          "size": 12
         },
         "mode": "markers",
         "name": "Female",
         "type": "scatter",
         "x": [
          1042.0839202304187,
          1055.371153642003,
          1041.0476934824042,
          1037.935409568618,
          1041.9986005534297,
          1052.2091658673428,
          1058.6223654549997,
          1042.6187240564307,
          1045.2184690696465,
          1066.3098217511447,
          1043.6359086308596,
          1061.5359987857348,
          1036.2851712576155,
          1044.782706030998,
          1023.0270280790877,
          1035.3514733317131,
          1032.0421100107278,
          1041.943842880755,
          1057.3492456510608,
          1052.072231112952,
          1049.1689352719045,
          1013.9039142050032,
          1061.541608877667,
          1021.1613682345386,
          1018.3576051851012,
          1051.1268466701226,
          1029.4841266819947,
          1033.2556557242713,
          1025.375751863632,
          1020.3800156735829,
          1029.274227669082,
          1030.2669918783931,
          1015.3971432449822,
          1031.5987335417772,
          1068.5934007020824,
          1037.4345464144315,
          1034.1095326980476,
          1018.3041250170079,
          1060.1649779844429,
          1067.0644403463466,
          1056.4885987685673,
          1038.0022283141673,
          1039.6489916638616,
          1035.863711934621,
          1061.0406466043617,
          1026.2883817316413,
          1033.0963465759464,
          1051.57187977008,
          1062.1509740556905,
          1051.447194297169,
          1046.8901131107882,
          1037.416407704999,
          1027.644649520979,
          1061.598398119565,
          1033.1831616380146,
          1054.3555621175526,
          1016.7066844226766,
          1050.8789422255281,
          1062.1113837555777,
          1044.9580379016384,
          1044.6527182037648,
          1039.4838558496651,
          1048.5285176097575,
          1051.207706165622,
          1055.5458814106876,
          1064.6766631727705,
          1019.2427881897761,
          1063.375604884218,
          1028.826919028319,
          1024.8334732100836,
          1032.9165389196467,
          1044.7119472990544,
          1023.4337850533587,
          1041.7808934569937,
          1016.0573846970981,
          1046.1808241268134,
          1060.6465735453974,
          1052.976624805019,
          1061.7000436892026,
          1025.5673555957894,
          1037.4941503748496,
          1043.9525208410362,
          1060.9998031873733,
          1020.0855726336418,
          1058.9249490230625,
          1053.543537627594,
          1047.4215169028698,
          1036.7475898795851,
          1036.8652884262951,
          1031.2317053938514,
          1051.1769039775322,
          1034.316167708031,
          1021.3097372394352,
          1039.1136117728263,
          1051.645409588114,
          1054.387478888361,
          1019.613851225669,
          1039.608687719969,
          1021.5434346792455,
          1055.7986183623166
         ],
         "y": [
          39,
          58,
          32,
          44,
          35,
          43,
          61,
          46,
          50,
          63,
          50,
          64,
          46,
          48,
          25,
          36,
          29,
          32,
          57,
          54,
          58,
          23,
          59,
          31,
          20,
          61,
          31,
          36,
          23,
          22,
          39,
          32,
          21,
          31,
          63,
          37,
          34,
          27,
          62,
          63,
          48,
          37,
          43,
          33,
          52,
          32,
          25,
          51,
          57,
          51,
          45,
          40,
          36,
          61,
          28,
          64,
          26,
          42,
          64,
          46,
          39,
          38,
          41,
          54,
          57,
          58,
          27,
          56,
          23,
          25,
          35,
          54,
          30,
          48,
          24,
          38,
          59,
          45,
          63,
          34,
          43,
          40,
          61,
          20,
          54,
          46,
          53,
          41,
          27,
          24,
          59,
          37,
          20,
          41,
          61,
          61,
          21,
          34,
          23,
          50
         ]
        },
        {
         "marker": {
          "color": "rgba(0, 190, 255, 0.9)",
          "size": 12
         },
         "mode": "markers",
         "name": "Male",
         "type": "scatter",
         "x": [
          1029.7225192333995,
          1038.582007387041,
          1033.3881078990287,
          1037.8571053479136,
          1061.5085334561848,
          1019.7668816009666,
          1053.4117235479926,
          1029.9776507263296,
          1042.4384519216662,
          1046.45992510997,
          1034.9862877814282,
          1067.7159271811345,
          1034.6867882307486,
          1041.0700129885029,
          1052.6904514365872,
          1041.3270845457155,
          1036.2885409423977,
          1026.1961872935865,
          1026.743663428415,
          1063.6135906065222,
          1019.3950633001024,
          1038.2219846088208,
          1015.8224893618153,
          1061.2133329297412,
          1055.0224925674115,
          1053.5956267913245,
          1053.8410642323115,
          1065.6721613101197,
          1030.75098944173,
          1043.9340673054517,
          1033.3040779605883,
          1054.7751735078527,
          1042.0180995587973,
          1030.4008905405049,
          1018.5512276604887,
          1042.6367445054502,
          1036.8632898590247,
          1033.6313213058415,
          1032.8708914775984,
          1027.1834733436422,
          1030.2139537802345,
          1026.2644942505465,
          1019.03904836183,
          1061.7669039522993,
          1041.8846979554914,
          1035.4321445311107,
          1040.2707480638778,
          1037.308906778927,
          1068.8000077580948,
          1063.5771110118797,
          1056.598815430702,
          1048.2481853077823,
          1041.1237320336938,
          1028.5123278242297,
          1027.9913678046946,
          1044.1311739513096,
          1056.0623672584813,
          1055.059498791665,
          1060.6584820410958,
          1042.1474959741893,
          1061.744339435943,
          1038.3944314369126,
          1027.6731844694898,
          1022.2399419233507,
          1046.0205275109397,
          1033.2890257111212,
          1037.5457710587837,
          1042.749830792948,
          1040.8033258553778,
          1042.5042258145747,
          1039.2669854884798,
          1066.1554686630825,
          1053.1023772319018,
          1059.292129647783,
          1055.7681943829941,
          1044.14510900566,
          1060.493525296145,
          1036.2280899128089,
          1053.5226136948431,
          1056.086708827202,
          1042.4403216320673,
          1067.6573976849293,
          1036.5412790097555,
          1033.9032351760118,
          1058.4655684916668,
          1041.1348531621652,
          1060.8850423568467,
          1063.40473428443,
          1055.20635589952,
          1057.4391671878948,
          1032.9062387835063,
          1041.274285226737,
          1043.224657535719,
          1059.543659401437,
          1045.743231142929,
          1015.9107444812716,
          1058.8954466410557,
          1017.2139428823122,
          1046.3052910613728,
          1056.0559171084492
         ],
         "xaxis": "x2",
         "y": [
          32,
          29,
          39,
          46,
          52,
          24,
          56,
          20,
          42,
          40,
          28,
          64,
          44,
          50,
          61,
          35,
          28,
          22,
          36,
          63,
          22,
          35,
          23,
          54,
          56,
          44,
          53,
          62,
          22,
          43,
          40,
          55,
          38,
          32,
          25,
          37,
          36,
          28,
          31,
          35,
          40,
          36,
          20,
          52,
          39,
          39,
          47,
          43,
          61,
          55,
          56,
          40,
          48,
          21,
          31,
          37,
          50,
          58,
          54,
          45,
          59,
          44,
          32,
          32,
          52,
          28,
          43,
          45,
          41,
          42,
          39,
          61,
          56,
          59,
          59,
          37,
          59,
          38,
          57,
          54,
          43,
          58,
          28,
          37,
          61,
          39,
          63,
          64,
          55,
          62,
          40,
          46,
          45,
          63,
          43,
          22,
          60,
          21,
          45,
          47
         ],
         "yaxis": "y2"
        }
       ],
       "layout": {
        "autosize": true,
        "template": {
         "data": {
          "bar": [
           {
            "error_x": {
             "color": "#2a3f5f"
            },
            "error_y": {
             "color": "#2a3f5f"
            },
            "marker": {
             "line": {
              "color": "#E5ECF6",
              "width": 0.5
             }
            },
            "type": "bar"
           }
          ],
          "barpolar": [
           {
            "marker": {
             "line": {
              "color": "#E5ECF6",
              "width": 0.5
             }
            },
            "type": "barpolar"
           }
          ],
          "carpet": [
           {
            "aaxis": {
             "endlinecolor": "#2a3f5f",
             "gridcolor": "white",
             "linecolor": "white",
             "minorgridcolor": "white",
             "startlinecolor": "#2a3f5f"
            },
            "baxis": {
             "endlinecolor": "#2a3f5f",
             "gridcolor": "white",
             "linecolor": "white",
             "minorgridcolor": "white",
             "startlinecolor": "#2a3f5f"
            },
            "type": "carpet"
           }
          ],
          "choropleth": [
           {
            "colorbar": {
             "outlinewidth": 0,
             "ticks": ""
            },
            "type": "choropleth"
           }
          ],
          "contour": [
           {
            "colorbar": {
             "outlinewidth": 0,
             "ticks": ""
            },
            "colorscale": [
             [
              0,
              "#0d0887"
             ],
             [
              0.1111111111111111,
              "#46039f"
             ],
             [
              0.2222222222222222,
              "#7201a8"
             ],
             [
              0.3333333333333333,
              "#9c179e"
             ],
             [
              0.4444444444444444,
              "#bd3786"
             ],
             [
              0.5555555555555556,
              "#d8576b"
             ],
             [
              0.6666666666666666,
              "#ed7953"
             ],
             [
              0.7777777777777778,
              "#fb9f3a"
             ],
             [
              0.8888888888888888,
              "#fdca26"
             ],
             [
              1,
              "#f0f921"
             ]
            ],
            "type": "contour"
           }
          ],
          "contourcarpet": [
           {
            "colorbar": {
             "outlinewidth": 0,
             "ticks": ""
            },
            "type": "contourcarpet"
           }
          ],
          "heatmap": [
           {
            "colorbar": {
             "outlinewidth": 0,
             "ticks": ""
            },
            "colorscale": [
             [
              0,
              "#0d0887"
             ],
             [
              0.1111111111111111,
              "#46039f"
             ],
             [
              0.2222222222222222,
              "#7201a8"
             ],
             [
              0.3333333333333333,
              "#9c179e"
             ],
             [
              0.4444444444444444,
              "#bd3786"
             ],
             [
              0.5555555555555556,
              "#d8576b"
             ],
             [
              0.6666666666666666,
              "#ed7953"
             ],
             [
              0.7777777777777778,
              "#fb9f3a"
             ],
             [
              0.8888888888888888,
              "#fdca26"
             ],
             [
              1,
              "#f0f921"
             ]
            ],
            "type": "heatmap"
           }
          ],
          "heatmapgl": [
           {
            "colorbar": {
             "outlinewidth": 0,
             "ticks": ""
            },
            "colorscale": [
             [
              0,
              "#0d0887"
             ],
             [
              0.1111111111111111,
              "#46039f"
             ],
             [
              0.2222222222222222,
              "#7201a8"
             ],
             [
              0.3333333333333333,
              "#9c179e"
             ],
             [
              0.4444444444444444,
              "#bd3786"
             ],
             [
              0.5555555555555556,
              "#d8576b"
             ],
             [
              0.6666666666666666,
              "#ed7953"
             ],
             [
              0.7777777777777778,
              "#fb9f3a"
             ],
             [
              0.8888888888888888,
              "#fdca26"
             ],
             [
              1,
              "#f0f921"
             ]
            ],
            "type": "heatmapgl"
           }
          ],
          "histogram": [
           {
            "marker": {
             "colorbar": {
              "outlinewidth": 0,
              "ticks": ""
             }
            },
            "type": "histogram"
           }
          ],
          "histogram2d": [
           {
            "colorbar": {
             "outlinewidth": 0,
             "ticks": ""
            },
            "colorscale": [
             [
              0,
              "#0d0887"
             ],
             [
              0.1111111111111111,
              "#46039f"
             ],
             [
              0.2222222222222222,
              "#7201a8"
             ],
             [
              0.3333333333333333,
              "#9c179e"
             ],
             [
              0.4444444444444444,
              "#bd3786"
             ],
             [
              0.5555555555555556,
              "#d8576b"
             ],
             [
              0.6666666666666666,
              "#ed7953"
             ],
             [
              0.7777777777777778,
              "#fb9f3a"
             ],
             [
              0.8888888888888888,
              "#fdca26"
             ],
             [
              1,
              "#f0f921"
             ]
            ],
            "type": "histogram2d"
           }
          ],
          "histogram2dcontour": [
           {
            "colorbar": {
             "outlinewidth": 0,
             "ticks": ""
            },
            "colorscale": [
             [
              0,
              "#0d0887"
             ],
             [
              0.1111111111111111,
              "#46039f"
             ],
             [
              0.2222222222222222,
              "#7201a8"
             ],
             [
              0.3333333333333333,
              "#9c179e"
             ],
             [
              0.4444444444444444,
              "#bd3786"
             ],
             [
              0.5555555555555556,
              "#d8576b"
             ],
             [
              0.6666666666666666,
              "#ed7953"
             ],
             [
              0.7777777777777778,
              "#fb9f3a"
             ],
             [
              0.8888888888888888,
              "#fdca26"
             ],
             [
              1,
              "#f0f921"
             ]
            ],
            "type": "histogram2dcontour"
           }
          ],
          "mesh3d": [
           {
            "colorbar": {
             "outlinewidth": 0,
             "ticks": ""
            },
            "type": "mesh3d"
           }
          ],
          "parcoords": [
           {
            "line": {
             "colorbar": {
              "outlinewidth": 0,
              "ticks": ""
             }
            },
            "type": "parcoords"
           }
          ],
          "pie": [
           {
            "automargin": true,
            "type": "pie"
           }
          ],
          "scatter": [
           {
            "marker": {
             "colorbar": {
              "outlinewidth": 0,
              "ticks": ""
             }
            },
            "type": "scatter"
           }
          ],
          "scatter3d": [
           {
            "line": {
             "colorbar": {
              "outlinewidth": 0,
              "ticks": ""
             }
            },
            "marker": {
             "colorbar": {
              "outlinewidth": 0,
              "ticks": ""
             }
            },
            "type": "scatter3d"
           }
          ],
          "scattercarpet": [
           {
            "marker": {
             "colorbar": {
              "outlinewidth": 0,
              "ticks": ""
             }
            },
            "type": "scattercarpet"
           }
          ],
          "scattergeo": [
           {
            "marker": {
             "colorbar": {
              "outlinewidth": 0,
              "ticks": ""
             }
            },
            "type": "scattergeo"
           }
          ],
          "scattergl": [
           {
            "marker": {
             "colorbar": {
              "outlinewidth": 0,
              "ticks": ""
             }
            },
            "type": "scattergl"
           }
          ],
          "scattermapbox": [
           {
            "marker": {
             "colorbar": {
              "outlinewidth": 0,
              "ticks": ""
             }
            },
            "type": "scattermapbox"
           }
          ],
          "scatterpolar": [
           {
            "marker": {
             "colorbar": {
              "outlinewidth": 0,
              "ticks": ""
             }
            },
            "type": "scatterpolar"
           }
          ],
          "scatterpolargl": [
           {
            "marker": {
             "colorbar": {
              "outlinewidth": 0,
              "ticks": ""
             }
            },
            "type": "scatterpolargl"
           }
          ],
          "scatterternary": [
           {
            "marker": {
             "colorbar": {
              "outlinewidth": 0,
              "ticks": ""
             }
            },
            "type": "scatterternary"
           }
          ],
          "surface": [
           {
            "colorbar": {
             "outlinewidth": 0,
             "ticks": ""
            },
            "colorscale": [
             [
              0,
              "#0d0887"
             ],
             [
              0.1111111111111111,
              "#46039f"
             ],
             [
              0.2222222222222222,
              "#7201a8"
             ],
             [
              0.3333333333333333,
              "#9c179e"
             ],
             [
              0.4444444444444444,
              "#bd3786"
             ],
             [
              0.5555555555555556,
              "#d8576b"
             ],
             [
              0.6666666666666666,
              "#ed7953"
             ],
             [
              0.7777777777777778,
              "#fb9f3a"
             ],
             [
              0.8888888888888888,
              "#fdca26"
             ],
             [
              1,
              "#f0f921"
             ]
            ],
            "type": "surface"
           }
          ],
          "table": [
           {
            "cells": {
             "fill": {
              "color": "#EBF0F8"
             },
             "line": {
              "color": "white"
             }
            },
            "header": {
             "fill": {
              "color": "#C8D4E3"
             },
             "line": {
              "color": "white"
             }
            },
            "type": "table"
           }
          ]
         },
         "layout": {
          "annotationdefaults": {
           "arrowcolor": "#2a3f5f",
           "arrowhead": 0,
           "arrowwidth": 1
          },
          "coloraxis": {
           "colorbar": {
            "outlinewidth": 0,
            "ticks": ""
           }
          },
          "colorscale": {
           "diverging": [
            [
             0,
             "#8e0152"
            ],
            [
             0.1,
             "#c51b7d"
            ],
            [
             0.2,
             "#de77ae"
            ],
            [
             0.3,
             "#f1b6da"
            ],
            [
             0.4,
             "#fde0ef"
            ],
            [
             0.5,
             "#f7f7f7"
            ],
            [
             0.6,
             "#e6f5d0"
            ],
            [
             0.7,
             "#b8e186"
            ],
            [
             0.8,
             "#7fbc41"
            ],
            [
             0.9,
             "#4d9221"
            ],
            [
             1,
             "#276419"
            ]
           ],
           "sequential": [
            [
             0,
             "#0d0887"
            ],
            [
             0.1111111111111111,
             "#46039f"
            ],
            [
             0.2222222222222222,
             "#7201a8"
            ],
            [
             0.3333333333333333,
             "#9c179e"
            ],
            [
             0.4444444444444444,
             "#bd3786"
            ],
            [
             0.5555555555555556,
             "#d8576b"
            ],
            [
             0.6666666666666666,
             "#ed7953"
            ],
            [
             0.7777777777777778,
             "#fb9f3a"
            ],
            [
             0.8888888888888888,
             "#fdca26"
            ],
            [
             1,
             "#f0f921"
            ]
           ],
           "sequentialminus": [
            [
             0,
             "#0d0887"
            ],
            [
             0.1111111111111111,
             "#46039f"
            ],
            [
             0.2222222222222222,
             "#7201a8"
            ],
            [
             0.3333333333333333,
             "#9c179e"
            ],
            [
             0.4444444444444444,
             "#bd3786"
            ],
            [
             0.5555555555555556,
             "#d8576b"
            ],
            [
             0.6666666666666666,
             "#ed7953"
            ],
            [
             0.7777777777777778,
             "#fb9f3a"
            ],
            [
             0.8888888888888888,
             "#fdca26"
            ],
            [
             1,
             "#f0f921"
            ]
           ]
          },
          "colorway": [
           "#636efa",
           "#EF553B",
           "#00cc96",
           "#ab63fa",
           "#FFA15A",
           "#19d3f3",
           "#FF6692",
           "#B6E880",
           "#FF97FF",
           "#FECB52"
          ],
          "font": {
           "color": "#2a3f5f"
          },
          "geo": {
           "bgcolor": "white",
           "lakecolor": "white",
           "landcolor": "#E5ECF6",
           "showlakes": true,
           "showland": true,
           "subunitcolor": "white"
          },
          "hoverlabel": {
           "align": "left"
          },
          "hovermode": "closest",
          "mapbox": {
           "style": "light"
          },
          "paper_bgcolor": "white",
          "plot_bgcolor": "#E5ECF6",
          "polar": {
           "angularaxis": {
            "gridcolor": "white",
            "linecolor": "white",
            "ticks": ""
           },
           "bgcolor": "#E5ECF6",
           "radialaxis": {
            "gridcolor": "white",
            "linecolor": "white",
            "ticks": ""
           }
          },
          "scene": {
           "xaxis": {
            "backgroundcolor": "#E5ECF6",
            "gridcolor": "white",
            "gridwidth": 2,
            "linecolor": "white",
            "showbackground": true,
            "ticks": "",
            "zerolinecolor": "white"
           },
           "yaxis": {
            "backgroundcolor": "#E5ECF6",
            "gridcolor": "white",
            "gridwidth": 2,
            "linecolor": "white",
            "showbackground": true,
            "ticks": "",
            "zerolinecolor": "white"
           },
           "zaxis": {
            "backgroundcolor": "#E5ECF6",
            "gridcolor": "white",
            "gridwidth": 2,
            "linecolor": "white",
            "showbackground": true,
            "ticks": "",
            "zerolinecolor": "white"
           }
          },
          "shapedefaults": {
           "line": {
            "color": "#2a3f5f"
           }
          },
          "ternary": {
           "aaxis": {
            "gridcolor": "white",
            "linecolor": "white",
            "ticks": ""
           },
           "baxis": {
            "gridcolor": "white",
            "linecolor": "white",
            "ticks": ""
           },
           "bgcolor": "#E5ECF6",
           "caxis": {
            "gridcolor": "white",
            "linecolor": "white",
            "ticks": ""
           }
          },
          "title": {
           "x": 0.05
          },
          "xaxis": {
           "automargin": true,
           "gridcolor": "white",
           "linecolor": "white",
           "ticks": "",
           "title": {
            "standoff": 15
           },
           "zerolinecolor": "white",
           "zerolinewidth": 2
          },
          "yaxis": {
           "automargin": true,
           "gridcolor": "white",
           "linecolor": "white",
           "ticks": "",
           "title": {
            "standoff": 15
           },
           "zerolinecolor": "white",
           "zerolinewidth": 2
          }
         }
        },
        "title": {
         "text": "Constrain x-axis proportions"
        },
        "xaxis": {
         "autorange": true,
         "domain": [
          0,
          0.7
         ],
         "range": [
          1010.2086786308762,
          1072.2886362762094
         ],
         "type": "linear"
        },
        "xaxis2": {
         "autorange": true,
         "domain": [
          0.8,
          1
         ],
         "range": [
          1010.5247375221874,
          1074.0977595977229
         ],
         "type": "linear"
        },
        "yaxis": {
         "autorange": true,
         "range": [
          15.947368421052632,
          68.05263157894737
         ],
         "type": "linear"
        },
        "yaxis2": {
         "anchor": "x2",
         "autorange": true,
         "range": [
          15.947368421052632,
          68.05263157894737
         ],
         "type": "linear"
        }
       }
      },
      "image/png": "[encoded data removed]"
     },
     "metadata": {},
     "output_type": "display_data"
    }
   ],
   "source": [
    "trace0 = go.Scatter(x = female_salary,\n",
    "                  y = female_age,\n",
    "                  mode = \"markers\",\n",
    "                   name = \"Female\",\n",
    "                  marker = dict(size = 12, color = \"rgba(255, 70, 0, 0.9)\"))\n",
    "\n",
    "trace1 = go.Scatter(x = male_salary,\n",
    "                  y = male_age,\n",
    "                    name = \"Male\",\n",
    "                  mode = \"markers\",\n",
    "                  marker = dict(size = 12, color = \"rgba(0, 190, 255, 0.9)\"),\n",
    "                   xaxis = \"x2\",\n",
    "                   yaxis = \"y2\")\n",
    "\n",
    "data = [trace0, trace1]\n",
    "layout = go.Layout(\n",
    "    title = \"Constrain x-axis proportions\",\n",
    "    xaxis=dict(\n",
    "        domain=[0, 0.7]\n",
    "    ),\n",
    "    xaxis2=dict(\n",
    "        domain=[0.8, 1]\n",
    "    ),\n",
    "    yaxis2=dict(\n",
    "        anchor='x2'\n",
    "    )\n",
    ")\n",
    " \n",
    "fig = go.Figure(data=data, layout=layout)\n",
    "\n",
    "# iplot(fig)\n",
    "pio.show(fig);"
   ]
  },
  {
   "cell_type": "markdown",
   "metadata": {},
   "source": [
    "## Customizing axes"
   ]
  },
  {
   "cell_type": "code",
   "execution_count": 9,
   "metadata": {},
   "outputs": [
    {
     "data": {
      "application/vnd.plotly.v1+json": {
       "config": {
        "plotlyServerURL": "https://plot.ly"
       },
       "data": [
        {
         "type": "histogram",
         "x": [
          39,
          58,
          32,
          44,
          35,
          43,
          61,
          46,
          50,
          63,
          50,
          64,
          46,
          48,
          25,
          36,
          29,
          32,
          57,
          54,
          58,
          23,
          59,
          31,
          20,
          61,
          31,
          36,
          23,
          22,
          39,
          32,
          21,
          31,
          63,
          37,
          34,
          27,
          62,
          63,
          48,
          37,
          43,
          33,
          52,
          32,
          25,
          51,
          57,
          51,
          45,
          40,
          36,
          61,
          28,
          64,
          26,
          42,
          64,
          46,
          39,
          38,
          41,
          54,
          57,
          58,
          27,
          56,
          23,
          25,
          35,
          54,
          30,
          48,
          24,
          38,
          59,
          45,
          63,
          34,
          43,
          40,
          61,
          20,
          54,
          46,
          53,
          41,
          27,
          24,
          59,
          37,
          20,
          41,
          61,
          61,
          21,
          34,
          23,
          50
         ],
         "xaxis": "x",
         "yaxis": "y"
        },
        {
         "type": "histogram",
         "x": [
          32,
          29,
          39,
          46,
          52,
          24,
          56,
          20,
          42,
          40,
          28,
          64,
          44,
          50,
          61,
          35,
          28,
          22,
          36,
          63,
          22,
          35,
          23,
          54,
          56,
          44,
          53,
          62,
          22,
          43,
          40,
          55,
          38,
          32,
          25,
          37,
          36,
          28,
          31,
          35,
          40,
          36,
          20,
          52,
          39,
          39,
          47,
          43,
          61,
          55,
          56,
          40,
          48,
          21,
          31,
          37,
          50,
          58,
          54,
          45,
          59,
          44,
          32,
          32,
          52,
          28,
          43,
          45,
          41,
          42,
          39,
          61,
          56,
          59,
          59,
          37,
          59,
          38,
          57,
          54,
          43,
          58,
          28,
          37,
          61,
          39,
          63,
          64,
          55,
          62,
          40,
          46,
          45,
          63,
          43,
          22,
          60,
          21,
          45,
          47
         ],
         "xaxis": "x2",
         "yaxis": "y2"
        },
        {
         "type": "histogram",
         "x": [
          1042.0839202304187,
          1055.371153642003,
          1041.0476934824042,
          1037.935409568618,
          1041.9986005534297,
          1052.2091658673428,
          1058.6223654549997,
          1042.6187240564307,
          1045.2184690696465,
          1066.3098217511447,
          1043.6359086308596,
          1061.5359987857348,
          1036.2851712576155,
          1044.782706030998,
          1023.0270280790877,
          1035.3514733317131,
          1032.0421100107278,
          1041.943842880755,
          1057.3492456510608,
          1052.072231112952,
          1049.1689352719045,
          1013.9039142050032,
          1061.541608877667,
          1021.1613682345386,
          1018.3576051851012,
          1051.1268466701226,
          1029.4841266819947,
          1033.2556557242713,
          1025.375751863632,
          1020.3800156735829,
          1029.274227669082,
          1030.2669918783931,
          1015.3971432449822,
          1031.5987335417772,
          1068.5934007020824,
          1037.4345464144315,
          1034.1095326980476,
          1018.3041250170079,
          1060.1649779844429,
          1067.0644403463466,
          1056.4885987685673,
          1038.0022283141673,
          1039.6489916638616,
          1035.863711934621,
          1061.0406466043617,
          1026.2883817316413,
          1033.0963465759464,
          1051.57187977008,
          1062.1509740556905,
          1051.447194297169,
          1046.8901131107882,
          1037.416407704999,
          1027.644649520979,
          1061.598398119565,
          1033.1831616380146,
          1054.3555621175526,
          1016.7066844226766,
          1050.8789422255281,
          1062.1113837555777,
          1044.9580379016384,
          1044.6527182037648,
          1039.4838558496651,
          1048.5285176097575,
          1051.207706165622,
          1055.5458814106876,
          1064.6766631727705,
          1019.2427881897761,
          1063.375604884218,
          1028.826919028319,
          1024.8334732100836,
          1032.9165389196467,
          1044.7119472990544,
          1023.4337850533587,
          1041.7808934569937,
          1016.0573846970981,
          1046.1808241268134,
          1060.6465735453974,
          1052.976624805019,
          1061.7000436892026,
          1025.5673555957894,
          1037.4941503748496,
          1043.9525208410362,
          1060.9998031873733,
          1020.0855726336418,
          1058.9249490230625,
          1053.543537627594,
          1047.4215169028698,
          1036.7475898795851,
          1036.8652884262951,
          1031.2317053938514,
          1051.1769039775322,
          1034.316167708031,
          1021.3097372394352,
          1039.1136117728263,
          1051.645409588114,
          1054.387478888361,
          1019.613851225669,
          1039.608687719969,
          1021.5434346792455,
          1055.7986183623166
         ],
         "xaxis": "x3",
         "yaxis": "y3"
        },
        {
         "type": "histogram",
         "x": [
          1029.7225192333995,
          1038.582007387041,
          1033.3881078990287,
          1037.8571053479136,
          1061.5085334561848,
          1019.7668816009666,
          1053.4117235479926,
          1029.9776507263296,
          1042.4384519216662,
          1046.45992510997,
          1034.9862877814282,
          1067.7159271811345,
          1034.6867882307486,
          1041.0700129885029,
          1052.6904514365872,
          1041.3270845457155,
          1036.2885409423977,
          1026.1961872935865,
          1026.743663428415,
          1063.6135906065222,
          1019.3950633001024,
          1038.2219846088208,
          1015.8224893618153,
          1061.2133329297412,
          1055.0224925674115,
          1053.5956267913245,
          1053.8410642323115,
          1065.6721613101197,
          1030.75098944173,
          1043.9340673054517,
          1033.3040779605883,
          1054.7751735078527,
          1042.0180995587973,
          1030.4008905405049,
          1018.5512276604887,
          1042.6367445054502,
          1036.8632898590247,
          1033.6313213058415,
          1032.8708914775984,
          1027.1834733436422,
          1030.2139537802345,
          1026.2644942505465,
          1019.03904836183,
          1061.7669039522993,
          1041.8846979554914,
          1035.4321445311107,
          1040.2707480638778,
          1037.308906778927,
          1068.8000077580948,
          1063.5771110118797,
          1056.598815430702,
          1048.2481853077823,
          1041.1237320336938,
          1028.5123278242297,
          1027.9913678046946,
          1044.1311739513096,
          1056.0623672584813,
          1055.059498791665,
          1060.6584820410958,
          1042.1474959741893,
          1061.744339435943,
          1038.3944314369126,
          1027.6731844694898,
          1022.2399419233507,
          1046.0205275109397,
          1033.2890257111212,
          1037.5457710587837,
          1042.749830792948,
          1040.8033258553778,
          1042.5042258145747,
          1039.2669854884798,
          1066.1554686630825,
          1053.1023772319018,
          1059.292129647783,
          1055.7681943829941,
          1044.14510900566,
          1060.493525296145,
          1036.2280899128089,
          1053.5226136948431,
          1056.086708827202,
          1042.4403216320673,
          1067.6573976849293,
          1036.5412790097555,
          1033.9032351760118,
          1058.4655684916668,
          1041.1348531621652,
          1060.8850423568467,
          1063.40473428443,
          1055.20635589952,
          1057.4391671878948,
          1032.9062387835063,
          1041.274285226737,
          1043.224657535719,
          1059.543659401437,
          1045.743231142929,
          1015.9107444812716,
          1058.8954466410557,
          1017.2139428823122,
          1046.3052910613728,
          1056.0559171084492
         ],
         "xaxis": "x4",
         "yaxis": "y4"
        }
       ],
       "layout": {
        "annotations": [
         {
          "font": {
           "size": 16
          },
          "showarrow": false,
          "text": "Fig A",
          "x": 0.225,
          "xanchor": "center",
          "xref": "paper",
          "y": 1,
          "yanchor": "bottom",
          "yref": "paper"
         },
         {
          "font": {
           "size": 16
          },
          "showarrow": false,
          "text": "Fig B",
          "x": 0.775,
          "xanchor": "center",
          "xref": "paper",
          "y": 1,
          "yanchor": "bottom",
          "yref": "paper"
         },
         {
          "font": {
           "size": 16
          },
          "showarrow": false,
          "text": "Fig C",
          "x": 0.225,
          "xanchor": "center",
          "xref": "paper",
          "y": 0.375,
          "yanchor": "bottom",
          "yref": "paper"
         },
         {
          "font": {
           "size": 16
          },
          "showarrow": false,
          "text": "Fig D",
          "x": 0.775,
          "xanchor": "center",
          "xref": "paper",
          "y": 0.375,
          "yanchor": "bottom",
          "yref": "paper"
         }
        ],
        "autosize": true,
        "showlegend": false,
        "template": {
         "data": {
          "bar": [
           {
            "error_x": {
             "color": "#2a3f5f"
            },
            "error_y": {
             "color": "#2a3f5f"
            },
            "marker": {
             "line": {
              "color": "#E5ECF6",
              "width": 0.5
             }
            },
            "type": "bar"
           }
          ],
          "barpolar": [
           {
            "marker": {
             "line": {
              "color": "#E5ECF6",
              "width": 0.5
             }
            },
            "type": "barpolar"
           }
          ],
          "carpet": [
           {
            "aaxis": {
             "endlinecolor": "#2a3f5f",
             "gridcolor": "white",
             "linecolor": "white",
             "minorgridcolor": "white",
             "startlinecolor": "#2a3f5f"
            },
            "baxis": {
             "endlinecolor": "#2a3f5f",
             "gridcolor": "white",
             "linecolor": "white",
             "minorgridcolor": "white",
             "startlinecolor": "#2a3f5f"
            },
            "type": "carpet"
           }
          ],
          "choropleth": [
           {
            "colorbar": {
             "outlinewidth": 0,
             "ticks": ""
            },
            "type": "choropleth"
           }
          ],
          "contour": [
           {
            "colorbar": {
             "outlinewidth": 0,
             "ticks": ""
            },
            "colorscale": [
             [
              0,
              "#0d0887"
             ],
             [
              0.1111111111111111,
              "#46039f"
             ],
             [
              0.2222222222222222,
              "#7201a8"
             ],
             [
              0.3333333333333333,
              "#9c179e"
             ],
             [
              0.4444444444444444,
              "#bd3786"
             ],
             [
              0.5555555555555556,
              "#d8576b"
             ],
             [
              0.6666666666666666,
              "#ed7953"
             ],
             [
              0.7777777777777778,
              "#fb9f3a"
             ],
             [
              0.8888888888888888,
              "#fdca26"
             ],
             [
              1,
              "#f0f921"
             ]
            ],
            "type": "contour"
           }
          ],
          "contourcarpet": [
           {
            "colorbar": {
             "outlinewidth": 0,
             "ticks": ""
            },
            "type": "contourcarpet"
           }
          ],
          "heatmap": [
           {
            "colorbar": {
             "outlinewidth": 0,
             "ticks": ""
            },
            "colorscale": [
             [
              0,
              "#0d0887"
             ],
             [
              0.1111111111111111,
              "#46039f"
             ],
             [
              0.2222222222222222,
              "#7201a8"
             ],
             [
              0.3333333333333333,
              "#9c179e"
             ],
             [
              0.4444444444444444,
              "#bd3786"
             ],
             [
              0.5555555555555556,
              "#d8576b"
             ],
             [
              0.6666666666666666,
              "#ed7953"
             ],
             [
              0.7777777777777778,
              "#fb9f3a"
             ],
             [
              0.8888888888888888,
              "#fdca26"
             ],
             [
              1,
              "#f0f921"
             ]
            ],
            "type": "heatmap"
           }
          ],
          "heatmapgl": [
           {
            "colorbar": {
             "outlinewidth": 0,
             "ticks": ""
            },
            "colorscale": [
             [
              0,
              "#0d0887"
             ],
             [
              0.1111111111111111,
              "#46039f"
             ],
             [
              0.2222222222222222,
              "#7201a8"
             ],
             [
              0.3333333333333333,
              "#9c179e"
             ],
             [
              0.4444444444444444,
              "#bd3786"
             ],
             [
              0.5555555555555556,
              "#d8576b"
             ],
             [
              0.6666666666666666,
              "#ed7953"
             ],
             [
              0.7777777777777778,
              "#fb9f3a"
             ],
             [
              0.8888888888888888,
              "#fdca26"
             ],
             [
              1,
              "#f0f921"
             ]
            ],
            "type": "heatmapgl"
           }
          ],
          "histogram": [
           {
            "marker": {
             "colorbar": {
              "outlinewidth": 0,
              "ticks": ""
             }
            },
            "type": "histogram"
           }
          ],
          "histogram2d": [
           {
            "colorbar": {
             "outlinewidth": 0,
             "ticks": ""
            },
            "colorscale": [
             [
              0,
              "#0d0887"
             ],
             [
              0.1111111111111111,
              "#46039f"
             ],
             [
              0.2222222222222222,
              "#7201a8"
             ],
             [
              0.3333333333333333,
              "#9c179e"
             ],
             [
              0.4444444444444444,
              "#bd3786"
             ],
             [
              0.5555555555555556,
              "#d8576b"
             ],
             [
              0.6666666666666666,
              "#ed7953"
             ],
             [
              0.7777777777777778,
              "#fb9f3a"
             ],
             [
              0.8888888888888888,
              "#fdca26"
             ],
             [
              1,
              "#f0f921"
             ]
            ],
            "type": "histogram2d"
           }
          ],
          "histogram2dcontour": [
           {
            "colorbar": {
             "outlinewidth": 0,
             "ticks": ""
            },
            "colorscale": [
             [
              0,
              "#0d0887"
             ],
             [
              0.1111111111111111,
              "#46039f"
             ],
             [
              0.2222222222222222,
              "#7201a8"
             ],
             [
              0.3333333333333333,
              "#9c179e"
             ],
             [
              0.4444444444444444,
              "#bd3786"
             ],
             [
              0.5555555555555556,
              "#d8576b"
             ],
             [
              0.6666666666666666,
              "#ed7953"
             ],
             [
              0.7777777777777778,
              "#fb9f3a"
             ],
             [
              0.8888888888888888,
              "#fdca26"
             ],
             [
              1,
              "#f0f921"
             ]
            ],
            "type": "histogram2dcontour"
           }
          ],
          "mesh3d": [
           {
            "colorbar": {
             "outlinewidth": 0,
             "ticks": ""
            },
            "type": "mesh3d"
           }
          ],
          "parcoords": [
           {
            "line": {
             "colorbar": {
              "outlinewidth": 0,
              "ticks": ""
             }
            },
            "type": "parcoords"
           }
          ],
          "pie": [
           {
            "automargin": true,
            "type": "pie"
           }
          ],
          "scatter": [
           {
            "marker": {
             "colorbar": {
              "outlinewidth": 0,
              "ticks": ""
             }
            },
            "type": "scatter"
           }
          ],
          "scatter3d": [
           {
            "line": {
             "colorbar": {
              "outlinewidth": 0,
              "ticks": ""
             }
            },
            "marker": {
             "colorbar": {
              "outlinewidth": 0,
              "ticks": ""
             }
            },
            "type": "scatter3d"
           }
          ],
          "scattercarpet": [
           {
            "marker": {
             "colorbar": {
              "outlinewidth": 0,
              "ticks": ""
             }
            },
            "type": "scattercarpet"
           }
          ],
          "scattergeo": [
           {
            "marker": {
             "colorbar": {
              "outlinewidth": 0,
              "ticks": ""
             }
            },
            "type": "scattergeo"
           }
          ],
          "scattergl": [
           {
            "marker": {
             "colorbar": {
              "outlinewidth": 0,
              "ticks": ""
             }
            },
            "type": "scattergl"
           }
          ],
          "scattermapbox": [
           {
            "marker": {
             "colorbar": {
              "outlinewidth": 0,
              "ticks": ""
             }
            },
            "type": "scattermapbox"
           }
          ],
          "scatterpolar": [
           {
            "marker": {
             "colorbar": {
              "outlinewidth": 0,
              "ticks": ""
             }
            },
            "type": "scatterpolar"
           }
          ],
          "scatterpolargl": [
           {
            "marker": {
             "colorbar": {
              "outlinewidth": 0,
              "ticks": ""
             }
            },
            "type": "scatterpolargl"
           }
          ],
          "scatterternary": [
           {
            "marker": {
             "colorbar": {
              "outlinewidth": 0,
              "ticks": ""
             }
            },
            "type": "scatterternary"
           }
          ],
          "surface": [
           {
            "colorbar": {
             "outlinewidth": 0,
             "ticks": ""
            },
            "colorscale": [
             [
              0,
              "#0d0887"
             ],
             [
              0.1111111111111111,
              "#46039f"
             ],
             [
              0.2222222222222222,
              "#7201a8"
             ],
             [
              0.3333333333333333,
              "#9c179e"
             ],
             [
              0.4444444444444444,
              "#bd3786"
             ],
             [
              0.5555555555555556,
              "#d8576b"
             ],
             [
              0.6666666666666666,
              "#ed7953"
             ],
             [
              0.7777777777777778,
              "#fb9f3a"
             ],
             [
              0.8888888888888888,
              "#fdca26"
             ],
             [
              1,
              "#f0f921"
             ]
            ],
            "type": "surface"
           }
          ],
          "table": [
           {
            "cells": {
             "fill": {
              "color": "#EBF0F8"
             },
             "line": {
              "color": "white"
             }
            },
            "header": {
             "fill": {
              "color": "#C8D4E3"
             },
             "line": {
              "color": "white"
             }
            },
            "type": "table"
           }
          ]
         },
         "layout": {
          "annotationdefaults": {
           "arrowcolor": "#2a3f5f",
           "arrowhead": 0,
           "arrowwidth": 1
          },
          "coloraxis": {
           "colorbar": {
            "outlinewidth": 0,
            "ticks": ""
           }
          },
          "colorscale": {
           "diverging": [
            [
             0,
             "#8e0152"
            ],
            [
             0.1,
             "#c51b7d"
            ],
            [
             0.2,
             "#de77ae"
            ],
            [
             0.3,
             "#f1b6da"
            ],
            [
             0.4,
             "#fde0ef"
            ],
            [
             0.5,
             "#f7f7f7"
            ],
            [
             0.6,
             "#e6f5d0"
            ],
            [
             0.7,
             "#b8e186"
            ],
            [
             0.8,
             "#7fbc41"
            ],
            [
             0.9,
             "#4d9221"
            ],
            [
             1,
             "#276419"
            ]
           ],
           "sequential": [
            [
             0,
             "#0d0887"
            ],
            [
             0.1111111111111111,
             "#46039f"
            ],
            [
             0.2222222222222222,
             "#7201a8"
            ],
            [
             0.3333333333333333,
             "#9c179e"
            ],
            [
             0.4444444444444444,
             "#bd3786"
            ],
            [
             0.5555555555555556,
             "#d8576b"
            ],
            [
             0.6666666666666666,
             "#ed7953"
            ],
            [
             0.7777777777777778,
             "#fb9f3a"
            ],
            [
             0.8888888888888888,
             "#fdca26"
            ],
            [
             1,
             "#f0f921"
            ]
           ],
           "sequentialminus": [
            [
             0,
             "#0d0887"
            ],
            [
             0.1111111111111111,
             "#46039f"
            ],
            [
             0.2222222222222222,
             "#7201a8"
            ],
            [
             0.3333333333333333,
             "#9c179e"
            ],
            [
             0.4444444444444444,
             "#bd3786"
            ],
            [
             0.5555555555555556,
             "#d8576b"
            ],
            [
             0.6666666666666666,
             "#ed7953"
            ],
            [
             0.7777777777777778,
             "#fb9f3a"
            ],
            [
             0.8888888888888888,
             "#fdca26"
            ],
            [
             1,
             "#f0f921"
            ]
           ]
          },
          "colorway": [
           "#636efa",
           "#EF553B",
           "#00cc96",
           "#ab63fa",
           "#FFA15A",
           "#19d3f3",
           "#FF6692",
           "#B6E880",
           "#FF97FF",
           "#FECB52"
          ],
          "font": {
           "color": "#2a3f5f"
          },
          "geo": {
           "bgcolor": "white",
           "lakecolor": "white",
           "landcolor": "#E5ECF6",
           "showlakes": true,
           "showland": true,
           "subunitcolor": "white"
          },
          "hoverlabel": {
           "align": "left"
          },
          "hovermode": "closest",
          "mapbox": {
           "style": "light"
          },
          "paper_bgcolor": "white",
          "plot_bgcolor": "#E5ECF6",
          "polar": {
           "angularaxis": {
            "gridcolor": "white",
            "linecolor": "white",
            "ticks": ""
           },
           "bgcolor": "#E5ECF6",
           "radialaxis": {
            "gridcolor": "white",
            "linecolor": "white",
            "ticks": ""
           }
          },
          "scene": {
           "xaxis": {
            "backgroundcolor": "#E5ECF6",
            "gridcolor": "white",
            "gridwidth": 2,
            "linecolor": "white",
            "showbackground": true,
            "ticks": "",
            "zerolinecolor": "white"
           },
           "yaxis": {
            "backgroundcolor": "#E5ECF6",
            "gridcolor": "white",
            "gridwidth": 2,
            "linecolor": "white",
            "showbackground": true,
            "ticks": "",
            "zerolinecolor": "white"
           },
           "zaxis": {
            "backgroundcolor": "#E5ECF6",
            "gridcolor": "white",
            "gridwidth": 2,
            "linecolor": "white",
            "showbackground": true,
            "ticks": "",
            "zerolinecolor": "white"
           }
          },
          "shapedefaults": {
           "line": {
            "color": "#2a3f5f"
           }
          },
          "ternary": {
           "aaxis": {
            "gridcolor": "white",
            "linecolor": "white",
            "ticks": ""
           },
           "baxis": {
            "gridcolor": "white",
            "linecolor": "white",
            "ticks": ""
           },
           "bgcolor": "#E5ECF6",
           "caxis": {
            "gridcolor": "white",
            "linecolor": "white",
            "ticks": ""
           }
          },
          "title": {
           "x": 0.05
          },
          "xaxis": {
           "automargin": true,
           "gridcolor": "white",
           "linecolor": "white",
           "ticks": "",
           "title": {
            "standoff": 15
           },
           "zerolinecolor": "white",
           "zerolinewidth": 2
          },
          "yaxis": {
           "automargin": true,
           "gridcolor": "white",
           "linecolor": "white",
           "ticks": "",
           "title": {
            "standoff": 15
           },
           "zerolinecolor": "white",
           "zerolinewidth": 2
          }
         }
        },
        "title": {
         "text": "Histograms of age and salary according to gender"
        },
        "xaxis": {
         "anchor": "y",
         "autorange": true,
         "domain": [
          0,
          0.45
         ],
         "range": [
          19.5,
          64.5
         ],
         "title": {
          "text": "Female age"
         },
         "type": "linear"
        },
        "xaxis2": {
         "anchor": "y2",
         "autorange": true,
         "domain": [
          0.55,
          1
         ],
         "range": [
          19.5,
          64.5
         ],
         "title": {
          "text": "Male age"
         },
         "type": "linear"
        },
        "xaxis3": {
         "anchor": "y3",
         "autorange": true,
         "domain": [
          0,
          0.45
         ],
         "range": [
          1010,
          1070
         ],
         "title": {
          "text": "Female salary"
         },
         "type": "linear"
        },
        "xaxis4": {
         "anchor": "y4",
         "autorange": true,
         "domain": [
          0.55,
          1
         ],
         "range": [
          1015,
          1070
         ],
         "title": {
          "text": "Male salary"
         },
         "type": "linear"
        },
        "yaxis": {
         "anchor": "x",
         "autorange": true,
         "domain": [
          0.625,
          1
         ],
         "range": [
          0,
          14.736842105263158
         ],
         "title": {
          "text": "Frequency"
         }
        },
        "yaxis2": {
         "anchor": "x2",
         "autorange": true,
         "domain": [
          0.625,
          1
         ],
         "range": [
          0,
          17.894736842105264
         ],
         "title": {
          "text": "Frequency"
         }
        },
        "yaxis3": {
         "anchor": "x3",
         "autorange": true,
         "domain": [
          0,
          0.375
         ],
         "range": [
          0,
          14.736842105263158
         ],
         "title": {
          "text": "Frequency"
         }
        },
        "yaxis4": {
         "anchor": "x4",
         "autorange": true,
         "domain": [
          0,
          0.375
         ],
         "range": [
          0,
          20
         ],
         "title": {
          "text": "Frequency"
         }
        }
       }
      },
      "image/png": "[encoded data removed]"
     },
     "metadata": {},
     "output_type": "display_data"
    }
   ],
   "source": [
    "trace0 = go.Histogram(x = female_age)\n",
    "trace1 = go.Histogram(x = male_age)\n",
    "trace2 = go.Histogram(x = female_salary)\n",
    "trace3 = go.Histogram(x = male_salary)\n",
    "\n",
    "fig = subplots.make_subplots(rows = 2,\n",
    "                         cols = 2,\n",
    "                         subplot_titles = (\"Fig A\", \"Fig B\", \"Fig C\", \"Fig D\"))\n",
    "\n",
    "fig.append_trace(trace0, 1, 1)\n",
    "fig.append_trace(trace1, 1, 2)\n",
    "fig.append_trace(trace2, 2, 1)\n",
    "fig.append_trace(trace3, 2, 2)\n",
    "\n",
    "fig.layout[\"xaxis1\"].update(title = \"Female age\")\n",
    "fig.layout[\"xaxis2\"].update(title = \"Male age\")\n",
    "fig.layout[\"xaxis3\"].update(title = \"Female salary\")\n",
    "fig.layout[\"xaxis4\"].update(title = \"Male salary\")\n",
    "\n",
    "fig.layout[\"yaxis1\"].update(title = \"Frequency\")\n",
    "fig.layout[\"yaxis2\"].update(title = \"Frequency\")\n",
    "fig.layout[\"yaxis3\"].update(title = \"Frequency\")\n",
    "fig.layout[\"yaxis4\"].update(title = \"Frequency\")\n",
    "\n",
    "fig.layout.update(title = \"Histograms of age and salary according to gender\",\n",
    "                 showlegend = False)\n",
    "\n",
    "pio.show(fig)"
   ]
  },
  {
   "cell_type": "markdown",
   "metadata": {},
   "source": [
    "## Odd pairing"
   ]
  },
  {
   "cell_type": "code",
   "execution_count": 11,
   "metadata": {},
   "outputs": [
    {
     "data": {
      "application/vnd.plotly.v1+json": {
       "config": {
        "plotlyServerURL": "https://plot.ly"
       },
       "data": [
        {
         "type": "histogram",
         "x": [
          39,
          58,
          32,
          44,
          35,
          43,
          61,
          46,
          50,
          63,
          50,
          64,
          46,
          48,
          25,
          36,
          29,
          32,
          57,
          54,
          58,
          23,
          59,
          31,
          20,
          61,
          31,
          36,
          23,
          22,
          39,
          32,
          21,
          31,
          63,
          37,
          34,
          27,
          62,
          63,
          48,
          37,
          43,
          33,
          52,
          32,
          25,
          51,
          57,
          51,
          45,
          40,
          36,
          61,
          28,
          64,
          26,
          42,
          64,
          46,
          39,
          38,
          41,
          54,
          57,
          58,
          27,
          56,
          23,
          25,
          35,
          54,
          30,
          48,
          24,
          38,
          59,
          45,
          63,
          34,
          43,
          40,
          61,
          20,
          54,
          46,
          53,
          41,
          27,
          24,
          59,
          37,
          20,
          41,
          61,
          61,
          21,
          34,
          23,
          50
         ],
         "xaxis": "x",
         "yaxis": "y"
        },
        {
         "type": "histogram",
         "x": [
          32,
          29,
          39,
          46,
          52,
          24,
          56,
          20,
          42,
          40,
          28,
          64,
          44,
          50,
          61,
          35,
          28,
          22,
          36,
          63,
          22,
          35,
          23,
          54,
          56,
          44,
          53,
          62,
          22,
          43,
          40,
          55,
          38,
          32,
          25,
          37,
          36,
          28,
          31,
          35,
          40,
          36,
          20,
          52,
          39,
          39,
          47,
          43,
          61,
          55,
          56,
          40,
          48,
          21,
          31,
          37,
          50,
          58,
          54,
          45,
          59,
          44,
          32,
          32,
          52,
          28,
          43,
          45,
          41,
          42,
          39,
          61,
          56,
          59,
          59,
          37,
          59,
          38,
          57,
          54,
          43,
          58,
          28,
          37,
          61,
          39,
          63,
          64,
          55,
          62,
          40,
          46,
          45,
          63,
          43,
          22,
          60,
          21,
          45,
          47
         ],
         "xaxis": "x2",
         "yaxis": "y2"
        },
        {
         "type": "histogram",
         "x": [
          19,
          21,
          25,
          16,
          26,
          24,
          27,
          26,
          16,
          29,
          26,
          16,
          24,
          15,
          23,
          16,
          18,
          25,
          22,
          17,
          23,
          28,
          18,
          17,
          27,
          17,
          18,
          19,
          16,
          21,
          28,
          26,
          18,
          26,
          25,
          20,
          26,
          29,
          17,
          27,
          19,
          17,
          16,
          18,
          24,
          22,
          24,
          22,
          17,
          20,
          22,
          28,
          26,
          29,
          25,
          20,
          23,
          20,
          15,
          19,
          15,
          24,
          18,
          16,
          15,
          15,
          27,
          29,
          21,
          28,
          19,
          18,
          19,
          26,
          25,
          26,
          16,
          23,
          21,
          23,
          22,
          16,
          20,
          26,
          28,
          28,
          22,
          24,
          28,
          16,
          27,
          20,
          21,
          26,
          20,
          16,
          21,
          15,
          24,
          17
         ],
         "xaxis": "x3",
         "yaxis": "y3"
        }
       ],
       "layout": {
        "annotations": [
         {
          "font": {
           "size": 16
          },
          "showarrow": false,
          "text": "Fig A",
          "x": 0.225,
          "xanchor": "center",
          "xref": "paper",
          "y": 1,
          "yanchor": "bottom",
          "yref": "paper"
         },
         {
          "font": {
           "size": 16
          },
          "showarrow": false,
          "text": "Fig B",
          "x": 0.775,
          "xanchor": "center",
          "xref": "paper",
          "y": 1,
          "yanchor": "bottom",
          "yref": "paper"
         },
         {
          "font": {
           "size": 16
          },
          "showarrow": false,
          "text": "Fig C",
          "x": 0.5,
          "xanchor": "center",
          "xref": "paper",
          "y": 0.375,
          "yanchor": "bottom",
          "yref": "paper"
         }
        ],
        "autosize": true,
        "showlegend": false,
        "template": {
         "data": {
          "bar": [
           {
            "error_x": {
             "color": "#2a3f5f"
            },
            "error_y": {
             "color": "#2a3f5f"
            },
            "marker": {
             "line": {
              "color": "#E5ECF6",
              "width": 0.5
             }
            },
            "type": "bar"
           }
          ],
          "barpolar": [
           {
            "marker": {
             "line": {
              "color": "#E5ECF6",
              "width": 0.5
             }
            },
            "type": "barpolar"
           }
          ],
          "carpet": [
           {
            "aaxis": {
             "endlinecolor": "#2a3f5f",
             "gridcolor": "white",
             "linecolor": "white",
             "minorgridcolor": "white",
             "startlinecolor": "#2a3f5f"
            },
            "baxis": {
             "endlinecolor": "#2a3f5f",
             "gridcolor": "white",
             "linecolor": "white",
             "minorgridcolor": "white",
             "startlinecolor": "#2a3f5f"
            },
            "type": "carpet"
           }
          ],
          "choropleth": [
           {
            "colorbar": {
             "outlinewidth": 0,
             "ticks": ""
            },
            "type": "choropleth"
           }
          ],
          "contour": [
           {
            "colorbar": {
             "outlinewidth": 0,
             "ticks": ""
            },
            "colorscale": [
             [
              0,
              "#0d0887"
             ],
             [
              0.1111111111111111,
              "#46039f"
             ],
             [
              0.2222222222222222,
              "#7201a8"
             ],
             [
              0.3333333333333333,
              "#9c179e"
             ],
             [
              0.4444444444444444,
              "#bd3786"
             ],
             [
              0.5555555555555556,
              "#d8576b"
             ],
             [
              0.6666666666666666,
              "#ed7953"
             ],
             [
              0.7777777777777778,
              "#fb9f3a"
             ],
             [
              0.8888888888888888,
              "#fdca26"
             ],
             [
              1,
              "#f0f921"
             ]
            ],
            "type": "contour"
           }
          ],
          "contourcarpet": [
           {
            "colorbar": {
             "outlinewidth": 0,
             "ticks": ""
            },
            "type": "contourcarpet"
           }
          ],
          "heatmap": [
           {
            "colorbar": {
             "outlinewidth": 0,
             "ticks": ""
            },
            "colorscale": [
             [
              0,
              "#0d0887"
             ],
             [
              0.1111111111111111,
              "#46039f"
             ],
             [
              0.2222222222222222,
              "#7201a8"
             ],
             [
              0.3333333333333333,
              "#9c179e"
             ],
             [
              0.4444444444444444,
              "#bd3786"
             ],
             [
              0.5555555555555556,
              "#d8576b"
             ],
             [
              0.6666666666666666,
              "#ed7953"
             ],
             [
              0.7777777777777778,
              "#fb9f3a"
             ],
             [
              0.8888888888888888,
              "#fdca26"
             ],
             [
              1,
              "#f0f921"
             ]
            ],
            "type": "heatmap"
           }
          ],
          "heatmapgl": [
           {
            "colorbar": {
             "outlinewidth": 0,
             "ticks": ""
            },
            "colorscale": [
             [
              0,
              "#0d0887"
             ],
             [
              0.1111111111111111,
              "#46039f"
             ],
             [
              0.2222222222222222,
              "#7201a8"
             ],
             [
              0.3333333333333333,
              "#9c179e"
             ],
             [
              0.4444444444444444,
              "#bd3786"
             ],
             [
              0.5555555555555556,
              "#d8576b"
             ],
             [
              0.6666666666666666,
              "#ed7953"
             ],
             [
              0.7777777777777778,
              "#fb9f3a"
             ],
             [
              0.8888888888888888,
              "#fdca26"
             ],
             [
              1,
              "#f0f921"
             ]
            ],
            "type": "heatmapgl"
           }
          ],
          "histogram": [
           {
            "marker": {
             "colorbar": {
              "outlinewidth": 0,
              "ticks": ""
             }
            },
            "type": "histogram"
           }
          ],
          "histogram2d": [
           {
            "colorbar": {
             "outlinewidth": 0,
             "ticks": ""
            },
            "colorscale": [
             [
              0,
              "#0d0887"
             ],
             [
              0.1111111111111111,
              "#46039f"
             ],
             [
              0.2222222222222222,
              "#7201a8"
             ],
             [
              0.3333333333333333,
              "#9c179e"
             ],
             [
              0.4444444444444444,
              "#bd3786"
             ],
             [
              0.5555555555555556,
              "#d8576b"
             ],
             [
              0.6666666666666666,
              "#ed7953"
             ],
             [
              0.7777777777777778,
              "#fb9f3a"
             ],
             [
              0.8888888888888888,
              "#fdca26"
             ],
             [
              1,
              "#f0f921"
             ]
            ],
            "type": "histogram2d"
           }
          ],
          "histogram2dcontour": [
           {
            "colorbar": {
             "outlinewidth": 0,
             "ticks": ""
            },
            "colorscale": [
             [
              0,
              "#0d0887"
             ],
             [
              0.1111111111111111,
              "#46039f"
             ],
             [
              0.2222222222222222,
              "#7201a8"
             ],
             [
              0.3333333333333333,
              "#9c179e"
             ],
             [
              0.4444444444444444,
              "#bd3786"
             ],
             [
              0.5555555555555556,
              "#d8576b"
             ],
             [
              0.6666666666666666,
              "#ed7953"
             ],
             [
              0.7777777777777778,
              "#fb9f3a"
             ],
             [
              0.8888888888888888,
              "#fdca26"
             ],
             [
              1,
              "#f0f921"
             ]
            ],
            "type": "histogram2dcontour"
           }
          ],
          "mesh3d": [
           {
            "colorbar": {
             "outlinewidth": 0,
             "ticks": ""
            },
            "type": "mesh3d"
           }
          ],
          "parcoords": [
           {
            "line": {
             "colorbar": {
              "outlinewidth": 0,
              "ticks": ""
             }
            },
            "type": "parcoords"
           }
          ],
          "pie": [
           {
            "automargin": true,
            "type": "pie"
           }
          ],
          "scatter": [
           {
            "marker": {
             "colorbar": {
              "outlinewidth": 0,
              "ticks": ""
             }
            },
            "type": "scatter"
           }
          ],
          "scatter3d": [
           {
            "line": {
             "colorbar": {
              "outlinewidth": 0,
              "ticks": ""
             }
            },
            "marker": {
             "colorbar": {
              "outlinewidth": 0,
              "ticks": ""
             }
            },
            "type": "scatter3d"
           }
          ],
          "scattercarpet": [
           {
            "marker": {
             "colorbar": {
              "outlinewidth": 0,
              "ticks": ""
             }
            },
            "type": "scattercarpet"
           }
          ],
          "scattergeo": [
           {
            "marker": {
             "colorbar": {
              "outlinewidth": 0,
              "ticks": ""
             }
            },
            "type": "scattergeo"
           }
          ],
          "scattergl": [
           {
            "marker": {
             "colorbar": {
              "outlinewidth": 0,
              "ticks": ""
             }
            },
            "type": "scattergl"
           }
          ],
          "scattermapbox": [
           {
            "marker": {
             "colorbar": {
              "outlinewidth": 0,
              "ticks": ""
             }
            },
            "type": "scattermapbox"
           }
          ],
          "scatterpolar": [
           {
            "marker": {
             "colorbar": {
              "outlinewidth": 0,
              "ticks": ""
             }
            },
            "type": "scatterpolar"
           }
          ],
          "scatterpolargl": [
           {
            "marker": {
             "colorbar": {
              "outlinewidth": 0,
              "ticks": ""
             }
            },
            "type": "scatterpolargl"
           }
          ],
          "scatterternary": [
           {
            "marker": {
             "colorbar": {
              "outlinewidth": 0,
              "ticks": ""
             }
            },
            "type": "scatterternary"
           }
          ],
          "surface": [
           {
            "colorbar": {
             "outlinewidth": 0,
             "ticks": ""
            },
            "colorscale": [
             [
              0,
              "#0d0887"
             ],
             [
              0.1111111111111111,
              "#46039f"
             ],
             [
              0.2222222222222222,
              "#7201a8"
             ],
             [
              0.3333333333333333,
              "#9c179e"
             ],
             [
              0.4444444444444444,
              "#bd3786"
             ],
             [
              0.5555555555555556,
              "#d8576b"
             ],
             [
              0.6666666666666666,
              "#ed7953"
             ],
             [
              0.7777777777777778,
              "#fb9f3a"
             ],
             [
              0.8888888888888888,
              "#fdca26"
             ],
             [
              1,
              "#f0f921"
             ]
            ],
            "type": "surface"
           }
          ],
          "table": [
           {
            "cells": {
             "fill": {
              "color": "#EBF0F8"
             },
             "line": {
              "color": "white"
             }
            },
            "header": {
             "fill": {
              "color": "#C8D4E3"
             },
             "line": {
              "color": "white"
             }
            },
            "type": "table"
           }
          ]
         },
         "layout": {
          "annotationdefaults": {
           "arrowcolor": "#2a3f5f",
           "arrowhead": 0,
           "arrowwidth": 1
          },
          "coloraxis": {
           "colorbar": {
            "outlinewidth": 0,
            "ticks": ""
           }
          },
          "colorscale": {
           "diverging": [
            [
             0,
             "#8e0152"
            ],
            [
             0.1,
             "#c51b7d"
            ],
            [
             0.2,
             "#de77ae"
            ],
            [
             0.3,
             "#f1b6da"
            ],
            [
             0.4,
             "#fde0ef"
            ],
            [
             0.5,
             "#f7f7f7"
            ],
            [
             0.6,
             "#e6f5d0"
            ],
            [
             0.7,
             "#b8e186"
            ],
            [
             0.8,
             "#7fbc41"
            ],
            [
             0.9,
             "#4d9221"
            ],
            [
             1,
             "#276419"
            ]
           ],
           "sequential": [
            [
             0,
             "#0d0887"
            ],
            [
             0.1111111111111111,
             "#46039f"
            ],
            [
             0.2222222222222222,
             "#7201a8"
            ],
            [
             0.3333333333333333,
             "#9c179e"
            ],
            [
             0.4444444444444444,
             "#bd3786"
            ],
            [
             0.5555555555555556,
             "#d8576b"
            ],
            [
             0.6666666666666666,
             "#ed7953"
            ],
            [
             0.7777777777777778,
             "#fb9f3a"
            ],
            [
             0.8888888888888888,
             "#fdca26"
            ],
            [
             1,
             "#f0f921"
            ]
           ],
           "sequentialminus": [
            [
             0,
             "#0d0887"
            ],
            [
             0.1111111111111111,
             "#46039f"
            ],
            [
             0.2222222222222222,
             "#7201a8"
            ],
            [
             0.3333333333333333,
             "#9c179e"
            ],
            [
             0.4444444444444444,
             "#bd3786"
            ],
            [
             0.5555555555555556,
             "#d8576b"
            ],
            [
             0.6666666666666666,
             "#ed7953"
            ],
            [
             0.7777777777777778,
             "#fb9f3a"
            ],
            [
             0.8888888888888888,
             "#fdca26"
            ],
            [
             1,
             "#f0f921"
            ]
           ]
          },
          "colorway": [
           "#636efa",
           "#EF553B",
           "#00cc96",
           "#ab63fa",
           "#FFA15A",
           "#19d3f3",
           "#FF6692",
           "#B6E880",
           "#FF97FF",
           "#FECB52"
          ],
          "font": {
           "color": "#2a3f5f"
          },
          "geo": {
           "bgcolor": "white",
           "lakecolor": "white",
           "landcolor": "#E5ECF6",
           "showlakes": true,
           "showland": true,
           "subunitcolor": "white"
          },
          "hoverlabel": {
           "align": "left"
          },
          "hovermode": "closest",
          "mapbox": {
           "style": "light"
          },
          "paper_bgcolor": "white",
          "plot_bgcolor": "#E5ECF6",
          "polar": {
           "angularaxis": {
            "gridcolor": "white",
            "linecolor": "white",
            "ticks": ""
           },
           "bgcolor": "#E5ECF6",
           "radialaxis": {
            "gridcolor": "white",
            "linecolor": "white",
            "ticks": ""
           }
          },
          "scene": {
           "xaxis": {
            "backgroundcolor": "#E5ECF6",
            "gridcolor": "white",
            "gridwidth": 2,
            "linecolor": "white",
            "showbackground": true,
            "ticks": "",
            "zerolinecolor": "white"
           },
           "yaxis": {
            "backgroundcolor": "#E5ECF6",
            "gridcolor": "white",
            "gridwidth": 2,
            "linecolor": "white",
            "showbackground": true,
            "ticks": "",
            "zerolinecolor": "white"
           },
           "zaxis": {
            "backgroundcolor": "#E5ECF6",
            "gridcolor": "white",
            "gridwidth": 2,
            "linecolor": "white",
            "showbackground": true,
            "ticks": "",
            "zerolinecolor": "white"
           }
          },
          "shapedefaults": {
           "line": {
            "color": "#2a3f5f"
           }
          },
          "ternary": {
           "aaxis": {
            "gridcolor": "white",
            "linecolor": "white",
            "ticks": ""
           },
           "baxis": {
            "gridcolor": "white",
            "linecolor": "white",
            "ticks": ""
           },
           "bgcolor": "#E5ECF6",
           "caxis": {
            "gridcolor": "white",
            "linecolor": "white",
            "ticks": ""
           }
          },
          "title": {
           "x": 0.05
          },
          "xaxis": {
           "automargin": true,
           "gridcolor": "white",
           "linecolor": "white",
           "ticks": "",
           "title": {
            "standoff": 15
           },
           "zerolinecolor": "white",
           "zerolinewidth": 2
          },
          "yaxis": {
           "automargin": true,
           "gridcolor": "white",
           "linecolor": "white",
           "ticks": "",
           "title": {
            "standoff": 15
           },
           "zerolinecolor": "white",
           "zerolinewidth": 2
          }
         }
        },
        "title": {
         "text": "Histograms of age (by gender) and debt"
        },
        "xaxis": {
         "anchor": "y",
         "autorange": true,
         "domain": [
          0,
          0.45
         ],
         "range": [
          19.5,
          64.5
         ],
         "title": {
          "text": "Female age"
         },
         "type": "linear"
        },
        "xaxis2": {
         "anchor": "y2",
         "autorange": true,
         "domain": [
          0.55,
          1
         ],
         "range": [
          19.5,
          64.5
         ],
         "title": {
          "text": "Male age"
         },
         "type": "linear"
        },
        "xaxis3": {
         "anchor": "y3",
         "autorange": true,
         "domain": [
          0,
          1
         ],
         "range": [
          13.5,
          29.5
         ],
         "title": {
          "text": "Debt"
         },
         "type": "linear"
        },
        "yaxis": {
         "anchor": "x",
         "autorange": true,
         "domain": [
          0.625,
          1
         ],
         "range": [
          0,
          14.736842105263158
         ],
         "title": {
          "text": "Frequency"
         }
        },
        "yaxis2": {
         "anchor": "x2",
         "autorange": true,
         "domain": [
          0.625,
          1
         ],
         "range": [
          0,
          17.894736842105264
         ],
         "title": {
          "text": "Frequency"
         }
        },
        "yaxis3": {
         "anchor": "x3",
         "autorange": true,
         "domain": [
          0,
          0.375
         ],
         "range": [
          0,
          18.94736842105263
         ],
         "title": {
          "text": "Frequency"
         }
        }
       }
      },
      "image/png": "[encoded data removed]"
     },
     "metadata": {},
     "output_type": "display_data"
    }
   ],
   "source": [
    "trace0 = go.Histogram(x = female_age)\n",
    "trace1 = go.Histogram(x = male_age)\n",
    "trace2 = go.Histogram(x = debt)\n",
    "\n",
    "fig = subplots.make_subplots(rows = 2,\n",
    "                         cols = 2,\n",
    "                          specs = [[{},{}],[{\"colspan\":2}, None]],\n",
    "                         subplot_titles = (\"Fig A\", \"Fig B\", \"Fig C\"))\n",
    "\n",
    "fig.append_trace(trace0, 1, 1)\n",
    "fig.append_trace(trace1, 1, 2)\n",
    "fig.append_trace(trace2, 2, 1)\n",
    "\n",
    "fig.layout[\"xaxis1\"].update(title = \"Female age\")\n",
    "fig.layout[\"xaxis2\"].update(title = \"Male age\")\n",
    "fig.layout[\"xaxis3\"].update(title = \"Debt\")\n",
    "\n",
    "fig.layout[\"yaxis1\"].update(title = \"Frequency\")\n",
    "fig.layout[\"yaxis2\"].update(title = \"Frequency\")\n",
    "fig.layout[\"yaxis3\"].update(title = \"Frequency\")\n",
    "# fig.layout[\"yaxis4\"].update(title = \"Frequency\")\n",
    "\n",
    "fig.layout.update(title = \"Histograms of age (by gender) and debt\",\n",
    "                 showlegend = False)\n",
    "\n",
    "# iplot(fig)\n",
    "pio.show(fig)"
   ]
  },
  {
   "cell_type": "code",
   "execution_count": null,
   "metadata": {},
   "outputs": [],
   "source": []
  }
 ],
 "metadata": {
  "kernelspec": {
   "display_name": "Python 3",
   "language": "python",
   "name": "python3"
  },
  "language_info": {
   "codemirror_mode": {
    "name": "ipython",
    "version": 3
   },
   "file_extension": ".py",
   "mimetype": "text/x-python",
   "name": "python",
   "nbconvert_exporter": "python",
   "pygments_lexer": "ipython3",
   "version": "3.8.6"
  }
 },
 "nbformat": 4,
 "nbformat_minor": 4
}
