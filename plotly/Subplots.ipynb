{
 "cells": [
  {
   "cell_type": "code",
   "execution_count": 1,
   "metadata": {},
   "outputs": [
    {
     "data": {
      "text/html": [
       "<link href='http://fonts.googleapis.com/css?family=Alegreya+Sans:100,300,400,500,700,800,900,100italic,300italic,400italic,500italic,700italic,800italic,900italic' rel='stylesheet' type='text/css'>\n",
       "<link href='http://fonts.googleapis.com/css?family=Arvo:400,700,400italic' rel='stylesheet' type='text/css'>\n",
       "<link href='http://fonts.googleapis.com/css?family=PT+Mono' rel='stylesheet' type='text/css'>\n",
       "<link href='http://fonts.googleapis.com/css?family=Shadows+Into+Light' rel='stylesheet' type='text/css'>\n",
       "<link href='http://fonts.googleapis.com/css?family=Philosopher:400,700,400italic,700italic' rel='stylesheet' type='text/css'>\n",
       "\n",
       "<style>\n",
       "\n",
       "@font-face {\n",
       "    font-family: \"Computer Modern\";\n",
       "    src: url('http://mirrors.ctan.org/fonts/cm-unicode/fonts/otf/cmunss.otf');\n",
       "}\n",
       "\n",
       "\n",
       "/* Formatting for header cells */\n",
       ".text_cell_render h1 {\n",
       "    font-family: 'Philosopher', sans-serif;\n",
       "    font-weight: 400;\n",
       "    font-size: 2.2em;\n",
       "    line-height: 100%;\n",
       "    color: rgb(0, 80, 120);\n",
       "    margin-bottom: 0.1em;\n",
       "    margin-top: 0.1em;\n",
       "    display: block;\n",
       "}\t\n",
       ".text_cell_render h2 {\n",
       "    font-family: 'Philosopher', serif;\n",
       "    font-weight: 400;\n",
       "    font-size: 1.9em;\n",
       "    line-height: 100%;\n",
       "    color: rgb(200,100,0);\n",
       "    margin-bottom: 0.1em;\n",
       "    margin-top: 0.1em;\n",
       "    display: block;\n",
       "}\t\n",
       "\n",
       ".text_cell_render h3 {\n",
       "    font-family: 'Philosopher', serif;\n",
       "    margin-top:12px;\n",
       "    margin-bottom: 3px;\n",
       "    font-style: italic;\n",
       "    color: rgb(94,127,192);\n",
       "}\n",
       "\n",
       ".text_cell_render h4 {\n",
       "    font-family: 'Philosopher', serif;\n",
       "}\n",
       "\n",
       ".text_cell_render h5 {\n",
       "    font-family: 'Alegreya Sans', sans-serif;\n",
       "    font-weight: 300;\n",
       "    font-size: 16pt;\n",
       "    color: grey;\n",
       "    font-style: italic;\n",
       "    margin-bottom: .1em;\n",
       "    margin-top: 0.1em;\n",
       "    display: block;\n",
       "}\n",
       "\n",
       ".text_cell_render h6 {\n",
       "    font-family: 'PT Mono', sans-serif;\n",
       "    font-weight: 300;\n",
       "    font-size: 10pt;\n",
       "    color: grey;\n",
       "    margin-bottom: 1px;\n",
       "    margin-top: 1px;\n",
       "}\n",
       "\n",
       ".CodeMirror{\n",
       "        font-family: \"PT Mono\";\n",
       "        font-size: 100%;\n",
       "}\n",
       "\n",
       "</style>\n",
       "\n"
      ],
      "text/plain": [
       "<IPython.core.display.HTML object>"
      ]
     },
     "execution_count": 1,
     "metadata": {},
     "output_type": "execute_result"
    }
   ],
   "source": [
    "from IPython.core.display import HTML\n",
    "css_file = 'style.css'\n",
    "HTML(open(css_file, 'r').read())"
   ]
  },
  {
   "cell_type": "markdown",
   "metadata": {},
   "source": [
    "# Subplots"
   ]
  },
  {
   "cell_type": "markdown",
   "metadata": {},
   "source": [
    "## Setting up the plotly library"
   ]
  },
  {
   "cell_type": "code",
   "execution_count": 2,
   "metadata": {},
   "outputs": [],
   "source": [
    "# Importing high-level chart objects\n",
    "import plotly.graph_objects as go\n",
    "import plotly.io as pio\n",
    "pio.renderers.default = 'iframe'\n",
    "\n",
    "# For subplots\n",
    "import plotly.subplots as subplots"
   ]
  },
  {
   "cell_type": "markdown",
   "metadata": {},
   "source": [
    "## Creating data point values"
   ]
  },
  {
   "cell_type": "code",
   "execution_count": 3,
   "metadata": {},
   "outputs": [],
   "source": [
    "# Importing numerical python\n",
    "import numpy as np\n",
    "\n",
    "# Seed pseudo number generator\n",
    "np.random.seed(1234)"
   ]
  },
  {
   "cell_type": "code",
   "execution_count": 4,
   "metadata": {},
   "outputs": [],
   "source": [
    "female_age = np.random.randint(low = 20, high = 65, size = 100)\n",
    "male_age = np.random.randint(low= 20, high = 65, size = 100)\n",
    "\n",
    "female_salary = female_age + np.random.uniform(low = -10, high = 10, size = 100) + 1000\n",
    "male_salary = male_age + np.random.uniform(low = -10, high = 10, size = 100) + 1000\n",
    "\n",
    "debt = np.random.randint(15, 30, 100)\n",
    "\n",
    "female_tax = male_tax = np.random.randn(100) + 10"
   ]
  },
  {
   "cell_type": "markdown",
   "metadata": {},
   "source": [
    "## Two plots on same row"
   ]
  },
  {
   "cell_type": "code",
   "execution_count": 5,
   "metadata": {},
   "outputs": [
    {
     "data": {
      "text/html": [
       "<iframe\n",
       "    scrolling=\"no\"\n",
       "    width=\"100%\"\n",
       "    height=\"545px\"\n",
       "    src=\"iframe_figures/figure_5.html\"\n",
       "    frameborder=\"0\"\n",
       "    allowfullscreen\n",
       "></iframe>\n"
      ]
     },
     "metadata": {},
     "output_type": "display_data"
    }
   ],
   "source": [
    "trace0 = go.Scatter(x = female_salary,\n",
    "                  y = female_age,\n",
    "                  mode = \"markers\",\n",
    "                   name = \"Female\",\n",
    "                  marker = dict(size = 12, color = \"rgba(255, 70, 0, 0.9)\"))\n",
    "\n",
    "trace1 = go.Scatter(x = male_salary,\n",
    "                  y = male_age,\n",
    "                    name = \"Male\",\n",
    "                  mode = \"markers\",\n",
    "                  marker = dict(size = 12, color = \"rgba(0, 190, 255, 0.9)\"))\n",
    "\n",
    "fig = subplots.make_subplots(rows = 1,\n",
    "                          cols = 2,\n",
    "                         subplot_titles = (\"Female\", \"Male\"))\n",
    "\n",
    "fig.append_trace(trace0, 1, 1)\n",
    "fig.append_trace(trace1, 1, 2)\n",
    "\n",
    "fig.layout.update(title = \"Correlation between salary and age\")\n",
    "\n",
    "fig.show()"
   ]
  },
  {
   "cell_type": "markdown",
   "metadata": {},
   "source": [
    "## Sharing a *y*-axes"
   ]
  },
  {
   "cell_type": "code",
   "execution_count": 6,
   "metadata": {},
   "outputs": [
    {
     "data": {
      "text/html": [
       "<iframe\n",
       "    scrolling=\"no\"\n",
       "    width=\"100%\"\n",
       "    height=\"545px\"\n",
       "    src=\"iframe_figures/figure_6.html\"\n",
       "    frameborder=\"0\"\n",
       "    allowfullscreen\n",
       "></iframe>\n"
      ]
     },
     "metadata": {},
     "output_type": "display_data"
    }
   ],
   "source": [
    "trace0 = go.Scatter(x = female_salary,\n",
    "                  y = female_age,\n",
    "                  mode = \"markers\",\n",
    "                   name = \"Female\",\n",
    "                  marker = dict(size = 12, color = \"rgba(255, 70, 0, 0.9)\"))\n",
    "\n",
    "trace1 = go.Scatter(x = male_salary,\n",
    "                  y = male_age,\n",
    "                    name = \"Male\",\n",
    "                  mode = \"markers\",\n",
    "                  marker = dict(size = 12, color = \"rgba(0, 190, 255, 0.9)\"))\n",
    "\n",
    "fig = subplots.make_subplots(rows = 1,\n",
    "                          cols = 2,\n",
    "                         subplot_titles = (\"Female\", \"Male\"),\n",
    "                         shared_yaxes = True)\n",
    "\n",
    "fig.append_trace(trace0, 1, 1)\n",
    "fig.append_trace(trace1, 1, 2)\n",
    "\n",
    "fig.layout.update(title = \"Correlation between salary and age\",\n",
    "                 yaxis = dict(title = \"Age\"))\n",
    "\n",
    "# iplot(fig);\n",
    "pio.show(fig);\n"
   ]
  },
  {
   "cell_type": "markdown",
   "metadata": {},
   "source": [
    "## Two rows and one column sharing *x*-axes"
   ]
  },
  {
   "cell_type": "code",
   "execution_count": 7,
   "metadata": {},
   "outputs": [
    {
     "data": {
      "text/html": [
       "<iframe\n",
       "    scrolling=\"no\"\n",
       "    width=\"100%\"\n",
       "    height=\"545px\"\n",
       "    src=\"iframe_figures/figure_7.html\"\n",
       "    frameborder=\"0\"\n",
       "    allowfullscreen\n",
       "></iframe>\n"
      ]
     },
     "metadata": {},
     "output_type": "display_data"
    }
   ],
   "source": [
    "trace0 = go.Scatter(x = female_salary,\n",
    "                  y = female_age,\n",
    "                  mode = \"markers\",\n",
    "                   name = \"Female\",\n",
    "                  marker = dict(size = 12, color = \"rgba(255, 70, 0, 0.9)\"))\n",
    "\n",
    "trace1 = go.Scatter(x = male_salary,\n",
    "                  y = male_age,\n",
    "                    name = \"Male\",\n",
    "                  mode = \"markers\",\n",
    "                  marker = dict(size = 12, color = \"rgba(0, 190, 255, 0.9)\"))\n",
    "\n",
    "fig = subplots.make_subplots(rows = 2,\n",
    "                          cols = 1,\n",
    "                         subplot_titles = (\"Female\", \"Male\"),\n",
    "                         shared_xaxes = True)\n",
    "\n",
    "fig.append_trace(trace0, 1, 1)\n",
    "fig.append_trace(trace1, 2, 1)\n",
    "\n",
    "fig.layout.update(title = \"Correlation between salary and age\")\n",
    "\n",
    "# iplot(fig);\n",
    "pio.show(fig);"
   ]
  },
  {
   "cell_type": "markdown",
   "metadata": {},
   "source": [
    "## Constrain plot proportions"
   ]
  },
  {
   "cell_type": "code",
   "execution_count": 8,
   "metadata": {},
   "outputs": [
    {
     "data": {
      "text/html": [
       "<iframe\n",
       "    scrolling=\"no\"\n",
       "    width=\"100%\"\n",
       "    height=\"545px\"\n",
       "    src=\"iframe_figures/figure_8.html\"\n",
       "    frameborder=\"0\"\n",
       "    allowfullscreen\n",
       "></iframe>\n"
      ]
     },
     "metadata": {},
     "output_type": "display_data"
    }
   ],
   "source": [
    "trace0 = go.Scatter(x = female_salary,\n",
    "                  y = female_age,\n",
    "                  mode = \"markers\",\n",
    "                   name = \"Female\",\n",
    "                  marker = dict(size = 12, color = \"rgba(255, 70, 0, 0.9)\"))\n",
    "\n",
    "trace1 = go.Scatter(x = male_salary,\n",
    "                  y = male_age,\n",
    "                    name = \"Male\",\n",
    "                  mode = \"markers\",\n",
    "                  marker = dict(size = 12, color = \"rgba(0, 190, 255, 0.9)\"),\n",
    "                   xaxis = \"x2\",\n",
    "                   yaxis = \"y2\")\n",
    "\n",
    "data = [trace0, trace1]\n",
    "layout = go.Layout(\n",
    "    title = \"Constrain x-axis proportions\",\n",
    "    xaxis=dict(\n",
    "        domain=[0, 0.7]\n",
    "    ),\n",
    "    xaxis2=dict(\n",
    "        domain=[0.8, 1]\n",
    "    ),\n",
    "    yaxis2=dict(\n",
    "        anchor='x2'\n",
    "    )\n",
    ")\n",
    " \n",
    "fig = go.Figure(data=data, layout=layout)\n",
    "\n",
    "# iplot(fig)\n",
    "pio.show(fig);"
   ]
  },
  {
   "cell_type": "markdown",
   "metadata": {},
   "source": [
    "## Customizing axes"
   ]
  },
  {
   "cell_type": "code",
   "execution_count": 9,
   "metadata": {},
   "outputs": [
    {
     "data": {
      "text/html": [
       "<iframe\n",
       "    scrolling=\"no\"\n",
       "    width=\"100%\"\n",
       "    height=\"545px\"\n",
       "    src=\"iframe_figures/figure_9.html\"\n",
       "    frameborder=\"0\"\n",
       "    allowfullscreen\n",
       "></iframe>\n"
      ]
     },
     "metadata": {},
     "output_type": "display_data"
    }
   ],
   "source": [
    "trace0 = go.Histogram(x = female_age)\n",
    "trace1 = go.Histogram(x = male_age)\n",
    "trace2 = go.Histogram(x = female_salary)\n",
    "trace3 = go.Histogram(x = male_salary)\n",
    "\n",
    "fig = subplots.make_subplots(rows = 2,\n",
    "                         cols = 2,\n",
    "                         subplot_titles = (\"Fig A\", \"Fig B\", \"Fig C\", \"Fig D\"))\n",
    "\n",
    "fig.append_trace(trace0, 1, 1)\n",
    "fig.append_trace(trace1, 1, 2)\n",
    "fig.append_trace(trace2, 2, 1)\n",
    "fig.append_trace(trace3, 2, 2)\n",
    "\n",
    "fig.layout[\"xaxis1\"].update(title = \"Female age\")\n",
    "fig.layout[\"xaxis2\"].update(title = \"Male age\")\n",
    "fig.layout[\"xaxis3\"].update(title = \"Female salary\")\n",
    "fig.layout[\"xaxis4\"].update(title = \"Male salary\")\n",
    "\n",
    "fig.layout[\"yaxis1\"].update(title = \"Frequency\")\n",
    "fig.layout[\"yaxis2\"].update(title = \"Frequency\")\n",
    "fig.layout[\"yaxis3\"].update(title = \"Frequency\")\n",
    "fig.layout[\"yaxis4\"].update(title = \"Frequency\")\n",
    "\n",
    "fig.layout.update(title = \"Histograms of age and salary according to gender\",\n",
    "                 showlegend = False)\n",
    "\n",
    "pio.show(fig)"
   ]
  },
  {
   "cell_type": "markdown",
   "metadata": {},
   "source": [
    "## Odd pairing"
   ]
  },
  {
   "cell_type": "code",
   "execution_count": 10,
   "metadata": {},
   "outputs": [
    {
     "data": {
      "text/html": [
       "<iframe\n",
       "    scrolling=\"no\"\n",
       "    width=\"100%\"\n",
       "    height=\"545px\"\n",
       "    src=\"iframe_figures/figure_10.html\"\n",
       "    frameborder=\"0\"\n",
       "    allowfullscreen\n",
       "></iframe>\n"
      ]
     },
     "metadata": {},
     "output_type": "display_data"
    }
   ],
   "source": [
    "trace0 = go.Histogram(x = female_age)\n",
    "trace1 = go.Histogram(x = male_age)\n",
    "trace2 = go.Histogram(x = debt)\n",
    "\n",
    "fig = subplots.make_subplots(rows = 2,\n",
    "                         cols = 2,\n",
    "                          specs = [[{},{}],[{\"colspan\":2}, None]],\n",
    "                         subplot_titles = (\"Fig A\", \"Fig B\", \"Fig C\"))\n",
    "\n",
    "fig.append_trace(trace0, 1, 1)\n",
    "fig.append_trace(trace1, 1, 2)\n",
    "fig.append_trace(trace2, 2, 1)\n",
    "\n",
    "fig.layout[\"xaxis1\"].update(title = \"Female age\")\n",
    "fig.layout[\"xaxis2\"].update(title = \"Male age\")\n",
    "fig.layout[\"xaxis3\"].update(title = \"Debt\")\n",
    "\n",
    "fig.layout[\"yaxis1\"].update(title = \"Frequency\")\n",
    "fig.layout[\"yaxis2\"].update(title = \"Frequency\")\n",
    "fig.layout[\"yaxis3\"].update(title = \"Frequency\")\n",
    "# fig.layout[\"yaxis4\"].update(title = \"Frequency\")\n",
    "\n",
    "fig.layout.update(title = \"Histograms of age (by gender) and debt\",\n",
    "                 showlegend = False)\n",
    "\n",
    "# iplot(fig)\n",
    "pio.show(fig)"
   ]
  }
 ],
 "metadata": {
  "kernelspec": {
   "display_name": "Python 3 (ipykernel)",
   "language": "python",
   "name": "python3"
  },
  "language_info": {
   "codemirror_mode": {
    "name": "ipython",
    "version": 3
   },
   "file_extension": ".py",
   "mimetype": "text/x-python",
   "name": "python",
   "nbconvert_exporter": "python",
   "pygments_lexer": "ipython3",
   "version": "3.10.4"
  }
 },
 "nbformat": 4,
 "nbformat_minor": 4
}
