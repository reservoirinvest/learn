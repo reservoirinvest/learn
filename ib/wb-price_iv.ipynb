{
 "cells": [
  {
   "cell_type": "code",
   "execution_count": 291,
   "metadata": {},
   "outputs": [],
   "source": [
    "MARKET = 'SNP'"
   ]
  },
  {
   "cell_type": "code",
   "execution_count": 292,
   "metadata": {},
   "outputs": [],
   "source": [
    "import sys\n",
    "import pathlib\n",
    "import numpy as np\n",
    "import pandas as pd\n",
    "import yaml\n",
    "import asyncio\n",
    "import datetime\n",
    "\n",
    "from ib_insync import IB, util, Option, MarketOrder, Contract, Ticker, TickData\n",
    "from typing import Callable, Coroutine, Union"
   ]
  },
  {
   "cell_type": "code",
   "execution_count": 293,
   "metadata": {},
   "outputs": [],
   "source": [
    "# Specific to Jupyter. Will be ignored in IDE / command-lines\n",
    "import IPython as ipy\n",
    "if ipy.get_ipython().__class__.__name__ == 'ZMQInteractiveShell':\n",
    "    import nest_asyncio\n",
    "    nest_asyncio.apply()\n",
    "    util.startLoop()\n",
    "    pd.options.display.max_columns = None\n",
    "    \n",
    "    THIS_FOLDER = '' # Dummy for jupyter notebook's current folder"
   ]
  },
  {
   "cell_type": "code",
   "execution_count": 294,
   "metadata": {},
   "outputs": [],
   "source": [
    "# Get capability to import programs from `asyncib` folder\n",
    "cwd = pathlib.Path.cwd() # working directory from where python was initiated\n",
    "DATAPATH = cwd.joinpath('data', MARKET.lower()) # path to store data files\n",
    "LOGFILE = DATAPATH.joinpath('temp.log') # path to store log files\n",
    "\n",
    "IBPATH = cwd.parent.parent.joinpath('asyncib') # where ib programs are stored\n",
    "\n",
    "# append IBPATH to import programs.\n",
    "if str(IBPATH) not in sys.path:  # Convert it to string!\n",
    "    sys.path.append(str(IBPATH))\n",
    "    \n",
    "IBDATAPATH = IBPATH.joinpath('data', MARKET.lower())"
   ]
  },
  {
   "cell_type": "code",
   "execution_count": 295,
   "metadata": {},
   "outputs": [],
   "source": [
    "# Get the host, port, cid\n",
    "from engine import Vars\n",
    "\n",
    "ibp = Vars(MARKET.upper())  # IB Parameters from var.yml\n",
    "HOST, PORT, CID = ibp.HOST, ibp.PORT, ibp.CID"
   ]
  },
  {
   "cell_type": "code",
   "execution_count": 296,
   "metadata": {},
   "outputs": [
    {
     "data": {
      "text/plain": [
       "['dfrq.pkl',\n",
       " 'df_chains.pkl',\n",
       " 'df_ohlcs.pkl',\n",
       " 'df_opts.pkl',\n",
       " 'df_opt_margins.pkl',\n",
       " 'df_opt_prices.pkl',\n",
       " 'df_symlots.pkl',\n",
       " 'df_unds.pkl',\n",
       " 'df_und_margins.pkl',\n",
       " 'df_und_prices.pkl',\n",
       " 'qopts.pkl']"
      ]
     },
     "execution_count": 296,
     "metadata": {},
     "output_type": "execute_result"
    }
   ],
   "source": [
    "# Get the pickle files\n",
    "from os import listdir\n",
    "fs = listdir(DATAPATH)\n",
    "\n",
    "files = [f for f in fs if f[-4:] == '.pkl']\n",
    "for f in files:\n",
    "    exec(f\"{f.split('.')[0]} = pd.read_pickle(DATAPATH.joinpath(f))\")\n",
    "files"
   ]
  },
  {
   "cell_type": "markdown",
   "metadata": {},
   "source": [
    "# Getting implied volatility and price of an underlying"
   ]
  },
  {
   "cell_type": "code",
   "execution_count": 297,
   "metadata": {},
   "outputs": [],
   "source": [
    "# .Price\n",
    "async def price(ib: IB, c, FILL_DELAY=5) -> pd.DataFrame:\n",
    "    \"\"\"Price coro. Use CONCURRENT=40, TMEOUT=8 for optimal executeAsync results\"\"\"\n",
    "\n",
    "    if isinstance(c, tuple):\n",
    "        c = c[0]\n",
    "        \n",
    "    tick = ib.reqMktData(c, genericTickList='106')\n",
    "    \n",
    "    await asyncio.sleep(FILL_DELAY)\n",
    "\n",
    "    try:\n",
    "        dfpr = util.df([tick])\n",
    "        dfpr['symbol'] = c.symbol\n",
    "        dfpr['localSymbol'] = c.localSymbol\n",
    "        dfpr['conId'] = c.conId\n",
    "        dfpr['contract'] = c\n",
    "        dfpr['strike'] = c.strike\n",
    "        dfpr['expiry'] = c.lastTradeDateOrContractMonth\n",
    "        dfpr['right'] = c.right\n",
    "        dfpr['bid'] = dfpr.bid\n",
    "        dfpr['ask'] = dfpr.ask\n",
    "        dfpr['close'] = dfpr.close\n",
    "        dfpr['last'] = dfpr['last']\n",
    "        dfpr['price'] = dfpr[\"last\"].combine_first(dfpr[\"close\"])\n",
    "        dfpr['time'] = dfpr.time\n",
    "        dfpr['model'] = dfpr.modelGreeks\n",
    "        if dfpr.model[0] is None:\n",
    "            dfpr['iv'] = dfpr.impliedVolatility\n",
    "        else:\n",
    "            dfpr['iv'] = dfpr.model[0].impliedVol\n",
    "        \n",
    "    except AttributeError as e:\n",
    "        \n",
    "        print(f'\\nError in {c.localSymbol}: {e}. df will be empty!\\n')\n",
    "\n",
    "        # return empty price df\n",
    "        dfpr = pd.DataFrame([]) # initialize empty df\n",
    "        \n",
    "        dfpr['symbol'] = c.symbol\n",
    "        dfpr['localSymbol'] = c.localSymbol\n",
    "        dfpr['conId'] = c.conId\n",
    "        dfpr['contract'] = c\n",
    "        dfpr['strike'] = c.strike\n",
    "        dfpr['expiry'] = c.lastTradeDateOrContractMonth\n",
    "        dfpr['right'] = c.right\n",
    "        dfpr['bid'] = np.nan\n",
    "        dfpr['ask'] = np.nan\n",
    "        dfpr['close'] = np.nan\n",
    "        dfpr['last'] = np.nan\n",
    "        dfpr['price'] = np.nan\n",
    "        dfpr['iv'] = np.nan\n",
    "        dfpr['time'] = np.nan\n",
    "        dfpr['model'] = None\n",
    "\n",
    "    cols = [\"symbol\", \"conId\", \"strike\", \"expiry\", \"right\", \"contract\", \n",
    "            \"time\", \"model\", \"bid\", \"ask\", \"close\", \"last\", \"price\", \"iv\"]\n",
    "    \n",
    "    ib.cancelMktData(c)\n",
    "        \n",
    "    return dfpr[cols]"
   ]
  },
  {
   "cell_type": "markdown",
   "metadata": {},
   "source": [
    "## Single contract with reqMktData"
   ]
  },
  {
   "cell_type": "code",
   "execution_count": 298,
   "metadata": {},
   "outputs": [
    {
     "data": {
      "text/plain": [
       "Contract(secType='STK', conId=83975037, symbol='KMI', exchange='SMART', primaryExchange='NYSE', currency='USD', localSymbol='KMI', tradingClass='KMI')"
      ]
     },
     "execution_count": 298,
     "metadata": {},
     "output_type": "execute_result"
    }
   ],
   "source": [
    "# ct = Contract(symbol='INTC', secType='STK', exchange='SMART', currency='USD')\n",
    "und_ct = df_unds.contract.sample(1).iloc[0]\n",
    "und_ct"
   ]
  },
  {
   "cell_type": "code",
   "execution_count": 299,
   "metadata": {},
   "outputs": [
    {
     "name": "stdout",
     "output_type": "stream",
     "text": [
      "Wall time: 5.28 s\n"
     ]
    },
    {
     "data": {
      "text/html": [
       "<div>\n",
       "<style scoped>\n",
       "    .dataframe tbody tr th:only-of-type {\n",
       "        vertical-align: middle;\n",
       "    }\n",
       "\n",
       "    .dataframe tbody tr th {\n",
       "        vertical-align: top;\n",
       "    }\n",
       "\n",
       "    .dataframe thead th {\n",
       "        text-align: right;\n",
       "    }\n",
       "</style>\n",
       "<table border=\"1\" class=\"dataframe\">\n",
       "  <thead>\n",
       "    <tr style=\"text-align: right;\">\n",
       "      <th></th>\n",
       "      <th>symbol</th>\n",
       "      <th>conId</th>\n",
       "      <th>strike</th>\n",
       "      <th>expiry</th>\n",
       "      <th>right</th>\n",
       "      <th>contract</th>\n",
       "      <th>time</th>\n",
       "      <th>model</th>\n",
       "      <th>bid</th>\n",
       "      <th>ask</th>\n",
       "      <th>close</th>\n",
       "      <th>last</th>\n",
       "      <th>price</th>\n",
       "      <th>iv</th>\n",
       "    </tr>\n",
       "  </thead>\n",
       "  <tbody>\n",
       "    <tr>\n",
       "      <th>0</th>\n",
       "      <td>KMI</td>\n",
       "      <td>83975037</td>\n",
       "      <td>0.0</td>\n",
       "      <td></td>\n",
       "      <td></td>\n",
       "      <td>Contract(secType='STK', conId=83975037, symbol...</td>\n",
       "      <td>2020-11-13 10:24:13.581672+00:00</td>\n",
       "      <td>None</td>\n",
       "      <td>12.54</td>\n",
       "      <td>12.94</td>\n",
       "      <td>12.71</td>\n",
       "      <td>12.7</td>\n",
       "      <td>12.7</td>\n",
       "      <td>0.364997</td>\n",
       "    </tr>\n",
       "  </tbody>\n",
       "</table>\n",
       "</div>"
      ],
      "text/plain": [
       "  symbol     conId  strike expiry right  \\\n",
       "0    KMI  83975037     0.0                \n",
       "\n",
       "                                            contract  \\\n",
       "0  Contract(secType='STK', conId=83975037, symbol...   \n",
       "\n",
       "                              time model    bid    ask  close  last  price  \\\n",
       "0 2020-11-13 10:24:13.581672+00:00  None  12.54  12.94  12.71  12.7   12.7   \n",
       "\n",
       "         iv  \n",
       "0  0.364997  "
      ]
     },
     "execution_count": 299,
     "metadata": {},
     "output_type": "execute_result"
    }
   ],
   "source": [
    "%%time\n",
    "with IB().connect(HOST, PORT, CID) as ib:\n",
    "    dfpr_und = ib.run(price(ib, und_ct))\n",
    "dfpr_und"
   ]
  },
  {
   "cell_type": "code",
   "execution_count": 300,
   "metadata": {},
   "outputs": [
    {
     "name": "stdout",
     "output_type": "stream",
     "text": [
      "Wall time: 5.22 s\n"
     ]
    },
    {
     "data": {
      "text/html": [
       "<div>\n",
       "<style scoped>\n",
       "    .dataframe tbody tr th:only-of-type {\n",
       "        vertical-align: middle;\n",
       "    }\n",
       "\n",
       "    .dataframe tbody tr th {\n",
       "        vertical-align: top;\n",
       "    }\n",
       "\n",
       "    .dataframe thead th {\n",
       "        text-align: right;\n",
       "    }\n",
       "</style>\n",
       "<table border=\"1\" class=\"dataframe\">\n",
       "  <thead>\n",
       "    <tr style=\"text-align: right;\">\n",
       "      <th></th>\n",
       "      <th>symbol</th>\n",
       "      <th>conId</th>\n",
       "      <th>strike</th>\n",
       "      <th>expiry</th>\n",
       "      <th>right</th>\n",
       "      <th>contract</th>\n",
       "      <th>time</th>\n",
       "      <th>model</th>\n",
       "      <th>bid</th>\n",
       "      <th>ask</th>\n",
       "      <th>close</th>\n",
       "      <th>last</th>\n",
       "      <th>price</th>\n",
       "      <th>iv</th>\n",
       "    </tr>\n",
       "  </thead>\n",
       "  <tbody>\n",
       "    <tr>\n",
       "      <th>0</th>\n",
       "      <td>MET</td>\n",
       "      <td>449226282</td>\n",
       "      <td>34.0</td>\n",
       "      <td>20201127</td>\n",
       "      <td>P</td>\n",
       "      <td>Option(conId=449226282, symbol='MET', lastTrad...</td>\n",
       "      <td>2020-11-13 10:24:19.026629+00:00</td>\n",
       "      <td>None</td>\n",
       "      <td>-1.0</td>\n",
       "      <td>-1.0</td>\n",
       "      <td>0.0</td>\n",
       "      <td>NaN</td>\n",
       "      <td>0.0</td>\n",
       "      <td>NaN</td>\n",
       "    </tr>\n",
       "  </tbody>\n",
       "</table>\n",
       "</div>"
      ],
      "text/plain": [
       "  symbol      conId  strike    expiry right  \\\n",
       "0    MET  449226282    34.0  20201127     P   \n",
       "\n",
       "                                            contract  \\\n",
       "0  Option(conId=449226282, symbol='MET', lastTrad...   \n",
       "\n",
       "                              time model  bid  ask  close  last  price  iv  \n",
       "0 2020-11-13 10:24:19.026629+00:00  None -1.0 -1.0    0.0   NaN    0.0 NaN  "
      ]
     },
     "execution_count": 300,
     "metadata": {},
     "output_type": "execute_result"
    }
   ],
   "source": [
    "%%time\n",
    "opt_ct = df_opts.contract.sample(1).iloc[0]\n",
    "with IB().connect(HOST, PORT, CID) as ib:\n",
    "    dfpr_opt = ib.run(price(ib, opt_ct))\n",
    "dfpr_opt"
   ]
  },
  {
   "cell_type": "markdown",
   "metadata": {},
   "source": [
    "# Multiple contracts"
   ]
  },
  {
   "cell_type": "code",
   "execution_count": 301,
   "metadata": {},
   "outputs": [],
   "source": [
    "und_cts = df_unds.contract.to_list()"
   ]
  },
  {
   "cell_type": "code",
   "execution_count": 302,
   "metadata": {},
   "outputs": [],
   "source": [
    "from engine import executeAsync, save_df"
   ]
  },
  {
   "cell_type": "code",
   "execution_count": 303,
   "metadata": {},
   "outputs": [
    {
     "name": "stdout",
     "output_type": "stream",
     "text": [
      "\n",
      "Done price for ['SO0.0..', 'CBOE0.0..'] 40 out of 261. Pending ['OEX0.0..', 'BIIB0.0..']\n",
      "\n",
      "Done price for ['BBY0.0..', 'KLAC0.0..'] 80 out of 261. Pending ['AVGO0.0..', 'CRM0.0..']\n",
      "\n",
      "Done price for ['OKE0.0..', 'CHTR0.0..'] 120 out of 261. Pending ['WFC0.0..', 'AFL0.0..']\n",
      "\n",
      "Done price for ['KMB0.0..', 'IP0.0..'] 160 out of 261. Pending ['ACN0.0..', 'AMAT0.0..']\n",
      "\n",
      "Done price for ['DAL0.0..', 'ALXN0.0..'] 200 out of 261. Pending ['LLY0.0..', 'YINN0.0..']\n",
      "\n",
      "Done price for ['HPE0.0..', 'TMUS0.0..'] 240 out of 261. Pending ['TGT0.0..', 'HD0.0..']\n",
      "\n",
      "Done price for ['IWM0.0..', 'HD0.0..'] 261 out of 261. Pending []\n",
      "Wall time: 39.6 s\n"
     ]
    }
   ],
   "source": [
    "%%time\n",
    "with IB().connect(HOST, PORT, CID) as ib:\n",
    "    dfpr = ib.run(executeAsync(ib, price, und_cts, save_df, CONCURRENT=40, TIMEOUT=8))"
   ]
  },
  {
   "cell_type": "code",
   "execution_count": null,
   "metadata": {},
   "outputs": [],
   "source": []
  }
 ],
 "metadata": {
  "kernelspec": {
   "display_name": "Python 3",
   "language": "python",
   "name": "python3"
  },
  "language_info": {
   "codemirror_mode": {
    "name": "ipython",
    "version": 3
   },
   "file_extension": ".py",
   "mimetype": "text/x-python",
   "name": "python",
   "nbconvert_exporter": "python",
   "pygments_lexer": "ipython3",
   "version": "3.8.6"
  }
 },
 "nbformat": 4,
 "nbformat_minor": 4
}
