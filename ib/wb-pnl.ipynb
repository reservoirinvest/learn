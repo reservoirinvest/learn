{
 "cells": [
  {
   "cell_type": "code",
   "execution_count": null,
   "metadata": {},
   "outputs": [],
   "source": [
    "MARKET = 'SNP'"
   ]
  },
  {
   "cell_type": "code",
   "execution_count": 2,
   "metadata": {},
   "outputs": [],
   "source": [
    "import sys\n",
    "import pathlib\n",
    "import numpy as np\n",
    "import pandas as pd\n",
    "import yaml\n",
    "import asyncio\n",
    "\n",
    "from ib_insync import IB, util, Option, MarketOrder, Contract\n",
    "from typing import Callable, Coroutine, Union"
   ]
  },
  {
   "cell_type": "code",
   "execution_count": 3,
   "metadata": {},
   "outputs": [],
   "source": [
    "# Specific to Jupyter. Will be ignored in IDE / command-lines\n",
    "import IPython as ipy\n",
    "if ipy.get_ipython().__class__.__name__ == 'ZMQInteractiveShell':\n",
    "    import nest_asyncio\n",
    "    nest_asyncio.apply()\n",
    "    util.startLoop()\n",
    "    pd.options.display.max_columns = None\n",
    "    \n",
    "    THIS_FOLDER = '' # Dummy for jupyter notebook's current folder"
   ]
  },
  {
   "cell_type": "code",
   "execution_count": 4,
   "metadata": {},
   "outputs": [],
   "source": [
    "# Get capability to import programs from `asyncib` folder\n",
    "cwd = pathlib.Path.cwd() # working directory from where python was initiated\n",
    "DATAPATH = cwd.joinpath('data', MARKET.lower()) # path to store data files\n",
    "LOGFILE = DATAPATH.joinpath('temp.log') # path to store log files\n",
    "\n",
    "IBPATH = cwd.parent.parent.joinpath('asyncib') # where ib programs are stored\n",
    "\n",
    "# append IBPATH to import programs.\n",
    "if str(IBPATH) not in sys.path:  # Convert it to string!\n",
    "    sys.path.append(str(IBPATH))\n",
    "    \n",
    "IBDATAPATH = IBPATH.joinpath('data', MARKET.lower())"
   ]
  },
  {
   "cell_type": "code",
   "execution_count": 5,
   "metadata": {},
   "outputs": [],
   "source": [
    "# Get the host, port, cid\n",
    "from engine import Vars\n",
    "\n",
    "ibp = Vars(MARKET.upper())  # IB Parameters from var.yml\n",
    "HOST, PORT, CID = ibp.HOST, ibp.PORT, ibp.CID"
   ]
  },
  {
   "cell_type": "code",
   "execution_count": 6,
   "metadata": {},
   "outputs": [
    {
     "data": {
      "text/plain": [
       "['df_chains.pkl',\n",
       " 'df_ohlcs.pkl',\n",
       " 'df_opts.pkl',\n",
       " 'df_opt_margins.pkl',\n",
       " 'df_opt_prices.pkl',\n",
       " 'df_symlots.pkl',\n",
       " 'df_unds.pkl',\n",
       " 'df_und_margins.pkl',\n",
       " 'df_und_prices.pkl',\n",
       " 'qopts.pkl']"
      ]
     },
     "execution_count": 6,
     "metadata": {},
     "output_type": "execute_result"
    }
   ],
   "source": [
    "# Get the pickle files\n",
    "from os import listdir\n",
    "fs = listdir(DATAPATH)\n",
    "\n",
    "files = [f for f in fs if f[-4:] == '.pkl']\n",
    "for f in files:\n",
    "    exec(f\"{f.split('.')[0]} = pd.read_pickle(DATAPATH.joinpath(f))\")\n",
    "files"
   ]
  },
  {
   "cell_type": "markdown",
   "metadata": {},
   "source": [
    "# Enhancing PnL"
   ]
  },
  {
   "cell_type": "code",
   "execution_count": 11,
   "metadata": {},
   "outputs": [
    {
     "name": "stdout",
     "output_type": "stream",
     "text": [
      "Wall time: 183 ms\n"
     ]
    }
   ],
   "source": [
    "%%time\n",
    "with IB().connect(ibp.HOST, ibp.PORT, ibp.CID) as ib:\n",
    "    acct = ib.managedAccounts()[0]\n",
    "    pnlobj = ib.reqPnL(acct)\n",
    "\n",
    "    df_mgns = util.df(ib.accountValues())"
   ]
  },
  {
   "cell_type": "code",
   "execution_count": 8,
   "metadata": {},
   "outputs": [
    {
     "data": {
      "text/plain": [
       "array(['AccountCode', 'AccountOrGroup', 'AccountReady', 'AccountType',\n",
       "       'AccruedCash', 'AccruedCash-C', 'AccruedCash-S', 'AccruedDividend',\n",
       "       'AccruedDividend-C', 'AccruedDividend-S', 'AvailableFunds',\n",
       "       'AvailableFunds-C', 'AvailableFunds-S', 'Billable', 'Billable-C',\n",
       "       'Billable-S', 'BuyingPower', 'CashBalance', 'CorporateBondValue',\n",
       "       'Currency', 'Cushion', 'DayTradesRemaining',\n",
       "       'DayTradesRemainingT+1', 'DayTradesRemainingT+2',\n",
       "       'DayTradesRemainingT+3', 'DayTradesRemainingT+4',\n",
       "       'EquityWithLoanValue', 'EquityWithLoanValue-C',\n",
       "       'EquityWithLoanValue-S', 'ExcessLiquidity', 'ExcessLiquidity-C',\n",
       "       'ExcessLiquidity-S', 'ExchangeRate', 'FullAvailableFunds',\n",
       "       'FullAvailableFunds-C', 'FullAvailableFunds-S',\n",
       "       'FullExcessLiquidity', 'FullExcessLiquidity-C',\n",
       "       'FullExcessLiquidity-S', 'FullInitMarginReq',\n",
       "       'FullInitMarginReq-C', 'FullInitMarginReq-S', 'FullMaintMarginReq',\n",
       "       'FullMaintMarginReq-C', 'FullMaintMarginReq-S', 'FundValue',\n",
       "       'FutureOptionValue', 'FuturesPNL', 'FxCashBalance',\n",
       "       'GrossPositionValue', 'GrossPositionValue-S', 'Guarantee',\n",
       "       'Guarantee-C', 'Guarantee-S', 'IndianStockHaircut',\n",
       "       'IndianStockHaircut-C', 'IndianStockHaircut-S', 'InitMarginReq',\n",
       "       'InitMarginReq-C', 'InitMarginReq-S', 'IssuerOptionValue',\n",
       "       'Leverage-S', 'LookAheadAvailableFunds',\n",
       "       'LookAheadAvailableFunds-C', 'LookAheadAvailableFunds-S',\n",
       "       'LookAheadExcessLiquidity', 'LookAheadExcessLiquidity-C',\n",
       "       'LookAheadExcessLiquidity-S', 'LookAheadInitMarginReq',\n",
       "       'LookAheadInitMarginReq-C', 'LookAheadInitMarginReq-S',\n",
       "       'LookAheadMaintMarginReq', 'LookAheadMaintMarginReq-C',\n",
       "       'LookAheadMaintMarginReq-S', 'LookAheadNextChange',\n",
       "       'MaintMarginReq', 'MaintMarginReq-C', 'MaintMarginReq-S',\n",
       "       'MoneyMarketFundValue', 'MutualFundValue', 'NLVAndMarginInReview',\n",
       "       'NetDividend', 'NetLiquidation', 'NetLiquidation-C',\n",
       "       'NetLiquidation-S', 'NetLiquidationByCurrency',\n",
       "       'NetLiquidationUncertainty', 'OptionMarketValue', 'PASharesValue',\n",
       "       'PASharesValue-C', 'PASharesValue-S', 'PostExpirationExcess',\n",
       "       'PostExpirationExcess-C', 'PostExpirationExcess-S',\n",
       "       'PostExpirationMargin', 'PostExpirationMargin-C',\n",
       "       'PostExpirationMargin-S', 'PreviousDayEquityWithLoanValue',\n",
       "       'PreviousDayEquityWithLoanValue-S', 'RealCurrency', 'RealizedPnL',\n",
       "       'SegmentTitle-C', 'SegmentTitle-S', 'StockMarketValue',\n",
       "       'TBillValue', 'TBondValue', 'TotalCashBalance', 'TotalCashValue',\n",
       "       'TotalCashValue-C', 'TotalCashValue-S',\n",
       "       'TotalDebitCardPendingCharges', 'TotalDebitCardPendingCharges-C',\n",
       "       'TotalDebitCardPendingCharges-S', 'TradingType-S', 'UnrealizedPnL',\n",
       "       'WarrantValue'], dtype=object)"
      ]
     },
     "execution_count": 8,
     "metadata": {},
     "output_type": "execute_result"
    }
   ],
   "source": [
    "df_mgns.tag.unique()"
   ]
  },
  {
   "cell_type": "code",
   "execution_count": 9,
   "metadata": {},
   "outputs": [
    {
     "data": {
      "text/html": [
       "<div>\n",
       "<style scoped>\n",
       "    .dataframe tbody tr th:only-of-type {\n",
       "        vertical-align: middle;\n",
       "    }\n",
       "\n",
       "    .dataframe tbody tr th {\n",
       "        vertical-align: top;\n",
       "    }\n",
       "\n",
       "    .dataframe thead th {\n",
       "        text-align: right;\n",
       "    }\n",
       "</style>\n",
       "<table border=\"1\" class=\"dataframe\">\n",
       "  <thead>\n",
       "    <tr style=\"text-align: right;\">\n",
       "      <th></th>\n",
       "      <th>account</th>\n",
       "      <th>tag</th>\n",
       "      <th>value</th>\n",
       "      <th>currency</th>\n",
       "      <th>modelCode</th>\n",
       "    </tr>\n",
       "  </thead>\n",
       "  <tbody>\n",
       "    <tr>\n",
       "      <th>42</th>\n",
       "      <td>U8898867</td>\n",
       "      <td>ExchangeRate</td>\n",
       "      <td>1.00</td>\n",
       "      <td>BASE</td>\n",
       "      <td></td>\n",
       "    </tr>\n",
       "    <tr>\n",
       "      <th>43</th>\n",
       "      <td>U8898867</td>\n",
       "      <td>ExchangeRate</td>\n",
       "      <td>0.7425696</td>\n",
       "      <td>SGD</td>\n",
       "      <td></td>\n",
       "    </tr>\n",
       "    <tr>\n",
       "      <th>44</th>\n",
       "      <td>U8898867</td>\n",
       "      <td>ExchangeRate</td>\n",
       "      <td>1.00</td>\n",
       "      <td>USD</td>\n",
       "      <td></td>\n",
       "    </tr>\n",
       "    <tr>\n",
       "      <th>148</th>\n",
       "      <td>U8898867</td>\n",
       "      <td>TotalCashBalance</td>\n",
       "      <td>425872.6486</td>\n",
       "      <td>BASE</td>\n",
       "      <td></td>\n",
       "    </tr>\n",
       "    <tr>\n",
       "      <th>149</th>\n",
       "      <td>U8898867</td>\n",
       "      <td>TotalCashBalance</td>\n",
       "      <td>275884.74</td>\n",
       "      <td>SGD</td>\n",
       "      <td></td>\n",
       "    </tr>\n",
       "    <tr>\n",
       "      <th>150</th>\n",
       "      <td>U8898867</td>\n",
       "      <td>TotalCashBalance</td>\n",
       "      <td>221223.29</td>\n",
       "      <td>USD</td>\n",
       "      <td></td>\n",
       "    </tr>\n",
       "    <tr>\n",
       "      <th>151</th>\n",
       "      <td>U8898867</td>\n",
       "      <td>TotalCashValue</td>\n",
       "      <td>425872.65</td>\n",
       "      <td>USD</td>\n",
       "      <td></td>\n",
       "    </tr>\n",
       "  </tbody>\n",
       "</table>\n",
       "</div>"
      ],
      "text/plain": [
       "      account               tag        value currency modelCode\n",
       "42   U8898867      ExchangeRate         1.00     BASE          \n",
       "43   U8898867      ExchangeRate    0.7425696      SGD          \n",
       "44   U8898867      ExchangeRate         1.00      USD          \n",
       "148  U8898867  TotalCashBalance  425872.6486     BASE          \n",
       "149  U8898867  TotalCashBalance    275884.74      SGD          \n",
       "150  U8898867  TotalCashBalance    221223.29      USD          \n",
       "151  U8898867    TotalCashValue    425872.65      USD          "
      ]
     },
     "execution_count": 9,
     "metadata": {},
     "output_type": "execute_result"
    }
   ],
   "source": [
    "df_mgns[df_mgns.tag.isin(['TotalCashValue', 'TotalCashBalance', 'ExchangeRate'])]"
   ]
  },
  {
   "cell_type": "code",
   "execution_count": 10,
   "metadata": {},
   "outputs": [],
   "source": [
    "margins = df_mgns.set_index('tag').value.to_dict()"
   ]
  },
  {
   "cell_type": "code",
   "execution_count": null,
   "metadata": {},
   "outputs": [],
   "source": [
    "pd.to_numeric(pd.Series(margins), errors='ignore')"
   ]
  },
  {
   "cell_type": "code",
   "execution_count": null,
   "metadata": {},
   "outputs": [],
   "source": []
  }
 ],
 "metadata": {
  "kernelspec": {
   "display_name": "Python 3",
   "language": "python",
   "name": "python3"
  },
  "language_info": {
   "codemirror_mode": {
    "name": "ipython",
    "version": 3
   },
   "file_extension": ".py",
   "mimetype": "text/x-python",
   "name": "python",
   "nbconvert_exporter": "python",
   "pygments_lexer": "ipython3",
   "version": "3.8.6"
  }
 },
 "nbformat": 4,
 "nbformat_minor": 4
}
