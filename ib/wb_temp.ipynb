{
 "cells": [
  {
   "cell_type": "markdown",
   "metadata": {},
   "source": [
    "# Deeper look to fix `nakeds.py`\n",
    "* Why is it not estimating sdMult properly?\n",
    "* Why is it not choosing the `edge` trades?"
   ]
  },
  {
   "cell_type": "code",
   "execution_count": 1,
   "metadata": {},
   "outputs": [],
   "source": [
    "MARKET = 'NSE'"
   ]
  },
  {
   "cell_type": "code",
   "execution_count": 2,
   "metadata": {},
   "outputs": [],
   "source": [
    "import sys\n",
    "import pathlib\n",
    "import numpy as np\n",
    "import pandas as pd\n",
    "import yaml\n",
    "import asyncio\n",
    "\n",
    "from ib_insync import IB, util, Option, MarketOrder, Contract\n",
    "from typing import Callable, Coroutine, Union"
   ]
  },
  {
   "cell_type": "code",
   "execution_count": 3,
   "metadata": {},
   "outputs": [],
   "source": [
    "# Specific to Jupyter. Will be ignored in IDE / command-lines\n",
    "import IPython as ipy\n",
    "if ipy.get_ipython().__class__.__name__ == 'ZMQInteractiveShell':\n",
    "    import nest_asyncio\n",
    "    nest_asyncio.apply()\n",
    "    util.startLoop()\n",
    "    pd.options.display.max_columns = None\n",
    "    \n",
    "    THIS_FOLDER = '' # Dummy for jupyter notebook's current folder\n",
    "    BAR_FORMAT = \"{l_bar}{bar:-20}{r_bar}\""
   ]
  },
  {
   "cell_type": "code",
   "execution_count": 4,
   "metadata": {},
   "outputs": [],
   "source": [
    "# Get capability to import programs from `asyncib` folder\n",
    "cwd = pathlib.Path.cwd() # working directory from where python was initiated\n",
    "DATAPATH = cwd.joinpath('data', MARKET.lower()) # path to store data files\n",
    "LOGFILE = cwd.joinpath(THIS_FOLDER, 'data', 'log', 'temp.log') # path to store log files\n",
    "\n",
    "IBPATH = cwd.parent.parent.joinpath('asyncib') # where ib programs are stored\n",
    "\n",
    "# append IBPATH to import programs.\n",
    "if str(IBPATH) not in sys.path:  # Convert it to string!\n",
    "    sys.path.append(str(IBPATH))\n",
    "    \n",
    "IBDATAPATH = IBPATH.joinpath('data', MARKET.lower())"
   ]
  },
  {
   "cell_type": "code",
   "execution_count": 5,
   "metadata": {},
   "outputs": [],
   "source": [
    "# Get the host, port, cid\n",
    "from engine import Vars\n",
    "\n",
    "ibp = Vars(MARKET.upper())  # IB Parameters from var.yml\n",
    "HOST, PORT, CID = ibp.HOST, ibp.PORT, ibp.CID"
   ]
  },
  {
   "cell_type": "code",
   "execution_count": 6,
   "metadata": {},
   "outputs": [
    {
     "data": {
      "text/plain": [
       "array(['df_chains.pkl', 'df_nakeds.pkl', 'df_ohlcs.pkl',\n",
       "       'df_opt_margins.pkl', 'df_opt_prices.pkl', 'df_opts.pkl',\n",
       "       'df_symlots.pkl', 'df_unds.pkl', 'dfrq.pkl', 'qopt_rejects.pkl',\n",
       "       'qopts.pkl'], dtype='<U18')"
      ]
     },
     "execution_count": 6,
     "metadata": {},
     "output_type": "execute_result"
    }
   ],
   "source": [
    "# Get the pickle files\n",
    "from os import listdir\n",
    "fs = listdir(DATAPATH)\n",
    "\n",
    "files = [f for f in fs if f[-4:] == '.pkl']\n",
    "for f in files:\n",
    "    exec(f\"{f.split('.')[0]} = pd.read_pickle(DATAPATH.joinpath(f))\")\n",
    "np.sort(np.array(files))"
   ]
  },
  {
   "cell_type": "markdown",
   "metadata": {},
   "source": [
    "## Let's write some code"
   ]
  },
  {
   "cell_type": "raw",
   "metadata": {},
   "source": [
    "# Integrate latest price into df_opts\n",
    "get_opts(MARKET=MARKET, OP_FILENAME='df_opts.pkl').head()"
   ]
  },
  {
   "cell_type": "markdown",
   "metadata": {},
   "source": [
    "### Which symbols are the most volatile?"
   ]
  },
  {
   "cell_type": "code",
   "execution_count": null,
   "metadata": {},
   "outputs": [],
   "source": [
    "cols1 = ['symbol', 'undPrice', 'margin', 'high52week', 'low52week', 'histVolatility', 'iv']\n",
    "df_unds.sort_values('iv', ascending=False)[cols1]"
   ]
  },
  {
   "cell_type": "markdown",
   "metadata": {},
   "source": [
    "### Pick up a symbol"
   ]
  },
  {
   "cell_type": "code",
   "execution_count": null,
   "metadata": {},
   "outputs": [],
   "source": [
    "symbol = 'NIFTY50'"
   ]
  },
  {
   "cell_type": "code",
   "execution_count": null,
   "metadata": {},
   "outputs": [],
   "source": [
    "cols2 = ['symbol', 'strike', 'undPrice', 'dte', 'right', 'und_iv', 'bid', 'ask', 'close', 'last', 'margin', 'iv', 'intrinsic', 'timevalue', 'prob', 'sdMult', 'price', 'rom']\n",
    "df = df_opts[df_opts.symbol == symbol][cols2]"
   ]
  },
  {
   "cell_type": "code",
   "execution_count": null,
   "metadata": {},
   "outputs": [],
   "source": [
    "ibp.CALLSTDMULT"
   ]
  },
  {
   "cell_type": "code",
   "execution_count": null,
   "metadata": {},
   "outputs": [],
   "source": [
    "# removes options without time value\n",
    "m1 = ((df.right == 'C') & (df.strike > df.undPrice)) | \\\n",
    "    ((df.right == 'P') & (df.strike < df.undPrice))\n",
    "\n",
    "# removes out-of-fence (sdMult) options\n",
    "m2 = ((df.right == 'C') & (df.sdMult > ibp.CALLSTDMULT)) | \\\n",
    "    ((df.right == 'P') & (df.sdMult > ibp.PUTSTDMULT))\n",
    "\n",
    "df = df[m1&m2].reset_index(drop=True)"
   ]
  },
  {
   "cell_type": "markdown",
   "metadata": {},
   "source": [
    "### `rom` for the best `sdMult`"
   ]
  },
  {
   "cell_type": "code",
   "execution_count": null,
   "metadata": {},
   "outputs": [],
   "source": [
    "# Sort down sdMult based on dte and right, groupby dte, right\n",
    "s = df.sort_values(['dte', 'right', 'sdMult'], ascending=[True, False, True]).groupby(['symbol', 'dte', 'right']).cumcount()\n",
    "\n",
    "# Filtered and Sorted df\n",
    "df = df.loc[s.index]\n",
    "\n",
    "# Option with the largest rom for the dte and right\n",
    "df_max_rom = df[df.rom == df.groupby(['symbol', 'dte', 'right']).rom.transform(max)]"
   ]
  },
  {
   "cell_type": "code",
   "execution_count": null,
   "metadata": {},
   "outputs": [],
   "source": [
    "df_max_rom.sort_values('rom', ascending=False)"
   ]
  },
  {
   "cell_type": "code",
   "execution_count": null,
   "metadata": {},
   "outputs": [],
   "source": [
    "dfrq.sort_values('symbol').set_index('symbol').remq.to_dict()"
   ]
  },
  {
   "cell_type": "markdown",
   "metadata": {},
   "source": [
    "## For `all` symbols\n",
    "### Let us try this using sort, filter and groupby sequence"
   ]
  },
  {
   "cell_type": "code",
   "execution_count": null,
   "metadata": {},
   "outputs": [],
   "source": [
    "# Read all opts (to reset from single opt above)\n",
    "df = df_opts\n",
    "cols2 = ['symbol', 'strike', 'undPrice', 'dte', 'right', 'und_iv', 'bid', 'ask', 'close', 'last', 'margin', 'iv', 'intrinsic', 'timevalue', 'prob', 'sdMult', 'price', 'rom']\n",
    "\n",
    "\n",
    "# ...remove options without time value\n",
    "m1 = ((df.right == 'C') & (df.strike > df.undPrice)) | \\\n",
    "    ((df.right == 'P') & (df.strike < df.undPrice))\n",
    "\n",
    "# ...remove out-of-fence (sdMult) options\n",
    "m2 = ((df.right == 'C') & (df.sdMult > ibp.CALLSTDMULT)) | \\\n",
    "    ((df.right == 'P') & (df.sdMult > ibp.PUTSTDMULT))\n",
    "\n",
    "df = df[m1&m2].reset_index(drop=True)\n",
    "\n",
    "# Sort down sdMult based on dte and right, groupby dte, right\n",
    "s = df.sort_values(['dte', 'right', 'sdMult'], ascending=[True, False, True]).groupby(['symbol', 'dte', 'right']).cumcount()\n",
    "\n",
    "# Filtered and Sorted df\n",
    "df = df.loc[s.index]\n",
    "\n",
    "# Option with the largest rom for the dte and right\n",
    "df_max_rom = df[df.rom == df.groupby(['symbol', 'dte', 'right']).rom.transform(max)].sort_values('rom', ascending=False)"
   ]
  },
  {
   "cell_type": "code",
   "execution_count": null,
   "metadata": {},
   "outputs": [],
   "source": [
    "len(df)"
   ]
  },
  {
   "cell_type": "code",
   "execution_count": null,
   "metadata": {},
   "outputs": [],
   "source": [
    "df_max_rom[cols2]"
   ]
  },
  {
   "cell_type": "code",
   "execution_count": null,
   "metadata": {},
   "outputs": [],
   "source": []
  },
  {
   "cell_type": "code",
   "execution_count": null,
   "metadata": {},
   "outputs": [],
   "source": [
    "# * SORT\n",
    "df1 = df_opts.sort_values(['symbol', 'dte', 'right', 'sdMult'], \n",
    "                          ascending=[True, True, False, True])\n",
    "\n",
    "# * FILTER\n",
    "# ... filter for options with timevalue\n",
    "f1 = ((df1.right == 'C') & (df1.strike > df1.undPrice)) | \\\n",
    "    ((df1.right == 'P') & (df1.strike < df1.undPrice))\n",
    "\n",
    "# ... filter for sdMult limits\n",
    "f2 = ((df1.right == 'C') & (df1.sdMult > ibp.CALLSTDMULT)) | \\\n",
    "    ((df1.right == 'P') & (df1.sdMult > ibp.PUTSTDMULT))\n",
    "\n",
    "df2 = df1[f1&f2].reset_index(drop=True)\n",
    "\n"
   ]
  },
  {
   "cell_type": "code",
   "execution_count": null,
   "metadata": {},
   "outputs": [],
   "source": []
  },
  {
   "cell_type": "code",
   "execution_count": null,
   "metadata": {},
   "outputs": [],
   "source": [
    "# Filter for options with timevalue\n",
    "m1 = ((df_opts.right == 'C') & (df_opts.strike > df_opts.undPrice)) | \\\n",
    "    ((df_opts.right == 'P') & (df_opts.strike < df_opts.undPrice))\n",
    "\n",
    "# Filter for sdMult limits\n",
    "m2 = ((df_opts.right == 'C') & (df_opts.sdMult > ibp.CALLSTDMULT)) | \\\n",
    "    ((df_opts.right == 'P') & (df_opts.sdMult > ibp.PUTSTDMULT))\n",
    "\n",
    "\n",
    "# groupby symbol\n",
    "df1 = df_opts[m1&m2].sort_values(['dte', 'right', 'sdMult'], ascending=[True, False, True]).groupby('symbol').head(1)"
   ]
  },
  {
   "cell_type": "code",
   "execution_count": null,
   "metadata": {},
   "outputs": [],
   "source": []
  },
  {
   "cell_type": "markdown",
   "metadata": {},
   "source": [
    "### experiments with sort and groupby"
   ]
  },
  {
   "cell_type": "code",
   "execution_count": null,
   "metadata": {},
   "outputs": [],
   "source": [
    "import random\n",
    "import pandas as pd\n",
    "random.seed(999)\n",
    "sz = 50\n",
    "\n",
    "qty = {'one': 1, 'two': 2, 'three': 3}\n",
    "\n",
    "thing = (random.choice(['one', 'two', 'three']) for _ in range(sz))\n",
    "order = (random.choice(['ascending', 'descending']) for _ in range(sz))\n",
    "value = (random.randint(0, 100) for _ in range(sz))\n",
    "\n",
    "df = pd.DataFrame({'thing': thing, 'order': order, 'value': value})"
   ]
  },
  {
   "cell_type": "code",
   "execution_count": null,
   "metadata": {},
   "outputs": [],
   "source": [
    "df.loc[df.order=='descending', 'value']*= -1"
   ]
  },
  {
   "cell_type": "code",
   "execution_count": null,
   "metadata": {},
   "outputs": [],
   "source": [
    "df.head()"
   ]
  },
  {
   "cell_type": "code",
   "execution_count": null,
   "metadata": {},
   "outputs": [],
   "source": [
    "df.sort_values('value').groupby(['thing', 'order']).cumcount()"
   ]
  },
  {
   "cell_type": "code",
   "execution_count": null,
   "metadata": {},
   "outputs": [],
   "source": []
  }
 ],
 "metadata": {
  "kernelspec": {
   "display_name": "Python 3",
   "language": "python",
   "name": "python3"
  },
  "language_info": {
   "codemirror_mode": {
    "name": "ipython",
    "version": 3
   },
   "file_extension": ".py",
   "mimetype": "text/x-python",
   "name": "python",
   "nbconvert_exporter": "python",
   "pygments_lexer": "ipython3",
   "version": "3.8.6"
  }
 },
 "nbformat": 4,
 "nbformat_minor": 4
}
