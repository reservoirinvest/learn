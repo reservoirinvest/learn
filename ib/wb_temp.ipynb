{
 "cells": [
  {
   "cell_type": "markdown",
   "metadata": {},
   "source": [
    "# Testing `nakeds.py`"
   ]
  },
  {
   "cell_type": "code",
   "execution_count": null,
   "metadata": {},
   "outputs": [],
   "source": [
    "MARKET = 'NSE'"
   ]
  },
  {
   "cell_type": "code",
   "execution_count": 2,
   "metadata": {},
   "outputs": [],
   "source": [
    "import sys\n",
    "import pathlib\n",
    "import numpy as np\n",
    "import pandas as pd\n",
    "import yaml\n",
    "import asyncio\n",
    "\n",
    "from ib_insync import IB, util, Option, MarketOrder, Contract\n",
    "from typing import Callable, Coroutine, Union"
   ]
  },
  {
   "cell_type": "code",
   "execution_count": 3,
   "metadata": {},
   "outputs": [],
   "source": [
    "# Specific to Jupyter. Will be ignored in IDE / command-lines\n",
    "import IPython as ipy\n",
    "if ipy.get_ipython().__class__.__name__ == 'ZMQInteractiveShell':\n",
    "    import nest_asyncio\n",
    "    nest_asyncio.apply()\n",
    "    util.startLoop()\n",
    "    pd.options.display.max_columns = None\n",
    "    pd.options.display.float_format = '{:,.2f}'.format\n",
    "    \n",
    "    THIS_FOLDER = '' # Dummy for jupyter notebook's current folder\n",
    "    BAR_FORMAT = \"{l_bar}{bar:-20}{r_bar}\""
   ]
  },
  {
   "cell_type": "code",
   "execution_count": 4,
   "metadata": {},
   "outputs": [],
   "source": [
    "# Get capability to import programs from `asyncib` folder\n",
    "cwd = pathlib.Path.cwd() # working directory from where python was initiated\n",
    "DATAPATH = cwd.joinpath('data', MARKET.lower()) # path to store data files\n",
    "LOGFILE = cwd.joinpath(THIS_FOLDER, 'data', 'log', 'temp.log') # path to store log files\n",
    "\n",
    "IBPATH = cwd.parent.parent.joinpath('asyncib') # where ib programs are stored\n",
    "\n",
    "# append IBPATH to import programs.\n",
    "if str(IBPATH) not in sys.path:  # Convert it to string!\n",
    "    sys.path.append(str(IBPATH))\n",
    "    \n",
    "IBDATAPATH = IBPATH.joinpath('data', MARKET.lower())"
   ]
  },
  {
   "cell_type": "code",
   "execution_count": 5,
   "metadata": {},
   "outputs": [],
   "source": [
    "# Get the host, port, cid\n",
    "from engine import Vars\n",
    "\n",
    "ibp = Vars(MARKET.upper())  # IB Parameters from var.yml\n",
    "HOST, PORT, CID = ibp.HOST, ibp.PORT, ibp.CID"
   ]
  },
  {
   "cell_type": "code",
   "execution_count": 6,
   "metadata": {},
   "outputs": [
    {
     "data": {
      "text/plain": [
       "array(['df_chains.pkl', 'df_nakeds.pkl', 'df_ohlcs.pkl',\n",
       "       'df_opt_margins.pkl', 'df_opt_prices.pkl', 'df_opts.pkl',\n",
       "       'df_symlots.pkl', 'df_unds.pkl', 'dfrq.pkl', 'qopt_rejects.pkl',\n",
       "       'qopts.pkl'], dtype='<U18')"
      ]
     },
     "execution_count": 6,
     "metadata": {},
     "output_type": "execute_result"
    }
   ],
   "source": [
    "# Get the pickle files\n",
    "from os import listdir\n",
    "fs = listdir(DATAPATH)\n",
    "\n",
    "files = [f for f in fs if f[-4:] == '.pkl']\n",
    "for f in files:\n",
    "    exec(f\"{f.split('.')[0]} = pd.read_pickle(DATAPATH.joinpath(f))\")\n",
    "np.sort(np.array(files))"
   ]
  },
  {
   "cell_type": "markdown",
   "metadata": {},
   "source": [
    "## Sample individual `nakeds`"
   ]
  },
  {
   "cell_type": "code",
   "execution_count": 7,
   "metadata": {},
   "outputs": [],
   "source": [
    "from nakeds import get_nakeds"
   ]
  },
  {
   "cell_type": "markdown",
   "metadata": {},
   "source": [
    "### Get sort by highest volatility"
   ]
  },
  {
   "cell_type": "code",
   "execution_count": 8,
   "metadata": {},
   "outputs": [
    {
     "data": {
      "text/html": [
       "<div>\n",
       "<style scoped>\n",
       "    .dataframe tbody tr th:only-of-type {\n",
       "        vertical-align: middle;\n",
       "    }\n",
       "\n",
       "    .dataframe tbody tr th {\n",
       "        vertical-align: top;\n",
       "    }\n",
       "\n",
       "    .dataframe thead th {\n",
       "        text-align: right;\n",
       "    }\n",
       "</style>\n",
       "<table border=\"1\" class=\"dataframe\">\n",
       "  <thead>\n",
       "    <tr style=\"text-align: right;\">\n",
       "      <th></th>\n",
       "      <th>symbol</th>\n",
       "      <th>undPrice</th>\n",
       "      <th>iv</th>\n",
       "      <th>margin</th>\n",
       "      <th>putOpenInterest</th>\n",
       "      <th>callOpenInterest</th>\n",
       "    </tr>\n",
       "  </thead>\n",
       "  <tbody>\n",
       "    <tr>\n",
       "      <th>11</th>\n",
       "      <td>IDEA</td>\n",
       "      <td>9.95</td>\n",
       "      <td>0.92</td>\n",
       "      <td>680,801.83</td>\n",
       "      <td>1154</td>\n",
       "      <td>2204</td>\n",
       "    </tr>\n",
       "    <tr>\n",
       "      <th>137</th>\n",
       "      <td>IBULHSGFI</td>\n",
       "      <td>193.30</td>\n",
       "      <td>0.81</td>\n",
       "      <td>601,300.81</td>\n",
       "      <td>1277</td>\n",
       "      <td>2916</td>\n",
       "    </tr>\n",
       "    <tr>\n",
       "      <th>16</th>\n",
       "      <td>RBLBANK</td>\n",
       "      <td>231.80</td>\n",
       "      <td>0.62</td>\n",
       "      <td>616,980.01</td>\n",
       "      <td>1894</td>\n",
       "      <td>2107</td>\n",
       "    </tr>\n",
       "    <tr>\n",
       "      <th>31</th>\n",
       "      <td>INDUSINDB</td>\n",
       "      <td>896.25</td>\n",
       "      <td>0.59</td>\n",
       "      <td>733,600.00</td>\n",
       "      <td>5746</td>\n",
       "      <td>6113</td>\n",
       "    </tr>\n",
       "    <tr>\n",
       "      <th>36</th>\n",
       "      <td>INFRATEL</td>\n",
       "      <td>239.55</td>\n",
       "      <td>0.57</td>\n",
       "      <td>662,446.39</td>\n",
       "      <td>1269</td>\n",
       "      <td>1942</td>\n",
       "    </tr>\n",
       "    <tr>\n",
       "      <th>...</th>\n",
       "      <td>...</td>\n",
       "      <td>...</td>\n",
       "      <td>...</td>\n",
       "      <td>...</td>\n",
       "      <td>...</td>\n",
       "      <td>...</td>\n",
       "    </tr>\n",
       "    <tr>\n",
       "      <th>129</th>\n",
       "      <td>MARICO</td>\n",
       "      <td>389.65</td>\n",
       "      <td>0.27</td>\n",
       "      <td>788,935.97</td>\n",
       "      <td>357</td>\n",
       "      <td>1255</td>\n",
       "    </tr>\n",
       "    <tr>\n",
       "      <th>55</th>\n",
       "      <td>TCS</td>\n",
       "      <td>2,709.45</td>\n",
       "      <td>0.27</td>\n",
       "      <td>817,184.99</td>\n",
       "      <td>6972</td>\n",
       "      <td>10967</td>\n",
       "    </tr>\n",
       "    <tr>\n",
       "      <th>24</th>\n",
       "      <td>DABUR</td>\n",
       "      <td>501.50</td>\n",
       "      <td>0.26</td>\n",
       "      <td>627,788.73</td>\n",
       "      <td>1938</td>\n",
       "      <td>3045</td>\n",
       "    </tr>\n",
       "    <tr>\n",
       "      <th>133</th>\n",
       "      <td>HINDUNILV</td>\n",
       "      <td>2,127.75</td>\n",
       "      <td>0.25</td>\n",
       "      <td>656,640.01</td>\n",
       "      <td>4250</td>\n",
       "      <td>6888</td>\n",
       "    </tr>\n",
       "    <tr>\n",
       "      <th>45</th>\n",
       "      <td>NIFTY50</td>\n",
       "      <td>13,133.90</td>\n",
       "      <td>0.22</td>\n",
       "      <td>nan</td>\n",
       "      <td>1050974</td>\n",
       "      <td>669701</td>\n",
       "    </tr>\n",
       "  </tbody>\n",
       "</table>\n",
       "<p>139 rows × 6 columns</p>\n",
       "</div>"
      ],
      "text/plain": [
       "        symbol  undPrice   iv     margin  putOpenInterest  callOpenInterest\n",
       "11        IDEA      9.95 0.92 680,801.83             1154              2204\n",
       "137  IBULHSGFI    193.30 0.81 601,300.81             1277              2916\n",
       "16     RBLBANK    231.80 0.62 616,980.01             1894              2107\n",
       "31   INDUSINDB    896.25 0.59 733,600.00             5746              6113\n",
       "36    INFRATEL    239.55 0.57 662,446.39             1269              1942\n",
       "..         ...       ...  ...        ...              ...               ...\n",
       "129     MARICO    389.65 0.27 788,935.97              357              1255\n",
       "55         TCS  2,709.45 0.27 817,184.99             6972             10967\n",
       "24       DABUR    501.50 0.26 627,788.73             1938              3045\n",
       "133  HINDUNILV  2,127.75 0.25 656,640.01             4250              6888\n",
       "45     NIFTY50 13,133.90 0.22        nan          1050974            669701\n",
       "\n",
       "[139 rows x 6 columns]"
      ]
     },
     "execution_count": 8,
     "metadata": {},
     "output_type": "execute_result"
    }
   ],
   "source": [
    "cols = ['symbol', 'undPrice', 'iv', 'margin', 'putOpenInterest', 'callOpenInterest']\n",
    "df_unds.sort_values('iv', ascending=False)[cols]"
   ]
  },
  {
   "cell_type": "markdown",
   "metadata": {},
   "source": [
    "### Pick up a symbol"
   ]
  },
  {
   "cell_type": "code",
   "execution_count": 30,
   "metadata": {},
   "outputs": [],
   "source": [
    "SYMBOL = 'NIFTY50'\n",
    "drop_cols = ['conId', 'contract', 'secType', 'comm', 'close', 'last', 'und_iv']"
   ]
  },
  {
   "cell_type": "code",
   "execution_count": 31,
   "metadata": {},
   "outputs": [
    {
     "name": "stdout",
     "output_type": "stream",
     "text": [
      "\n",
      "nakeds started at 07-Dec-2020 17:53:35\n"
     ]
    },
    {
     "name": "stderr",
     "output_type": "stream",
     "text": [
      "und:        0%|                         | 0/1 [00:00<?, ?it/s]                  "
     ]
    },
    {
     "name": "stdout",
     "output_type": "stream",
     "text": [
      "\n",
      "nse underlyings started at 07-Dec-2020 17:53:35\n"
     ]
    },
    {
     "name": "stderr",
     "output_type": "stream",
     "text": [
      "                                                                                \r"
     ]
    },
    {
     "name": "stdout",
     "output_type": "stream",
     "text": [
      "\n",
      "Error: wif could not complete for contract: NIFTY50\n",
      "Try by increasing FILL_DELAY from > 5.5 secs\n",
      "\n",
      "\n",
      "...nse underlyings took: 00:00:10 seconds\n",
      "\n",
      "\n",
      "dfrqs started at 07-Dec-2020 17:53:46\n",
      "\n",
      "...dfrqs took: 00:00:00 seconds\n",
      "\n"
     ]
    },
    {
     "name": "stderr",
     "output_type": "stream",
     "text": [
      "price:      0%|                         | 0/186 [00:00<?, ?it/s]                "
     ]
    },
    {
     "name": "stdout",
     "output_type": "stream",
     "text": [
      "\n",
      "NSE nakeds option price started at 07-Dec-2020 17:53:47\n"
     ]
    },
    {
     "name": "stderr",
     "output_type": "stream",
     "text": [
      "margin:     0%|                         | 0/186 [00:00<?, ?it/s]                "
     ]
    },
    {
     "name": "stdout",
     "output_type": "stream",
     "text": [
      "\n",
      "...NSE nakeds option price took: 00:00:28 seconds\n",
      "\n",
      "\n",
      "NSE naked option margins started at 07-Dec-2020 17:54:16\n"
     ]
    },
    {
     "name": "stderr",
     "output_type": "stream",
     "text": [
      "                                                                                "
     ]
    },
    {
     "name": "stdout",
     "output_type": "stream",
     "text": [
      "\n",
      "...NSE naked option margins took: 00:00:06 seconds\n",
      "\n",
      "\n",
      "...nakeds took: 00:00:47 seconds\n",
      "\n"
     ]
    },
    {
     "name": "stderr",
     "output_type": "stream",
     "text": [
      "\r"
     ]
    }
   ],
   "source": [
    "df = get_nakeds(MARKET=MARKET,\n",
    "                SYMBOL=SYMBOL,\n",
    "                EARLIEST=True,\n",
    "                RECALC_UNDS=True,\n",
    "                SAVE=False\n",
    "                )"
   ]
  },
  {
   "cell_type": "code",
   "execution_count": 32,
   "metadata": {},
   "outputs": [
    {
     "data": {
      "text/html": [
       "<div>\n",
       "<style scoped>\n",
       "    .dataframe tbody tr th:only-of-type {\n",
       "        vertical-align: middle;\n",
       "    }\n",
       "\n",
       "    .dataframe tbody tr th {\n",
       "        vertical-align: top;\n",
       "    }\n",
       "\n",
       "    .dataframe thead th {\n",
       "        text-align: right;\n",
       "    }\n",
       "</style>\n",
       "<table border=\"1\" class=\"dataframe\">\n",
       "  <thead>\n",
       "    <tr style=\"text-align: right;\">\n",
       "      <th></th>\n",
       "      <th>symbol</th>\n",
       "      <th>expiry</th>\n",
       "      <th>dte</th>\n",
       "      <th>right</th>\n",
       "      <th>strike</th>\n",
       "      <th>sd_lmt</th>\n",
       "      <th>fallrise</th>\n",
       "      <th>fr_sd</th>\n",
       "      <th>undPrice</th>\n",
       "      <th>lot</th>\n",
       "      <th>iv</th>\n",
       "      <th>qty</th>\n",
       "      <th>margin</th>\n",
       "      <th>bid</th>\n",
       "      <th>ask</th>\n",
       "      <th>sdMult</th>\n",
       "      <th>prop</th>\n",
       "      <th>intrinsic</th>\n",
       "      <th>timevalue</th>\n",
       "      <th>price</th>\n",
       "      <th>expPrice</th>\n",
       "      <th>rom</th>\n",
       "      <th>expRom</th>\n",
       "    </tr>\n",
       "  </thead>\n",
       "  <tbody>\n",
       "    <tr>\n",
       "      <th>9</th>\n",
       "      <td>NIFTY50</td>\n",
       "      <td>20201210</td>\n",
       "      <td>3</td>\n",
       "      <td>P</td>\n",
       "      <td>13,050.00</td>\n",
       "      <td>13,098.43</td>\n",
       "      <td>12,030.65</td>\n",
       "      <td>6.47</td>\n",
       "      <td>13,354.20</td>\n",
       "      <td>75.00</td>\n",
       "      <td>0.20</td>\n",
       "      <td>75.00</td>\n",
       "      <td>183,590.56</td>\n",
       "      <td>15.15</td>\n",
       "      <td>15.20</td>\n",
       "      <td>1.24</td>\n",
       "      <td>0.79</td>\n",
       "      <td>0.00</td>\n",
       "      <td>15.15</td>\n",
       "      <td>15.15</td>\n",
       "      <td>15.15</td>\n",
       "      <td>0.74</td>\n",
       "      <td>0.74</td>\n",
       "    </tr>\n",
       "    <tr>\n",
       "      <th>10</th>\n",
       "      <td>NIFTY50</td>\n",
       "      <td>20201210</td>\n",
       "      <td>3</td>\n",
       "      <td>P</td>\n",
       "      <td>13,000.00</td>\n",
       "      <td>13,098.43</td>\n",
       "      <td>12,030.65</td>\n",
       "      <td>6.47</td>\n",
       "      <td>13,354.20</td>\n",
       "      <td>75.00</td>\n",
       "      <td>0.21</td>\n",
       "      <td>75.00</td>\n",
       "      <td>180,221.12</td>\n",
       "      <td>11.85</td>\n",
       "      <td>11.95</td>\n",
       "      <td>1.38</td>\n",
       "      <td>0.83</td>\n",
       "      <td>0.00</td>\n",
       "      <td>11.90</td>\n",
       "      <td>11.90</td>\n",
       "      <td>14.15</td>\n",
       "      <td>0.59</td>\n",
       "      <td>0.70</td>\n",
       "    </tr>\n",
       "    <tr>\n",
       "      <th>12</th>\n",
       "      <td>NIFTY50</td>\n",
       "      <td>20201210</td>\n",
       "      <td>3</td>\n",
       "      <td>P</td>\n",
       "      <td>12,950.00</td>\n",
       "      <td>13,098.43</td>\n",
       "      <td>12,030.65</td>\n",
       "      <td>6.47</td>\n",
       "      <td>13,354.20</td>\n",
       "      <td>75.00</td>\n",
       "      <td>0.22</td>\n",
       "      <td>75.00</td>\n",
       "      <td>176,753.10</td>\n",
       "      <td>9.20</td>\n",
       "      <td>9.30</td>\n",
       "      <td>1.51</td>\n",
       "      <td>0.87</td>\n",
       "      <td>0.00</td>\n",
       "      <td>9.25</td>\n",
       "      <td>9.25</td>\n",
       "      <td>13.95</td>\n",
       "      <td>0.46</td>\n",
       "      <td>0.70</td>\n",
       "    </tr>\n",
       "    <tr>\n",
       "      <th>13</th>\n",
       "      <td>NIFTY50</td>\n",
       "      <td>20201210</td>\n",
       "      <td>3</td>\n",
       "      <td>P</td>\n",
       "      <td>12,900.00</td>\n",
       "      <td>13,098.43</td>\n",
       "      <td>12,030.65</td>\n",
       "      <td>6.47</td>\n",
       "      <td>13,354.20</td>\n",
       "      <td>75.00</td>\n",
       "      <td>0.23</td>\n",
       "      <td>75.00</td>\n",
       "      <td>173,179.77</td>\n",
       "      <td>7.60</td>\n",
       "      <td>7.65</td>\n",
       "      <td>1.62</td>\n",
       "      <td>0.89</td>\n",
       "      <td>0.00</td>\n",
       "      <td>7.60</td>\n",
       "      <td>7.60</td>\n",
       "      <td>13.75</td>\n",
       "      <td>0.39</td>\n",
       "      <td>0.70</td>\n",
       "    </tr>\n",
       "    <tr>\n",
       "      <th>14</th>\n",
       "      <td>NIFTY50</td>\n",
       "      <td>20201210</td>\n",
       "      <td>3</td>\n",
       "      <td>P</td>\n",
       "      <td>12,850.00</td>\n",
       "      <td>13,098.43</td>\n",
       "      <td>12,030.65</td>\n",
       "      <td>6.47</td>\n",
       "      <td>13,354.20</td>\n",
       "      <td>75.00</td>\n",
       "      <td>0.24</td>\n",
       "      <td>75.00</td>\n",
       "      <td>169,560.34</td>\n",
       "      <td>6.20</td>\n",
       "      <td>6.30</td>\n",
       "      <td>1.72</td>\n",
       "      <td>0.91</td>\n",
       "      <td>0.00</td>\n",
       "      <td>6.25</td>\n",
       "      <td>6.25</td>\n",
       "      <td>13.60</td>\n",
       "      <td>0.32</td>\n",
       "      <td>0.70</td>\n",
       "    </tr>\n",
       "  </tbody>\n",
       "</table>\n",
       "</div>"
      ],
      "text/plain": [
       "     symbol    expiry  dte right    strike    sd_lmt  fallrise  fr_sd  \\\n",
       "9   NIFTY50  20201210    3     P 13,050.00 13,098.43 12,030.65   6.47   \n",
       "10  NIFTY50  20201210    3     P 13,000.00 13,098.43 12,030.65   6.47   \n",
       "12  NIFTY50  20201210    3     P 12,950.00 13,098.43 12,030.65   6.47   \n",
       "13  NIFTY50  20201210    3     P 12,900.00 13,098.43 12,030.65   6.47   \n",
       "14  NIFTY50  20201210    3     P 12,850.00 13,098.43 12,030.65   6.47   \n",
       "\n",
       "    undPrice   lot   iv   qty     margin   bid   ask  sdMult  prop  intrinsic  \\\n",
       "9  13,354.20 75.00 0.20 75.00 183,590.56 15.15 15.20    1.24  0.79       0.00   \n",
       "10 13,354.20 75.00 0.21 75.00 180,221.12 11.85 11.95    1.38  0.83       0.00   \n",
       "12 13,354.20 75.00 0.22 75.00 176,753.10  9.20  9.30    1.51  0.87       0.00   \n",
       "13 13,354.20 75.00 0.23 75.00 173,179.77  7.60  7.65    1.62  0.89       0.00   \n",
       "14 13,354.20 75.00 0.24 75.00 169,560.34  6.20  6.30    1.72  0.91       0.00   \n",
       "\n",
       "    timevalue  price  expPrice  rom  expRom  \n",
       "9       15.15  15.15     15.15 0.74    0.74  \n",
       "10      11.90  11.90     14.15 0.59    0.70  \n",
       "12       9.25   9.25     13.95 0.46    0.70  \n",
       "13       7.60   7.60     13.75 0.39    0.70  \n",
       "14       6.25   6.25     13.60 0.32    0.70  "
      ]
     },
     "execution_count": 32,
     "metadata": {},
     "output_type": "execute_result"
    }
   ],
   "source": [
    "df1 = df.drop(drop_cols, 1)\n",
    "\n",
    "m1 = df1.ask>0\n",
    "m2 = df1.sdMult>1.2\n",
    "df1[m1&m2].head()"
   ]
  },
  {
   "cell_type": "code",
   "execution_count": null,
   "metadata": {},
   "outputs": [],
   "source": []
  }
 ],
 "metadata": {
  "kernelspec": {
   "display_name": "Python 3",
   "language": "python",
   "name": "python3"
  },
  "language_info": {
   "codemirror_mode": {
    "name": "ipython",
    "version": 3
   },
   "file_extension": ".py",
   "mimetype": "text/x-python",
   "name": "python",
   "nbconvert_exporter": "python",
   "pygments_lexer": "ipython3",
   "version": "3.8.5"
  }
 },
 "nbformat": 4,
 "nbformat_minor": 4
}
