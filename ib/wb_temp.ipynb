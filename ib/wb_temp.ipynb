{
 "cells": [
  {
   "cell_type": "markdown",
   "metadata": {},
   "source": [
    "# Let us fix margin!!!"
   ]
  },
  {
   "cell_type": "code",
   "execution_count": 1,
   "metadata": {},
   "outputs": [],
   "source": [
    "MARKET = 'SNP'"
   ]
  },
  {
   "cell_type": "code",
   "execution_count": 2,
   "metadata": {},
   "outputs": [],
   "source": [
    "import sys\n",
    "import pathlib\n",
    "import numpy as np\n",
    "import pandas as pd\n",
    "import yaml\n",
    "import asyncio\n",
    "\n",
    "from ib_insync import IB, util, Option, MarketOrder, Contract\n",
    "from typing import Callable, Coroutine, Union"
   ]
  },
  {
   "cell_type": "code",
   "execution_count": 3,
   "metadata": {},
   "outputs": [],
   "source": [
    "# Specific to Jupyter. Will be ignored in IDE / command-lines\n",
    "import IPython as ipy\n",
    "if ipy.get_ipython().__class__.__name__ == 'ZMQInteractiveShell':\n",
    "    import nest_asyncio\n",
    "    nest_asyncio.apply()\n",
    "    util.startLoop()\n",
    "    pd.options.display.max_columns = None\n",
    "    \n",
    "    THIS_FOLDER = '' # Dummy for jupyter notebook's current folder\n",
    "    BAR_FORMAT = \"{l_bar}{bar:-20}{r_bar}\""
   ]
  },
  {
   "cell_type": "code",
   "execution_count": 4,
   "metadata": {},
   "outputs": [],
   "source": [
    "# Get capability to import programs from `asyncib` folder\n",
    "cwd = pathlib.Path.cwd() # working directory from where python was initiated\n",
    "DATAPATH = cwd.joinpath('data', MARKET.lower()) # path to store data files\n",
    "LOGFILE = cwd.joinpath(THIS_FOLDER, 'data', 'log', 'temp.log') # path to store log files\n",
    "\n",
    "IBPATH = cwd.parent.parent.joinpath('asyncib') # where ib programs are stored\n",
    "\n",
    "# append IBPATH to import programs.\n",
    "if str(IBPATH) not in sys.path:  # Convert it to string!\n",
    "    sys.path.append(str(IBPATH))\n",
    "    \n",
    "IBDATAPATH = IBPATH.joinpath('data', MARKET.lower())"
   ]
  },
  {
   "cell_type": "code",
   "execution_count": 5,
   "metadata": {},
   "outputs": [],
   "source": [
    "# Get the host, port, cid\n",
    "from engine import Vars\n",
    "\n",
    "ibp = Vars(MARKET.upper())  # IB Parameters from var.yml\n",
    "HOST, PORT, CID = ibp.HOST, ibp.PORT, ibp.CID"
   ]
  },
  {
   "cell_type": "code",
   "execution_count": 6,
   "metadata": {},
   "outputs": [
    {
     "data": {
      "text/plain": [
       "array(['df_chains.pkl', 'df_covers.pkl', 'df_ohlcs.pkl',\n",
       "       'df_opt_margins.pkl', 'df_opt_prices.pkl', 'df_symlots.pkl',\n",
       "       'df_unds.pkl', 'dfrq.pkl', 'qopt_rejects.pkl', 'qopts.pkl'],\n",
       "      dtype='<U18')"
      ]
     },
     "execution_count": 6,
     "metadata": {},
     "output_type": "execute_result"
    }
   ],
   "source": [
    "# Get the pickle files\n",
    "from os import listdir\n",
    "fs = listdir(DATAPATH)\n",
    "\n",
    "files = [f for f in fs if f[-4:] == '.pkl']\n",
    "for f in files:\n",
    "    exec(f\"{f.split('.')[0]} = pd.read_pickle(DATAPATH.joinpath(f))\")\n",
    "np.sort(np.array(files))"
   ]
  },
  {
   "cell_type": "code",
   "execution_count": 27,
   "metadata": {},
   "outputs": [],
   "source": [
    "# * IMPORTS\n",
    "from support import quick_pf, get_openorders\n",
    "from engine import qualify, get_margins, executeAsync, save_df, margin\n",
    "from ib_insync import MarketOrder"
   ]
  },
  {
   "cell_type": "code",
   "execution_count": 28,
   "metadata": {},
   "outputs": [
    {
     "name": "stdout",
     "output_type": "stream",
     "text": [
      "Wall time: 1.48 s\n"
     ]
    },
    {
     "data": {
      "text/html": [
       "<div>\n",
       "<style scoped>\n",
       "    .dataframe tbody tr th:only-of-type {\n",
       "        vertical-align: middle;\n",
       "    }\n",
       "\n",
       "    .dataframe tbody tr th {\n",
       "        vertical-align: top;\n",
       "    }\n",
       "\n",
       "    .dataframe thead th {\n",
       "        text-align: right;\n",
       "    }\n",
       "</style>\n",
       "<table border=\"1\" class=\"dataframe\">\n",
       "  <thead>\n",
       "    <tr style=\"text-align: right;\">\n",
       "      <th></th>\n",
       "      <th>conId</th>\n",
       "      <th>symbol</th>\n",
       "      <th>secType</th>\n",
       "      <th>expiry</th>\n",
       "      <th>strike</th>\n",
       "      <th>right</th>\n",
       "      <th>orderId</th>\n",
       "      <th>permId</th>\n",
       "      <th>action</th>\n",
       "      <th>totalQuantity</th>\n",
       "      <th>lmtPrice</th>\n",
       "      <th>status</th>\n",
       "    </tr>\n",
       "  </thead>\n",
       "  <tbody>\n",
       "    <tr>\n",
       "      <th>0</th>\n",
       "      <td>457634514</td>\n",
       "      <td>BAC</td>\n",
       "      <td>OPT</td>\n",
       "      <td>20210108</td>\n",
       "      <td>20.0</td>\n",
       "      <td>P</td>\n",
       "      <td>1376990</td>\n",
       "      <td>716493364</td>\n",
       "      <td>SELL</td>\n",
       "      <td>1.0</td>\n",
       "      <td>13.82</td>\n",
       "      <td>Submitted</td>\n",
       "    </tr>\n",
       "    <tr>\n",
       "      <th>1</th>\n",
       "      <td>455251723</td>\n",
       "      <td>ABC</td>\n",
       "      <td>OPT</td>\n",
       "      <td>20201231</td>\n",
       "      <td>80.0</td>\n",
       "      <td>P</td>\n",
       "      <td>1376991</td>\n",
       "      <td>716493365</td>\n",
       "      <td>SELL</td>\n",
       "      <td>1.0</td>\n",
       "      <td>14.11</td>\n",
       "      <td>Submitted</td>\n",
       "    </tr>\n",
       "    <tr>\n",
       "      <th>2</th>\n",
       "      <td>456051730</td>\n",
       "      <td>AAPL</td>\n",
       "      <td>OPT</td>\n",
       "      <td>20201224</td>\n",
       "      <td>65.0</td>\n",
       "      <td>P</td>\n",
       "      <td>1376992</td>\n",
       "      <td>716493366</td>\n",
       "      <td>SELL</td>\n",
       "      <td>1.0</td>\n",
       "      <td>14.53</td>\n",
       "      <td>Submitted</td>\n",
       "    </tr>\n",
       "    <tr>\n",
       "      <th>3</th>\n",
       "      <td>458036947</td>\n",
       "      <td>AAPL</td>\n",
       "      <td>OPT</td>\n",
       "      <td>20210108</td>\n",
       "      <td>80.0</td>\n",
       "      <td>P</td>\n",
       "      <td>1376996</td>\n",
       "      <td>716493367</td>\n",
       "      <td>SELL</td>\n",
       "      <td>1.0</td>\n",
       "      <td>15.96</td>\n",
       "      <td>Submitted</td>\n",
       "    </tr>\n",
       "    <tr>\n",
       "      <th>4</th>\n",
       "      <td>452872059</td>\n",
       "      <td>GILD</td>\n",
       "      <td>OPT</td>\n",
       "      <td>20201211</td>\n",
       "      <td>50.0</td>\n",
       "      <td>P</td>\n",
       "      <td>1376987</td>\n",
       "      <td>716493360</td>\n",
       "      <td>SELL</td>\n",
       "      <td>1.0</td>\n",
       "      <td>13.46</td>\n",
       "      <td>Submitted</td>\n",
       "    </tr>\n",
       "    <tr>\n",
       "      <th>...</th>\n",
       "      <td>...</td>\n",
       "      <td>...</td>\n",
       "      <td>...</td>\n",
       "      <td>...</td>\n",
       "      <td>...</td>\n",
       "      <td>...</td>\n",
       "      <td>...</td>\n",
       "      <td>...</td>\n",
       "      <td>...</td>\n",
       "      <td>...</td>\n",
       "      <td>...</td>\n",
       "      <td>...</td>\n",
       "    </tr>\n",
       "    <tr>\n",
       "      <th>671</th>\n",
       "      <td>455260362</td>\n",
       "      <td>DIS</td>\n",
       "      <td>OPT</td>\n",
       "      <td>20201231</td>\n",
       "      <td>100.0</td>\n",
       "      <td>P</td>\n",
       "      <td>1376762</td>\n",
       "      <td>716493135</td>\n",
       "      <td>SELL</td>\n",
       "      <td>1.0</td>\n",
       "      <td>1.62</td>\n",
       "      <td>Submitted</td>\n",
       "    </tr>\n",
       "    <tr>\n",
       "      <th>672</th>\n",
       "      <td>455639107</td>\n",
       "      <td>NSC</td>\n",
       "      <td>OPT</td>\n",
       "      <td>20201204</td>\n",
       "      <td>290.0</td>\n",
       "      <td>C</td>\n",
       "      <td>1376754</td>\n",
       "      <td>716493128</td>\n",
       "      <td>SELL</td>\n",
       "      <td>1.0</td>\n",
       "      <td>1.56</td>\n",
       "      <td>Submitted</td>\n",
       "    </tr>\n",
       "    <tr>\n",
       "      <th>673</th>\n",
       "      <td>451519615</td>\n",
       "      <td>KR</td>\n",
       "      <td>OPT</td>\n",
       "      <td>20201204</td>\n",
       "      <td>39.0</td>\n",
       "      <td>C</td>\n",
       "      <td>1376756</td>\n",
       "      <td>716493129</td>\n",
       "      <td>SELL</td>\n",
       "      <td>1.0</td>\n",
       "      <td>1.58</td>\n",
       "      <td>Submitted</td>\n",
       "    </tr>\n",
       "    <tr>\n",
       "      <th>674</th>\n",
       "      <td>458050003</td>\n",
       "      <td>KLAC</td>\n",
       "      <td>OPT</td>\n",
       "      <td>20210108</td>\n",
       "      <td>180.0</td>\n",
       "      <td>P</td>\n",
       "      <td>1376758</td>\n",
       "      <td>716493130</td>\n",
       "      <td>SELL</td>\n",
       "      <td>1.0</td>\n",
       "      <td>2.81</td>\n",
       "      <td>Submitted</td>\n",
       "    </tr>\n",
       "    <tr>\n",
       "      <th>675</th>\n",
       "      <td>453996079</td>\n",
       "      <td>SO</td>\n",
       "      <td>OPT</td>\n",
       "      <td>20201224</td>\n",
       "      <td>50.0</td>\n",
       "      <td>P</td>\n",
       "      <td>1376759</td>\n",
       "      <td>716493131</td>\n",
       "      <td>SELL</td>\n",
       "      <td>1.0</td>\n",
       "      <td>1.61</td>\n",
       "      <td>Submitted</td>\n",
       "    </tr>\n",
       "  </tbody>\n",
       "</table>\n",
       "<p>676 rows × 12 columns</p>\n",
       "</div>"
      ],
      "text/plain": [
       "         conId symbol secType    expiry  strike right  orderId     permId  \\\n",
       "0    457634514    BAC     OPT  20210108    20.0     P  1376990  716493364   \n",
       "1    455251723    ABC     OPT  20201231    80.0     P  1376991  716493365   \n",
       "2    456051730   AAPL     OPT  20201224    65.0     P  1376992  716493366   \n",
       "3    458036947   AAPL     OPT  20210108    80.0     P  1376996  716493367   \n",
       "4    452872059   GILD     OPT  20201211    50.0     P  1376987  716493360   \n",
       "..         ...    ...     ...       ...     ...   ...      ...        ...   \n",
       "671  455260362    DIS     OPT  20201231   100.0     P  1376762  716493135   \n",
       "672  455639107    NSC     OPT  20201204   290.0     C  1376754  716493128   \n",
       "673  451519615     KR     OPT  20201204    39.0     C  1376756  716493129   \n",
       "674  458050003   KLAC     OPT  20210108   180.0     P  1376758  716493130   \n",
       "675  453996079     SO     OPT  20201224    50.0     P  1376759  716493131   \n",
       "\n",
       "    action  totalQuantity  lmtPrice     status  \n",
       "0     SELL            1.0     13.82  Submitted  \n",
       "1     SELL            1.0     14.11  Submitted  \n",
       "2     SELL            1.0     14.53  Submitted  \n",
       "3     SELL            1.0     15.96  Submitted  \n",
       "4     SELL            1.0     13.46  Submitted  \n",
       "..     ...            ...       ...        ...  \n",
       "671   SELL            1.0      1.62  Submitted  \n",
       "672   SELL            1.0      1.56  Submitted  \n",
       "673   SELL            1.0      1.58  Submitted  \n",
       "674   SELL            1.0      2.81  Submitted  \n",
       "675   SELL            1.0      1.61  Submitted  \n",
       "\n",
       "[676 rows x 12 columns]"
      ]
     },
     "execution_count": 28,
     "metadata": {},
     "output_type": "execute_result"
    }
   ],
   "source": [
    "%%time\n",
    "with IB().connect(ibp.HOST, ibp.PORT, ibp.CID) as ib:\n",
    "    df_pf = quick_pf(ib)"
   ]
  },
  {
   "cell_type": "code",
   "execution_count": 9,
   "metadata": {},
   "outputs": [
    {
     "name": "stdout",
     "output_type": "stream",
     "text": [
      "Wall time: 1.52 s\n"
     ]
    }
   ],
   "source": [
    "%%time\n",
    "if not df_pf.empty:\n",
    "    \n",
    "    pf_raw_cts = [Contract(conId=c) for c in df_pf.conId]\n",
    "\n",
    "    with IB().connect(HOST, PORT, CID) as ib:\n",
    "        pf_cts = ib.run(qualify(ib, pf_raw_cts))"
   ]
  },
  {
   "cell_type": "code",
   "execution_count": 10,
   "metadata": {},
   "outputs": [],
   "source": [
    "df = pd.concat([pf_cts, pd.Series([MarketOrder('SELL', 1)]*len(pf_cts), name='order')], axis=1)"
   ]
  },
  {
   "cell_type": "code",
   "execution_count": 11,
   "metadata": {},
   "outputs": [],
   "source": [
    "async def wifAsync(ct, o):\n",
    "    wif = ib.whatIfOrderAsync(ct, o)\n",
    "    await asyncio.sleep(FILL_DELAY)\n",
    "    return wif"
   ]
  },
  {
   "cell_type": "code",
   "execution_count": 12,
   "metadata": {},
   "outputs": [],
   "source": [
    "co = list(zip(df.contract, df.order))[0]\n",
    "c, o = co"
   ]
  },
  {
   "cell_type": "code",
   "execution_count": 24,
   "metadata": {},
   "outputs": [],
   "source": [
    "with IB().connect(HOST, PORT, CID) as ib:\n",
    "    y = ib.whatIfOrder(c, o)\n",
    "#     FILL_DELAY = 2\n",
    "#     wif = ib.run(wifAsync(c, o))"
   ]
  },
  {
   "cell_type": "code",
   "execution_count": 25,
   "metadata": {},
   "outputs": [
    {
     "data": {
      "text/plain": [
       "OrderState(status='PreSubmitted', initMarginBefore='84673.48', maintMarginBefore='77471.27', equityWithLoanBefore='485654.41', initMarginChange='-4.509999999994761', maintMarginChange='-5.960000000006403', equityWithLoanChange='-0.34999999997671694', initMarginAfter='84668.97', maintMarginAfter='77465.31', equityWithLoanAfter='485654.06', commission=1.7976931348623157e+308, minCommission=0.3482494, maxCommission=0.3544494, commissionCurrency='USD', warningText='', completedTime='', completedStatus='')"
      ]
     },
     "execution_count": 25,
     "metadata": {},
     "output_type": "execute_result"
    }
   ],
   "source": [
    "y"
   ]
  },
  {
   "cell_type": "code",
   "execution_count": null,
   "metadata": {},
   "outputs": [],
   "source": []
  },
  {
   "cell_type": "code",
   "execution_count": null,
   "metadata": {},
   "outputs": [],
   "source": [
    "pf_cts[0]"
   ]
  },
  {
   "cell_type": "code",
   "execution_count": null,
   "metadata": {},
   "outputs": [],
   "source": [
    "df_pf = df_pf.assign(contract=pf_cts)\n",
    "df_pf = df_pf.assign(order=\\\n",
    "                     [MarketOrder(\"SELL\", abs(p)) \\\n",
    "                        if p > 0 \\\n",
    "                          else MarketOrder(\"BUY\", abs(p))\\\n",
    "                        for p in df_pf.position])"
   ]
  },
  {
   "cell_type": "code",
   "execution_count": null,
   "metadata": {},
   "outputs": [],
   "source": [
    "cos = [(c, o) for c, o in zip(df_pf.contract, df_pf.order)]"
   ]
  },
  {
   "cell_type": "code",
   "execution_count": null,
   "metadata": {},
   "outputs": [],
   "source": [
    "co = df_pf.contract[0], MarketOrder(action='SELL', totalQuantity=400.0)"
   ]
  },
  {
   "cell_type": "code",
   "execution_count": null,
   "metadata": {},
   "outputs": [],
   "source": [
    "with IB().connect(HOST, PORT, CID) as ib:\n",
    "    y = ib.run(margin(ib, co=co))"
   ]
  },
  {
   "cell_type": "code",
   "execution_count": null,
   "metadata": {},
   "outputs": [],
   "source": [
    "TEMPL_PATH = pathlib.Path.cwd().joinpath(THIS_FOLDER, \"data\", \"template\",\n",
    "                                         \"df_margin.pkl\")\n",
    "df_empty = pd.read_pickle(TEMPL_PATH)\n",
    "df_empty"
   ]
  },
  {
   "cell_type": "code",
   "execution_count": null,
   "metadata": {},
   "outputs": [],
   "source": [
    "with IB().connect(HOST, PORT, CID) as ib:\n",
    "    df = ib.run(\n",
    "        executeAsync(\n",
    "            ib=ib,\n",
    "            algo=margin,\n",
    "            cts=cos[:2],\n",
    "            CONCURRENT=200,\n",
    "            TIMEOUT=5.5,\n",
    "            post_process=save_df,\n",
    "            DATAPATH=DATAPATH,\n",
    "            OP_FILENAME='',\n",
    "            SHOW_TQDM=True,\n",
    "            **{\"FILL_DELAY\": 5.5},\n",
    "        ))"
   ]
  },
  {
   "cell_type": "code",
   "execution_count": null,
   "metadata": {},
   "outputs": [],
   "source": [
    "df_pfm = get_margins(MARKET=MARKET,\n",
    "                     cos=cos)"
   ]
  },
  {
   "cell_type": "code",
   "execution_count": null,
   "metadata": {},
   "outputs": [],
   "source": []
  }
 ],
 "metadata": {
  "kernelspec": {
   "display_name": "Python 3",
   "language": "python",
   "name": "python3"
  },
  "language_info": {
   "codemirror_mode": {
    "name": "ipython",
    "version": 3
   },
   "file_extension": ".py",
   "mimetype": "text/x-python",
   "name": "python",
   "nbconvert_exporter": "python",
   "pygments_lexer": "ipython3",
   "version": "3.8.6"
  }
 },
 "nbformat": 4,
 "nbformat_minor": 4
}
