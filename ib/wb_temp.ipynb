{
 "cells": [
  {
   "cell_type": "markdown",
   "metadata": {},
   "source": [
    "# Integrate **EARLIEST** and **SYMBOL** in nakeds.py to make `lone.py`\n",
    "* One symbol\n",
    "* One dte\n",
    "* All Nakeds fields recalculated"
   ]
  },
  {
   "cell_type": "code",
   "execution_count": 1,
   "metadata": {},
   "outputs": [],
   "source": [
    "MARKET = 'NSE'"
   ]
  },
  {
   "cell_type": "code",
   "execution_count": 2,
   "metadata": {},
   "outputs": [],
   "source": [
    "import sys\n",
    "import pathlib\n",
    "import numpy as np\n",
    "import pandas as pd\n",
    "import yaml\n",
    "import asyncio\n",
    "\n",
    "from ib_insync import IB, util, Option, MarketOrder, Contract\n",
    "from typing import Callable, Coroutine, Union"
   ]
  },
  {
   "cell_type": "code",
   "execution_count": 3,
   "metadata": {},
   "outputs": [],
   "source": [
    "# Specific to Jupyter. Will be ignored in IDE / command-lines\n",
    "import IPython as ipy\n",
    "if ipy.get_ipython().__class__.__name__ == 'ZMQInteractiveShell':\n",
    "    import nest_asyncio\n",
    "    nest_asyncio.apply()\n",
    "    util.startLoop()\n",
    "    pd.options.display.max_columns = None\n",
    "    \n",
    "    THIS_FOLDER = '' # Dummy for jupyter notebook's current folder\n",
    "    BAR_FORMAT = \"{l_bar}{bar:-20}{r_bar}\""
   ]
  },
  {
   "cell_type": "code",
   "execution_count": 4,
   "metadata": {},
   "outputs": [],
   "source": [
    "# Get capability to import programs from `asyncib` folder\n",
    "cwd = pathlib.Path.cwd() # working directory from where python was initiated\n",
    "DATAPATH = cwd.joinpath('data', MARKET.lower()) # path to store data files\n",
    "LOGFILE = cwd.joinpath(THIS_FOLDER, 'data', 'log', 'temp.log') # path to store log files\n",
    "\n",
    "IBPATH = cwd.parent.parent.joinpath('asyncib') # where ib programs are stored\n",
    "\n",
    "# append IBPATH to import programs.\n",
    "if str(IBPATH) not in sys.path:  # Convert it to string!\n",
    "    sys.path.append(str(IBPATH))\n",
    "    \n",
    "IBDATAPATH = IBPATH.joinpath('data', MARKET.lower())"
   ]
  },
  {
   "cell_type": "code",
   "execution_count": 5,
   "metadata": {},
   "outputs": [],
   "source": [
    "# Get the host, port, cid\n",
    "from engine import Vars\n",
    "\n",
    "ibp = Vars(MARKET.upper())  # IB Parameters from var.yml\n",
    "HOST, PORT, CID = ibp.HOST, ibp.PORT, ibp.CID"
   ]
  },
  {
   "cell_type": "code",
   "execution_count": 6,
   "metadata": {},
   "outputs": [
    {
     "data": {
      "text/plain": [
       "array(['df_chains.pkl', 'df_nakeds.pkl', 'df_ohlcs.pkl',\n",
       "       'df_opt_margins.pkl', 'df_opt_prices.pkl', 'df_opts.pkl',\n",
       "       'df_symlots.pkl', 'df_unds.pkl', 'dfrq.pkl', 'qopt_rejects.pkl',\n",
       "       'qopts.pkl'], dtype='<U18')"
      ]
     },
     "execution_count": 6,
     "metadata": {},
     "output_type": "execute_result"
    }
   ],
   "source": [
    "# Get the pickle files\n",
    "from os import listdir\n",
    "fs = listdir(DATAPATH)\n",
    "\n",
    "files = [f for f in fs if f[-4:] == '.pkl']\n",
    "for f in files:\n",
    "    exec(f\"{f.split('.')[0]} = pd.read_pickle(DATAPATH.joinpath(f))\")\n",
    "np.sort(np.array(files))"
   ]
  },
  {
   "cell_type": "code",
   "execution_count": 7,
   "metadata": {},
   "outputs": [],
   "source": [
    "from nakeds import get_nakeds"
   ]
  },
  {
   "cell_type": "code",
   "execution_count": 18,
   "metadata": {},
   "outputs": [],
   "source": [
    "RECALC_UNDS = True\n",
    "SYMBOL = 'IBULHSGFI'\n",
    "EARLIEST = True"
   ]
  },
  {
   "cell_type": "code",
   "execution_count": 19,
   "metadata": {},
   "outputs": [
    {
     "name": "stdout",
     "output_type": "stream",
     "text": [
      "\n",
      "nakeds started at 07-Dec-2020 00:56:47\n"
     ]
    },
    {
     "name": "stderr",
     "output_type": "stream",
     "text": [
      "und:        0%|                         | 0/1 [00:00<?, ?it/s]                  "
     ]
    },
    {
     "name": "stdout",
     "output_type": "stream",
     "text": [
      "\n",
      "nse underlyings started at 07-Dec-2020 00:56:47\n"
     ]
    },
    {
     "name": "stderr",
     "output_type": "stream",
     "text": [
      "                                                                                \r"
     ]
    },
    {
     "name": "stdout",
     "output_type": "stream",
     "text": [
      "\n",
      "...nse underlyings took: 00:00:13 seconds\n",
      "\n",
      "\n",
      "dfrqs started at 07-Dec-2020 00:57:01\n",
      "\n",
      "...dfrqs took: 00:00:00 seconds\n",
      "\n"
     ]
    },
    {
     "name": "stderr",
     "output_type": "stream",
     "text": [
      "price:      0%|                         | 0/88 [00:00<?, ?it/s]                 "
     ]
    },
    {
     "name": "stdout",
     "output_type": "stream",
     "text": [
      "\n",
      "NSE nakeds option price started at 07-Dec-2020 00:57:01\n"
     ]
    },
    {
     "name": "stderr",
     "output_type": "stream",
     "text": [
      "margin:     0%|                         | 0/88 [00:00<?, ?it/s]                 "
     ]
    },
    {
     "name": "stdout",
     "output_type": "stream",
     "text": [
      "\n",
      "...NSE nakeds option price took: 00:00:17 seconds\n",
      "\n",
      "\n",
      "NSE naked option margins started at 07-Dec-2020 00:57:19\n"
     ]
    },
    {
     "name": "stderr",
     "output_type": "stream",
     "text": [
      "                                                                                "
     ]
    },
    {
     "name": "stdout",
     "output_type": "stream",
     "text": [
      "\n",
      "...NSE naked option margins took: 00:00:06 seconds\n",
      "\n",
      "\n",
      "...nakeds took: 00:00:37 seconds\n",
      "\n"
     ]
    },
    {
     "name": "stderr",
     "output_type": "stream",
     "text": [
      "\r"
     ]
    }
   ],
   "source": [
    "df = get_nakeds(MARKET=MARKET, RECALC_UNDS=RECALC_UNDS, SYMBOL=SYMBOL, EARLIEST = EARLIEST, SAVE = False)"
   ]
  },
  {
   "cell_type": "code",
   "execution_count": 20,
   "metadata": {},
   "outputs": [
    {
     "data": {
      "text/html": [
       "<div>\n",
       "<style scoped>\n",
       "    .dataframe tbody tr th:only-of-type {\n",
       "        vertical-align: middle;\n",
       "    }\n",
       "\n",
       "    .dataframe tbody tr th {\n",
       "        vertical-align: top;\n",
       "    }\n",
       "\n",
       "    .dataframe thead th {\n",
       "        text-align: right;\n",
       "    }\n",
       "</style>\n",
       "<table border=\"1\" class=\"dataframe\">\n",
       "  <thead>\n",
       "    <tr style=\"text-align: right;\">\n",
       "      <th></th>\n",
       "      <th>symbol</th>\n",
       "      <th>expiry</th>\n",
       "      <th>strike</th>\n",
       "      <th>dte</th>\n",
       "      <th>right</th>\n",
       "      <th>und_iv</th>\n",
       "      <th>undPrice</th>\n",
       "      <th>lot</th>\n",
       "      <th>iv</th>\n",
       "      <th>qty</th>\n",
       "      <th>margin</th>\n",
       "      <th>bid</th>\n",
       "      <th>ask</th>\n",
       "      <th>close</th>\n",
       "      <th>last</th>\n",
       "      <th>sdMult</th>\n",
       "      <th>intrinsic</th>\n",
       "      <th>timevalue</th>\n",
       "      <th>price</th>\n",
       "      <th>expPrice</th>\n",
       "      <th>rom</th>\n",
       "      <th>expRom</th>\n",
       "    </tr>\n",
       "  </thead>\n",
       "  <tbody>\n",
       "    <tr>\n",
       "      <th>2</th>\n",
       "      <td>IBULHSGFI</td>\n",
       "      <td>20201231</td>\n",
       "      <td>260.0</td>\n",
       "      <td>25</td>\n",
       "      <td>C</td>\n",
       "      <td>0.808505</td>\n",
       "      <td>193.3</td>\n",
       "      <td>3100.0</td>\n",
       "      <td>0.808505</td>\n",
       "      <td>3100.0</td>\n",
       "      <td>213370.37</td>\n",
       "      <td>-1.0</td>\n",
       "      <td>-1.0</td>\n",
       "      <td>4.75</td>\n",
       "      <td>NaN</td>\n",
       "      <td>1.630752</td>\n",
       "      <td>0.0</td>\n",
       "      <td>4.75</td>\n",
       "      <td>4.75</td>\n",
       "      <td>4.75</td>\n",
       "      <td>1.006199</td>\n",
       "      <td>1.006199</td>\n",
       "    </tr>\n",
       "    <tr>\n",
       "      <th>4</th>\n",
       "      <td>IBULHSGFI</td>\n",
       "      <td>20201231</td>\n",
       "      <td>265.0</td>\n",
       "      <td>25</td>\n",
       "      <td>C</td>\n",
       "      <td>0.808505</td>\n",
       "      <td>193.3</td>\n",
       "      <td>3100.0</td>\n",
       "      <td>0.808505</td>\n",
       "      <td>3100.0</td>\n",
       "      <td>205155.36</td>\n",
       "      <td>-1.0</td>\n",
       "      <td>-1.0</td>\n",
       "      <td>4.25</td>\n",
       "      <td>NaN</td>\n",
       "      <td>1.752997</td>\n",
       "      <td>0.0</td>\n",
       "      <td>4.25</td>\n",
       "      <td>4.25</td>\n",
       "      <td>4.25</td>\n",
       "      <td>0.936183</td>\n",
       "      <td>0.936183</td>\n",
       "    </tr>\n",
       "    <tr>\n",
       "      <th>5</th>\n",
       "      <td>IBULHSGFI</td>\n",
       "      <td>20201231</td>\n",
       "      <td>150.0</td>\n",
       "      <td>25</td>\n",
       "      <td>P</td>\n",
       "      <td>0.808505</td>\n",
       "      <td>193.3</td>\n",
       "      <td>3100.0</td>\n",
       "      <td>0.808505</td>\n",
       "      <td>3100.0</td>\n",
       "      <td>205758.17</td>\n",
       "      <td>-1.0</td>\n",
       "      <td>-1.0</td>\n",
       "      <td>2.50</td>\n",
       "      <td>NaN</td>\n",
       "      <td>1.058644</td>\n",
       "      <td>0.0</td>\n",
       "      <td>2.50</td>\n",
       "      <td>2.50</td>\n",
       "      <td>3.20</td>\n",
       "      <td>0.548498</td>\n",
       "      <td>0.700000</td>\n",
       "    </tr>\n",
       "    <tr>\n",
       "      <th>6</th>\n",
       "      <td>IBULHSGFI</td>\n",
       "      <td>20201231</td>\n",
       "      <td>145.0</td>\n",
       "      <td>25</td>\n",
       "      <td>P</td>\n",
       "      <td>0.808505</td>\n",
       "      <td>193.3</td>\n",
       "      <td>3100.0</td>\n",
       "      <td>0.808505</td>\n",
       "      <td>3100.0</td>\n",
       "      <td>200294.42</td>\n",
       "      <td>-1.0</td>\n",
       "      <td>-1.0</td>\n",
       "      <td>2.25</td>\n",
       "      <td>NaN</td>\n",
       "      <td>1.180889</td>\n",
       "      <td>0.0</td>\n",
       "      <td>2.25</td>\n",
       "      <td>2.25</td>\n",
       "      <td>3.10</td>\n",
       "      <td>0.506969</td>\n",
       "      <td>0.700000</td>\n",
       "    </tr>\n",
       "    <tr>\n",
       "      <th>9</th>\n",
       "      <td>IBULHSGFI</td>\n",
       "      <td>20201231</td>\n",
       "      <td>140.0</td>\n",
       "      <td>25</td>\n",
       "      <td>P</td>\n",
       "      <td>0.808505</td>\n",
       "      <td>193.3</td>\n",
       "      <td>3100.0</td>\n",
       "      <td>0.808505</td>\n",
       "      <td>3100.0</td>\n",
       "      <td>194598.16</td>\n",
       "      <td>-1.0</td>\n",
       "      <td>-1.0</td>\n",
       "      <td>1.35</td>\n",
       "      <td>NaN</td>\n",
       "      <td>1.303134</td>\n",
       "      <td>0.0</td>\n",
       "      <td>1.35</td>\n",
       "      <td>1.35</td>\n",
       "      <td>3.00</td>\n",
       "      <td>0.312485</td>\n",
       "      <td>0.700000</td>\n",
       "    </tr>\n",
       "  </tbody>\n",
       "</table>\n",
       "</div>"
      ],
      "text/plain": [
       "      symbol    expiry  strike  dte right    und_iv  undPrice     lot  \\\n",
       "2  IBULHSGFI  20201231   260.0   25     C  0.808505     193.3  3100.0   \n",
       "4  IBULHSGFI  20201231   265.0   25     C  0.808505     193.3  3100.0   \n",
       "5  IBULHSGFI  20201231   150.0   25     P  0.808505     193.3  3100.0   \n",
       "6  IBULHSGFI  20201231   145.0   25     P  0.808505     193.3  3100.0   \n",
       "9  IBULHSGFI  20201231   140.0   25     P  0.808505     193.3  3100.0   \n",
       "\n",
       "         iv     qty     margin  bid  ask  close  last    sdMult  intrinsic  \\\n",
       "2  0.808505  3100.0  213370.37 -1.0 -1.0   4.75   NaN  1.630752        0.0   \n",
       "4  0.808505  3100.0  205155.36 -1.0 -1.0   4.25   NaN  1.752997        0.0   \n",
       "5  0.808505  3100.0  205758.17 -1.0 -1.0   2.50   NaN  1.058644        0.0   \n",
       "6  0.808505  3100.0  200294.42 -1.0 -1.0   2.25   NaN  1.180889        0.0   \n",
       "9  0.808505  3100.0  194598.16 -1.0 -1.0   1.35   NaN  1.303134        0.0   \n",
       "\n",
       "   timevalue  price  expPrice       rom    expRom  \n",
       "2       4.75   4.75      4.75  1.006199  1.006199  \n",
       "4       4.25   4.25      4.25  0.936183  0.936183  \n",
       "5       2.50   2.50      3.20  0.548498  0.700000  \n",
       "6       2.25   2.25      3.10  0.506969  0.700000  \n",
       "9       1.35   1.35      3.00  0.312485  0.700000  "
      ]
     },
     "execution_count": 20,
     "metadata": {},
     "output_type": "execute_result"
    }
   ],
   "source": [
    "# Filter for options with timevalue\n",
    "m1 = ((df.right == 'C') & (df.strike > df.undPrice)) | \\\n",
    "    ((df.right == 'P') & (df.strike < df.undPrice))\n",
    "df.drop(['contract', 'comm', 'hi_sd', 'lo_sd', 'secType', 'conId'], 1)[m1]"
   ]
  },
  {
   "cell_type": "markdown",
   "metadata": {},
   "source": [
    "# Volatility"
   ]
  },
  {
   "cell_type": "raw",
   "metadata": {},
   "source": [
    "# Integrate latest price into df_opts\n",
    "get_opts(MARKET=MARKET, OP_FILENAME='df_opts.pkl').head()"
   ]
  },
  {
   "cell_type": "markdown",
   "metadata": {},
   "source": [
    "### Which symbols are the most volatile?"
   ]
  },
  {
   "cell_type": "code",
   "execution_count": 17,
   "metadata": {},
   "outputs": [
    {
     "data": {
      "text/html": [
       "<div>\n",
       "<style scoped>\n",
       "    .dataframe tbody tr th:only-of-type {\n",
       "        vertical-align: middle;\n",
       "    }\n",
       "\n",
       "    .dataframe tbody tr th {\n",
       "        vertical-align: top;\n",
       "    }\n",
       "\n",
       "    .dataframe thead th {\n",
       "        text-align: right;\n",
       "    }\n",
       "</style>\n",
       "<table border=\"1\" class=\"dataframe\">\n",
       "  <thead>\n",
       "    <tr style=\"text-align: right;\">\n",
       "      <th></th>\n",
       "      <th>symbol</th>\n",
       "      <th>undPrice</th>\n",
       "      <th>margin</th>\n",
       "      <th>high52week</th>\n",
       "      <th>low52week</th>\n",
       "      <th>histVolatility</th>\n",
       "      <th>iv</th>\n",
       "    </tr>\n",
       "  </thead>\n",
       "  <tbody>\n",
       "    <tr>\n",
       "      <th>11</th>\n",
       "      <td>IDEA</td>\n",
       "      <td>9.95</td>\n",
       "      <td>680801.83</td>\n",
       "      <td>13.500000</td>\n",
       "      <td>2.700000</td>\n",
       "      <td>0.586931</td>\n",
       "      <td>0.920246</td>\n",
       "    </tr>\n",
       "    <tr>\n",
       "      <th>137</th>\n",
       "      <td>IBULHSGFI</td>\n",
       "      <td>193.30</td>\n",
       "      <td>601300.81</td>\n",
       "      <td>359.750000</td>\n",
       "      <td>81.000000</td>\n",
       "      <td>0.539990</td>\n",
       "      <td>0.808505</td>\n",
       "    </tr>\n",
       "    <tr>\n",
       "      <th>16</th>\n",
       "      <td>RBLBANK</td>\n",
       "      <td>231.80</td>\n",
       "      <td>616980.01</td>\n",
       "      <td>370.899994</td>\n",
       "      <td>101.550003</td>\n",
       "      <td>0.483442</td>\n",
       "      <td>0.623243</td>\n",
       "    </tr>\n",
       "    <tr>\n",
       "      <th>31</th>\n",
       "      <td>INDUSINDB</td>\n",
       "      <td>896.25</td>\n",
       "      <td>733600.00</td>\n",
       "      <td>1585.000000</td>\n",
       "      <td>235.550003</td>\n",
       "      <td>0.537925</td>\n",
       "      <td>0.592186</td>\n",
       "    </tr>\n",
       "    <tr>\n",
       "      <th>36</th>\n",
       "      <td>INFRATEL</td>\n",
       "      <td>239.55</td>\n",
       "      <td>662446.39</td>\n",
       "      <td>256.500000</td>\n",
       "      <td>113.650002</td>\n",
       "      <td>0.652534</td>\n",
       "      <td>0.574355</td>\n",
       "    </tr>\n",
       "    <tr>\n",
       "      <th>...</th>\n",
       "      <td>...</td>\n",
       "      <td>...</td>\n",
       "      <td>...</td>\n",
       "      <td>...</td>\n",
       "      <td>...</td>\n",
       "      <td>...</td>\n",
       "      <td>...</td>\n",
       "    </tr>\n",
       "    <tr>\n",
       "      <th>129</th>\n",
       "      <td>MARICO</td>\n",
       "      <td>389.65</td>\n",
       "      <td>788935.97</td>\n",
       "      <td>398.299988</td>\n",
       "      <td>231.000000</td>\n",
       "      <td>0.309443</td>\n",
       "      <td>0.268416</td>\n",
       "    </tr>\n",
       "    <tr>\n",
       "      <th>55</th>\n",
       "      <td>TCS</td>\n",
       "      <td>2709.45</td>\n",
       "      <td>817184.99</td>\n",
       "      <td>2873.000000</td>\n",
       "      <td>1471.050049</td>\n",
       "      <td>0.301576</td>\n",
       "      <td>0.267614</td>\n",
       "    </tr>\n",
       "    <tr>\n",
       "      <th>24</th>\n",
       "      <td>DABUR</td>\n",
       "      <td>501.50</td>\n",
       "      <td>627788.73</td>\n",
       "      <td>534.200012</td>\n",
       "      <td>382.700012</td>\n",
       "      <td>0.234822</td>\n",
       "      <td>0.257436</td>\n",
       "    </tr>\n",
       "    <tr>\n",
       "      <th>133</th>\n",
       "      <td>HINDUNILV</td>\n",
       "      <td>2127.75</td>\n",
       "      <td>656640.01</td>\n",
       "      <td>2576.800049</td>\n",
       "      <td>1719.800049</td>\n",
       "      <td>0.221435</td>\n",
       "      <td>0.246479</td>\n",
       "    </tr>\n",
       "    <tr>\n",
       "      <th>45</th>\n",
       "      <td>NIFTY50</td>\n",
       "      <td>13133.90</td>\n",
       "      <td>NaN</td>\n",
       "      <td>13280.000000</td>\n",
       "      <td>7511.100098</td>\n",
       "      <td>0.164698</td>\n",
       "      <td>0.219631</td>\n",
       "    </tr>\n",
       "  </tbody>\n",
       "</table>\n",
       "<p>139 rows × 7 columns</p>\n",
       "</div>"
      ],
      "text/plain": [
       "        symbol  undPrice     margin    high52week    low52week  \\\n",
       "11        IDEA      9.95  680801.83     13.500000     2.700000   \n",
       "137  IBULHSGFI    193.30  601300.81    359.750000    81.000000   \n",
       "16     RBLBANK    231.80  616980.01    370.899994   101.550003   \n",
       "31   INDUSINDB    896.25  733600.00   1585.000000   235.550003   \n",
       "36    INFRATEL    239.55  662446.39    256.500000   113.650002   \n",
       "..         ...       ...        ...           ...          ...   \n",
       "129     MARICO    389.65  788935.97    398.299988   231.000000   \n",
       "55         TCS   2709.45  817184.99   2873.000000  1471.050049   \n",
       "24       DABUR    501.50  627788.73    534.200012   382.700012   \n",
       "133  HINDUNILV   2127.75  656640.01   2576.800049  1719.800049   \n",
       "45     NIFTY50  13133.90        NaN  13280.000000  7511.100098   \n",
       "\n",
       "     histVolatility        iv  \n",
       "11         0.586931  0.920246  \n",
       "137        0.539990  0.808505  \n",
       "16         0.483442  0.623243  \n",
       "31         0.537925  0.592186  \n",
       "36         0.652534  0.574355  \n",
       "..              ...       ...  \n",
       "129        0.309443  0.268416  \n",
       "55         0.301576  0.267614  \n",
       "24         0.234822  0.257436  \n",
       "133        0.221435  0.246479  \n",
       "45         0.164698  0.219631  \n",
       "\n",
       "[139 rows x 7 columns]"
      ]
     },
     "execution_count": 17,
     "metadata": {},
     "output_type": "execute_result"
    }
   ],
   "source": [
    "cols1 = ['symbol', 'undPrice', 'margin', 'high52week', 'low52week', 'histVolatility', 'iv']\n",
    "df_unds.sort_values('iv', ascending=False)[cols1]"
   ]
  },
  {
   "cell_type": "markdown",
   "metadata": {},
   "source": [
    "### Pick up a symbol"
   ]
  },
  {
   "cell_type": "code",
   "execution_count": null,
   "metadata": {},
   "outputs": [],
   "source": [
    "symbol = 'RELIANCE'"
   ]
  },
  {
   "cell_type": "code",
   "execution_count": null,
   "metadata": {},
   "outputs": [],
   "source": [
    "cols2 = ['symbol', 'strike', 'undPrice', 'dte', 'right', 'und_iv', 'bid', 'ask', 'close', 'last', 'margin', 'iv', 'intrinsic', 'timevalue', 'prob', 'sdMult', 'price', 'rom']\n",
    "df = df_opts[df_opts.symbol == symbol][cols2]"
   ]
  },
  {
   "cell_type": "code",
   "execution_count": null,
   "metadata": {},
   "outputs": [],
   "source": [
    "m1 = df_opts.symbol == symbol\n",
    "m2 = df_opts.strike == 1800\n",
    "df_opts[m1&m2][cols2]"
   ]
  },
  {
   "cell_type": "code",
   "execution_count": null,
   "metadata": {},
   "outputs": [],
   "source": [
    "und_cols = ['symbol', 'low13week',\t'high13week',\t'low26week',\t'high26week',\t'low52week'\t,'high52week', 'iv', 'undPrice', 'margin']\n",
    "df_unds[df_unds.symbol == symbol][und_cols]"
   ]
  },
  {
   "cell_type": "code",
   "execution_count": null,
   "metadata": {},
   "outputs": [],
   "source": [
    "# removes options without time value\n",
    "m1 = ((df.right == 'C') & (df.strike > df.undPrice)) | \\\n",
    "    ((df.right == 'P') & (df.strike < df.undPrice))\n",
    "\n",
    "# removes out-of-fence (sdMult) options\n",
    "m2 = ((df.right == 'C') & (df.sdMult > ibp.CALLSTDMULT)) | \\\n",
    "    ((df.right == 'P') & (df.sdMult > ibp.PUTSTDMULT))\n",
    "\n",
    "df = df[m1&m2].reset_index(drop=True)"
   ]
  },
  {
   "cell_type": "markdown",
   "metadata": {},
   "source": [
    "### `rom` for the best `sdMult`"
   ]
  },
  {
   "cell_type": "code",
   "execution_count": null,
   "metadata": {},
   "outputs": [],
   "source": [
    "# Sort down sdMult based on dte and right, groupby dte, right\n",
    "s = df.sort_values(['dte', 'right', 'sdMult'], ascending=[True, False, True]).groupby(['symbol', 'dte', 'right']).cumcount()\n",
    "\n",
    "# Filtered and Sorted df\n",
    "df = df.loc[s.index]\n",
    "\n",
    "# Option with the largest rom for the dte and right\n",
    "df_max_rom = df[df.rom == df.groupby(['symbol', 'dte', 'right']).rom.transform(max)]"
   ]
  },
  {
   "cell_type": "code",
   "execution_count": null,
   "metadata": {},
   "outputs": [],
   "source": [
    "df_max_rom.sort_values('rom', ascending=False)"
   ]
  },
  {
   "cell_type": "code",
   "execution_count": null,
   "metadata": {},
   "outputs": [],
   "source": [
    "dfrq.sort_values('symbol').set_index('symbol').remq.to_dict()"
   ]
  },
  {
   "cell_type": "markdown",
   "metadata": {},
   "source": [
    "## For `all` symbols\n",
    "### Let us try this using sort, filter and groupby sequence"
   ]
  },
  {
   "cell_type": "code",
   "execution_count": null,
   "metadata": {},
   "outputs": [],
   "source": [
    "# Read all opts (to reset from single opt above)\n",
    "df = df_opts\n",
    "cols2 = ['symbol', 'strike', 'undPrice', 'dte', 'right', 'und_iv', 'bid', 'ask', 'close', 'last', 'margin', 'iv', 'intrinsic', 'timevalue', 'prob', 'sdMult', 'price', 'rom']\n",
    "\n",
    "\n",
    "# ...remove options without time value\n",
    "m1 = ((df.right == 'C') & (df.strike > df.undPrice)) | \\\n",
    "    ((df.right == 'P') & (df.strike < df.undPrice))\n",
    "\n",
    "# ...remove out-of-fence (sdMult) options\n",
    "m2 = ((df.right == 'C') & (df.sdMult > ibp.CALLSTDMULT)) | \\\n",
    "    ((df.right == 'P') & (df.sdMult > ibp.PUTSTDMULT))\n",
    "\n",
    "df = df[m1&m2].reset_index(drop=True)\n",
    "\n",
    "# Sort down sdMult based on dte and right, groupby dte, right\n",
    "s = df.sort_values(['dte', 'right', 'sdMult'], ascending=[True, False, True]).groupby(['symbol', 'dte', 'right']).cumcount()\n",
    "\n",
    "# Filtered and Sorted df\n",
    "df = df.loc[s.index]\n",
    "\n",
    "# Option with the largest rom for the dte and right\n",
    "df_max_rom = df[df.rom == df.groupby(['symbol', 'dte', 'right']).rom.transform(max)].sort_values('rom', ascending=False)"
   ]
  },
  {
   "cell_type": "code",
   "execution_count": null,
   "metadata": {},
   "outputs": [],
   "source": [
    "len(df)"
   ]
  },
  {
   "cell_type": "code",
   "execution_count": null,
   "metadata": {},
   "outputs": [],
   "source": [
    "df_max_rom[cols2]"
   ]
  },
  {
   "cell_type": "code",
   "execution_count": null,
   "metadata": {},
   "outputs": [],
   "source": []
  },
  {
   "cell_type": "code",
   "execution_count": null,
   "metadata": {},
   "outputs": [],
   "source": [
    "# * SORT\n",
    "df1 = df_opts.sort_values(['symbol', 'dte', 'right', 'sdMult'], \n",
    "                          ascending=[True, True, False, True])\n",
    "\n",
    "# * FILTER\n",
    "# ... filter for options with timevalue\n",
    "f1 = ((df1.right == 'C') & (df1.strike > df1.undPrice)) | \\\n",
    "    ((df1.right == 'P') & (df1.strike < df1.undPrice))\n",
    "\n",
    "# ... filter for sdMult limits\n",
    "f2 = ((df1.right == 'C') & (df1.sdMult > ibp.CALLSTDMULT)) | \\\n",
    "    ((df1.right == 'P') & (df1.sdMult > ibp.PUTSTDMULT))\n",
    "\n",
    "df2 = df1[f1&f2].reset_index(drop=True)\n",
    "\n"
   ]
  },
  {
   "cell_type": "code",
   "execution_count": null,
   "metadata": {},
   "outputs": [],
   "source": []
  },
  {
   "cell_type": "code",
   "execution_count": null,
   "metadata": {},
   "outputs": [],
   "source": [
    "# Filter for options with timevalue\n",
    "m1 = ((df_opts.right == 'C') & (df_opts.strike > df_opts.undPrice)) | \\\n",
    "    ((df_opts.right == 'P') & (df_opts.strike < df_opts.undPrice))\n",
    "\n",
    "# Filter for sdMult limits\n",
    "m2 = ((df_opts.right == 'C') & (df_opts.sdMult > ibp.CALLSTDMULT)) | \\\n",
    "    ((df_opts.right == 'P') & (df_opts.sdMult > ibp.PUTSTDMULT))\n",
    "\n",
    "\n",
    "# groupby symbol\n",
    "df1 = df_opts[m1&m2].sort_values(['dte', 'right', 'sdMult'], ascending=[True, False, True]).groupby('symbol').head(1)"
   ]
  },
  {
   "cell_type": "code",
   "execution_count": null,
   "metadata": {},
   "outputs": [],
   "source": []
  },
  {
   "cell_type": "markdown",
   "metadata": {},
   "source": [
    "### experiments with sort and groupby"
   ]
  },
  {
   "cell_type": "code",
   "execution_count": null,
   "metadata": {},
   "outputs": [],
   "source": [
    "import random\n",
    "import pandas as pd\n",
    "random.seed(999)\n",
    "sz = 50\n",
    "\n",
    "qty = {'one': 1, 'two': 2, 'three': 3}\n",
    "\n",
    "thing = (random.choice(['one', 'two', 'three']) for _ in range(sz))\n",
    "order = (random.choice(['ascending', 'descending']) for _ in range(sz))\n",
    "value = (random.randint(0, 100) for _ in range(sz))\n",
    "\n",
    "df = pd.DataFrame({'thing': thing, 'order': order, 'value': value})"
   ]
  },
  {
   "cell_type": "code",
   "execution_count": null,
   "metadata": {},
   "outputs": [],
   "source": [
    "df.loc[df.order=='descending', 'value']*= -1"
   ]
  },
  {
   "cell_type": "code",
   "execution_count": null,
   "metadata": {},
   "outputs": [],
   "source": [
    "df.head()"
   ]
  },
  {
   "cell_type": "code",
   "execution_count": null,
   "metadata": {},
   "outputs": [],
   "source": [
    "df.sort_values('value').groupby(['thing', 'order']).cumcount()"
   ]
  },
  {
   "cell_type": "code",
   "execution_count": null,
   "metadata": {},
   "outputs": [],
   "source": [
    "SYMBOL = ''\n",
    "EARLIEST = True"
   ]
  },
  {
   "cell_type": "code",
   "execution_count": null,
   "metadata": {},
   "outputs": [],
   "source": [
    "if (SYMBOL != '') | EARLIEST:\n",
    "    print(f'Something is there in {SYMBOL}, or earliest is {EARLIEST}')"
   ]
  },
  {
   "cell_type": "code",
   "execution_count": null,
   "metadata": {},
   "outputs": [],
   "source": [
    "{df_symlots[df_symlots.symbol == 'RELIANCE'].contract.iloc[0]}"
   ]
  },
  {
   "cell_type": "code",
   "execution_count": null,
   "metadata": {},
   "outputs": [],
   "source": []
  }
 ],
 "metadata": {
  "kernelspec": {
   "display_name": "Python 3",
   "language": "python",
   "name": "python3"
  },
  "language_info": {
   "codemirror_mode": {
    "name": "ipython",
    "version": 3
   },
   "file_extension": ".py",
   "mimetype": "text/x-python",
   "name": "python",
   "nbconvert_exporter": "python",
   "pygments_lexer": "ipython3",
   "version": "3.8.5"
  }
 },
 "nbformat": 4,
 "nbformat_minor": 4
}
