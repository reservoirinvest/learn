{
 "cells": [
  {
   "cell_type": "code",
   "execution_count": 1,
   "metadata": {},
   "outputs": [],
   "source": [
    "MARKET = 'SNP'"
   ]
  },
  {
   "cell_type": "code",
   "execution_count": 2,
   "metadata": {},
   "outputs": [],
   "source": [
    "import sys\n",
    "import pathlib\n",
    "import numpy as np\n",
    "import pandas as pd\n",
    "import yaml\n",
    "import asyncio\n",
    "\n",
    "from ib_insync import IB, util, Option, MarketOrder, Contract\n",
    "from typing import Callable, Coroutine, Union"
   ]
  },
  {
   "cell_type": "code",
   "execution_count": 3,
   "metadata": {},
   "outputs": [],
   "source": [
    "# Specific to Jupyter. Will be ignored in IDE / command-lines\n",
    "import IPython as ipy\n",
    "if ipy.get_ipython().__class__.__name__ == 'ZMQInteractiveShell':\n",
    "    import nest_asyncio\n",
    "    nest_asyncio.apply()\n",
    "    util.startLoop()\n",
    "    pd.options.display.max_columns = None\n",
    "    \n",
    "    THIS_FOLDER = '' # Dummy for jupyter notebook's current folder"
   ]
  },
  {
   "cell_type": "code",
   "execution_count": 4,
   "metadata": {},
   "outputs": [],
   "source": [
    "# Get capability to import programs from `asyncib` folder\n",
    "cwd = pathlib.Path.cwd() # working directory from where python was initiated\n",
    "DATAPATH = cwd.joinpath('data', MARKET.lower()) # path to store data files\n",
    "LOGFILE = DATAPATH.joinpath('temp.log') # path to store log files\n",
    "\n",
    "IBPATH = cwd.parent.parent.joinpath('asyncib') # where ib programs are stored\n",
    "\n",
    "# append IBPATH to import programs.\n",
    "if str(IBPATH) not in sys.path:  # Convert it to string!\n",
    "    sys.path.append(str(IBPATH))\n",
    "    \n",
    "IBDATAPATH = IBPATH.joinpath('data', MARKET.lower())"
   ]
  },
  {
   "cell_type": "code",
   "execution_count": 5,
   "metadata": {},
   "outputs": [],
   "source": [
    "# Get the host, port, cid\n",
    "from engine import Vars\n",
    "\n",
    "ibp = Vars(MARKET.upper())  # IB Parameters from var.yml\n",
    "HOST, PORT, CID = ibp.HOST, ibp.PORT, ibp.CID"
   ]
  },
  {
   "cell_type": "code",
   "execution_count": 6,
   "metadata": {},
   "outputs": [
    {
     "data": {
      "text/plain": [
       "array(['df_chains.pkl', 'df_fresh.pkl', 'df_ohlcs.pkl', 'df_symlots.pkl',\n",
       "       'df_und_margins.pkl', 'df_unds.pkl', 'dfrq.pkl', 'qopts.pkl',\n",
       "       'z_new_qopts_temp.pkl'], dtype='<U20')"
      ]
     },
     "execution_count": 6,
     "metadata": {},
     "output_type": "execute_result"
    }
   ],
   "source": [
    "# Get the pickle files\n",
    "from os import listdir\n",
    "fs = listdir(DATAPATH)\n",
    "\n",
    "files = [f for f in fs if f[-4:] == '.pkl']\n",
    "for f in files:\n",
    "    exec(f\"{f.split('.')[0]} = pd.read_pickle(DATAPATH.joinpath(f))\")\n",
    "np.sort(np.array(files))"
   ]
  },
  {
   "cell_type": "markdown",
   "metadata": {},
   "source": [
    "# Making price robust\n",
    "* [ ] Prepare price contracts for stock and options\n",
    "* [ ] Check on one price\n",
    "* [ ] Check on optimium settings for price in executeAsync"
   ]
  },
  {
   "cell_type": "markdown",
   "metadata": {},
   "source": [
    "## 1. One contract price"
   ]
  },
  {
   "cell_type": "code",
   "execution_count": 7,
   "metadata": {},
   "outputs": [],
   "source": [
    "# imports\n",
    "from engine import executeAsync, save_df, pre_process\n",
    "from support import get_dte"
   ]
  },
  {
   "cell_type": "code",
   "execution_count": 8,
   "metadata": {},
   "outputs": [],
   "source": [
    "# build a set of contracts to test\n",
    "df = util.df(qopts.to_list()).iloc[:, 1:6].rename(columns={'lastTradeDateOrContractMonth': 'expiry'})\n",
    "\n",
    "df['contract'] = qopts\n",
    "df['dte'] = df.expiry.apply(get_dte)\n",
    "df = df[df.dte>5].reset_index(drop=True)"
   ]
  },
  {
   "cell_type": "code",
   "execution_count": 30,
   "metadata": {},
   "outputs": [],
   "source": [
    "# set the inputs\n",
    "ct = df.sample(1).contract.iloc[0]\n",
    "\n",
    "cts_small = df.sample(100).contract\n",
    "cts_large =df.sample(250).contract\n",
    "\n",
    "kwargs = {'FILL_DELAY': 7}"
   ]
  },
  {
   "cell_type": "code",
   "execution_count": 10,
   "metadata": {},
   "outputs": [],
   "source": [
    "THIS_FOLDER = ''"
   ]
  },
  {
   "cell_type": "code",
   "execution_count": 11,
   "metadata": {},
   "outputs": [],
   "source": [
    "# .Price\n",
    "async def price(ib: IB, co, **kwargs) -> pd.DataFrame:\n",
    "    \"\"\"Optimal execAsync: CONCURRENT=40 and TIMEOUT=8 gives ~250 contract prices/min\"\"\"\n",
    "    \n",
    "    TEMPL_PATH = pathlib.Path.cwd().joinpath(THIS_FOLDER, \"data\", \"template\", \"df_price.pkl\")\n",
    "    df_empty = pd.read_pickle(TEMPL_PATH)\n",
    "    cols = list(df_empty)\n",
    "\n",
    "    try:\n",
    "        FILL_DELAY = kwargs[\"FILL_DELAY\"]\n",
    "    except KeyError as ke:\n",
    "        print(f\"\\nWarning: No FILL_DELAY supplied!. 5.5 second default is taken\\n\")\n",
    "        FILL_DELAY = 5.5\n",
    "\n",
    "    try:\n",
    "        \n",
    "        if isinstance(co, tuple):\n",
    "            c = co[0]\n",
    "        else:\n",
    "            c = co\n",
    "            \n",
    "        df = util.df([c]).iloc[:, :6]\\\n",
    "                 .rename(columns={\"lastTradeDateOrContractMonth\": \"expiry\"})\n",
    "        \n",
    "    except (TypeError, AttributeError, ValueError) as err:\n",
    "        print(f\"\\nError: contract {co} supplied is incorrect!\"+\\\n",
    "              f\"\\n{err}\"+\\\n",
    "              f\"\\n... and empty df will be returned !!!\")\n",
    "        \n",
    "        df = df_empty\n",
    "        \n",
    "        return df # ! Aborted return with empty df for contract error\n",
    "    \n",
    "    tick = ib.reqMktData(c, genericTickList=\"106\")\n",
    "\n",
    "    await asyncio.sleep(FILL_DELAY)\n",
    "    \n",
    "    df = df.assign(localSymbol = c.localSymbol, contract = c)\n",
    "\n",
    "    try:\n",
    "        dfpr = util.df([tick])\n",
    "        \n",
    "        if dfpr.modelGreeks[0] is None:\n",
    "            iv = dfpr.impliedVolatility\n",
    "        else:\n",
    "            iv = dfpr.modelGreeks[0].impliedVol\n",
    "        \n",
    "        df = df.assign(time = dfpr.time,\n",
    "                       greeks = dfpr.modelGreeks,\n",
    "                       bid = dfpr.bid,\n",
    "                       ask = dfpr.ask,\n",
    "                       close = dfpr['close'],\n",
    "                       last = dfpr['last'],\n",
    "                       price = dfpr[\"last\"].combine_first(dfpr[\"close\"]),\n",
    "                       iv = iv)\n",
    "        \n",
    "    except AttributeError as e:\n",
    "        \n",
    "        print(f\"\\nError in {c.localSymbol}: {e}. df will have no price and iv!\\n\")\n",
    "        \n",
    "        df = df.assign(time = np.nan,\n",
    "                       greeks = np.nan,\n",
    "                       bid = np.nan,\n",
    "                       ask = np.nan,\n",
    "                       close = np.nan,\n",
    "                       last = np.nan,\n",
    "                       price = np.nan,\n",
    "                       iv = np.nan)        \n",
    "        \n",
    "    ib.cancelMktData(c)\n",
    "\n",
    "    return df"
   ]
  },
  {
   "cell_type": "raw",
   "metadata": {},
   "source": [
    "%%time\n",
    "with IB().connect(HOST, PORT, CID) as ib:\n",
    "    dfp = ib.run(price(ib, ct, **kwargs))"
   ]
  },
  {
   "cell_type": "raw",
   "metadata": {},
   "source": [
    "dfp"
   ]
  },
  {
   "cell_type": "markdown",
   "metadata": {},
   "source": [
    "## 2. Handling multiple price contracts"
   ]
  },
  {
   "cell_type": "code",
   "execution_count": 25,
   "metadata": {},
   "outputs": [
    {
     "name": "stdout",
     "output_type": "stream",
     "text": [
      "\n",
      "Done price for ['MXEF1210C1120.0', 'LYB0121P45.0'] 40 out of 100. Pending ['DVA1127C84.5', 'AMZN0416P3280.0']\n",
      "\n",
      "Done price for ['ACN1211P155.0', 'HD0416C135.0'] 80 out of 100. Pending ['BLK1127P692.5', 'AMT0120P150.0']\n",
      "Wall time: 23.3 s\n"
     ]
    }
   ],
   "source": [
    "%%time\n",
    "with IB().connect(HOST, PORT, CID) as ib:\n",
    "    dfps = ib.run(executeAsync(ib=ib,\n",
    "                        algo=price,\n",
    "                        cts=cts_small,\n",
    "                        post_process=save_df,\n",
    "                        CONCURRENT=40,\n",
    "                        TIMEOUT=8,\n",
    "                        OP_FILENAME=\"\",\n",
    "                        **kwargs,\n",
    "                        ))"
   ]
  },
  {
   "cell_type": "code",
   "execution_count": 26,
   "metadata": {},
   "outputs": [
    {
     "data": {
      "text/html": [
       "<div>\n",
       "<style scoped>\n",
       "    .dataframe tbody tr th:only-of-type {\n",
       "        vertical-align: middle;\n",
       "    }\n",
       "\n",
       "    .dataframe tbody tr th {\n",
       "        vertical-align: top;\n",
       "    }\n",
       "\n",
       "    .dataframe thead th {\n",
       "        text-align: right;\n",
       "    }\n",
       "</style>\n",
       "<table border=\"1\" class=\"dataframe\">\n",
       "  <thead>\n",
       "    <tr style=\"text-align: right;\">\n",
       "      <th></th>\n",
       "      <th>secType</th>\n",
       "      <th>conId</th>\n",
       "      <th>symbol</th>\n",
       "      <th>expiry</th>\n",
       "      <th>strike</th>\n",
       "      <th>right</th>\n",
       "      <th>localSymbol</th>\n",
       "      <th>contract</th>\n",
       "      <th>time</th>\n",
       "      <th>greeks</th>\n",
       "      <th>bid</th>\n",
       "      <th>ask</th>\n",
       "      <th>close</th>\n",
       "      <th>last</th>\n",
       "      <th>price</th>\n",
       "      <th>iv</th>\n",
       "    </tr>\n",
       "  </thead>\n",
       "  <tbody>\n",
       "  </tbody>\n",
       "</table>\n",
       "</div>"
      ],
      "text/plain": [
       "Empty DataFrame\n",
       "Columns: [secType, conId, symbol, expiry, strike, right, localSymbol, contract, time, greeks, bid, ask, close, last, price, iv]\n",
       "Index: []"
      ]
     },
     "execution_count": 26,
     "metadata": {},
     "output_type": "execute_result"
    }
   ],
   "source": [
    "dfps[dfps.price.isnull()]"
   ]
  },
  {
   "cell_type": "code",
   "execution_count": 33,
   "metadata": {},
   "outputs": [
    {
     "name": "stdout",
     "output_type": "stream",
     "text": [
      "\n",
      "Done price for [] 0 out of 250. Pending ['CBOE0618P92.5', 'ISRG1218P410.0']\n",
      "\n",
      "Done price for ['GOOG1204C1735.0', 'CSX1224P95.0'] 40 out of 250. Pending ['UPRO0319C59.0', 'NFLX1204P630.0']\n",
      "\n",
      "Done price for ['UPRO0319C59.0'] 41 out of 250. Pending ['NFLX1204P630.0', 'CLX1224C255.0']\n",
      "\n",
      "Done price for ['EOG0121P92.5', 'JNPR1224P28.0'] 80 out of 250. Pending ['CTXS1231C120.0', 'GD0521C160.0']\n",
      "\n",
      "Done price for ['CTXS1231C120.0'] 81 out of 250. Pending ['GD0521C160.0', 'CMG0121C825.0']\n",
      "\n",
      "Done price for ['ABC1218P100.0', 'CMI1218P220.0'] 120 out of 250. Pending ['LYB0115C35.0', 'GOOG1218C1445.0']\n",
      "\n",
      "Done price for [] 120 out of 250. Pending ['LYB0115C35.0', 'GOOG1218C1445.0']\n",
      "\n",
      "Done price for ['CHTR0115P725.0', 'OXY1204P5.0'] 160 out of 250. Pending ['HCA0319P95.0', 'ADBE1204P275.0']\n",
      "\n",
      "Done price for ['HCA0319P95.0'] 161 out of 250. Pending ['ADBE1204P275.0', 'AZO1204P1147.5']\n",
      "\n",
      "Done price for ['COST1211C270.0', 'KMX1127P85.0'] 200 out of 250. Pending ['UAA1211P9.0', 'XEO1204C1440.0']\n",
      "\n",
      "Done price for ['UAA1211P9.0', 'XEO1204C1440.0'] 202 out of 250. Pending ['LMT1231P295.0', 'CTXS0618C140.0']\n",
      "\n",
      "Done price for ['XSP0618C277.0', 'RCL1218P65.0'] 240 out of 250. Pending ['ACN1204C227.5', 'FB0618C150.0']\n",
      "\n",
      "Done price for ['ACN1204C227.5'] 241 out of 250. Pending ['FB0618C150.0', 'XEO0930C1560.0']\n",
      "Wall time: 53.8 s\n"
     ]
    }
   ],
   "source": [
    "%%time\n",
    "with IB().connect(HOST, PORT, CID) as ib:\n",
    "    dfps = ib.run(executeAsync(ib=ib,\n",
    "                        algo=price,\n",
    "                        cts=cts_large,\n",
    "                        post_process=save_df,\n",
    "                        CONCURRENT=40,\n",
    "                        TIMEOUT=8,\n",
    "                        OP_FILENAME=\"\",\n",
    "                        **kwargs,\n",
    "                        ))"
   ]
  },
  {
   "cell_type": "code",
   "execution_count": 34,
   "metadata": {},
   "outputs": [
    {
     "data": {
      "text/html": [
       "<div>\n",
       "<style scoped>\n",
       "    .dataframe tbody tr th:only-of-type {\n",
       "        vertical-align: middle;\n",
       "    }\n",
       "\n",
       "    .dataframe tbody tr th {\n",
       "        vertical-align: top;\n",
       "    }\n",
       "\n",
       "    .dataframe thead th {\n",
       "        text-align: right;\n",
       "    }\n",
       "</style>\n",
       "<table border=\"1\" class=\"dataframe\">\n",
       "  <thead>\n",
       "    <tr style=\"text-align: right;\">\n",
       "      <th></th>\n",
       "      <th>secType</th>\n",
       "      <th>conId</th>\n",
       "      <th>symbol</th>\n",
       "      <th>expiry</th>\n",
       "      <th>strike</th>\n",
       "      <th>right</th>\n",
       "      <th>localSymbol</th>\n",
       "      <th>contract</th>\n",
       "      <th>time</th>\n",
       "      <th>greeks</th>\n",
       "      <th>bid</th>\n",
       "      <th>ask</th>\n",
       "      <th>close</th>\n",
       "      <th>last</th>\n",
       "      <th>price</th>\n",
       "      <th>iv</th>\n",
       "    </tr>\n",
       "  </thead>\n",
       "  <tbody>\n",
       "  </tbody>\n",
       "</table>\n",
       "</div>"
      ],
      "text/plain": [
       "Empty DataFrame\n",
       "Columns: [secType, conId, symbol, expiry, strike, right, localSymbol, contract, time, greeks, bid, ask, close, last, price, iv]\n",
       "Index: []"
      ]
     },
     "execution_count": 34,
     "metadata": {},
     "output_type": "execute_result"
    }
   ],
   "source": [
    "dfps[dfps.price.isnull()]"
   ]
  },
  {
   "cell_type": "code",
   "execution_count": null,
   "metadata": {},
   "outputs": [],
   "source": []
  }
 ],
 "metadata": {
  "kernelspec": {
   "display_name": "Python 3",
   "language": "python",
   "name": "python3"
  },
  "language_info": {
   "codemirror_mode": {
    "name": "ipython",
    "version": 3
   },
   "file_extension": ".py",
   "mimetype": "text/x-python",
   "name": "python",
   "nbconvert_exporter": "python",
   "pygments_lexer": "ipython3",
   "version": "3.8.6"
  }
 },
 "nbformat": 4,
 "nbformat_minor": 4
}
