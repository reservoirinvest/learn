{
 "cells": [
  {
   "cell_type": "markdown",
   "metadata": {},
   "source": [
    "# Refactoring exec_pool as a core engine\n",
    "We are refactoring execution of a contract pool by building a new `async exec_pool` function.\n",
    "\n",
    "`async exec_pool`:\n",
    "1. processes sets of contracts to run specific algos \n",
    "2. with controlled concurrency \n",
    "3. with an option to produce df outputs\n",
    "   - which provides the capability to checkpoint to a pickle file...\n",
    "   - ... thereby `re-start` from near a point of failure\n"
   ]
  },
  {
   "cell_type": "code",
   "execution_count": 1,
   "metadata": {},
   "outputs": [],
   "source": [
    "MARKET = 'SNP'"
   ]
  },
  {
   "cell_type": "code",
   "execution_count": 2,
   "metadata": {},
   "outputs": [],
   "source": [
    "import sys\n",
    "import pathlib\n",
    "import pandas as pd\n",
    "import yaml\n",
    "import asyncio\n",
    "\n",
    "from ib_insync import IB, util, Option, MarketOrder\n",
    "from typing import Callable, Coroutine"
   ]
  },
  {
   "cell_type": "code",
   "execution_count": 3,
   "metadata": {},
   "outputs": [],
   "source": [
    "# Specific to Jupyter. Will be ignored in IDE / command-lines\n",
    "import IPython as ipy\n",
    "if ipy.get_ipython().__class__.__name__ == 'ZMQInteractiveShell':\n",
    "    import nest_asyncio\n",
    "    nest_asyncio.apply()\n",
    "    util.startLoop()\n",
    "    pd.options.display.max_columns = None"
   ]
  },
  {
   "cell_type": "code",
   "execution_count": 8,
   "metadata": {},
   "outputs": [],
   "source": [
    "# Get capability to import programs from `asyncib` folder\n",
    "cwd = pathlib.Path.cwd() # working directory from where python was initiated\n",
    "FSPATH = cwd.joinpath('data') # path to store data files\n",
    "LOGPATH = FSPATH # path to store log files\n",
    "\n",
    "IBPATH = cwd.parent.parent.joinpath('asyncib') # where ib programs are stored\n",
    "\n",
    "# append IBPATH to import programs.\n",
    "if str(IBPATH) not in sys.path:  # Convert it to string!\n",
    "    sys.path.append(str(IBPATH))\n",
    "    \n",
    "IBDATAPATH = IBPATH.joinpath('data', MARKET.lower())"
   ]
  },
  {
   "cell_type": "code",
   "execution_count": 5,
   "metadata": {},
   "outputs": [],
   "source": [
    "# local imports\n",
    "from base import ohlcs, chains, unds, qualify, prices, margins"
   ]
  },
  {
   "cell_type": "code",
   "execution_count": 6,
   "metadata": {},
   "outputs": [],
   "source": [
    "# Get the yaml config for HOST, PORT, CID\n",
    "with open(IBPATH.joinpath('var.yml')) as fi:\n",
    "    data = yaml.safe_load(fi)\n",
    "    \n",
    "HOST = data[\"COMMON\"][\"HOST\"]\n",
    "PORT = data[MARKET.upper()][\"PORT\"]\n",
    "CID = data[\"COMMON\"][\"CID\"]\n",
    "\n",
    "# Set log file\n",
    "util.logToFile(FSPATH.joinpath('./engine.log'), level=30)"
   ]
  },
  {
   "cell_type": "markdown",
   "metadata": {},
   "source": [
    "# The ``async exec_pool`` algo\n",
    "### with concurrency control and post-processing checkpoints"
   ]
  },
  {
   "cell_type": "code",
   "execution_count": 12,
   "metadata": {},
   "outputs": [],
   "source": [
    "async def executeAsync(ib: IB(),\n",
    "                       algo: Callable[..., Coroutine],  # coro name\n",
    "                       cts: list, # list of contracts\n",
    "                       post_process: Callable[[set, pathlib.Path, str], pd.DataFrame]=None, # If checkpoint is needed\n",
    "                       FSPATH: pathlib.Path=None, # Necessary for post_process\n",
    "                       CONCURRENT: int=40, # adjust to prevent overflows\n",
    "                       TIMEOUT: None=None, # if None, no progress messages shown\n",
    "                       OP_FILENAME: str='', # output file name\n",
    "                       **kwargs, # keyword inputs for algo\n",
    "                       ):\n",
    "    \n",
    "    tasks = set()\n",
    "    results = set()\n",
    "    remaining = tuple(cts,)\n",
    "    \n",
    "    # Determine unique names for tasks\n",
    "    try:\n",
    "        remaining[0].symbol\n",
    "        \n",
    "    except AttributeError: # It is a (contract, order) tuple for margin algo!\n",
    "        ct_name=\"c[0].symbol+c[0].lastTradeDateOrContractMonth[-4:]+c[0].right+str(c[0].strike)+'..'\"\n",
    "        \n",
    "    else: # for all algos, except margin algo\n",
    "        ct_name=\"c.symbol+c.lastTradeDateOrContractMonth[-4:]+c.right+str(c.strike)+'..'\"\n",
    "\n",
    "    # Get the results\n",
    "    while len(remaining):\n",
    "    \n",
    "        # Tasks limited by concurrency\n",
    "        if len(remaining) <= CONCURRENT:\n",
    "            tasks.update(asyncio.create_task(algo(ib, c, **kwargs), name=eval(ct_name)) for c in remaining)\n",
    "        else:\n",
    "            tasks.update(asyncio.create_task(algo(ib, c, **kwargs), name=eval(ct_name)) for c in list(remaining)[:CONCURRENT])\n",
    "\n",
    "        # Execute tasks\n",
    "        while len(tasks):\n",
    "\n",
    "            done, tasks = await asyncio.wait(tasks,\n",
    "                                            timeout=TIMEOUT,\n",
    "                                            return_when=asyncio.ALL_COMPLETED)\n",
    "\n",
    "            # Remove dones from remaining\n",
    "            done_names = [d.get_name() for d in done]\n",
    "            remaining = [c for c in remaining if eval(ct_name) not in done_names]\n",
    "            \n",
    "            # Update results and checkpoint\n",
    "            results.update(done)\n",
    "            \n",
    "            # Checkpoint the results\n",
    "            if post_process:\n",
    "                output = post_process(results, FSPATH, OP_FILENAME)\n",
    "            else:\n",
    "                output = results\n",
    "            \n",
    "            if TIMEOUT:\n",
    "                print(f'\\nCompleted {done_names[:2]} {len(results)} out of {len(cts)} .. remaining {[eval(ct_name) for c in remaining][:2]}')\n",
    "    \n",
    "    return output\n",
    "\n",
    "\n",
    "def save_df(results: set, FSPATH: pathlib.Path, file_name: str='') -> pd.DataFrame():\n",
    "\n",
    "    if results:\n",
    "        df = pd.concat([r.result() for r in results if r], ignore_index=True)\n",
    "        if file_name:\n",
    "            df.to_pickle(FSPATH.joinpath(file_name))\n",
    "    else:\n",
    "        df = pd.DataFrame([]) # results are not yet ready!\n",
    "    return df"
   ]
  },
  {
   "cell_type": "markdown",
   "metadata": {},
   "source": [
    "## Testing `async exec_pool` algo"
   ]
  },
  {
   "cell_type": "code",
   "execution_count": null,
   "metadata": {},
   "outputs": [],
   "source": [
    "# Get symlots\n",
    "df_symlots = pd.read_pickle(IBDATAPATH.joinpath('df_symlots.pkl'))\n",
    "\n",
    "und_cts = df_symlots.contract.unique()"
   ]
  },
  {
   "cell_type": "code",
   "execution_count": null,
   "metadata": {},
   "outputs": [],
   "source": [
    "## Uncomment for !!! DATA LIMITING underlying contracts\n",
    "# und_cts = und_cts[:10]"
   ]
  },
  {
   "cell_type": "markdown",
   "metadata": {},
   "source": [
    "#### Get the OHLCs"
   ]
  },
  {
   "cell_type": "code",
   "execution_count": null,
   "metadata": {},
   "outputs": [],
   "source": [
    "%%time\n",
    "with IB().connect(HOST, PORT, CID) as ib:\n",
    "    \n",
    "    # Get the underlyings\n",
    "    df_ohlcs = ib.run(executeAsync(ib=ib, algo=ohlcs, cts=und_cts, \n",
    "                                  CONCURRENT=20, TIMEOUT=10.0, \n",
    "                                  post_process=save_df, FSPATH=FSPATH, OP_FILENAME='',\n",
    "                                  **{'DURATION': 365, 'OHLC_DELAY': 20},\n",
    "                                  ))"
   ]
  },
  {
   "cell_type": "markdown",
   "metadata": {},
   "source": [
    "### Get underlyings"
   ]
  },
  {
   "cell_type": "code",
   "execution_count": null,
   "metadata": {},
   "outputs": [],
   "source": [
    "%%time\n",
    "with IB().connect(HOST, PORT, CID) as ib:\n",
    "    \n",
    "    # Get the underlyings\n",
    "    df_unds = ib.run(executeAsync(ib=ib, algo=unds, cts=und_cts, \n",
    "                                  CONCURRENT=40, TIMEOUT=2.0, \n",
    "                                  post_process=save_df, FSPATH=FSPATH, OP_FILENAME='df_unds.pkl',\n",
    "                                  **{'FILL_DELAY': 8},\n",
    "                                  ))"
   ]
  },
  {
   "cell_type": "markdown",
   "metadata": {},
   "source": [
    "### Make the chains"
   ]
  },
  {
   "cell_type": "code",
   "execution_count": null,
   "metadata": {},
   "outputs": [],
   "source": [
    "%%time\n",
    "# Make the chains\n",
    "with IB().connect(HOST, PORT, CID) as ib:\n",
    "    df_chains = ib.run(executeAsync(ib=ib, algo=chains, cts=und_cts,\n",
    "                                  CONCURRENT=44, TIMEOUT=5,\n",
    "                                  post_process=save_df, FSPATH=FSPATH, OP_FILENAME='df_chains.pkl',\n",
    "                                  ))"
   ]
  },
  {
   "cell_type": "markdown",
   "metadata": {},
   "source": [
    "### Qualify ready-made options"
   ]
  },
  {
   "cell_type": "code",
   "execution_count": null,
   "metadata": {},
   "outputs": [],
   "source": [
    "opts = pd.read_pickle(IBDATAPATH.joinpath('df_qopts.pkl'))\n",
    "opts_cts = [Option(symbol=s, lastTradeDateOrContractMonth=e, \n",
    "                   strike=k, right=r, exchange='SMART', conId='') \n",
    "            for s, e, k, r, cid in zip(opts.symbol, opts.expiry, opts.strike, opts.right, range(1, len(opts)))]\n",
    "len(opts_cts)"
   ]
  },
  {
   "cell_type": "code",
   "execution_count": null,
   "metadata": {},
   "outputs": [],
   "source": [
    "%%time\n",
    "with IB().connect(HOST, PORT, CID) as ib:\n",
    "    df_qopts = ib.run(executeAsync(ib=ib, algo=qualify, cts=opts_cts, \n",
    "                                  CONCURRENT=200, TIMEOUT=2.0,\n",
    "                                  post_process=save_df, FSPATH=FSPATH, OP_FILENAME='',))"
   ]
  },
  {
   "cell_type": "markdown",
   "metadata": {},
   "source": [
    "### Prepare and qualify fresh set of options (MEGA)\n",
    "* Run this code if the ENTIRE set of options available in the market for ALL options"
   ]
  },
  {
   "cell_type": "code",
   "execution_count": null,
   "metadata": {},
   "outputs": [],
   "source": [
    "## Let us pick assemble the contracts to get our qualifications\n",
    "\n",
    "# Build the option contracts\n",
    "\n",
    "puts = [Option(s, e, k, 'P', 'SMART')\n",
    "        for s, e, k\n",
    "        in zip(df_chains.symbol, df_chains.expiry, df_chains.strike)]\n",
    "\n",
    "calls = [Option(s, e, k, 'C', 'SMART')\n",
    "        for s, e, k\n",
    "        in zip(df_chains.symbol, df_chains.expiry, df_chains.strike)]\n",
    "\n",
    "cts = puts + calls\n",
    "\n",
    "df_cts = util.df(cts).iloc[:, :6].\\\n",
    "            rename(columns={'lastTradeDateOrContractMonth': 'expiry'}).\\\n",
    "                assign(contract=cts)\n",
    "                \n",
    "df_cts.conId = None # Replace `conId` as None to track completeness\n",
    "\n",
    "df_cts = df_cts.sample(len(df_cts)) # !!! TO BE DELETED in live run\n",
    "df_cts = df_cts.reset_index(drop=True) # Index used to track progress\n",
    "\n",
    "# *** Done once only in the TEST ***!!!\n",
    "df_cts.to_pickle(FSPATH.joinpath('all_raw_opts.pkl'))\n",
    "\n",
    "df_cts = pd.read_pickle(FSPATH.joinpath('all_raw_opts.pkl'))\n",
    "\n",
    "s = sorted(df_cts.symbol.unique())\n",
    "print(f\"# of symbols: {len(s)}, # of option contracts: {len(df_cts)}, # no of expiries: {len(df_cts.expiry.unique())}\")"
   ]
  },
  {
   "cell_type": "code",
   "execution_count": null,
   "metadata": {},
   "outputs": [],
   "source": [
    "%%time\n",
    "\n",
    "fresh_opts = df_cts.contract.sample(500).to_list() # !!! DATA LIMITER - 500 contracts\n",
    "with IB().connect(HOST, PORT, CID) as ib:\n",
    "    df_qopts = ib.run(executeAsync(ib=ib, algo=qualify, cts=fresh_opts, \n",
    "                                  CONCURRENT=200, TIMEOUT=5.0,\n",
    "                                  post_process=save_df, FSPATH=FSPATH, OP_FILENAME='df_qualopts1.pkl',))"
   ]
  },
  {
   "cell_type": "markdown",
   "metadata": {},
   "source": [
    "### Get the price of qualified options"
   ]
  },
  {
   "cell_type": "code",
   "execution_count": null,
   "metadata": {},
   "outputs": [],
   "source": [
    "%%time\n",
    "df_qopts = pd.read_pickle(FSPATH.joinpath('df_qualopts1.pkl'))\n",
    "\n",
    "with IB().connect(HOST, PORT, CID) as ib:\n",
    "    df_price = ib.run(executeAsync(ib=ib, algo=prices, cts=df_qopts.contract.to_list(), \n",
    "                                  CONCURRENT=200, TIMEOUT=10.0,\n",
    "                                  post_process=save_df, FSPATH=FSPATH, OP_FILENAME='',))"
   ]
  },
  {
   "cell_type": "markdown",
   "metadata": {},
   "source": [
    "### Prepare cos for margins from qualified options"
   ]
  },
  {
   "cell_type": "code",
   "execution_count": 9,
   "metadata": {},
   "outputs": [],
   "source": [
    "df_symlots = pd.read_pickle(IBDATAPATH.joinpath('df_symlots.pkl'))\n",
    "df_raw_opts = pd.read_pickle(IBDATAPATH.joinpath('df_qopts.pkl'))\n",
    "\n",
    "if MARKET == 'NSE':\n",
    "    df_raw_opts['expiryM'] = df_raw_opts.expiry.apply(\n",
    "        lambda d: d[:4] + '-' + d[4:6])\n",
    "    cols1 = ['symbol', 'expiryM']\n",
    "    df_raw_opts = df_raw_opts.set_index(cols1).join(\n",
    "        df_symlots[cols1 + ['lot']].set_index(cols1)).reset_index()\n",
    "    df_raw_opts = df_raw_opts.drop('expiryM', 1)\n",
    "else:\n",
    "    df_raw_opts['lot'] = 100\n",
    "\n",
    "# ... build cos (contract, orders)\n",
    "opts = df_raw_opts.contract.to_list()\n",
    "orders = [MarketOrder('SELL', lot / lot) if MARKET.upper() ==\n",
    "          'SNP' else MarketOrder('SELL', lot) for lot in df_raw_opts.lot]\n",
    "cos = [(c, o) for c, o in zip(opts, orders)]"
   ]
  },
  {
   "cell_type": "code",
   "execution_count": 10,
   "metadata": {},
   "outputs": [],
   "source": [
    "cos = cos[:500] # !!! DATA LIMITER"
   ]
  },
  {
   "cell_type": "markdown",
   "metadata": {},
   "source": [
    "### Get option margins"
   ]
  },
  {
   "cell_type": "code",
   "execution_count": 13,
   "metadata": {},
   "outputs": [
    {
     "name": "stdout",
     "output_type": "stream",
     "text": [
      "\n",
      "Completed [] 0 out of 500 .. remaining ['AIG1127P20.0..', 'XLF1030C30.5..']\n",
      "\n",
      "Completed ['BLK1106P535.0..', 'AZO1030P990.0..'] 200 out of 500 .. remaining ['BLK1106P532.5..', 'AKAM1204C119.0..']\n",
      "\n",
      "Completed ['SWK1120C202.5..', 'BLK1106P527.5..'] 400 out of 500 .. remaining ['STX1204C65.0..', 'FFIV1106P65.0..']\n",
      "\n",
      "Completed ['KLAC1204P115.0..', 'NOC1113P240.0..'] 500 out of 500 .. remaining []\n",
      "Wall time: 21.8 s\n"
     ]
    }
   ],
   "source": [
    "%%time\n",
    "with IB().connect(HOST, PORT, CID) as ib:\n",
    "    df_margins = ib.run(executeAsync(ib=ib, algo=margins, cts=cos, \n",
    "                                  CONCURRENT=200, TIMEOUT=5.0,\n",
    "                                  post_process=save_df, FSPATH=FSPATH, OP_FILENAME='df_margins.pkl',))"
   ]
  },
  {
   "cell_type": "code",
   "execution_count": 15,
   "metadata": {},
   "outputs": [
    {
     "data": {
      "text/html": [
       "<div>\n",
       "<style scoped>\n",
       "    .dataframe tbody tr th:only-of-type {\n",
       "        vertical-align: middle;\n",
       "    }\n",
       "\n",
       "    .dataframe tbody tr th {\n",
       "        vertical-align: top;\n",
       "    }\n",
       "\n",
       "    .dataframe thead th {\n",
       "        text-align: right;\n",
       "    }\n",
       "</style>\n",
       "<table border=\"1\" class=\"dataframe\">\n",
       "  <thead>\n",
       "    <tr style=\"text-align: right;\">\n",
       "      <th></th>\n",
       "      <th>secType</th>\n",
       "      <th>conId</th>\n",
       "      <th>symbol</th>\n",
       "      <th>expiry</th>\n",
       "      <th>strike</th>\n",
       "      <th>right</th>\n",
       "      <th>margin</th>\n",
       "      <th>lot</th>\n",
       "      <th>comm</th>\n",
       "    </tr>\n",
       "  </thead>\n",
       "  <tbody>\n",
       "    <tr>\n",
       "      <th>0</th>\n",
       "      <td>OPT</td>\n",
       "      <td>447050536</td>\n",
       "      <td>BLK</td>\n",
       "      <td>20201106</td>\n",
       "      <td>535.00</td>\n",
       "      <td>P</td>\n",
       "      <td>5,947.38</td>\n",
       "      <td>100</td>\n",
       "      <td>2.19</td>\n",
       "    </tr>\n",
       "    <tr>\n",
       "      <th>1</th>\n",
       "      <td>OPT</td>\n",
       "      <td>444728587</td>\n",
       "      <td>AZO</td>\n",
       "      <td>20201030</td>\n",
       "      <td>990.00</td>\n",
       "      <td>P</td>\n",
       "      <td>9,819.86</td>\n",
       "      <td>100</td>\n",
       "      <td>2.19</td>\n",
       "    </tr>\n",
       "    <tr>\n",
       "      <th>2</th>\n",
       "      <td>OPT</td>\n",
       "      <td>451151328</td>\n",
       "      <td>CAT</td>\n",
       "      <td>20201127</td>\n",
       "      <td>85.00</td>\n",
       "      <td>P</td>\n",
       "      <td>-15.67</td>\n",
       "      <td>100</td>\n",
       "      <td>1.59</td>\n",
       "    </tr>\n",
       "    <tr>\n",
       "      <th>3</th>\n",
       "      <td>OPT</td>\n",
       "      <td>449742764</td>\n",
       "      <td>BLK</td>\n",
       "      <td>20201106</td>\n",
       "      <td>790.00</td>\n",
       "      <td>C</td>\n",
       "      <td>909.33</td>\n",
       "      <td>100</td>\n",
       "      <td>2.19</td>\n",
       "    </tr>\n",
       "    <tr>\n",
       "      <th>4</th>\n",
       "      <td>OPT</td>\n",
       "      <td>444728207</td>\n",
       "      <td>AZO</td>\n",
       "      <td>20201030</td>\n",
       "      <td>1,000.00</td>\n",
       "      <td>P</td>\n",
       "      <td>10,577.91</td>\n",
       "      <td>100</td>\n",
       "      <td>2.19</td>\n",
       "    </tr>\n",
       "    <tr>\n",
       "      <th>...</th>\n",
       "      <td>...</td>\n",
       "      <td>...</td>\n",
       "      <td>...</td>\n",
       "      <td>...</td>\n",
       "      <td>...</td>\n",
       "      <td>...</td>\n",
       "      <td>...</td>\n",
       "      <td>...</td>\n",
       "      <td>...</td>\n",
       "    </tr>\n",
       "    <tr>\n",
       "      <th>495</th>\n",
       "      <td>OPT</td>\n",
       "      <td>451788650</td>\n",
       "      <td>STX</td>\n",
       "      <td>20201204</td>\n",
       "      <td>60.00</td>\n",
       "      <td>C</td>\n",
       "      <td>223.37</td>\n",
       "      <td>100</td>\n",
       "      <td>1.59</td>\n",
       "    </tr>\n",
       "    <tr>\n",
       "      <th>496</th>\n",
       "      <td>OPT</td>\n",
       "      <td>448435625</td>\n",
       "      <td>HD</td>\n",
       "      <td>20201113</td>\n",
       "      <td>220.00</td>\n",
       "      <td>P</td>\n",
       "      <td>1,967.81</td>\n",
       "      <td>100</td>\n",
       "      <td>1.59</td>\n",
       "    </tr>\n",
       "    <tr>\n",
       "      <th>497</th>\n",
       "      <td>OPT</td>\n",
       "      <td>452871518</td>\n",
       "      <td>DPZ</td>\n",
       "      <td>20201127</td>\n",
       "      <td>235.00</td>\n",
       "      <td>P</td>\n",
       "      <td>1,026.47</td>\n",
       "      <td>100</td>\n",
       "      <td>2.19</td>\n",
       "    </tr>\n",
       "    <tr>\n",
       "      <th>498</th>\n",
       "      <td>OPT</td>\n",
       "      <td>447394142</td>\n",
       "      <td>FFIV</td>\n",
       "      <td>20201106</td>\n",
       "      <td>105.00</td>\n",
       "      <td>P</td>\n",
       "      <td>874.34</td>\n",
       "      <td>100</td>\n",
       "      <td>2.19</td>\n",
       "    </tr>\n",
       "    <tr>\n",
       "      <th>499</th>\n",
       "      <td>OPT</td>\n",
       "      <td>446674272</td>\n",
       "      <td>ACN</td>\n",
       "      <td>20201030</td>\n",
       "      <td>120.00</td>\n",
       "      <td>P</td>\n",
       "      <td>315.93</td>\n",
       "      <td>100</td>\n",
       "      <td>2.19</td>\n",
       "    </tr>\n",
       "  </tbody>\n",
       "</table>\n",
       "<p>500 rows × 9 columns</p>\n",
       "</div>"
      ],
      "text/plain": [
       "    secType      conId symbol    expiry   strike right    margin  lot  comm\n",
       "0       OPT  447050536    BLK  20201106   535.00     P  5,947.38  100  2.19\n",
       "1       OPT  444728587    AZO  20201030   990.00     P  9,819.86  100  2.19\n",
       "2       OPT  451151328    CAT  20201127    85.00     P    -15.67  100  1.59\n",
       "3       OPT  449742764    BLK  20201106   790.00     C    909.33  100  2.19\n",
       "4       OPT  444728207    AZO  20201030 1,000.00     P 10,577.91  100  2.19\n",
       "..      ...        ...    ...       ...      ...   ...       ...  ...   ...\n",
       "495     OPT  451788650    STX  20201204    60.00     C    223.37  100  1.59\n",
       "496     OPT  448435625     HD  20201113   220.00     P  1,967.81  100  1.59\n",
       "497     OPT  452871518    DPZ  20201127   235.00     P  1,026.47  100  2.19\n",
       "498     OPT  447394142   FFIV  20201106   105.00     P    874.34  100  2.19\n",
       "499     OPT  446674272    ACN  20201030   120.00     P    315.93  100  2.19\n",
       "\n",
       "[500 rows x 9 columns]"
      ]
     },
     "execution_count": 15,
     "metadata": {},
     "output_type": "execute_result"
    }
   ],
   "source": [
    "df_margins"
   ]
  },
  {
   "cell_type": "markdown",
   "metadata": {},
   "source": [
    "### Get option prices"
   ]
  },
  {
   "cell_type": "code",
   "execution_count": null,
   "metadata": {},
   "outputs": [],
   "source": [
    "%%time\n",
    "with IB().connect(HOST, PORT, CID) as ib:\n",
    "    df_price = ib.run(executeAsync(ib=ib, algo=prices, cts=opts, \n",
    "                                  CONCURRENT=200, TIMEOUT=10.0,\n",
    "                                  post_process=save_df, FSPATH=FSPATH, OP_FILENAME='df_optprices.pkl',))"
   ]
  },
  {
   "cell_type": "markdown",
   "metadata": {},
   "source": [
    "#### Verifying data integrity"
   ]
  },
  {
   "cell_type": "code",
   "execution_count": null,
   "metadata": {},
   "outputs": [],
   "source": [
    "df = df_price[~df_price.price.isnull()]"
   ]
  },
  {
   "cell_type": "code",
   "execution_count": null,
   "metadata": {},
   "outputs": [],
   "source": [
    "df1 = df.set_index('conId').join(df_margins[['conId', 'margin', 'lot', 'comm']].set_index('conId')).reset_index()"
   ]
  }
 ],
 "metadata": {
  "kernelspec": {
   "display_name": "Python 3",
   "language": "python",
   "name": "python3"
  },
  "language_info": {
   "codemirror_mode": {
    "name": "ipython",
    "version": 3
   },
   "file_extension": ".py",
   "mimetype": "text/x-python",
   "name": "python",
   "nbconvert_exporter": "python",
   "pygments_lexer": "ipython3",
   "version": "3.8.6"
  }
 },
 "nbformat": 4,
 "nbformat_minor": 4
}
