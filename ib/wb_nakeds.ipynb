{
 "cells": [
  {
   "cell_type": "code",
   "execution_count": 1,
   "metadata": {},
   "outputs": [],
   "source": [
    "MARKET = 'NSE'"
   ]
  },
  {
   "cell_type": "code",
   "execution_count": 2,
   "metadata": {},
   "outputs": [],
   "source": [
    "import sys\n",
    "import pathlib\n",
    "import numpy as np\n",
    "import pandas as pd\n",
    "import yaml\n",
    "import asyncio\n",
    "\n",
    "from ib_insync import IB, util, Option, MarketOrder, Contract\n",
    "from typing import Callable, Coroutine, Union"
   ]
  },
  {
   "cell_type": "code",
   "execution_count": 3,
   "metadata": {},
   "outputs": [],
   "source": [
    "# Specific to Jupyter. Will be ignored in IDE / command-lines\n",
    "import IPython as ipy\n",
    "if ipy.get_ipython().__class__.__name__ == 'ZMQInteractiveShell':\n",
    "    import nest_asyncio\n",
    "    nest_asyncio.apply()\n",
    "    util.startLoop()\n",
    "    pd.options.display.max_columns = None\n",
    "    \n",
    "    THIS_FOLDER = '' # Dummy for jupyter notebook's current folder\n",
    "    BAR_FORMAT = \"{l_bar}{bar:-20}{r_bar}\""
   ]
  },
  {
   "cell_type": "code",
   "execution_count": 4,
   "metadata": {},
   "outputs": [],
   "source": [
    "# Get capability to import programs from `asyncib` folder\n",
    "cwd = pathlib.Path.cwd() # working directory from where python was initiated\n",
    "DATAPATH = cwd.joinpath('data', MARKET.lower()) # path to store data files\n",
    "LOGFILE = cwd.joinpath(THIS_FOLDER, 'data', 'log', 'temp.log') # path to store log files\n",
    "\n",
    "IBPATH = cwd.parent.parent.joinpath('asyncib') # where ib programs are stored\n",
    "\n",
    "# append IBPATH to import programs.\n",
    "if str(IBPATH) not in sys.path:  # Convert it to string!\n",
    "    sys.path.append(str(IBPATH))\n",
    "    \n",
    "IBDATAPATH = IBPATH.joinpath('data', MARKET.lower())"
   ]
  },
  {
   "cell_type": "code",
   "execution_count": null,
   "metadata": {},
   "outputs": [],
   "source": [
    "# Get the host, port, cid\n",
    "from engine import Vars\n",
    "\n",
    "ibp = Vars(MARKET.upper())  # IB Parameters from var.yml\n",
    "HOST, PORT, CID = ibp.HOST, ibp.PORT, ibp.CID"
   ]
  },
  {
   "cell_type": "code",
   "execution_count": null,
   "metadata": {},
   "outputs": [],
   "source": [
    "# Get the pickle files\n",
    "from os import listdir\n",
    "fs = listdir(DATAPATH)\n",
    "\n",
    "files = [f for f in fs if f[-4:] == '.pkl']\n",
    "for f in files:\n",
    "    exec(f\"{f.split('.')[0]} = pd.read_pickle(DATAPATH.joinpath(f))\")\n",
    "np.sort(np.array(files))"
   ]
  },
  {
   "cell_type": "code",
   "execution_count": 13,
   "metadata": {},
   "outputs": [
    {
     "ename": "ValueError",
     "evalue": "Cannot set a frame with no defined index and a value that cannot be converted to a Series",
     "output_type": "error",
     "traceback": [
      "\u001b[1;31m---------------------------------------------------------------------------\u001b[0m",
      "\u001b[1;31mValueError\u001b[0m                                Traceback (most recent call last)",
      "\u001b[1;32mc:\\users\\user\\appdata\\local\\programs\\python\\python38-32\\lib\\site-packages\\pandas\\core\\frame.py\u001b[0m in \u001b[0;36m_ensure_valid_index\u001b[1;34m(self, value)\u001b[0m\n\u001b[0;32m   3053\u001b[0m             \u001b[1;32mtry\u001b[0m\u001b[1;33m:\u001b[0m\u001b[1;33m\u001b[0m\u001b[1;33m\u001b[0m\u001b[0m\n\u001b[1;32m-> 3054\u001b[1;33m                 \u001b[0mvalue\u001b[0m \u001b[1;33m=\u001b[0m \u001b[0mSeries\u001b[0m\u001b[1;33m(\u001b[0m\u001b[0mvalue\u001b[0m\u001b[1;33m)\u001b[0m\u001b[1;33m\u001b[0m\u001b[1;33m\u001b[0m\u001b[0m\n\u001b[0m\u001b[0;32m   3055\u001b[0m             \u001b[1;32mexcept\u001b[0m \u001b[1;33m(\u001b[0m\u001b[0mValueError\u001b[0m\u001b[1;33m,\u001b[0m \u001b[0mNotImplementedError\u001b[0m\u001b[1;33m,\u001b[0m \u001b[0mTypeError\u001b[0m\u001b[1;33m)\u001b[0m\u001b[1;33m:\u001b[0m\u001b[1;33m\u001b[0m\u001b[1;33m\u001b[0m\u001b[0m\n",
      "\u001b[1;32mc:\\users\\user\\appdata\\local\\programs\\python\\python38-32\\lib\\site-packages\\pandas\\core\\series.py\u001b[0m in \u001b[0;36m__init__\u001b[1;34m(self, data, index, dtype, name, copy, fastpath)\u001b[0m\n\u001b[0;32m    201\u001b[0m \u001b[1;33m\u001b[0m\u001b[0m\n\u001b[1;32m--> 202\u001b[1;33m             \u001b[1;32mif\u001b[0m \u001b[0mis_empty_data\u001b[0m\u001b[1;33m(\u001b[0m\u001b[0mdata\u001b[0m\u001b[1;33m)\u001b[0m \u001b[1;32mand\u001b[0m \u001b[0mdtype\u001b[0m \u001b[1;32mis\u001b[0m \u001b[1;32mNone\u001b[0m\u001b[1;33m:\u001b[0m\u001b[1;33m\u001b[0m\u001b[1;33m\u001b[0m\u001b[0m\n\u001b[0m\u001b[0;32m    203\u001b[0m                 \u001b[1;31m# gh-17261\u001b[0m\u001b[1;33m\u001b[0m\u001b[1;33m\u001b[0m\u001b[1;33m\u001b[0m\u001b[0m\n",
      "\u001b[1;32mc:\\users\\user\\appdata\\local\\programs\\python\\python38-32\\lib\\site-packages\\pandas\\core\\construction.py\u001b[0m in \u001b[0;36mis_empty_data\u001b[1;34m(data)\u001b[0m\n\u001b[0;32m    585\u001b[0m     \u001b[0mis_list_like_without_dtype\u001b[0m \u001b[1;33m=\u001b[0m \u001b[0mis_list_like\u001b[0m\u001b[1;33m(\u001b[0m\u001b[0mdata\u001b[0m\u001b[1;33m)\u001b[0m \u001b[1;32mand\u001b[0m \u001b[1;32mnot\u001b[0m \u001b[0mhasattr\u001b[0m\u001b[1;33m(\u001b[0m\u001b[0mdata\u001b[0m\u001b[1;33m,\u001b[0m \u001b[1;34m\"dtype\"\u001b[0m\u001b[1;33m)\u001b[0m\u001b[1;33m\u001b[0m\u001b[1;33m\u001b[0m\u001b[0m\n\u001b[1;32m--> 586\u001b[1;33m     \u001b[0mis_simple_empty\u001b[0m \u001b[1;33m=\u001b[0m \u001b[0mis_list_like_without_dtype\u001b[0m \u001b[1;32mand\u001b[0m \u001b[1;32mnot\u001b[0m \u001b[0mdata\u001b[0m\u001b[1;33m\u001b[0m\u001b[1;33m\u001b[0m\u001b[0m\n\u001b[0m\u001b[0;32m    587\u001b[0m     \u001b[1;32mreturn\u001b[0m \u001b[0mis_none\u001b[0m \u001b[1;32mor\u001b[0m \u001b[0mis_simple_empty\u001b[0m\u001b[1;33m\u001b[0m\u001b[1;33m\u001b[0m\u001b[0m\n",
      "\u001b[1;32mc:\\users\\user\\appdata\\local\\programs\\python\\python38-32\\lib\\site-packages\\pandas\\core\\generic.py\u001b[0m in \u001b[0;36m__nonzero__\u001b[1;34m(self)\u001b[0m\n\u001b[0;32m   1477\u001b[0m     \u001b[1;32mdef\u001b[0m \u001b[0m__nonzero__\u001b[0m\u001b[1;33m(\u001b[0m\u001b[0mself\u001b[0m\u001b[1;33m)\u001b[0m\u001b[1;33m:\u001b[0m\u001b[1;33m\u001b[0m\u001b[1;33m\u001b[0m\u001b[0m\n\u001b[1;32m-> 1478\u001b[1;33m         raise ValueError(\n\u001b[0m\u001b[0;32m   1479\u001b[0m             \u001b[1;34mf\"The truth value of a {type(self).__name__} is ambiguous. \"\u001b[0m\u001b[1;33m\u001b[0m\u001b[1;33m\u001b[0m\u001b[0m\n",
      "\u001b[1;31mValueError\u001b[0m: The truth value of a DataFrame is ambiguous. Use a.empty, a.bool(), a.item(), a.any() or a.all().",
      "\nDuring handling of the above exception, another exception occurred:\n",
      "\u001b[1;31mValueError\u001b[0m                                Traceback (most recent call last)",
      "\u001b[1;32m<ipython-input-13-18ee382f767b>\u001b[0m in \u001b[0;36m<module>\u001b[1;34m\u001b[0m\n\u001b[0;32m      5\u001b[0m \u001b[1;32mfor\u001b[0m \u001b[0mf\u001b[0m \u001b[1;32min\u001b[0m \u001b[1;33m[\u001b[0m\u001b[1;34m'df_opt_prices.pkl'\u001b[0m\u001b[1;33m,\u001b[0m \u001b[1;34m'z_temp_df_opt_prices.pkl'\u001b[0m\u001b[1;33m]\u001b[0m\u001b[1;33m:\u001b[0m\u001b[1;33m\u001b[0m\u001b[1;33m\u001b[0m\u001b[0m\n\u001b[0;32m      6\u001b[0m     \u001b[1;32mtry\u001b[0m\u001b[1;33m:\u001b[0m\u001b[1;33m\u001b[0m\u001b[1;33m\u001b[0m\u001b[0m\n\u001b[1;32m----> 7\u001b[1;33m         \u001b[0mp\u001b[0m\u001b[1;33m[\u001b[0m\u001b[0mstr\u001b[0m\u001b[1;33m(\u001b[0m\u001b[0mf\u001b[0m\u001b[1;33m)\u001b[0m\u001b[1;33m]\u001b[0m \u001b[1;33m=\u001b[0m \u001b[0mpd\u001b[0m\u001b[1;33m.\u001b[0m\u001b[0mread_pickle\u001b[0m\u001b[1;33m(\u001b[0m\u001b[0mDATAPATH\u001b[0m\u001b[1;33m.\u001b[0m\u001b[0mjoinpath\u001b[0m\u001b[1;33m(\u001b[0m\u001b[0mf\u001b[0m\u001b[1;33m)\u001b[0m\u001b[1;33m)\u001b[0m\u001b[1;33m\u001b[0m\u001b[1;33m\u001b[0m\u001b[0m\n\u001b[0m\u001b[0;32m      8\u001b[0m     \u001b[1;32mexcept\u001b[0m \u001b[0mFileNotFoundError\u001b[0m\u001b[1;33m:\u001b[0m\u001b[1;33m\u001b[0m\u001b[1;33m\u001b[0m\u001b[0m\n\u001b[0;32m      9\u001b[0m         \u001b[0mp\u001b[0m\u001b[1;33m[\u001b[0m\u001b[0mstr\u001b[0m\u001b[1;33m(\u001b[0m\u001b[0mf\u001b[0m\u001b[1;33m)\u001b[0m\u001b[1;33m]\u001b[0m \u001b[1;33m=\u001b[0m \u001b[0mpd\u001b[0m\u001b[1;33m.\u001b[0m\u001b[0mread_pickle\u001b[0m\u001b[1;33m(\u001b[0m\u001b[0mTEMPL_PATH\u001b[0m\u001b[1;33m.\u001b[0m\u001b[0mjoinpath\u001b[0m\u001b[1;33m(\u001b[0m\u001b[1;34m'df_price.pkl'\u001b[0m\u001b[1;33m)\u001b[0m\u001b[1;33m)\u001b[0m\u001b[1;33m\u001b[0m\u001b[1;33m\u001b[0m\u001b[0m\n",
      "\u001b[1;32mc:\\users\\user\\appdata\\local\\programs\\python\\python38-32\\lib\\site-packages\\pandas\\core\\frame.py\u001b[0m in \u001b[0;36m__setitem__\u001b[1;34m(self, key, value)\u001b[0m\n\u001b[0;32m   2936\u001b[0m         \u001b[1;32melse\u001b[0m\u001b[1;33m:\u001b[0m\u001b[1;33m\u001b[0m\u001b[1;33m\u001b[0m\u001b[0m\n\u001b[0;32m   2937\u001b[0m             \u001b[1;31m# set column\u001b[0m\u001b[1;33m\u001b[0m\u001b[1;33m\u001b[0m\u001b[1;33m\u001b[0m\u001b[0m\n\u001b[1;32m-> 2938\u001b[1;33m             \u001b[0mself\u001b[0m\u001b[1;33m.\u001b[0m\u001b[0m_set_item\u001b[0m\u001b[1;33m(\u001b[0m\u001b[0mkey\u001b[0m\u001b[1;33m,\u001b[0m \u001b[0mvalue\u001b[0m\u001b[1;33m)\u001b[0m\u001b[1;33m\u001b[0m\u001b[1;33m\u001b[0m\u001b[0m\n\u001b[0m\u001b[0;32m   2939\u001b[0m \u001b[1;33m\u001b[0m\u001b[0m\n\u001b[0;32m   2940\u001b[0m     \u001b[1;32mdef\u001b[0m \u001b[0m_setitem_slice\u001b[0m\u001b[1;33m(\u001b[0m\u001b[0mself\u001b[0m\u001b[1;33m,\u001b[0m \u001b[0mkey\u001b[0m\u001b[1;33m,\u001b[0m \u001b[0mvalue\u001b[0m\u001b[1;33m)\u001b[0m\u001b[1;33m:\u001b[0m\u001b[1;33m\u001b[0m\u001b[1;33m\u001b[0m\u001b[0m\n",
      "\u001b[1;32mc:\\users\\user\\appdata\\local\\programs\\python\\python38-32\\lib\\site-packages\\pandas\\core\\frame.py\u001b[0m in \u001b[0;36m_set_item\u001b[1;34m(self, key, value)\u001b[0m\n\u001b[0;32m   2997\u001b[0m         \"\"\"\n\u001b[0;32m   2998\u001b[0m \u001b[1;33m\u001b[0m\u001b[0m\n\u001b[1;32m-> 2999\u001b[1;33m         \u001b[0mself\u001b[0m\u001b[1;33m.\u001b[0m\u001b[0m_ensure_valid_index\u001b[0m\u001b[1;33m(\u001b[0m\u001b[0mvalue\u001b[0m\u001b[1;33m)\u001b[0m\u001b[1;33m\u001b[0m\u001b[1;33m\u001b[0m\u001b[0m\n\u001b[0m\u001b[0;32m   3000\u001b[0m         \u001b[0mvalue\u001b[0m \u001b[1;33m=\u001b[0m \u001b[0mself\u001b[0m\u001b[1;33m.\u001b[0m\u001b[0m_sanitize_column\u001b[0m\u001b[1;33m(\u001b[0m\u001b[0mkey\u001b[0m\u001b[1;33m,\u001b[0m \u001b[0mvalue\u001b[0m\u001b[1;33m)\u001b[0m\u001b[1;33m\u001b[0m\u001b[1;33m\u001b[0m\u001b[0m\n\u001b[0;32m   3001\u001b[0m         \u001b[0mNDFrame\u001b[0m\u001b[1;33m.\u001b[0m\u001b[0m_set_item\u001b[0m\u001b[1;33m(\u001b[0m\u001b[0mself\u001b[0m\u001b[1;33m,\u001b[0m \u001b[0mkey\u001b[0m\u001b[1;33m,\u001b[0m \u001b[0mvalue\u001b[0m\u001b[1;33m)\u001b[0m\u001b[1;33m\u001b[0m\u001b[1;33m\u001b[0m\u001b[0m\n",
      "\u001b[1;32mc:\\users\\user\\appdata\\local\\programs\\python\\python38-32\\lib\\site-packages\\pandas\\core\\frame.py\u001b[0m in \u001b[0;36m_ensure_valid_index\u001b[1;34m(self, value)\u001b[0m\n\u001b[0;32m   3054\u001b[0m                 \u001b[0mvalue\u001b[0m \u001b[1;33m=\u001b[0m \u001b[0mSeries\u001b[0m\u001b[1;33m(\u001b[0m\u001b[0mvalue\u001b[0m\u001b[1;33m)\u001b[0m\u001b[1;33m\u001b[0m\u001b[1;33m\u001b[0m\u001b[0m\n\u001b[0;32m   3055\u001b[0m             \u001b[1;32mexcept\u001b[0m \u001b[1;33m(\u001b[0m\u001b[0mValueError\u001b[0m\u001b[1;33m,\u001b[0m \u001b[0mNotImplementedError\u001b[0m\u001b[1;33m,\u001b[0m \u001b[0mTypeError\u001b[0m\u001b[1;33m)\u001b[0m\u001b[1;33m:\u001b[0m\u001b[1;33m\u001b[0m\u001b[1;33m\u001b[0m\u001b[0m\n\u001b[1;32m-> 3056\u001b[1;33m                 raise ValueError(\n\u001b[0m\u001b[0;32m   3057\u001b[0m                     \u001b[1;34m\"Cannot set a frame with no defined index \"\u001b[0m\u001b[1;33m\u001b[0m\u001b[1;33m\u001b[0m\u001b[0m\n\u001b[0;32m   3058\u001b[0m                     \u001b[1;34m\"and a value that cannot be converted to a \"\u001b[0m\u001b[1;33m\u001b[0m\u001b[1;33m\u001b[0m\u001b[0m\n",
      "\u001b[1;31mValueError\u001b[0m: Cannot set a frame with no defined index and a value that cannot be converted to a Series"
     ]
    }
   ],
   "source": [
    "cwd = pathlib.Path.cwd() # working directory from where python was initiated\n",
    "DATAPATH = cwd.joinpath('data', MARKET.lower()) # path to store data files\n",
    "TEMPL_PATH = pathlib.Path.cwd().joinpath(THIS_FOLDER, \"data\", \"template\")\n",
    "P = dict()\n",
    "for f in ['df_opt_prices.pkl', 'z_temp_df_opt_prices.pkl']:\n",
    "    try:\n",
    "        p[str(f)] = pd.read_pickle(DATAPATH.joinpath(f))\n",
    "    except FileNotFoundError:\n",
    "        p[str(f)] = pd.read_pickle(TEMPL_PATH.joinpath('df_price.pkl'))"
   ]
  },
  {
   "cell_type": "code",
   "execution_count": 10,
   "metadata": {},
   "outputs": [
    {
     "data": {
      "text/plain": [
       "WindowsPath('C:/Users/User/Documents/Business/Projects/learn/ib/data/nse')"
      ]
     },
     "execution_count": 10,
     "metadata": {},
     "output_type": "execute_result"
    }
   ],
   "source": [
    "DATAPATH"
   ]
  },
  {
   "cell_type": "code",
   "execution_count": null,
   "metadata": {},
   "outputs": [],
   "source": [
    "# * IMPORTS\n",
    "import os\n",
    "from ib_insync import util\n",
    "from support import Vars, Timer, get_dte, calcsdmult_df, get_prob, get_prec, fallrise\n",
    "from engine import get_opts, get_unds, executeAsync, price, margin, post_df"
   ]
  },
  {
   "cell_type": "code",
   "execution_count": null,
   "metadata": {},
   "outputs": [],
   "source": [
    "# * FUNCTION INPUTS\n",
    "MARKET = MARKET\n",
    "EARLIEST = False # Earliest expiries are useful for aggressive Friday sessions\n",
    "SAVE = True"
   ]
  },
  {
   "cell_type": "code",
   "execution_count": null,
   "metadata": {},
   "outputs": [],
   "source": [
    "# * SETUP\n",
    "\n",
    "ibp = Vars(MARKET.upper())  # IB Parameters from var.yml\n",
    "\n",
    "HOST, PORT, CID = ibp.HOST, ibp.PORT, ibp.CID\n",
    "# THIS_FOLDER = os.path.dirname(os.path.abspath(__file__))\n",
    "\n",
    "LOGPATH = pathlib.Path.cwd().joinpath(THIS_FOLDER, \"data\", \"log\")\n",
    "DATAPATH = pathlib.Path.cwd().joinpath(THIS_FOLDER, \"data\", MARKET.lower())\n",
    "\n",
    "# * SETUP LOGS AND CLEAR THEM\n",
    "LOGFILE = LOGPATH.joinpath(MARKET.lower() + \"_nakeds.log\")\n",
    "util.logToFile(path=LOGFILE, level=30)\n",
    "with open(LOGFILE, \"w\"):\n",
    "    pass\n",
    "\n",
    "# . start the time\n",
    "nakeds_time = Timer(\"nakeds\")\n",
    "nakeds_time.start()"
   ]
  },
  {
   "cell_type": "code",
   "execution_count": null,
   "metadata": {},
   "outputs": [],
   "source": [
    "# * CODE\n",
    "\n",
    "# Get the options\n",
    "df_opts = get_opts(MARKET)"
   ]
  },
  {
   "cell_type": "code",
   "execution_count": null,
   "metadata": {},
   "outputs": [],
   "source": [
    "# Get the unds\n",
    "\n",
    "# ... load the symlots\n",
    "df_symlots = pd.read_pickle(DATAPATH.joinpath('df_symlots.pkl'))\n",
    "\n",
    "# ... Get und_cts from the symlots for df_opts.symbol\n",
    "und_cts = df_symlots[df_symlots.symbol.isin\\\n",
    "                      (df_opts.symbol.unique())]\\\n",
    "                            .contract.drop_duplicates()\n",
    "\n",
    "# ... Get the underlyings\n",
    "df_unds = get_unds(MARKET=MARKET,\n",
    "                   und_cts = und_cts,\n",
    "                   SAVE = True,\n",
    "                   RUN_ON_PAPER = False)"
   ]
  },
  {
   "cell_type": "code",
   "execution_count": null,
   "metadata": {},
   "outputs": [],
   "source": [
    "# * RECALCULATE UNDERLYING sdMult AND ITS PROBABILITIES\n",
    "\n",
    "# ... remove excess fields\n",
    "\n",
    "cols1 = ['symbol', 'strike', 'expiry', 'right']\n",
    "cols2 = cols1 + ['conId', 'contract', 'lot']\n",
    "\n",
    "df1 = df_opts[cols2]\n",
    "\n",
    "dte  = df1.expiry.apply(get_dte).reset_index(drop=True)\n",
    "\n",
    "# ... process dtes\n",
    "df1 = df1.assign(dte=dte)\n",
    "\n",
    "df1 = df1[df1.dte > 0].reset_index(drop=True)  # Remove negative dtes\n",
    "\n",
    "# ... make 0 dte positive to avoid sqrt errors\n",
    "df1.loc[df1.dte == 0, \"dte\"] = 1"
   ]
  },
  {
   "cell_type": "code",
   "execution_count": null,
   "metadata": {},
   "outputs": [],
   "source": [
    "if EARLIEST: # keep only the earliest expiring dte for each symbol\n",
    "    df1 = df1[df1.dte == df1.groupby('symbol').dte.transform(min)]"
   ]
  },
  {
   "cell_type": "code",
   "execution_count": null,
   "metadata": {},
   "outputs": [],
   "source": [
    "# ... integrate iv and undPrice\n",
    "df1[\"iv\"] = df1.symbol.map(\n",
    "    df_unds.set_index(\"symbol\").iv.to_dict())\n",
    "df1[\"undPrice\"] = df1.symbol.map(\n",
    "    df_unds.set_index(\"symbol\").undPrice.to_dict())\n",
    "\n",
    "# ... calculate sdMult and probablities\n",
    "df1[\"sdMult\"] = calcsdmult_df(df1.strike, df1)\n",
    "df1[\"prob\"] = df1.sdMult.apply(get_prob)\n",
    "\n",
    "# ... rename iv to und_iv\n",
    "df1.rename(columns={'iv': 'und_iv'}, inplace=True)"
   ]
  },
  {
   "cell_type": "code",
   "execution_count": null,
   "metadata": {},
   "outputs": [],
   "source": [
    "# Cleanup df_opts\n",
    "\n",
    "# ... remove options without time value\n",
    "m1 = ((df1.right == 'C') & (df1.strike > df1.undPrice)) | \\\n",
    "    ((df1.right == 'P') & (df1.strike < df1.undPrice))\n",
    "\n",
    "# ... remove out-of-fence (sdMult) options\n",
    "m2 = ((df1.right == 'C') & (df1.sdMult > ibp.CALLSTDMULT)) | \\\n",
    "    ((df1.right == 'P') & (df1.sdMult > ibp.PUTSTDMULT))\n",
    "\n",
    "df2 = df1[m1&m2].reset_index(drop=True)"
   ]
  },
  {
   "cell_type": "code",
   "execution_count": null,
   "metadata": {},
   "outputs": [],
   "source": [
    "# Get the price and margins\n",
    "\n",
    "# ... build contract and order\n",
    "\n",
    "opt_cons = df2.contract\n",
    "opt_ords = [MarketOrder(\"SELL\", lot / lot)\n",
    "            if MARKET.upper() == \"SNP\"\n",
    "            else MarketOrder(\"SELL\", lot)\n",
    "            for lot in df2.lot]\n",
    "\n",
    "# ... get option price and iv\n",
    "with IB().connect(HOST, PORT, CID) as ib:\n",
    "    df_opt_prices = ib.run(\n",
    "        executeAsync(\n",
    "            ib=ib,\n",
    "            algo=price,\n",
    "            cts=opt_cons,\n",
    "            CONCURRENT=40,\n",
    "            TIMEOUT=8,\n",
    "            post_process=post_df,\n",
    "            DATAPATH=DATAPATH,\n",
    "            **{\"FILL_DELAY\": 5.5},\n",
    "            OP_FILENAME=\"\",\n",
    "            SHOW_TQDM=True,\n",
    "        )\n",
    "    )\n",
    "\n",
    "    # to prevent first TimeoutError()\n",
    "    ib.disconnect()\n",
    "    IB().waitOnUpdate(timeout=ibp.FIRST_XN_TIMEOUT)"
   ]
  },
  {
   "cell_type": "code",
   "execution_count": null,
   "metadata": {},
   "outputs": [],
   "source": [
    "# ... get option margins\n",
    "opt_cos = [(c, o) for c, o in zip(opt_cons, opt_ords)]\n",
    "\n",
    "with IB().connect(HOST, PORT, CID) as ib:\n",
    "    df_opt_margins = ib.run(\n",
    "        executeAsync(\n",
    "            ib=ib,\n",
    "            algo=margin,\n",
    "            cts=opt_cos,\n",
    "            CONCURRENT=200,\n",
    "            TIMEOUT=5.5,\n",
    "            post_process=post_df,\n",
    "            DATAPATH=DATAPATH,\n",
    "            OP_FILENAME=\"\",\n",
    "            SHOW_TQDM=True,\n",
    "            **{\"FILL_DELAY\": 5.5},\n",
    "        )\n",
    "    )"
   ]
  },
  {
   "cell_type": "code",
   "execution_count": null,
   "metadata": {},
   "outputs": [],
   "source": [
    "# * GET OPTION sdMult AND ITS PROBABILITIES\n",
    "\n",
    "# ... integrate undPrice and und_iv to opt price\n",
    "df_pr = df_opt_prices.set_index('conId')\\\n",
    "                     .join(df2.set_index('conId')[['undPrice', 'und_iv']])\\\n",
    "                     .reset_index()\n",
    "\n",
    "# ... replace opt_iv with und_iv where unavailable\n",
    "df_pr = df_pr.assign(iv=df_pr.iv.combine_first(df_pr.und_iv))\n",
    "\n",
    "# ... calculate opt sdMult and probablities\n",
    "df_pr[\"dte\"] = df_pr.expiry.apply(get_dte)\n",
    "df_pr[\"opt_sdMult\"] = calcsdmult_df(df_pr.strike, df_pr)\n",
    "df_pr[\"opt_prob\"] = df_pr.opt_sdMult.apply(get_prob)\n",
    "df_pr.rename(columns={'iv': 'opt_iv'}, inplace=True)\n",
    "\n",
    "# ... integrate df_pr to df_opts\n",
    "cols3 = ['conId', 'bid', 'ask', 'close', 'last', 'price', 'opt_sdMult', 'opt_prob']\n",
    "df3 = df2.set_index('conId').join(df_pr[cols3].set_index('conId')).reset_index()\n",
    "\n",
    "# ... add intrinsic and time values\n",
    "df3 = df3.assign(intrinsic=np.where(\n",
    "    df3.right == \"C\",\n",
    "    (df3.undPrice - df3.strike).clip(0, None),\n",
    "    (df3.strike - df3.undPrice).clip(0, None),\n",
    "))\n",
    "df3 = df3.assign(timevalue=df3.price - df3.intrinsic)\n",
    "\n",
    "# Get return-on-margin (rom)\n",
    "\n",
    "# ... integrate opt price to opt margins\n",
    "df_m = df_opt_margins.set_index('conId').join(df3.set_index('conId')[['lot', 'price', 'dte', 'timevalue']]).reset_index()\n",
    "\n",
    "# ... compute rom based on timevalue\n",
    "df_m[\"rom\"] = (\n",
    "    (df_m.timevalue * df_m.lot - df_m.comm).clip(0) /\n",
    "    df_m.margin * 365 / df_m.dte)\n",
    "\n",
    "# ... integrate margin and rom\n",
    "df4 = df3.set_index('conId').join(df_m[['conId', 'margin', 'rom']].set_index('conId')).reset_index()\n",
    "\n",
    "df4 = df4[df4.rom > 0]\\\n",
    "    .sort_values(\"rom\", ascending=False)\\\n",
    "    .reset_index(drop=True)"
   ]
  },
  {
   "cell_type": "code",
   "execution_count": null,
   "metadata": {},
   "outputs": [],
   "source": [
    "# DETERMINE THE BEST ROM FOR RIGHT, DTE\n",
    "\n",
    "# ... sort\n",
    "df5 = df4.sort_values(['symbol', 'dte', 'right', 'sdMult'], \n",
    "                          ascending=[True, True, False, True])"
   ]
  },
  {
   "cell_type": "code",
   "execution_count": null,
   "metadata": {},
   "outputs": [],
   "source": [
    "# ... get the max rom\n",
    "max_rom = df5.groupby(['symbol', 'dte', 'right']).rom.transform(max)\n",
    "df5['max_rom'] = max_rom"
   ]
  },
  {
   "cell_type": "code",
   "execution_count": null,
   "metadata": {},
   "outputs": [],
   "source": [
    "# .establish expRom\n",
    "#    ... for those whose RoM is < MINROM, make it equal to MINROM\n",
    "df4[\"expRom\"] = np.maximum(ibp.MINEXPROM, df4.rom)\n",
    "\n",
    "# . set expPrice to be based on expRom\n",
    "df4[\"expPrice\"] = (df4.expRom \\\n",
    "                    * np.maximum(ibp.MINOPTSELLPRICE, df4.price) \\\n",
    "                    / df4.rom).apply(lambda x: get_prec(x, ibp.PREC))\n",
    "\n",
    "# . remove NaN from expPrice\n",
    "df4 = df4.dropna(subset=[\"expPrice\"]).reset_index(drop=True)"
   ]
  },
  {
   "cell_type": "code",
   "execution_count": null,
   "metadata": {},
   "outputs": [],
   "source": [
    "# * PICKLE AND SAVE TO EXCEL\n",
    "\n",
    "# Checkpoint setup\n",
    "if SAVE:\n",
    "    \n",
    "    if EARLIEST:\n",
    "        OP_FILENAME = 'df_nakeds.pkl'\n",
    "    else:\n",
    "        OP_FILENAME = 'df_earliest.pkl'\n",
    "        \n",
    "    XL_FILENAME = OP_FILENAME.split('.')[0]+'.xlsx'\n",
    "\n",
    "    df4.to_pickle(DATAPATH.joinpath(OP_FILENAME))\n",
    "\n",
    "    df_calls = df4[df4.right == \"C\"].reset_index(drop=True)\n",
    "    df_puts = df4[df4.right == \"P\"].reset_index(drop=True)\n",
    "\n",
    "    # ... initiate Excel writer object\n",
    "    writer = pd.ExcelWriter(DATAPATH.joinpath(XL_FILENAME), engine=\"xlsxwriter\")\n",
    "\n",
    "    cols = ['contract', 'conId', 'symbol', 'strike', 'expiry', 'right', 'lot', 'dte',\n",
    "           'und_iv', 'undPrice', 'sdMult', 'prob', 'opt_sdMult', 'intrinsic', 'timevalue', 'margin',\n",
    "            'bid', 'ask', 'close', 'last', 'price', 'expPrice', 'rom', 'max_rom', 'expRom', 'opt_prob']\n",
    "\n",
    "    df4[cols].to_excel(\n",
    "        writer, sheet_name=\"All\", float_format=\"%.2f\", index=False, freeze_panes=(1, 1)\n",
    "    )\n",
    "\n",
    "    # ... split calls and puts\n",
    "    df_calls[cols].to_excel(\n",
    "        writer,\n",
    "        sheet_name=\"Calls\",\n",
    "        float_format=\"%.2f\",\n",
    "        index=False,\n",
    "        freeze_panes=(1, 1),\n",
    "    )\n",
    "\n",
    "    df_puts[cols].to_excel(\n",
    "        writer, sheet_name=\"Puts\", float_format=\"%.2f\", index=False, freeze_panes=(1, 1)\n",
    "    )\n",
    "\n",
    "    # ... prepare sheet objects\n",
    "    all_sheet = writer.sheets[\"All\"]\n",
    "    puts_sheet = writer.sheets[\"Calls\"]\n",
    "    calls_sheet = writer.sheets[\"Puts\"]\n",
    "    sheets = [all_sheet, puts_sheet, calls_sheet]\n",
    "\n",
    "    for sht in sheets:\n",
    "        # Hide all rows without data\n",
    "        sht.set_default_row(hide_unused_rows=True)\n",
    "\n",
    "        sht.set_column(\"A:B\", None, None, {\"hidden\": True})  # Hide contract and conId\n",
    "\n",
    "    # save\n",
    "    try:\n",
    "        writer.save()\n",
    "    except Exception as e:\n",
    "        print(f\"\\nError {e}: {XL_FILENAME} is open or has some issues!!!\\n\")\n",
    "\n",
    "nakeds_time.stop()"
   ]
  }
 ],
 "metadata": {
  "kernelspec": {
   "display_name": "Python 3",
   "language": "python",
   "name": "python3"
  },
  "language_info": {
   "codemirror_mode": {
    "name": "ipython",
    "version": 3
   },
   "file_extension": ".py",
   "mimetype": "text/x-python",
   "name": "python",
   "nbconvert_exporter": "python",
   "pygments_lexer": "ipython3",
   "version": "3.8.6"
  }
 },
 "nbformat": 4,
 "nbformat_minor": 4
}
