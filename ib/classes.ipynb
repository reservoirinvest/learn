{
 "cells": [
  {
   "cell_type": "markdown",
   "metadata": {},
   "source": [
    "# Class experiments\n",
    "## ...for connections"
   ]
  },
  {
   "cell_type": "code",
   "execution_count": 1,
   "metadata": {},
   "outputs": [],
   "source": [
    "MARKET = 'SNP'"
   ]
  },
  {
   "cell_type": "code",
   "execution_count": 2,
   "metadata": {},
   "outputs": [],
   "source": [
    "import pathlib\n",
    "import yaml\n",
    "\n",
    "cwd = pathlib.Path.cwd() # working directory from where python was initiated\n",
    "IBPATH = cwd.parent.parent.joinpath('asyncib') # where ib programs are stored"
   ]
  },
  {
   "cell_type": "code",
   "execution_count": 3,
   "metadata": {},
   "outputs": [],
   "source": [
    "class Vars:\n",
    "    def __init__(self, MARKET: str) -> None:\n",
    "        \n",
    "        self.MARKET = MARKET\n",
    "        \n",
    "        with open(IBPATH.joinpath('var.yml'), 'rb') as f:\n",
    "            data = yaml.safe_load(f)\n",
    "            \n",
    "        for k, v in data['COMMON'].items():\n",
    "            setattr(self, k, v)\n",
    "            \n",
    "        for k, v in data[MARKET].items():\n",
    "            setattr(self, k, v)"
   ]
  },
  {
   "cell_type": "markdown",
   "metadata": {},
   "source": [
    "## ...for timer"
   ]
  },
  {
   "cell_type": "code",
   "execution_count": 4,
   "metadata": {},
   "outputs": [],
   "source": [
    "import time\n",
    "class Timer:\n",
    "    \"\"\"Timer providing elapsed time\"\"\"\n",
    "\n",
    "    def __init__(self, name: str = '') -> None:\n",
    "        self.name = name\n",
    "        self._start_time = None\n",
    "\n",
    "    def start(self):\n",
    "        \"\"\"Start a new timer\"\"\"\n",
    "        if self._start_time is not None:\n",
    "            raise Exception(f\"Timer is running. Use .stop() to stop it\")\n",
    "\n",
    "        self._start_time = time.perf_counter()\n",
    "\n",
    "    def stop(self) -> None:\n",
    "        if self._start_time is None:\n",
    "            raise Exception(f\"Timer is not running. Use .start() to start it\")\n",
    "\n",
    "        elapsed_time = time.perf_counter() - self._start_time\n",
    "        self._start_time = None\n",
    "        print(f\"\\n{self.name} time taken: \" +\n",
    "              f\"{time.strftime('%H:%M:%S', time.gmtime(elapsed_time))} seconds\\n\")\n",
    "        "
   ]
  },
  {
   "cell_type": "code",
   "execution_count": 5,
   "metadata": {},
   "outputs": [],
   "source": [
    "ibp = Vars(MARKET)\n",
    "tmr = Timer('Timer')\n",
    "tmr.start()"
   ]
  },
  {
   "cell_type": "code",
   "execution_count": 6,
   "metadata": {},
   "outputs": [
    {
     "data": {
      "text/plain": [
       "45"
      ]
     },
     "execution_count": 6,
     "metadata": {},
     "output_type": "execute_result"
    }
   ],
   "source": [
    "ibp.MAXDTE"
   ]
  },
  {
   "cell_type": "code",
   "execution_count": 7,
   "metadata": {},
   "outputs": [
    {
     "name": "stdout",
     "output_type": "stream",
     "text": [
      "\n",
      "Timer time taken: 00:00:04 seconds\n",
      "\n"
     ]
    }
   ],
   "source": [
    "tmr.stop()"
   ]
  },
  {
   "cell_type": "markdown",
   "metadata": {},
   "source": [
    "# Processing mutiple input types\n",
    "### ...using try-except\n",
    "Here is a function that can process inputs of various types such as a single object, set, tuple(s), list(s) or blanks. The function prints out the attribute `ab` of the primary object, if it is available, else prints a message and returns `None`."
   ]
  },
  {
   "cell_type": "code",
   "execution_count": 1,
   "metadata": {},
   "outputs": [],
   "source": [
    "class P: # primary\n",
    "    def __init__(self, name):\n",
    "        self.name = name\n",
    "        self.ab = f'{self.name}_ab' # primary's attribute\n",
    "        \n",
    "    def __repr__(self):\n",
    "        return self.name\n",
    "    \n",
    "class S: # secondary\n",
    "    def __init__(self, name):\n",
    "        self.name = name\n",
    "        \n",
    "    def __repr__(self):\n",
    "        return self.name\n",
    "\n",
    "# create primary and secondary instances\n",
    "r = 10 # no of multis\n",
    "for i in range(1,r):\n",
    "    exec(f\"p{i}=P('p{i}')\")\n",
    "    exec(f\"s{i}=S('s{i}')\") "
   ]
  },
  {
   "cell_type": "code",
   "execution_count": 123,
   "metadata": {},
   "outputs": [],
   "source": [
    "# process - print attribute ab of class P\n",
    "def get_ab(ip):\n",
    "    \n",
    "    try:\n",
    "        output = [f'{i.ab}' for i in ip]\n",
    "\n",
    "    except TypeError as te: # single non-iterable element\n",
    "        if ip: # not empty!\n",
    "            output = [f'{ip.ab}']\n",
    "        else:\n",
    "            output = ip\n",
    "\n",
    "    except AttributeError as ae1: # multiple (p, s) combination\n",
    "        try:\n",
    "            output=[f'{i[0].ab}' for i in ip]\n",
    "        except TypeError as ae2:\n",
    "            output = [f'{ip[0].ab}']\n",
    "            \n",
    "    return output"
   ]
  },
  {
   "cell_type": "code",
   "execution_count": 2,
   "metadata": {},
   "outputs": [],
   "source": [
    "# input types\n",
    "ips = {'blank_list': [],\n",
    "       'blank_tuple': (),\n",
    "       'blank_set': {},\n",
    "       'one_primary': p1,\n",
    "       'one_primary_set': {p1},\n",
    "       'one_primary_tuple_set': {(p1, s1)},\n",
    "       'one_tuple': (p1, s1),\n",
    "       'one_tuple_in_list': [(p1, s1)],\n",
    "       'one_primary_list': [p1],\n",
    "       'two_primary_list': [p1, p2],\n",
    "       'two_tuples': ((p1, s1), (p2, s2)),\n",
    "       'two_tuple_list': [(p1, s1), (p2, s2)],\n",
    "       'multi_primary_list': [eval(f'p{i}') for i in range(1, r)],\n",
    "       'multi_tuple_list': [eval(f'(p{i}, s{i})') for i in range(1, r)]}"
   ]
  },
  {
   "cell_type": "code",
   "execution_count": 128,
   "metadata": {},
   "outputs": [
    {
     "data": {
      "text/plain": [
       "[('blank_list', []),\n",
       " ('blank_tuple', ()),\n",
       " ('blank_set', {}),\n",
       " ('one_primary', p1),\n",
       " ('one_primary_set', {p1}),\n",
       " ('one_primary_tuple_set', {(p1, s1)}),\n",
       " ('one_tuple', (p1, s1)),\n",
       " ('one_tuple_in_list', [(p1, s1)]),\n",
       " ('one_primary_list', [p1]),\n",
       " ('two_primary_list', [p1, p2]),\n",
       " ('two_tuples', ((p1, s1), (p2, s2))),\n",
       " ('two_tuple_list', [(p1, s1), (p2, s2)]),\n",
       " ('multi_primary_list', [p1, p2, p3, p4, p5, p6, p7, p8, p9]),\n",
       " ('multi_tuple_list',\n",
       "  [(p1, s1),\n",
       "   (p2, s2),\n",
       "   (p3, s3),\n",
       "   (p4, s4),\n",
       "   (p5, s5),\n",
       "   (p6, s6),\n",
       "   (p7, s7),\n",
       "   (p8, s8),\n",
       "   (p9, s9)])]"
      ]
     },
     "execution_count": 128,
     "metadata": {},
     "output_type": "execute_result"
    }
   ],
   "source": [
    "# inputs\n",
    "[(k, v) for k, v in ips.items()]"
   ]
  },
  {
   "cell_type": "code",
   "execution_count": 132,
   "metadata": {},
   "outputs": [
    {
     "data": {
      "text/plain": [
       "{'blank_list': [],\n",
       " 'blank_tuple': [],\n",
       " 'blank_set': [],\n",
       " 'one_primary': ['p1_ab'],\n",
       " 'one_primary_set': ['p1_ab'],\n",
       " 'one_primary_tuple_set': ['p1_ab'],\n",
       " 'one_tuple': ['p1_ab'],\n",
       " 'one_tuple_in_list': ['p1_ab'],\n",
       " 'one_primary_list': ['p1_ab'],\n",
       " 'two_primary_list': ['p1_ab', 'p2_ab'],\n",
       " 'two_tuples': ['p1_ab', 'p2_ab'],\n",
       " 'two_tuple_list': ['p1_ab', 'p2_ab'],\n",
       " 'multi_primary_list': ['p1_ab',\n",
       "  'p2_ab',\n",
       "  'p3_ab',\n",
       "  'p4_ab',\n",
       "  'p5_ab',\n",
       "  'p6_ab',\n",
       "  'p7_ab',\n",
       "  'p8_ab',\n",
       "  'p9_ab'],\n",
       " 'multi_tuple_list': ['p1_ab',\n",
       "  'p2_ab',\n",
       "  'p3_ab',\n",
       "  'p4_ab',\n",
       "  'p5_ab',\n",
       "  'p6_ab',\n",
       "  'p7_ab',\n",
       "  'p8_ab',\n",
       "  'p9_ab']}"
      ]
     },
     "execution_count": 132,
     "metadata": {},
     "output_type": "execute_result"
    }
   ],
   "source": [
    "# outputs\n",
    "{k:get_ab(v) for k, v in ips.items()}"
   ]
  }
 ],
 "metadata": {
  "kernelspec": {
   "display_name": "Python 3",
   "language": "python",
   "name": "python3"
  },
  "language_info": {
   "codemirror_mode": {
    "name": "ipython",
    "version": 3
   },
   "file_extension": ".py",
   "mimetype": "text/x-python",
   "name": "python",
   "nbconvert_exporter": "python",
   "pygments_lexer": "ipython3",
   "version": "3.8.6"
  }
 },
 "nbformat": 4,
 "nbformat_minor": 4
}
