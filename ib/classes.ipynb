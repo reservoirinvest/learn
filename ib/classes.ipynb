{
 "cells": [
  {
   "cell_type": "markdown",
   "metadata": {},
   "source": [
    "# Class experiments\n",
    "## ...for connections"
   ]
  },
  {
   "cell_type": "code",
   "execution_count": 1,
   "metadata": {},
   "outputs": [],
   "source": [
    "MARKET = 'SNP'"
   ]
  },
  {
   "cell_type": "code",
   "execution_count": 2,
   "metadata": {},
   "outputs": [],
   "source": [
    "import pathlib\n",
    "import yaml\n",
    "\n",
    "cwd = pathlib.Path.cwd() # working directory from where python was initiated\n",
    "IBPATH = cwd.parent.parent.joinpath('asyncib') # where ib programs are stored"
   ]
  },
  {
   "cell_type": "code",
   "execution_count": 3,
   "metadata": {},
   "outputs": [],
   "source": [
    "class Vars:\n",
    "    def __init__(self, MARKET: str) -> None:\n",
    "        \n",
    "        self.MARKET = MARKET\n",
    "        \n",
    "        with open(IBPATH.joinpath('var.yml'), 'rb') as f:\n",
    "            data = yaml.safe_load(f)\n",
    "            \n",
    "        for k, v in data['COMMON'].items():\n",
    "            setattr(self, k, v)\n",
    "            \n",
    "        for k, v in data[MARKET].items():\n",
    "            setattr(self, k, v)"
   ]
  },
  {
   "cell_type": "markdown",
   "metadata": {},
   "source": [
    "## ...for timer"
   ]
  },
  {
   "cell_type": "code",
   "execution_count": 4,
   "metadata": {},
   "outputs": [],
   "source": [
    "import time\n",
    "class Timer:\n",
    "    \"\"\"Timer providing elapsed time\"\"\"\n",
    "\n",
    "    def __init__(self, name: str = '') -> None:\n",
    "        self.name = name\n",
    "        self._start_time = None\n",
    "\n",
    "    def start(self):\n",
    "        \"\"\"Start a new timer\"\"\"\n",
    "        if self._start_time is not None:\n",
    "            raise Exception(f\"Timer is running. Use .stop() to stop it\")\n",
    "\n",
    "        self._start_time = time.perf_counter()\n",
    "\n",
    "    def stop(self) -> None:\n",
    "        if self._start_time is None:\n",
    "            raise Exception(f\"Timer is not running. Use .start() to start it\")\n",
    "\n",
    "        elapsed_time = time.perf_counter() - self._start_time\n",
    "        self._start_time = None\n",
    "        print(f\"\\n{self.name} time taken: \" +\n",
    "              f\"{time.strftime('%H:%M:%S', time.gmtime(elapsed_time))} seconds\\n\")\n",
    "        "
   ]
  },
  {
   "cell_type": "code",
   "execution_count": 5,
   "metadata": {},
   "outputs": [],
   "source": [
    "ibp = Vars(MARKET)\n",
    "tmr = Timer('Timer')\n",
    "tmr.start()"
   ]
  },
  {
   "cell_type": "code",
   "execution_count": 6,
   "metadata": {},
   "outputs": [
    {
     "output_type": "execute_result",
     "data": {
      "text/plain": [
       "45"
      ]
     },
     "metadata": {},
     "execution_count": 6
    }
   ],
   "source": [
    "ibp.MAXDTE"
   ]
  },
  {
   "cell_type": "code",
   "execution_count": 7,
   "metadata": {},
   "outputs": [
    {
     "output_type": "stream",
     "name": "stdout",
     "text": [
      "\nTimer time taken: 00:00:04 seconds\n\n"
     ]
    }
   ],
   "source": [
    "tmr.stop()"
   ]
  },
  {
   "cell_type": "code",
   "execution_count": null,
   "metadata": {},
   "outputs": [],
   "source": []
  }
 ],
 "metadata": {
  "kernelspec": {
   "display_name": "Python 3",
   "language": "python",
   "name": "python3"
  },
  "language_info": {
   "codemirror_mode": {
    "name": "ipython",
    "version": 3
   },
   "file_extension": ".py",
   "mimetype": "text/x-python",
   "name": "python",
   "nbconvert_exporter": "python",
   "pygments_lexer": "ipython3",
   "version": "3.8.6-final"
  }
 },
 "nbformat": 4,
 "nbformat_minor": 4
}