{
 "cells": [
  {
   "cell_type": "markdown",
   "metadata": {},
   "source": [
    "# Get top options with good `sdMult` and `rom`"
   ]
  },
  {
   "cell_type": "code",
   "execution_count": 1,
   "metadata": {},
   "outputs": [],
   "source": [
    "MARKET = 'NSE'"
   ]
  },
  {
   "cell_type": "code",
   "execution_count": 2,
   "metadata": {},
   "outputs": [],
   "source": [
    "import sys\n",
    "import pathlib\n",
    "import numpy as np\n",
    "import pandas as pd\n",
    "import yaml\n",
    "import asyncio\n",
    "\n",
    "from ib_insync import IB, util, Option, MarketOrder, Contract\n",
    "from typing import Callable, Coroutine, Union"
   ]
  },
  {
   "cell_type": "code",
   "execution_count": 3,
   "metadata": {},
   "outputs": [],
   "source": [
    "# Specific to Jupyter. Will be ignored in IDE / command-lines\n",
    "import IPython as ipy\n",
    "if ipy.get_ipython().__class__.__name__ == 'ZMQInteractiveShell':\n",
    "    import nest_asyncio\n",
    "    nest_asyncio.apply()\n",
    "    util.startLoop()\n",
    "    pd.options.display.max_columns = None\n",
    "    \n",
    "    THIS_FOLDER = '' # Dummy for jupyter notebook's current folder"
   ]
  },
  {
   "cell_type": "code",
   "execution_count": 4,
   "metadata": {},
   "outputs": [],
   "source": [
    "# Get capability to import programs from `asyncib` folder\n",
    "cwd = pathlib.Path.cwd() # working directory from where python was initiated\n",
    "DATAPATH = cwd.joinpath('data', MARKET.lower()) # path to store data files\n",
    "LOGFILE = DATAPATH.joinpath('temp.log') # path to store log files\n",
    "\n",
    "IBPATH = cwd.parent.parent.joinpath('asyncib') # where ib programs are stored\n",
    "\n",
    "# append IBPATH to import programs.\n",
    "if str(IBPATH) not in sys.path:  # Convert it to string!\n",
    "    sys.path.append(str(IBPATH))\n",
    "    \n",
    "IBDATAPATH = IBPATH.joinpath('data', MARKET.lower())"
   ]
  },
  {
   "cell_type": "code",
   "execution_count": 5,
   "metadata": {},
   "outputs": [],
   "source": [
    "# Get the host, port, cid\n",
    "from engine import Vars\n",
    "\n",
    "ibp = Vars(MARKET.upper())  # IB Parameters from var.yml\n",
    "HOST, PORT, CID = ibp.HOST, ibp.PORT, ibp.CID\n",
    "PAPER = ibp.PAPER"
   ]
  },
  {
   "cell_type": "code",
   "execution_count": 6,
   "metadata": {},
   "outputs": [
    {
     "data": {
      "text/plain": [
       "array(['df_chains.pkl', 'df_ohlcs.pkl', 'df_opt_margins.pkl',\n",
       "       'df_opt_prices.pkl', 'df_opts.pkl', 'df_symlots.pkl',\n",
       "       'df_und_margins.pkl', 'df_unds.pkl', 'dfrq.pkl',\n",
       "       'qopt_rejects.pkl', 'qopts.pkl'], dtype='<U18')"
      ]
     },
     "execution_count": 6,
     "metadata": {},
     "output_type": "execute_result"
    }
   ],
   "source": [
    "# Get the pickle files\n",
    "from os import listdir\n",
    "fs = listdir(DATAPATH)\n",
    "\n",
    "files = [f for f in fs if f[-4:] == '.pkl']\n",
    "for f in files:\n",
    "    exec(f\"{f.split('.')[0]} = pd.read_pickle(DATAPATH.joinpath(f))\")\n",
    "np.sort(np.array(files))"
   ]
  },
  {
   "cell_type": "code",
   "execution_count": 7,
   "metadata": {},
   "outputs": [],
   "source": [
    "# imports\n",
    "from ib_insync import LimitOrder\n",
    "from support import get_openorders"
   ]
  },
  {
   "cell_type": "code",
   "execution_count": 8,
   "metadata": {},
   "outputs": [],
   "source": [
    "# prepare the best to-dos\n",
    "\n",
    "# ..sort by the rom\n",
    "df = df_opts.sort_values('rom', ascending = False)\n",
    "\n",
    "# ... expected rom and sdMult mask\n",
    "m = (df.rom > ibp.MINEXPROM) & np.where(df.right == 'P', df.sdMult > ibp.PUTSTDMULT, df.sdMult > ibp.CALLSTDMULT)\n",
    "\n",
    "# ... right mask\n",
    "r = (df.strike > df.undPrice) & (df.right == 'C') | (df.strike < df.undPrice) & (df.right == 'P')\n",
    "df1 = df[m & r].sort_values(['right', 'strike'], ascending=[True, False])\n",
    "\n",
    "#.. add expPrice\n",
    "df1['expPrice'] = df1.price+0.05"
   ]
  },
  {
   "cell_type": "markdown",
   "metadata": {},
   "source": [
    "## Re-initiate price and margin"
   ]
  },
  {
   "cell_type": "code",
   "execution_count": 20,
   "metadata": {},
   "outputs": [
    {
     "name": "stderr",
     "output_type": "stream",
     "text": [
      "margin:   100%|██████████████████████████████| 8490/8490 [13:07<00:00, 10.78it/s]                                      \n",
      "price:      2%|▌                             | 160/8490 [00:15<03:32, 39.20it/s]                                       Error 0, reqId -1: Warning: Approaching max rate of 50 messages per second (45)\n",
      "price:    100%|██████████████████████████████| 8490/8490 [23:50<00:00,  5.94it/s]                                      \n"
     ]
    },
    {
     "name": "stdout",
     "output_type": "stream",
     "text": [
      "Wall time: 36min 58s\n"
     ]
    }
   ],
   "source": [
    "%%time\n",
    "\n",
    "from engine import executeAsync, save_df, margin, price\n",
    "\n",
    "df2 = df[np.where(df.right == 'P', df.sdMult > ibp.PUTSTDMULT, df.sdMult > ibp.CALLSTDMULT) & r]\n",
    "contracts = df2.contract\n",
    "\n",
    "orders = [\n",
    "    MarketOrder(\"SELL\", lot / lot)\n",
    "    if MARKET.upper() == \"SNP\" else MarketOrder(\"SELL\", lot)\n",
    "    for lot in df2.lot\n",
    "]\n",
    "\n",
    "opt_cos = [(c, o) for c, o in zip(contracts, orders)]\n",
    "\n",
    "# * GET THE MARGINS\n",
    "with IB().connect(HOST, PORT, CID) as ib:\n",
    "    df_opt_margins = ib.run(\n",
    "        executeAsync(\n",
    "            ib=ib,\n",
    "            algo=margin,\n",
    "            cts=opt_cos,\n",
    "            post_process=save_df,\n",
    "            CONCURRENT=200,\n",
    "            TIMEOUT=6.5,\n",
    "            DATAPATH=DATAPATH,\n",
    "            REUSE=True,\n",
    "            OP_FILENAME=\"\",\n",
    "            **{\"FILL_DELAY\": 6.5},\n",
    "        ))\n",
    "    \n",
    "# remove NaN from margins\n",
    "df_opt_margins = df_opt_margins[~df_opt_margins.margin.isnull()]\\\n",
    "    .reset_index(drop=True)\n",
    "\n",
    "with IB().connect(HOST, PORT, CID) as ib:\n",
    "    df2 = ib.run(\n",
    "        executeAsync(\n",
    "            ib=ib,\n",
    "            algo=price,\n",
    "            cts=contracts,\n",
    "            post_process=save_df,\n",
    "            CONCURRENT=40 * 4,\n",
    "            TIMEOUT=11,\n",
    "            DATAPATH=DATAPATH,\n",
    "            REUSE=True,\n",
    "            OP_FILENAME=\"\",\n",
    "            **{\"FILL_DELAY\": 11},\n",
    "        ))\n",
    "\n",
    "# remove NaN from df2 and save\n",
    "df2 = df2[~df2.price.isnull()].reset_index(\n",
    "    drop=True)"
   ]
  },
  {
   "cell_type": "code",
   "execution_count": 9,
   "metadata": {},
   "outputs": [],
   "source": [
    "# ... check open ordes and remove them\n",
    "df_openords = get_openorders(MARKET)\n",
    "df1 = df1[~df1.conId.isin(df_openords.conId)].reset_index(drop=True)"
   ]
  },
  {
   "cell_type": "code",
   "execution_count": null,
   "metadata": {},
   "outputs": [],
   "source": [
    "# ... build the SELL orders\n",
    "contracts = df1.contract.to_list()\n",
    "orders = [LimitOrder(action='SELL', totalQuantity=abs(int(q)), lmtPrice=p) \n",
    "                        for q, p in zip(df1.qty, df1.expPrice)]\n",
    "\n",
    "cos = [(c, o) for c, o in zip(contracts, orders)]"
   ]
  },
  {
   "cell_type": "markdown",
   "metadata": {},
   "source": [
    "# Place the trades"
   ]
  },
  {
   "cell_type": "raw",
   "metadata": {},
   "source": [
    "%%time\n",
    "blks = 25\n",
    "\n",
    "co_blks = [cos[i: i+blks] for i in range(0, len(cos), blks)]\n",
    "\n",
    "trades = []\n",
    "\n",
    "with IB().connect(HOST, PORT, CID) as ib:\n",
    "\n",
    "    for b in co_blks:\n",
    "        for c, o in b:\n",
    "            td = ib.placeOrder(c, o)\n",
    "            trades.append(td)\n",
    "        ib.sleep(0.75)"
   ]
  },
  {
   "cell_type": "code",
   "execution_count": null,
   "metadata": {},
   "outputs": [],
   "source": []
  },
  {
   "cell_type": "code",
   "execution_count": null,
   "metadata": {},
   "outputs": [],
   "source": []
  }
 ],
 "metadata": {
  "kernelspec": {
   "display_name": "Python 3",
   "language": "python",
   "name": "python3"
  },
  "language_info": {
   "codemirror_mode": {
    "name": "ipython",
    "version": 3
   },
   "file_extension": ".py",
   "mimetype": "text/x-python",
   "name": "python",
   "nbconvert_exporter": "python",
   "pygments_lexer": "ipython3",
   "version": "3.8.6"
  }
 },
 "nbformat": 4,
 "nbformat_minor": 4
}
