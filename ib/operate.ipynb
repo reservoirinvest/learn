{
 "cells": [
  {
   "cell_type": "markdown",
   "metadata": {},
   "source": [
    "# OPERATION PROGRAMS\n",
    "1. Setup\n",
    "2. Place naked orders\n",
    "3. Place cover trades\n",
    "4. Place orphan trades"
   ]
  },
  {
   "cell_type": "markdown",
   "metadata": {},
   "source": [
    "# 1. Setup"
   ]
  },
  {
   "cell_type": "code",
   "execution_count": null,
   "metadata": {},
   "outputs": [],
   "source": [
    "MARKET = 'NSE'"
   ]
  },
  {
   "cell_type": "code",
   "execution_count": null,
   "metadata": {},
   "outputs": [],
   "source": [
    "import sys\n",
    "import pathlib\n",
    "import numpy as np\n",
    "import pandas as pd\n",
    "import yaml\n",
    "import asyncio\n",
    "\n",
    "from ib_insync import IB, util, Option, MarketOrder, Contract\n",
    "from typing import Callable, Coroutine, Union"
   ]
  },
  {
   "cell_type": "code",
   "execution_count": null,
   "metadata": {},
   "outputs": [],
   "source": [
    "# Specific to Jupyter. Will be ignored in IDE / command-lines\n",
    "import IPython as ipy\n",
    "if ipy.get_ipython().__class__.__name__ == 'ZMQInteractiveShell':\n",
    "    import nest_asyncio\n",
    "    nest_asyncio.apply()\n",
    "    util.startLoop()\n",
    "    pd.options.display.max_columns = None\n",
    "    \n",
    "    THIS_FOLDER = '' # Dummy for jupyter notebook's current folder "
   ]
  },
  {
   "cell_type": "code",
   "execution_count": null,
   "metadata": {},
   "outputs": [],
   "source": [
    "# Get capability to import programs from `asyncib` folder\n",
    "cwd = pathlib.Path.cwd() # working directory from where python was initiated\n",
    "DATAPATH = cwd.joinpath('data', MARKET.lower()) # path to store data files\n",
    "LOGFILE = DATAPATH.joinpath('temp.log') # path to store log files\n",
    "\n",
    "IBPATH = cwd.parent.parent.joinpath('asyncib') # where ib programs are stored\n",
    "\n",
    "# append IBPATH to import programs.\n",
    "if str(IBPATH) not in sys.path:  # Convert it to string!\n",
    "    sys.path.append(str(IBPATH))\n",
    "    \n",
    "IBDATAPATH = IBPATH.joinpath('data', MARKET.lower())"
   ]
  },
  {
   "cell_type": "code",
   "execution_count": null,
   "metadata": {},
   "outputs": [],
   "source": [
    "# Get the host, port, cid\n",
    "from engine import Vars\n",
    "\n",
    "ibp = Vars(MARKET.upper())  # IB Parameters from var.yml\n",
    "HOST, PORT, CID = ibp.HOST, ibp.PORT, ibp.CID"
   ]
  },
  {
   "cell_type": "code",
   "execution_count": null,
   "metadata": {},
   "outputs": [],
   "source": [
    "# Get the pickle files\n",
    "from os import listdir\n",
    "fs = listdir(DATAPATH)\n",
    "\n",
    "files = [f for f in fs if f[-4:] == '.pkl']\n",
    "for f in files:\n",
    "    exec(f\"{f.split('.')[0]} = pd.read_pickle(DATAPATH.joinpath(f))\")\n",
    "np.sort(np.array(files))"
   ]
  },
  {
   "cell_type": "markdown",
   "metadata": {},
   "source": [
    "# 2. `naked` Orders"
   ]
  },
  {
   "cell_type": "code",
   "execution_count": null,
   "metadata": {},
   "outputs": [],
   "source": [
    "# * IMPORTS\n",
    "from ib_insync import LimitOrder\n",
    "from support import get_openorders"
   ]
  },
  {
   "cell_type": "code",
   "execution_count": null,
   "metadata": {},
   "outputs": [],
   "source": [
    "# * RUN nakeds\n",
    "THIS_FOLDER = ''\n",
    "\n",
    "df_nakeds = pd.read_pickle(DATAPATH.joinpath(THIS_FOLDER, 'df_nakeds.pkl'))\n",
    "\n",
    "cols = ['symbol', 'strike', 'right', 'expiry', 'dte', 'conId', 'contract',\n",
    "        'margin', 'bid', 'ask', 'iv', 'und_iv','price', 'lot', 'rom', 'sdMult', 'expRom', 'expPrice', 'qty']\n",
    "\n",
    "df = df_nakeds[df_nakeds.price>0][cols].sort_values('rom', ascending=False)"
   ]
  },
  {
   "cell_type": "code",
   "execution_count": null,
   "metadata": {},
   "outputs": [],
   "source": [
    "# * REMOVE OPEN ORDERS FROM NAKEDS df\n",
    "df_openords = get_openorders(MARKET)\n",
    "df = df[~df.conId.isin(df_openords.conId)].reset_index(drop=True)\n",
    "\n",
    "# ... build the naked SELL orders\n",
    "contracts = df.contract.to_list()\n",
    "orders = [LimitOrder(action='SELL', totalQuantity=abs(int(q)), lmtPrice=p) \n",
    "                        for q, p in zip(df.qty, df.expPrice)]\n",
    "\n",
    "naked_cos = [(c, o) for c, o in zip(contracts, orders)]"
   ]
  },
  {
   "cell_type": "markdown",
   "metadata": {},
   "source": [
    "## Place `naked` trades\n",
    "* Make the following cell executable"
   ]
  },
  {
   "cell_type": "raw",
   "metadata": {},
   "source": [
    "%%time\n",
    "blks = 25\n",
    "\n",
    "co_b_naked = [naked_cos[i: i+blks] for i in range(0, len(naked_cos), blks)]\n",
    "\n",
    "trades = []\n",
    "\n",
    "with IB().connect(HOST, PORT, CID) as ib:\n",
    "\n",
    "    for b in co_b_naked:\n",
    "        for c, o in b:\n",
    "            td = ib.placeOrder(c, o)\n",
    "            trades.append(td)\n",
    "        ib.sleep(0.75)"
   ]
  },
  {
   "cell_type": "markdown",
   "metadata": {},
   "source": [
    "## Clean up `naked` trades"
   ]
  },
  {
   "cell_type": "raw",
   "metadata": {},
   "source": [
    "import os\n",
    "\n",
    "fs = listdir(DATAPATH)\n",
    "\n",
    "for f in fs:\n",
    "\n",
    "    if f.split('.')[0] == 'df_nakeds':\n",
    "    \n",
    "        try:\n",
    "        \n",
    "            os.remove(DATAPATH.joinpath(f))\n",
    "            \n",
    "        except OSError as e:\n",
    "        \n",
    "            print(f'Error: {e}')"
   ]
  },
  {
   "cell_type": "markdown",
   "metadata": {},
   "source": [
    "# 3. `cover` trades"
   ]
  },
  {
   "cell_type": "code",
   "execution_count": null,
   "metadata": {},
   "outputs": [],
   "source": [
    "# * IMPORTS\n",
    "from ib_insync import LimitOrder\n",
    "from support import get_openorders"
   ]
  },
  {
   "cell_type": "code",
   "execution_count": null,
   "metadata": {},
   "outputs": [],
   "source": [
    "# Extract files from Excel\n",
    "covers_file = 'propose_covers.xlsx'\n",
    "try:\n",
    "    df_covers = pd.read_excel(DATAPATH.joinpath(covers_file))\n",
    "except FileNotFoundError:\n",
    "    print(f'\\n{covers_file} not found! ... Quitting !!')\n",
    "    raise StopExecution"
   ]
  },
  {
   "cell_type": "code",
   "execution_count": null,
   "metadata": {},
   "outputs": [],
   "source": [
    "# Get open orders\n",
    "df_openords = get_openorders(MARKET)\n",
    "\n",
    "# Prepare cover (contract, order)\n",
    "if ~df_openords.empty: # Something exists in openorders\n",
    "    # ... remove active openorders that conflict with df_covers\n",
    "    df_covers1 = df_covers.set_index(['symbol', 'right', 'action']).\\\n",
    "                        join(df_openords[['symbol', 'right', 'action', 'orderId']].\\\n",
    "                        set_index(['symbol', 'right', 'action']))\n",
    "    df_covers2 = df_covers1[df_covers1.orderId.isnull()].drop('orderId',1).reset_index()\n",
    "\n",
    "    df_covers = df_covers2 # ready to return!\n",
    "\n",
    "# ... build the naked SELL orders\n",
    "df_covers.contract = [eval(c) for c in df_covers.contract]\n",
    "\n",
    "## Prepare orders and contracts\n",
    "covercts = df_covers.contract\n",
    "coverords = [LimitOrder(action=act, totalQuantity=qty, lmtPrice=p) for act, qty, p in zip(df_covers.action, df_covers.qty, df_covers.expPrice)]\n",
    "cover_cos = [(c, o) for c, o in zip(covercts, coverords)]"
   ]
  },
  {
   "cell_type": "markdown",
   "metadata": {},
   "source": [
    "## Place `cover` trades\n",
    "* Make the following cell executable"
   ]
  },
  {
   "cell_type": "raw",
   "metadata": {},
   "source": [
    "%%time\n",
    "\n",
    "blks = 25\n",
    "\n",
    "co_b_covers = [cover_cos[i: i+blks] for i in range(0, len(cover_cos), blks)]\n",
    "\n",
    "cov_trades = []\n",
    "\n",
    "with IB().connect(HOST, PORT, CID) as ib:\n",
    "\n",
    "    for b in co_b_covers:\n",
    "        for c, o in b:\n",
    "            td = ib.placeOrder(c, o)\n",
    "            cov_trades.append(td)\n",
    "        ib.sleep(0.75)"
   ]
  },
  {
   "cell_type": "markdown",
   "metadata": {},
   "source": [
    "## Cleanup `cover` trades"
   ]
  },
  {
   "cell_type": "raw",
   "metadata": {},
   "source": [
    "# @@@ Delete cover trade files\n",
    "\n",
    "import os\n",
    "\n",
    "try:\n",
    "\n",
    "    os.remove(DATAPATH.joinpath('df_covers.pkl'))\n",
    "    \n",
    "    os.remove(DATAPATH.joinpath('propose_covers.xlsx'))\n",
    "    \n",
    "except OSError as e:\n",
    "\n",
    "    print(f'Error: {e}')"
   ]
  },
  {
   "cell_type": "markdown",
   "metadata": {},
   "source": [
    "# 4. `orphan` trades"
   ]
  },
  {
   "cell_type": "code",
   "execution_count": null,
   "metadata": {},
   "outputs": [],
   "source": [
    "# * IMPORTS\n",
    "from ib_insync import LimitOrder\n",
    "from support import get_openorders"
   ]
  },
  {
   "cell_type": "code",
   "execution_count": null,
   "metadata": {},
   "outputs": [],
   "source": [
    "# Extract files from Excel\n",
    "orphans_file = 'propose_orphans.xlsx'\n",
    "try:\n",
    "    df_orphans = pd.read_excel(DATAPATH.joinpath(orphans_file))\n",
    "except FileNotFoundError:\n",
    "    print(f'\\n{orphans_file} not found! ... Quitting !!')\n",
    "    raise StopExecution"
   ]
  },
  {
   "cell_type": "code",
   "execution_count": null,
   "metadata": {},
   "outputs": [],
   "source": [
    "# Get open orders\n",
    "df_openords = get_openorders(MARKET)\n",
    "\n",
    "# Prepare cover (contract, order)\n",
    "if ~df_openords.empty: # Something exists in openorders\n",
    "    # ... remove active openorders that conflict with df_orphans\n",
    "    df_orphans1 = df_orphans.set_index(['symbol', 'right', 'action']).\\\n",
    "                        join(df_openords[['symbol', 'right', 'action', 'orderId']].\\\n",
    "                        set_index(['symbol', 'right', 'action']))\n",
    "    df_orphans2 = df_orphans1[df_orphans1.orderId.isnull()].drop('orderId',1).reset_index()\n",
    "\n",
    "    df_orphans = df_orphans2 # ready to return!\n",
    "\n",
    "# ... build the naked SELL orders\n",
    "df_orphans.contract = [eval(c) for c in df_orphans.contract]\n",
    "\n",
    "## Prepare orders and contracts\n",
    "orphancts = df_orphans.contract\n",
    "orphanords = [LimitOrder(action=act, totalQuantity=qty, lmtPrice=p) for act, qty, p in zip(df_orphans.action, df_orphans.qty, df_orphans.expPrice)]\n",
    "orphan_cos = [(c, o) for c, o in zip(orphancts, orphanords)]"
   ]
  },
  {
   "cell_type": "markdown",
   "metadata": {},
   "source": [
    "## Place `orphan` trades\n",
    "* make the following cell executable"
   ]
  },
  {
   "cell_type": "raw",
   "metadata": {},
   "source": [
    "%%time\n",
    "\n",
    "blks = 25\n",
    "\n",
    "co_b_orphans = [orphan_cos[i: i+blks] for i in range(0, len(orphan_cos), blks)]\n",
    "\n",
    "orph_trades = []\n",
    "\n",
    "with IB().connect(HOST, PORT, CID) as ib:\n",
    "\n",
    "    for b in co_b_orphans:\n",
    "        for c, o in b:\n",
    "            td = ib.placeOrder(c, o)\n",
    "            orph_trades.append(td)\n",
    "        ib.sleep(0.75)"
   ]
  },
  {
   "cell_type": "markdown",
   "metadata": {},
   "source": [
    "# 5. Delete all `naked` sells\n",
    "(in open orders)"
   ]
  },
  {
   "cell_type": "code",
   "execution_count": null,
   "metadata": {},
   "outputs": [],
   "source": [
    "from support import quick_pf, get_openorders"
   ]
  },
  {
   "cell_type": "code",
   "execution_count": null,
   "metadata": {},
   "outputs": [],
   "source": [
    "with IB().connect(HOST, PORT, CID) as ib:\n",
    "    df_pf = quick_pf(ib)\n",
    "    \n",
    "    ib.reqAllOpenOrders()  # To kickstart collection of open orders\n",
    "    ib.sleep(0.3)\n",
    "    trades = ib.trades() # Get the trades\n",
    "    \n",
    "    stocks_in_pf = df_pf[df_pf.secType == 'STK'].symbol.to_list()\n",
    "    \n",
    "    orders = {t.order for t in trades \n",
    "              if t.contract.symbol not in stocks_in_pf # protects covered calls and puts\n",
    "                if t.orderStatus.status == 'Submitted'\n",
    "                   if t.order.action == 'SELL'}\n",
    "\n",
    "BLK = 25\n",
    "ords = list(orders)\n",
    "o_blk = [ords[i:i+BLK] for i in range(0, len(ords), BLK)]"
   ]
  },
  {
   "cell_type": "raw",
   "metadata": {},
   "source": [
    "%%time\n",
    "\n",
    "## @@@ DELETES ALL NAKED SELLS\n",
    "\n",
    "cancels = []\n",
    "\n",
    "for ob in o_blk:\n",
    "\n",
    "    with IB().connect(HOST, PORT, MASTERCID) as ib:\n",
    "    \n",
    "        cancels.append([ib.cancelOrder(o) for o in ob])\n",
    "        \n",
    "        ib.sleep(0.3)"
   ]
  }
 ],
 "metadata": {
  "kernelspec": {
   "display_name": "Python 3",
   "language": "python",
   "name": "python3"
  },
  "language_info": {
   "codemirror_mode": {
    "name": "ipython",
    "version": 3
   },
   "file_extension": ".py",
   "mimetype": "text/x-python",
   "name": "python",
   "nbconvert_exporter": "python",
   "pygments_lexer": "ipython3",
   "version": "3.8.6"
  }
 },
 "nbformat": 4,
 "nbformat_minor": 4
}
