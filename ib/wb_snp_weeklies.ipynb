{
 "cells": [
  {
   "cell_type": "markdown",
   "metadata": {},
   "source": [
    "# Determine weekly nakeds\n",
    "* A shorter version of nakeds"
   ]
  },
  {
   "cell_type": "code",
   "execution_count": 1,
   "metadata": {},
   "outputs": [],
   "source": [
    "MARKET = 'SNP'"
   ]
  },
  {
   "cell_type": "code",
   "execution_count": 2,
   "metadata": {},
   "outputs": [],
   "source": [
    "import sys\n",
    "import pathlib\n",
    "import numpy as np\n",
    "import pandas as pd\n",
    "import yaml\n",
    "import asyncio\n",
    "\n",
    "from ib_insync import IB, util, Option, MarketOrder, Contract\n",
    "from typing import Callable, Coroutine, Union"
   ]
  },
  {
   "cell_type": "code",
   "execution_count": 3,
   "metadata": {},
   "outputs": [],
   "source": [
    "# Specific to Jupyter. Will be ignored in IDE / command-lines\n",
    "import IPython as ipy\n",
    "if ipy.get_ipython().__class__.__name__ == 'ZMQInteractiveShell':\n",
    "    import nest_asyncio\n",
    "    nest_asyncio.apply()\n",
    "    util.startLoop()\n",
    "    pd.options.display.max_columns = None\n",
    "    \n",
    "    THIS_FOLDER = '' # Dummy for jupyter notebook's current folder"
   ]
  },
  {
   "cell_type": "code",
   "execution_count": 4,
   "metadata": {},
   "outputs": [],
   "source": [
    "# Get capability to import programs from `asyncib` folder\n",
    "cwd = pathlib.Path.cwd() # working directory from where python was initiated\n",
    "DATAPATH = cwd.joinpath('data', MARKET.lower()) # path to store data files\n",
    "LOGFILE = cwd.joinpath(THIS_FOLDER, 'data', 'log', 'temp.log') # path to store log files\n",
    "\n",
    "IBPATH = cwd.parent.parent.joinpath('asyncib') # where ib programs are stored\n",
    "\n",
    "# append IBPATH to import programs.\n",
    "if str(IBPATH) not in sys.path:  # Convert it to string!\n",
    "    sys.path.append(str(IBPATH))\n",
    "    \n",
    "IBDATAPATH = IBPATH.joinpath('data', MARKET.lower())"
   ]
  },
  {
   "cell_type": "code",
   "execution_count": 5,
   "metadata": {},
   "outputs": [],
   "source": [
    "# Get the host, port, cid\n",
    "from engine import Vars\n",
    "\n",
    "ibp = Vars(MARKET.upper())  # IB Parameters from var.yml\n",
    "HOST, PORT, CID = ibp.HOST, ibp.PORT, ibp.CID"
   ]
  },
  {
   "cell_type": "code",
   "execution_count": 6,
   "metadata": {},
   "outputs": [
    {
     "data": {
      "text/plain": [
       "array(['df_chains.pkl', 'df_ohlcs.pkl', 'df_opt_margins.pkl',\n",
       "       'df_opt_prices.pkl', 'df_opts.pkl', 'df_symlots.pkl',\n",
       "       'df_und_margins.pkl', 'df_unds.pkl', 'qopt_rejects.pkl',\n",
       "       'qopts.pkl'], dtype='<U18')"
      ]
     },
     "execution_count": 6,
     "metadata": {},
     "output_type": "execute_result"
    }
   ],
   "source": [
    "# Get the pickle files\n",
    "from os import listdir\n",
    "fs = listdir(DATAPATH)\n",
    "\n",
    "files = [f for f in fs if f[-4:] == '.pkl']\n",
    "for f in files:\n",
    "    exec(f\"{f.split('.')[0]} = pd.read_pickle(DATAPATH.joinpath(f))\")\n",
    "np.sort(np.array(files))"
   ]
  },
  {
   "cell_type": "code",
   "execution_count": 7,
   "metadata": {},
   "outputs": [],
   "source": [
    "# * IMPORTS\n",
    "from support import Timer, calcsdmult_df, get_openorders\n",
    "from engine import get_unds\n",
    "from ib_insync import LimitOrder"
   ]
  },
  {
   "cell_type": "code",
   "execution_count": 8,
   "metadata": {},
   "outputs": [],
   "source": [
    "# * FUNCTION INPUTS"
   ]
  },
  {
   "cell_type": "code",
   "execution_count": 9,
   "metadata": {},
   "outputs": [],
   "source": [
    "# * SETUP\n",
    "ibp = Vars(MARKET.upper())  # IB Parameters from var.yml\n",
    "\n",
    "HOST, PORT, CID = ibp.HOST, ibp.PORT, ibp.CID\n",
    "\n",
    "LOGPATH = pathlib.Path.cwd().joinpath(THIS_FOLDER, \"data\", \"log\")\n",
    "DATAPATH = pathlib.Path.cwd().joinpath(THIS_FOLDER, \"data\", MARKET.lower())\n",
    "\n",
    "# ...setup logs and clear them\n",
    "LOGFILE = LOGPATH.joinpath(MARKET.lower() + \"_weeklies.log\")\n",
    "util.logToFile(path=LOGFILE, level=30)\n",
    "with open(LOGFILE, \"w\"):\n",
    "    pass\n",
    "\n",
    "# ... load files\n",
    "df_opts = pd.read_pickle(DATAPATH.joinpath('df_opts.pkl'))\n",
    "df_symlots = pd.read_pickle(DATAPATH.joinpath('df_symlots.pkl'))"
   ]
  },
  {
   "cell_type": "code",
   "execution_count": 10,
   "metadata": {},
   "outputs": [
    {
     "name": "stdout",
     "output_type": "stream",
     "text": [
      "\n",
      "snp symlot qualification started at 27-Nov-2020 22:30:49\n"
     ]
    },
    {
     "name": "stderr",
     "output_type": "stream",
     "text": [
      "qualify:  100%|██████████████████████████████| 254/254 [00:06<00:00, 40.79it/s]                                        "
     ]
    },
    {
     "name": "stdout",
     "output_type": "stream",
     "text": [
      "\n",
      "...snp symlot qualification took: 00:00:08 seconds\n",
      "\n"
     ]
    },
    {
     "name": "stderr",
     "output_type": "stream",
     "text": [
      "\n"
     ]
    },
    {
     "data": {
      "text/html": [
       "<div>\n",
       "<style scoped>\n",
       "    .dataframe tbody tr th:only-of-type {\n",
       "        vertical-align: middle;\n",
       "    }\n",
       "\n",
       "    .dataframe tbody tr th {\n",
       "        vertical-align: top;\n",
       "    }\n",
       "\n",
       "    .dataframe thead th {\n",
       "        text-align: right;\n",
       "    }\n",
       "</style>\n",
       "<table border=\"1\" class=\"dataframe\">\n",
       "  <thead>\n",
       "    <tr style=\"text-align: right;\">\n",
       "      <th></th>\n",
       "      <th>symbol</th>\n",
       "      <th>secType</th>\n",
       "      <th>exchange</th>\n",
       "      <th>expiry</th>\n",
       "      <th>lot</th>\n",
       "      <th>currency</th>\n",
       "      <th>contract</th>\n",
       "    </tr>\n",
       "  </thead>\n",
       "  <tbody>\n",
       "    <tr>\n",
       "      <th>0</th>\n",
       "      <td>UPRO</td>\n",
       "      <td>STK</td>\n",
       "      <td>SMART</td>\n",
       "      <td>None</td>\n",
       "      <td>100</td>\n",
       "      <td>USD</td>\n",
       "      <td>Contract(secType='STK', conId=61228752, symbol...</td>\n",
       "    </tr>\n",
       "    <tr>\n",
       "      <th>1</th>\n",
       "      <td>TNA</td>\n",
       "      <td>STK</td>\n",
       "      <td>SMART</td>\n",
       "      <td>None</td>\n",
       "      <td>100</td>\n",
       "      <td>USD</td>\n",
       "      <td>Contract(secType='STK', conId=55679435, symbol...</td>\n",
       "    </tr>\n",
       "    <tr>\n",
       "      <th>2</th>\n",
       "      <td>XME</td>\n",
       "      <td>STK</td>\n",
       "      <td>SMART</td>\n",
       "      <td>None</td>\n",
       "      <td>100</td>\n",
       "      <td>USD</td>\n",
       "      <td>Contract(secType='STK', conId=45540699, symbol...</td>\n",
       "    </tr>\n",
       "    <tr>\n",
       "      <th>3</th>\n",
       "      <td>XLF</td>\n",
       "      <td>STK</td>\n",
       "      <td>SMART</td>\n",
       "      <td>None</td>\n",
       "      <td>100</td>\n",
       "      <td>USD</td>\n",
       "      <td>Contract(secType='STK', conId=4215220, symbol=...</td>\n",
       "    </tr>\n",
       "    <tr>\n",
       "      <th>4</th>\n",
       "      <td>YINN</td>\n",
       "      <td>STK</td>\n",
       "      <td>SMART</td>\n",
       "      <td>None</td>\n",
       "      <td>100</td>\n",
       "      <td>USD</td>\n",
       "      <td>Contract(secType='STK', conId=70737252, symbol...</td>\n",
       "    </tr>\n",
       "    <tr>\n",
       "      <th>...</th>\n",
       "      <td>...</td>\n",
       "      <td>...</td>\n",
       "      <td>...</td>\n",
       "      <td>...</td>\n",
       "      <td>...</td>\n",
       "      <td>...</td>\n",
       "      <td>...</td>\n",
       "    </tr>\n",
       "    <tr>\n",
       "      <th>248</th>\n",
       "      <td>WYNN</td>\n",
       "      <td>STK</td>\n",
       "      <td>SMART</td>\n",
       "      <td>None</td>\n",
       "      <td>100</td>\n",
       "      <td>USD</td>\n",
       "      <td>Contract(secType='STK', conId=16454492, symbol...</td>\n",
       "    </tr>\n",
       "    <tr>\n",
       "      <th>249</th>\n",
       "      <td>XLNX</td>\n",
       "      <td>STK</td>\n",
       "      <td>SMART</td>\n",
       "      <td>None</td>\n",
       "      <td>100</td>\n",
       "      <td>USD</td>\n",
       "      <td>Contract(secType='STK', conId=276222, symbol='...</td>\n",
       "    </tr>\n",
       "    <tr>\n",
       "      <th>250</th>\n",
       "      <td>XOM</td>\n",
       "      <td>STK</td>\n",
       "      <td>SMART</td>\n",
       "      <td>None</td>\n",
       "      <td>100</td>\n",
       "      <td>USD</td>\n",
       "      <td>Contract(secType='STK', conId=13977, symbol='X...</td>\n",
       "    </tr>\n",
       "    <tr>\n",
       "      <th>251</th>\n",
       "      <td>YUM</td>\n",
       "      <td>STK</td>\n",
       "      <td>SMART</td>\n",
       "      <td>None</td>\n",
       "      <td>100</td>\n",
       "      <td>USD</td>\n",
       "      <td>Contract(secType='STK', conId=3206042, symbol=...</td>\n",
       "    </tr>\n",
       "    <tr>\n",
       "      <th>252</th>\n",
       "      <td>ZTS</td>\n",
       "      <td>STK</td>\n",
       "      <td>SMART</td>\n",
       "      <td>None</td>\n",
       "      <td>100</td>\n",
       "      <td>USD</td>\n",
       "      <td>Contract(secType='STK', conId=121665622, symbo...</td>\n",
       "    </tr>\n",
       "  </tbody>\n",
       "</table>\n",
       "<p>253 rows × 7 columns</p>\n",
       "</div>"
      ],
      "text/plain": [
       "    symbol secType exchange expiry  lot currency  \\\n",
       "0     UPRO     STK    SMART   None  100      USD   \n",
       "1      TNA     STK    SMART   None  100      USD   \n",
       "2      XME     STK    SMART   None  100      USD   \n",
       "3      XLF     STK    SMART   None  100      USD   \n",
       "4     YINN     STK    SMART   None  100      USD   \n",
       "..     ...     ...      ...    ...  ...      ...   \n",
       "248   WYNN     STK    SMART   None  100      USD   \n",
       "249   XLNX     STK    SMART   None  100      USD   \n",
       "250    XOM     STK    SMART   None  100      USD   \n",
       "251    YUM     STK    SMART   None  100      USD   \n",
       "252    ZTS     STK    SMART   None  100      USD   \n",
       "\n",
       "                                              contract  \n",
       "0    Contract(secType='STK', conId=61228752, symbol...  \n",
       "1    Contract(secType='STK', conId=55679435, symbol...  \n",
       "2    Contract(secType='STK', conId=45540699, symbol...  \n",
       "3    Contract(secType='STK', conId=4215220, symbol=...  \n",
       "4    Contract(secType='STK', conId=70737252, symbol...  \n",
       "..                                                 ...  \n",
       "248  Contract(secType='STK', conId=16454492, symbol...  \n",
       "249  Contract(secType='STK', conId=276222, symbol='...  \n",
       "250  Contract(secType='STK', conId=13977, symbol='X...  \n",
       "251  Contract(secType='STK', conId=3206042, symbol=...  \n",
       "252  Contract(secType='STK', conId=121665622, symbo...  \n",
       "\n",
       "[253 rows x 7 columns]"
      ]
     },
     "execution_count": 10,
     "metadata": {},
     "output_type": "execute_result"
    }
   ],
   "source": [
    "from engine import get_symlots\n",
    "get_symlots(MARKET)"
   ]
  },
  {
   "cell_type": "code",
   "execution_count": null,
   "metadata": {},
   "outputs": [],
   "source": [
    "# * RECONSTRUCT sdmult AND rom\n",
    "\n",
    "# ... remove YAML blacklisted symbols\n",
    "df_opts = df_opts[~df_opts.symbol.isin(ibp.BLACKLIST)]\n",
    "\n",
    "df_unds = get_unds(MARKET=MARKET, und_cts=df_symlots.contract.unique(), savedf = True, RUN_ON_PAPER = False)\n",
    "\n",
    "# ... pad ivs\n",
    "no_ivs = df_opts[df_opts.iv.isnull()].symbol.unique()\n",
    "iv_dict = df_unds[df_unds.symbol.isin(no_ivs)].set_index('symbol').iv.to_dict()\n",
    "df_opts = df_opts.assign(iv=df_opts.symbol.map(iv_dict).fillna(df_opts.iv))\n",
    "\n",
    "# ... recompute sdMults\n",
    "df_opts = df_opts.assign(sdMult=calcsdmult_df(df_opts.strike, df_opts))\n",
    "\n",
    "# ... pad option margins with und_margins where it is not available\n",
    "no_margins = df_opts[df_opts.margin.isnull()].symbol.unique()\n",
    "mgn_dict = df_unds[df_unds.symbol.isin(no_margins)].set_index('symbol').margin.to_dict()\n",
    "df_opts = df_opts.assign(margin=df_opts.symbol.map(mgn_dict).fillna(df_opts.margin))\n",
    "\n",
    "# ... update df_opts with the latest undPrice\n",
    "und_price_dict = df_unds.set_index('symbol').undPrice.to_dict()\n",
    "df_opts = df_opts.assign(undPrice=df_opts.symbol.map(und_price_dict).fillna(df_opts.undPrice))\n",
    "\n",
    "# ... recalc intrinsic and time values\n",
    "df_opts = df_opts.assign(intrinsic=np.where(\n",
    "                df_opts.right == \"C\",\n",
    "                (df_opts.undPrice - df_opts.strike).clip(0, None),\n",
    "                (df_opts.strike - df_opts.undPrice).clip(0, None),\n",
    "                ))\n",
    "\n",
    "df_opts = df_opts.assign(timevalue=df_opts.price - df_opts.intrinsic)\n",
    "\n",
    "# ... recompute roms\n",
    "df_opts = df_opts.assign(rom = (df_opts.timevalue * df_opts.lot - df_opts.comm).clip(0) /\n",
    "            df_opts.margin * 365 / df_opts.dte)\n",
    "df_opts = df_opts.sort_values('rom', ascending=False).reset_index(drop=True)\n",
    "\n",
    "\n",
    "# * GET TARGETS\n",
    "# ... expected rom and sdMult mask\n",
    "m = (df_opts.rom > ibp.MINEXPROM) & np.where(df_opts.right == 'P', df_opts.sdMult > ibp.PUTSTDMULT, df_opts.sdMult > ibp.CALLSTDMULT)\n",
    "\n",
    "# ... right mask\n",
    "r = (df_opts.strike > df_opts.undPrice) & (df_opts.right == 'C') | (df_opts.strike < df_opts.undPrice) & (df_opts.right == 'P')\n",
    "df_opts1 = df_opts[m & r].sort_values(['right', 'strike'], ascending=[True, False])\n",
    "\n",
    "#.. add expPrice\n",
    "df_opts1['expPrice'] = df_opts1.price.clip(ibp.MINOPTSELLPRICE)"
   ]
  },
  {
   "cell_type": "code",
   "execution_count": null,
   "metadata": {},
   "outputs": [],
   "source": [
    "# SHOW UNIQUE SYMBOLS\n",
    "np.array(df_opts1.symbol.unique())"
   ]
  },
  {
   "cell_type": "code",
   "execution_count": null,
   "metadata": {},
   "outputs": [],
   "source": [
    "# CHECK SPECIFIC expPrice\n",
    "df_opts1.drop('contract', 1)[df_opts1.symbol == 'XSP'].sort_values('rom', ascending=False)"
   ]
  },
  {
   "cell_type": "code",
   "execution_count": null,
   "metadata": {},
   "outputs": [],
   "source": [
    "# CHANGE SPECIFIC expPrice\n",
    "df_opts1.loc[df_opts1.symbol == 'GPS', 'expPrice'] = 0.95"
   ]
  },
  {
   "cell_type": "code",
   "execution_count": null,
   "metadata": {},
   "outputs": [],
   "source": [
    "# ... check open ordes and remove them\n",
    "df_openords = get_openorders(MARKET)\n",
    "df1 = df_opts1[~df_opts1.conId.isin(df_openords.conId)].reset_index(drop=True)"
   ]
  },
  {
   "cell_type": "code",
   "execution_count": null,
   "metadata": {},
   "outputs": [],
   "source": [
    "# ... build the SELL orders\n",
    "contracts = df1.contract.to_list()\n",
    "orders = [LimitOrder(action='SELL', totalQuantity=abs(int(q)), lmtPrice=p) \n",
    "                        for q, p in zip(df1.qty, df1.expPrice)]\n",
    "\n",
    "cos = [(c, o) for c, o in zip(contracts, orders)]"
   ]
  },
  {
   "cell_type": "markdown",
   "metadata": {},
   "source": [
    "# Place the trades"
   ]
  },
  {
   "cell_type": "raw",
   "metadata": {},
   "source": [
    "%%time\n",
    "blks = 25\n",
    "\n",
    "co_blks = [cos[i: i+blks] for i in range(0, len(cos), blks)]\n",
    "\n",
    "trades = []\n",
    "\n",
    "with IB().connect(HOST, PORT, CID) as ib:\n",
    "\n",
    "    for b in co_blks:\n",
    "        for c, o in b:\n",
    "            td = ib.placeOrder(c, o)\n",
    "            trades.append(td)\n",
    "        ib.sleep(0.75)"
   ]
  }
 ],
 "metadata": {
  "kernelspec": {
   "display_name": "Python 3",
   "language": "python",
   "name": "python3"
  },
  "language_info": {
   "codemirror_mode": {
    "name": "ipython",
    "version": 3
   },
   "file_extension": ".py",
   "mimetype": "text/x-python",
   "name": "python",
   "nbconvert_exporter": "python",
   "pygments_lexer": "ipython3",
   "version": "3.8.6"
  }
 },
 "nbformat": 4,
 "nbformat_minor": 4
}
