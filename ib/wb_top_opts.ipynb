{
 "cells": [
  {
   "cell_type": "markdown",
   "metadata": {},
   "source": [
    "# Get top options with good `sdMult` and `rom`"
   ]
  },
  {
   "cell_type": "code",
   "execution_count": 1,
   "metadata": {},
   "outputs": [],
   "source": [
    "MARKET = 'NSE'"
   ]
  },
  {
   "cell_type": "code",
   "execution_count": 2,
   "metadata": {},
   "outputs": [],
   "source": [
    "import sys\n",
    "import pathlib\n",
    "import numpy as np\n",
    "import pandas as pd\n",
    "import yaml\n",
    "import asyncio\n",
    "\n",
    "from ib_insync import IB, util, Option, MarketOrder, Contract\n",
    "from typing import Callable, Coroutine, Union"
   ]
  },
  {
   "cell_type": "code",
   "execution_count": 3,
   "metadata": {},
   "outputs": [],
   "source": [
    "# Specific to Jupyter. Will be ignored in IDE / command-lines\n",
    "import IPython as ipy\n",
    "if ipy.get_ipython().__class__.__name__ == 'ZMQInteractiveShell':\n",
    "    import nest_asyncio\n",
    "    nest_asyncio.apply()\n",
    "    util.startLoop()\n",
    "    pd.options.display.max_columns = None\n",
    "    \n",
    "    THIS_FOLDER = '' # Dummy for jupyter notebook's current folder"
   ]
  },
  {
   "cell_type": "code",
   "execution_count": 4,
   "metadata": {},
   "outputs": [],
   "source": [
    "# Get capability to import programs from `asyncib` folder\n",
    "cwd = pathlib.Path.cwd() # working directory from where python was initiated\n",
    "DATAPATH = cwd.joinpath('data', MARKET.lower()) # path to store data files\n",
    "LOGFILE = DATAPATH.joinpath('temp.log') # path to store log files\n",
    "\n",
    "IBPATH = cwd.parent.parent.joinpath('asyncib') # where ib programs are stored\n",
    "\n",
    "# append IBPATH to import programs.\n",
    "if str(IBPATH) not in sys.path:  # Convert it to string!\n",
    "    sys.path.append(str(IBPATH))\n",
    "    \n",
    "IBDATAPATH = IBPATH.joinpath('data', MARKET.lower())"
   ]
  },
  {
   "cell_type": "code",
   "execution_count": 5,
   "metadata": {},
   "outputs": [],
   "source": [
    "# Get the host, port, cid\n",
    "from engine import Vars\n",
    "\n",
    "ibp = Vars(MARKET.upper())  # IB Parameters from var.yml\n",
    "HOST, PORT, CID = ibp.HOST, ibp.PORT, ibp.CID\n",
    "PAPER = ibp.PAPER"
   ]
  },
  {
   "cell_type": "code",
   "execution_count": 6,
   "metadata": {},
   "outputs": [
    {
     "data": {
      "text/plain": [
       "array(['df_chains.pkl', 'df_ohlcs.pkl', 'df_opts.pkl', 'df_symlots.pkl',\n",
       "       'df_und_margins.pkl', 'df_unds.pkl', 'qopts.pkl'], dtype='<U18')"
      ]
     },
     "execution_count": 6,
     "metadata": {},
     "output_type": "execute_result"
    }
   ],
   "source": [
    "# Get the pickle files\n",
    "from os import listdir\n",
    "fs = listdir(DATAPATH)\n",
    "\n",
    "files = [f for f in fs if f[-4:] == '.pkl']\n",
    "for f in files:\n",
    "    exec(f\"{f.split('.')[0]} = pd.read_pickle(DATAPATH.joinpath(f))\")\n",
    "np.sort(np.array(files))"
   ]
  },
  {
   "cell_type": "code",
   "execution_count": 11,
   "metadata": {},
   "outputs": [],
   "source": [
    "df = df_opts.sort_values('rom', ascending = False).drop(['contract'], 1)\n",
    "m = (df.rom > ibp.MINEXPROM) & (df.sdMult > 1.8)\n",
    "r = (df.strike > df.undPrice) & (df.right == 'C') | (df.strike < df.undPrice) & (df.right == 'P')\n",
    "df1 = df[m & r].sort_values(['right', 'strike'], ascending=[True, False])"
   ]
  },
  {
   "cell_type": "code",
   "execution_count": 13,
   "metadata": {},
   "outputs": [
    {
     "data": {
      "text/plain": [
       "array(['BOSCHLTD', 'HEROMOTOC', 'BAJAJ-AUT', 'TCS', 'COFORGE',\n",
       "       'ASIANPAIN', 'HINDUNILV', 'RELIANCE', 'INDIGO', 'ACC', 'PIDILITIN',\n",
       "       'BATAINDIA', 'PVR', 'MUTHOOTFI', 'LT', 'INFY', 'UBL', 'GODREJPRO',\n",
       "       'SRTRANSFI', 'RAMCOCEM', 'INDUSINDB', 'GRASIM', 'TECHM', 'HAVELLS',\n",
       "       'HCLTECH', 'VOLTAS', 'AXISBANK', 'GODREJCP', 'MCDOWELL-',\n",
       "       'ICICIBANK', 'DABUR', 'TATACONSU', 'CUMMINSIN', 'TVSMOTOR',\n",
       "       'BHARTIART', 'IGL', 'UPL', 'BPCL', 'ADANIPORT', 'MARICO',\n",
       "       'TATACHEM', 'WIPRO', 'JSWSTEEL', 'TORNTPOWE', 'AMBUJACEM', 'SBIN',\n",
       "       'ZEEL', 'DLF', 'POWERGRID', 'ITC', 'EXIDEIND', 'MMFIN',\n",
       "       'TATAMOTOR', 'COALINDIA', 'VEDL', 'RECLTD', 'PFC', 'BEL', 'NMDC',\n",
       "       'NTPC', 'IOC', 'LTFH', 'TATAPOWER', 'FEDERALBN', 'BHEL',\n",
       "       'NATIONALU', 'GMRINFRA', 'IDEA', 'MRF', 'BAJAJFINS', 'BAJFINANC',\n",
       "       'SIEMENS', 'PETRONET', 'IBULHSGFI'], dtype=object)"
      ]
     },
     "execution_count": 13,
     "metadata": {},
     "output_type": "execute_result"
    }
   ],
   "source": [
    "df1.symbol.unique()"
   ]
  },
  {
   "cell_type": "code",
   "execution_count": 15,
   "metadata": {},
   "outputs": [
    {
     "data": {
      "text/html": [
       "<div>\n",
       "<style scoped>\n",
       "    .dataframe tbody tr th:only-of-type {\n",
       "        vertical-align: middle;\n",
       "    }\n",
       "\n",
       "    .dataframe tbody tr th {\n",
       "        vertical-align: top;\n",
       "    }\n",
       "\n",
       "    .dataframe thead th {\n",
       "        text-align: right;\n",
       "    }\n",
       "</style>\n",
       "<table border=\"1\" class=\"dataframe\">\n",
       "  <thead>\n",
       "    <tr style=\"text-align: right;\">\n",
       "      <th></th>\n",
       "      <th>conId</th>\n",
       "      <th>symbol</th>\n",
       "      <th>strike</th>\n",
       "      <th>expiry</th>\n",
       "      <th>secType</th>\n",
       "      <th>right</th>\n",
       "      <th>lot</th>\n",
       "      <th>dte</th>\n",
       "      <th>und_iv</th>\n",
       "      <th>undPrice</th>\n",
       "      <th>comm</th>\n",
       "      <th>margin</th>\n",
       "      <th>bid</th>\n",
       "      <th>ask</th>\n",
       "      <th>close</th>\n",
       "      <th>last</th>\n",
       "      <th>iv</th>\n",
       "      <th>price</th>\n",
       "      <th>sdMult</th>\n",
       "      <th>qty</th>\n",
       "      <th>intrinsic</th>\n",
       "      <th>timevalue</th>\n",
       "      <th>rom</th>\n",
       "    </tr>\n",
       "  </thead>\n",
       "  <tbody>\n",
       "    <tr>\n",
       "      <th>4715</th>\n",
       "      <td>442413799</td>\n",
       "      <td>HEROMOTOC</td>\n",
       "      <td>3300.0</td>\n",
       "      <td>20201126</td>\n",
       "      <td>OPT</td>\n",
       "      <td>C</td>\n",
       "      <td>300.0</td>\n",
       "      <td>5</td>\n",
       "      <td>0.382835</td>\n",
       "      <td>2988.5</td>\n",
       "      <td>20.0</td>\n",
       "      <td>169858.32</td>\n",
       "      <td>-1.0</td>\n",
       "      <td>-1.0</td>\n",
       "      <td>9.90</td>\n",
       "      <td>NaN</td>\n",
       "      <td>0.382835</td>\n",
       "      <td>9.90</td>\n",
       "      <td>2.326241</td>\n",
       "      <td>300.0</td>\n",
       "      <td>0.0</td>\n",
       "      <td>9.90</td>\n",
       "      <td>1.267821</td>\n",
       "    </tr>\n",
       "    <tr>\n",
       "      <th>3448</th>\n",
       "      <td>442413790</td>\n",
       "      <td>HEROMOTOC</td>\n",
       "      <td>3250.0</td>\n",
       "      <td>20201126</td>\n",
       "      <td>OPT</td>\n",
       "      <td>C</td>\n",
       "      <td>300.0</td>\n",
       "      <td>5</td>\n",
       "      <td>0.382835</td>\n",
       "      <td>2988.5</td>\n",
       "      <td>20.0</td>\n",
       "      <td>187119.57</td>\n",
       "      <td>-1.0</td>\n",
       "      <td>-1.0</td>\n",
       "      <td>12.65</td>\n",
       "      <td>NaN</td>\n",
       "      <td>0.382835</td>\n",
       "      <td>12.65</td>\n",
       "      <td>1.952848</td>\n",
       "      <td>300.0</td>\n",
       "      <td>0.0</td>\n",
       "      <td>12.65</td>\n",
       "      <td>1.472721</td>\n",
       "    </tr>\n",
       "    <tr>\n",
       "      <th>6246</th>\n",
       "      <td>442413707</td>\n",
       "      <td>HEROMOTOC</td>\n",
       "      <td>2700.0</td>\n",
       "      <td>20201126</td>\n",
       "      <td>OPT</td>\n",
       "      <td>P</td>\n",
       "      <td>300.0</td>\n",
       "      <td>5</td>\n",
       "      <td>0.382835</td>\n",
       "      <td>2988.5</td>\n",
       "      <td>20.0</td>\n",
       "      <td>170165.81</td>\n",
       "      <td>-1.0</td>\n",
       "      <td>-1.0</td>\n",
       "      <td>8.50</td>\n",
       "      <td>NaN</td>\n",
       "      <td>0.382835</td>\n",
       "      <td>8.50</td>\n",
       "      <td>2.154480</td>\n",
       "      <td>300.0</td>\n",
       "      <td>0.0</td>\n",
       "      <td>8.50</td>\n",
       "      <td>1.085353</td>\n",
       "    </tr>\n",
       "  </tbody>\n",
       "</table>\n",
       "</div>"
      ],
      "text/plain": [
       "          conId     symbol  strike    expiry secType right    lot  dte  \\\n",
       "4715  442413799  HEROMOTOC  3300.0  20201126     OPT     C  300.0    5   \n",
       "3448  442413790  HEROMOTOC  3250.0  20201126     OPT     C  300.0    5   \n",
       "6246  442413707  HEROMOTOC  2700.0  20201126     OPT     P  300.0    5   \n",
       "\n",
       "        und_iv  undPrice  comm     margin  bid  ask  close  last        iv  \\\n",
       "4715  0.382835    2988.5  20.0  169858.32 -1.0 -1.0   9.90   NaN  0.382835   \n",
       "3448  0.382835    2988.5  20.0  187119.57 -1.0 -1.0  12.65   NaN  0.382835   \n",
       "6246  0.382835    2988.5  20.0  170165.81 -1.0 -1.0   8.50   NaN  0.382835   \n",
       "\n",
       "      price    sdMult    qty  intrinsic  timevalue       rom  \n",
       "4715   9.90  2.326241  300.0        0.0       9.90  1.267821  \n",
       "3448  12.65  1.952848  300.0        0.0      12.65  1.472721  \n",
       "6246   8.50  2.154480  300.0        0.0       8.50  1.085353  "
      ]
     },
     "execution_count": 15,
     "metadata": {},
     "output_type": "execute_result"
    }
   ],
   "source": [
    "df1[df1.symbol == 'HEROMOTOC']"
   ]
  },
  {
   "cell_type": "code",
   "execution_count": 16,
   "metadata": {},
   "outputs": [
    {
     "data": {
      "text/plain": [
       "0.9281393617741486"
      ]
     },
     "execution_count": 16,
     "metadata": {},
     "output_type": "execute_result"
    }
   ],
   "source": [
    "from support import get_prob\n",
    "get_prob(1.8)"
   ]
  }
 ],
 "metadata": {
  "kernelspec": {
   "display_name": "Python 3",
   "language": "python",
   "name": "python3"
  },
  "language_info": {
   "codemirror_mode": {
    "name": "ipython",
    "version": 3
   },
   "file_extension": ".py",
   "mimetype": "text/x-python",
   "name": "python",
   "nbconvert_exporter": "python",
   "pygments_lexer": "ipython3",
   "version": "3.8.6"
  }
 },
 "nbformat": 4,
 "nbformat_minor": 4
}
