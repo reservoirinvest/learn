{
 "cells": [
  {
   "cell_type": "code",
   "execution_count": 1,
   "metadata": {},
   "outputs": [],
   "source": [
    "MARKET = 'SNP'"
   ]
  },
  {
   "cell_type": "code",
   "execution_count": 2,
   "metadata": {},
   "outputs": [],
   "source": [
    "import sys\n",
    "import pathlib\n",
    "import numpy as np\n",
    "import pandas as pd\n",
    "import yaml\n",
    "import asyncio\n",
    "\n",
    "from ib_insync import IB, util, Option, MarketOrder, Contract\n",
    "from typing import Callable, Coroutine, Union"
   ]
  },
  {
   "cell_type": "code",
   "execution_count": 3,
   "metadata": {},
   "outputs": [],
   "source": [
    "# Specific to Jupyter. Will be ignored in IDE / command-lines\n",
    "import IPython as ipy\n",
    "if ipy.get_ipython().__class__.__name__ == 'ZMQInteractiveShell':\n",
    "    import nest_asyncio\n",
    "    nest_asyncio.apply()\n",
    "    util.startLoop()\n",
    "    pd.options.display.max_columns = None\n",
    "    \n",
    "    THIS_FOLDER = '' # Dummy for jupyter notebook's current folder"
   ]
  },
  {
   "cell_type": "code",
   "execution_count": 4,
   "metadata": {},
   "outputs": [],
   "source": [
    "# Get capability to import programs from `asyncib` folder\n",
    "cwd = pathlib.Path.cwd() # working directory from where python was initiated\n",
    "DATAPATH = cwd.joinpath('data', MARKET.lower()) # path to store data files\n",
    "LOGFILE = DATAPATH.joinpath('temp.log') # path to store log files\n",
    "\n",
    "IBPATH = cwd.parent.parent.joinpath('asyncib') # where ib programs are stored\n",
    "\n",
    "# append IBPATH to import programs.\n",
    "if str(IBPATH) not in sys.path:  # Convert it to string!\n",
    "    sys.path.append(str(IBPATH))\n",
    "    \n",
    "IBDATAPATH = IBPATH.joinpath('data', MARKET.lower())"
   ]
  },
  {
   "cell_type": "code",
   "execution_count": 5,
   "metadata": {},
   "outputs": [],
   "source": [
    "# Get the host, port, cid\n",
    "from engine import Vars\n",
    "\n",
    "ibp = Vars(MARKET.upper())  # IB Parameters from var.yml\n",
    "HOST, PORT, CID = ibp.HOST, ibp.PORT, ibp.CID"
   ]
  },
  {
   "cell_type": "code",
   "execution_count": 6,
   "metadata": {},
   "outputs": [
    {
     "data": {
      "text/plain": [
       "array(['df_chains.pkl', 'df_fresh.pkl', 'df_ohlcs.pkl', 'df_symlots.pkl',\n",
       "       'df_und_margins.pkl', 'df_unds.pkl', 'dfrq.pkl', 'qopts.pkl',\n",
       "       'z_new_qopts_temp.pkl'], dtype='<U20')"
      ]
     },
     "execution_count": 6,
     "metadata": {},
     "output_type": "execute_result"
    }
   ],
   "source": [
    "# Get the pickle files\n",
    "from os import listdir\n",
    "fs = listdir(DATAPATH)\n",
    "\n",
    "files = [f for f in fs if f[-4:] == '.pkl']\n",
    "for f in files:\n",
    "    exec(f\"{f.split('.')[0]} = pd.read_pickle(DATAPATH.joinpath(f))\")\n",
    "np.sort(np.array(files))"
   ]
  },
  {
   "cell_type": "markdown",
   "metadata": {},
   "source": [
    "# Engine to-do"
   ]
  },
  {
   "cell_type": "code",
   "execution_count": null,
   "metadata": {},
   "outputs": [],
   "source": [
    "from engine import get_market"
   ]
  },
  {
   "cell_type": "code",
   "execution_count": null,
   "metadata": {},
   "outputs": [],
   "source": [
    "MARKET = get_market()"
   ]
  },
  {
   "cell_type": "code",
   "execution_count": null,
   "metadata": {},
   "outputs": [],
   "source": [
    "def get_market_action(MARKET: str) -> None:\n",
    "    \n",
    "    # Check if paper or live is needed\n",
    "    paper_ip = input(\"\\nShould Engine run on `Paper`? (Y/N) \").lower()\n",
    "    if paper_ip == \"y\":\n",
    "        RUN_ON_PAPER = True\n",
    "    else:\n",
    "        RUN_ON_PAPER = False\n",
    "        \n",
    "    # Check if existing pickles need to be deleted\n",
    "    delete_ip = input(\"\\n\\nDelete Engine pickles? (Y/N) \").lower()\n",
    "    if delete_ip == \"y\":\n",
    "        DELETE_PICKLES = True\n",
    "    else:\n",
    "        DELETE_PICKLES = False\n",
    "        \n",
    "    # Check what needs to be done\n",
    "    todo_dict = {0: 'quit', 1: f'all_{MARKET}', 2: f'{MARKET}_base', \n",
    "                 3: f'{MARKET}_symlots', 4: f'{MARKET}_ohlcs', \n",
    "                 5: f'{MARKET}_unds', 6: f'{MARKET}_chains', \n",
    "                 7: f'{MARKET}_qualopts', 8: f'{MARKET}_opt_prices',\n",
    "                 9: f'{MARKET}_opt_margins'}\n",
    "    \n",
    "    todo_ip = f\"What is to be done for {MARKET}? Choose from following numbers:\\n\"\n",
    "    \n",
    "\n",
    "    mktodo_range = list(range(len(todo_dict)))\n",
    "    mktodo = f\"What is to be done for {MARKET}? Choose from following numbers:\\n\"\n",
    "    mktodo = mktodo + \"\\n0)  Quit this program!!!\\n\\n\"\n",
    "    mktodo = mktodo + \"1)  Build from scratch. Run the entire Engine\\n\"\n",
    "    mktodo = mktodo + \"2)  Get only the base (df_symlots, df_unds, df_ohlcs, df_chains)\\n\"\n",
    "    mktodo = mktodo + \"3)  Get symbols with lots\\n\"\n",
    "    mktodo = mktodo + \"4)  Get OHLCs\\n\"\n",
    "    mktodo = mktodo + \"5)  Get underlyings\\n\"\n",
    "    mktodo = mktodo + \"6)  Get chains\\n\"\n",
    "    mktodo = mktodo + \"7)  Qualify options\\n\"\n",
    "    mktodo = mktodo + \"8)  Get all qualified option prices\\n\"\n",
    "    mktodo = mktodo + \"9)  Get all qualified option margins\\n\"\n",
    "\n",
    "    mktodo = mktodo + '\\n' + \"-\" * 70 + '\\n'\n",
    "\n",
    "    if MARKET == 'NSE':\n",
    "        mktodo = mktodo + \"10)  Build trades for Capstocks\\n\"\n",
    "\n",
    "    mktodo = mktodo + '\\n' + \"=\" * 70 + '\\n'\n",
    "\n",
    "    mktodo = mktodo + \"\\n11) Execute selected trades\\n\"\n",
    "    mktodo = mktodo + \"\\n12) Delete all files\\n\"\n",
    "\n",
    "    mktodo = mktodo + \"\\n\"    \n",
    "    \n",
    "    "
   ]
  },
  {
   "cell_type": "markdown",
   "metadata": {},
   "source": [
    "# Analysing fresh\n",
    "## Build fresh"
   ]
  },
  {
   "cell_type": "code",
   "execution_count": null,
   "metadata": {},
   "outputs": [],
   "source": [
    "# Ask and Run fresh\n",
    "from fresh import get_fresh\n",
    "\n",
    "THIS_FOLDER = ''\n",
    "ip = input(\"Do you want to run Fresh (Y/N)?\")\n",
    "if ip.upper() == \"Y\":\n",
    "    df_fresh = get_fresh(MARKET)\n",
    "else:\n",
    "    df_fresh = pd.read_pickle(DATAPATH.joinpath(THIS_FOLDER, 'df_fresh.pkl'))"
   ]
  },
  {
   "cell_type": "code",
   "execution_count": null,
   "metadata": {},
   "outputs": [],
   "source": [
    "cols = ['symbol', 'strike', 'right', 'expiry', 'dte', \n",
    "        'margin', 'bid', 'ask', 'iv', 'und_iv','price', 'lot', 'comm', 'rom', 'sdMult', 'expRom', 'expPrice', 'qty']\n",
    "df = df_fresh[df_fresh.price>0][cols].sort_values('rom', ascending=False)"
   ]
  },
  {
   "cell_type": "code",
   "execution_count": null,
   "metadata": {},
   "outputs": [],
   "source": [
    "# How many nakeds have rom higher than 80% of expRom\n",
    "df[df.rom >= df.expRom*0.8].sort_values('sdMult')"
   ]
  },
  {
   "cell_type": "code",
   "execution_count": null,
   "metadata": {},
   "outputs": [],
   "source": []
  }
 ],
 "metadata": {
  "kernelspec": {
   "display_name": "Python 3",
   "language": "python",
   "name": "python3"
  },
  "language_info": {
   "codemirror_mode": {
    "name": "ipython",
    "version": 3
   },
   "file_extension": ".py",
   "mimetype": "text/x-python",
   "name": "python",
   "nbconvert_exporter": "python",
   "pygments_lexer": "ipython3",
   "version": "3.8.6"
  }
 },
 "nbformat": 4,
 "nbformat_minor": 4
}
