{
 "cells": [
  {
   "cell_type": "markdown",
   "metadata": {},
   "source": [
    "# Experiments on getting prices\n",
    "* As quickly as possible!\n",
    "\n",
    "# Findings\n",
    "* When market is `open`:\n",
    "    - use `executeAsync` from engine with `price` coro to get prices\n",
    "    - this is fast\n",
    "* When market is `closed`:\n",
    "    - use `ba_async` to get a df of bid-ask-last price\n",
    "    - this is slow. So data should be trimmed appropriately!\n"
   ]
  },
  {
   "cell_type": "code",
   "execution_count": 1,
   "metadata": {},
   "outputs": [],
   "source": [
    "import pathlib\n",
    "import datetime\n",
    "import pandas as pd\n",
    "import numpy as np\n",
    "import asyncio\n",
    "\n",
    "from ib_insync import IB, Stock, Contract, util\n",
    "\n",
    "from collections import defaultdict\n",
    "from tqdm import tqdm\n",
    "from datetime import datetime, timedelta\n",
    "\n",
    "from engine import Vars"
   ]
  },
  {
   "cell_type": "code",
   "execution_count": 2,
   "metadata": {},
   "outputs": [],
   "source": [
    "util.startLoop()"
   ]
  },
  {
   "cell_type": "code",
   "execution_count": 48,
   "metadata": {},
   "outputs": [],
   "source": [
    "# * INPUTS\n",
    "MARKET = 'SNP'\n",
    "SYMBOL = 'TSLA'\n",
    "DTE = 10"
   ]
  },
  {
   "cell_type": "code",
   "execution_count": 49,
   "metadata": {},
   "outputs": [],
   "source": [
    "# * SETTINGS\n",
    "ibp = Vars(MARKET.upper())  # IB Parameters from var.yml\n",
    "locals().update(ibp.__dict__)\n",
    "\n",
    "# set and empty log file\n",
    "logf = pathlib.Path.cwd().joinpath('data', 'log', 'temp.log')\n",
    "util.logToFile(path=logf, level=30)\n",
    "with open(logf, \"w\"):\n",
    "    pass\n",
    "\n",
    "datapath = pathlib.Path.cwd().joinpath('data', MARKET.lower())"
   ]
  },
  {
   "cell_type": "code",
   "execution_count": 50,
   "metadata": {},
   "outputs": [
    {
     "name": "stderr",
     "output_type": "stream",
     "text": [
      "  0%|                                                                                          | 0/2 [1:04:06<?, ?it/s]\n"
     ]
    }
   ],
   "source": [
    "df_opts = pd.read_pickle(datapath.joinpath('df_opts.pkl'))\n",
    "df_unds = pd.read_pickle(datapath.joinpath('df_unds.pkl'))\n",
    "df_chains = pd.read_pickle(datapath.joinpath('df_chains.pkl'))"
   ]
  },
  {
   "cell_type": "markdown",
   "metadata": {},
   "source": [
    "## Preparing contracts\n",
    "### Nearest DTE contracts - sorted by strikeDelta"
   ]
  },
  {
   "cell_type": "code",
   "execution_count": 51,
   "metadata": {},
   "outputs": [
    {
     "name": "stdout",
     "output_type": "stream",
     "text": [
      "\n",
      "Length of df_dte is: 218\n"
     ]
    },
    {
     "data": {
      "text/html": [
       "<div>\n",
       "<style scoped>\n",
       "    .dataframe tbody tr th:only-of-type {\n",
       "        vertical-align: middle;\n",
       "    }\n",
       "\n",
       "    .dataframe tbody tr th {\n",
       "        vertical-align: top;\n",
       "    }\n",
       "\n",
       "    .dataframe thead th {\n",
       "        text-align: right;\n",
       "    }\n",
       "</style>\n",
       "<table border=\"1\" class=\"dataframe\">\n",
       "  <thead>\n",
       "    <tr style=\"text-align: right;\">\n",
       "      <th></th>\n",
       "      <th>symbol</th>\n",
       "      <th>dte</th>\n",
       "      <th>strike</th>\n",
       "      <th>expiry</th>\n",
       "      <th>secType</th>\n",
       "      <th>conId</th>\n",
       "      <th>right</th>\n",
       "      <th>contract</th>\n",
       "      <th>lot</th>\n",
       "      <th>und_iv</th>\n",
       "      <th>undPrice</th>\n",
       "      <th>fall</th>\n",
       "      <th>rise</th>\n",
       "      <th>rsi</th>\n",
       "    </tr>\n",
       "  </thead>\n",
       "  <tbody>\n",
       "    <tr>\n",
       "      <th>107322</th>\n",
       "      <td>TSLA</td>\n",
       "      <td>5</td>\n",
       "      <td>695.0</td>\n",
       "      <td>20210108</td>\n",
       "      <td>OPT</td>\n",
       "      <td>461170870</td>\n",
       "      <td>C</td>\n",
       "      <td>Option(conId=461170870, symbol='TSLA', lastTra...</td>\n",
       "      <td>100</td>\n",
       "      <td>0.658888</td>\n",
       "      <td>694.78</td>\n",
       "      <td>172.61</td>\n",
       "      <td>120.43</td>\n",
       "      <td>68.952786</td>\n",
       "    </tr>\n",
       "    <tr>\n",
       "      <th>107321</th>\n",
       "      <td>TSLA</td>\n",
       "      <td>5</td>\n",
       "      <td>695.0</td>\n",
       "      <td>20210108</td>\n",
       "      <td>OPT</td>\n",
       "      <td>461170891</td>\n",
       "      <td>P</td>\n",
       "      <td>Option(conId=461170891, symbol='TSLA', lastTra...</td>\n",
       "      <td>100</td>\n",
       "      <td>0.658888</td>\n",
       "      <td>694.78</td>\n",
       "      <td>172.61</td>\n",
       "      <td>120.43</td>\n",
       "      <td>68.952786</td>\n",
       "    </tr>\n",
       "    <tr>\n",
       "      <th>107319</th>\n",
       "      <td>TSLA</td>\n",
       "      <td>5</td>\n",
       "      <td>690.0</td>\n",
       "      <td>20210108</td>\n",
       "      <td>OPT</td>\n",
       "      <td>458060071</td>\n",
       "      <td>P</td>\n",
       "      <td>Option(conId=458060071, symbol='TSLA', lastTra...</td>\n",
       "      <td>100</td>\n",
       "      <td>0.658888</td>\n",
       "      <td>694.78</td>\n",
       "      <td>172.61</td>\n",
       "      <td>120.43</td>\n",
       "      <td>68.952786</td>\n",
       "    </tr>\n",
       "    <tr>\n",
       "      <th>107320</th>\n",
       "      <td>TSLA</td>\n",
       "      <td>5</td>\n",
       "      <td>690.0</td>\n",
       "      <td>20210108</td>\n",
       "      <td>OPT</td>\n",
       "      <td>458059907</td>\n",
       "      <td>C</td>\n",
       "      <td>Option(conId=458059907, symbol='TSLA', lastTra...</td>\n",
       "      <td>100</td>\n",
       "      <td>0.658888</td>\n",
       "      <td>694.78</td>\n",
       "      <td>172.61</td>\n",
       "      <td>120.43</td>\n",
       "      <td>68.952786</td>\n",
       "    </tr>\n",
       "    <tr>\n",
       "      <th>107324</th>\n",
       "      <td>TSLA</td>\n",
       "      <td>5</td>\n",
       "      <td>700.0</td>\n",
       "      <td>20210108</td>\n",
       "      <td>OPT</td>\n",
       "      <td>458059913</td>\n",
       "      <td>C</td>\n",
       "      <td>Option(conId=458059913, symbol='TSLA', lastTra...</td>\n",
       "      <td>100</td>\n",
       "      <td>0.658888</td>\n",
       "      <td>694.78</td>\n",
       "      <td>172.61</td>\n",
       "      <td>120.43</td>\n",
       "      <td>68.952786</td>\n",
       "    </tr>\n",
       "  </tbody>\n",
       "</table>\n",
       "</div>"
      ],
      "text/plain": [
       "       symbol  dte  strike    expiry secType      conId right  \\\n",
       "107322   TSLA    5   695.0  20210108     OPT  461170870     C   \n",
       "107321   TSLA    5   695.0  20210108     OPT  461170891     P   \n",
       "107319   TSLA    5   690.0  20210108     OPT  458060071     P   \n",
       "107320   TSLA    5   690.0  20210108     OPT  458059907     C   \n",
       "107324   TSLA    5   700.0  20210108     OPT  458059913     C   \n",
       "\n",
       "                                                 contract  lot    und_iv  \\\n",
       "107322  Option(conId=461170870, symbol='TSLA', lastTra...  100  0.658888   \n",
       "107321  Option(conId=461170891, symbol='TSLA', lastTra...  100  0.658888   \n",
       "107319  Option(conId=458060071, symbol='TSLA', lastTra...  100  0.658888   \n",
       "107320  Option(conId=458059907, symbol='TSLA', lastTra...  100  0.658888   \n",
       "107324  Option(conId=458059913, symbol='TSLA', lastTra...  100  0.658888   \n",
       "\n",
       "        undPrice    fall    rise        rsi  \n",
       "107322    694.78  172.61  120.43  68.952786  \n",
       "107321    694.78  172.61  120.43  68.952786  \n",
       "107319    694.78  172.61  120.43  68.952786  \n",
       "107320    694.78  172.61  120.43  68.952786  \n",
       "107324    694.78  172.61  120.43  68.952786  "
      ]
     },
     "execution_count": 51,
     "metadata": {},
     "output_type": "execute_result"
    }
   ],
   "source": [
    "df_sym = df_opts[df_opts.symbol == SYMBOL] # filter symbol\n",
    "df_dte = df_sym[df_sym.dte == df_sym.dte.unique().min()] # filter dte\n",
    "\n",
    "# sort from strike nearest to undPrice to farthest\n",
    "df_dte = df_dte.iloc[abs(df_dte.strike-df_dte.undPrice.iloc[0]).argsort()]\n",
    "contracts = df_dte.contract.unique()\n",
    "\n",
    "contracts = contracts[:200] # !!! DATA LIMITER\n",
    "\n",
    "print(f\"\\nLength of df_dte is: {len(df_dte)}\")\n",
    "\n",
    "df_dte.head()"
   ]
  },
  {
   "cell_type": "markdown",
   "metadata": {},
   "source": [
    "### Option strike closest to underlying"
   ]
  },
  {
   "cell_type": "code",
   "execution_count": 52,
   "metadata": {},
   "outputs": [
    {
     "data": {
      "text/html": [
       "<div>\n",
       "<style scoped>\n",
       "    .dataframe tbody tr th:only-of-type {\n",
       "        vertical-align: middle;\n",
       "    }\n",
       "\n",
       "    .dataframe tbody tr th {\n",
       "        vertical-align: top;\n",
       "    }\n",
       "\n",
       "    .dataframe thead th {\n",
       "        text-align: right;\n",
       "    }\n",
       "</style>\n",
       "<table border=\"1\" class=\"dataframe\">\n",
       "  <thead>\n",
       "    <tr style=\"text-align: right;\">\n",
       "      <th></th>\n",
       "      <th>symbol</th>\n",
       "      <th>dte</th>\n",
       "      <th>strike</th>\n",
       "      <th>expiry</th>\n",
       "      <th>secType</th>\n",
       "      <th>conId</th>\n",
       "      <th>right</th>\n",
       "      <th>contract</th>\n",
       "      <th>lot</th>\n",
       "      <th>und_iv</th>\n",
       "      <th>undPrice</th>\n",
       "      <th>fall</th>\n",
       "      <th>rise</th>\n",
       "      <th>rsi</th>\n",
       "    </tr>\n",
       "  </thead>\n",
       "  <tbody>\n",
       "    <tr>\n",
       "      <th>107322</th>\n",
       "      <td>TSLA</td>\n",
       "      <td>5</td>\n",
       "      <td>695.0</td>\n",
       "      <td>20210108</td>\n",
       "      <td>OPT</td>\n",
       "      <td>461170870</td>\n",
       "      <td>C</td>\n",
       "      <td>Option(conId=461170870, symbol='TSLA', lastTra...</td>\n",
       "      <td>100</td>\n",
       "      <td>0.658888</td>\n",
       "      <td>694.78</td>\n",
       "      <td>172.61</td>\n",
       "      <td>120.43</td>\n",
       "      <td>68.952786</td>\n",
       "    </tr>\n",
       "  </tbody>\n",
       "</table>\n",
       "</div>"
      ],
      "text/plain": [
       "       symbol  dte  strike    expiry secType      conId right  \\\n",
       "107322   TSLA    5   695.0  20210108     OPT  461170870     C   \n",
       "\n",
       "                                                 contract  lot    und_iv  \\\n",
       "107322  Option(conId=461170870, symbol='TSLA', lastTra...  100  0.658888   \n",
       "\n",
       "        undPrice    fall    rise        rsi  \n",
       "107322    694.78  172.61  120.43  68.952786  "
      ]
     },
     "execution_count": 52,
     "metadata": {},
     "output_type": "execute_result"
    }
   ],
   "source": [
    "df1 = df_dte[:1]\n",
    "contract = df1.contract.iloc[0]\n",
    "\n",
    "df1"
   ]
  },
  {
   "cell_type": "markdown",
   "metadata": {},
   "source": [
    "# Getting prices"
   ]
  },
  {
   "cell_type": "markdown",
   "metadata": {},
   "source": [
    "## A) Mix of historical and real-time prices"
   ]
  },
  {
   "cell_type": "markdown",
   "metadata": {},
   "source": [
    "- Using a mix of `reqHistoricalTicks` and `reqMktData`"
   ]
  },
  {
   "cell_type": "markdown",
   "metadata": {},
   "source": [
    "### a) Multiple contracts using custom async def"
   ]
  },
  {
   "cell_type": "code",
   "execution_count": 88,
   "metadata": {},
   "outputs": [],
   "source": [
    "from collections import namedtuple\n",
    "from engine import price\n",
    "from support import get_prec\n",
    "\n",
    "async def qpCoro(ib: IB, contract: Contract, **kwargs) -> pd.DataFrame:\n",
    "    \"\"\"Coroutine for quick price from market | history\"\"\"\n",
    "    \n",
    "    try:\n",
    "        FILL_DELAY = kwargs[\"FILL_DELAY\"]\n",
    "    except KeyError as ke:\n",
    "        print(\n",
    "            f\"\\nWarning: No FILL_DELAY supplied! 5.5 second default is taken\\n\"\n",
    "        )\n",
    "        FILL_DELAY = 5.5\n",
    "    \n",
    "    if isinstance(contract, tuple):\n",
    "        contract = contract[0]\n",
    "    \n",
    "    df_mktpr = await price(ib, contract, **kwargs)\n",
    "    \n",
    "    async def histCoro():\n",
    "        \n",
    "        result = defaultdict(dict)\n",
    "        \n",
    "        try:\n",
    "            ticks = await asyncio.wait_for(ib.reqHistoricalTicksAsync(\n",
    "                            contract=contract,\n",
    "                            startDateTime=\"\",\n",
    "                            endDateTime=datetime.now(),\n",
    "                            numberOfTicks=1,\n",
    "                            whatToShow=\"Bid_Ask\",\n",
    "                            useRth=False,\n",
    "                            ignoreSize=False), timeout=None)\n",
    "\n",
    "        except asyncio.TimeoutError:\n",
    "            tick = namedtuple('tick', ['time', 'priceBid', 'priceAsk'])\n",
    "            ticks = [tick(time=pd.NaT, priceBid=np.nan, priceAsk=np.nan)]\n",
    "\n",
    "        # extract bid and ask price, if available!\n",
    "        try:\n",
    "            bid_ask = ticks[-1]  # bid ask is not availble for Index securities!\n",
    "            result[\"bid\"] = bid_ask.priceBid\n",
    "            result[\"ask\"] = bid_ask.priceAsk\n",
    "            result[\"batime\"] = bid_ask.time\n",
    "\n",
    "        except IndexError:\n",
    "            result[\"bid\"] = np.nan\n",
    "            result[\"ask\"] = np.nan\n",
    "            result[\"batime\"] = pd.NaT\n",
    "        \n",
    "        return result\n",
    "    \n",
    "    # bid/ask with -1.0 as market is not open\n",
    "    if (df_mktpr.bid.iloc[0] == -1.0) or (df_mktpr.ask.iloc[0] == -1.0):\n",
    "        result = await histCoro()\n",
    "        \n",
    "        df_pr = df_mktpr.assign(batime = result['batime'],\n",
    "                    bid = result['bid'],\n",
    "                    ask = result['ask'])\n",
    "    else:\n",
    "        df_mktpr['batime'] = df_mktpr['time']\n",
    "        df_pr = df_mktpr\n",
    "        \n",
    "    # use bid-ask avg if last price is not available\n",
    "    df_pr = df_pr.assign(price=df_pr[\"last\"]\\\n",
    "                 .combine_first(df_pr[[\"bid\", \"ask\"]]\\\n",
    "                 .mean(axis=1)))\n",
    "    \n",
    "    df_pr = df_pr.sort_values(['right', 'strike'], ascending=[True, False])\n",
    "    \n",
    "    return df_pr\n"
   ]
  },
  {
   "cell_type": "code",
   "execution_count": 89,
   "metadata": {},
   "outputs": [],
   "source": [
    "async def qpAsync(ib:IB, contracts, **kwargs) -> pd.DataFrame:\n",
    "    \"\"\"Quick Price with bid-ask for a number of contracts\"\"\"\n",
    "    \n",
    "    if hasattr(contracts, '__iter__'):\n",
    "        tasks = [qpCoro(ib=ib, contract=contract, **kwargs) for contract in contracts]\n",
    "    else:\n",
    "        tasks = [qpCoro(ib=ib, contract=contracts, **kwargs)]\n",
    "        \n",
    "    df_prs = [await res for res in tqdm(asyncio.as_completed(tasks), total=len(tasks))]\n",
    "    df = pd.concat(df_prs, ignore_index=True)\n",
    "    return df"
   ]
  },
  {
   "cell_type": "code",
   "execution_count": 90,
   "metadata": {},
   "outputs": [
    {
     "name": "stderr",
     "output_type": "stream",
     "text": [
      "\n",
      "\n",
      "\n",
      "\n",
      "  0%|                                                                                            | 0/5 [00:00<?, ?it/s]\u001b[A\u001b[A\u001b[A\u001b[A\n",
      "\n",
      "\n",
      "\n",
      "100%|████████████████████████████████████████████████████████████████████████████████████| 5/5 [00:06<00:00,  1.30s/it]\u001b[A\u001b[A\u001b[A\u001b[A\n"
     ]
    }
   ],
   "source": [
    "with IB().connect(HOST, PORT, CID) as ib:\n",
    "    df_pr = ib.run(qpAsync(ib, contracts, **{'FILL_DELAY': 5.5}))\n",
    "    ib.disconnect()"
   ]
  },
  {
   "cell_type": "markdown",
   "metadata": {},
   "source": [
    "### b) Single contract"
   ]
  },
  {
   "cell_type": "code",
   "execution_count": 91,
   "metadata": {},
   "outputs": [
    {
     "name": "stderr",
     "output_type": "stream",
     "text": [
      "\n",
      "\n",
      "\n",
      "\n",
      "  0%|                                                                                            | 0/1 [00:00<?, ?it/s]\u001b[A\u001b[A\u001b[A\u001b[A\n",
      "\n",
      "\n",
      "\n",
      "100%|████████████████████████████████████████████████████████████████████████████████████| 1/1 [00:06<00:00,  6.26s/it]\u001b[A\u001b[A\u001b[A\u001b[A"
     ]
    },
    {
     "name": "stdout",
     "output_type": "stream",
     "text": [
      "Wall time: 6.33 s\n"
     ]
    },
    {
     "name": "stderr",
     "output_type": "stream",
     "text": [
      "\n"
     ]
    }
   ],
   "source": [
    "%%time\n",
    "with IB().connect(HOST, PORT, CID) as ib:\n",
    "    df_pr = ib.run(qpAsync(ib=ib, contracts = contract, **{'FILL_DELAY': 5.5}))"
   ]
  },
  {
   "cell_type": "code",
   "execution_count": 92,
   "metadata": {},
   "outputs": [
    {
     "data": {
      "text/html": [
       "<div>\n",
       "<style scoped>\n",
       "    .dataframe tbody tr th:only-of-type {\n",
       "        vertical-align: middle;\n",
       "    }\n",
       "\n",
       "    .dataframe tbody tr th {\n",
       "        vertical-align: top;\n",
       "    }\n",
       "\n",
       "    .dataframe thead th {\n",
       "        text-align: right;\n",
       "    }\n",
       "</style>\n",
       "<table border=\"1\" class=\"dataframe\">\n",
       "  <thead>\n",
       "    <tr style=\"text-align: right;\">\n",
       "      <th></th>\n",
       "      <th>secType</th>\n",
       "      <th>conId</th>\n",
       "      <th>symbol</th>\n",
       "      <th>expiry</th>\n",
       "      <th>strike</th>\n",
       "      <th>right</th>\n",
       "      <th>localSymbol</th>\n",
       "      <th>contract</th>\n",
       "      <th>time</th>\n",
       "      <th>greeks</th>\n",
       "      <th>bid</th>\n",
       "      <th>ask</th>\n",
       "      <th>close</th>\n",
       "      <th>last</th>\n",
       "      <th>price</th>\n",
       "      <th>iv</th>\n",
       "      <th>batime</th>\n",
       "    </tr>\n",
       "  </thead>\n",
       "  <tbody>\n",
       "    <tr>\n",
       "      <th>0</th>\n",
       "      <td>OPT</td>\n",
       "      <td>461170870</td>\n",
       "      <td>TSLA</td>\n",
       "      <td>20210108</td>\n",
       "      <td>695.0</td>\n",
       "      <td>C</td>\n",
       "      <td>TSLA  210108C00695000</td>\n",
       "      <td>Option(conId=461170870, symbol='TSLA', lastTra...</td>\n",
       "      <td>2021-01-05 07:43:27.374591+00:00</td>\n",
       "      <td>None</td>\n",
       "      <td>42.05</td>\n",
       "      <td>42.85</td>\n",
       "      <td>42.55</td>\n",
       "      <td>NaN</td>\n",
       "      <td>42.45</td>\n",
       "      <td>NaN</td>\n",
       "      <td>2021-01-04 20:59:59+00:00</td>\n",
       "    </tr>\n",
       "  </tbody>\n",
       "</table>\n",
       "</div>"
      ],
      "text/plain": [
       "  secType      conId symbol    expiry  strike right            localSymbol  \\\n",
       "0     OPT  461170870   TSLA  20210108   695.0     C  TSLA  210108C00695000   \n",
       "\n",
       "                                            contract  \\\n",
       "0  Option(conId=461170870, symbol='TSLA', lastTra...   \n",
       "\n",
       "                              time greeks    bid    ask  close  last  price  \\\n",
       "0 2021-01-05 07:43:27.374591+00:00   None  42.05  42.85  42.55   NaN  42.45   \n",
       "\n",
       "   iv                    batime  \n",
       "0 NaN 2021-01-04 20:59:59+00:00  "
      ]
     },
     "execution_count": 92,
     "metadata": {},
     "output_type": "execute_result"
    }
   ],
   "source": [
    "df_pr"
   ]
  },
  {
   "cell_type": "markdown",
   "metadata": {},
   "source": [
    "## B) Only From Market data\n",
    "### 1) Engine price\n",
    "#### a) Single contract - with 8 second fill delay"
   ]
  },
  {
   "cell_type": "code",
   "execution_count": null,
   "metadata": {},
   "outputs": [],
   "source": [
    "%%time\n",
    "from engine import price\n",
    "\n",
    "with IB().connect(HOST, PORT, CID) as ib:\n",
    "    df = ib.run(price(ib, contract, **{'FILL_DELAY': 8}))\n",
    "\n",
    "df"
   ]
  },
  {
   "cell_type": "markdown",
   "metadata": {},
   "source": [
    "#### b) Multiple contracts - with 8 second fill delay\n",
    "* Takes about 10 seconds for 200 prices\n",
    "* **`NOTE:`**\n",
    "    - should be used only when the market is open\n",
    "    - only gives `last` price, when the market is closed!\n",
    "    - this `last` price is not accurate."
   ]
  },
  {
   "cell_type": "code",
   "execution_count": null,
   "metadata": {},
   "outputs": [],
   "source": [
    "%%time\n",
    "from engine import price, pre_process, make_name, executeAsync, post_df\n",
    "\n",
    "with IB().connect(HOST, PAPER, CID) as ib:\n",
    "    \n",
    "    ib.client.setConnectOptions('+PACEAPI')\n",
    "    \n",
    "    df = ib.run(\n",
    "            executeAsync(\n",
    "                ib=ib,\n",
    "                algo=price,\n",
    "                cts = contracts,\n",
    "                CONCURRENT = 200,\n",
    "                TIMEOUT=8,\n",
    "                post_process=post_df,\n",
    "                SHOW_TQDM=True,\n",
    "                **{'FILL_DELAY': 8}\n",
    "            ))"
   ]
  },
  {
   "cell_type": "code",
   "execution_count": null,
   "metadata": {},
   "outputs": [],
   "source": [
    "# sort by closest to strike\n",
    "df = df.assign(undPrice=df_unds[df_unds.symbol == SYMBOL].undPrice.iloc[0])\n",
    "df = df.iloc[abs(df.strike-df.undPrice.iloc[0]).argsort()]\n",
    "\n",
    "# remove options without time\n",
    "df1 = df[~df.time.isnull()]\n",
    "df1"
   ]
  },
  {
   "cell_type": "code",
   "execution_count": null,
   "metadata": {},
   "outputs": [],
   "source": []
  },
  {
   "cell_type": "code",
   "execution_count": null,
   "metadata": {},
   "outputs": [],
   "source": []
  },
  {
   "cell_type": "markdown",
   "metadata": {},
   "source": [
    "## C) from engines' `OHLCs`\n",
    "### 1) Using `OHLC` with executeAsync for `bid_ask` price\n",
    "`NOTE`\n",
    "* Doesn't work well. Gets stuck on some options contract without hist bars!"
   ]
  },
  {
   "cell_type": "raw",
   "metadata": {},
   "source": [
    "# .OHLC\n",
    "async def ohlc(ib: IB,\n",
    "               c,\n",
    "               WHAT_TO_SHOW: str = 'TRADES',\n",
    "               DURATION: int = 365,\n",
    "               BAR_SIZE = \"1 day\",\n",
    "               OHLC_DELAY: int = 5) -> pd.DataFrame:\n",
    "\n",
    "    \"Gets OHLC history for stocks / options in UTC date\"\n",
    "\n",
    "    if isinstance(c, tuple):\n",
    "        c = c[0]\n",
    "\n",
    "    DUR = str(DURATION) + \" D\"\n",
    "\n",
    "    ohlc = await ib.reqHistoricalDataAsync(\n",
    "        contract=c,\n",
    "        endDateTime=datetime.now(),\n",
    "        durationStr=DUR,\n",
    "        barSizeSetting=BAR_SIZE,\n",
    "        whatToShow=WHAT_TO_SHOW,\n",
    "        useRTH=True,\n",
    "        formatDate=2,  # UTC format\n",
    "    )\n",
    "    await asyncio.sleep(OHLC_DELAY)\n",
    "    df = util.df(ohlc)\n",
    "\n",
    "    # re-cast OHLC for options\n",
    "    if WHAT_TO_SHOW == 'BID_ASK':\n",
    "\n",
    "        # get the grouped values for the option\n",
    "        try:\n",
    "            g = df.groupby(\"date\")\n",
    "        except AttributeError:\n",
    "            df = pd.DataFrame({'date': pd.NaT, 'conId': c.conId, \n",
    "                               'symbol': c.symbol, 'localSymbol': c.localSymbol, \n",
    "                               'strike': c.strike, 'right': c.right, \n",
    "                               'expiry': c.lastTradeDateOrContractMonth, \n",
    "                               'bid': np.nan, 'ask': np.nan}, index=range(1))\n",
    "            \n",
    "            return df # !!! ABORTED OHLC\n",
    "\n",
    "        op = g.open.first()\n",
    "        hi = g.high.max()\n",
    "        lo = g.low.min()\n",
    "        cl = g.close.last()\n",
    "        vol = g.volume.sum()\n",
    "        avg = g.average.mean()\n",
    "        bc = g.barCount.sum()\n",
    "\n",
    "        df1 = pd.DataFrame({\"date\": df.date.unique()})\n",
    "\n",
    "        df = df1.assign(\n",
    "            open=df1[\"date\"].map(op),\n",
    "            high=df1[\"date\"].map(hi),\n",
    "            low=df1[\"date\"].map(lo),\n",
    "            close=df1[\"date\"].map(cl),\n",
    "            volume=df1[\"date\"].map(vol),\n",
    "            average=df1[\"date\"].map(avg),\n",
    "            barCount=df1[\"date\"].map(bc),\n",
    "        )\n",
    "        \n",
    "        df = df.drop(['open', 'close', 'average', 'barCount', 'volume'], 1)\n",
    "        df.rename(columns={'high': 'ask', 'low': 'bid'}, \n",
    "                            inplace=True)\n",
    "\n",
    "        df.insert(0, \"localSymbol\", c.localSymbol)\n",
    "        df.insert(1, \"strike\", c.strike)\n",
    "        df.insert(2, \"right\", c.right)\n",
    "        df.insert(3, \"expiry\", c.lastTradeDateOrContractMonth)\n",
    "\n",
    "    df.insert(0, \"conId\", c.conId)\n",
    "    df.insert(1, \"symbol\", c.symbol)\n",
    "\n",
    "    return df"
   ]
  },
  {
   "cell_type": "markdown",
   "metadata": {},
   "source": [
    "#### a) Single contract"
   ]
  },
  {
   "cell_type": "raw",
   "metadata": {},
   "source": [
    "%%time\n",
    "with IB().connect(HOST, PAPER, CID) as ib:\n",
    "    df_ba = ib.run(ohlc(ib=ib, c = contract, WHAT_TO_SHOW='BID_ASK', DURATION=1, OHLC_DELAY=2))"
   ]
  },
  {
   "cell_type": "markdown",
   "metadata": {},
   "source": [
    "#### b) Multiple contracts\n",
    "1. Using existing `ohlc` function is still slow and very erratic. It is better to avoid this.\n",
    "2. Data gets duplicated. Hence drop_duplicates and filtering of nans are needed"
   ]
  },
  {
   "cell_type": "raw",
   "metadata": {},
   "source": [
    "%%time\n",
    "from engine import price, pre_process, make_name, executeAsync, post_df\n",
    "\n",
    "with IB().connect(HOST, PAPER, CID) as ib:\n",
    "    \n",
    "    ib.client.setConnectOptions('+PACEAPI')\n",
    "    \n",
    "    df_bas = ib.run(\n",
    "            executeAsync(\n",
    "                ib=ib,\n",
    "                algo=ohlc,\n",
    "                cts = contracts[:20],\n",
    "                CONCURRENT = 20,\n",
    "                TIMEOUT=10,\n",
    "                post_process=post_df,\n",
    "                SHOW_TQDM=True,\n",
    "                **{'WHAT_TO_SHOW': 'BID_ASK',\n",
    "                   'DURATION': 1,\n",
    "                   'BAR_SIZE': \"8 hours\",\n",
    "                   'OHLC_DELAY': 10,}\n",
    "            ))"
   ]
  },
  {
   "cell_type": "raw",
   "metadata": {},
   "source": [
    "df = df_bas.drop_duplicates().sort_values(['strike', 'right'])\n",
    "df[df.bid.isnull()]"
   ]
  },
  {
   "cell_type": "markdown",
   "metadata": {},
   "source": [
    "## D) Bid-Ask - with `reqHistoricalData` for multiple contracts\n",
    "\n",
    "**`NOTE`**\n",
    "* This function is very slow, but gives bid-ask-last price when market is closed\n",
    "* Takes 2 minutes for 20 prices!"
   ]
  },
  {
   "cell_type": "raw",
   "metadata": {},
   "source": [
    "async def ba_async(ib, contracts):\n",
    "    \n",
    "    DURSTR = '1 D'\n",
    "    BARSIZE = '8 hours'\n",
    "    USERTH = False\n",
    "    UPTODATE= False\n",
    "    TIMEOUT = 0\n",
    "   \n",
    "    async def coro(c):\n",
    "        \n",
    "        lastPrice = await ib.reqHistoricalDataAsync(\n",
    "                            contract=c,\n",
    "                            endDateTime='',\n",
    "                            durationStr=DURSTR,\n",
    "                            barSizeSetting=BARSIZE,\n",
    "                            whatToShow='TRADES',\n",
    "                            useRTH=USERTH,\n",
    "                            formatDate=2,\n",
    "                            keepUpToDate=UPTODATE,\n",
    "                            timeout=TIMEOUT)\n",
    "        \n",
    "        bidPrice = await ib.reqHistoricalDataAsync(\n",
    "                            contract=c,\n",
    "                            endDateTime='',\n",
    "                            durationStr=DURSTR,\n",
    "                            barSizeSetting=BARSIZE,\n",
    "                            whatToShow='BID',\n",
    "                            useRTH=USERTH,\n",
    "                            formatDate=2,\n",
    "                            keepUpToDate=UPTODATE,\n",
    "                            timeout=TIMEOUT)\n",
    "        \n",
    "        askPrice = await ib.reqHistoricalDataAsync(\n",
    "                            contract=c,\n",
    "                            endDateTime='',\n",
    "                            durationStr=DURSTR,\n",
    "                            barSizeSetting=BARSIZE,\n",
    "                            whatToShow='ASK',\n",
    "                            useRTH=USERTH,\n",
    "                            formatDate=2,\n",
    "                            keepUpToDate=UPTODATE,\n",
    "                            timeout=TIMEOUT)\n",
    "        \n",
    "        try:\n",
    "            date = lastPrice[-1].date\n",
    "            last = lastPrice[-1].close\n",
    "\n",
    "        except IndexError:\n",
    "            date = pd.NaT\n",
    "            last = np.nan\n",
    "            \n",
    "        try:\n",
    "            bid = bidPrice[-1].close\n",
    "        except IndexError:\n",
    "            bid = np.nan\n",
    "            \n",
    "        try:\n",
    "            ask = askPrice[-1].close\n",
    "        except IndexError:\n",
    "            ask = np.nan\n",
    "            \n",
    "        return {c.conId: {'date': date, 'last': last, \"bid\": bid, \"ask\": ask}}\n",
    "    \n",
    "    tsks= [asyncio.create_task(coro(c), name=c.conId) for c in contracts]\n",
    "    tasks = [await f for f in tqdm(asyncio.as_completed(tsks), total=len(tsks))]\n",
    "    \n",
    "    d = defaultdict(dict)\n",
    "    for t in tasks:\n",
    "        for k, v in t.items():\n",
    "            d[k]=v\n",
    "            \n",
    "    df = pd.DataFrame(d).T\n",
    "    \n",
    "    return df"
   ]
  },
  {
   "cell_type": "raw",
   "metadata": {},
   "source": [
    "%%time\n",
    "\n",
    "ba_contracts = df_dte.contract[:30]\n",
    "\n",
    "with IB().connect(HOST, PAPER, CID) as ib:\n",
    "    \n",
    "    ib.client.setConnectOptions('+PACEAPI')\n",
    "    \n",
    "    df_ba = ib.run(ba_async(ib, ba_contracts))"
   ]
  },
  {
   "cell_type": "raw",
   "metadata": {},
   "source": [
    "df2 = util.df(ba_contracts.tolist()).iloc[:, :6].set_index('conId').join(df_ba)\n",
    "df2.sort_values(['strike', 'right']).dropna(subset=['date'])"
   ]
  },
  {
   "cell_type": "code",
   "execution_count": null,
   "metadata": {},
   "outputs": [],
   "source": [
    "df_dte"
   ]
  },
  {
   "cell_type": "code",
   "execution_count": null,
   "metadata": {},
   "outputs": [],
   "source": []
  },
  {
   "cell_type": "markdown",
   "metadata": {},
   "source": [
    "### 3) Ask `trade` prices from OHLC"
   ]
  },
  {
   "cell_type": "raw",
   "metadata": {},
   "source": [
    "def onBarUpdate(bars, hasNewBar):\n",
    "    print(bars[-1])"
   ]
  },
  {
   "cell_type": "raw",
   "metadata": {},
   "source": [
    "with IB().connect(HOST, PAPER, PRICE) as ib:\n",
    "    bars = ib.reqRealTimeBars(contract, 5, 'TRADES', False)\n",
    "    bars.updateEvent += onBarUpdate"
   ]
  },
  {
   "cell_type": "code",
   "execution_count": null,
   "metadata": {},
   "outputs": [],
   "source": [
    "async def hist_async(ib, contracts):\n",
    "        \n",
    "    # request data from start date\n",
    "    async def coro(c):\n",
    "\n",
    "        start = (datetime.utcnow()- timedelta(days=1)).date()\n",
    "        end = datetime.utcnow().date()\n",
    "\n",
    "        barsList = []\n",
    "        dt = end\n",
    "\n",
    "        while dt > start:\n",
    "\n",
    "            bars = await ib.reqHistoricalDataAsync(contract,\n",
    "                                            endDateTime=dt,\n",
    "                                            durationStr='1 D',\n",
    "                                            barSizeSetting='1 day',\n",
    "                                            whatToShow='TRADES',\n",
    "                                            useRTH=True,\n",
    "                                            formatDate=2)\n",
    "            if not bars:\n",
    "                break\n",
    "            barsList.append(bars)\n",
    "            dt = bars[0].date\n",
    "\n",
    "        return bars\n",
    "\n",
    "    hist = await asyncio.gather(*[coro(c) for c in contracts])\n",
    "\n",
    "    return hist"
   ]
  },
  {
   "cell_type": "raw",
   "metadata": {},
   "source": [
    "%%time\n",
    "with IB().connect(HOST, PAPER, CID) as ib:\n",
    "    \n",
    "    ib.client.setConnectOptions('+PACEAPI')\n",
    "    \n",
    "    bars = ib.run(hist_async(ib, ba_contracts))"
   ]
  },
  {
   "cell_type": "code",
   "execution_count": null,
   "metadata": {},
   "outputs": [],
   "source": []
  }
 ],
 "metadata": {
  "kernelspec": {
   "display_name": "Python 3",
   "language": "python",
   "name": "python3"
  },
  "language_info": {
   "codemirror_mode": {
    "name": "ipython",
    "version": 3
   },
   "file_extension": ".py",
   "mimetype": "text/x-python",
   "name": "python",
   "nbconvert_exporter": "python",
   "pygments_lexer": "ipython3",
   "version": "3.9.1"
  }
 },
 "nbformat": 4,
 "nbformat_minor": 4
}
