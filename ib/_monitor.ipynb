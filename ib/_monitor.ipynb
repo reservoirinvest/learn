{
 "cells": [
  {
   "cell_type": "markdown",
   "metadata": {},
   "source": [
    "# Dynamically `operate` trades\n",
    "### We will start with a simple cancellation of orders of the symbol, if there is an event fill\n",
    "* [ ] Listen to orderfill event\n",
    "* [ ] Cancel all contracts belonging to the orderfill\n",
    "* [ ] Store the cancelled symbols\n",
    "* [ ] Run nakeds on the cancelled symbols with new price on PAPER\n",
    "* [ ] Make `renew_order` for the cancelled symbols"
   ]
  },
  {
   "cell_type": "code",
   "execution_count": 1,
   "metadata": {},
   "outputs": [],
   "source": [
    "MARKET = 'SNP'"
   ]
  },
  {
   "cell_type": "code",
   "execution_count": 2,
   "metadata": {},
   "outputs": [],
   "source": [
    "import sys\n",
    "import pathlib\n",
    "import numpy as np\n",
    "import pandas as pd\n",
    "import yaml\n",
    "import asyncio\n",
    "\n",
    "from ib_insync import IB, util, Option, MarketOrder, Contract\n",
    "from typing import Callable, Coroutine, Union"
   ]
  },
  {
   "cell_type": "code",
   "execution_count": 3,
   "metadata": {},
   "outputs": [],
   "source": [
    "# Specific to Jupyter. Will be ignored in IDE / command-lines\n",
    "import IPython as ipy\n",
    "if ipy.get_ipython().__class__.__name__ == 'ZMQInteractiveShell':\n",
    "    import nest_asyncio\n",
    "    nest_asyncio.apply()\n",
    "    util.startLoop()\n",
    "    pd.options.display.max_columns = None\n",
    "    pd.options.display.float_format = '{:,.2f}'.format # set float precision with comma\n",
    "    \n",
    "    THIS_FOLDER = '' # Dummy for jupyter notebook's current folder\n",
    "    BAR_FORMAT = \"{l_bar}{bar:-20}{r_bar}\""
   ]
  },
  {
   "cell_type": "code",
   "execution_count": 4,
   "metadata": {},
   "outputs": [],
   "source": [
    "# Get capability to import programs from `asyncib` folder\n",
    "cwd = pathlib.Path.cwd() # working directory from where python was initiated\n",
    "DATAPATH = cwd.joinpath('data', MARKET.lower()) # path to store data files\n",
    "LOGFILE = cwd.joinpath(THIS_FOLDER, 'data', 'log', 'temp.log') # path to store log files\n",
    "\n",
    "IBPATH = cwd.parent.parent.joinpath('asyncib') # where ib programs are stored\n",
    "\n",
    "# append IBPATH to import programs.\n",
    "if str(IBPATH) not in sys.path:  # Convert it to string!\n",
    "    sys.path.append(str(IBPATH))\n",
    "    \n",
    "IBDATAPATH = IBPATH.joinpath('data', MARKET.lower())"
   ]
  },
  {
   "cell_type": "code",
   "execution_count": 5,
   "metadata": {},
   "outputs": [],
   "source": [
    "# Get the host, port, cid\n",
    "from engine import Vars\n",
    "\n",
    "ibp = Vars(MARKET.upper())  # IB Parameters from var.yml\n",
    "HOST, PORT, CID = ibp.HOST, ibp.PORT, ibp.MASTERCID"
   ]
  },
  {
   "cell_type": "code",
   "execution_count": 6,
   "metadata": {},
   "outputs": [
    {
     "data": {
      "text/plain": [
       "array(['df_chains.pkl', 'df_covers.pkl', 'df_nakeds.pkl', 'df_ohlcs.pkl',\n",
       "       'df_opt_prices.pkl', 'df_opts.pkl', 'df_symlots.pkl',\n",
       "       'df_unds.pkl', 'dfrq.pkl', 'qopt_rejects.pkl', 'qopts.pkl'],\n",
       "      dtype='<U17')"
      ]
     },
     "execution_count": 6,
     "metadata": {},
     "output_type": "execute_result"
    }
   ],
   "source": [
    "# Get the pickle files\n",
    "from os import listdir\n",
    "fs = listdir(DATAPATH)\n",
    "\n",
    "files = [f for f in fs if f[-4:] == '.pkl']\n",
    "for f in files:\n",
    "    exec(f\"{f.split('.')[0]} = pd.read_pickle(DATAPATH.joinpath(f))\")\n",
    "np.sort(np.array(files))"
   ]
  },
  {
   "cell_type": "code",
   "execution_count": 7,
   "metadata": {},
   "outputs": [],
   "source": [
    "# * IMPORTS\n",
    "from ib_insync import IB, Order, LimitOrder\n",
    "from support import quick_pf, get_openorders, get_prec, place_orders"
   ]
  },
  {
   "cell_type": "code",
   "execution_count": 8,
   "metadata": {},
   "outputs": [],
   "source": [
    "# * FUNCTION INPUTS\n",
    "MARKET = MARKET"
   ]
  },
  {
   "cell_type": "code",
   "execution_count": 9,
   "metadata": {},
   "outputs": [],
   "source": [
    "# * SETUP\n",
    "TMPLTPATH = pathlib.Path.cwd().joinpath(THIS_FOLDER, \"data\", \"template\")"
   ]
  },
  {
   "cell_type": "code",
   "execution_count": 10,
   "metadata": {},
   "outputs": [],
   "source": [
    "# * SET THE CONNECTION\n",
    "def connect(HOST, PORT, CID):\n",
    "    try:\n",
    "        if ib.isConnected():\n",
    "            print(f\"IB is already connected to host: {ib.client.host}, port:{ib.client.port}, clientId: {ib.client.clientId}\")\n",
    "        else:\n",
    "            ib = IB().connect(HOST, PORT, CID)\n",
    "            print(f\"IB is set to host: {ib.client.host}, port:{ib.client.port}, clientId: {ib.client.clientId}\")\n",
    "\n",
    "    except NameError:\n",
    "        try:\n",
    "            ib = IB().connect(HOST, PORT, CID)\n",
    "            print(f\"IB connection status is now: {ib.isConnected()} at {ib.client.host}, port:{ib.client.port}, clientId: {ib.client.clientId}\")\n",
    "        \n",
    "        except Exception:\n",
    "            print(f\"IB connection failed for {HOST}, port:{PORT}, clientId: {CID}\")\n",
    "            ib = None\n",
    "    \n",
    "    return ib"
   ]
  },
  {
   "cell_type": "code",
   "execution_count": 11,
   "metadata": {},
   "outputs": [
    {
     "name": "stdout",
     "output_type": "stream",
     "text": [
      "IB connection status is now: True at 127.0.0.1, port:1300, clientId: 10\n"
     ]
    }
   ],
   "source": [
    "ib = connect(HOST, PORT, CID)"
   ]
  },
  {
   "cell_type": "code",
   "execution_count": 12,
   "metadata": {},
   "outputs": [],
   "source": [
    "# * REPRICE ORDERS UPON FILLS\n",
    "\n",
    "def onExecDetails(trade, fill, SCALE=0.25):\n",
    "    \n",
    "    print(f\"\\nonExecDetails fired because of trade: {trade}\\n\\nfill: {fill}\\n\")\n",
    "    \n",
    "    # get the symbol of the trade filled\n",
    "    try:\n",
    "        symbol = {t.contract.symbol for t in trade}\n",
    "    except TypeError:\n",
    "        symbol = {trade.contract.symbol}\n",
    "    \n",
    "    # Download open orders and open trades\n",
    "    ib.reqOpenOrders() \n",
    "    trades = ib.trades()\n",
    "    \n",
    "    # * TARGET DATAFRAME\n",
    "    \n",
    "    # . make the df\n",
    "    df = util.df(t.contract for t in trades).iloc[:, :6]\\\n",
    "                .assign(contract=[t.contract for t in trades],\n",
    "                        order=[t.order for t in trades],\n",
    "                        status=[t.orderStatus.status for t in trades],\n",
    "                        )\\\n",
    "                .join(util.df(t.order \n",
    "                              for t in trades).iloc[:, 2:7])\\\n",
    "                .rename(columns={'lastTradeDateOrContractMonth': 'expiry'})\n",
    "    \n",
    "    # . filter the df\n",
    "    ACTIVE_STATUS = ['ApiPending', 'PendingSubmit', 'PreSubmitted', 'Submitted']\n",
    "    mask = df.status.isin(ACTIVE_STATUS) & (df.action == \"SELL\") & (df.symbol.isin(symbol))\n",
    "    df = df[mask]\n",
    "    \n",
    "    # . set the new price\n",
    "    df['newLmt'] = np.where(df.action == 'SELL', \n",
    "                            df.lmtPrice + df.lmtPrice*(1+SCALE), \n",
    "                            df.lmtPrice - df.lmtPrice*(1-SCALE))\n",
    "    \n",
    "    df['newLmt'] = df['newLmt'].apply(lambda x: get_prec(x, ibp.PREC))\n",
    "    \n",
    "    # * CANCEL AND RE-ORDER\n",
    "    \n",
    "    # . cancel the orders first. These gives `Error validating request for VOL` (ref: )\n",
    "    cancels = [ib.cancelOrder(o) for o in df.order]\n",
    "    \n",
    "    # . change order price to new limit price\n",
    "    df = df.assign(order=[LimitOrder(action=action, totalQuantity=totalQuantity, lmtPrice=newLmt) \n",
    "                     for action, totalQuantity, newLmt \n",
    "                         in zip(df.action, df.totalQuantity, df.newLmt)])\n",
    "\n",
    "    # . build the contract, orders and re-order\n",
    "    cos = tuple(zip(df.contract, df.order))\n",
    "\n",
    "    modified_trades = place_orders(ib = ib, cos = cos)\n",
    "    \n",
    "    return modified_trades"
   ]
  },
  {
   "cell_type": "code",
   "execution_count": 13,
   "metadata": {},
   "outputs": [],
   "source": [
    "# set the event for order fills\n",
    "ib.execDetailsEvent += onExecDetails"
   ]
  },
  {
   "cell_type": "raw",
   "metadata": {},
   "source": [
    "# reset connection and stop execDetailsEvent\n",
    "ib.execDetailsEvent -= onExecDetails\n",
    "ib.disconnect()"
   ]
  },
  {
   "cell_type": "code",
   "execution_count": null,
   "metadata": {},
   "outputs": [],
   "source": [
    "# symbol = {t.contract.symbol for t in ib.fills()}\n",
    "symbol = {'VIAC'}\n",
    "SCALE = 0.25"
   ]
  },
  {
   "cell_type": "code",
   "execution_count": null,
   "metadata": {},
   "outputs": [],
   "source": [
    "symbol"
   ]
  },
  {
   "cell_type": "raw",
   "metadata": {},
   "source": [
    "    # Download open orders and open trades\n",
    "    ib.reqOpenOrders() \n",
    "    trades = ib.trades()\n",
    "    \n",
    "    # * TARGET DATAFRAME\n",
    "    \n",
    "    # . make the df\n",
    "    df = util.df(t.contract for t in trades).iloc[:, :6]\\\n",
    "                .assign(contract=[t.contract for t in trades],\n",
    "                        order=[t.order for t in trades],\n",
    "                        status=[t.orderStatus.status for t in trades],\n",
    "                        )\\\n",
    "                .join(util.df(t.order \n",
    "                              for t in trades).iloc[:, 2:7])\\\n",
    "                .rename(columns={'lastTradeDateOrContractMonth': 'expiry'})\n",
    "    \n",
    "    # . filter the df\n",
    "    ACTIVE_STATUS = ['ApiPending', 'PendingSubmit', 'PreSubmitted', 'Submitted']\n",
    "    mask = df.status.isin(ACTIVE_STATUS) & (df.action == \"SELL\") & (df.symbol.isin(symbol))\n",
    "    df = df[mask]\n",
    "    \n",
    "    # . set the new price\n",
    "    df['newLmt'] = np.where(df.action == 'SELL', \n",
    "                            df.lmtPrice + df.lmtPrice*(1+SCALE), \n",
    "                            df.lmtPrice - df.lmtPrice*(1-SCALE))\n",
    "    \n",
    "    df['newLmt'] = df['newLmt'].apply(lambda x: get_prec(x, ibp.PREC))\n",
    "    \n",
    "    # * CANCEL AND RE-ORDER\n",
    "    \n",
    "    # . cancel the orders first. These gives `Error validating request for VOL` (ref: )\n",
    "    cancels = [ib.cancelOrder(o) for o in df.order]\n",
    "    \n",
    "    # . change order price to new limit price\n",
    "    df = df.assign(order=[LimitOrder(action=action, totalQuantity=totalQuantity, lmtPrice=newLmt) \n",
    "                     for action, totalQuantity, newLmt \n",
    "                         in zip(df.action, df.totalQuantity, df.newLmt)])\n",
    "\n",
    "    # . build the contract, orders and re-order\n",
    "    cos = tuple(zip(df.contract, df.order))\n",
    "\n",
    "    modified_trades = place_orders(ib = ib, cos = cos)"
   ]
  },
  {
   "cell_type": "code",
   "execution_count": null,
   "metadata": {},
   "outputs": [],
   "source": []
  }
 ],
 "metadata": {
  "kernelspec": {
   "display_name": "Python 3",
   "language": "python",
   "name": "python3"
  },
  "language_info": {
   "codemirror_mode": {
    "name": "ipython",
    "version": 3
   },
   "file_extension": ".py",
   "mimetype": "text/x-python",
   "name": "python",
   "nbconvert_exporter": "python",
   "pygments_lexer": "ipython3",
   "version": "3.8.5"
  }
 },
 "nbformat": 4,
 "nbformat_minor": 4
}
