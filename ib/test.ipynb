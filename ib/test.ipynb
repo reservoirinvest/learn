{
 "cells": [
  {
   "cell_type": "code",
   "execution_count": null,
   "metadata": {},
   "outputs": [],
   "source": [
    "import sys\n",
    "if 'tornado' in sys.modules:\n",
    "    print('Tornado is here!')"
   ]
  },
  {
   "cell_type": "code",
   "execution_count": null,
   "metadata": {},
   "outputs": [],
   "source": [
    "import tornado.concurrent as tc\n"
   ]
  },
  {
   "cell_type": "code",
   "execution_count": null,
   "metadata": {},
   "outputs": [],
   "source": [
    "tc.Future"
   ]
  },
  {
   "cell_type": "code",
   "execution_count": null,
   "metadata": {},
   "outputs": [],
   "source": [
    "import asyncio"
   ]
  },
  {
   "cell_type": "code",
   "execution_count": null,
   "metadata": {},
   "outputs": [],
   "source": [
    "if asyncio.Future not in tc.FUTURES:\n",
    "    print('no asyncio')"
   ]
  },
  {
   "cell_type": "code",
   "execution_count": null,
   "metadata": {},
   "outputs": [],
   "source": [
    "tc.FUTURES"
   ]
  },
  {
   "cell_type": "code",
   "execution_count": null,
   "metadata": {},
   "outputs": [],
   "source": [
    "asyncio.Future"
   ]
  },
  {
   "cell_type": "raw",
   "metadata": {},
   "source": [
    "import nest_asyncio\n",
    "nest_asyncio.apply()"
   ]
  },
  {
   "cell_type": "code",
   "execution_count": null,
   "metadata": {},
   "outputs": [],
   "source": []
  },
  {
   "cell_type": "code",
   "execution_count": 2,
   "metadata": {},
   "outputs": [
    {
     "data": {
      "text/plain": [
       "[PortfolioItem(contract=Stock(conId=265681, symbol='ADSK', right='0', primaryExchange='NASDAQ', currency='USD', localSymbol='ADSK', tradingClass='NMS'), position=-41.0, marketPrice=285.9500122, marketValue=-11723.95, averageCost=312.4929756, unrealizedPNL=1088.26, realizedPNL=-0.0, account='U8898867'),\n",
       " PortfolioItem(contract=Stock(conId=99831145, symbol='AMT', right='0', primaryExchange='NYSE', currency='USD', localSymbol='AMT', tradingClass='AMT'), position=-100.0, marketPrice=243.58099365, marketValue=-24358.1, averageCost=232.498695, unrealizedPNL=-1108.23, realizedPNL=0.0, account='U8898867'),\n",
       " PortfolioItem(contract=Stock(conId=474515500, symbol='APA', right='0', primaryExchange='NASDAQ', currency='USD', localSymbol='APA', tradingClass='NMS'), position=-100.0, marketPrice=17.9599991, marketValue=-1796.0, averageCost=16.499516, unrealizedPNL=-146.05, realizedPNL=0.0, account='U8898867'),\n",
       " PortfolioItem(contract=Stock(conId=313130367, symbol='AVGO', right='0', primaryExchange='NASDAQ', currency='USD', localSymbol='AVGO', tradingClass='NMS'), position=-100.0, marketPrice=484.60998535, marketValue=-48461.0, averageCost=467.497497, unrealizedPNL=-1711.25, realizedPNL=0.0, account='U8898867'),\n",
       " PortfolioItem(contract=Stock(conId=4721, symbol='AXP', right='0', primaryExchange='NYSE', currency='USD', localSymbol='AXP', tradingClass='AXP'), position=-100.0, marketPrice=146.3500061, marketValue=-14635.0, averageCost=142.999152, unrealizedPNL=-335.09, realizedPNL=0.0, account='U8898867'),\n",
       " PortfolioItem(contract=Stock(conId=5407, symbol='CAH', right='0', primaryExchange='NYSE', currency='USD', localSymbol='CAH', tradingClass='CAH'), position=-100.0, marketPrice=60.25, marketValue=-6025.0, averageCost=50.498765, unrealizedPNL=-975.12, realizedPNL=0.0, account='U8898867'),\n",
       " PortfolioItem(contract=Stock(conId=5749, symbol='CL', right='0', primaryExchange='NYSE', currency='USD', localSymbol='CL', tradingClass='CL'), position=-100.0, marketPrice=79.8600006, marketValue=-7986.0, averageCost=81.998069, unrealizedPNL=213.81, realizedPNL=0.0, account='U8898867'),\n",
       " PortfolioItem(contract=Stock(conId=267748, symbol='CMCSA', right='0', primaryExchange='NASDAQ', currency='USD', localSymbol='CMCSA', tradingClass='NMS'), position=-100.0, marketPrice=54.7799988, marketValue=-5478.0, averageCost=54.999601, unrealizedPNL=21.96, realizedPNL=0.0, account='U8898867'),\n",
       " PortfolioItem(contract=Stock(conId=13878278, symbol='CNC', right='0', primaryExchange='NYSE', currency='USD', localSymbol='CNC', tradingClass='CNC'), position=-100.0, marketPrice=62.31000135, marketValue=-6231.0, averageCost=65.998422, unrealizedPNL=368.84, realizedPNL=0.0, account='U8898867'),\n",
       " PortfolioItem(contract=Option(conId=473594107, symbol='CTXS', lastTradeDateOrContractMonth='20210409', strike=131.0, right='P', multiplier='100', primaryExchange='AMEX', currency='USD', localSymbol='CTXS  210409P00131000', tradingClass='CTXS'), position=-1.0, marketPrice=0.09654165, marketValue=-9.65, averageCost=34.7144, unrealizedPNL=25.06, realizedPNL=0.0, account='U8898867'),\n",
       " PortfolioItem(contract=Stock(conId=190480965, symbol='ETSY', right='0', primaryExchange='NASDAQ', currency='USD', localSymbol='ETSY', tradingClass='NMS'), position=-50.0, marketPrice=207.0, marketValue=-10350.0, averageCost=144.496688, unrealizedPNL=-3125.17, realizedPNL=0.0, account='U8898867'),\n",
       " PortfolioItem(contract=Stock(conId=98542021, symbol='EXPE', right='0', primaryExchange='NASDAQ', currency='USD', localSymbol='EXPE', tradingClass='NMS'), position=-100.0, marketPrice=175.05000305, marketValue=-17505.0, averageCost=119.997229, unrealizedPNL=-5505.28, realizedPNL=0.0, account='U8898867'),\n",
       " PortfolioItem(contract=Stock(conId=7089, symbol='FCX', right='0', primaryExchange='NYSE', currency='USD', localSymbol='FCX', tradingClass='FCX'), position=47.0, marketPrice=35.08000185, marketValue=1648.76, averageCost=35.5, unrealizedPNL=-19.74, realizedPNL=0.0, account='U8898867'),\n",
       " PortfolioItem(contract=Stock(conId=8199, symbol='HSY', right='0', primaryExchange='NYSE', currency='USD', localSymbol='HSY', tradingClass='HSY'), position=-100.0, marketPrice=160.7590027, marketValue=-16075.9, averageCost=147.99661, unrealizedPNL=-1276.24, realizedPNL=0.0, account='U8898867'),\n",
       " PortfolioItem(contract=Option(conId=473676386, symbol='ISRG', lastTradeDateOrContractMonth='20210409', strike=795.0, right='C', multiplier='100', primaryExchange='AMEX', currency='USD', localSymbol='ISRG  210409C00795000', tradingClass='ISRG'), position=-1.0, marketPrice=1.04993415, marketValue=-104.99, averageCost=124.7124, unrealizedPNL=19.72, realizedPNL=0.0, account='U8898867'),\n",
       " PortfolioItem(contract=Option(conId=473650322, symbol='KLAC', lastTradeDateOrContractMonth='20210409', strike=325.0, right='P', multiplier='100', primaryExchange='AMEX', currency='USD', localSymbol='KLAC  210409P00325000', tradingClass='KLAC'), position=-1.0, marketPrice=0.750437, marketValue=-75.04, averageCost=54.714, unrealizedPNL=-20.33, realizedPNL=0.0, account='U8898867'),\n",
       " PortfolioItem(contract=Stock(conId=271308, symbol='LRCX', right='0', primaryExchange='NASDAQ', currency='USD', localSymbol='LRCX', tradingClass='NMS'), position=-100.0, marketPrice=655.1500244, marketValue=-65515.0, averageCost=612.496757, unrealizedPNL=-4265.33, realizedPNL=0.0, account='U8898867'),\n",
       " PortfolioItem(contract=Stock(conId=70101545, symbol='MRK', right='0', primaryExchange='NYSE', currency='USD', localSymbol='MRK', tradingClass='MRK'), position=200.0, marketPrice=76.0, marketValue=15200.0, averageCost=82.5, unrealizedPNL=-1300.0, realizedPNL=0.0, account='U8898867'),\n",
       " PortfolioItem(contract=Stock(conId=9939, symbol='MU', right='0', primaryExchange='NASDAQ', currency='USD', localSymbol='MU', tradingClass='NMS'), position=-49.0, marketPrice=93.98999785, marketValue=-4605.51, averageCost=69.4983449, unrealizedPNL=-1200.09, realizedPNL=-0.0, account='U8898867'),\n",
       " PortfolioItem(contract=Stock(conId=120643512, symbol='NCLH', right='0', primaryExchange='NYSE', currency='USD', localSymbol='NCLH', tradingClass='NCLH'), position=200.0, marketPrice=32.09000015, marketValue=6418.0, averageCost=30.75, unrealizedPNL=268.0, realizedPNL=0.0, account='U8898867'),\n",
       " PortfolioItem(contract=Option(conId=474055573, symbol='PENN', lastTradeDateOrContractMonth='20210409', strike=85.0, right='P', multiplier='100', primaryExchange='AMEX', currency='USD', localSymbol='PENN  210409P00085000', tradingClass='PENN'), position=-1.0, marketPrice=0.1404278, marketValue=-14.04, averageCost=40.2143, unrealizedPNL=26.17, realizedPNL=0.0, account='U8898867'),\n",
       " PortfolioItem(contract=Option(conId=474055590, symbol='PENN', lastTradeDateOrContractMonth='20210409', strike=90.0, right='P', multiplier='100', primaryExchange='AMEX', currency='USD', localSymbol='PENN  210409P00090000', tradingClass='PENN'), position=-1.0, marketPrice=0.2431575, marketValue=-24.32, averageCost=34.2144, unrealizedPNL=9.9, realizedPNL=0.0, account='U8898867'),\n",
       " PortfolioItem(contract=Option(conId=473731995, symbol='PENN', lastTradeDateOrContractMonth='20210409', strike=121.0, right='C', multiplier='100', primaryExchange='AMEX', currency='USD', localSymbol='PENN  210409C00121000', tradingClass='PENN'), position=-1.0, marketPrice=0.3430889, marketValue=-34.31, averageCost=40.2143, unrealizedPNL=5.91, realizedPNL=0.0, account='U8898867'),\n",
       " PortfolioItem(contract=Option(conId=473732002, symbol='PENN', lastTradeDateOrContractMonth='20210409', strike=122.0, right='C', multiplier='100', primaryExchange='AMEX', currency='USD', localSymbol='PENN  210409C00122000', tradingClass='PENN'), position=-1.0, marketPrice=0.3039224, marketValue=-30.39, averageCost=36.2144, unrealizedPNL=5.82, realizedPNL=0.0, account='U8898867'),\n",
       " PortfolioItem(contract=Stock(conId=11017, symbol='PEP', right='0', primaryExchange='NASDAQ', currency='USD', localSymbol='PEP', tradingClass='NMS'), position=-100.0, marketPrice=143.6100006, marketValue=-14361.0, averageCost=130.999213, unrealizedPNL=-1261.08, realizedPNL=0.0, account='U8898867'),\n",
       " PortfolioItem(contract=Stock(conId=11109, symbol='PHM', right='0', primaryExchange='NYSE', currency='USD', localSymbol='PHM', tradingClass='PHM'), position=-100.0, marketPrice=54.09000015, marketValue=-5409.0, averageCost=48.498809, unrealizedPNL=-559.12, realizedPNL=0.0, account='U8898867'),\n",
       " PortfolioItem(contract=Option(conId=473714696, symbol='PXD', lastTradeDateOrContractMonth='20210409', strike=145.0, right='P', multiplier='100', primaryExchange='AMEX', currency='USD', localSymbol='PXD   210409P00145000', tradingClass='PXD'), position=-1.0, marketPrice=0.49606695, marketValue=-49.61, averageCost=34.7144, unrealizedPNL=-14.89, realizedPNL=0.0, account='U8898867'),\n",
       " PortfolioItem(contract=Option(conId=473723108, symbol='RCL', lastTradeDateOrContractMonth='20210409', strike=98.0, right='C', multiplier='100', primaryExchange='AMEX', currency='USD', localSymbol='RCL   210409C00098000', tradingClass='RCL'), position=-1.0, marketPrice=0.43719755, marketValue=-43.72, averageCost=34.2144, unrealizedPNL=-9.51, realizedPNL=0.0, account='U8898867'),\n",
       " PortfolioItem(contract=Option(conId=473723105, symbol='RCL', lastTradeDateOrContractMonth='20210409', strike=98.5, right='C', multiplier='100', primaryExchange='AMEX', currency='USD', localSymbol='RCL   210409C00098500', tradingClass='RCL'), position=-1.0, marketPrice=0.3852493, marketValue=-38.52, averageCost=34.2144, unrealizedPNL=-4.31, realizedPNL=0.0, account='U8898867'),\n",
       " PortfolioItem(contract=Stock(conId=292491487, symbol='TPR', right='0', primaryExchange='NYSE', currency='USD', localSymbol='TPR', tradingClass='TPR'), position=-200.0, marketPrice=42.97999955, marketValue=-8596.0, averageCost=36.749069, unrealizedPNL=-1246.19, realizedPNL=0.0, account='U8898867'),\n",
       " PortfolioItem(contract=Option(conId=473749403, symbol='TSLA', lastTradeDateOrContractMonth='20210409', strike=810.0, right='C', multiplier='100', primaryExchange='AMEX', currency='USD', localSymbol='TSLA  210409C00810000', tradingClass='TSLA'), position=-1.0, marketPrice=0.2237096, marketValue=-22.37, averageCost=120.7125, unrealizedPNL=98.34, realizedPNL=0.0, account='U8898867'),\n",
       " PortfolioItem(contract=Stock(conId=137780444, symbol='TWTR', right='0', primaryExchange='NYSE', currency='USD', localSymbol='TWTR', tradingClass='TWTR'), position=-100.0, marketPrice=67.23000335, marketValue=-6723.0, averageCost=53.498699, unrealizedPNL=-1373.13, realizedPNL=0.0, account='U8898867'),\n",
       " PortfolioItem(contract=Option(conId=473758146, symbol='ULTA', lastTradeDateOrContractMonth='20210409', strike=340.0, right='C', multiplier='100', primaryExchange='AMEX', currency='USD', localSymbol='ULTA  210409C00340000', tradingClass='ULTA'), position=-1.0, marketPrice=0.12474555, marketValue=-12.47, averageCost=39.6643, unrealizedPNL=27.19, realizedPNL=0.0, account='U8898867'),\n",
       " PortfolioItem(contract=Stock(conId=6231002, symbol='UPS', right='0', primaryExchange='NYSE', currency='USD', localSymbol='UPS', tradingClass='UPS'), position=-100.0, marketPrice=173.0, marketValue=-17300.0, averageCost=139.996787, unrealizedPNL=-3300.32, realizedPNL=0.0, account='U8898867'),\n",
       " PortfolioItem(contract=Stock(conId=393897513, symbol='VIAC', right='0', primaryExchange='NASDAQ', currency='USD', localSymbol='VIAC', tradingClass='NMS'), position=-100.0, marketPrice=45.20000075, marketValue=-4520.0, averageCost=41.998953, unrealizedPNL=-320.1, realizedPNL=0.0, account='U8898867'),\n",
       " PortfolioItem(contract=Stock(conId=16454492, symbol='WYNN', right='0', primaryExchange='NASDAQ', currency='USD', localSymbol='WYNN', tradingClass='NMS'), position=-60.0, marketPrice=137.5, marketValue=-8250.0, averageCost=115.49732835, unrealizedPNL=-1320.16, realizedPNL=0.0, account='U8898867'),\n",
       " PortfolioItem(contract=Stock(conId=70737252, symbol='YINN', right='0', primaryExchange='ARCA', currency='USD', localSymbol='YINN', tradingClass='YINN'), position=200.0, marketPrice=18.80492975, marketValue=3760.99, averageCost=21.0, unrealizedPNL=-439.01, realizedPNL=0.0, account='U8898867')]"
      ]
     },
     "execution_count": 2,
     "metadata": {},
     "output_type": "execute_result"
    }
   ],
   "source": [
    "import asyncio\n",
    "loop = asyncio.SelectorEventLoop()\n",
    "asyncio.set_event_loop(loop)\n",
    "\n",
    "\n",
    "from ib_insync import IB, util\n",
    "util.startLoop()\n",
    "\n",
    "with IB().connect('127.0.0.1', 1300, 3) as ib:\n",
    "    pf = ib.portfolio()\n",
    "    df_pf = util.df(pf).iloc[:, :6].head(2)\n",
    "df_pf\n",
    "pf"
   ]
  },
  {
   "cell_type": "code",
   "execution_count": 4,
   "metadata": {},
   "outputs": [
    {
     "data": {
      "text/html": [
       "<div>\n",
       "<style scoped>\n",
       "    .dataframe tbody tr th:only-of-type {\n",
       "        vertical-align: middle;\n",
       "    }\n",
       "\n",
       "    .dataframe tbody tr th {\n",
       "        vertical-align: top;\n",
       "    }\n",
       "\n",
       "    .dataframe thead th {\n",
       "        text-align: right;\n",
       "    }\n",
       "</style>\n",
       "<table border=\"1\" class=\"dataframe\">\n",
       "  <thead>\n",
       "    <tr style=\"text-align: right;\">\n",
       "      <th></th>\n",
       "      <th>symbol</th>\n",
       "      <th>expiry</th>\n",
       "      <th>strike</th>\n",
       "      <th>exchange</th>\n",
       "      <th>mult</th>\n",
       "      <th>dte</th>\n",
       "      <th>lot</th>\n",
       "    </tr>\n",
       "  </thead>\n",
       "  <tbody>\n",
       "    <tr>\n",
       "      <th>0</th>\n",
       "      <td>AARTIIND</td>\n",
       "      <td>20210429</td>\n",
       "      <td>620.0</td>\n",
       "      <td>NSE</td>\n",
       "      <td>1</td>\n",
       "      <td>22</td>\n",
       "      <td>425.0</td>\n",
       "    </tr>\n",
       "    <tr>\n",
       "      <th>1</th>\n",
       "      <td>AARTIIND</td>\n",
       "      <td>20210429</td>\n",
       "      <td>640.0</td>\n",
       "      <td>NSE</td>\n",
       "      <td>1</td>\n",
       "      <td>22</td>\n",
       "      <td>425.0</td>\n",
       "    </tr>\n",
       "    <tr>\n",
       "      <th>2</th>\n",
       "      <td>AARTIIND</td>\n",
       "      <td>20210429</td>\n",
       "      <td>660.0</td>\n",
       "      <td>NSE</td>\n",
       "      <td>1</td>\n",
       "      <td>22</td>\n",
       "      <td>425.0</td>\n",
       "    </tr>\n",
       "    <tr>\n",
       "      <th>3</th>\n",
       "      <td>AARTIIND</td>\n",
       "      <td>20210429</td>\n",
       "      <td>680.0</td>\n",
       "      <td>NSE</td>\n",
       "      <td>1</td>\n",
       "      <td>22</td>\n",
       "      <td>425.0</td>\n",
       "    </tr>\n",
       "    <tr>\n",
       "      <th>4</th>\n",
       "      <td>AARTIIND</td>\n",
       "      <td>20210429</td>\n",
       "      <td>700.0</td>\n",
       "      <td>NSE</td>\n",
       "      <td>1</td>\n",
       "      <td>22</td>\n",
       "      <td>425.0</td>\n",
       "    </tr>\n",
       "    <tr>\n",
       "      <th>...</th>\n",
       "      <td>...</td>\n",
       "      <td>...</td>\n",
       "      <td>...</td>\n",
       "      <td>...</td>\n",
       "      <td>...</td>\n",
       "      <td>...</td>\n",
       "      <td>...</td>\n",
       "    </tr>\n",
       "    <tr>\n",
       "      <th>39128</th>\n",
       "      <td>ZEEL</td>\n",
       "      <td>20210624</td>\n",
       "      <td>330.0</td>\n",
       "      <td>NSE</td>\n",
       "      <td>1</td>\n",
       "      <td>78</td>\n",
       "      <td>3000.0</td>\n",
       "    </tr>\n",
       "    <tr>\n",
       "      <th>39129</th>\n",
       "      <td>ZEEL</td>\n",
       "      <td>20210624</td>\n",
       "      <td>335.0</td>\n",
       "      <td>NSE</td>\n",
       "      <td>1</td>\n",
       "      <td>78</td>\n",
       "      <td>3000.0</td>\n",
       "    </tr>\n",
       "    <tr>\n",
       "      <th>39130</th>\n",
       "      <td>ZEEL</td>\n",
       "      <td>20210624</td>\n",
       "      <td>340.0</td>\n",
       "      <td>NSE</td>\n",
       "      <td>1</td>\n",
       "      <td>78</td>\n",
       "      <td>3000.0</td>\n",
       "    </tr>\n",
       "    <tr>\n",
       "      <th>39131</th>\n",
       "      <td>ZEEL</td>\n",
       "      <td>20210624</td>\n",
       "      <td>345.0</td>\n",
       "      <td>NSE</td>\n",
       "      <td>1</td>\n",
       "      <td>78</td>\n",
       "      <td>3000.0</td>\n",
       "    </tr>\n",
       "    <tr>\n",
       "      <th>39132</th>\n",
       "      <td>ZEEL</td>\n",
       "      <td>20210624</td>\n",
       "      <td>350.0</td>\n",
       "      <td>NSE</td>\n",
       "      <td>1</td>\n",
       "      <td>78</td>\n",
       "      <td>3000.0</td>\n",
       "    </tr>\n",
       "  </tbody>\n",
       "</table>\n",
       "<p>39133 rows × 7 columns</p>\n",
       "</div>"
      ],
      "text/plain": [
       "         symbol    expiry  strike exchange mult  dte     lot\n",
       "0      AARTIIND  20210429   620.0      NSE    1   22   425.0\n",
       "1      AARTIIND  20210429   640.0      NSE    1   22   425.0\n",
       "2      AARTIIND  20210429   660.0      NSE    1   22   425.0\n",
       "3      AARTIIND  20210429   680.0      NSE    1   22   425.0\n",
       "4      AARTIIND  20210429   700.0      NSE    1   22   425.0\n",
       "...         ...       ...     ...      ...  ...  ...     ...\n",
       "39128      ZEEL  20210624   330.0      NSE    1   78  3000.0\n",
       "39129      ZEEL  20210624   335.0      NSE    1   78  3000.0\n",
       "39130      ZEEL  20210624   340.0      NSE    1   78  3000.0\n",
       "39131      ZEEL  20210624   345.0      NSE    1   78  3000.0\n",
       "39132      ZEEL  20210624   350.0      NSE    1   78  3000.0\n",
       "\n",
       "[39133 rows x 7 columns]"
      ]
     },
     "execution_count": 4,
     "metadata": {},
     "output_type": "execute_result"
    }
   ],
   "source": [
    "import pandas as pd\n",
    "pd.read_pickle('./data/nse/df_chains.pkl')"
   ]
  },
  {
   "cell_type": "code",
   "execution_count": 5,
   "metadata": {},
   "outputs": [
    {
     "name": "stdout",
     "output_type": "stream",
     "text": [
      "jupyter core     : 4.7.1\n",
      "jupyter-notebook : 6.3.0\n",
      "qtconsole        : 5.0.3\n",
      "ipython          : 7.22.0\n",
      "ipykernel        : 5.5.3\n",
      "jupyter client   : 6.1.13\n",
      "jupyter lab      : 2.2.0\n",
      "nbconvert        : 6.0.7\n",
      "ipywidgets       : 7.6.3\n",
      "nbformat         : 5.1.3\n",
      "traitlets        : 5.0.5\n"
     ]
    }
   ],
   "source": [
    "!jupyter --version"
   ]
  },
  {
   "cell_type": "code",
   "execution_count": null,
   "metadata": {},
   "outputs": [],
   "source": []
  },
  {
   "cell_type": "code",
   "execution_count": null,
   "metadata": {},
   "outputs": [],
   "source": [
    "df_pf"
   ]
  },
  {
   "cell_type": "code",
   "execution_count": null,
   "metadata": {},
   "outputs": [],
   "source": [
    "import asyncio\n",
    "async def async_function():\n",
    "    print(\"Hi I am async\")\n",
    "    await asyncio.sleep(1)\n",
    "\n",
    "loop = asyncio.get_event_loop()"
   ]
  },
  {
   "cell_type": "code",
   "execution_count": null,
   "metadata": {},
   "outputs": [],
   "source": [
    "try:\n",
    "    loop.run_until_complete(await async_function())\n",
    "except Exception as e:\n",
    "    print('[ERROR] -> ', e)"
   ]
  },
  {
   "cell_type": "code",
   "execution_count": null,
   "metadata": {},
   "outputs": [],
   "source": [
    "loop.create_task(async_function())"
   ]
  },
  {
   "cell_type": "code",
   "execution_count": null,
   "metadata": {},
   "outputs": [],
   "source": [
    "asyncio.run_coroutine_threadsafe(await async_function(), loop)"
   ]
  },
  {
   "cell_type": "code",
   "execution_count": null,
   "metadata": {},
   "outputs": [],
   "source": [
    "import asyncio\n",
    "import nest_asyncio\n",
    "nest_asyncio.apply()\n",
    "# asyncio.set_event_loop_policy(asyncio.WindowsSelectorEventLoopPolicy())\n",
    "try:\n",
    "    import datalad.api as dl\n",
    "except:\n",
    "    pass\n",
    "print(\"Do again\")\n",
    "import datalad.api as dl"
   ]
  },
  {
   "cell_type": "code",
   "execution_count": null,
   "metadata": {},
   "outputs": [],
   "source": []
  }
 ],
 "metadata": {
  "kernelspec": {
   "display_name": "Python 3",
   "language": "python",
   "name": "python3"
  },
  "language_info": {
   "codemirror_mode": {
    "name": "ipython",
    "version": 3
   },
   "file_extension": ".py",
   "mimetype": "text/x-python",
   "name": "python",
   "nbconvert_exporter": "python",
   "pygments_lexer": "ipython3",
   "version": "3.9.2"
  },
  "metadata": {
   "interpreter": {
    "hash": "c900facb41d0d16821e6b2c5eee60b5cc8f4874b1b71d8c1ce7cf42896527b47"
   }
  }
 },
 "nbformat": 4,
 "nbformat_minor": 4
}
