{
 "cells": [
  {
   "cell_type": "code",
   "execution_count": null,
   "metadata": {},
   "outputs": [],
   "source": [
    "MARKET = 'NSE'"
   ]
  },
  {
   "cell_type": "code",
   "execution_count": null,
   "metadata": {},
   "outputs": [],
   "source": [
    "import sys\n",
    "import pathlib\n",
    "import numpy as np\n",
    "import pandas as pd\n",
    "import yaml\n",
    "import asyncio\n",
    "\n",
    "from ib_insync import IB, util, Option, MarketOrder, Contract\n",
    "from typing import Callable, Coroutine, Union"
   ]
  },
  {
   "cell_type": "code",
   "execution_count": null,
   "metadata": {},
   "outputs": [],
   "source": [
    "# Specific to Jupyter. Will be ignored in IDE / command-lines\n",
    "import IPython as ipy\n",
    "if ipy.get_ipython().__class__.__name__ == 'ZMQInteractiveShell':\n",
    "    import nest_asyncio\n",
    "    nest_asyncio.apply()\n",
    "    util.startLoop()\n",
    "    pd.options.display.max_columns = None\n",
    "    pd.options.display.float_format = '{:,.2f}'.format # set float precision with comma\n",
    "    \n",
    "    THIS_FOLDER = '' # Dummy for jupyter notebook's current folder\n",
    "    BAR_FORMAT = \"{l_bar}{bar:-20}{r_bar}\""
   ]
  },
  {
   "cell_type": "code",
   "execution_count": null,
   "metadata": {},
   "outputs": [],
   "source": [
    "# Get capability to import programs from `asyncib` folder\n",
    "cwd = pathlib.Path.cwd() # working directory from where python was initiated\n",
    "DATAPATH = cwd.joinpath('data', MARKET.lower()) # path to store data files\n",
    "LOGFILE = cwd.joinpath(THIS_FOLDER, 'data', 'log', 'temp.log') # path to store log files\n",
    "\n",
    "IBPATH = cwd.parent.parent.joinpath('asyncib') # where ib programs are stored\n",
    "\n",
    "# append IBPATH to import programs.\n",
    "if str(IBPATH) not in sys.path:  # Convert it to string!\n",
    "    sys.path.append(str(IBPATH))\n",
    "    \n",
    "IBDATAPATH = IBPATH.joinpath('data', MARKET.lower())"
   ]
  },
  {
   "cell_type": "code",
   "execution_count": null,
   "metadata": {},
   "outputs": [],
   "source": [
    "# Get the host, port, cid\n",
    "from engine import Vars\n",
    "\n",
    "ibp = Vars(MARKET.upper())  # IB Parameters from var.yml\n",
    "HOST, PORT, CID = ibp.HOST, ibp.PORT, ibp.CID"
   ]
  },
  {
   "cell_type": "code",
   "execution_count": null,
   "metadata": {},
   "outputs": [],
   "source": [
    "# Get the pickle files\n",
    "from os import listdir\n",
    "fs = listdir(DATAPATH)\n",
    "\n",
    "files = [f for f in fs if f[-4:] == '.pkl']\n",
    "for f in files:\n",
    "    exec(f\"{f.split('.')[0]} = pd.read_pickle(DATAPATH.joinpath(f))\")\n",
    "np.sort(np.array(files))"
   ]
  },
  {
   "cell_type": "code",
   "execution_count": null,
   "metadata": {},
   "outputs": [],
   "source": [
    "# * IMPORTS"
   ]
  },
  {
   "cell_type": "code",
   "execution_count": null,
   "metadata": {},
   "outputs": [],
   "source": [
    "# * FUNCTION INPUTS"
   ]
  },
  {
   "cell_type": "code",
   "execution_count": null,
   "metadata": {},
   "outputs": [],
   "source": [
    "# * SETUP"
   ]
  },
  {
   "cell_type": "code",
   "execution_count": null,
   "metadata": {},
   "outputs": [],
   "source": [
    "# * CODE"
   ]
  }
 ],
 "metadata": {
  "kernelspec": {
   "display_name": "Python 3",
   "language": "python",
   "name": "python3"
  },
  "language_info": {
   "codemirror_mode": {
    "name": "ipython",
    "version": 3
   },
   "file_extension": ".py",
   "mimetype": "text/x-python",
   "name": "python",
   "nbconvert_exporter": "python",
   "pygments_lexer": "ipython3",
   "version": "3.8.5"
  }
 },
 "nbformat": 4,
 "nbformat_minor": 4
}
