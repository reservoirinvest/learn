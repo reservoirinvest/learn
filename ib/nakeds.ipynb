{
 "cells": [
  {
   "cell_type": "markdown",
   "metadata": {},
   "source": [
    "# Making `nakeds` based on YAML settings\n",
    "- from `df_opts.pkl` without `price` and `margin`"
   ]
  },
  {
   "cell_type": "code",
   "execution_count": null,
   "metadata": {},
   "outputs": [],
   "source": [
    "import pathlib\n",
    "\n",
    "import pandas as pd\n",
    "import numpy as np\n",
    "\n",
    "from ib_insync import util, IB, MarketOrder\n",
    "\n",
    "from engine import Vars, get_unds, qpAsync\n",
    "from support import calcsdmult_df, get_prob, get_prec\n",
    "from dfrq import get_dfrq"
   ]
  },
  {
   "cell_type": "code",
   "execution_count": null,
   "metadata": {},
   "outputs": [],
   "source": [
    "util.startLoop()"
   ]
  },
  {
   "cell_type": "code",
   "execution_count": null,
   "metadata": {},
   "outputs": [],
   "source": [
    "# INPUTS\n",
    "MARKET = 'SNP'\n",
    "SYMBOL = '' # If a SYMBOL is given, this becomes a nakeds' deep-dive\n",
    "RUN_ON_PAPER = False\n",
    "EARLIEST = False # Used for latest expiry nakeds\n",
    "RECALC_UNDS = True # If underlying prices need to be recalculated"
   ]
  },
  {
   "cell_type": "code",
   "execution_count": null,
   "metadata": {},
   "outputs": [],
   "source": [
    "# * SETTINGS\n",
    "ibp = Vars(MARKET.upper())  # IB Parameters from var.yml\n",
    "locals().update(ibp.__dict__)\n",
    "\n",
    "# set and empty log file\n",
    "logf = pathlib.Path.cwd().joinpath('data', 'log', 'temp.log')\n",
    "util.logToFile(path=logf, level=30)\n",
    "with open(logf, \"w\"):\n",
    "    pass\n",
    "\n",
    "datapath = pathlib.Path.cwd().joinpath('data', MARKET.lower())"
   ]
  },
  {
   "cell_type": "code",
   "execution_count": null,
   "metadata": {},
   "outputs": [],
   "source": [
    "df_opts = pd.read_pickle(datapath.joinpath(\"df_opts.pkl\"))\n",
    "df_unds = pd.read_pickle(datapath.joinpath(\"df_unds.pkl\"))"
   ]
  },
  {
   "cell_type": "code",
   "execution_count": null,
   "metadata": {},
   "outputs": [],
   "source": [
    "## ** PREPARE RAW DATA\n",
    "\n",
    "# get dfrq\n",
    "dfrq = get_dfrq(MARKET, RUN_ON_PAPER=False)"
   ]
  },
  {
   "cell_type": "code",
   "execution_count": null,
   "metadata": {},
   "outputs": [],
   "source": [
    "# collect the symbols without blacklist\n",
    "\n",
    "if SYMBOL: # If a symbol is given it becomes a deep-dive\n",
    "    NAKEDS = set([SYMBOL])\n",
    "    EARLIEST = True\n",
    "    DEEPDIVE = True\n",
    "else:\n",
    "    NAKEDS = set(dfrq[dfrq.status == \"naked\"].symbol) - set(ibp.BLACKLIST)\n",
    "    DEEPDIVE = False\n",
    "\n",
    "df_raw = df_opts[df_opts.symbol.isin(NAKEDS)]\n",
    "\n",
    "# handle EARLIEST\n",
    "\n",
    "# . filter on dte\n",
    "if EARLIEST:  # keep only the earliest expiring dte for each symbol\n",
    "    df_raw = df_raw[df_raw.dte == df_raw.groupby(\"symbol\").dte.transform(min)]\n",
    "\n",
    "else:  # remove dtes between MINDTE and MAXDTE\n",
    "    df_raw = df_raw[df_raw.dte.between(ibp.MINDTE, ibp.MAXDTE, inclusive=True)]\n",
    "\n",
    "# handle RECALC_UNDS\n",
    "und_cts = df_unds[df_unds.symbol.isin(df_raw.symbol.unique())].contract\n",
    "\n",
    "if RECALC_UNDS:\n",
    "    df_unds = get_unds(MARKET, und_cts, RUN_ON_PAPER=RUN_ON_PAPER, SAVE=False)\n",
    "\n",
    "# update und_iv and undPrice from df_unds\n",
    "df_raw.set_index('symbol', inplace=True)\n",
    "df_raw.update(df_unds[['symbol', 'iv', 'undPrice']].rename(columns={'iv': 'und_iv'}).set_index('symbol'))\n",
    "df_raw.reset_index(inplace=True)\n",
    "\n",
    "# determine standard deviations\n",
    "df_raw = df_raw.assign(und_sd=calcsdmult_df(df_raw.strike, df_raw.rename(columns={'und_iv':'iv'})))\n",
    "\n",
    "# ** CLIP FOR TARGETS\n",
    "\n",
    "remq = dfrq.set_index('symbol').remq.to_dict()\n",
    "\n",
    "if not DEEPDIVE:\n",
    "    \n",
    "    # . remove calls and puts above sdMult and against direction\n",
    "    call_mask = (\n",
    "        (df_raw.right == \"C\")\n",
    "        & (df_raw.und_sd > ibp.CALLSTDMULT)\n",
    "        & (df_raw.strike > df_raw.undPrice)\n",
    "    )\n",
    "    put_mask = (\n",
    "        (df_raw.right == \"P\")\n",
    "        & (df_raw.und_sd > ibp.PUTSTDMULT)\n",
    "        & (df_raw.strike < df_raw.undPrice)\n",
    "    )\n",
    "    \n",
    "    df_raw = df_raw[call_mask | put_mask].reset_index(drop=True) \n",
    "\n",
    "    # integrate with remq\n",
    "    df_raw = df_raw.set_index('symbol').join(dfrq.set_index('symbol').remq).reset_index()\n",
    "\n",
    "    df_raw.loc[df_raw.right=='P','strike']*= -1\n",
    "\n",
    "    s=(df_raw.sort_values('strike').groupby(['symbol','right'])\n",
    "         .cumcount()\n",
    "         .reindex(df_raw.index)\n",
    "      )\n",
    "\n",
    "    df_nakeds = df_raw[s<df_raw['symbol'].map(remq)].sort_values(['symbol','right']).reset_index(drop=True)\n",
    "    df_nakeds.loc[df_nakeds.right=='P', 'strike'] *= -1\n",
    "\n",
    "else:\n",
    "    df_nakeds = df_raw.assign(remq = df_raw.symbol.map(remq))"
   ]
  },
  {
   "cell_type": "code",
   "execution_count": null,
   "metadata": {},
   "outputs": [],
   "source": [
    "# ** GET PRICE, IV AND MARGIN\n",
    "\n",
    "# price and iv\n",
    "with IB().connect(HOST, PORT, CID) as ib:\n",
    "    df_pr = ib.run(qpAsync(ib, df_nakeds.contract, **{'FILL_DELAY': 5.5}))\n",
    "    ib.disconnect()"
   ]
  },
  {
   "cell_type": "code",
   "execution_count": null,
   "metadata": {},
   "outputs": [],
   "source": [
    "# margins\n",
    "orders = [MarketOrder(\"SELL\", lot / lot)\n",
    "            if MARKET.upper() == \"SNP\"\n",
    "                else MarketOrder(\"SELL\", lot)\n",
    "            for lot in df_nakeds.lot]\n",
    "\n",
    "opt_cos = [(c, o) for c, o in zip(df_nakeds.contract, orders)]"
   ]
  },
  {
   "cell_type": "code",
   "execution_count": null,
   "metadata": {},
   "outputs": [],
   "source": [
    "from engine import margin, post_df, executeAsync"
   ]
  },
  {
   "cell_type": "code",
   "execution_count": null,
   "metadata": {},
   "outputs": [],
   "source": [
    "with IB().connect(HOST, PORT, CID) as ib:\n",
    "    df_mgn = ib.run(\n",
    "        executeAsync(\n",
    "            ib=ib,\n",
    "            algo=margin,\n",
    "            cts=opt_cos,\n",
    "            CONCURRENT=200,\n",
    "            TIMEOUT=6.5,\n",
    "            post_process=post_df,\n",
    "            DATAPATH=datapath,\n",
    "            OP_FILENAME=\"\",\n",
    "            SHOW_TQDM=True,\n",
    "            **{\"FILL_DELAY\": 6.48},\n",
    "        )\n",
    "    )"
   ]
  },
  {
   "cell_type": "code",
   "execution_count": null,
   "metadata": {},
   "outputs": [],
   "source": [
    "df_mgn.head()"
   ]
  },
  {
   "cell_type": "code",
   "execution_count": null,
   "metadata": {},
   "outputs": [],
   "source": [
    "df_pr.head()"
   ]
  },
  {
   "cell_type": "code",
   "execution_count": null,
   "metadata": {},
   "outputs": [],
   "source": [
    "# integrate price, iv and margins\n",
    "df_nakeds = df_nakeds.set_index(\"conId\")\\\n",
    "                .join(df_mgn.set_index(\"conId\")[[\"comm\", \"margin\"]])\\\n",
    "                     .join(df_pr.set_index(\"conId\")\\\n",
    "                           [[\"bid\", \"ask\", \"close\", \"last\", \"iv\", \"price\"]])\\\n",
    "                            .reset_index()"
   ]
  },
  {
   "cell_type": "code",
   "execution_count": null,
   "metadata": {},
   "outputs": [],
   "source": [
    "df_nakeds"
   ]
  },
  {
   "cell_type": "code",
   "execution_count": null,
   "metadata": {},
   "outputs": [],
   "source": [
    "# update null iv with und_iv\n",
    "m_iv = df_nakeds.iv.isnull()\n",
    "df_nakeds.loc[m_iv, \"iv\"] = df_nakeds[m_iv].und_iv\n",
    "\n",
    "## ** GET EXPECTED PRICE AND ROM\n",
    "\n",
    "# compute sdMult\n",
    "df_nakeds = df_nakeds.assign(sdMult=calcsdmult_df(df_nakeds.strike, df_nakeds))\n",
    "\n",
    "# compute prop\n",
    "df_nakeds = df_nakeds.assign(prop=df_nakeds.sdMult.apply(get_prob))\n",
    "\n",
    "# compute intrinsic values\n",
    "df_nakeds = df_nakeds.assign(\n",
    "    intrinsic=np.where(\n",
    "        df_nakeds.right == \"C\",\n",
    "        (df_nakeds.undPrice - df_nakeds.strike).clip(0, None),\n",
    "        (df_nakeds.strike - df_nakeds.undPrice).clip(0, None),\n",
    "    )\n",
    ")\n",
    "\n",
    "# compute time values\n",
    "df_nakeds = df_nakeds.assign(timevalue=df_nakeds.price - df_nakeds.intrinsic)"
   ]
  },
  {
   "cell_type": "code",
   "execution_count": null,
   "metadata": {},
   "outputs": [],
   "source": [
    "# compute rom based on timevalue, remove zero rom and down-sort on it\n",
    "df_nakeds[\"rom\"] = (\n",
    "    (df_nakeds.timevalue * df_nakeds.lot - df_nakeds.comm).clip(0)\n",
    "    / df_nakeds.margin\n",
    "    * 365\n",
    "    / df_nakeds.dte\n",
    ")\n",
    "\n",
    "df_nakeds = (\n",
    "    df_nakeds[df_nakeds.rom > 0]\n",
    "    .sort_values(\"rom\", ascending=False)\n",
    "    .reset_index(drop=True)\n",
    ")\n",
    "\n",
    "# establish expRom\n",
    "#    ... for those whose RoM is < MINEXPROM, make it equal to MINEXPROM\n",
    "df_nakeds[\"expRom\"] = np.maximum(ibp.MINEXPROM, df_nakeds.rom)\n",
    "\n",
    "# set expPrice to be based on expRom\n",
    "df_nakeds[\"expPrice\"] = (\n",
    "    df_nakeds.expRom\n",
    "    * np.maximum(ibp.MINOPTSELLPRICE, df_nakeds.price)\n",
    "    / df_nakeds.rom\n",
    ").apply(lambda x: get_prec(x, ibp.PREC))"
   ]
  },
  {
   "cell_type": "code",
   "execution_count": null,
   "metadata": {},
   "outputs": [],
   "source": [
    "df_nakeds[df_nakeds.expRom == df_nakeds.rom]"
   ]
  },
  {
   "cell_type": "code",
   "execution_count": null,
   "metadata": {},
   "outputs": [],
   "source": []
  }
 ],
 "metadata": {
  "kernelspec": {
   "display_name": "Python 3",
   "language": "python",
   "name": "python3"
  },
  "language_info": {
   "codemirror_mode": {
    "name": "ipython",
    "version": 3
   },
   "file_extension": ".py",
   "mimetype": "text/x-python",
   "name": "python",
   "nbconvert_exporter": "python",
   "pygments_lexer": "ipython3",
   "version": "3.9.1"
  }
 },
 "nbformat": 4,
 "nbformat_minor": 4
}
