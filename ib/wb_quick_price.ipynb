{
 "cells": [
  {
   "cell_type": "markdown",
   "metadata": {},
   "source": [
    "# Quick Price"
   ]
  },
  {
   "cell_type": "code",
   "execution_count": null,
   "metadata": {},
   "outputs": [],
   "source": [
    "import pathlib\n",
    "\n",
    "from ib_insync import IB, Stock, Contract, util\n",
    "import datetime\n",
    "from collections import defaultdict\n",
    "import pandas as pd\n",
    "import numpy as np\n",
    "import asyncio"
   ]
  },
  {
   "cell_type": "code",
   "execution_count": null,
   "metadata": {},
   "outputs": [],
   "source": [
    "from engine import Vars"
   ]
  },
  {
   "cell_type": "code",
   "execution_count": null,
   "metadata": {},
   "outputs": [],
   "source": [
    "util.startLoop()"
   ]
  },
  {
   "cell_type": "code",
   "execution_count": null,
   "metadata": {},
   "outputs": [],
   "source": [
    "# * INPUTS\n",
    "MARKET = 'NSE'\n",
    "SYMBOL = 'IOC'\n",
    "DTE = 10"
   ]
  },
  {
   "cell_type": "code",
   "execution_count": null,
   "metadata": {},
   "outputs": [],
   "source": [
    "# * SETTINGS\n",
    "ibp = Vars(MARKET.upper())  # IB Parameters from var.yml\n",
    "HOST, PORT, CID = ibp.HOST, ibp.PAPER, ibp.CID"
   ]
  },
  {
   "cell_type": "code",
   "execution_count": null,
   "metadata": {},
   "outputs": [],
   "source": [
    "df_opts = pd.read_pickle(pathlib.Path.cwd().joinpath('data', MARKET.lower(), 'df_opts.pkl'))\n",
    "df_unds = pd.read_pickle(pathlib.Path.cwd().joinpath('data', MARKET.lower(), 'df_unds.pkl'))\n",
    "df_chains = pd.read_pickle(pathlib.Path.cwd().joinpath('data', MARKET.lower(), 'df_chains.pkl'))"
   ]
  },
  {
   "cell_type": "code",
   "execution_count": null,
   "metadata": {},
   "outputs": [],
   "source": [
    "\n",
    "async def quick_price_async(ib: IB, contract: Contract) -> pd.DataFrame:\n",
    "    \n",
    "    # Check for executeAsync engine\n",
    "    if isinstance(contract, tuple):\n",
    "        contract = contract[0]\n",
    "    \n",
    "    result = defaultdict(dict)\n",
    "    \n",
    "    ticks = await asyncio.gather(ib.reqHistoricalTicksAsync(\n",
    "                                    contract=contract,\n",
    "                                    startDateTime='',\n",
    "                                    endDateTime=datetime.datetime.now(),\n",
    "                                    numberOfTicks=1,\n",
    "                                    whatToShow='Bid_Ask',\n",
    "                                    useRth=False,\n",
    "                                    ignoreSize=False),\n",
    "                                ib.reqHistoricalTicksAsync(\n",
    "                                    contract=contract,\n",
    "                                    startDateTime='',\n",
    "                                    endDateTime=datetime.datetime.now(),\n",
    "                                    numberOfTicks=1,\n",
    "                                    whatToShow='Trades',\n",
    "                                    useRth=False,\n",
    "                                    ignoreSize=False))\n",
    "    \n",
    "    # extract bid and ask price\n",
    "    try:\n",
    "        bid_ask = ticks[0][-1] # bid ask is not availble for Index securities!\n",
    "        result['bid'] = bid_ask.priceBid\n",
    "        result['ask'] = bid_ask.priceAsk\n",
    "        \n",
    "    except IndexError:\n",
    "        print(f'\\nNo bid-ask for {contract.localSymbol} of secType: {contract.secType}')\n",
    "        result['bid'] = np.nan\n",
    "        result['ask'] = np.nan       \n",
    "\n",
    "    # extract last reported price\n",
    "    try:\n",
    "        # pick reported price if available\n",
    "        result['last'] = [t.price for t in ticks[1] \n",
    "                      if not t.tickAttribLast.unreported][-1]\n",
    "    except IndexError:\n",
    "        # pick up last tick price\n",
    "        \n",
    "        try:\n",
    "            result['last'] = ticks[1][-1].price\n",
    "        except IndexError:\n",
    "            result['last'] = np.nan\n",
    "            \n",
    "    \n",
    "    # . build the df\n",
    "    df_pr = pd.DataFrame([pd.Series(contract.conId, name='conId'),\n",
    "                          pd.Series(contract.symbol, name='symbol'),\n",
    "                          pd.Series(contract.localSymbol, name='localSymbol'),\n",
    "                          pd.Series(result['bid'], name='bid', dtype='float64'), \n",
    "                          pd.Series(result['ask'], name='ask', dtype='float64'), \n",
    "                          pd.Series(result['last'], name='last', dtype='float64')]).T\n",
    "\n",
    "    # . use bid-ask avg if last price is not available\n",
    "    df_pr = df_pr.assign(price=df_pr['last'].combine_first(df_pr[['bid', 'ask']].mean(axis=1)))\n",
    "\n",
    "    return df_pr"
   ]
  },
  {
   "cell_type": "code",
   "execution_count": null,
   "metadata": {},
   "outputs": [],
   "source": [
    "IB().disconnect()"
   ]
  },
  {
   "cell_type": "code",
   "execution_count": null,
   "metadata": {},
   "outputs": [],
   "source": [
    "%%time\n",
    "# * MAKE TARGET OPTIONS\n",
    "\n",
    "# . get chains\n",
    "df_ch = df_chains[df_chains.symbol == SYMBOL]\n",
    "\n",
    "# . get its undPrice\n",
    "und_ct = df_unds[df_unds.symbol == SYMBOL].contract.iloc[0]\n",
    "\n",
    "with IB().connect(HOST, PORT, CID) as ib:\n",
    "    df_pr = ib.run(quick_price_async(ib, und_ct))"
   ]
  },
  {
   "cell_type": "code",
   "execution_count": null,
   "metadata": {},
   "outputs": [],
   "source": [
    "df_pr"
   ]
  },
  {
   "cell_type": "code",
   "execution_count": null,
   "metadata": {},
   "outputs": [],
   "source": [
    "%%time\n",
    "# making quick_price_async run with create_tasks\n",
    "import asyncio\n",
    "async def main(ib, cts):\n",
    "    tasks = [asyncio.create_task(quick_price_async(ib, c), name=c.symbol) for c in cts]\n",
    "    return await asyncio.gather(*tasks)\n",
    "\n",
    "cts = [c for c in df_unds.contract if c.symbol not in ['NIFTY50', 'BANKNIFTY']][:5] # !!! DATA LIMITER\n",
    "with IB().connect(HOST, PORT, CID) as ib:\n",
    "    ib.client.setConnectOptions('PACEAPI')\n",
    "    dfs = ib.run(main(ib, cts))"
   ]
  },
  {
   "cell_type": "code",
   "execution_count": null,
   "metadata": {},
   "outputs": [],
   "source": [
    "df = pd.concat(dfs, ignore_index=True)\n",
    "df"
   ]
  },
  {
   "cell_type": "code",
   "execution_count": null,
   "metadata": {},
   "outputs": [],
   "source": []
  }
 ],
 "metadata": {
  "kernelspec": {
   "display_name": "Python 3",
   "language": "python",
   "name": "python3"
  },
  "language_info": {
   "codemirror_mode": {
    "name": "ipython",
    "version": 3
   },
   "file_extension": ".py",
   "mimetype": "text/x-python",
   "name": "python",
   "nbconvert_exporter": "python",
   "pygments_lexer": "ipython3",
   "version": "3.8.5"
  }
 },
 "nbformat": 4,
 "nbformat_minor": 4
}
