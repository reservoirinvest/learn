{
 "cells": [
  {
   "cell_type": "code",
   "execution_count": 1,
   "metadata": {},
   "outputs": [],
   "source": [
    "MARKET = 'SNP'"
   ]
  },
  {
   "cell_type": "code",
   "execution_count": 2,
   "metadata": {},
   "outputs": [],
   "source": [
    "import sys\n",
    "import pathlib\n",
    "import numpy as np\n",
    "import pandas as pd\n",
    "import yaml\n",
    "import asyncio\n",
    "\n",
    "from ib_insync import IB, util, Option, MarketOrder, Contract\n",
    "from typing import Callable, Coroutine, Union"
   ]
  },
  {
   "cell_type": "code",
   "execution_count": 3,
   "metadata": {},
   "outputs": [],
   "source": [
    "# Specific to Jupyter. Will be ignored in IDE / command-lines\n",
    "import IPython as ipy\n",
    "if ipy.get_ipython().__class__.__name__ == 'ZMQInteractiveShell':\n",
    "    import nest_asyncio\n",
    "    nest_asyncio.apply()\n",
    "    util.startLoop()\n",
    "    pd.options.display.max_columns = None\n",
    "    \n",
    "    THIS_FOLDER = '' # Dummy for jupyter notebook's current folder"
   ]
  },
  {
   "cell_type": "code",
   "execution_count": 4,
   "metadata": {},
   "outputs": [],
   "source": [
    "# Get capability to import programs from `asyncib` folder\n",
    "cwd = pathlib.Path.cwd() # working directory from where python was initiated\n",
    "DATAPATH = cwd.joinpath('data', MARKET.lower()) # path to store data files\n",
    "LOGFILE = DATAPATH.joinpath('temp.log') # path to store log files\n",
    "\n",
    "IBPATH = cwd.parent.parent.joinpath('asyncib') # where ib programs are stored\n",
    "\n",
    "# append IBPATH to import programs.\n",
    "if str(IBPATH) not in sys.path:  # Convert it to string!\n",
    "    sys.path.append(str(IBPATH))\n",
    "    \n",
    "IBDATAPATH = IBPATH.joinpath('data', MARKET.lower())"
   ]
  },
  {
   "cell_type": "code",
   "execution_count": 6,
   "metadata": {},
   "outputs": [],
   "source": [
    "# Get the host, port, cid\n",
    "from engine import Vars\n",
    "\n",
    "ibp = Vars(MARKET.upper())  # IB Parameters from var.yml\n",
    "HOST, PORT, CID = ibp.HOST, ibp.PORT, ibp.CID"
   ]
  },
  {
   "cell_type": "code",
   "execution_count": 7,
   "metadata": {},
   "outputs": [
    {
     "data": {
      "text/plain": [
       "array(['df_chains.pkl', 'df_ohlcs.pkl', 'df_opt_prices.pkl',\n",
       "       'df_symlots.pkl', 'df_und_margins.pkl', 'df_unds.pkl', 'dfrq.pkl',\n",
       "       'qopt_rejects.pkl', 'qopts.pkl'], dtype='<U18')"
      ]
     },
     "execution_count": 7,
     "metadata": {},
     "output_type": "execute_result"
    }
   ],
   "source": [
    "# Get the pickle files\n",
    "from os import listdir\n",
    "fs = listdir(DATAPATH)\n",
    "\n",
    "files = [f for f in fs if f[-4:] == '.pkl']\n",
    "for f in files:\n",
    "    exec(f\"{f.split('.')[0]} = pd.read_pickle(DATAPATH.joinpath(f))\")\n",
    "np.sort(np.array(files))"
   ]
  },
  {
   "cell_type": "code",
   "execution_count": 11,
   "metadata": {},
   "outputs": [
    {
     "data": {
      "text/html": [
       "<div>\n",
       "<style scoped>\n",
       "    .dataframe tbody tr th:only-of-type {\n",
       "        vertical-align: middle;\n",
       "    }\n",
       "\n",
       "    .dataframe tbody tr th {\n",
       "        vertical-align: top;\n",
       "    }\n",
       "\n",
       "    .dataframe thead th {\n",
       "        text-align: right;\n",
       "    }\n",
       "</style>\n",
       "<table border=\"1\" class=\"dataframe\">\n",
       "  <thead>\n",
       "    <tr style=\"text-align: right;\">\n",
       "      <th></th>\n",
       "      <th>conId</th>\n",
       "    </tr>\n",
       "  </thead>\n",
       "  <tbody>\n",
       "    <tr>\n",
       "      <th>0</th>\n",
       "      <td>0</td>\n",
       "    </tr>\n",
       "  </tbody>\n",
       "</table>\n",
       "</div>"
      ],
      "text/plain": [
       "   conId\n",
       "0      0"
      ]
     },
     "execution_count": 11,
     "metadata": {},
     "output_type": "execute_result"
    }
   ],
   "source": []
  },
  {
   "cell_type": "markdown",
   "metadata": {},
   "source": [
    "# Making margins robust\n",
    "* [x] make wifAsync work for one contract\n",
    "* [x] find optimum settings for margins in executeAsync (checked in dfrq!)"
   ]
  },
  {
   "cell_type": "markdown",
   "metadata": {},
   "source": [
    "## 1. One contract wifAsync"
   ]
  },
  {
   "cell_type": "code",
   "execution_count": null,
   "metadata": {},
   "outputs": [],
   "source": [
    "# imports\n",
    "from engine import pre_process\n",
    "from support import get_dte"
   ]
  },
  {
   "cell_type": "code",
   "execution_count": null,
   "metadata": {},
   "outputs": [],
   "source": [
    "# build a set of contracts to test\n",
    "df = util.df(qopts.to_list()).iloc[:, 1:6].rename(columns={'lastTradeDateOrContractMonth': 'expiry'})\n",
    "\n",
    "df['contract'] = qopts\n",
    "df['order'] = [MarketOrder('SELL', 1)]*len(df)\n",
    "df['dte'] = df.expiry.apply(get_dte)\n",
    "df = df[df.dte>5].reset_index(drop=True)"
   ]
  },
  {
   "cell_type": "code",
   "execution_count": null,
   "metadata": {},
   "outputs": [],
   "source": [
    "# set the inputs\n",
    "ct = df.sample(1).contract.iloc[0]\n",
    "o = df[df.conId == ct.conId].order.iloc[0]\n",
    "\n",
    "co = (ct, o)\n",
    "\n",
    "kwargs = {'FILL_DELAY': 0.25}"
   ]
  },
  {
   "cell_type": "code",
   "execution_count": null,
   "metadata": {},
   "outputs": [],
   "source": [
    "async def margin(ib: IB, co, **kwargs) -> pd.DataFrame:\n",
    "    \n",
    "    try:\n",
    "        FILL_DELAY = kwargs['FILL_DELAY']\n",
    "    except KeyError as ke:\n",
    "        print(f\"\\nWarning: No FILL_DELAY supplied!. 1.5 second default is taken\\n\")\n",
    "        FILL_DELAY = 1.5\n",
    "    \n",
    "    empty_df = pd.DataFrame({\n",
    "                \"initMarginChange\": np.nan,\n",
    "                \"maxCommission\": np.nan,\n",
    "                \"commission\": np.nan,\n",
    "                },\n",
    "                index=range(1))\n",
    "    \n",
    "    try:\n",
    "        ct, o = pre_process(co)\n",
    "    except ValueError as ve:\n",
    "        print(f\"\\nError: {co} co supplied is incorrect! It should be a tuple(ct, o)\\n\")\n",
    "        df = empty_df\n",
    "        \n",
    "    async def wifAsync(ct, o):\n",
    "        wif = ib.whatIfOrderAsync(ct, o)\n",
    "        await asyncio.sleep(FILL_DELAY)\n",
    "        return wif\n",
    "    \n",
    "    wif = await wifAsync(ct, o)\n",
    "    \n",
    "    if wif.done():\n",
    "        \n",
    "        res = wif.result()\n",
    "        \n",
    "        try:\n",
    "        \n",
    "            df = util.df([res])[[\"initMarginChange\", \"maxCommission\", \"commission\"]]\n",
    "            \n",
    "        except TypeError as e:\n",
    "            \n",
    "            print(f\"\\nError: Unknown type of contract: {c}, order: {o}\" + \n",
    "                  f\" \\n...in margin wif: {wif} !\\n\" + \n",
    "                  f\"   \\n..... giving error{e}\")\n",
    "            \n",
    "            df = empty_df\n",
    "            \n",
    "        except IndexError as e:\n",
    "            \n",
    "            print(f\"\\nError: Index error for contract: {c}, order: {o}\" + \n",
    "                  f\" \\n...in margin wif: {wif} \\n\" + \n",
    "                  f\"   \\n..... giving error{e}\")\n",
    "            \n",
    "            df = empty_df\n",
    "    \n",
    "    else:\n",
    "        \n",
    "        print(f\"\\nError: wif could not complete for contract: {ct.localSymbol}\"+\n",
    "              f\"\\nTry by increasing FILL_DELAY from > {FILL_DELAY} secs\\n\")\n",
    "        \n",
    "        df = empty_df\n",
    "\n",
    "    # post-processing df\n",
    "    df = df.assign(secType = ct.secType, conId=ct.conId, localSymbol=ct.localSymbol, symbol=ct.symbol)\n",
    "    df = df.assign(\n",
    "            comm=df[[\"commission\", \"maxCommission\"]].min(axis=1),\n",
    "            margin=df.initMarginChange.astype(\"float\"))\n",
    "\n",
    "    # Correct unrealistic margin and commission\n",
    "    df = df.assign(margin=np.where(df.margin > 1e7, np.nan, df.margin),\n",
    "        comm=np.where(df.comm > 1e7, np.nan, df.comm))\n",
    "    \n",
    "    df = df[['conId', 'symbol', 'secType', 'localSymbol', 'margin', 'comm']]\n",
    "    \n",
    "    return df\n"
   ]
  },
  {
   "cell_type": "code",
   "execution_count": null,
   "metadata": {},
   "outputs": [],
   "source": [
    "%%time\n",
    "with IB().connect(HOST, PORT, CID) as ib:\n",
    "    dfm = ib.run(margin(ib, co, **kwargs))"
   ]
  },
  {
   "cell_type": "code",
   "execution_count": null,
   "metadata": {},
   "outputs": [],
   "source": [
    "dfm"
   ]
  }
 ],
 "metadata": {
  "kernelspec": {
   "display_name": "Python 3",
   "language": "python",
   "name": "python3"
  },
  "language_info": {
   "codemirror_mode": {
    "name": "ipython",
    "version": 3
   },
   "file_extension": ".py",
   "mimetype": "text/x-python",
   "name": "python",
   "nbconvert_exporter": "python",
   "pygments_lexer": "ipython3",
   "version": "3.8.6"
  }
 },
 "nbformat": 4,
 "nbformat_minor": 4
}
