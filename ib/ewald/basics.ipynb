{
 "cells": [
  {
   "cell_type": "markdown",
   "metadata": {},
   "source": [
    "# Basics\n",
    "Let us first take a look at what is inside the `ib_insync` package"
   ]
  },
  {
   "cell_type": "code",
   "execution_count": 1,
   "metadata": {},
   "outputs": [
    {
     "data": {
      "text/plain": [
       "array(['util', 'Event', 'SoftDollarTier', 'PriceIncrement', 'Execution',\n",
       "       'CommissionReport', 'BarList', 'BarDataList', 'RealTimeBarList',\n",
       "       'BarData', 'RealTimeBar', 'HistogramData', 'NewsProvider',\n",
       "       'DepthMktDataDescription', 'ScannerSubscription', 'ScanDataList',\n",
       "       'FundamentalRatios', 'ExecutionFilter', 'PnL', 'PnLSingle',\n",
       "       'AccountValue', 'TickData', 'TickByTickAllLast',\n",
       "       'TickByTickBidAsk', 'TickByTickMidPoint', 'HistoricalTick',\n",
       "       'HistoricalTickBidAsk', 'HistoricalTickLast', 'TickAttrib',\n",
       "       'TickAttribBidAsk', 'TickAttribLast', 'MktDepthData', 'DOMLevel',\n",
       "       'TradeLogEntry', 'FamilyCode', 'SmartComponent', 'PortfolioItem',\n",
       "       'Position', 'Fill', 'OptionComputation', 'OptionChain',\n",
       "       'Dividends', 'NewsArticle', 'HistoricalNews', 'NewsTick',\n",
       "       'NewsBulletin', 'ConnectionStats', 'Contract', 'Stock', 'Option',\n",
       "       'Future', 'ContFuture', 'Forex', 'Index', 'CFD', 'Commodity',\n",
       "       'Bond', 'FuturesOption', 'MutualFund', 'Warrant', 'Bag',\n",
       "       'TagValue', 'ComboLeg', 'DeltaNeutralContract', 'ContractDetails',\n",
       "       'ContractDescription', 'ScanData', 'Trade', 'Order', 'OrderStatus',\n",
       "       'OrderState', 'OrderComboLeg', 'LimitOrder', 'MarketOrder',\n",
       "       'StopOrder', 'StopLimitOrder', 'BracketOrder', 'OrderCondition',\n",
       "       'ExecutionCondition', 'MarginCondition', 'TimeCondition',\n",
       "       'PriceCondition', 'PercentChangeCondition', 'VolumeCondition',\n",
       "       'Ticker', 'IB', 'Client', 'RequestError', 'Wrapper', 'FlexReport',\n",
       "       'FlexError', 'IBC', 'IBController', 'Watchdog'], dtype='<U23')"
      ]
     },
     "execution_count": 1,
     "metadata": {},
     "output_type": "execute_result"
    }
   ],
   "source": [
    "import ib_insync\n",
    "import numpy as np\n",
    "\n",
    "np.array(ib_insync.__all__)"
   ]
  },
  {
   "cell_type": "markdown",
   "metadata": {},
   "source": [
    "## Importing\n",
    "The following two lines are used at the top of all notebooks. The first line imports everything and the second starts an event loop to keep the live notebook updated:"
   ]
  },
  {
   "cell_type": "code",
   "execution_count": 2,
   "metadata": {},
   "outputs": [],
   "source": [
    "from ib_insync import *\n",
    "util.startLoop()"
   ]
  },
  {
   "cell_type": "markdown",
   "metadata": {},
   "source": [
    "*Note that startLoop() only works in notebooks, not in regular Python programs.*"
   ]
  },
  {
   "cell_type": "markdown",
   "metadata": {},
   "source": [
    "## Connecting\n",
    "The main player of the whole package is the \"IB\" class. Let us create an IB instance and connect it to a running TWS/IBG application"
   ]
  },
  {
   "cell_type": "code",
   "execution_count": 3,
   "metadata": {},
   "outputs": [
    {
     "data": {
      "text/plain": [
       "<IB connected to 127.0.0.1:1301 clientId=10>"
      ]
     },
     "execution_count": 3,
     "metadata": {},
     "output_type": "execute_result"
    }
   ],
   "source": [
    "ib = IB()\n",
    "ib.connect('127.0.0.1', 1301, clientId=10)"
   ]
  },
  {
   "cell_type": "markdown",
   "metadata": {},
   "source": [
    "If the connection failed, then verify that the application has the API port enabled and double-check the hostname and port. For IB Gateway the default port is 4002. Make sure the clientID is not already in use.\n",
    "\n",
    "If the connection succeeded, then ib will be `synchronized` with TWS/IBG. The \"current state\" is now available via methods such as ib.positions(), ib.trades(), ib.openTrades(), ib.accountValues() or ib.tickers(). Let us list the current positions:"
   ]
  },
  {
   "cell_type": "code",
   "execution_count": 4,
   "metadata": {},
   "outputs": [
    {
     "data": {
      "text/plain": [
       "[Position(account='DU275686', contract=Stock(conId=274105, symbol='SBUX', exchange='NASDAQ', currency='USD', localSymbol='SBUX', tradingClass='NMS'), position=100.0, avgCost=103.831603)]"
      ]
     },
     "execution_count": 4,
     "metadata": {},
     "output_type": "execute_result"
    }
   ],
   "source": [
    "ib.positions()"
   ]
  },
  {
   "cell_type": "markdown",
   "metadata": {},
   "source": [
    "Or filter the account values to get the liquidation value:"
   ]
  },
  {
   "cell_type": "code",
   "execution_count": 5,
   "metadata": {},
   "outputs": [
    {
     "data": {
      "text/plain": [
       "[AccountValue(account='DU275686', tag='NetLiquidationByCurrency', value='1037737.9499', currency='BASE', modelCode='')]"
      ]
     },
     "execution_count": 5,
     "metadata": {},
     "output_type": "execute_result"
    }
   ],
   "source": [
    "[v for v in ib.accountValues() if v.tag == 'NetLiquidationByCurrency' and v.currency == 'BASE']"
   ]
  },
  {
   "cell_type": "markdown",
   "metadata": {},
   "source": [
    "The \"current state\" will automatically be kept in sync with TWS/IBG. So an order fill will be added as soon as it is reported, or account values will be updated as soon as they change in TWS."
   ]
  },
  {
   "cell_type": "markdown",
   "metadata": {},
   "source": [
    "## Contracts\n",
    "Contracts can be specified in different ways:\n",
    "* The ibapi way, by creating an `empty Contract` object and setting its attribute, one-by-one\n",
    "* By using `Contract` and giving the attributes as keyword argument\n",
    "* By using specialized `Stock`, `Option`, `Future`, `Forex`, `Index`, `CFD`, `Commodity`, `Bond`, `FuturesOption`, `MutualFund` or `Warrant` contracts\n",
    "\n",
    "\n",
    "Some examples:"
   ]
  },
  {
   "cell_type": "code",
   "execution_count": 6,
   "metadata": {},
   "outputs": [
    {
     "data": {
      "text/plain": [
       "Contract(conId=270639)"
      ]
     },
     "execution_count": 6,
     "metadata": {},
     "output_type": "execute_result"
    }
   ],
   "source": [
    "c = Contract()\n",
    "c.conId = 270639\n",
    "c"
   ]
  },
  {
   "cell_type": "code",
   "execution_count": 7,
   "metadata": {},
   "outputs": [
    {
     "data": {
      "text/plain": [
       "Bond(secIdType='ISIN', secId='US03076KAA60')"
      ]
     },
     "execution_count": 7,
     "metadata": {},
     "output_type": "execute_result"
    }
   ],
   "source": [
    "Contract(conId=270639)\n",
    "Stock('AMD', 'SMART', 'USD')\n",
    "Stock('INTC', 'SMART', 'USD', primaryExchange='NASDAQ')\n",
    "Forex('EURUSD')\n",
    "CFD('IBUS30')\n",
    "Future('ES', '20180921', 'GLOBEX')\n",
    "Option('SPY', '20170721', 240, 'C', 'SMART')\n",
    "Bond(secIdType='ISIN', secId='US03076KAA60')"
   ]
  },
  {
   "cell_type": "markdown",
   "metadata": {},
   "source": [
    "## Sending a request\n",
    "The IB class has nearly all request methods that the IB API offers. The methods that return a result will block until finished and then return the result. Take for example `reqContractDetails`."
   ]
  },
  {
   "cell_type": "code",
   "execution_count": 8,
   "metadata": {},
   "outputs": [
    {
     "data": {
      "text/plain": [
       "[ContractDetails(contract=Contract(secType='STK', conId=76792991, symbol='TSLA', exchange='SMART', primaryExchange='NASDAQ', currency='USD', localSymbol='TSLA', tradingClass='NMS'), marketName='NMS', minTick=0.01, orderTypes='ACTIVETIM,AD,ADJUST,ALERT,ALGO,ALLOC,AVGCOST,BASKET,BENCHPX,COND,CONDORDER,DARKONLY,DARKPOLL,DAY,DEACT,DEACTDIS,DEACTEOD,DIS,GAT,GTC,GTD,GTT,HID,IBKRATS,ICE,IMB,IOC,LIT,LMT,LOC,MIDPX,MIT,MKT,MOC,MTL,NGCOMB,NODARK,NONALGO,OCA,OPG,OPGREROUT,PEGBENCH,POSTONLY,PREOPGRTH,REL,RPI,RTH,SCALE,SCALEODD,SCALERST,SMARTSTG,SNAPMID,SNAPMKT,SNAPREL,STP,STPLMT,SWEEP,TRAIL,TRAILLIT,TRAILLMT,TRAILMIT,WHATIF', validExchanges='SMART,AMEX,NYSE,CBOE,PHLX,ISE,CHX,ARCA,ISLAND,DRCTEDGE,BEX,BATS,EDGEA,CSFBALGO,JEFFALGO,BYX,IEX,EDGX,FOXRIVER,PEARL,TPLUS1,NYSENAT,LTSE,MEMX,PSX', priceMagnifier=1, underConId=0, longName='TESLA INC', contractMonth='', industry='Consumer, Cyclical', category='Auto Manufacturers', subcategory='Auto-Cars/Light Trucks', timeZoneId='US/Eastern', tradingHours='20201228:0400-20201228:2000;20201229:0400-20201229:2000;20201230:0400-20201230:2000;20201231:0400-20201231:2000;20210101:CLOSED;20210102:CLOSED;20210103:CLOSED;20210104:0400-20210104:2000;20210105:0400-20210105:2000;20210106:0400-20210106:2000;20210107:0400-20210107:2000;20210108:0400-20210108:2000;20210109:CLOSED;20210110:CLOSED;20210111:0400-20210111:2000;20210112:0400-20210112:2000;20210113:0400-20210113:2000;20210114:0400-20210114:2000;20210115:0400-20210115:2000;20210116:CLOSED;20210117:CLOSED;20210118:0400-20210118:2000;20210119:0400-20210119:2000;20210120:0400-20210120:2000;20210121:0400-20210121:2000;20210122:0400-20210122:2000;20210123:CLOSED;20210124:CLOSED;20210125:0400-20210125:2000;20210126:0400-20210126:2000;20210127:0400-20210127:2000;20210128:0400-20210128:2000;20210129:0400-20210129:2000;20210130:CLOSED;20210131:CLOSED', liquidHours='20201228:0930-20201228:1600;20201229:0930-20201229:1600;20201230:0930-20201230:1600;20201231:0930-20201231:1600;20210101:CLOSED;20210102:CLOSED;20210103:CLOSED;20210104:0930-20210104:1600;20210105:0930-20210105:1600;20210106:0930-20210106:1600;20210107:0930-20210107:1600;20210108:0930-20210108:1600;20210109:CLOSED;20210110:CLOSED;20210111:0930-20210111:1600;20210112:0930-20210112:1600;20210113:0930-20210113:1600;20210114:0930-20210114:1600;20210115:0930-20210115:1600;20210116:CLOSED;20210117:CLOSED;20210118:0930-20210118:1600;20210119:0930-20210119:1600;20210120:0930-20210120:1600;20210121:0930-20210121:1600;20210122:0930-20210122:1600;20210123:CLOSED;20210124:CLOSED;20210125:0930-20210125:1600;20210126:0930-20210126:1600;20210127:0930-20210127:1600;20210128:0930-20210128:1600;20210129:0930-20210129:1600;20210130:CLOSED;20210131:CLOSED', evRule='', evMultiplier=0, mdSizeMultiplier=100, aggGroup=1, underSymbol='', underSecType='', marketRuleIds='26,26,26,26,26,26,26,26,26,26,26,26,26,26,26,26,26,26,26,26,26,26,26,26,26', secIdList=[TagValue(tag='ISIN', value='US88160R1014')], realExpirationDate='', lastTradeTime='', stockType='COMMON', cusip='', ratings='', descAppend='', bondType='', couponType='', callable=False, putable=False, coupon=0, convertible=False, maturity='', issueDate='', nextOptionDate='', nextOptionType='', nextOptionPartial=False, notes='')]"
      ]
     },
     "execution_count": 8,
     "metadata": {},
     "output_type": "execute_result"
    }
   ],
   "source": [
    "contract = Stock('TSLA', 'SMART', 'USD')\n",
    "ib.reqContractDetails(contract)"
   ]
  },
  {
   "cell_type": "markdown",
   "metadata": {},
   "source": [
    "## Current state vs request\n",
    "Doing a request involves network traffic going up and down and can take considerable time. The current state on the other hand is always immediately available. So, it is preferable to use the current state mentods over requests. For example, use `ib.openOrder()` instead of `ib.reqOpenOrders()` or `ib.positions()` instead of `ib.reqPositions()`, etc."
   ]
  },
  {
   "cell_type": "code",
   "execution_count": 9,
   "metadata": {},
   "outputs": [
    {
     "name": "stdout",
     "output_type": "stream",
     "text": [
      "Wall time: 0 ns\n"
     ]
    }
   ],
   "source": [
    "%time l = ib.positions()"
   ]
  },
  {
   "cell_type": "code",
   "execution_count": 10,
   "metadata": {},
   "outputs": [
    {
     "name": "stdout",
     "output_type": "stream",
     "text": [
      "Wall time: 2 ms\n"
     ]
    }
   ],
   "source": [
    "%time l = ib.reqPositions()"
   ]
  },
  {
   "cell_type": "markdown",
   "metadata": {},
   "source": [
    "## Logging\n",
    "The following will put log messages of INFO and higher level under the current active cell:"
   ]
  },
  {
   "cell_type": "code",
   "execution_count": 11,
   "metadata": {},
   "outputs": [],
   "source": [
    "util.logToConsole()"
   ]
  },
  {
   "cell_type": "markdown",
   "metadata": {},
   "source": [
    "To see all debug messages (including network traffic)"
   ]
  },
  {
   "cell_type": "code",
   "execution_count": 12,
   "metadata": {},
   "outputs": [],
   "source": [
    "import logging\n",
    "util.logToConsole(logging.INFO)"
   ]
  },
  {
   "cell_type": "markdown",
   "metadata": {},
   "source": [
    "## Disconnecting\n",
    "The following will disconnect `ib` and clear all its state:"
   ]
  },
  {
   "cell_type": "code",
   "execution_count": 13,
   "metadata": {},
   "outputs": [
    {
     "name": "stderr",
     "output_type": "stream",
     "text": [
      "2020-12-28 22:12:59,891 ib_insync.ib INFO Disconnecting from 127.0.0.1:1301, 162 B sent in 9 messages, 16.6 kB received in 301 messages, session time 865 ms.\n",
      "2020-12-28 22:12:59,892 ib_insync.client INFO Disconnecting\n",
      "2020-12-28 22:12:59,896 ib_insync.client INFO Disconnected\n"
     ]
    }
   ],
   "source": [
    "ib.disconnect()"
   ]
  },
  {
   "cell_type": "code",
   "execution_count": null,
   "metadata": {},
   "outputs": [],
   "source": []
  }
 ],
 "metadata": {
  "kernelspec": {
   "display_name": "Python 3",
   "language": "python",
   "name": "python3"
  },
  "language_info": {
   "codemirror_mode": {
    "name": "ipython",
    "version": 3
   },
   "file_extension": ".py",
   "mimetype": "text/x-python",
   "name": "python",
   "nbconvert_exporter": "python",
   "pygments_lexer": "ipython3",
   "version": "3.9.1"
  }
 },
 "nbformat": 4,
 "nbformat_minor": 4
}
