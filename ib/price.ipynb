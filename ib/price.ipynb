{
 "cells": [
  {
   "cell_type": "markdown",
   "metadata": {},
   "source": [
    "# Experiments on getting prices\n",
    "* As quickly as possible!\n",
    "\n",
    "# Findings\n",
    "* When market is `open`:\n",
    "    - use `executeAsync` from engine with `price` coro to get prices\n",
    "    - this is fast\n",
    "* When market is `closed`:\n",
    "    - use `ba_async` to get a df of bid-ask-last price\n",
    "    - this is slow. So data should be trimmed appropriately!\n"
   ]
  },
  {
   "cell_type": "code",
   "execution_count": 1,
   "metadata": {},
   "outputs": [],
   "source": [
    "import pathlib\n",
    "import datetime\n",
    "import pandas as pd\n",
    "import numpy as np\n",
    "import asyncio\n",
    "\n",
    "from ib_insync import IB, Stock, Contract, util\n",
    "\n",
    "from collections import defaultdict\n",
    "from tqdm import tqdm\n",
    "from datetime import datetime, timedelta\n",
    "\n",
    "from engine import Vars"
   ]
  },
  {
   "cell_type": "code",
   "execution_count": 2,
   "metadata": {},
   "outputs": [],
   "source": [
    "util.startLoop()"
   ]
  },
  {
   "cell_type": "code",
   "execution_count": 15,
   "metadata": {},
   "outputs": [],
   "source": [
    "# * INPUTS\n",
    "MARKET = 'NSE'\n",
    "SYMBOL = 'RELIANCE'\n",
    "DTE = 10"
   ]
  },
  {
   "cell_type": "code",
   "execution_count": 16,
   "metadata": {},
   "outputs": [],
   "source": [
    "# * SETTINGS\n",
    "ibp = Vars(MARKET.upper())  # IB Parameters from var.yml\n",
    "locals().update(ibp.__dict__)\n",
    "\n",
    "# set and empty log file\n",
    "logf = pathlib.Path.cwd().joinpath('data', 'log', 'temp.log')\n",
    "util.logToFile(path=logf, level=30)\n",
    "with open(logf, \"w\"):\n",
    "    pass\n",
    "\n",
    "datapath = pathlib.Path.cwd().joinpath('data', MARKET.lower())"
   ]
  },
  {
   "cell_type": "code",
   "execution_count": 17,
   "metadata": {},
   "outputs": [],
   "source": [
    "df_opts = pd.read_pickle(datapath.joinpath('df_opts.pkl'))\n",
    "df_unds = pd.read_pickle(datapath.joinpath('df_unds.pkl'))\n",
    "df_chains = pd.read_pickle(datapath.joinpath('df_chains.pkl'))"
   ]
  },
  {
   "cell_type": "markdown",
   "metadata": {},
   "source": [
    "## Preparing contracts\n",
    "### Nearest DTE contracts - sorted by strikeDelta"
   ]
  },
  {
   "cell_type": "code",
   "execution_count": null,
   "metadata": {},
   "outputs": [],
   "source": [
    "df_sym = df_opts[df_opts.symbol == SYMBOL] # filter symbol\n",
    "df_dte = df_sym[df_sym.dte == df_sym.dte.unique().min()] # filter dte\n",
    "\n",
    "# sort from strike nearest to undPrice to farthest\n",
    "df_dte = df_dte.iloc[abs(df_dte.strike-df_dte.undPrice.iloc[0]).argsort()]\n",
    "contracts = df_dte.contract.unique()\n",
    "\n",
    "contracts = contracts[:200] # !!! DATA LIMITER\n",
    "\n",
    "df_dte.head()"
   ]
  },
  {
   "cell_type": "markdown",
   "metadata": {},
   "source": [
    "### Option strike closest to underlying"
   ]
  },
  {
   "cell_type": "code",
   "execution_count": null,
   "metadata": {},
   "outputs": [],
   "source": [
    "df1 = df_dte[:1]\n",
    "contract = df1.contract.iloc[0]\n",
    "\n",
    "df1"
   ]
  },
  {
   "cell_type": "markdown",
   "metadata": {},
   "source": [
    "# Getting prices"
   ]
  },
  {
   "cell_type": "markdown",
   "metadata": {},
   "source": [
    "## A) From Market data\n",
    "### 1) Engine price\n",
    "#### a) Single contract - with 8 second fill delay"
   ]
  },
  {
   "cell_type": "raw",
   "metadata": {},
   "source": [
    "%%time\n",
    "from engine import price\n",
    "\n",
    "with IB().connect(HOST, PORT, CID) as ib:\n",
    "    df = ib.run(price(ib, contract, **{'FILL_DELAY': 8}))\n",
    "\n",
    "df"
   ]
  },
  {
   "cell_type": "markdown",
   "metadata": {},
   "source": [
    "#### b) Multiple contracts - with 8 second fill delay\n",
    "* Takes about 10 seconds for 200 prices\n",
    "* **`NOTE:`**\n",
    "    - should be used only when the market is open\n",
    "    - only gives `last` price, when the market is closed!\n",
    "    - this `last` price is not accurate."
   ]
  },
  {
   "cell_type": "code",
   "execution_count": null,
   "metadata": {},
   "outputs": [],
   "source": [
    "%%time\n",
    "from engine import price, pre_process, make_name, executeAsync, post_df\n",
    "\n",
    "with IB().connect(HOST, PORT, CID) as ib:\n",
    "    \n",
    "    ib.client.setConnectOptions('+PACEAPI')\n",
    "    \n",
    "    df = ib.run(\n",
    "            executeAsync(\n",
    "                ib=ib,\n",
    "                algo=price,\n",
    "                cts = contracts,\n",
    "                CONCURRENT = 200,\n",
    "                TIMEOUT=8,\n",
    "                post_process=post_df,\n",
    "                SHOW_TQDM=True,\n",
    "                **{'FILL_DELAY': 8}\n",
    "            ))"
   ]
  },
  {
   "cell_type": "code",
   "execution_count": null,
   "metadata": {},
   "outputs": [],
   "source": [
    "# sort by closest to strike\n",
    "df = df.assign(undPrice=df_unds[df_unds.symbol == SYMBOL].undPrice.iloc[0])\n",
    "df = df.iloc[abs(df.strike-df.undPrice.iloc[0]).argsort()]\n",
    "\n",
    "# remove options without time\n",
    "df1 = df[~df.time.isnull()]\n",
    "df1"
   ]
  },
  {
   "cell_type": "markdown",
   "metadata": {},
   "source": [
    "## B) From Historical Data"
   ]
  },
  {
   "cell_type": "markdown",
   "metadata": {},
   "source": [
    "### 1) Bid-Ask for multiple contracts\n",
    "\n",
    "**`NOTE`**\n",
    "* This function is very slow, but gives bid-ask-last price when market is closed\n",
    "* Takes 2 minutes for 20 prices!"
   ]
  },
  {
   "cell_type": "code",
   "execution_count": null,
   "metadata": {},
   "outputs": [],
   "source": [
    "async def ba_async(ib, contracts):\n",
    "   \n",
    "    async def coro(c):\n",
    "        \n",
    "        lastPrice = await ib.reqHistoricalDataAsync(\n",
    "                            contract=c,\n",
    "                            endDateTime='',\n",
    "                            durationStr='30 S',\n",
    "                            barSizeSetting='30 secs',\n",
    "                            whatToShow='TRADES',\n",
    "                            useRTH=False,\n",
    "                            formatDate=2,\n",
    "                            keepUpToDate=False,\n",
    "                            timeout=0)\n",
    "        \n",
    "        bidPrice = await ib.reqHistoricalDataAsync(\n",
    "                            contract=c,\n",
    "                            endDateTime='',\n",
    "                            durationStr='30 S',\n",
    "                            barSizeSetting='30 secs',\n",
    "                            whatToShow='BID',\n",
    "                            useRTH=False,\n",
    "                            formatDate=2,\n",
    "                            keepUpToDate=False,\n",
    "                            timeout=0)\n",
    "        \n",
    "        askPrice = await ib.reqHistoricalDataAsync(\n",
    "                            contract=c,\n",
    "                            endDateTime='',\n",
    "                            durationStr='30 S',\n",
    "                            barSizeSetting='30 secs',\n",
    "                            whatToShow='ASK',\n",
    "                            useRTH=False,\n",
    "                            formatDate=2,\n",
    "                            keepUpToDate=False,\n",
    "                            timeout=0)\n",
    "        \n",
    "        try:\n",
    "            date = lastPrice[-1].date\n",
    "            last = lastPrice[-1].close\n",
    "\n",
    "        except IndexError:\n",
    "            date = pd.NaT\n",
    "            last = np.nan\n",
    "            \n",
    "        try:\n",
    "            bid = bidPrice[-1].close\n",
    "        except IndexError:\n",
    "            bid = np.nan\n",
    "            \n",
    "        try:\n",
    "            ask = askPrice[-1].close\n",
    "        except IndexError:\n",
    "            ask = np.nan\n",
    "            \n",
    "        return {c.conId: {'date': date, 'last': last, \"bid\": bid, \"ask\": ask}}\n",
    "    \n",
    "    tsks= [asyncio.create_task(coro(c), name=c.conId) for c in contracts]\n",
    "    tasks = [await f for f in tqdm(asyncio.as_completed(tsks), total=len(tsks))]\n",
    "    \n",
    "    d = defaultdict(dict)\n",
    "    for t in tasks:\n",
    "        for k, v in t.items():\n",
    "            d[k]=v\n",
    "            \n",
    "    df = pd.DataFrame(d).T\n",
    "    \n",
    "    return df"
   ]
  },
  {
   "cell_type": "code",
   "execution_count": null,
   "metadata": {},
   "outputs": [],
   "source": [
    "%%time\n",
    "\n",
    "ba_contracts = df1.contract[:3] # !!! DATA LIMITER\n",
    "\n",
    "with IB().connect(HOST, PORT, CID) as ib:\n",
    "    \n",
    "    ib.client.setConnectOptions('+PACEAPI')\n",
    "    \n",
    "    df_ba = ib.run(ba_async(ib, ba_contracts))"
   ]
  },
  {
   "cell_type": "markdown",
   "metadata": {},
   "source": [
    "## 2) Ask `trade` prices from history"
   ]
  },
  {
   "cell_type": "code",
   "execution_count": null,
   "metadata": {},
   "outputs": [],
   "source": [
    "def onBarUpdate(bars, hasNewBar):\n",
    "    print(bars[-1])"
   ]
  },
  {
   "cell_type": "code",
   "execution_count": null,
   "metadata": {},
   "outputs": [],
   "source": [
    "with IB().connect(HOST, PORT, CID) as ib:\n",
    "    bars = ib.reqRealTimeBars(contract, 5, 'TRADES', False)\n",
    "    bars.updateEvent += onBarUpdate"
   ]
  },
  {
   "cell_type": "code",
   "execution_count": null,
   "metadata": {},
   "outputs": [],
   "source": [
    "ib.cancelRealTimeBars(bars)"
   ]
  },
  {
   "cell_type": "code",
   "execution_count": null,
   "metadata": {},
   "outputs": [],
   "source": [
    "async def hist_async(ib, contracts):\n",
    "        \n",
    "    # request data from start date\n",
    "    async def coro(c):\n",
    "\n",
    "        start = (datetime.utcnow()- timedelta(days=1)).date()\n",
    "        end = datetime.utcnow().date()\n",
    "\n",
    "        barsList = []\n",
    "        dt = end\n",
    "\n",
    "        while dt > start:\n",
    "\n",
    "            bars = await ib.reqHistoricalDataAsync(contract,\n",
    "                                            endDateTime=dt,\n",
    "                                            durationStr='1 D',\n",
    "                                            barSizeSetting='1 day',\n",
    "                                            whatToShow='TRADES',\n",
    "                                            useRTH=True,\n",
    "                                            formatDate=2)\n",
    "            if not bars:\n",
    "                break\n",
    "            barsList.append(bars)\n",
    "            dt = bars[0].date\n",
    "\n",
    "        return bars\n",
    "\n",
    "    hist = await asyncio.gather(*[coro(c) for c in contracts])\n",
    "\n",
    "    return hist"
   ]
  },
  {
   "cell_type": "code",
   "execution_count": null,
   "metadata": {},
   "outputs": [],
   "source": [
    "%%time\n",
    "with IB().connect(HOST, PORT, CID) as ib:\n",
    "    \n",
    "    ib.client.setConnectOptions('+PACEAPI')\n",
    "    \n",
    "    bars = ib.run(hist_async(ib, ba_contracts))"
   ]
  }
 ],
 "metadata": {
  "kernelspec": {
   "display_name": "Python 3",
   "language": "python",
   "name": "python3"
  },
  "language_info": {
   "codemirror_mode": {
    "name": "ipython",
    "version": 3
   },
   "file_extension": ".py",
   "mimetype": "text/x-python",
   "name": "python",
   "nbconvert_exporter": "python",
   "pygments_lexer": "ipython3",
   "version": "3.9.1"
  }
 },
 "nbformat": 4,
 "nbformat_minor": 4
}
