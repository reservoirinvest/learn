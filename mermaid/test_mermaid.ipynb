{
 "cells": [
  {
   "attachments": {},
   "cell_type": "markdown",
   "metadata": {},
   "source": [
    "Let us see if we get this in Gitlab!   \n",
    "\n",
    "This works in VSCode but does not work in github, gitlab or even jupyterlab\n",
    "<pre class=\"mermaid\">\n",
    "graph LR\n",
    "   A[Generate Symbols] ---> B[Get Option Chains]\n",
    "   B ---> C[Get History]\n",
    "\n",
    "</pre>"
   ]
  },
  {
   "cell_type": "code",
   "execution_count": 1,
   "metadata": {},
   "outputs": [
    {
     "data": {
      "text/html": [
       "<img src=\"https://mermaid.ink/img/c2VxdWVuY2VEaWFncmFtCiAgICBBbGljZS0+PkpvaG46IEhlbGxvIEpvaG4sIGhvdyBhcmUgeW91PwogICAgSm9obi0tPj5BbGljZTogR3JlYXQhCiAgICBBbGljZS0pSm9objogU2VlIHlvdSBsYXRlciE=\"/>"
      ],
      "text/plain": [
       "<IPython.core.display.Image object>"
      ]
     },
     "metadata": {},
     "output_type": "display_data"
    }
   ],
   "source": [
    "# But this should work!!\n",
    "\n",
    "import base64\n",
    "from IPython.display import Image, display\n",
    "\n",
    "def mm(graph):\n",
    "  graphbytes = graph.encode(\"ascii\")\n",
    "  base64_bytes = base64.b64encode(graphbytes)\n",
    "  base64_string = base64_bytes.decode(\"ascii\")\n",
    "  display(Image(url=\"https://mermaid.ink/img/\" + base64_string))\n",
    "\n",
    "\n",
    "g = \"\"\"sequenceDiagram\n",
    "    Alice->>John: Hello John, how are you?\n",
    "    John-->>Alice: Great!\n",
    "    Alice-)John: See you later!\"\"\"\n",
    "\n",
    "mm(g)"
   ]
  },
  {
   "cell_type": "code",
   "execution_count": null,
   "metadata": {},
   "outputs": [],
   "source": []
  }
 ],
 "metadata": {
  "kernelspec": {
   "display_name": "Python 3",
   "language": "python",
   "name": "python3"
  },
  "language_info": {
   "codemirror_mode": {
    "name": "ipython",
    "version": 3
   },
   "file_extension": ".py",
   "mimetype": "text/x-python",
   "name": "python",
   "nbconvert_exporter": "python",
   "pygments_lexer": "ipython3",
   "version": "3.10.4"
  },
  "orig_nbformat": 4
 },
 "nbformat": 4,
 "nbformat_minor": 2
}
