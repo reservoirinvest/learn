{
 "cells": [
  {
   "attachments": {},
   "cell_type": "markdown",
   "metadata": {},
   "source": [
    "Let us see if we get this in Gitlab!   \n",
    "<pre class=\"mermaid\">\n",
    "graph LR\n",
    "   A[Generate Symbols] ---> B[Get Option Chains]\n",
    "   B ---> C[Get History]\n",
    "\n",
    "</pre>"
   ]
  },
  {
   "cell_type": "markdown",
   "metadata": {},
   "source": []
  }
 ],
 "metadata": {
  "language_info": {
   "name": "python"
  },
  "orig_nbformat": 4
 },
 "nbformat": 4,
 "nbformat_minor": 2
}
