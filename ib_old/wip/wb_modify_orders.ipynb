{
 "cells": [
  {
   "cell_type": "markdown",
   "metadata": {},
   "source": [
    "# Order price modification\n",
    "## 1. Single order"
   ]
  },
  {
   "cell_type": "code",
   "execution_count": 1,
   "metadata": {},
   "outputs": [],
   "source": [
    "MARKET = 'NSE'"
   ]
  },
  {
   "cell_type": "code",
   "execution_count": 2,
   "metadata": {},
   "outputs": [],
   "source": [
    "import sys\n",
    "import pathlib\n",
    "import numpy as np\n",
    "import pandas as pd\n",
    "import yaml\n",
    "import asyncio\n",
    "\n",
    "from ib_insync import IB, util, Option, MarketOrder, Contract\n",
    "from typing import Callable, Coroutine, Union"
   ]
  },
  {
   "cell_type": "code",
   "execution_count": 3,
   "metadata": {},
   "outputs": [],
   "source": [
    "# Specific to Jupyter. Will be ignored in IDE / command-lines\n",
    "import IPython as ipy\n",
    "if ipy.get_ipython().__class__.__name__ == 'ZMQInteractiveShell':\n",
    "    import nest_asyncio\n",
    "    nest_asyncio.apply()\n",
    "    util.startLoop()\n",
    "    pd.options.display.max_columns = None\n",
    "    pd.options.display.float_format = '{:,.2f}'.format # set float precision with comma\n",
    "    \n",
    "    THIS_FOLDER = '' # Dummy for jupyter notebook's current folder\n",
    "    BAR_FORMAT = \"{l_bar}{bar:-20}{r_bar}\""
   ]
  },
  {
   "cell_type": "code",
   "execution_count": 4,
   "metadata": {},
   "outputs": [],
   "source": [
    "# Get capability to import programs from `asyncib` folder\n",
    "cwd = pathlib.Path.cwd() # working directory from where python was initiated\n",
    "DATAPATH = cwd.joinpath('data', MARKET.lower()) # path to store data files\n",
    "LOGFILE = cwd.joinpath(THIS_FOLDER, 'data', 'log', 'temp.log') # path to store log files\n",
    "\n",
    "IBPATH = cwd.parent.parent.joinpath('asyncib') # where ib programs are stored\n",
    "\n",
    "# append IBPATH to import programs.\n",
    "if str(IBPATH) not in sys.path:  # Convert it to string!\n",
    "    sys.path.append(str(IBPATH))\n",
    "    \n",
    "IBDATAPATH = IBPATH.joinpath('data', MARKET.lower())"
   ]
  },
  {
   "cell_type": "markdown",
   "metadata": {},
   "source": [
    "### Experimenting on PAPER"
   ]
  },
  {
   "cell_type": "code",
   "execution_count": 5,
   "metadata": {},
   "outputs": [],
   "source": [
    "# Get the host, port, cid\n",
    "from engine import Vars\n",
    "\n",
    "ibp = Vars(MARKET.upper())  # IB Parameters from var.yml\n",
    "HOST, PORT, CID = ibp.HOST, ibp.PAPER, ibp.MASTERCID"
   ]
  },
  {
   "cell_type": "code",
   "execution_count": 6,
   "metadata": {},
   "outputs": [],
   "source": [
    "# * IMPORTS\n",
    "from ib_insync import IB, Stock, Order, LimitOrder\n",
    "from support import get_prec\n",
    "from typing import Sequence, List\n",
    "from tqdm import tqdm"
   ]
  },
  {
   "cell_type": "markdown",
   "metadata": {},
   "source": [
    "### Let order a symbol\n",
    "* (say DIS)"
   ]
  },
  {
   "cell_type": "code",
   "execution_count": 7,
   "metadata": {},
   "outputs": [],
   "source": [
    "SYMBOL = 'RELIANCE'\n",
    "EXCHANGE = 'NSE'\n",
    "CURRENCY = 'INR'\n",
    "\n",
    "QTY = 200"
   ]
  },
  {
   "cell_type": "code",
   "execution_count": 8,
   "metadata": {},
   "outputs": [],
   "source": [
    "# Set the expected price\n",
    "df_unds = pd.read_pickle(DATAPATH.joinpath('df_unds.pkl'))\n",
    "price = df_unds[df_unds.symbol == SYMBOL].undPrice.iloc[0]\n",
    "expPrice = get_prec(price * 1.2, 0.05)"
   ]
  },
  {
   "cell_type": "code",
   "execution_count": 15,
   "metadata": {},
   "outputs": [],
   "source": [
    "# * REPRICE ORDERS UPON EXECUTION\n",
    "\n",
    "def onExecDetails(trade, fill, SCALE=0.5):\n",
    "    \n",
    "    # get the symbol of the trade filled\n",
    "    try:\n",
    "        symbol = {t.contract.symbol for t in trade}\n",
    "    except TypeError:\n",
    "        symbol = {trade.conctract.symbol}\n",
    "    \n",
    "    # Download orders and get trades\n",
    "    ib.reqOpenOrders() \n",
    "    trades = ib.trades()\n",
    "    \n",
    "    # * TARGET DATAFRAME\n",
    "    \n",
    "    # . make the df\n",
    "    df = util.df(t.contract for t in trades).iloc[:, :6]\\\n",
    "                .assign(contract=[t.contract for t in trades],\n",
    "                        order=[t.order for t in trades],\n",
    "                        status=[t.orderStatus.status for t in trades],\n",
    "                        )\\\n",
    "                .join(util.df(t.order \n",
    "                              for t in trades).iloc[:, 2:7])\\\n",
    "                .rename(columns={'lastTradeDateOrContractMonth': 'expiry'})\n",
    "    \n",
    "    # . filter the df\n",
    "    ACTIVE_STATUS = ['ApiPending', 'PendingSubmit', 'PreSubmitted', 'Submitted']\n",
    "    mask = df.status.isin(ACTIVE_STATUS) & (df.action == \"SELL\") & (df.symbol.isin(symbol))\n",
    "    df = df[mask]\n",
    "    \n",
    "    # . set the new price\n",
    "    df['newLmt'] = np.where(df.action == 'SELL', \n",
    "                            df.lmtPrice + df.lmtPrice*(1+SCALE), \n",
    "                            df.lmtPrice - df.lmtPrice*(1-SCALE))\n",
    "    \n",
    "    df['newLmt'] = df['newLmt'].apply(lambda x: get_prec(x, ibp.PREC))    \n",
    "    \n",
    "    # change order price to new limit price\n",
    "    for i in df.itertuples():\n",
    "        i.order.lmtPrice = i.newLmt\n",
    "        \n",
    "    # build the contract, orders\n",
    "    cos = tuple(zip(df.contract, df.order))\n",
    "        \n",
    "    modified_trades = place_orders(ib = ib, cos = cos)"
   ]
  },
  {
   "cell_type": "code",
   "execution_count": 16,
   "metadata": {},
   "outputs": [],
   "source": [
    "# * SET THE CONNECTION\n",
    "try:\n",
    "    ib.isConnected()\n",
    "except NameError:\n",
    "    ib = IB().connect(HOST, PORT, CID)"
   ]
  },
  {
   "cell_type": "code",
   "execution_count": 17,
   "metadata": {},
   "outputs": [
    {
     "data": {
      "text/plain": [
       "Trade(contract=Stock(conId=44652000, symbol='RELIANCE', exchange='NSE', primaryExchange='NSE', currency='INR', localSymbol='RELIANCE', tradingClass='RELIANCE'), order=LimitOrder(orderId=38, clientId=10, action='SELL', totalQuantity=200, lmtPrice=2408.4), orderStatus=OrderStatus(orderId=38, status='PendingSubmit', filled=0, remaining=0, avgFillPrice=0.0, permId=0, parentId=0, lastFillPrice=0.0, clientId=0, whyHeld='', mktCapPrice=0.0), fills=[], log=[TradeLogEntry(time=datetime.datetime(2020, 12, 14, 10, 0, 30, 578331, tzinfo=datetime.timezone.utc), status='PendingSubmit', message='')])"
      ]
     },
     "execution_count": 17,
     "metadata": {},
     "output_type": "execute_result"
    },
    {
     "name": "stderr",
     "output_type": "stream",
     "text": [
      "Error 201, reqId 38: Order rejected - reason:Exchange is closed.\n",
      "Canceled order: Trade(contract=Stock(conId=44652000, symbol='RELIANCE', exchange='NSE', primaryExchange='NSE', currency='INR', localSymbol='RELIANCE', tradingClass='RELIANCE'), order=LimitOrder(orderId=38, clientId=10, permId=1629924785, action='SELL', totalQuantity=200, lmtPrice=2408.4), orderStatus=OrderStatus(orderId=38, status='Cancelled', filled=0.0, remaining=200.0, avgFillPrice=0.0, permId=1629924785, parentId=0, lastFillPrice=0.0, clientId=10, whyHeld='', mktCapPrice=0.0), fills=[], log=[TradeLogEntry(time=datetime.datetime(2020, 12, 14, 10, 0, 30, 578331, tzinfo=datetime.timezone.utc), status='PendingSubmit', message=''), TradeLogEntry(time=datetime.datetime(2020, 12, 14, 10, 0, 30, 832998, tzinfo=datetime.timezone.utc), status='Inactive', message=''), TradeLogEntry(time=datetime.datetime(2020, 12, 14, 10, 0, 30, 834993, tzinfo=datetime.timezone.utc), status='Cancelled', message='Error 201, reqId 38: Order rejected - reason:Exchange is closed.')])\n"
     ]
    }
   ],
   "source": [
    "ct = ib.qualifyContracts(Stock(symbol = SYMBOL, exchange = EXCHANGE, currency = CURRENCY))[0]\n",
    "o = LimitOrder(totalQuantity = QTY, action='SELL', lmtPrice = expPrice)\n",
    "\n",
    "# Wait for the symbol to execute\n",
    "ib.execDetailsEvent += onExecDetails\n",
    "\n",
    "# place the order\n",
    "ib.placeOrder(ct, o)"
   ]
  },
  {
   "cell_type": "code",
   "execution_count": null,
   "metadata": {},
   "outputs": [],
   "source": [
    "# Wait for the symbol to execute\n",
    "ib.execDetailsEvent += onExecDetails"
   ]
  },
  {
   "cell_type": "code",
   "execution_count": 18,
   "metadata": {},
   "outputs": [
    {
     "ename": "EOFError",
     "evalue": "Ran out of input",
     "output_type": "error",
     "traceback": [
      "\u001b[1;31m---------------------------------------------------------------------------\u001b[0m",
      "\u001b[1;31mEOFError\u001b[0m                                  Traceback (most recent call last)",
      "\u001b[1;32m<ipython-input-18-7f702d9b7ee6>\u001b[0m in \u001b[0;36m<module>\u001b[1;34m\u001b[0m\n\u001b[1;32m----> 1\u001b[1;33m \u001b[0mpd\u001b[0m\u001b[1;33m.\u001b[0m\u001b[0mread_pickle\u001b[0m\u001b[1;33m(\u001b[0m\u001b[0mDATAPATH\u001b[0m\u001b[1;33m.\u001b[0m\u001b[0mjoinpath\u001b[0m\u001b[1;33m(\u001b[0m\u001b[1;34m'ztrade.pkl'\u001b[0m\u001b[1;33m)\u001b[0m\u001b[1;33m)\u001b[0m\u001b[1;33m\u001b[0m\u001b[1;33m\u001b[0m\u001b[0m\n\u001b[0m",
      "\u001b[1;32mc:\\users\\rhitu\\appdata\\local\\programs\\python\\python38\\lib\\site-packages\\pandas\\io\\pickle.py\u001b[0m in \u001b[0;36mread_pickle\u001b[1;34m(filepath_or_buffer, compression)\u001b[0m\n\u001b[0;32m    180\u001b[0m                 \u001b[1;31m# We want to silence any warnings about, e.g. moved modules.\u001b[0m\u001b[1;33m\u001b[0m\u001b[1;33m\u001b[0m\u001b[1;33m\u001b[0m\u001b[0m\n\u001b[0;32m    181\u001b[0m                 \u001b[0mwarnings\u001b[0m\u001b[1;33m.\u001b[0m\u001b[0msimplefilter\u001b[0m\u001b[1;33m(\u001b[0m\u001b[1;34m\"ignore\"\u001b[0m\u001b[1;33m,\u001b[0m \u001b[0mWarning\u001b[0m\u001b[1;33m)\u001b[0m\u001b[1;33m\u001b[0m\u001b[1;33m\u001b[0m\u001b[0m\n\u001b[1;32m--> 182\u001b[1;33m                 \u001b[1;32mreturn\u001b[0m \u001b[0mpickle\u001b[0m\u001b[1;33m.\u001b[0m\u001b[0mload\u001b[0m\u001b[1;33m(\u001b[0m\u001b[0mf\u001b[0m\u001b[1;33m)\u001b[0m\u001b[1;33m\u001b[0m\u001b[1;33m\u001b[0m\u001b[0m\n\u001b[0m\u001b[0;32m    183\u001b[0m         \u001b[1;32mexcept\u001b[0m \u001b[0mexcs_to_catch\u001b[0m\u001b[1;33m:\u001b[0m\u001b[1;33m\u001b[0m\u001b[1;33m\u001b[0m\u001b[0m\n\u001b[0;32m    184\u001b[0m             \u001b[1;31m# e.g.\u001b[0m\u001b[1;33m\u001b[0m\u001b[1;33m\u001b[0m\u001b[1;33m\u001b[0m\u001b[0m\n",
      "\u001b[1;31mEOFError\u001b[0m: Ran out of input"
     ]
    }
   ],
   "source": [
    "pd.read_pickle(DATAPATH.joinpath('ztrade.pkl'))"
   ]
  },
  {
   "cell_type": "code",
   "execution_count": 20,
   "metadata": {},
   "outputs": [
    {
     "ename": "EOFError",
     "evalue": "Ran out of input",
     "output_type": "error",
     "traceback": [
      "\u001b[1;31m---------------------------------------------------------------------------\u001b[0m",
      "\u001b[1;31mEOFError\u001b[0m                                  Traceback (most recent call last)",
      "\u001b[1;32m<ipython-input-20-f44aade7e8bd>\u001b[0m in \u001b[0;36m<module>\u001b[1;34m\u001b[0m\n\u001b[0;32m      1\u001b[0m \u001b[1;32mimport\u001b[0m \u001b[0mpickle\u001b[0m\u001b[1;33m\u001b[0m\u001b[1;33m\u001b[0m\u001b[0m\n\u001b[0;32m      2\u001b[0m \u001b[1;32mwith\u001b[0m \u001b[0mopen\u001b[0m\u001b[1;33m(\u001b[0m\u001b[0mDATAPATH\u001b[0m\u001b[1;33m.\u001b[0m\u001b[0mjoinpath\u001b[0m\u001b[1;33m(\u001b[0m\u001b[1;34m'ztrade.pkl'\u001b[0m\u001b[1;33m)\u001b[0m\u001b[1;33m,\u001b[0m \u001b[1;34m'rb'\u001b[0m\u001b[1;33m)\u001b[0m \u001b[1;32mas\u001b[0m \u001b[0mf\u001b[0m\u001b[1;33m:\u001b[0m\u001b[1;33m\u001b[0m\u001b[1;33m\u001b[0m\u001b[0m\n\u001b[1;32m----> 3\u001b[1;33m         \u001b[0mthe_trade\u001b[0m \u001b[1;33m=\u001b[0m \u001b[0mpickle\u001b[0m\u001b[1;33m.\u001b[0m\u001b[0mload\u001b[0m\u001b[1;33m(\u001b[0m\u001b[0mf\u001b[0m\u001b[1;33m)\u001b[0m\u001b[1;33m\u001b[0m\u001b[1;33m\u001b[0m\u001b[0m\n\u001b[0m",
      "\u001b[1;31mEOFError\u001b[0m: Ran out of input"
     ]
    }
   ],
   "source": [
    "import pickle\n",
    "with open(DATAPATH.joinpath('ztrade.pkl'), 'rb') as f:\n",
    "        the_trade = pickle.load(f)"
   ]
  },
  {
   "cell_type": "code",
   "execution_count": null,
   "metadata": {},
   "outputs": [],
   "source": [
    "with IB().connect(HOST, PORT, CID) as ib:\n",
    "    ib.reqOpenOrders()\n",
    "    trades = ib.trades()\n",
    "    openorders = ib.openOrders()"
   ]
  },
  {
   "cell_type": "code",
   "execution_count": null,
   "metadata": {},
   "outputs": [],
   "source": [
    "trades"
   ]
  },
  {
   "cell_type": "markdown",
   "metadata": {},
   "source": [
    "### Let us check the order"
   ]
  },
  {
   "cell_type": "code",
   "execution_count": null,
   "metadata": {},
   "outputs": [],
   "source": [
    "with IB().connect(HOST, PORT, CID) as ib:\n",
    "    ib.reqOpenOrders() # Download all orders - once\n",
    "    \n",
    "    trades = ib.trades()\n",
    "    openorders = ib.openOrders()\n",
    "    \n",
    "    ct = ib.qualifyContracts(Stock(symbol = SYMBOL, exchange = EXCHANGE, currency = CURRENCY))[0]"
   ]
  },
  {
   "cell_type": "code",
   "execution_count": null,
   "metadata": {},
   "outputs": [],
   "source": [
    "openorders"
   ]
  },
  {
   "cell_type": "markdown",
   "metadata": {},
   "source": [
    "### Let us modify the order price"
   ]
  },
  {
   "cell_type": "code",
   "execution_count": null,
   "metadata": {},
   "outputs": [],
   "source": [
    "PERMID = 2100649087\n",
    "m_o = [o for o in openorders if o.permId == PERMID][0] # get the order\n",
    "\n",
    "# modify the order price\n",
    "m_o.lmtPrice = 115"
   ]
  },
  {
   "cell_type": "code",
   "execution_count": null,
   "metadata": {},
   "outputs": [],
   "source": [
    "m_o # modified order"
   ]
  },
  {
   "cell_type": "code",
   "execution_count": null,
   "metadata": {},
   "outputs": [],
   "source": [
    "with IB().connect(HOST, PORT, CID) as ib:\n",
    "    p = ib.placeOrder(ct, m_o)"
   ]
  },
  {
   "cell_type": "code",
   "execution_count": null,
   "metadata": {},
   "outputs": [],
   "source": [
    "p"
   ]
  },
  {
   "cell_type": "markdown",
   "metadata": {},
   "source": [
    "### Let us check if the price has been modified"
   ]
  },
  {
   "cell_type": "code",
   "execution_count": null,
   "metadata": {},
   "outputs": [],
   "source": [
    "with IB().connect(HOST, PORT, CID) as ib:\n",
    "    ib.reqOpenOrders()\n",
    "    trades = ib.trades()\n",
    "    openorders = ib.openOrders()"
   ]
  },
  {
   "cell_type": "code",
   "execution_count": null,
   "metadata": {},
   "outputs": [],
   "source": [
    "next(o for o in openorders if o.permId==PERMID).lmtPrice"
   ]
  },
  {
   "cell_type": "markdown",
   "metadata": {},
   "source": [
    "## 2. Modifying multiple orders"
   ]
  },
  {
   "cell_type": "markdown",
   "metadata": {},
   "source": [
    "### Prepare contracts and orders"
   ]
  },
  {
   "cell_type": "code",
   "execution_count": null,
   "metadata": {},
   "outputs": [],
   "source": [
    "from engine import get_prices"
   ]
  },
  {
   "cell_type": "code",
   "execution_count": null,
   "metadata": {},
   "outputs": [],
   "source": [
    "# * INPUTS\n",
    "SYMBOLS = ['INTC', 'SBUX', 'IBM', 'MSFT']"
   ]
  },
  {
   "cell_type": "code",
   "execution_count": null,
   "metadata": {},
   "outputs": [],
   "source": [
    "%%time\n",
    "# * CODE\n",
    "\n",
    "# Get contracts and prices\n",
    "with IB().connect(HOST, PORT, CID) as ib:\n",
    "    cts = ib.qualifyContracts(*[Stock(s, exchange=EXCHANGE, currency=CURRENCY) for s in SYMBOLS])\n",
    "df_pr = get_prices(cts = cts, MARKET=MARKET, RUN_ON_PAPER=True, FILL_DELAY=5)"
   ]
  },
  {
   "cell_type": "code",
   "execution_count": null,
   "metadata": {},
   "outputs": [],
   "source": [
    "df_pr.price"
   ]
  },
  {
   "cell_type": "markdown",
   "metadata": {},
   "source": [
    "### Place orders in blocks"
   ]
  },
  {
   "cell_type": "code",
   "execution_count": null,
   "metadata": {},
   "outputs": [],
   "source": [
    "def place_orders(ib: IB, cos: Union[tuple, list], blk_size: int=25) -> List:\n",
    "    \"\"\"!!!CAUTION!!!: This places orders in the system\n",
    "    NOTE: cos could be a single (contract, order) \n",
    "          or a tuple/list of ((c1, o1), (c2, o2)...)\n",
    "          made using tuple(zip(cts, ords))\"\"\"\n",
    "    \n",
    "    trades = []\n",
    "    \n",
    "    if isinstance(cos, (tuple, list)) and (len(cos) == 2):\n",
    "        c, o = cos\n",
    "        trades.append(ib.placeOrder(c, o))\n",
    "        \n",
    "    else:    \n",
    "        cobs = {cos[i: i+blk_size] for i in range(0, len(cos), blk_size)}\n",
    "\n",
    "        for b in tqdm(cobs):\n",
    "            for c, o in b:\n",
    "                td = ib.placeOrder(c, o)\n",
    "                trades.append(td)\n",
    "            ib.sleep(0.75)\n",
    "        \n",
    "    return trades"
   ]
  },
  {
   "cell_type": "code",
   "execution_count": null,
   "metadata": {},
   "outputs": [],
   "source": [
    "ords = [LimitOrder(totalQuantity = 100, action='BUY', lmtPrice = expPrice) \n",
    "            for expPrice \n",
    "                in [get_prec(p, 0.01) for p in df_pr.price*0.8]]"
   ]
  },
  {
   "cell_type": "code",
   "execution_count": null,
   "metadata": {},
   "outputs": [],
   "source": [
    "# cos = cts[0], ords[0]\n",
    "cos = tuple(zip(cts, ords))"
   ]
  },
  {
   "cell_type": "raw",
   "metadata": {},
   "source": [
    "with IB().connect(HOST, PORT, CID) as ib:\n",
    "    placed = place_orders(ib, cos)"
   ]
  },
  {
   "cell_type": "code",
   "execution_count": null,
   "metadata": {},
   "outputs": [],
   "source": [
    "placed"
   ]
  },
  {
   "cell_type": "code",
   "execution_count": null,
   "metadata": {},
   "outputs": [],
   "source": []
  },
  {
   "cell_type": "markdown",
   "metadata": {},
   "source": [
    "### Retrieve the orders"
   ]
  },
  {
   "cell_type": "code",
   "execution_count": null,
   "metadata": {},
   "outputs": [],
   "source": [
    "with IB().connect(HOST, PORT, CID) as ib:\n",
    "    ib.reqOpenOrders() # Download all orders - once\n",
    "    trades = ib.trades()"
   ]
  },
  {
   "cell_type": "code",
   "execution_count": null,
   "metadata": {},
   "outputs": [],
   "source": [
    "df = util.df(t.contract for t in trades).iloc[:, :6]\\\n",
    "            .assign(contract=[t.contract for t in trades],\n",
    "                    order=[t.order for t in trades],\n",
    "                    status=[t.orderStatus.status for t in trades],\n",
    "                    )\\\n",
    "            .join(util.df(t.order \n",
    "                          for t in trades).iloc[:, 2:7])\\\n",
    "            .rename(columns={'lastTradeDateOrContractMonth': 'expiry'})"
   ]
  },
  {
   "cell_type": "code",
   "execution_count": null,
   "metadata": {},
   "outputs": [],
   "source": [
    "# Filter those in active status\n",
    "df[df.status.isin(ibp.ACTIVE_STATUS)]"
   ]
  },
  {
   "cell_type": "code",
   "execution_count": null,
   "metadata": {},
   "outputs": [],
   "source": [
    "# * IMPORTS\n",
    "from engine import Vars\n",
    "from support import get_prec"
   ]
  },
  {
   "cell_type": "code",
   "execution_count": null,
   "metadata": {},
   "outputs": [],
   "source": [
    "def naked_adjust(SYMBOLS: Union[list, tuple, set], # Filled symbols,\n",
    "                 MARKET: str='',\n",
    "                 ACTION_FILTER: str='SELL', # Which options to be targetted\n",
    "                 SCALE: int=0.5, # Scale up for 'SELL' / down for 'BUY'\n",
    "                 PLACE_ORDERS: bool = False, \n",
    "                ): \n",
    "    \"\"\"Adjusts naked prices to get better deal / prevent too many fills\"\"\"\n",
    "    \n",
    "    # . Filter active status that can be modified with ACTION_FILTER provided\n",
    "    ibp = Vars(MARKET) # Dummy - needed only to get ACTIVE_STATUS\n",
    "    \n",
    "    with IB().connect(ibp.HOST, ibp.PORT, ibp.MASTERCID) as ib:\n",
    "        ib.reqOpenOrders() # Download all orders - once\n",
    "        trades = ib.trades()\n",
    "        ib.disconnect()\n",
    "    \n",
    "    # * TARGET DATAFRAME\n",
    "    df = util.df(t.contract for t in trades).iloc[:, :6]\\\n",
    "                .assign(contract=[t.contract for t in trades],\n",
    "                        order=[t.order for t in trades],\n",
    "                        status=[t.orderStatus.status for t in trades],\n",
    "                        )\\\n",
    "                .join(util.df(t.order \n",
    "                              for t in trades).iloc[:, 2:7])\\\n",
    "                .rename(columns={'lastTradeDateOrContractMonth': 'expiry'})\n",
    "    \n",
    "\n",
    "    \n",
    "    mask = df.status.isin(ibp.ACTIVE_STATUS) & (df.action == ACTION_FILTER)\n",
    "    df = df[mask]\n",
    "    \n",
    "    df['newLmt'] = np.where(df.action == 'SELL', \n",
    "                            df.lmtPrice + df.lmtPrice*(1+SCALE), \n",
    "                            df.lmtPrice - df.lmtPrice*(1-SCALE))\n",
    "    \n",
    "    df['newLmt'] = df['newLmt'].apply(lambda x: get_prec(x, ibp.PREC))\n",
    "    \n",
    "#     # . Modified order placement\n",
    "#     if PLACE_ORDERS:\n",
    "#         for o in df.orders:\n",
    "#             o.lmtPrice \n",
    "    \n",
    "    return df"
   ]
  },
  {
   "cell_type": "code",
   "execution_count": null,
   "metadata": {},
   "outputs": [],
   "source": [
    "df = naked_adjust(MARKET=MARKET, SYMBOLS={'MSFT', 'INTC'}, ACTION_FILTER = 'BUY')"
   ]
  },
  {
   "cell_type": "code",
   "execution_count": null,
   "metadata": {},
   "outputs": [],
   "source": [
    "x"
   ]
  },
  {
   "cell_type": "code",
   "execution_count": null,
   "metadata": {},
   "outputs": [],
   "source": []
  }
 ],
 "metadata": {
  "kernelspec": {
   "display_name": "Python 3",
   "language": "python",
   "name": "python3"
  },
  "language_info": {
   "codemirror_mode": {
    "name": "ipython",
    "version": 3
   },
   "file_extension": ".py",
   "mimetype": "text/x-python",
   "name": "python",
   "nbconvert_exporter": "python",
   "pygments_lexer": "ipython3",
   "version": "3.8.5"
  }
 },
 "nbformat": 4,
 "nbformat_minor": 4
}
