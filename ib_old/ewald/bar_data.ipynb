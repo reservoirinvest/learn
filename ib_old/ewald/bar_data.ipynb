{
 "cells": [
  {
   "cell_type": "markdown",
   "metadata": {},
   "source": [
    "# Bar data"
   ]
  },
  {
   "cell_type": "code",
   "execution_count": 1,
   "metadata": {},
   "outputs": [
    {
     "data": {
      "text/plain": [
       "<IB connected to 127.0.0.1:1301 clientId=14>"
      ]
     },
     "execution_count": 1,
     "metadata": {},
     "output_type": "execute_result"
    }
   ],
   "source": [
    "from ib_insync import *\n",
    "util.startLoop()\n",
    "\n",
    "ib = IB()\n",
    "ib.connect('127.0.0.1', 1301, clientId=14)"
   ]
  },
  {
   "cell_type": "markdown",
   "metadata": {},
   "source": [
    "## Historical data\n",
    "To get the earliest date of available bar data the \"head timestamp\" can be requested:"
   ]
  },
  {
   "cell_type": "code",
   "execution_count": 2,
   "metadata": {},
   "outputs": [
    {
     "data": {
      "text/plain": [
       "datetime.datetime(2010, 6, 29, 8, 0)"
      ]
     },
     "execution_count": 2,
     "metadata": {},
     "output_type": "execute_result"
    }
   ],
   "source": [
    "contract = Stock('TSLA', 'SMART', 'USD')\n",
    "ib.reqHeadTimeStamp(contract, whatToShow='TRADES', useRTH=True)"
   ]
  },
  {
   "cell_type": "markdown",
   "metadata": {},
   "source": [
    "To request hourly data of the last 60 trading days:"
   ]
  },
  {
   "cell_type": "code",
   "execution_count": 3,
   "metadata": {},
   "outputs": [
    {
     "name": "stdout",
     "output_type": "stream",
     "text": [
      "Wall time: 2.49 s\n"
     ]
    }
   ],
   "source": [
    "%%time\n",
    "bars = ib.reqHistoricalData(\n",
    "            contract,\n",
    "            endDateTime='',\n",
    "            durationStr='60 D',\n",
    "            barSizeSetting='1 hour',\n",
    "            whatToShow='TRADES',\n",
    "            useRTH=True,\n",
    "            formatDate=1)"
   ]
  },
  {
   "cell_type": "code",
   "execution_count": 4,
   "metadata": {},
   "outputs": [
    {
     "data": {
      "text/plain": [
       "BarData(date=datetime.datetime(2020, 10, 1, 21, 30), open=440.76, high=441.8, low=436.23, close=437.1, volume=53954, average=438.703, barCount=23395)"
      ]
     },
     "execution_count": 4,
     "metadata": {},
     "output_type": "execute_result"
    }
   ],
   "source": [
    "bars[0]"
   ]
  },
  {
   "cell_type": "markdown",
   "metadata": {},
   "source": [
    "Convert the list of bars to a dataframe and printe the first and last rows"
   ]
  },
  {
   "cell_type": "code",
   "execution_count": 5,
   "metadata": {},
   "outputs": [
    {
     "data": {
      "text/html": [
       "<div>\n",
       "<style scoped>\n",
       "    .dataframe tbody tr th:only-of-type {\n",
       "        vertical-align: middle;\n",
       "    }\n",
       "\n",
       "    .dataframe tbody tr th {\n",
       "        vertical-align: top;\n",
       "    }\n",
       "\n",
       "    .dataframe thead th {\n",
       "        text-align: right;\n",
       "    }\n",
       "</style>\n",
       "<table border=\"1\" class=\"dataframe\">\n",
       "  <thead>\n",
       "    <tr style=\"text-align: right;\">\n",
       "      <th></th>\n",
       "      <th>date</th>\n",
       "      <th>open</th>\n",
       "      <th>high</th>\n",
       "      <th>low</th>\n",
       "      <th>close</th>\n",
       "      <th>volume</th>\n",
       "      <th>average</th>\n",
       "      <th>barCount</th>\n",
       "    </tr>\n",
       "  </thead>\n",
       "  <tbody>\n",
       "    <tr>\n",
       "      <th>0</th>\n",
       "      <td>2020-10-01 21:30:00</td>\n",
       "      <td>440.76</td>\n",
       "      <td>441.80</td>\n",
       "      <td>436.23</td>\n",
       "      <td>437.10</td>\n",
       "      <td>53954</td>\n",
       "      <td>438.703</td>\n",
       "      <td>23395</td>\n",
       "    </tr>\n",
       "    <tr>\n",
       "      <th>1</th>\n",
       "      <td>2020-10-01 22:00:00</td>\n",
       "      <td>437.00</td>\n",
       "      <td>438.70</td>\n",
       "      <td>434.42</td>\n",
       "      <td>436.81</td>\n",
       "      <td>49089</td>\n",
       "      <td>436.557</td>\n",
       "      <td>22678</td>\n",
       "    </tr>\n",
       "    <tr>\n",
       "      <th>2</th>\n",
       "      <td>2020-10-01 23:00:00</td>\n",
       "      <td>436.80</td>\n",
       "      <td>440.52</td>\n",
       "      <td>435.43</td>\n",
       "      <td>438.88</td>\n",
       "      <td>45157</td>\n",
       "      <td>438.766</td>\n",
       "      <td>21441</td>\n",
       "    </tr>\n",
       "    <tr>\n",
       "      <th>3</th>\n",
       "      <td>2020-10-02 00:00:00</td>\n",
       "      <td>438.89</td>\n",
       "      <td>445.00</td>\n",
       "      <td>437.73</td>\n",
       "      <td>443.79</td>\n",
       "      <td>45644</td>\n",
       "      <td>441.626</td>\n",
       "      <td>21690</td>\n",
       "    </tr>\n",
       "    <tr>\n",
       "      <th>4</th>\n",
       "      <td>2020-10-02 01:00:00</td>\n",
       "      <td>443.80</td>\n",
       "      <td>448.00</td>\n",
       "      <td>443.68</td>\n",
       "      <td>445.57</td>\n",
       "      <td>53820</td>\n",
       "      <td>446.348</td>\n",
       "      <td>24848</td>\n",
       "    </tr>\n",
       "  </tbody>\n",
       "</table>\n",
       "</div>"
      ],
      "text/plain": [
       "                 date    open    high     low   close  volume  average  \\\n",
       "0 2020-10-01 21:30:00  440.76  441.80  436.23  437.10   53954  438.703   \n",
       "1 2020-10-01 22:00:00  437.00  438.70  434.42  436.81   49089  436.557   \n",
       "2 2020-10-01 23:00:00  436.80  440.52  435.43  438.88   45157  438.766   \n",
       "3 2020-10-02 00:00:00  438.89  445.00  437.73  443.79   45644  441.626   \n",
       "4 2020-10-02 01:00:00  443.80  448.00  443.68  445.57   53820  446.348   \n",
       "\n",
       "   barCount  \n",
       "0     23395  \n",
       "1     22678  \n",
       "2     21441  \n",
       "3     21690  \n",
       "4     24848  "
      ]
     },
     "metadata": {},
     "output_type": "display_data"
    },
    {
     "data": {
      "text/html": [
       "<div>\n",
       "<style scoped>\n",
       "    .dataframe tbody tr th:only-of-type {\n",
       "        vertical-align: middle;\n",
       "    }\n",
       "\n",
       "    .dataframe tbody tr th {\n",
       "        vertical-align: top;\n",
       "    }\n",
       "\n",
       "    .dataframe thead th {\n",
       "        text-align: right;\n",
       "    }\n",
       "</style>\n",
       "<table border=\"1\" class=\"dataframe\">\n",
       "  <thead>\n",
       "    <tr style=\"text-align: right;\">\n",
       "      <th></th>\n",
       "      <th>date</th>\n",
       "      <th>open</th>\n",
       "      <th>high</th>\n",
       "      <th>low</th>\n",
       "      <th>close</th>\n",
       "      <th>volume</th>\n",
       "      <th>average</th>\n",
       "      <th>barCount</th>\n",
       "    </tr>\n",
       "  </thead>\n",
       "  <tbody>\n",
       "    <tr>\n",
       "      <th>409</th>\n",
       "      <td>2020-12-24 04:00:00</td>\n",
       "      <td>645.36</td>\n",
       "      <td>649.12</td>\n",
       "      <td>643.80</td>\n",
       "      <td>645.98</td>\n",
       "      <td>25999</td>\n",
       "      <td>646.788</td>\n",
       "      <td>13341</td>\n",
       "    </tr>\n",
       "    <tr>\n",
       "      <th>410</th>\n",
       "      <td>2020-12-24 22:30:00</td>\n",
       "      <td>642.99</td>\n",
       "      <td>652.22</td>\n",
       "      <td>641.00</td>\n",
       "      <td>649.71</td>\n",
       "      <td>26732</td>\n",
       "      <td>647.026</td>\n",
       "      <td>11621</td>\n",
       "    </tr>\n",
       "    <tr>\n",
       "      <th>411</th>\n",
       "      <td>2020-12-24 23:00:00</td>\n",
       "      <td>649.59</td>\n",
       "      <td>665.24</td>\n",
       "      <td>649.50</td>\n",
       "      <td>660.67</td>\n",
       "      <td>57187</td>\n",
       "      <td>659.266</td>\n",
       "      <td>26998</td>\n",
       "    </tr>\n",
       "    <tr>\n",
       "      <th>412</th>\n",
       "      <td>2020-12-25 00:00:00</td>\n",
       "      <td>660.69</td>\n",
       "      <td>666.01</td>\n",
       "      <td>657.64</td>\n",
       "      <td>665.80</td>\n",
       "      <td>30735</td>\n",
       "      <td>663.205</td>\n",
       "      <td>15181</td>\n",
       "    </tr>\n",
       "    <tr>\n",
       "      <th>413</th>\n",
       "      <td>2020-12-25 01:00:00</td>\n",
       "      <td>665.79</td>\n",
       "      <td>666.09</td>\n",
       "      <td>659.00</td>\n",
       "      <td>661.66</td>\n",
       "      <td>33333</td>\n",
       "      <td>661.804</td>\n",
       "      <td>15444</td>\n",
       "    </tr>\n",
       "  </tbody>\n",
       "</table>\n",
       "</div>"
      ],
      "text/plain": [
       "                   date    open    high     low   close  volume  average  \\\n",
       "409 2020-12-24 04:00:00  645.36  649.12  643.80  645.98   25999  646.788   \n",
       "410 2020-12-24 22:30:00  642.99  652.22  641.00  649.71   26732  647.026   \n",
       "411 2020-12-24 23:00:00  649.59  665.24  649.50  660.67   57187  659.266   \n",
       "412 2020-12-25 00:00:00  660.69  666.01  657.64  665.80   30735  663.205   \n",
       "413 2020-12-25 01:00:00  665.79  666.09  659.00  661.66   33333  661.804   \n",
       "\n",
       "     barCount  \n",
       "409     13341  \n",
       "410     11621  \n",
       "411     26998  \n",
       "412     15181  \n",
       "413     15444  "
      ]
     },
     "metadata": {},
     "output_type": "display_data"
    }
   ],
   "source": [
    "df = util.df(bars)\n",
    "\n",
    "display(df.head())\n",
    "display(df.tail())"
   ]
  },
  {
   "cell_type": "markdown",
   "metadata": {},
   "source": [
    "Instruct the notebook to draw plot graphics inline:"
   ]
  },
  {
   "cell_type": "code",
   "execution_count": 6,
   "metadata": {},
   "outputs": [],
   "source": [
    "%matplotlib inline"
   ]
  },
  {
   "cell_type": "code",
   "execution_count": 7,
   "metadata": {},
   "outputs": [
    {
     "data": {
      "image/png": "[encoded data removed]",
      "text/plain": [
       "<Figure size 432x288 with 1 Axes>"
      ]
     },
     "metadata": {
      "needs_background": "light"
     },
     "output_type": "display_data"
    }
   ],
   "source": [
    "df.plot(y='close');"
   ]
  },
  {
   "cell_type": "markdown",
   "metadata": {},
   "source": [
    "There is also a utility function to plot bars as a candlestick plot. It can accept either a DataFrame or a list of bars. Here it will print the last 100 bars:"
   ]
  },
  {
   "cell_type": "code",
   "execution_count": 8,
   "metadata": {},
   "outputs": [
    {
     "data": {
      "image/png": "[encoded data removed]",
      "text/plain": [
       "<Figure size 720x432 with 1 Axes>"
      ]
     },
     "metadata": {
      "needs_background": "light"
     },
     "output_type": "display_data"
    }
   ],
   "source": [
    "util.barplot(bars[-100:], title=contract.symbol);"
   ]
  },
  {
   "cell_type": "markdown",
   "metadata": {},
   "source": [
    "## Historical data with realtime updates\n",
    "A new feature of the API is to get live updates for historical bars. This is done by setting `endDateTime` to an empty string and the `keepUpToDate` parameter to `True`.\n",
    "\n",
    "Let us get some bars with a *keepUpToDate* subscription:"
   ]
  },
  {
   "cell_type": "code",
   "execution_count": 9,
   "metadata": {},
   "outputs": [],
   "source": [
    "contract = Forex('EURUSD')\n",
    "\n",
    "bars = ib.reqHistoricalData(\n",
    "            contract,\n",
    "            endDateTime='',\n",
    "            durationStr= '900 S',\n",
    "            barSizeSetting='10 secs',\n",
    "            whatToShow='MIDPOINT',\n",
    "            useRTH=True,\n",
    "            formatDate=1,\n",
    "            keepUpToDate=True)"
   ]
  },
  {
   "cell_type": "markdown",
   "metadata": {},
   "source": [
    "Replot for every change of the last bar:"
   ]
  },
  {
   "cell_type": "code",
   "execution_count": 10,
   "metadata": {},
   "outputs": [
    {
     "data": {
      "image/png": "[encoded data removed]",
      "text/plain": [
       "<Figure size 720x432 with 1 Axes>"
      ]
     },
     "metadata": {},
     "output_type": "display_data"
    },
    {
     "data": {
      "image/png": "[encoded data removed]",
      "text/plain": [
       "<Figure size 720x432 with 1 Axes>"
      ]
     },
     "metadata": {
      "needs_background": "light"
     },
     "output_type": "display_data"
    }
   ],
   "source": [
    "from IPython.display import display, clear_output\n",
    "import matplotlib.pyplot as plt\n",
    "\n",
    "def onBarUpdate(bars, hasNewBar):\n",
    "    plt.close()\n",
    "    plot = util.barplot(bars)\n",
    "    clear_output(wait=True)\n",
    "    display(plot)\n",
    "    \n",
    "bars.updateEvent += onBarUpdate\n",
    "\n",
    "ib.sleep(10)\n",
    "ib.cancelHistoricalData(bars)"
   ]
  },
  {
   "cell_type": "markdown",
   "metadata": {},
   "source": [
    "## Realtime bars\n",
    "With `reqRealTimeBars` a subscription is started that sends a new bar every 5 seconds.\n",
    "\n",
    "First we will set up an event handler for bar updates:"
   ]
  },
  {
   "cell_type": "code",
   "execution_count": 11,
   "metadata": {},
   "outputs": [],
   "source": [
    "def onBarUpdate(bars, hasNewBar):\n",
    "    print(bars[-1])"
   ]
  },
  {
   "cell_type": "markdown",
   "metadata": {},
   "source": [
    "Then do the real request and connect the event handler"
   ]
  },
  {
   "cell_type": "code",
   "execution_count": 12,
   "metadata": {},
   "outputs": [],
   "source": [
    "bars = ib.reqRealTimeBars(contract, 5, 'MIDPOINT', False)\n",
    "bars.updateEvent += onBarUpdate"
   ]
  },
  {
   "cell_type": "markdown",
   "metadata": {},
   "source": [
    "Let it run for half a minute and cancel the realtime bars"
   ]
  },
  {
   "cell_type": "code",
   "execution_count": 13,
   "metadata": {},
   "outputs": [
    {
     "name": "stderr",
     "output_type": "stream",
     "text": [
      "Error 162, reqId 5: Historical Market Data Service error message:API historical data query cancelled: 5\n"
     ]
    },
    {
     "name": "stdout",
     "output_type": "stream",
     "text": [
      "RealTimeBar(time=datetime.datetime(2020, 12, 28, 14, 13, 20, tzinfo=datetime.timezone.utc), endTime=-1, open_=1.221585, high=1.22159, low=1.221575, close=1.22158, volume=-1, wap=-1.0, count=-1)\n",
      "RealTimeBar(time=datetime.datetime(2020, 12, 28, 14, 13, 25, tzinfo=datetime.timezone.utc), endTime=-1, open_=1.22158, high=1.22166, low=1.22158, close=1.22166, volume=-1, wap=-1.0, count=-1)\n",
      "RealTimeBar(time=datetime.datetime(2020, 12, 28, 14, 13, 30, tzinfo=datetime.timezone.utc), endTime=-1, open_=1.22166, high=1.221725, low=1.22166, close=1.221725, volume=-1, wap=-1.0, count=-1)\n",
      "RealTimeBar(time=datetime.datetime(2020, 12, 28, 14, 13, 35, tzinfo=datetime.timezone.utc), endTime=-1, open_=1.221725, high=1.22177, low=1.221725, close=1.22176, volume=-1, wap=-1.0, count=-1)\n",
      "RealTimeBar(time=datetime.datetime(2020, 12, 28, 14, 13, 40, tzinfo=datetime.timezone.utc), endTime=-1, open_=1.22176, high=1.22182, low=1.221745, close=1.22179, volume=-1, wap=-1.0, count=-1)\n",
      "RealTimeBar(time=datetime.datetime(2020, 12, 28, 14, 13, 45, tzinfo=datetime.timezone.utc), endTime=-1, open_=1.22179, high=1.22183, low=1.221775, close=1.221795, volume=-1, wap=-1.0, count=-1)\n",
      "RealTimeBar(time=datetime.datetime(2020, 12, 28, 14, 13, 50, tzinfo=datetime.timezone.utc), endTime=-1, open_=1.221795, high=1.221825, low=1.22178, close=1.22182, volume=-1, wap=-1.0, count=-1)\n"
     ]
    }
   ],
   "source": [
    "ib.sleep(30)\n",
    "ib.cancelRealTimeBars(bars)"
   ]
  },
  {
   "cell_type": "markdown",
   "metadata": {},
   "source": [
    "The advantage of `reqRealTimeBars` is that it is more robust when connection t the IB server farms is interrupted. After the connection is restored, the bars missed during the outage will be backfilled and the live bars will resume.\n",
    "\n",
    "reqHistoricalData + keepUpToDate will, at the moment of writing, leave the whole API inoperable after a network interruption."
   ]
  },
  {
   "cell_type": "code",
   "execution_count": 14,
   "metadata": {},
   "outputs": [],
   "source": [
    "ib.disconnect()"
   ]
  },
  {
   "cell_type": "code",
   "execution_count": null,
   "metadata": {},
   "outputs": [],
   "source": []
  },
  {
   "cell_type": "code",
   "execution_count": null,
   "metadata": {},
   "outputs": [],
   "source": []
  },
  {
   "cell_type": "code",
   "execution_count": null,
   "metadata": {},
   "outputs": [],
   "source": []
  }
 ],
 "metadata": {
  "kernelspec": {
   "display_name": "Python 3",
   "language": "python",
   "name": "python3"
  },
  "language_info": {
   "codemirror_mode": {
    "name": "ipython",
    "version": 3
   },
   "file_extension": ".py",
   "mimetype": "text/x-python",
   "name": "python",
   "nbconvert_exporter": "python",
   "pygments_lexer": "ipython3",
   "version": "3.9.1"
  }
 },
 "nbformat": 4,
 "nbformat_minor": 4
}
