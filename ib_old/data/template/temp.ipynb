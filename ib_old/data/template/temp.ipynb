{
 "cells": [
  {
   "cell_type": "code",
   "execution_count": 1,
   "metadata": {},
   "outputs": [
    {
     "data": {
      "text/html": [
       "<div>\n",
       "<style scoped>\n",
       "    .dataframe tbody tr th:only-of-type {\n",
       "        vertical-align: middle;\n",
       "    }\n",
       "\n",
       "    .dataframe tbody tr th {\n",
       "        vertical-align: top;\n",
       "    }\n",
       "\n",
       "    .dataframe thead th {\n",
       "        text-align: right;\n",
       "    }\n",
       "</style>\n",
       "<table border=\"1\" class=\"dataframe\">\n",
       "  <thead>\n",
       "    <tr style=\"text-align: right;\">\n",
       "      <th></th>\n",
       "      <th>conId</th>\n",
       "      <th>secType</th>\n",
       "      <th>symbol</th>\n",
       "      <th>strike</th>\n",
       "      <th>right</th>\n",
       "      <th>expiry</th>\n",
       "      <th>localSymbol</th>\n",
       "      <th>margin</th>\n",
       "      <th>comm</th>\n",
       "      <th>commission</th>\n",
       "      <th>maxCommission</th>\n",
       "      <th>initMarginChange</th>\n",
       "    </tr>\n",
       "  </thead>\n",
       "  <tbody>\n",
       "  </tbody>\n",
       "</table>\n",
       "</div>"
      ],
      "text/plain": [
       "Empty DataFrame\n",
       "Columns: [conId, secType, symbol, strike, right, expiry, localSymbol, margin, comm, commission, maxCommission, initMarginChange]\n",
       "Index: []"
      ]
     },
     "execution_count": 1,
     "metadata": {},
     "output_type": "execute_result"
    }
   ],
   "source": [
    "import pandas as pd\n",
    "df_margin = pd.read_pickle('./df_margin.pkl')\n",
    "df_margin"
   ]
  },
  {
   "cell_type": "code",
   "execution_count": 2,
   "metadata": {},
   "outputs": [
    {
     "data": {
      "text/plain": [
       "{'conId': {},\n",
       " 'secType': {},\n",
       " 'symbol': {},\n",
       " 'strike': {},\n",
       " 'right': {},\n",
       " 'expiry': {},\n",
       " 'localSymbol': {},\n",
       " 'margin': {},\n",
       " 'comm': {},\n",
       " 'commission': {},\n",
       " 'maxCommission': {},\n",
       " 'initMarginChange': {}}"
      ]
     },
     "execution_count": 2,
     "metadata": {},
     "output_type": "execute_result"
    }
   ],
   "source": [
    "df_margin.to_dict()"
   ]
  },
  {
   "cell_type": "code",
   "execution_count": 3,
   "metadata": {},
   "outputs": [
    {
     "data": {
      "text/plain": [
       "conId                 int64\n",
       "secType              object\n",
       "symbol               object\n",
       "strike              float64\n",
       "right                object\n",
       "expiry               object\n",
       "localSymbol          object\n",
       "margin              float64\n",
       "comm                float64\n",
       "commission           object\n",
       "maxCommission        object\n",
       "initMarginChange     object\n",
       "dtype: object"
      ]
     },
     "execution_count": 3,
     "metadata": {},
     "output_type": "execute_result"
    }
   ],
   "source": [
    "df_margin.dtypes"
   ]
  },
  {
   "cell_type": "code",
   "execution_count": null,
   "metadata": {},
   "outputs": [],
   "source": []
  }
 ],
 "metadata": {
  "kernelspec": {
   "display_name": ".venv",
   "language": "python",
   "name": "python3"
  },
  "language_info": {
   "codemirror_mode": {
    "name": "ipython",
    "version": 3
   },
   "file_extension": ".py",
   "mimetype": "text/x-python",
   "name": "python",
   "nbconvert_exporter": "python",
   "pygments_lexer": "ipython3",
   "version": "3.10.4"
  },
  "orig_nbformat": 4
 },
 "nbformat": 4,
 "nbformat_minor": 2
}
