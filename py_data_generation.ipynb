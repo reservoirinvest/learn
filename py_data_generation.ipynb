{
 "cells": [
  {
   "cell_type": "markdown",
   "metadata": {},
   "source": [
    "# Reference Dataframe"
   ]
  },
  {
   "cell_type": "markdown",
   "metadata": {},
   "source": [
    "A simple one index dataframe"
   ]
  },
  {
   "cell_type": "code",
   "execution_count": 6,
   "metadata": {},
   "outputs": [
    {
     "data": {
      "text/html": [
       "<div>\n",
       "<style scoped>\n",
       "    .dataframe tbody tr th:only-of-type {\n",
       "        vertical-align: middle;\n",
       "    }\n",
       "\n",
       "    .dataframe tbody tr th {\n",
       "        vertical-align: top;\n",
       "    }\n",
       "\n",
       "    .dataframe thead th {\n",
       "        text-align: right;\n",
       "    }\n",
       "</style>\n",
       "<table border=\"1\" class=\"dataframe\">\n",
       "  <thead>\n",
       "    <tr style=\"text-align: right;\">\n",
       "      <th></th>\n",
       "      <th>a</th>\n",
       "      <th>b</th>\n",
       "    </tr>\n",
       "  </thead>\n",
       "  <tbody>\n",
       "    <tr>\n",
       "      <th>cat</th>\n",
       "      <td>1</td>\n",
       "      <td>10</td>\n",
       "    </tr>\n",
       "    <tr>\n",
       "      <th>mouse</th>\n",
       "      <td>2</td>\n",
       "      <td>20</td>\n",
       "    </tr>\n",
       "    <tr>\n",
       "      <th>elephant</th>\n",
       "      <td>3</td>\n",
       "      <td>30</td>\n",
       "    </tr>\n",
       "  </tbody>\n",
       "</table>\n",
       "</div>"
      ],
      "text/plain": [
       "          a   b\n",
       "cat       1  10\n",
       "mouse     2  20\n",
       "elephant  3  30"
      ]
     },
     "execution_count": 6,
     "metadata": {},
     "output_type": "execute_result"
    }
   ],
   "source": [
    "import pandas as pd\n",
    "d = {'a': [1, 2, 3], 'b': [10, 20, 30]}\n",
    "df = pd.DataFrame(d, index=(['cat', 'mouse', 'elephant']))\n",
    "df"
   ]
  },
  {
   "cell_type": "markdown",
   "metadata": {},
   "source": [
    "A bit more complicated one with repeat rows for an index"
   ]
  },
  {
   "cell_type": "code",
   "execution_count": 14,
   "metadata": {},
   "outputs": [
    {
     "data": {
      "text/html": [
       "<div>\n",
       "<style scoped>\n",
       "    .dataframe tbody tr th:only-of-type {\n",
       "        vertical-align: middle;\n",
       "    }\n",
       "\n",
       "    .dataframe tbody tr th {\n",
       "        vertical-align: top;\n",
       "    }\n",
       "\n",
       "    .dataframe thead th {\n",
       "        text-align: right;\n",
       "    }\n",
       "</style>\n",
       "<table border=\"1\" class=\"dataframe\">\n",
       "  <thead>\n",
       "    <tr style=\"text-align: right;\">\n",
       "      <th></th>\n",
       "      <th>a</th>\n",
       "      <th>b</th>\n",
       "    </tr>\n",
       "  </thead>\n",
       "  <tbody>\n",
       "    <tr>\n",
       "      <th>dog</th>\n",
       "      <td>3</td>\n",
       "      <td>5</td>\n",
       "    </tr>\n",
       "    <tr>\n",
       "      <th>mouse</th>\n",
       "      <td>3</td>\n",
       "      <td>4</td>\n",
       "    </tr>\n",
       "    <tr>\n",
       "      <th>cat</th>\n",
       "      <td>1</td>\n",
       "      <td>1</td>\n",
       "    </tr>\n",
       "    <tr>\n",
       "      <th>cat</th>\n",
       "      <td>0</td>\n",
       "      <td>5</td>\n",
       "    </tr>\n",
       "    <tr>\n",
       "      <th>dog</th>\n",
       "      <td>0</td>\n",
       "      <td>1</td>\n",
       "    </tr>\n",
       "    <tr>\n",
       "      <th>mouse</th>\n",
       "      <td>0</td>\n",
       "      <td>7</td>\n",
       "    </tr>\n",
       "  </tbody>\n",
       "</table>\n",
       "</div>"
      ],
      "text/plain": [
       "       a  b\n",
       "dog    3  5\n",
       "mouse  3  4\n",
       "cat    1  1\n",
       "cat    0  5\n",
       "dog    0  1\n",
       "mouse  0  7"
      ]
     },
     "execution_count": 14,
     "metadata": {},
     "output_type": "execute_result"
    }
   ],
   "source": [
    "import pandas as pd\n",
    "import numpy as np   \n",
    "idx = ['cat', 'dog', 'mouse']\n",
    "cols = ['a', 'b']\n",
    "n_rows = 2\n",
    "idx = idx*n_rows\n",
    "df = pd.DataFrame(3+2.5*np.random.randn(len(idx), len(cols)), \n",
    "                columns=cols, \n",
    "                    index=pd.Series(idx).sample(len(idx))).abs().astype(int)\n",
    "df"
   ]
  },
  {
   "cell_type": "code",
   "execution_count": 1,
   "metadata": {},
   "outputs": [
    {
     "data": {
      "text/html": [
       "<div>\n",
       "<style scoped>\n",
       "    .dataframe tbody tr th:only-of-type {\n",
       "        vertical-align: middle;\n",
       "    }\n",
       "\n",
       "    .dataframe tbody tr th {\n",
       "        vertical-align: top;\n",
       "    }\n",
       "\n",
       "    .dataframe thead th {\n",
       "        text-align: right;\n",
       "    }\n",
       "</style>\n",
       "<table border=\"1\" class=\"dataframe\">\n",
       "  <thead>\n",
       "    <tr style=\"text-align: right;\">\n",
       "      <th></th>\n",
       "      <th>date</th>\n",
       "      <th>type</th>\n",
       "      <th>animal</th>\n",
       "      <th>A</th>\n",
       "      <th>B</th>\n",
       "    </tr>\n",
       "  </thead>\n",
       "  <tbody>\n",
       "    <tr>\n",
       "      <th>0</th>\n",
       "      <td>2022-03-15</td>\n",
       "      <td>Y</td>\n",
       "      <td>dog</td>\n",
       "      <td>0.730807</td>\n",
       "      <td>-0.255509</td>\n",
       "    </tr>\n",
       "    <tr>\n",
       "      <th>1</th>\n",
       "      <td>2022-03-16</td>\n",
       "      <td>X</td>\n",
       "      <td>cat</td>\n",
       "      <td>-0.550745</td>\n",
       "      <td>1.592094</td>\n",
       "    </tr>\n",
       "    <tr>\n",
       "      <th>2</th>\n",
       "      <td>2022-03-17</td>\n",
       "      <td>X</td>\n",
       "      <td>rabbit</td>\n",
       "      <td>-0.566575</td>\n",
       "      <td>-0.489147</td>\n",
       "    </tr>\n",
       "    <tr>\n",
       "      <th>3</th>\n",
       "      <td>2022-03-18</td>\n",
       "      <td>X</td>\n",
       "      <td>elephant</td>\n",
       "      <td>1.877894</td>\n",
       "      <td>-1.318074</td>\n",
       "    </tr>\n",
       "    <tr>\n",
       "      <th>4</th>\n",
       "      <td>2022-03-19</td>\n",
       "      <td>X</td>\n",
       "      <td>dog</td>\n",
       "      <td>1.277121</td>\n",
       "      <td>-0.385321</td>\n",
       "    </tr>\n",
       "    <tr>\n",
       "      <th>...</th>\n",
       "      <td>...</td>\n",
       "      <td>...</td>\n",
       "      <td>...</td>\n",
       "      <td>...</td>\n",
       "      <td>...</td>\n",
       "    </tr>\n",
       "    <tr>\n",
       "      <th>75</th>\n",
       "      <td>2022-05-29</td>\n",
       "      <td>Y</td>\n",
       "      <td>elephant</td>\n",
       "      <td>-0.929735</td>\n",
       "      <td>1.557274</td>\n",
       "    </tr>\n",
       "    <tr>\n",
       "      <th>76</th>\n",
       "      <td>2022-05-30</td>\n",
       "      <td>X</td>\n",
       "      <td>dog</td>\n",
       "      <td>2.422177</td>\n",
       "      <td>0.479677</td>\n",
       "    </tr>\n",
       "    <tr>\n",
       "      <th>77</th>\n",
       "      <td>2022-05-31</td>\n",
       "      <td>Y</td>\n",
       "      <td>cat</td>\n",
       "      <td>-0.135682</td>\n",
       "      <td>0.389643</td>\n",
       "    </tr>\n",
       "    <tr>\n",
       "      <th>78</th>\n",
       "      <td>2022-06-01</td>\n",
       "      <td>Y</td>\n",
       "      <td>rabbit</td>\n",
       "      <td>1.203847</td>\n",
       "      <td>-0.750442</td>\n",
       "    </tr>\n",
       "    <tr>\n",
       "      <th>79</th>\n",
       "      <td>2022-06-02</td>\n",
       "      <td>Y</td>\n",
       "      <td>elephant</td>\n",
       "      <td>-1.517287</td>\n",
       "      <td>-0.567893</td>\n",
       "    </tr>\n",
       "  </tbody>\n",
       "</table>\n",
       "<p>80 rows × 5 columns</p>\n",
       "</div>"
      ],
      "text/plain": [
       "          date type    animal         A         B\n",
       "0   2022-03-15    Y       dog  0.730807 -0.255509\n",
       "1   2022-03-16    X       cat -0.550745  1.592094\n",
       "2   2022-03-17    X    rabbit -0.566575 -0.489147\n",
       "3   2022-03-18    X  elephant  1.877894 -1.318074\n",
       "4   2022-03-19    X       dog  1.277121 -0.385321\n",
       "..         ...  ...       ...       ...       ...\n",
       "75  2022-05-29    Y  elephant -0.929735  1.557274\n",
       "76  2022-05-30    X       dog  2.422177  0.479677\n",
       "77  2022-05-31    Y       cat -0.135682  0.389643\n",
       "78  2022-06-01    Y    rabbit  1.203847 -0.750442\n",
       "79  2022-06-02    Y  elephant -1.517287 -0.567893\n",
       "\n",
       "[80 rows x 5 columns]"
      ]
     },
     "execution_count": 1,
     "metadata": {},
     "output_type": "execute_result"
    }
   ],
   "source": [
    "import pandas as pd\n",
    "import numpy as np\n",
    "import random\n",
    "random.seed(1234)\n",
    "\n",
    "i = ['dog', 'cat', 'rabbit', 'elephant'] * 20\n",
    "\n",
    "type = pd.Series((random.choice(['X', 'Y']) for _ in range(len(i))), name='type')\n",
    "dates = pd.Series(pd.date_range(start=pd.to_datetime('now', utc=True)-pd.DateOffset(len(i)-1), \n",
    "            end=pd.to_datetime('now', utc=True)), name='date').dt.date\n",
    "\n",
    "df = pd.DataFrame(np.random.randn(len(i), 2), index=i, \\\n",
    "            columns=list('AB')).rename_axis('animal').reset_index()\n",
    "            \n",
    "df = pd.concat([dates, type, df], axis=1)\n",
    "df"
   ]
  },
  {
   "cell_type": "markdown",
   "metadata": {},
   "source": [
    "Make a small, but complex dataframe"
   ]
  },
  {
   "cell_type": "code",
   "execution_count": 5,
   "metadata": {},
   "outputs": [
    {
     "data": {
      "text/html": [
       "<div>\n",
       "<style scoped>\n",
       "    .dataframe tbody tr th:only-of-type {\n",
       "        vertical-align: middle;\n",
       "    }\n",
       "\n",
       "    .dataframe tbody tr th {\n",
       "        vertical-align: top;\n",
       "    }\n",
       "\n",
       "    .dataframe thead th {\n",
       "        text-align: right;\n",
       "    }\n",
       "</style>\n",
       "<table border=\"1\" class=\"dataframe\">\n",
       "  <thead>\n",
       "    <tr style=\"text-align: right;\">\n",
       "      <th></th>\n",
       "      <th>date</th>\n",
       "      <th>type</th>\n",
       "      <th>animal</th>\n",
       "      <th>A</th>\n",
       "      <th>B</th>\n",
       "      <th>flag</th>\n",
       "    </tr>\n",
       "  </thead>\n",
       "  <tbody>\n",
       "    <tr>\n",
       "      <th>0</th>\n",
       "      <td>2022-03-15</td>\n",
       "      <td>Y</td>\n",
       "      <td>dog</td>\n",
       "      <td>-1.558471</td>\n",
       "      <td>-0.592981</td>\n",
       "      <td>True</td>\n",
       "    </tr>\n",
       "    <tr>\n",
       "      <th>1</th>\n",
       "      <td>2022-03-16</td>\n",
       "      <td>X</td>\n",
       "      <td>cat</td>\n",
       "      <td>-1.301200</td>\n",
       "      <td>-0.735802</td>\n",
       "      <td>False</td>\n",
       "    </tr>\n",
       "    <tr>\n",
       "      <th>2</th>\n",
       "      <td>2022-03-17</td>\n",
       "      <td>X</td>\n",
       "      <td>rabbit</td>\n",
       "      <td>NaN</td>\n",
       "      <td>1.712587</td>\n",
       "      <td>False</td>\n",
       "    </tr>\n",
       "    <tr>\n",
       "      <th>3</th>\n",
       "      <td>2022-03-18</td>\n",
       "      <td>X</td>\n",
       "      <td>elephant</td>\n",
       "      <td>-0.819591</td>\n",
       "      <td>1.745640</td>\n",
       "      <td>True</td>\n",
       "    </tr>\n",
       "    <tr>\n",
       "      <th>4</th>\n",
       "      <td>2022-03-19</td>\n",
       "      <td>X</td>\n",
       "      <td>dog</td>\n",
       "      <td>-0.528120</td>\n",
       "      <td>-0.583105</td>\n",
       "      <td>True</td>\n",
       "    </tr>\n",
       "    <tr>\n",
       "      <th>5</th>\n",
       "      <td>2022-03-19</td>\n",
       "      <td>Y</td>\n",
       "      <td>dog</td>\n",
       "      <td>NaN</td>\n",
       "      <td>NaN</td>\n",
       "      <td>False</td>\n",
       "    </tr>\n",
       "  </tbody>\n",
       "</table>\n",
       "</div>"
      ],
      "text/plain": [
       "        date type    animal         A         B   flag\n",
       "0 2022-03-15    Y       dog -1.558471 -0.592981   True\n",
       "1 2022-03-16    X       cat -1.301200 -0.735802  False\n",
       "2 2022-03-17    X    rabbit       NaN  1.712587  False\n",
       "3 2022-03-18    X  elephant -0.819591  1.745640   True\n",
       "4 2022-03-19    X       dog -0.528120 -0.583105   True\n",
       "5 2022-03-19    Y       dog       NaN       NaN  False"
      ]
     },
     "execution_count": 5,
     "metadata": {},
     "output_type": "execute_result"
    }
   ],
   "source": [
    "d = '''          date type    animal         A         B        flag\n",
    "0   2022-03-15    Y       dog -1.558471 -0.592981   True\n",
    "1   2022-03-16    X       cat -1.301200 -0.735802   False\n",
    "2   2022-03-17    X    rabbit  nan  1.712587        False\n",
    "3   2022-03-18    X  elephant -0.819591  1.745640   True\n",
    "4   2022-03-19    X       dog -0.528120 -0.583105   True\n",
    "5   2022-03-19    Y       dog nan         nan       False'''\n",
    "\n",
    "import pandas as pd  \n",
    "from io import StringIO\n",
    "\n",
    "df = pd.read_csv(StringIO(d), sep='\\s+')\n",
    "df = df.assign(date = pd.to_datetime(df.date, infer_datetime_format=True)) # convert date to datetime format\n",
    "df"
   ]
  },
  {
   "cell_type": "markdown",
   "metadata": {},
   "source": [
    "# Series\n",
    "## Random date series between two dates"
   ]
  },
  {
   "cell_type": "code",
   "execution_count": null,
   "metadata": {},
   "outputs": [],
   "source": [
    "# Generate list of random dates\n",
    "start = datetime.date(2018,1,1)\n",
    "end = datetime.date(2018,12,31)\n",
    "dates = [start + (end-start)* random.random() for i in range(6)]\n",
    "dates"
   ]
  },
  {
   "cell_type": "markdown",
   "metadata": {},
   "source": [
    "## Random int Series"
   ]
  },
  {
   "cell_type": "code",
   "execution_count": null,
   "metadata": {},
   "outputs": [],
   "source": [
    "pd.Series(np.random.randint(2, high=10, size=5), name='Value')"
   ]
  },
  {
   "cell_type": "markdown",
   "metadata": {},
   "source": [
    "## Random Letter Series"
   ]
  },
  {
   "cell_type": "code",
   "execution_count": null,
   "metadata": {},
   "outputs": [],
   "source": [
    "import string, random\n",
    "pd.Series(random.choice(string.ascii_uppercase) for _ in range(100))"
   ]
  },
  {
   "cell_type": "markdown",
   "metadata": {},
   "source": [
    "## Random letter + number series\n",
    "(for e.g. machine number generation)"
   ]
  },
  {
   "cell_type": "code",
   "execution_count": null,
   "metadata": {},
   "outputs": [],
   "source": [
    "['N'+ str(random.randint(i, i+5)) for i in range(6)]"
   ]
  },
  {
   "cell_type": "markdown",
   "metadata": {},
   "source": [
    "## Sample dataframe and dictionary"
   ]
  },
  {
   "cell_type": "code",
   "execution_count": null,
   "metadata": {},
   "outputs": [],
   "source": [
    "import pandas as pd\n",
    "import numpy as np\n",
    "\n",
    "i = ['dog', 'cat', 'rabbit', 'elephant'] * 3\n",
    "\n",
    "df = pd.DataFrame(np.random.randn(len(i), 2), index=i, columns=list('AB'))\n",
    "df"
   ]
  },
  {
   "cell_type": "code",
   "execution_count": null,
   "metadata": {},
   "outputs": [],
   "source": [
    "b_dict = {'elephant': 2.0, 'dog': 5.0}\n",
    "b_dict"
   ]
  },
  {
   "cell_type": "markdown",
   "metadata": {},
   "source": [
    "# Generate fake OHLC data\n",
    "One can use the following code to generate fake daily ohlc data"
   ]
  },
  {
   "cell_type": "code",
   "execution_count": null,
   "metadata": {},
   "outputs": [],
   "source": [
    "# Generate fake stock data\n",
    "import pandas as pd\n",
    "import numpy as np\n",
    "import ta\n",
    "\n",
    "np.random.seed(10)\n",
    "\n",
    "# generate ohlc data\n",
    "days = 500\n",
    "dates = pd.date_range('20180101', periods=days)\n",
    "\n",
    "# . generate close\n",
    "steps = np.random.normal(loc=0, scale=1.0, size=days)\n",
    "steps[0]=0 # set the first step to 0\n",
    "c = 72 + np.cumsum(steps) # simulate daily close starting from 72\n",
    "\n",
    "# . generate opens\n",
    "\n",
    "# . change between close and open\n",
    "c_o_change = np.random.uniform(low=-0.05, high=0.05, size=days-1)\n",
    "\n",
    "o=c[:-1]*c_o_change+c[:-1] # open\n",
    "o=np.append(72.3, o)\n",
    "\n",
    "h_change = np.random.normal(loc=0, scale=0.008, size=days)\n",
    "l_change = np.random.uniform(low=-0.008, high=-0.01, size=days)\n",
    "\n",
    "# . high and low\n",
    "h=pd.DataFrame([o, c]).max()*(1+abs(h_change))\n",
    "l=pd.DataFrame([o, c]).min()*(1-abs(l_change))\n",
    "\n",
    "# . generate the bollinger bands\n",
    "bb=ta.volatility.BollingerBands(close=pd.Series(c), n=20, ndev=2)\n",
    "\n",
    "bb_ma=bb.bollinger_mavg()\n",
    "bb_hi=bb.bollinger_hband()\n",
    "bb_lo=bb.bollinger_lband()\n",
    "\n",
    "volume = abs(np.random.normal(loc=500000, scale=499999, size=days).astype('int'))\n",
    "\n",
    "df=pd.DataFrame({'date': dates, 'open': o, 'high': h, 'low': l, 'close': c, 'volume': volume,\n",
    "                 'bb_ma': bb_ma, 'bb_hi': bb_hi, 'bb_lo': bb_lo})\n",
    "\n",
    "df        "
   ]
  },
  {
   "cell_type": "code",
   "execution_count": null,
   "metadata": {},
   "outputs": [],
   "source": []
  }
 ],
 "metadata": {
  "kernelspec": {
   "display_name": "Python 3.9.13 64-bit (windows store)",
   "language": "python",
   "name": "python3"
  },
  "language_info": {
   "codemirror_mode": {
    "name": "ipython",
    "version": 3
   },
   "file_extension": ".py",
   "mimetype": "text/x-python",
   "name": "python",
   "nbconvert_exporter": "python",
   "pygments_lexer": "ipython3",
   "version": "3.9.13"
  },
  "vscode": {
   "interpreter": {
    "hash": "ad21799a0d24cee3bcc26edb610b0cdcfe48e3d4e9cf5d902d7253fea44d3c42"
   }
  }
 },
 "nbformat": 4,
 "nbformat_minor": 4
}
