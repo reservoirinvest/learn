{
 "cells": [
  {
   "cell_type": "code",
   "execution_count": null,
   "metadata": {},
   "outputs": [],
   "source": [
    "import pandas as pd\n",
    "import numpy as np\n",
    "import datetime\n",
    "import random"
   ]
  },
  {
   "cell_type": "markdown",
   "metadata": {},
   "source": [
    "# Reference Dataframe\n",
    "That would be good enough for most purposes"
   ]
  },
  {
   "cell_type": "code",
   "execution_count": null,
   "metadata": {},
   "outputs": [],
   "source": [
    "import pandas as pd\n",
    "import numpy as np\n",
    "import random\n",
    "random.seed(1234)\n",
    "\n",
    "i = ['dog', 'cat', 'rabbit', 'elephant'] * 20\n",
    "\n",
    "type = pd.Series((random.choice(['X', 'Y']) for _ in range(len(i))), name='type')\n",
    "dates = pd.Series(pd.date_range(start=pd.to_datetime('now')-pd.DateOffset(len(i)-1), \n",
    "            end=pd.to_datetime('now')), name='date').dt.date\n",
    "\n",
    "df = pd.DataFrame(np.random.randn(len(i), 2), index=i, \\\n",
    "            columns=list('AB')).rename_axis('animal').reset_index()\n",
    "            \n",
    "df = pd.concat([dates, type, df], axis=1)\n",
    "df"
   ]
  },
  {
   "cell_type": "markdown",
   "metadata": {},
   "source": [
    "# Series\n",
    "## Random date series between two dates"
   ]
  },
  {
   "cell_type": "code",
   "execution_count": null,
   "metadata": {},
   "outputs": [],
   "source": [
    "# Generate list of random dates\n",
    "start = datetime.date(2018,1,1)\n",
    "end = datetime.date(2018,12,31)\n",
    "dates = [start + (end-start)* random.random() for i in range(6)]\n",
    "dates"
   ]
  },
  {
   "cell_type": "markdown",
   "metadata": {},
   "source": [
    "## Random int Series"
   ]
  },
  {
   "cell_type": "code",
   "execution_count": null,
   "metadata": {},
   "outputs": [],
   "source": [
    "pd.Series(np.random.randint(2, high=10, size=5), name='Value')"
   ]
  },
  {
   "cell_type": "markdown",
   "metadata": {},
   "source": [
    "## Random Letter Series"
   ]
  },
  {
   "cell_type": "code",
   "execution_count": null,
   "metadata": {},
   "outputs": [],
   "source": [
    "import string, random\n",
    "pd.Series(random.choice(string.ascii_uppercase) for _ in range(100))"
   ]
  },
  {
   "cell_type": "markdown",
   "metadata": {},
   "source": [
    "## Random letter + number series\n",
    "(for e.g. machine number generation)"
   ]
  },
  {
   "cell_type": "code",
   "execution_count": null,
   "metadata": {},
   "outputs": [],
   "source": [
    "['N'+ str(random.randint(i, i+5)) for i in range(6)]"
   ]
  },
  {
   "cell_type": "markdown",
   "metadata": {},
   "source": [
    "## Sample dataframe and dictionary"
   ]
  },
  {
   "cell_type": "code",
   "execution_count": null,
   "metadata": {},
   "outputs": [],
   "source": [
    "import pandas as pd\n",
    "import numpy as np\n",
    "\n",
    "i = ['dog', 'cat', 'rabbit', 'elephant'] * 3\n",
    "\n",
    "df = pd.DataFrame(np.random.randn(len(i), 2), index=i, columns=list('AB'))\n",
    "df"
   ]
  },
  {
   "cell_type": "code",
   "execution_count": null,
   "metadata": {},
   "outputs": [],
   "source": [
    "b_dict = {'elephant': 2.0, 'dog': 5.0}\n",
    "b_dict"
   ]
  },
  {
   "cell_type": "markdown",
   "metadata": {},
   "source": [
    "# Generate fake OHLC data\n",
    "One can use the following code to generate fake daily ohlc data"
   ]
  },
  {
   "cell_type": "code",
   "execution_count": null,
   "metadata": {},
   "outputs": [],
   "source": [
    "# Generate fake stock data\n",
    "import pandas as pd\n",
    "import numpy as np\n",
    "import ta\n",
    "\n",
    "np.random.seed(10)\n",
    "\n",
    "# generate ohlc data\n",
    "days = 500\n",
    "dates = pd.date_range('20180101', periods=days)\n",
    "\n",
    "# . generate close\n",
    "steps = np.random.normal(loc=0, scale=1.0, size=days)\n",
    "steps[0]=0 # set the first step to 0\n",
    "c = 72 + np.cumsum(steps) # simulate daily close starting from 72\n",
    "\n",
    "# . generate opens\n",
    "\n",
    "# . change between close and open\n",
    "c_o_change = np.random.uniform(low=-0.05, high=0.05, size=days-1)\n",
    "\n",
    "o=c[:-1]*c_o_change+c[:-1] # open\n",
    "o=np.append(72.3, o)\n",
    "\n",
    "h_change = np.random.normal(loc=0, scale=0.008, size=days)\n",
    "l_change = np.random.uniform(low=-0.008, high=-0.01, size=days)\n",
    "\n",
    "# . high and low\n",
    "h=pd.DataFrame([o, c]).max()*(1+abs(h_change))\n",
    "l=pd.DataFrame([o, c]).min()*(1-abs(l_change))\n",
    "\n",
    "# . generate the bollinger bands\n",
    "bb=ta.volatility.BollingerBands(close=pd.Series(c), n=20, ndev=2)\n",
    "\n",
    "bb_ma=bb.bollinger_mavg()\n",
    "bb_hi=bb.bollinger_hband()\n",
    "bb_lo=bb.bollinger_lband()\n",
    "\n",
    "volume = abs(np.random.normal(loc=500000, scale=499999, size=days).astype('int'))\n",
    "\n",
    "df=pd.DataFrame({'date': dates, 'open': o, 'high': h, 'low': l, 'close': c, 'volume': volume,\n",
    "                 'bb_ma': bb_ma, 'bb_hi': bb_hi, 'bb_lo': bb_lo})\n",
    "\n",
    "df        "
   ]
  },
  {
   "cell_type": "code",
   "execution_count": null,
   "metadata": {},
   "outputs": [],
   "source": []
  }
 ],
 "metadata": {
  "interpreter": {
   "hash": "fe44fef87f92f48a3a32707d0df204585f471652bc0ce87358a3ce712bc24db0"
  },
  "kernelspec": {
   "display_name": "Python 3.9.7 64-bit",
   "name": "python3"
  },
  "language_info": {
   "codemirror_mode": {
    "name": "ipython",
    "version": 3
   },
   "file_extension": ".py",
   "mimetype": "text/x-python",
   "name": "python",
   "nbconvert_exporter": "python",
   "pygments_lexer": "ipython3",
   "version": "3.9.7"
  }
 },
 "nbformat": 4,
 "nbformat_minor": 4
}
