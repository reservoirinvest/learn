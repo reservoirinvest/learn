{
 "cells": [
  {
   "cell_type": "code",
   "execution_count": 1,
   "metadata": {},
   "outputs": [],
   "source": [
    "import pandas as pd\n",
    "import numpy as np\n",
    "import datetime\n",
    "import random"
   ]
  },
  {
   "cell_type": "markdown",
   "metadata": {},
   "source": [
    "# Series\n",
    "## Random date series between two dates"
   ]
  },
  {
   "cell_type": "code",
   "execution_count": 2,
   "metadata": {},
   "outputs": [
    {
     "data": {
      "text/plain": [
       "[datetime.date(2018, 9, 25),\n",
       " datetime.date(2018, 5, 15),\n",
       " datetime.date(2018, 5, 23),\n",
       " datetime.date(2018, 4, 2),\n",
       " datetime.date(2018, 12, 25),\n",
       " datetime.date(2018, 8, 20)]"
      ]
     },
     "execution_count": 2,
     "metadata": {},
     "output_type": "execute_result"
    }
   ],
   "source": [
    "# Generate list of random dates\n",
    "start = datetime.date(2018,1,1)\n",
    "end = datetime.date(2018,12,31)\n",
    "dates = [start + (end-start)* random.random() for i in range(6)]\n",
    "dates"
   ]
  },
  {
   "cell_type": "markdown",
   "metadata": {},
   "source": [
    "## Random int Series"
   ]
  },
  {
   "cell_type": "code",
   "execution_count": 3,
   "metadata": {},
   "outputs": [
    {
     "data": {
      "text/plain": [
       "0    7\n",
       "1    2\n",
       "2    3\n",
       "3    5\n",
       "4    2\n",
       "Name: Value, dtype: int32"
      ]
     },
     "execution_count": 3,
     "metadata": {},
     "output_type": "execute_result"
    }
   ],
   "source": [
    "pd.Series(np.random.randint(2, high=10, size=5), name='Value')"
   ]
  },
  {
   "cell_type": "markdown",
   "metadata": {},
   "source": [
    "## Random Letter Series"
   ]
  },
  {
   "cell_type": "code",
   "execution_count": 4,
   "metadata": {},
   "outputs": [
    {
     "data": {
      "text/plain": [
       "0     N\n",
       "1     A\n",
       "2     J\n",
       "3     W\n",
       "4     U\n",
       "     ..\n",
       "95    L\n",
       "96    R\n",
       "97    O\n",
       "98    G\n",
       "99    K\n",
       "Length: 100, dtype: object"
      ]
     },
     "execution_count": 4,
     "metadata": {},
     "output_type": "execute_result"
    }
   ],
   "source": [
    "import string, random\n",
    "pd.Series(random.choice(string.ascii_uppercase) for _ in range(100))"
   ]
  },
  {
   "cell_type": "markdown",
   "metadata": {},
   "source": [
    "## Random letter + number series\n",
    "(for e.g. machine number generation)"
   ]
  },
  {
   "cell_type": "code",
   "execution_count": 5,
   "metadata": {},
   "outputs": [
    {
     "data": {
      "text/plain": [
       "['N2', 'N6', 'N3', 'N7', 'N7', 'N7']"
      ]
     },
     "execution_count": 5,
     "metadata": {},
     "output_type": "execute_result"
    }
   ],
   "source": [
    "['N'+ str(random.randint(i, i+5)) for i in range(6)]"
   ]
  },
  {
   "cell_type": "markdown",
   "metadata": {},
   "source": [
    "## Sample dataframe and dictionary"
   ]
  },
  {
   "cell_type": "code",
   "execution_count": 6,
   "metadata": {},
   "outputs": [
    {
     "data": {
      "text/html": [
       "<div>\n",
       "<style scoped>\n",
       "    .dataframe tbody tr th:only-of-type {\n",
       "        vertical-align: middle;\n",
       "    }\n",
       "\n",
       "    .dataframe tbody tr th {\n",
       "        vertical-align: top;\n",
       "    }\n",
       "\n",
       "    .dataframe thead th {\n",
       "        text-align: right;\n",
       "    }\n",
       "</style>\n",
       "<table border=\"1\" class=\"dataframe\">\n",
       "  <thead>\n",
       "    <tr style=\"text-align: right;\">\n",
       "      <th></th>\n",
       "      <th>A</th>\n",
       "      <th>B</th>\n",
       "    </tr>\n",
       "  </thead>\n",
       "  <tbody>\n",
       "    <tr>\n",
       "      <th>dog</th>\n",
       "      <td>2.145477</td>\n",
       "      <td>1.966752</td>\n",
       "    </tr>\n",
       "    <tr>\n",
       "      <th>cat</th>\n",
       "      <td>0.331885</td>\n",
       "      <td>-1.636612</td>\n",
       "    </tr>\n",
       "    <tr>\n",
       "      <th>rabbit</th>\n",
       "      <td>-0.380758</td>\n",
       "      <td>1.395995</td>\n",
       "    </tr>\n",
       "    <tr>\n",
       "      <th>elephant</th>\n",
       "      <td>-2.584510</td>\n",
       "      <td>1.204241</td>\n",
       "    </tr>\n",
       "    <tr>\n",
       "      <th>dog</th>\n",
       "      <td>-0.733554</td>\n",
       "      <td>-0.046915</td>\n",
       "    </tr>\n",
       "    <tr>\n",
       "      <th>cat</th>\n",
       "      <td>0.498927</td>\n",
       "      <td>0.774123</td>\n",
       "    </tr>\n",
       "    <tr>\n",
       "      <th>rabbit</th>\n",
       "      <td>0.206429</td>\n",
       "      <td>-1.012396</td>\n",
       "    </tr>\n",
       "    <tr>\n",
       "      <th>elephant</th>\n",
       "      <td>1.067448</td>\n",
       "      <td>-0.655173</td>\n",
       "    </tr>\n",
       "    <tr>\n",
       "      <th>dog</th>\n",
       "      <td>-1.074828</td>\n",
       "      <td>0.432398</td>\n",
       "    </tr>\n",
       "    <tr>\n",
       "      <th>cat</th>\n",
       "      <td>0.961994</td>\n",
       "      <td>0.094233</td>\n",
       "    </tr>\n",
       "    <tr>\n",
       "      <th>rabbit</th>\n",
       "      <td>2.000470</td>\n",
       "      <td>0.184014</td>\n",
       "    </tr>\n",
       "    <tr>\n",
       "      <th>elephant</th>\n",
       "      <td>1.021342</td>\n",
       "      <td>0.305608</td>\n",
       "    </tr>\n",
       "  </tbody>\n",
       "</table>\n",
       "</div>"
      ],
      "text/plain": [
       "                 A         B\n",
       "dog       2.145477  1.966752\n",
       "cat       0.331885 -1.636612\n",
       "rabbit   -0.380758  1.395995\n",
       "elephant -2.584510  1.204241\n",
       "dog      -0.733554 -0.046915\n",
       "cat       0.498927  0.774123\n",
       "rabbit    0.206429 -1.012396\n",
       "elephant  1.067448 -0.655173\n",
       "dog      -1.074828  0.432398\n",
       "cat       0.961994  0.094233\n",
       "rabbit    2.000470  0.184014\n",
       "elephant  1.021342  0.305608"
      ]
     },
     "execution_count": 6,
     "metadata": {},
     "output_type": "execute_result"
    }
   ],
   "source": [
    "import pandas as pd\n",
    "import numpy as np\n",
    "\n",
    "i = ['dog', 'cat', 'rabbit', 'elephant'] * 3\n",
    "\n",
    "df = pd.DataFrame(np.random.randn(len(i), 2), index=i, columns=list('AB'))\n",
    "df"
   ]
  },
  {
   "cell_type": "code",
   "execution_count": 7,
   "metadata": {},
   "outputs": [
    {
     "data": {
      "text/plain": [
       "{'elephant': 2.0, 'dog': 5.0}"
      ]
     },
     "execution_count": 7,
     "metadata": {},
     "output_type": "execute_result"
    }
   ],
   "source": [
    "b_dict = {'elephant': 2.0, 'dog': 5.0}\n",
    "b_dict"
   ]
  },
  {
   "cell_type": "markdown",
   "metadata": {},
   "source": [
    "# Generate fake OHLC data\n",
    "One can use the following code to generate fake daily ohlc data"
   ]
  },
  {
   "cell_type": "code",
   "execution_count": 8,
   "metadata": {},
   "outputs": [
    {
     "data": {
      "text/html": [
       "<div>\n",
       "<style scoped>\n",
       "    .dataframe tbody tr th:only-of-type {\n",
       "        vertical-align: middle;\n",
       "    }\n",
       "\n",
       "    .dataframe tbody tr th {\n",
       "        vertical-align: top;\n",
       "    }\n",
       "\n",
       "    .dataframe thead th {\n",
       "        text-align: right;\n",
       "    }\n",
       "</style>\n",
       "<table border=\"1\" class=\"dataframe\">\n",
       "  <thead>\n",
       "    <tr style=\"text-align: right;\">\n",
       "      <th></th>\n",
       "      <th>date</th>\n",
       "      <th>open</th>\n",
       "      <th>high</th>\n",
       "      <th>low</th>\n",
       "      <th>close</th>\n",
       "      <th>volume</th>\n",
       "      <th>bb_ma</th>\n",
       "      <th>bb_hi</th>\n",
       "      <th>bb_lo</th>\n",
       "    </tr>\n",
       "  </thead>\n",
       "  <tbody>\n",
       "    <tr>\n",
       "      <th>0</th>\n",
       "      <td>2018-01-01</td>\n",
       "      <td>72.300000</td>\n",
       "      <td>72.783241</td>\n",
       "      <td>71.291271</td>\n",
       "      <td>72.000000</td>\n",
       "      <td>191895</td>\n",
       "      <td>NaN</td>\n",
       "      <td>NaN</td>\n",
       "      <td>NaN</td>\n",
       "    </tr>\n",
       "    <tr>\n",
       "      <th>1</th>\n",
       "      <td>2018-01-02</td>\n",
       "      <td>72.921513</td>\n",
       "      <td>73.357836</td>\n",
       "      <td>72.023951</td>\n",
       "      <td>72.715279</td>\n",
       "      <td>521467</td>\n",
       "      <td>NaN</td>\n",
       "      <td>NaN</td>\n",
       "      <td>NaN</td>\n",
       "    </tr>\n",
       "    <tr>\n",
       "      <th>2</th>\n",
       "      <td>2018-01-03</td>\n",
       "      <td>73.684400</td>\n",
       "      <td>74.062499</td>\n",
       "      <td>70.549987</td>\n",
       "      <td>71.169879</td>\n",
       "      <td>943231</td>\n",
       "      <td>NaN</td>\n",
       "      <td>NaN</td>\n",
       "      <td>NaN</td>\n",
       "    </tr>\n",
       "    <tr>\n",
       "      <th>3</th>\n",
       "      <td>2018-01-04</td>\n",
       "      <td>69.769818</td>\n",
       "      <td>71.432672</td>\n",
       "      <td>69.144806</td>\n",
       "      <td>71.161495</td>\n",
       "      <td>930929</td>\n",
       "      <td>NaN</td>\n",
       "      <td>NaN</td>\n",
       "      <td>NaN</td>\n",
       "    </tr>\n",
       "    <tr>\n",
       "      <th>4</th>\n",
       "      <td>2018-01-05</td>\n",
       "      <td>73.412815</td>\n",
       "      <td>74.159161</td>\n",
       "      <td>71.078967</td>\n",
       "      <td>71.782831</td>\n",
       "      <td>186510</td>\n",
       "      <td>NaN</td>\n",
       "      <td>NaN</td>\n",
       "      <td>NaN</td>\n",
       "    </tr>\n",
       "    <tr>\n",
       "      <th>...</th>\n",
       "      <td>...</td>\n",
       "      <td>...</td>\n",
       "      <td>...</td>\n",
       "      <td>...</td>\n",
       "      <td>...</td>\n",
       "      <td>...</td>\n",
       "      <td>...</td>\n",
       "      <td>...</td>\n",
       "      <td>...</td>\n",
       "    </tr>\n",
       "    <tr>\n",
       "      <th>495</th>\n",
       "      <td>2019-05-11</td>\n",
       "      <td>88.123011</td>\n",
       "      <td>89.587983</td>\n",
       "      <td>86.122274</td>\n",
       "      <td>86.913448</td>\n",
       "      <td>1239282</td>\n",
       "      <td>87.041374</td>\n",
       "      <td>88.758415</td>\n",
       "      <td>85.324334</td>\n",
       "    </tr>\n",
       "    <tr>\n",
       "      <th>496</th>\n",
       "      <td>2019-05-12</td>\n",
       "      <td>89.181439</td>\n",
       "      <td>89.692494</td>\n",
       "      <td>86.219080</td>\n",
       "      <td>86.969763</td>\n",
       "      <td>692222</td>\n",
       "      <td>86.979700</td>\n",
       "      <td>88.611891</td>\n",
       "      <td>85.347509</td>\n",
       "    </tr>\n",
       "    <tr>\n",
       "      <th>497</th>\n",
       "      <td>2019-05-13</td>\n",
       "      <td>83.767324</td>\n",
       "      <td>88.263665</td>\n",
       "      <td>82.992540</td>\n",
       "      <td>87.515547</td>\n",
       "      <td>536449</td>\n",
       "      <td>86.983206</td>\n",
       "      <td>88.619679</td>\n",
       "      <td>85.346733</td>\n",
       "    </tr>\n",
       "    <tr>\n",
       "      <th>498</th>\n",
       "      <td>2019-05-14</td>\n",
       "      <td>84.501309</td>\n",
       "      <td>87.432225</td>\n",
       "      <td>83.662950</td>\n",
       "      <td>86.832425</td>\n",
       "      <td>663581</td>\n",
       "      <td>86.904166</td>\n",
       "      <td>88.403702</td>\n",
       "      <td>85.404630</td>\n",
       "    </tr>\n",
       "    <tr>\n",
       "      <th>499</th>\n",
       "      <td>2019-05-15</td>\n",
       "      <td>89.590361</td>\n",
       "      <td>90.203609</td>\n",
       "      <td>85.349863</td>\n",
       "      <td>86.173408</td>\n",
       "      <td>404606</td>\n",
       "      <td>86.835901</td>\n",
       "      <td>88.337980</td>\n",
       "      <td>85.333822</td>\n",
       "    </tr>\n",
       "  </tbody>\n",
       "</table>\n",
       "<p>500 rows × 9 columns</p>\n",
       "</div>"
      ],
      "text/plain": [
       "          date       open       high        low      close   volume  \\\n",
       "0   2018-01-01  72.300000  72.783241  71.291271  72.000000   191895   \n",
       "1   2018-01-02  72.921513  73.357836  72.023951  72.715279   521467   \n",
       "2   2018-01-03  73.684400  74.062499  70.549987  71.169879   943231   \n",
       "3   2018-01-04  69.769818  71.432672  69.144806  71.161495   930929   \n",
       "4   2018-01-05  73.412815  74.159161  71.078967  71.782831   186510   \n",
       "..         ...        ...        ...        ...        ...      ...   \n",
       "495 2019-05-11  88.123011  89.587983  86.122274  86.913448  1239282   \n",
       "496 2019-05-12  89.181439  89.692494  86.219080  86.969763   692222   \n",
       "497 2019-05-13  83.767324  88.263665  82.992540  87.515547   536449   \n",
       "498 2019-05-14  84.501309  87.432225  83.662950  86.832425   663581   \n",
       "499 2019-05-15  89.590361  90.203609  85.349863  86.173408   404606   \n",
       "\n",
       "         bb_ma      bb_hi      bb_lo  \n",
       "0          NaN        NaN        NaN  \n",
       "1          NaN        NaN        NaN  \n",
       "2          NaN        NaN        NaN  \n",
       "3          NaN        NaN        NaN  \n",
       "4          NaN        NaN        NaN  \n",
       "..         ...        ...        ...  \n",
       "495  87.041374  88.758415  85.324334  \n",
       "496  86.979700  88.611891  85.347509  \n",
       "497  86.983206  88.619679  85.346733  \n",
       "498  86.904166  88.403702  85.404630  \n",
       "499  86.835901  88.337980  85.333822  \n",
       "\n",
       "[500 rows x 9 columns]"
      ]
     },
     "execution_count": 8,
     "metadata": {},
     "output_type": "execute_result"
    }
   ],
   "source": [
    "# Generate fake stock data\n",
    "import pandas as pd\n",
    "import numpy as np\n",
    "import ta\n",
    "\n",
    "np.random.seed(10)\n",
    "\n",
    "# generate ohlc data\n",
    "days = 500\n",
    "dates = pd.date_range('20180101', periods=days)\n",
    "\n",
    "# . generate close\n",
    "steps = np.random.normal(loc=0, scale=1.0, size=days)\n",
    "steps[0]=0 # set the first step to 0\n",
    "c = 72 + np.cumsum(steps) # simulate daily close starting from 72\n",
    "\n",
    "# . generate opens\n",
    "\n",
    "# . change between close and open\n",
    "c_o_change = np.random.uniform(low=-0.05, high=0.05, size=days-1)\n",
    "\n",
    "o=c[:-1]*c_o_change+c[:-1] # open\n",
    "o=np.append(72.3, o)\n",
    "\n",
    "h_change = np.random.normal(loc=0, scale=0.008, size=days)\n",
    "l_change = np.random.uniform(low=-0.008, high=-0.01, size=days)\n",
    "\n",
    "# . high and low\n",
    "h=pd.DataFrame([o, c]).max()*(1+abs(h_change))\n",
    "l=pd.DataFrame([o, c]).min()*(1-abs(l_change))\n",
    "\n",
    "# . generate the bollinger bands\n",
    "bb=ta.volatility.BollingerBands(close=pd.Series(c), n=20, ndev=2)\n",
    "\n",
    "bb_ma=bb.bollinger_mavg()\n",
    "bb_hi=bb.bollinger_hband()\n",
    "bb_lo=bb.bollinger_lband()\n",
    "\n",
    "volume = abs(np.random.normal(loc=500000, scale=499999, size=days).astype('int'))\n",
    "\n",
    "df=pd.DataFrame({'date': dates, 'open': o, 'high': h, 'low': l, 'close': c, 'volume': volume,\n",
    "                 'bb_ma': bb_ma, 'bb_hi': bb_hi, 'bb_lo': bb_lo})\n",
    "\n",
    "df        "
   ]
  },
  {
   "cell_type": "code",
   "execution_count": null,
   "metadata": {},
   "outputs": [],
   "source": []
  }
 ],
 "metadata": {
  "kernelspec": {
   "display_name": "Python 3",
   "language": "python",
   "name": "python3"
  },
  "language_info": {
   "codemirror_mode": {
    "name": "ipython",
    "version": 3
   },
   "file_extension": ".py",
   "mimetype": "text/x-python",
   "name": "python",
   "nbconvert_exporter": "python",
   "pygments_lexer": "ipython3",
   "version": "3.8.6"
  }
 },
 "nbformat": 4,
 "nbformat_minor": 4
}
