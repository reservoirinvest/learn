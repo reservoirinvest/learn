{
 "cells": [
  {
   "cell_type": "markdown",
   "id": "87120c18",
   "metadata": {},
   "source": [
    "# Experiments with asyncio pipeline\n",
    "\n",
    "Ref: [Pipeline setup](https://www.dreamonward.com/2019/07/25/asyncio-pipeline/)\n"
   ]
  },
  {
   "cell_type": "code",
   "execution_count": 1,
   "id": "b75aefa5",
   "metadata": {},
   "outputs": [
    {
     "output_type": "execute_result",
     "data": {
      "text/plain": [
       "<IPython.core.display.SVG object>"
      ],
      "image/svg+xml": "<svg xmlns=\"http://www.w3.org/2000/svg\" width=\"258\" height=\"538\">\n\n <g>\n  <title>Layer 1</title>\n  <text xml:space=\"preserve\" text-anchor=\"start\" font-family=\"Noto Sans JP\" font-size=\"24\" id=\"svg_2\" y=\"21\" x=\"0.00781\" stroke-width=\"0\" stroke=\"#000\" fill=\"#000000\">Input</text>\n  <text xml:space=\"preserve\" text-anchor=\"start\" font-family=\"Noto Sans JP\" font-size=\"24\" id=\"svg_3\" y=\"523\" x=\"0.00781\" stroke-width=\"0\" stroke=\"#000\" fill=\"#000000\">Output</text>\n  <g id=\"svg_11\">\n   <text xml:space=\"preserve\" text-anchor=\"start\" font-family=\"Noto Sans JP\" font-size=\"18\" id=\"svg_5\" y=\"154.40721\" x=\"57.15625\" stroke-width=\"0\" stroke=\"#000\" fill=\"#000000\">Send word, letter by letter</text>\n   <text xml:space=\"preserve\" text-anchor=\"start\" font-family=\"Noto Sans JP\" font-size=\"24\" id=\"svg_6\" y=\"125.40721\" x=\"0\" stroke-width=\"0\" stroke=\"#000\" fill=\"#000000\">Stage A:</text>\n  </g>\n  <g id=\"svg_12\">\n   <text xml:space=\"preserve\" text-anchor=\"start\" font-family=\"Noto Sans JP\" font-size=\"18\" id=\"svg_8\" y=\"310.14523\" x=\"84.64844\" stroke-width=\"0\" stroke=\"#000\" fill=\"#000000\">Sends the letter to C</text>\n   <text xml:space=\"preserve\" text-anchor=\"start\" font-family=\"Noto Sans JP\" font-size=\"24\" id=\"svg_9\" y=\"261.14523\" x=\"0.00781\" stroke-width=\"0\" stroke=\"#000\" fill=\"#000000\">Stage B:</text>\n   <text xml:space=\"preserve\" text-anchor=\"start\" font-family=\"Noto Sans JP\" font-size=\"18\" id=\"svg_10\" y=\"290.14523\" x=\"49.50781\" stroke-width=\"0\" stroke=\"#000\" fill=\"#000000\">Changes letter to uppercase</text>\n  </g>\n  <g id=\"svg_13\">\n   <text xml:space=\"preserve\" text-anchor=\"start\" font-family=\"Noto Sans JP\" font-size=\"24\" id=\"svg_4\" y=\"403.55693\" x=\"0.00781\" stroke-width=\"0\" stroke=\"#000\" fill=\"#000000\">Stage C:</text>\n   <text xml:space=\"preserve\" text-anchor=\"start\" font-family=\"Noto Sans JP\" font-size=\"18\" id=\"svg_7\" y=\"432.55693\" x=\"74.00781\" stroke-width=\"0\" stroke=\"#000\" fill=\"#000000\">Accumulates the letter</text>\n  </g>\n  <path transform=\"rotate(90 21 466.105)\" stroke=\"#000\" id=\"svg_15\" d=\"m15.25719,477.91521c-1.3535,-0.65682 -1.17593,-1.05455 2.11485,-4.73642c1.66168,-1.85915 3.02123,-3.4343 3.02123,-3.50034c0,-0.06603 -4.58847,-0.12005 -10.19663,-0.12005l-10.19663,0l0,-3.482l0,-3.482l10.27745,0c7.92449,0 10.18898,-0.1049 9.89108,-0.45816c-0.2125,-0.25199 -1.66205,-1.92413 -3.22123,-3.71587c-2.93907,-3.37747 -2.93815,-4.28322 0.00454,-4.56397c1.46447,-0.13972 24.26449,10.59523 25.04817,11.79346c-7.59449,4.27831 -16.67247,8.75661 -25.03478,12.70519c-0.44093,0 -1.20953,-0.19792 -1.70804,-0.43983l0,0z\" fill=\"none\"/>\n  <path transform=\"rotate(90 21.0005 68.105)\" stroke=\"#000\" id=\"svg_16\" d=\"m15.25719,79.91521c-1.3535,-0.65681 -1.17592,-1.05455 2.11485,-4.73641c1.66168,-1.85916 3.02122,-3.43431 3.02122,-3.50034c0,-0.06603 -4.58847,-0.12006 -10.19663,-0.12006l-10.19663,0l0,-3.482l0,-3.482l10.27744,0c7.92449,0 10.18898,-0.1049 9.89109,-0.45816c-0.2125,-0.25199 -1.66206,-1.92413 -3.22124,-3.71587c-2.93907,-3.37747 -2.93815,-4.28322 0.00455,-4.56397c1.46446,-0.13972 24.26448,10.59523 25.04817,11.79346c-7.59449,4.27831 -16.67248,8.7566 -25.03478,12.70519c-0.44093,0 -1.20953,-0.19793 -1.70804,-0.43984l0,0z\" fill=\"none\"/>\n  <path transform=\"rotate(90 21.0005 170.105)\" stroke=\"#000\" id=\"svg_17\" d=\"m15.25719,181.91521c-1.3535,-0.65681 -1.17592,-1.05455 2.11485,-4.73641c1.66168,-1.85916 3.02122,-3.43431 3.02122,-3.50034c0,-0.06603 -4.58847,-0.12006 -10.19663,-0.12006l-10.19663,0l0,-3.482l0,-3.482l10.27744,0c7.92449,0 10.18898,-0.1049 9.89109,-0.45816c-0.2125,-0.25199 -1.66206,-1.92413 -3.22124,-3.71587c-2.93907,-3.37747 -2.93815,-4.28322 0.00455,-4.56397c1.46446,-0.13972 24.26448,10.59523 25.04817,11.79346c-7.59449,4.27831 -16.67248,8.7566 -25.03478,12.70519c-0.44093,0 -1.20953,-0.19793 -1.70804,-0.43984l0,0z\" fill=\"none\"/>\n  <path transform=\"rotate(90 21.0005 337.105)\" stroke=\"#000\" id=\"svg_18\" d=\"m15.25719,348.91521c-1.3535,-0.65681 -1.17592,-1.05455 2.11485,-4.73641c1.66168,-1.85916 3.02122,-3.43431 3.02122,-3.50034c0,-0.06603 -4.58847,-0.12006 -10.19663,-0.12006l-10.19663,0l0,-3.482l0,-3.482l10.27744,0c7.92449,0 10.18898,-0.1049 9.89109,-0.45816c-0.2125,-0.25199 -1.66206,-1.92413 -3.22124,-3.71587c-2.93907,-3.37747 -2.93815,-4.28322 0.00455,-4.56397c1.46446,-0.13972 24.26448,10.59523 25.04817,11.79346c-7.59449,4.27831 -16.67248,8.7566 -25.03478,12.70519c-0.44093,0 -1.20953,-0.19793 -1.70804,-0.43984l0,0z\" fill=\"none\"/>\n </g>\n</svg>"
     },
     "metadata": {},
     "execution_count": 1
    }
   ],
   "source": [
    "from IPython.core.display import SVG\n",
    "SVG(filename='flow.svg')"
   ]
  },
  {
   "cell_type": "code",
   "execution_count": 2,
   "id": "700bcd35",
   "metadata": {},
   "outputs": [
    {
     "output_type": "stream",
     "name": "stdout",
     "text": [
      "converting to upper case: hello world\nA, sending h\nA, sending e\nA, sending l\nA, sending l\nA, sending o\nA, sending  \nA, sending w\nA, sending o\nA, sending r\nA, sending l\nA, sending d\nB, processed H\nB, processed E\nB, processed L\nB, processed L\nB, processed O\nB, processed  \nB, processed W\nB, processed O\nB, processed R\nB, processed L\nB, processed D\nC, h changed to H\nC, e changed to E\nC, l changed to L\nC, l changed to L\nC, o changed to O\nC,   changed to  \nC, w changed to W\nC, o changed to O\nC, r changed to R\nC, l changed to L\nC, d changed to D\nstep A done\nqueue A - B done\nqueue B - C done\nmain complete, result: HELLO WORLD\nprogram complete\n"
     ]
    }
   ],
   "source": [
    "\"\"\"\n",
    "Example program for basic asyncio pipeline.\n",
    "\n",
    "Program takes string as input and converts it to upper case.\n",
    "\n",
    "For sake of simplicity missing some \"features\", most notably error handling is absent.\n",
    "Errors will silenty prevent program completion in many cases.\n",
    "\"\"\"\n",
    "import asyncio\n",
    "from dataclasses import dataclass\n",
    "\n",
    "@dataclass()\n",
    "class DataAB:\n",
    "    letter: str\n",
    "\n",
    "\n",
    "@dataclass()\n",
    "class DataBC:\n",
    "    letter: str\n",
    "    upper: str\n",
    "\n",
    "\n",
    "result = \"\"\n",
    "\n",
    "\n",
    "async def do_stepA(queue_out, input):\n",
    "    for letter in input:\n",
    "        print(f'A, sending {letter}')\n",
    "        await queue_out.put(DataAB(letter))\n",
    "\n",
    "\n",
    "async def do_stepB(queue_in, queue_out):\n",
    "    while True:\n",
    "        data: DataAB = await queue_in.get()\n",
    "\n",
    "        # perform actual step\n",
    "        letter = data.letter\n",
    "        upper = letter.upper()\n",
    "        print(f'B, processed {upper}')\n",
    "\n",
    "        await queue_out.put(DataBC(letter, upper))\n",
    "\n",
    "        queue_in.task_done()\n",
    "\n",
    "\n",
    "async def do_stepC(queue_in):\n",
    "    global result\n",
    "    while True:\n",
    "        data: DataBC = await queue_in.get()\n",
    "\n",
    "        # perform actual step\n",
    "        letter = data.letter\n",
    "        upper = data.upper\n",
    "        print(f'C, {letter} changed to {upper}')\n",
    "\n",
    "        result += upper\n",
    "\n",
    "        queue_in.task_done()\n",
    "\n",
    "\n",
    "async def main():\n",
    "    pipeline_in = 'hello world'\n",
    "\n",
    "    print(f'converting to upper case: {pipeline_in}')\n",
    "\n",
    "    queue_AB = asyncio.Queue()\n",
    "    queue_BC = asyncio.Queue()\n",
    "\n",
    "    stepA = asyncio.create_task(do_stepA(queue_AB, pipeline_in))\n",
    "    stepB = asyncio.create_task(do_stepB(queue_AB, queue_BC))\n",
    "    stepC = asyncio.create_task(do_stepC(queue_BC))\n",
    "\n",
    "    await stepA\n",
    "    print('step A done')\n",
    "\n",
    "    await queue_AB.join()\n",
    "    print('queue A - B done')\n",
    "    stepB.cancel()  # no more date is going to show up at B\n",
    "\n",
    "    await queue_BC.join()\n",
    "    print('queue B - C done')\n",
    "    stepC.cancel()  # no more date is going to show up at C\n",
    "\n",
    "    print(f'main complete, result: {result}')\n",
    "\n",
    "await main()\n",
    "\n",
    "print('program complete')"
   ]
  },
  {
   "cell_type": "code",
   "execution_count": null,
   "id": "e9442e34",
   "metadata": {},
   "outputs": [],
   "source": []
  }
 ],
 "metadata": {
  "kernelspec": {
   "name": "python3",
   "display_name": "Python 3.9.2 64-bit"
  },
  "language_info": {
   "codemirror_mode": {
    "name": "ipython",
    "version": 3
   },
   "file_extension": ".py",
   "mimetype": "text/x-python",
   "name": "python",
   "nbconvert_exporter": "python",
   "pygments_lexer": "ipython3",
   "version": "3.9.2"
  },
  "interpreter": {
   "hash": "c900facb41d0d16821e6b2c5eee60b5cc8f4874b1b71d8c1ce7cf42896527b47"
  }
 },
 "nbformat": 4,
 "nbformat_minor": 5
}