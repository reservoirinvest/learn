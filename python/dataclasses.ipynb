{
 "cells": [
  {
   "cell_type": "markdown",
   "metadata": {},
   "source": [
    "# Contents\n",
    "1. Introduction\n",
    "2. Setup\n",
    "3. Using `dataclass`\n",
    "4. Using `make_dataclass` with fields\n",
    "5. Checkpoint and retrieval\n"
   ]
  },
  {
   "cell_type": "markdown",
   "metadata": {},
   "source": [
    "# 1. Introduction\n",
    "Dataclasses provide decorator and functions for automatically adding generated special methods such as `__init__()` and `__repr__()`"
   ]
  },
  {
   "cell_type": "markdown",
   "metadata": {},
   "source": [
    "# 2. Setup"
   ]
  },
  {
   "cell_type": "code",
   "execution_count": 1,
   "metadata": {},
   "outputs": [],
   "source": [
    "# Specific to Jupyter. Will be ignored in IDE / command-lines\n",
    "import IPython as ipy\n",
    "from ib_insync import util\n",
    "import pandas as pd\n",
    "if ipy.get_ipython().__class__.__name__ == 'ZMQInteractiveShell':\n",
    "    import nest_asyncio\n",
    "    nest_asyncio.apply()\n",
    "    util.startLoop()\n",
    "    pd.options.display.max_columns = None\n",
    "    pd.options.display.float_format = '{:,.2f}'.format # set float precision with comma"
   ]
  },
  {
   "cell_type": "markdown",
   "metadata": {},
   "source": [
    "# 3. Using `dataclass`"
   ]
  },
  {
   "cell_type": "markdown",
   "metadata": {},
   "source": [
    "## Generic dataclass"
   ]
  },
  {
   "cell_type": "code",
   "execution_count": 2,
   "metadata": {},
   "outputs": [],
   "source": [
    "from dataclasses import dataclass\n",
    "\n",
    "@dataclass\n",
    "class InventoryItem:\n",
    "    \"\"\"Class for keeping track of an item in inventory.\"\"\"\n",
    "    name: str\n",
    "    unit_price: float\n",
    "    quantity_on_hand: int = 0\n",
    "\n",
    "    def total_cost(self) -> float:\n",
    "        return self.unit_price * self.quantity_on_hand"
   ]
  },
  {
   "cell_type": "code",
   "execution_count": 3,
   "metadata": {},
   "outputs": [
    {
     "data": {
      "text/plain": [
       "InventoryItem(name='First', unit_price=2.0, quantity_on_hand=5)"
      ]
     },
     "execution_count": 3,
     "metadata": {},
     "output_type": "execute_result"
    }
   ],
   "source": [
    "first_item = InventoryItem(name='First', unit_price=2.0, quantity_on_hand=5)\n",
    "first_item"
   ]
  },
  {
   "cell_type": "markdown",
   "metadata": {},
   "source": [
    "## Building objects from IBKR pickles"
   ]
  },
  {
   "cell_type": "code",
   "execution_count": 13,
   "metadata": {},
   "outputs": [],
   "source": [
    "# PRIMARY IMPORTS\n",
    "from pathlib import Path\n",
    "import sys\n",
    "import logging \n",
    "from types import SimpleNamespace\n",
    "\n",
    "import yaml\n",
    "import json \n"
   ]
  },
  {
   "cell_type": "code",
   "execution_count": 14,
   "metadata": {},
   "outputs": [],
   "source": [
    "# SETUPS\n",
    "\n",
    "# .choose market and connection\n",
    "MARKET = 'snp'\n",
    "CONNECTION = 'live'\n",
    "MKT_CONN = MARKET.lower() + '_' + CONNECTION.lower()\n",
    "\n",
    "# .set the paths\n",
    "root_path = Path.cwd().parent.parent.joinpath('experiments')\n",
    "log_path = root_path.joinpath('log', MKT_CONN + '.log')\n",
    "\n",
    "# .set the notebook for imports\n",
    "if str(root_path) not in sys.path:\n",
    "    print(f'Root path not there in sys. Adding {str(root_path)}')\n",
    "    sys.path.append(str(root_path))\n",
    "\n",
    "# .objectify var.yml\n",
    "var_file = root_path.joinpath('var.yml')\n",
    "with open(var_file, \"rb\") as f:\n",
    "    var_dict = yaml.safe_load(f)\n",
    "\n",
    "vars = json.loads(json.dumps(var_dict), object_hook=lambda d: SimpleNamespace(**d))\n",
    "\n",
    "# .set logs\n",
    "util.logToFile(path=log_path, level=logging.WARNING)\n",
    "with open(log_path, 'w'):\n",
    "    pass"
   ]
  },
  {
   "cell_type": "code",
   "execution_count": 20,
   "metadata": {},
   "outputs": [],
   "source": [
    "# Load the base files\n",
    "\n",
    "data_path = root_path.joinpath('data', MARKET.lower())\n",
    "\n",
    "\"\"\" \n",
    "# .code automates making df from all pickles.\n",
    "#   however pylance doesn't recognize the saved variables\n",
    "\n",
    "from os import listdir\n",
    "import numpy as np \n",
    "fs = listdir(data_path)\n",
    "\n",
    "files = [f for f in fs if f[-4:] == '.pkl']\n",
    "for f in files:\n",
    "    exec(f\"{f.split('.')[0]} = pd.read_pickle(data_path.joinpath(f))\")\n",
    "np.sort(np.array(files)) \"\"\"\n",
    "\n",
    "df_symlots = pd.read_pickle(data_path.joinpath('df_symlots.pkl'))\n",
    "df_ohlcs = pd.read_pickle(data_path.joinpath('df_ohlcs.pkl'))\n",
    "df_chains = pd.read_pickle(data_path.joinpath('df_chains.pkl'))\n",
    "df_unds = pd.read_pickle(data_path.joinpath('df_unds.pkl'))"
   ]
  },
  {
   "cell_type": "code",
   "execution_count": 21,
   "metadata": {},
   "outputs": [],
   "source": [
    "# ** IMPORTS\n",
    "from dataclasses import dataclass, make_dataclass, field\n",
    "import pandas as pd\n",
    "import numpy as np\n",
    "from datetime import datetime, timezone"
   ]
  },
  {
   "cell_type": "markdown",
   "metadata": {},
   "source": [
    "### using @dataclass"
   ]
  },
  {
   "cell_type": "code",
   "execution_count": 22,
   "metadata": {},
   "outputs": [],
   "source": [
    "# Make objects using dataclass\n",
    "@dataclass\n",
    "class Scrips:\n",
    "    symlots: pd.DataFrame = df_symlots\n",
    "    ohlcs: pd.DataFrame = df_ohlcs\n",
    "    chains: pd.DataFrame = df_chains\n",
    "    unds: pd.DataFrame = df_unds"
   ]
  },
  {
   "cell_type": "code",
   "execution_count": 27,
   "metadata": {},
   "outputs": [
    {
     "data": {
      "text/html": [
       "<div>\n",
       "<style scoped>\n",
       "    .dataframe tbody tr th:only-of-type {\n",
       "        vertical-align: middle;\n",
       "    }\n",
       "\n",
       "    .dataframe tbody tr th {\n",
       "        vertical-align: top;\n",
       "    }\n",
       "\n",
       "    .dataframe thead th {\n",
       "        text-align: right;\n",
       "    }\n",
       "</style>\n",
       "<table border=\"1\" class=\"dataframe\">\n",
       "  <thead>\n",
       "    <tr style=\"text-align: right;\">\n",
       "      <th></th>\n",
       "      <th>symbol</th>\n",
       "      <th>secType</th>\n",
       "      <th>expiryM</th>\n",
       "      <th>lot</th>\n",
       "      <th>exchange</th>\n",
       "      <th>currency</th>\n",
       "      <th>contract</th>\n",
       "    </tr>\n",
       "  </thead>\n",
       "  <tbody>\n",
       "    <tr>\n",
       "      <th>0</th>\n",
       "      <td>MMM</td>\n",
       "      <td>STK</td>\n",
       "      <td>None</td>\n",
       "      <td>100</td>\n",
       "      <td>SMART</td>\n",
       "      <td>USD</td>\n",
       "      <td>Contract(secType='STK', conId=9720, symbol='MM...</td>\n",
       "    </tr>\n",
       "    <tr>\n",
       "      <th>1</th>\n",
       "      <td>ABT</td>\n",
       "      <td>STK</td>\n",
       "      <td>None</td>\n",
       "      <td>100</td>\n",
       "      <td>SMART</td>\n",
       "      <td>USD</td>\n",
       "      <td>Contract(secType='STK', conId=4065, symbol='AB...</td>\n",
       "    </tr>\n",
       "    <tr>\n",
       "      <th>2</th>\n",
       "      <td>ABBV</td>\n",
       "      <td>STK</td>\n",
       "      <td>None</td>\n",
       "      <td>100</td>\n",
       "      <td>SMART</td>\n",
       "      <td>USD</td>\n",
       "      <td>Contract(secType='STK', conId=118089500, symbo...</td>\n",
       "    </tr>\n",
       "    <tr>\n",
       "      <th>3</th>\n",
       "      <td>ACN</td>\n",
       "      <td>STK</td>\n",
       "      <td>None</td>\n",
       "      <td>100</td>\n",
       "      <td>SMART</td>\n",
       "      <td>USD</td>\n",
       "      <td>Contract(secType='STK', conId=67889930, symbol...</td>\n",
       "    </tr>\n",
       "    <tr>\n",
       "      <th>4</th>\n",
       "      <td>ATVI</td>\n",
       "      <td>STK</td>\n",
       "      <td>None</td>\n",
       "      <td>100</td>\n",
       "      <td>SMART</td>\n",
       "      <td>USD</td>\n",
       "      <td>Contract(secType='STK', conId=52424577, symbol...</td>\n",
       "    </tr>\n",
       "  </tbody>\n",
       "</table>\n",
       "</div>"
      ],
      "text/plain": [
       "  symbol secType expiryM  lot exchange currency  \\\n",
       "0    MMM     STK    None  100    SMART      USD   \n",
       "1    ABT     STK    None  100    SMART      USD   \n",
       "2   ABBV     STK    None  100    SMART      USD   \n",
       "3    ACN     STK    None  100    SMART      USD   \n",
       "4   ATVI     STK    None  100    SMART      USD   \n",
       "\n",
       "                                            contract  \n",
       "0  Contract(secType='STK', conId=9720, symbol='MM...  \n",
       "1  Contract(secType='STK', conId=4065, symbol='AB...  \n",
       "2  Contract(secType='STK', conId=118089500, symbo...  \n",
       "3  Contract(secType='STK', conId=67889930, symbol...  \n",
       "4  Contract(secType='STK', conId=52424577, symbol...  "
      ]
     },
     "execution_count": 27,
     "metadata": {},
     "output_type": "execute_result"
    }
   ],
   "source": [
    "scrips = Scrips()\n",
    "scrips.symlots.head()"
   ]
  },
  {
   "cell_type": "markdown",
   "metadata": {},
   "source": [
    "# 4. Using `make_dataclass` with fields"
   ]
  },
  {
   "cell_type": "code",
   "execution_count": 39,
   "metadata": {},
   "outputs": [],
   "source": [
    "fields = [('float_val', float, field(default=np.nan)),\n",
    "          ('df', pd.DataFrame, field(default_factory=pd.DataFrame)),\n",
    "          ('int_val', int, field(default_factory=int)),\n",
    "          ('time_val', datetime, field(default=datetime.now(timezone.utc)))]\n",
    "\n",
    "Aclass = make_dataclass('Aclass', fields)\n",
    "\n"
   ]
  },
  {
   "cell_type": "code",
   "execution_count": 40,
   "metadata": {},
   "outputs": [
    {
     "data": {
      "text/plain": [
       "datetime.datetime(2021, 12, 20, 0, 50, 28, 20475, tzinfo=datetime.timezone.utc)"
      ]
     },
     "execution_count": 40,
     "metadata": {},
     "output_type": "execute_result"
    }
   ],
   "source": [
    "an_instance=Aclass()\n",
    "an_instance.time_val"
   ]
  },
  {
   "cell_type": "markdown",
   "metadata": {},
   "source": [
    "# 5. `dill` checkpoints"
   ]
  },
  {
   "cell_type": "code",
   "execution_count": 50,
   "metadata": {},
   "outputs": [],
   "source": [
    "temp_path = root_path.parent.joinpath('learn', 'temp')\n",
    "temp_file = temp_path.joinpath('dill_temp.dump')"
   ]
  },
  {
   "cell_type": "code",
   "execution_count": 51,
   "metadata": {},
   "outputs": [],
   "source": [
    "import dill\n",
    "dill.dump(scrips, open(temp_file, 'wb'))"
   ]
  },
  {
   "cell_type": "code",
   "execution_count": 54,
   "metadata": {},
   "outputs": [
    {
     "data": {
      "text/html": [
       "<div>\n",
       "<style scoped>\n",
       "    .dataframe tbody tr th:only-of-type {\n",
       "        vertical-align: middle;\n",
       "    }\n",
       "\n",
       "    .dataframe tbody tr th {\n",
       "        vertical-align: top;\n",
       "    }\n",
       "\n",
       "    .dataframe thead th {\n",
       "        text-align: right;\n",
       "    }\n",
       "</style>\n",
       "<table border=\"1\" class=\"dataframe\">\n",
       "  <thead>\n",
       "    <tr style=\"text-align: right;\">\n",
       "      <th></th>\n",
       "      <th>symbol</th>\n",
       "      <th>secType</th>\n",
       "      <th>expiryM</th>\n",
       "      <th>lot</th>\n",
       "      <th>exchange</th>\n",
       "      <th>currency</th>\n",
       "      <th>contract</th>\n",
       "    </tr>\n",
       "  </thead>\n",
       "  <tbody>\n",
       "    <tr>\n",
       "      <th>0</th>\n",
       "      <td>MMM</td>\n",
       "      <td>STK</td>\n",
       "      <td>None</td>\n",
       "      <td>100</td>\n",
       "      <td>SMART</td>\n",
       "      <td>USD</td>\n",
       "      <td>Contract(secType='STK', conId=9720, symbol='MM...</td>\n",
       "    </tr>\n",
       "    <tr>\n",
       "      <th>1</th>\n",
       "      <td>ABT</td>\n",
       "      <td>STK</td>\n",
       "      <td>None</td>\n",
       "      <td>100</td>\n",
       "      <td>SMART</td>\n",
       "      <td>USD</td>\n",
       "      <td>Contract(secType='STK', conId=4065, symbol='AB...</td>\n",
       "    </tr>\n",
       "    <tr>\n",
       "      <th>2</th>\n",
       "      <td>ABBV</td>\n",
       "      <td>STK</td>\n",
       "      <td>None</td>\n",
       "      <td>100</td>\n",
       "      <td>SMART</td>\n",
       "      <td>USD</td>\n",
       "      <td>Contract(secType='STK', conId=118089500, symbo...</td>\n",
       "    </tr>\n",
       "    <tr>\n",
       "      <th>3</th>\n",
       "      <td>ACN</td>\n",
       "      <td>STK</td>\n",
       "      <td>None</td>\n",
       "      <td>100</td>\n",
       "      <td>SMART</td>\n",
       "      <td>USD</td>\n",
       "      <td>Contract(secType='STK', conId=67889930, symbol...</td>\n",
       "    </tr>\n",
       "    <tr>\n",
       "      <th>4</th>\n",
       "      <td>ATVI</td>\n",
       "      <td>STK</td>\n",
       "      <td>None</td>\n",
       "      <td>100</td>\n",
       "      <td>SMART</td>\n",
       "      <td>USD</td>\n",
       "      <td>Contract(secType='STK', conId=52424577, symbol...</td>\n",
       "    </tr>\n",
       "  </tbody>\n",
       "</table>\n",
       "</div>"
      ],
      "text/plain": [
       "  symbol secType expiryM  lot exchange currency  \\\n",
       "0    MMM     STK    None  100    SMART      USD   \n",
       "1    ABT     STK    None  100    SMART      USD   \n",
       "2   ABBV     STK    None  100    SMART      USD   \n",
       "3    ACN     STK    None  100    SMART      USD   \n",
       "4   ATVI     STK    None  100    SMART      USD   \n",
       "\n",
       "                                            contract  \n",
       "0  Contract(secType='STK', conId=9720, symbol='MM...  \n",
       "1  Contract(secType='STK', conId=4065, symbol='AB...  \n",
       "2  Contract(secType='STK', conId=118089500, symbo...  \n",
       "3  Contract(secType='STK', conId=67889930, symbol...  \n",
       "4  Contract(secType='STK', conId=52424577, symbol...  "
      ]
     },
     "execution_count": 54,
     "metadata": {},
     "output_type": "execute_result"
    }
   ],
   "source": [
    "# Retrieve the data\n",
    "loaded_scrip = dill.load(open(temp_file, 'rb'))\n",
    "loaded_scrip.symlots.head()"
   ]
  },
  {
   "cell_type": "code",
   "execution_count": null,
   "metadata": {},
   "outputs": [],
   "source": []
  }
 ],
 "metadata": {
  "kernelspec": {
   "display_name": "Python 3",
   "language": "python",
   "name": "python3"
  },
  "language_info": {
   "codemirror_mode": {
    "name": "ipython",
    "version": 3
   },
   "file_extension": ".py",
   "mimetype": "text/x-python",
   "name": "python",
   "nbconvert_exporter": "python",
   "pygments_lexer": "ipython3",
   "version": "3.10.4"
  },
  "vscode": {
   "interpreter": {
    "hash": "aaea9d586457455d79e457f9f696b3b3be3cdbbec0b491f4d9e237cbea64165f"
   }
  }
 },
 "nbformat": 4,
 "nbformat_minor": 4
}
