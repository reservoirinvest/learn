{
 "cells": [
  {
   "cell_type": "markdown",
   "metadata": {},
   "source": [
    "# Python @property\n",
    "**Ref**: [Programiz](https://www.programiz.com/python-programming/property)\n",
    "\n",
    "Python has a great concept called property which makes the life of an object oriented program much simpler. Let us build on an intuition as to why this is needed in the first place.\n",
    "\n",
    "## Example\n",
    "\n",
    "Let us assume that you decide to make a class that could store the temperature in degree Celsius. It would also implement a method to convert the temperature into degree Fahrenheit. One way of doing this is as follows:"
   ]
  },
  {
   "cell_type": "code",
   "execution_count": null,
   "metadata": {},
   "outputs": [],
   "source": [
    "class Celcius():\n",
    "\n",
    "    def __init__(self, temperature=0):\n",
    "        self.temperature = temperature\n",
    "    \n",
    "    def to_fahrenheit(self):\n",
    "        return (self.temperature * 1.8) + 32\n"
   ]
  },
  {
   "cell_type": "markdown",
   "metadata": {},
   "source": [
    "We could make objects out of this class and manipulate the attribute `temperature` as we wish..."
   ]
  },
  {
   "cell_type": "code",
   "execution_count": null,
   "metadata": {},
   "outputs": [],
   "source": [
    "# create a new object\n",
    "man = Celcius()\n",
    "\n",
    "# set the temperature\n",
    "man.temperature = 37\n",
    "\n",
    "# get the temperature\n",
    "man.temperature"
   ]
  },
  {
   "cell_type": "code",
   "execution_count": null,
   "metadata": {},
   "outputs": [],
   "source": [
    "# get degrees Fahrenheit\n",
    "man.to_fahrenheit()"
   ]
  },
  {
   "cell_type": "markdown",
   "metadata": {},
   "source": [
    "The extra decimal is due to floating point arithmetic error.\n",
    "\n",
    "Whenever we assign or retrieve any attribute object like `temperature`, Python searches it in the object's `__dict__` dictionary."
   ]
  },
  {
   "cell_type": "code",
   "execution_count": null,
   "metadata": {},
   "outputs": [],
   "source": [
    "man.__dict__"
   ]
  },
  {
   "cell_type": "markdown",
   "metadata": {},
   "source": [
    "Therefore, `man.temperature` internally becomes man.__dict['temperature'].\n",
    "\n",
    "Now let us assume that our class got popular and is used in many programs. One day a client suggested that temperatures cannot go below -273.15 degC (absolute zero) and asked us to implement this value constraint. So, we decide to release version 1.01 (an upgrade) of our class\n",
    "\n",
    "## Using Getters and Setters\n",
    "\n",
    "An obvious solution to the above constraint will be to hide the attribute `temperature` (make it private) and define new getter and setter interfaces to manipulate. This can be done as follows:"
   ]
  },
  {
   "cell_type": "code",
   "execution_count": null,
   "metadata": {},
   "outputs": [],
   "source": [
    "class Celcius():\n",
    "    def __init__(self, temperature = 0):\n",
    "        self.set_temperature(temperature)\n",
    "\n",
    "    def to_fahrenheit(temperature):\n",
    "        return (self.get_temperature() * 1.8) + 32\n",
    "\n",
    "    # new update\n",
    "    def get_temperature(self):\n",
    "        return self._temperature\n",
    "\n",
    "    def set_temperature(self, value):\n",
    "        if value < -273.15:\n",
    "            raise ValueError(\"Temperature below -273.15 is not possible\")\n",
    "        self._temperature = value"
   ]
  },
  {
   "cell_type": "markdown",
   "metadata": {},
   "source": [
    "We can see above that the new methods `get_temperature()` and `set_temperature()` were defined and furthermore, `temperature` was replaced with `_temperature`. An underscore (_) at the beginning is used to denote private variables in Python.\n",
    "\n",
    "Let us test this:"
   ]
  },
  {
   "cell_type": "code",
   "execution_count": null,
   "metadata": {},
   "outputs": [],
   "source": [
    "c = Celcius(-277)\n",
    "c.temperature"
   ]
  },
  {
   "cell_type": "code",
   "execution_count": null,
   "metadata": {},
   "outputs": [],
   "source": [
    "c = Celcius(37)\n",
    "c.get_temperature()"
   ]
  },
  {
   "cell_type": "code",
   "execution_count": null,
   "metadata": {},
   "outputs": [],
   "source": [
    "c.set_temperature(10)\n",
    "c.get_temperature()"
   ]
  },
  {
   "cell_type": "code",
   "execution_count": null,
   "metadata": {},
   "outputs": [],
   "source": [
    "c.set_temperature(-300)"
   ]
  },
  {
   "cell_type": "markdown",
   "metadata": {},
   "source": [
    "This update successfully implemented the new restriction. We are no longer allowed to set temperature below -273.15.as_integer_ratio\n",
    "\n",
    "It should be noted that there are no 'private' variables in Python. They are simply norms to be followed. The language itself does not apply any restrictions"
   ]
  },
  {
   "cell_type": "code",
   "execution_count": null,
   "metadata": {},
   "outputs": [],
   "source": [
    "c = Celcius()\n",
    "c._temperature = -300 # note the underscore before temperature!\n",
    "c.get_temperature()"
   ]
  },
  {
   "cell_type": "markdown",
   "metadata": {},
   "source": [
    "But that is not of great concern. However, it is a big problem for all the clients who have implemented previous class in their programs. They have to modify their code from `obj.temperature` to `obj.get_temperature()` and all assignments like `obj.temperature = val` to `obj.set_temperature(val)`. This refactoring can cause headaches to clients with hundreds of thousands of lines of codes, as it is not backward compatible.\n",
    "\n",
    "This is where **`property`** comes to the rescue.\n",
    "\n",
    "## The Power of @property\n",
    "The pythonic way to deal with the above problem is to use `property`. Here is how this could be achieved."
   ]
  },
  {
   "cell_type": "code",
   "execution_count": null,
   "metadata": {},
   "outputs": [],
   "source": [
    "class Celcius:\n",
    "    def __init__(self, temperature=0):\n",
    "        self.temperature = temperature\n",
    "    \n",
    "    def to_fahrenheit(self):\n",
    "        return (self.temperature * 1.8) + 32\n",
    "\n",
    "    def get_temperature(self):\n",
    "        print(\"Getting value\")\n",
    "        return self._temperature\n",
    "\n",
    "    def set_temperature(self, value):\n",
    "        if value < -273.15:\n",
    "            raise ValueError(\"Temperature below -273.15 is not possible\")\n",
    "        print(\"Setting value\")\n",
    "        self._temperature = value\n",
    "\n",
    "    temperature = property(get_temperature, set_temperature)"
   ]
  },
  {
   "cell_type": "code",
   "execution_count": null,
   "metadata": {},
   "outputs": [],
   "source": [
    "c = Celcius()"
   ]
  },
  {
   "cell_type": "markdown",
   "metadata": {},
   "source": [
    "We added a `print()` function inside `get_temperature()` and `set_temperature()` to clearly observe that they are being executed.\n",
    "\n",
    "The last line of code, mades a property object `temperature`. Simply put, property attaches some code (`get_temperature` and `set_temperature`) to the member attribute that accesses (`temperature`)\n",
    "\n",
    "Any code that retreives the value of `temperature` will automatically call `get_temperature()` instead of a dictionary (__dict__) lookup. Similarly, any code that assigns a value to `temperature` will automatically call `set_temperature()`. This is one cool feature of Python.\n",
    "\n",
    "We can see above that the `set_temperature()` was called even when we created an object.\n",
    "\n",
    "> ## Can you guess why?\n",
    "\n",
    "The reason is that when an object is created, `__init__()` method gets called. This method has the line `self.temperature = temperature`. This assignment automatically called `set_temperature()`"
   ]
  },
  {
   "cell_type": "code",
   "execution_count": null,
   "metadata": {},
   "outputs": [],
   "source": [
    "c.temperature"
   ]
  },
  {
   "cell_type": "markdown",
   "metadata": {},
   "source": [
    "Similarly, any access like `c.temperature` automatically calls `get_temperature()`. This is what property does. Here are a few more examples. "
   ]
  },
  {
   "cell_type": "code",
   "execution_count": null,
   "metadata": {},
   "outputs": [],
   "source": [
    "c.temperature = 37"
   ]
  },
  {
   "cell_type": "code",
   "execution_count": null,
   "metadata": {},
   "outputs": [],
   "source": [
    "c.to_fahrenheit()"
   ]
  },
  {
   "cell_type": "markdown",
   "metadata": {},
   "source": [
    "By using property, we can see that, we modified our class and implemented the value constraint without any change required to the client code. Thus our implementation was backward compatible and everybody is happy.\n",
    "\n",
    "Finally note that, the actual temperature value is stored in the private variable `_temperature` (with an underscore). The attribute `temperature` (without underscore) is a property object which provides interface to this private variable."
   ]
  },
  {
   "cell_type": "markdown",
   "metadata": {},
   "source": [
    "## Digging deeper into Property\n",
    "\n",
    "In Python, `property()` is a built-in function that creates and returns a property object. The signature of this function is:\n",
    "\n",
    "property(fget=None, fset=None, fdel=None, doc=None) where, `fget` is function to get value of the attribute, `fset` is function to set value of the attribute, `fdel` is function to delete the attribute and `doc` is a string (like a comment). These function arguments are optional. So, a property object can simply be created as follows:"
   ]
  },
  {
   "cell_type": "code",
   "execution_count": null,
   "metadata": {},
   "outputs": [],
   "source": [
    "property()"
   ]
  },
  {
   "cell_type": "markdown",
   "metadata": {},
   "source": [
    "A property object has three methods, `getter()`, `setter()` and `deleter()` to specify `fget`, `fset` and `fdel` at a later point. This means the line\n",
    "\n",
    "> temperature = property(get_temperature, set_temperature)\n",
    "\n",
    "could have been broken down as:"
   ]
  },
  {
   "cell_type": "code",
   "execution_count": null,
   "metadata": {},
   "outputs": [],
   "source": [
    "# make empty property\n",
    "temperature = property()\n",
    "# assign fget\n",
    "temperature = temperature.getter(get_temperature)\n",
    "# assign fset\n",
    "temperature = temperature.setter(set_temperature)"
   ]
  },
  {
   "cell_type": "markdown",
   "metadata": {},
   "source": [
    "These two pieces of code are equivalent.\n",
    "\n",
    "Programmers familiar with decorators in Python can recognize that the above construct can be implemented as decorators.\n",
    "\n",
    "We can further go on and not define names `get_temperature` and `set_temperature` as they are unnecessary and poollute the class namespace. For this, we reuse the name `temperature` while defining our getter and setter functions. This is how it can be done."
   ]
  },
  {
   "cell_type": "code",
   "execution_count": 20,
   "metadata": {},
   "outputs": [],
   "source": [
    "class Celsius:\n",
    "    def __init__(self, temperature=0):\n",
    "        self._temperature = temperature\n",
    "        \n",
    "    def to_fahrenheit(self):\n",
    "        return (self.temperature * 1.8) + 32\n",
    "    \n",
    "    @property\n",
    "    def temperature(self):\n",
    "        print(\"Getting values\")\n",
    "        return self._temperature\n",
    "    \n",
    "    @temperature.setter\n",
    "    def temperature(self, value):\n",
    "        if value < -273:\n",
    "            raise ValueError(\"Temperature below -273 is not possible\")\n",
    "        print(\"Setting value\")\n",
    "        self._temperature = value"
   ]
  },
  {
   "cell_type": "code",
   "execution_count": 21,
   "metadata": {},
   "outputs": [
    {
     "name": "stdout",
     "output_type": "stream",
     "text": [
      "Setting value\n",
      "Getting values\n",
      "232\n"
     ]
    }
   ],
   "source": [
    "c = Celsius()\n",
    "c.temperature = 232\n",
    "print(c.temperature)"
   ]
  },
  {
   "cell_type": "markdown",
   "metadata": {},
   "source": [
    "The above implementation is both simple and recommended to make properties. You will most likely encounter these types of constructs when looking for property in Python"
   ]
  },
  {
   "cell_type": "code",
   "execution_count": null,
   "metadata": {},
   "outputs": [],
   "source": []
  }
 ],
 "metadata": {
  "kernelspec": {
   "display_name": "Python 3.8.1 32-bit",
   "language": "python",
   "name": "python38132bit2115ca79f6634adbad3a74c57c1d7c04"
  },
  "language_info": {
   "codemirror_mode": {
    "name": "ipython",
    "version": 3
   },
   "file_extension": ".py",
   "mimetype": "text/x-python",
   "name": "python",
   "nbconvert_exporter": "python",
   "pygments_lexer": "ipython3",
   "version": "3.8.1"
  }
 },
 "nbformat": 4,
 "nbformat_minor": 2
}
