{
 "cells": [
  {
   "cell_type": "code",
   "execution_count": 1,
   "metadata": {},
   "outputs": [
    {
     "name": "stdout",
     "output_type": "stream",
     "text": [
      "{\n",
      "    \"nse\": {\n",
      "        \"blk\": 50,\n",
      "        \"exchange\": \"NSE\",\n",
      "        \"fspath\": \"../data/nse/\",\n",
      "        \"maxdte\": 60,\n",
      "        \"minOptPrice\": 0.15,\n",
      "        \"minRom\": 0.75,\n",
      "        \"mindte\": 3,\n",
      "        \"minexpRom\": 0.55,\n",
      "        \"minstdmult\": 3,\n",
      "        \"nLargest\": 3,\n",
      "        \"nse_assignment_limit\": 1500000,\n",
      "        \"tradingdays\": 252\n",
      "    },\n",
      "    \"snp\": {\n",
      "        \"blk\": 50,\n",
      "        \"exchange\": \"SMART\",\n",
      "        \"fspath\": \"../data/snp/\",\n",
      "        \"maxdte\": 60,\n",
      "        \"minOptPrice\": 0.15,\n",
      "        \"minRom\": 0.75,\n",
      "        \"mindte\": 3,\n",
      "        \"minexpRom\": 0.55,\n",
      "        \"minstdmult\": 3,\n",
      "        \"nLargest\": 3,\n",
      "        \"snp_assignment_limit\": 50000,\n",
      "        \"tradingdays\": 252\n",
      "    }\n",
      "}\n"
     ]
    }
   ],
   "source": [
    "import json\n",
    "variables = \\\n",
    "{'nse':\n",
    "    {'tradingdays': 252,\n",
    "     'blk': 50,\n",
    "     'mindte': 3,\n",
    "     'maxdte': 60,\n",
    "     'minstdmult': 3,\n",
    "     'fspath': '../data/nse/',\n",
    "     'exchange': 'NSE',\n",
    "     'nse_assignment_limit': 1500000,\n",
    "     'nLargest': 3,\n",
    "     'minRom': 0.75,\n",
    "     'minOptPrice': 0.15,\n",
    "     'minexpRom' :0.55},\n",
    "'snp':\n",
    "    {'tradingdays': 252,\n",
    "     'blk': 50,\n",
    "     'mindte': 3,\n",
    "     'maxdte': 60,\n",
    "     'minstdmult': 3,\n",
    "     'fspath': '../data/snp/',\n",
    "     'exchange': 'SMART',\n",
    "     'snp_assignment_limit': 50000,\n",
    "     'nLargest': 3,\n",
    "     'minRom': 0.75,\n",
    "     'minOptPrice': 0.15,\n",
    "     'minexpRom' :0.55}\n",
    "     }\n",
    "\n",
    "jvars=json.dumps(variables, indent=4, sort_keys=True)\n",
    "with open('variables.json', 'w') as fp:\n",
    "    fp.write(jvars)\n",
    "print(jvars)"
   ]
  },
  {
   "cell_type": "code",
   "execution_count": 2,
   "metadata": {},
   "outputs": [
    {
     "data": {
      "text/plain": [
       "{'nse': {'blk': 50,\n",
       "  'exchange': 'NSE',\n",
       "  'fspath': '../data/nse/',\n",
       "  'maxdte': 60,\n",
       "  'minOptPrice': 0.15,\n",
       "  'minRom': 0.75,\n",
       "  'mindte': 3,\n",
       "  'minexpRom': 0.55,\n",
       "  'minstdmult': 3,\n",
       "  'nLargest': 3,\n",
       "  'nse_assignment_limit': 1500000,\n",
       "  'tradingdays': 252},\n",
       " 'snp': {'blk': 50,\n",
       "  'exchange': 'SMART',\n",
       "  'fspath': '../data/snp/',\n",
       "  'maxdte': 60,\n",
       "  'minOptPrice': 0.15,\n",
       "  'minRom': 0.75,\n",
       "  'mindte': 3,\n",
       "  'minexpRom': 0.55,\n",
       "  'minstdmult': 3,\n",
       "  'nLargest': 3,\n",
       "  'snp_assignment_limit': 50000,\n",
       "  'tradingdays': 252}}"
      ]
     },
     "execution_count": 2,
     "metadata": {},
     "output_type": "execute_result"
    }
   ],
   "source": [
    "json.loads(jvars)"
   ]
  },
  {
   "cell_type": "code",
   "execution_count": null,
   "metadata": {},
   "outputs": [],
   "source": []
  }
 ],
 "metadata": {
  "kernelspec": {
   "display_name": "Python 3",
   "language": "python",
   "name": "python3"
  },
  "language_info": {
   "codemirror_mode": {
    "name": "ipython",
    "version": 3
   },
   "file_extension": ".py",
   "mimetype": "text/x-python",
   "name": "python",
   "nbconvert_exporter": "python",
   "pygments_lexer": "ipython3",
   "version": "3.7.1"
  }
 },
 "nbformat": 4,
 "nbformat_minor": 2
}
