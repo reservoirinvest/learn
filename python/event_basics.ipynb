{
 "cells": [
  {
   "cell_type": "markdown",
   "execution_count": null,
   "metadata": {},
   "outputs": [],
   "source": [
    "# Event Handling\n",
    "Here is an example from [StackOverflow: 1092531](https://stackoverflow.com/questions/1092531)\n",
    "\n",
    "## Principle behind this\n",
    "* A simple event handler would fire off one or more callable functions, whenever an event is fired.\n",
    "* A class to _manage_ this would require two methods at a miniumum:\n",
    "   * add\n",
    "   * fire\n",
    "* Within that class we need to maintain a list of _event handlers_\n",
    "* The class's **add** method would be an *event.append(`<callable>` | `<tuple or list of callables>`)*.\n",
    "   * This is given by the usage `e.append(f)`\n",
    "* The class's **fire** method is the `__call__` magic method.\n",
    "* The class's `__repr__` method is to make us known what is unambiguously in the list. It simply returns what is there in the `Event([])` list."
   ]
  },
  {
   "cell_type": "code",
   "execution_count": null,
   "metadata": {},
   "outputs": [],
   "source": [
    "class Event(list):\n",
    "    \"\"\"Event subscription.\n",
    "\n",
    "    A list of callable objects. Calling an instance of this will cause a\n",
    "    call to each item in the list in ascending order by index.\n",
    "\n",
    "    Example Usage:\n",
    "    >>> def f(x):\n",
    "    ...     print('f(%s)' % x)\n",
    "    >>> def g(x):\n",
    "    ...     print('g(%s)' % x)\n",
    "    >>> e = Event()\n",
    "    >>> e()\n",
    "    >>> e.append(f)\n",
    "    >>> e(123)\n",
    "    f(123)\n",
    "    >>> e.remove(f)\n",
    "    >>> e()\n",
    "    >>> e += (f, g)\n",
    "    >>> e(10)\n",
    "    f(10)\n",
    "    g(10)\n",
    "    >>> del e[0]\n",
    "    >>> e(2)\n",
    "    g(2)\n",
    "\n",
    "    \"\"\"\n",
    "    def __call__(self, *args, **kwargs):\n",
    "        for f in self:\n",
    "            f(*args, **kwargs)\n",
    "\n",
    "    def __repr__(self):\n",
    "        return \"Event(%s)\" % list.__repr__(self)"
   ]
  },
  {
   "cell_type": "markdown",
   "execution_count": null,
   "metadata": {},
   "outputs": [],
   "source": [
    "Let us try to use the function now..."
   ]
  },
  {
   "cell_type": "code",
   "execution_count": null,
   "metadata": {},
   "outputs": [],
   "source": [
    "def f(x):\n",
    "    print('f(%s)' % x)\n",
    "\n",
    "def g(x):\n",
    "    print('g(%s)' % x)"
   ]
  },
  {
   "cell_type": "code",
   "execution_count": null,
   "metadata": {},
   "outputs": [],
   "source": [
    "# Instantiate the event\n",
    "e = Event()\n",
    "e # shows the event __repr__ as Event([])"
   ]
  },
  {
   "cell_type": "code",
   "execution_count": null,
   "metadata": {},
   "outputs": [],
   "source": [
    "e() # will show nothing in it"
   ]
  },
  {
   "cell_type": "code",
   "execution_count": null,
   "metadata": {},
   "outputs": [],
   "source": [
    "e.append(f)\n",
    "e # e now has a function in it called f"
   ]
  },
  {
   "cell_type": "code",
   "execution_count": null,
   "metadata": {},
   "outputs": [],
   "source": [
    "e(123) # will show f(123), as f is the function in it"
   ]
  },
  {
   "cell_type": "code",
   "execution_count": null,
   "metadata": {},
   "outputs": [],
   "source": [
    "e.remove(f) # will make e empty\n",
    "e"
   ]
  },
  {
   "cell_type": "code",
   "execution_count": null,
   "metadata": {},
   "outputs": [],
   "source": [
    "e(123) # will show nothing, as it has no function in it."
   ]
  },
  {
   "cell_type": "code",
   "execution_count": null,
   "metadata": {},
   "outputs": [],
   "source": [
    "(f, g) # is a tuple of the two functions"
   ]
  },
  {
   "cell_type": "code",
   "execution_count": null,
   "metadata": {},
   "outputs": [],
   "source": [
    "e += (f, g) # appends the two functions into event handler e\n",
    "e # will show that there are two functions in it"
   ]
  },
  {
   "cell_type": "code",
   "execution_count": null,
   "metadata": {},
   "outputs": [],
   "source": [
    "e(10) # will print out the functions with the varoiables in it ... f(10)   g(10)"
   ]
  },
  {
   "cell_type": "code",
   "execution_count": null,
   "metadata": {},
   "outputs": [],
   "source": [
    "del e[0] # will remove function f from the event handler\n",
    "e # will show only function g existing in it now"
   ]
  },
  {
   "cell_type": "code",
   "execution_count": null,
   "metadata": {},
   "outputs": [],
   "source": [
    "e(2) # will therefore show only g(2)"
   ]
  },
  {
   "cell_type": "markdown",
   "execution_count": null,
   "metadata": {},
   "outputs": [],
   "source": [
    "Let us test some ib events on SNP (1300)..."
   ]
  },
  {
   "cell_type": "code",
   "execution_count": 1,
   "metadata": {},
   "outputs": [],
   "source": [
    "from ib_insync import *\n",
    "util.startLoop()"
   ]
  },
  {
   "cell_type": "code",
   "execution_count": 2,
   "metadata": {},
   "outputs": [],
   "source": [
    "# ib = IB().connect('127.0.0.1', 1300, 0) # run once"
   ]
  },
  {
   "cell_type": "code",
   "execution_count": 3,
   "metadata": {},
   "outputs": [],
   "source": [
    "def onScanData(scanData):\n",
    "    print(scanData[0])\n",
    "    print(len(scanData))\n",
    "\n",
    "sub = ScannerSubscription(\n",
    "    instrument='FUT.US',\n",
    "    locationCode='FUT.GLOBEX',\n",
    "    scanCode='TOP_PERC_GAIN')\n",
    "\n",
    "scanData = ib.reqScannerSubscription(sub)"
   ]
  },
  {
   "cell_type": "code",
   "execution_count": 4,
   "metadata": {},
   "outputs": [
    {
     "name": "stdout",
     "output_type": "stream",
     "text": "ScanData(rank=0, contractDetails=ContractDetails(contract=Contract(secType='FUT', conId=324660752, symbol='DY', lastTradeDateOrContractMonth='20200630', exchange='GLOBEX', currency='USD', localSymbol='DYM0', tradingClass='DY'), marketName='DY', minTick=0.0, orderTypes='', validExchanges='', priceMagnifier=0, underConId=0, longName='', contractMonth='', industry='', category='', subcategory='', timeZoneId='', tradingHours='', liquidHours='', evRule='', evMultiplier=0, mdSizeMultiplier=0, aggGroup=0, underSymbol='', underSecType='', marketRuleIds='', secIdList=[], realExpirationDate='', lastTradeTime='', stockType='', cusip='', ratings='', descAppend='', bondType='', couponType='', callable=False, putable=False, coupon=0, convertible=False, maturity='', issueDate='', nextOptionDate='', nextOptionType='', nextOptionPartial=False, notes=''), distance='', benchmark='', projection='', legsStr='')\n50\nScanData(rank=0, contractDetails=ContractDetails(contract=Contract(secType='FUT', conId=324660752, symbol='DY', lastTradeDateOrContractMonth='20200630', exchange='GLOBEX', currency='USD', localSymbol='DYM0', tradingClass='DY'), marketName='DY', minTick=0.0, orderTypes='', validExchanges='', priceMagnifier=0, underConId=0, longName='', contractMonth='', industry='', category='', subcategory='', timeZoneId='', tradingHours='', liquidHours='', evRule='', evMultiplier=0, mdSizeMultiplier=0, aggGroup=0, underSymbol='', underSecType='', marketRuleIds='', secIdList=[], realExpirationDate='', lastTradeTime='', stockType='', cusip='', ratings='', descAppend='', bondType='', couponType='', callable=False, putable=False, coupon=0, convertible=False, maturity='', issueDate='', nextOptionDate='', nextOptionType='', nextOptionPartial=False, notes=''), distance='', benchmark='', projection='', legsStr='')\n50\n"
    }
   ],
   "source": [
    "scanData.updateEvent += onScanData # subscribe to a streaming scanner using updateEvent\n",
    "ib.sleep(60)\n",
    "ib.cancelScannerSubscription(scanData)"
   ]
  },
  {
   "cell_type": "code",
   "execution_count": 5,
   "metadata": {},
   "outputs": [
    {
     "data": {
      "text/plain": "r=''),\n ScanData(rank=28, contractDetails=ContractDetails(contract=Contract(secType='FUT', conId=348207929, symbol='NF', lastTradeDateOrContractMonth='20201229', exchange='GLOBEX', currency='USD', localSymbol='GNFZ0', tradingClass='GNF'), marketName='GNF', minTick=0.0, orderTypes='', validExchanges='', priceMagnifier=0, underConId=0, longName='', contractMonth='', industry='', category='', subcategory='', timeZoneId='', tradingHours='', liquidHours='', evRule='', evMultiplier=0, mdSizeMultiplier=0, aggGroup=0, underSymbol='', underSecType='', marketRuleIds='', secIdList=[], realExpirationDate='', lastTradeTime='', stockType='', cusip='', ratings='', descAppend='', bondType='', couponType='', callable=False, putable=False, coupon=0, convertible=False, maturity='', issueDate='', nextOptionDate='', nextOptionType='', nextOptionPartial=False, notes=''), distance='', benchmark='', projection='', legsStr=''),\n ScanData(rank=29, contractDetails=ContractDetails(contract=Contract(secType='FUT', conId=335767393, symbol='NF', lastTradeDateOrContractMonth='20200929', exchange='GLOBEX', currency='USD', localSymbol='GNFU0', tradingClass='GNF'), marketName='GNF', minTick=0.0, orderTypes='', validExchanges='', priceMagnifier=0, underConId=0, longName='', contractMonth='', industry='', category='', subcategory='', timeZoneId='', tradingHours='', liquidHours='', evRule='', evMultiplier=0, mdSizeMultiplier=0, aggGroup=0, underSymbol='', underSecType='', marketRuleIds='', secIdList=[], realExpirationDate='', lastTradeTime='', stockType='', cusip='', ratings='', descAppend='', bondType='', couponType='', callable=False, putable=False, coupon=0, convertible=False, maturity='', issueDate='', nextOptionDate='', nextOptionType='', nextOptionPartial=False, notes=''), distance='', benchmark='', projection='', legsStr=''),\n ScanData(rank=30, contractDetails=ContractDetails(contract=Contract(secType='FUT', conId=333504393, symbol='EAD', lastTradeDateOrContractMonth='20200316', exchange='GLOBEX', currency='AUD', localSymbol='EADH0', tradingClass='EAD'), marketName='EAD', minTick=0.0, orderTypes='', validExchanges='', priceMagnifier=0, underConId=0, longName='', contractMonth='', industry='', category='', subcategory='', timeZoneId='', tradingHours='', liquidHours='', evRule='', evMultiplier=0, mdSizeMultiplier=0, aggGroup=0, underSymbol='', underSecType='', marketRuleIds='', secIdList=[], realExpirationDate='', lastTradeTime='', stockType='', cusip='', ratings='', descAppend='', bondType='', couponType='', callable=False, putable=False, coupon=0, convertible=False, maturity='', issueDate='', nextOptionDate='', nextOptionType='', nextOptionPartial=False, notes=''), distance='', benchmark='', projection='', legsStr=''),\n ScanData(rank=31, contractDetails=ContractDetails(contract=Contract(secType='FUT', conId=371749798, symbol='ES', lastTradeDateOrContractMonth='20200918', exchange='GLOBEX', currency='USD', localSymbol='ESU0', tradingClass='ES'), marketName='ES', minTick=0.0, orderTypes='', validExchanges='', priceMagnifier=0, underConId=0, longName='', contractMonth='', industry='', category='', subcategory='', timeZoneId='', tradingHours='', liquidHours='', evRule='', evMultiplier=0, mdSizeMultiplier=0, aggGroup=0, underSymbol='', underSecType='', marketRuleIds='', secIdList=[], realExpirationDate='', lastTradeTime='', stockType='', cusip='', ratings='', descAppend='', bondType='', couponType='', callable=False, putable=False, coupon=0, convertible=False, maturity='', issueDate='', nextOptionDate='', nextOptionType='', nextOptionPartial=False, notes=''), distance='', benchmark='', projection='', legsStr=''),\n ScanData(rank=32, contractDetails=ContractDetails(contract=Contract(secType='FUT', conId=309466080, symbol='SPX', lastTradeDateOrContractMonth='20200319', exchange='GLOBEX', currency='USD', localSymbol='SPH0', tradingClass='SP'), marketName='SP', minTick=0.0, orderTypes='', validExchanges='', priceMagnifier=0, underConId=0, longName='', contractMonth='', industry='', category='', subcategory='', timeZoneId='', tradingHours='', liquidHours='', evRule='', evMultiplier=0, mdSizeMultiplier=0, aggGroup=0, underSymbol='', underSecType='', marketRuleIds='', secIdList=[], realExpirationDate='', lastTradeTime='', stockType='', cusip='', ratings='', descAppend='', bondType='', couponType='', callable=False, putable=False, coupon=0, convertible=False, maturity='', issueDate='', nextOptionDate='', nextOptionType='', nextOptionPartial=False, notes=''), distance='', benchmark='', projection='', legsStr=''),\n ScanData(rank=33, contractDetails=ContractDetails(contract=Contract(secType='FUT', conId=312953569, symbol='CB', lastTradeDateOrContractMonth='20200331', exchange='GLOBEX', currency='USD', localSymbol='CBH0', tradingClass='CB'), marketName='CB', minTick=0.0, orderTypes='', validExchanges='', priceMagnifier=0, underConId=0, longName='', contractMonth='', industry='', category='', subcategory='', timeZoneId='', tradingHours='', liquidHours='', evRule='', evMultiplier=0, mdSizeMultiplier=0, aggGroup=0, underSymbol='', underSecType='', marketRuleIds='', secIdList=[], realExpirationDate='', lastTradeTime='', stockType='', cusip='', ratings='', descAppend='', bondType='', couponType='', callable=False, putable=False, coupon=0, convertible=False, maturity='', issueDate='', nextOptionDate='', nextOptionType='', nextOptionPartial=False, notes=''), distance='', benchmark='', projection='', legsStr=''),\n ScanData(rank=34, contractDetails=ContractDetails(contract=Contract(secType='FUT', conId=328011053, symbol='CB', lastTradeDateOrContractMonth='20200804', exchange='GLOBEX', currency='USD', localSymbol='CBN0', tradingClass='CB'), marketName='CB', minTick=0.0, orderTypes='', validExchanges='', priceMagnifier=0, underConId=0, longName='', contractMonth='', industry='', category='', subcategory='', timeZoneId='', tradingHours='', liquidHours='', evRule='', evMultiplier=0, mdSizeMultiplier=0, aggGroup=0, underSymbol='', underSecType='', marketRuleIds='', secIdList=[], realExpirationDate='', lastTradeTime='', stockType='', cusip='', ratings='', descAppend='', bondType='', couponType='', callable=False, putable=False, coupon=0, convertible=False, maturity='', issueDate='', nextOptionDate='', nextOptionType='', nextOptionPartial=False, notes=''), distance='', benchmark='', projection='', legsStr=''),\n ScanData(rank=35, contractDetails=ContractDetails(contract=Contract(secType='FUT', conId=362698381, symbol='MES', lastTradeDateOrContractMonth='20200320', exchange='GLOBEX', currency='USD', localSymbol='MESH0', tradingClass='MES'), marketName='MES', minTick=0.0, orderTypes='', validExchanges='', priceMagnifier=0, underConId=0, longName='', contractMonth='', industry='', category='', subcategory='', timeZoneId='', tradingHours='', liquidHours='', evRule='', evMultiplier=0, mdSizeMultiplier=0, aggGroup=0, underSymbol='', underSecType='', marketRuleIds='', secIdList=[], realExpirationDate='', lastTradeTime='', stockType='', cusip='', ratings='', descAppend='', bondType='', couponType='', callable=False, putable=False, coupon=0, convertible=False, maturity='', issueDate='', nextOptionDate='', nextOptionType='', nextOptionPartial=False, notes=''), distance='', benchmark='', projection='', legsStr=''),\n ScanData(rank=36, contractDetails=ContractDetails(contract=Contract(secType='FUT', conId=346577697, symbol='ES', lastTradeDateOrContractMonth='20200320', exchange='GLOBEX', currency='USD', localSymbol='ESH0', tradingClass='ES'), marketName='ES', minTick=0.0, orderTypes='', validExchanges='', priceMagnifier=0, underConId=0, longName='', contractMonth='', industry='', category='', subcategory='', timeZoneId='', tradingHours='', liquidHours='', evRule='', evMultiplier=0, mdSizeMultiplier=0, aggGroup=0, underSymbol='', underSecType='', marketRuleIds='', secIdList=[], realExpirationDate='', lastTradeTime='', stockType='', cusip='', ratings='', descAppend='', bondType='', couponType='', callable=False, putable=False, coupon=0, convertible=False, maturity='', issueDate='', nextOptionDate='', nextOptionType='', nextOptionPartial=False, notes=''), distance='', benchmark='', projection='', legsStr=''),\n ScanData(rank=37, contractDetails=ContractDetails(contract=Contract(secType='FUT', conId=316366974, symbol='CB', lastTradeDateOrContractMonth='20200428', exchange='GLOBEX', currency='USD', localSymbol='CBJ0', tradingClass='CB'), marketName='CB', minTick=0.0, orderTypes='', validExchanges='', priceMagnifier=0, underConId=0, longName='', contractMonth='', industry='', category='', subcategory='', timeZoneId='', tradingHours='', liquidHours='', evRule='', evMultiplier=0, mdSizeMultiplier=0, aggGroup=0, underSymbol='', underSecType='', marketRuleIds='', secIdList=[], realExpirationDate='', lastTradeTime='', stockType='', cusip='', ratings='', descAppend='', bondType='', couponType='', callable=False, putable=False, coupon=0, convertible=False, maturity='', issueDate='', nextOptionDate='', nextOptionType='', nextOptionPartial=False, notes=''), distance='', benchmark='', projection='', legsStr=''),\n ScanData(rank=38, contractDetails=ContractDetails(contract=Contract(secType='FUT', conId=357283364, symbol='ES', lastTradeDateOrContractMonth='20200619', exchange='GLOBEX', currency='USD', localSymbol='ESM0', tradingClass='ES'), marketName='ES', minTick=0.0, orderTypes='', validExchanges='', priceMagnifier=0, underConId=0, longName='', contractMonth='', industry='', category='', subcategory='', timeZoneId='', tradingHours='', liquidHours='', evRule='', evMultiplier=0, mdSizeMultiplier=0, aggGroup=0, underSymbol='', underSecType='', marketRuleIds='', secIdList=[], realExpirationDate='', lastTradeTime='', stockType='', cusip='', ratings='', descAppend='', bondType='', couponType='', callable=False, putable=False, coupon=0, convertible=False, maturity='', issueDate='', nextOptionDate='', nextOptionType='', nextOptionPartial=False, notes=''), distance='', benchmark='', projection='', legsStr=''),\n ScanData(rank=39, contractDetails=ContractDetails(contract=Contract(secType='FUT', conId=378894159, symbol='IBAA', lastTradeDateOrContractMonth='20200415', exchange='GLOBEX', currency='USD', localSymbol='IBVJ0', tradingClass='IBV'), marketName='IBV', minTick=0.0, orderTypes='', validExchanges='', priceMagnifier=0, underConId=0, longName='', contractMonth='', industry='', category='', subcategory='', timeZoneId='', tradingHours='', liquidHours='', evRule='', evMultiplier=0, mdSizeMultiplier=0, aggGroup=0, underSymbol='', underSecType='', marketRuleIds='', secIdList=[], realExpirationDate='', lastTradeTime='', stockType='', cusip='', ratings='', descAppend='', bondType='', couponType='', callable=False, putable=False, coupon=0, convertible=False, maturity='', issueDate='', nextOptionDate='', nextOptionType='', nextOptionPartial=False, notes=''), distance='', benchmark='', projection='', legsStr=''),\n ScanData(rank=40, contractDetails=ContractDetails(contract=Contract(secType='FUT', conId=319684033, symbol='CB', lastTradeDateOrContractMonth='20200602', exchange='GLOBEX', currency='USD', localSymbol='CBK0', tradingClass='CB'), marketName='CB', minTick=0.0, orderTypes='', validExchanges='', priceMagnifier=0, underConId=0, longName='', contractMonth='', industry='', category='', subcategory='', timeZoneId='', tradingHours='', liquidHours='', evRule='', evMultiplier=0, mdSizeMultiplier=0, aggGroup=0, underSymbol='', underSecType='', marketRuleIds='', secIdList=[], realExpirationDate='', lastTradeTime='', stockType='', cusip='', ratings='', descAppend='', bondType='', couponType='', callable=False, putable=False, coupon=0, convertible=False, maturity='', issueDate='', nextOptionDate='', nextOptionType='', nextOptionPartial=False, notes=''), distance='', benchmark='', projection='', legsStr=''),\n ScanData(rank=41, contractDetails=ContractDetails(contract=Contract(secType='FUT', conId=319684313, symbol='DA', lastTradeDateOrContractMonth='20200602', exchange='GLOBEX', currency='USD', localSymbol='DCK0', tradingClass='DC'), marketName='DC', minTick=0.0, orderTypes='', validExchanges='', priceMagnifier=0, underConId=0, longName='', contractMonth='', industry='', category='', subcategory='', timeZoneId='', tradingHours='', liquidHours='', evRule='', evMultiplier=0, mdSizeMultiplier=0, aggGroup=0, underSymbol='', underSecType='', marketRuleIds='', secIdList=[], realExpirationDate='', lastTradeTime='', stockType='', cusip='', ratings='', descAppend='', bondType='', couponType='', callable=False, putable=False, coupon=0, convertible=False, maturity='', issueDate='', nextOptionDate='', nextOptionType='', nextOptionPartial=False, notes=''), distance='', benchmark='', projection='', legsStr=''),\n ScanData(rank=42, contractDetails=ContractDetails(contract=Contract(secType='FUT', conId=324660668, symbol='GDK', lastTradeDateOrContractMonth='20200630', exchange='GLOBEX', currency='USD', localSymbol='GDKM0', tradingClass='GDK'), marketName='GDK', minTick=0.0, orderTypes='', validExchanges='', priceMagnifier=0, underConId=0, longName='', contractMonth='', industry='', category='', subcategory='', timeZoneId='', tradingHours='', liquidHours='', evRule='', evMultiplier=0, mdSizeMultiplier=0, aggGroup=0, underSymbol='', underSecType='', marketRuleIds='', secIdList=[], realExpirationDate='', lastTradeTime='', stockType='', cusip='', ratings='', descAppend='', bondType='', couponType='', callable=False, putable=False, coupon=0, convertible=False, maturity='', issueDate='', nextOptionDate='', nextOptionType='', nextOptionPartial=False, notes=''), distance='', benchmark='', projection='', legsStr=''),\n ScanData(rank=43, contractDetails=ContractDetails(contract=Contract(secType='FUT', conId=362698833, symbol='MES', lastTradeDateOrContractMonth='20200619', exchange='GLOBEX', currency='USD', localSymbol='MESM0', tradingClass='MES'), marketName='MES', minTick=0.0, orderTypes='', validExchanges='', priceMagnifier=0, underConId=0, longName='', contractMonth='', industry='', category='', subcategory='', timeZoneId='', tradingHours='', liquidHours='', evRule='', evMultiplier=0, mdSizeMultiplier=0, aggGroup=0, underSymbol='', underSecType='', marketRuleIds='', secIdList=[], realExpirationDate='', lastTradeTime='', stockType='', cusip='', ratings='', descAppend='', bondType='', couponType='', callable=False, putable=False, coupon=0, convertible=False, maturity='', issueDate='', nextOptionDate='', nextOptionType='', nextOptionPartial=False, notes=''), distance='', benchmark='', projection='', legsStr=''),\n ScanData(rank=44, contractDetails=ContractDetails(contract=Contract(secType='FUT', conId=324660659, symbol='CB', lastTradeDateOrContractMonth='20200630', exchange='GLOBEX', currency='USD', localSymbol='CBM0', tradingClass='CB'), marketName='CB', minTick=0.0, orderTypes='', validExchanges='', priceMagnifier=0, underConId=0, longName='', contractMonth='', industry='', category='', subcategory='', timeZoneId='', tradingHours='', liquidHours='', evRule='', evMultiplier=0, mdSizeMultiplier=0, aggGroup=0, underSymbol='', underSecType='', marketRuleIds='', secIdList=[], realExpirationDate='', lastTradeTime='', stockType='', cusip='', ratings='', descAppend='', bondType='', couponType='', callable=False, putable=False, coupon=0, convertible=False, maturity='', issueDate='', nextOptionDate='', nextOptionType='', nextOptionPartial=False, notes=''), distance='', benchmark='', projection='', legsStr=''),\n ScanData(rank=45, contractDetails=ContractDetails(contract=Contract(secType='FUT', conId=346577730, symbol='IXT', lastTradeDateOrContractMonth='20200320', exchange='GLOBEX', currency='USD', localSymbol='XAKH0', tradingClass='XAK'), marketName='XAK', minTick=0.0, orderTypes='', validExchanges='', priceMagnifier=0, underConId=0, longName='', contractMonth='', industry='', category='', subcategory='', timeZoneId='', tradingHours='', liquidHours='', evRule='', evMultiplier=0, mdSizeMultiplier=0, aggGroup=0, underSymbol='', underSecType='', marketRuleIds='', secIdList=[], realExpirationDate='', lastTradeTime='', stockType='', cusip='', ratings='', descAppend='', bondType='', couponType='', callable=False, putable=False, coupon=0, convertible=False, maturity='', issueDate='', nextOptionDate='', nextOptionType='', nextOptionPartial=False, notes=''), distance='', benchmark='', projection='', legsStr=''),\n ScanData(rank=46, contractDetails=ContractDetails(contract=Contract(secType='FUT', conId=316366894, symbol='DA', lastTradeDateOrContractMonth='20200428', exchange='GLOBEX', currency='USD', localSymbol='DCJ0', tradingClass='DC'), marketName='DC', minTick=0.0, orderTypes='', validExchanges='', priceMagnifier=0, underConId=0, longName='', contractMonth='', industry='', category='', subcategory='', timeZoneId='', tradingHours='', liquidHours='', evRule='', evMultiplier=0, mdSizeMultiplier=0, aggGroup=0, underSymbol='', underSecType='', marketRuleIds='', secIdList=[], realExpirationDate='', lastTradeTime='', stockType='', cusip='', ratings='', descAppend='', bondType='', couponType='', callable=False, putable=False, coupon=0, convertible=False, maturity='', issueDate='', nextOptionDate='', nextOptionType='', nextOptionPartial=False, notes=''), distance='', benchmark='', projection='', legsStr=''),\n ScanData(rank=47, contractDetails=ContractDetails(contract=Contract(secType='FUT', conId=333504510, symbol='ECD', lastTradeDateOrContractMonth='20200316', exchange='GLOBEX', currency='CAD', localSymbol='ECDH0', tradingClass='ECD'), marketName='ECD', minTick=0.0, orderTypes='', validExchanges='', priceMagnifier=0, underConId=0, longName='', contractMonth='', industry='', category='', subcategory='', timeZoneId='', tradingHours='', liquidHours='', evRule='', evMultiplier=0, mdSizeMultiplier=0, aggGroup=0, underSymbol='', underSecType='', marketRuleIds='', secIdList=[], realExpirationDate='', lastTradeTime='', stockType='', cusip='', ratings='', descAppend='', bondType='', couponType='', callable=False, putable=False, coupon=0, convertible=False, maturity='', issueDate='', nextOptionDate='', nextOptionType='', nextOptionPartial=False, notes=''), distance='', benchmark='', projection='', legsStr=''),\n ScanData(rank=48, contractDetails=ContractDetails(contract=Contract(secType='FUT', conId=357283352, symbol='RTY', lastTradeDateOrContractMonth='20200619', exchange='GLOBEX', currency='USD', localSymbol='RTYM0', tradingClass='RTY'), marketName='RTY', minTick=0.0, orderTypes='', validExchanges='', priceMagnifier=0, underConId=0, longName='', contractMonth='', industry='', category='', subcategory='', timeZoneId='', tradingHours='', liquidHours='', evRule='', evMultiplier=0, mdSizeMultiplier=0, aggGroup=0, underSymbol='', underSecType='', marketRuleIds='', secIdList=[], realExpirationDate='', lastTradeTime='', stockType='', cusip='', ratings='', descAppend='', bondType='', couponType='', callable=False, putable=False, coupon=0, convertible=False, maturity='', issueDate='', nextOptionDate='', nextOptionType='', nextOptionPartial=False, notes=''), distance='', benchmark='', projection='', legsStr=''),\n ScanData(rank=49, contractDetails=ContractDetails(contract=Contract(secType='FUT', conId=331478527, symbol='CB', lastTradeDateOrContractMonth='20200901', exchange='GLOBEX', currency='USD', localSymbol='CBQ0', tradingClass='CB'), marketName='CB', minTick=0.0, orderTypes='', validExchanges='', priceMagnifier=0, underConId=0, longName='', contractMonth='', industry='', category='', subcategory='', timeZoneId='', tradingHours='', liquidHours='', evRule='', evMultiplier=0, mdSizeMultiplier=0, aggGroup=0, underSymbol='', underSecType='', marketRuleIds='', secIdList=[], realExpirationDate='', lastTradeTime='', stockType='', cusip='', ratings='', descAppend='', bondType='', couponType='', callable=False, putable=False, coupon=0, convertible=False, maturity='', issueDate='', nextOptionDate='', nextOptionType='', nextOptionPartial=False, notes=''), distance='', benchmark='', projection='', legsStr='')]"
     },
     "execution_count": 5,
     "metadata": {},
     "output_type": "execute_result"
    }
   ],
   "source": [
    "scanData"
   ]
  },
  {
   "cell_type": "code",
   "execution_count": null,
   "metadata": {},
   "outputs": [],
   "source": []
  }
 ],
 "metadata": {
  "kernelspec": {
   "display_name": "Python 3",
   "language": "python",
   "name": "python3"
  },
  "language_info": {
   "codemirror_mode": {
    "name": "ipython",
    "version": 3
   },
   "file_extension": ".py",
   "mimetype": "text/x-python",
   "name": "python",
   "nbconvert_exporter": "python",
   "pygments_lexer": "ipython3",
   "version": "3.8.1-final"
  }
 },
 "nbformat": 4,
 "nbformat_minor": 2
}