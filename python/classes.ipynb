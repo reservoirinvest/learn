{
 "cells": [
  {
   "cell_type": "markdown",
   "metadata": {},
   "source": [
    "(Ref: [Python OOP](https://www.programiz.com/python-programming/object-oriented-programming))\n",
    "\n",
    "# Introdution to OOPs in Python\n",
    "* Python is a multi-paradigm programming language. It supports different programming approach.\n",
    "* One popular method is by creating objects. This is called OOP\n",
    "\n",
    "* An object has two characteristics:\n",
    "   * attributes\n",
    "   * behaviour\n",
    "   \n",
    "* Parrot is an object\n",
    "   * name, age, colour are its attributes\n",
    "   * singing, dancing are behaviour\n",
    "   \n",
    "* Concept of OOP in Python focuses on creating reusable code. Concept called DRY (Don't Repeat Yourself).\n",
    "\n",
    "* In Python, the concept of OOP follows some basic principles:\n",
    "   * Inheritance: A process of using details from a new class without modifying existing class\n",
    "   * Encapsulation: Hiding the private details of a class from other objects\n",
    "   * Polymorphism: A concept of using common operation in different ways for differnt data input\n",
    "\n",
    "# Class\n",
    "* A *Class* is a blueprint for the object.\n",
    "   * Sketch of a parrot with labels. The labels contains all details about the parrot's name, colours, size, etc.\n",
    "   \n",
    "...here is a parrot as an object"
   ]
  },
  {
   "cell_type": "code",
   "execution_count": null,
   "metadata": {},
   "outputs": [],
   "source": [
    "class Parrot:\n",
    "    pass"
   ]
  },
  {
   "cell_type": "markdown",
   "metadata": {},
   "source": [
    "* Here, we use `class` keyword to define an empty class `Parrot`\n",
    "* From class, we construct instances\n",
    "* Instance is a specific object created from a particular class.\n",
    "\n",
    "# Object\n",
    "* Object (instance) is an instantiation of a class.\n",
    "* When class is defined, only the description for the object is defined. Therefer, no memory or storage is allocated."
   ]
  },
  {
   "cell_type": "code",
   "execution_count": null,
   "metadata": {},
   "outputs": [],
   "source": [
    "obj = Parrot()"
   ]
  },
  {
   "cell_type": "code",
   "execution_count": null,
   "metadata": {},
   "outputs": [],
   "source": [
    "class Parrot:\n",
    "    \n",
    "    # class attribute\n",
    "    species = 'bird'\n",
    "    \n",
    "    # instance attribute\n",
    "    def __init__(self, name, age):\n",
    "        self.name = name\n",
    "        self.age = age\n",
    "        \n",
    "# instantiate the Parrot class\n",
    "blu = Parrot('Blu', 10)\n",
    "woo = Parrot('Woo', 15)\n",
    "    \n",
    "# access the class attributes\n",
    "print(\"Blue is a {}\".format(blu.__class__.species))\n",
    "print(\"Woo is also a {}\".format(woo.__class__.species))\n",
    "\n",
    "# access the instance attributes\n",
    "print(\"{} is {} years old\".format(blu.name, blu.age))\n",
    "print(\"{} is {} years old\".format(woo.name, woo.age))\n",
    "    "
   ]
  },
  {
   "cell_type": "markdown",
   "metadata": {},
   "source": [
    "* Class attributes are same for all instances of a class.\n",
    "# Methods\n",
    "* Methods are functions defined inside the body of a class. They are used to define the behaviours of an object."
   ]
  },
  {
   "cell_type": "code",
   "execution_count": null,
   "metadata": {},
   "outputs": [],
   "source": [
    "class Parrot:\n",
    "    \n",
    "    # instance attributes\n",
    "    def __init__(self, name, age):\n",
    "        self.name = name\n",
    "        self.age = age\n",
    "    \n",
    "    # instance method\n",
    "    def sing(self, song):\n",
    "        return \"{} sings {}\".format(self.name, song)\n",
    "    \n",
    "    def dance(self):\n",
    "        return \"{} is now dancing\".format(self.name)\n",
    "    \n",
    "# instantiate the object\n",
    "blu = Parrot(\"Blu\", 10)\n",
    "\n",
    "# call our instance methods\n",
    "print(blu.sing(\"'Happy'\"))\n",
    "print(blu.dance())"
   ]
  },
  {
   "cell_type": "markdown",
   "metadata": {},
   "source": [
    "* In the above program, we define two methods i.e. `sing()` and `dance()`. These are called instance method because they are called on an instance object i.e. `blu`\n",
    "# Inheritance\n",
    "* Inheritance is a way of creating new class, using existing class details, without modifying it.\n",
    "* The newly formeed class is a derived class (or child class).\n",
    "* Similary, the existing class is a base class (or parent class)."
   ]
  },
  {
   "cell_type": "code",
   "execution_count": null,
   "metadata": {},
   "outputs": [],
   "source": [
    "# parent class\n",
    "class Bird:\n",
    "    \n",
    "    def __init__(self):\n",
    "        print(\"Bird is ready\")\n",
    "        \n",
    "    def whoisThis(self):\n",
    "        print(\"Bird\")\n",
    "        \n",
    "    def swim(self):\n",
    "        print(\"Swim faster\")\n",
    "        \n",
    "# child class\n",
    "class Penguin(Bird):\n",
    "    \n",
    "    def __init__(self):\n",
    "        # call super() function\n",
    "        super().__init__()\n",
    "        print(\"Penguin is ready\")\n",
    "        \n",
    "    def whoisThis(self):\n",
    "        print(\"Penguin\")\n",
    "        \n",
    "    def run(self):\n",
    "        print(\"Run faster\")"
   ]
  },
  {
   "cell_type": "code",
   "execution_count": null,
   "metadata": {},
   "outputs": [],
   "source": [
    "peggy = Penguin()\n",
    "peggy.whoisThis()"
   ]
  },
  {
   "cell_type": "code",
   "execution_count": null,
   "metadata": {},
   "outputs": [],
   "source": [
    "peggy.swim()"
   ]
  },
  {
   "cell_type": "code",
   "execution_count": null,
   "metadata": {},
   "outputs": [],
   "source": [
    "peggy.run()"
   ]
  },
  {
   "cell_type": "markdown",
   "metadata": {},
   "source": [
    "(Ref: [python tutorial](https://docs.python.org/3/tutorial/classes.html))\n",
    "\n",
    "# Exercise and notes on classes in python\n",
    "* Class provides means of bundling data and functionality together\n",
    "* New Class is a new object, allowing instances to be made\n",
    "* Each class can have attributes attached to it to maintain its state\n",
    "\n",
    "# Objects and Names\n",
    "* Objects have individuality\n",
    "* Multiple names (in multiple scopes) can be bound to the same object (...also called aliasing)\n",
    "* Aliases behave like pointers and effect mutable objects (such as lists and dictionaries)\n",
    "* Passing an object in python is cheap - as only a pointer is passed\n",
    "\n",
    "# Scopes and Namespaces\n",
    "* Namespace is a mapping from names to objects\n",
    "* Most namespaces in Python are implemented as dictionaries\n",
    "   * e.g. of namespace are built-in names (containing functions like abs(), and built-in exception names\n",
    "* _Note_: There is no relationship between names in different namespaces\n",
    "   * e.g. _maximize_ can define differnt functions in different modules.\n",
    "* Users mus prefix module name\n",
    "* Attributes are represented by dot (.)\n",
    "   * e.g. z.real (real is an atrribute of object z). modname.funcname (modname is a module object, funcname is an attribute to it)\n",
    "* Attributes may be read-only or writable\n",
    "   * e.g. modname.the_answer = 42\n",
    "* Attributes can be deleted with del\n",
    "   * e.g. *del modname.the_answer* will remove the attribute *the_answer*\n",
    "* Namespaces are created at different moments and have different lifetimes\n",
    "* Namespace containing built-in names are created when the Python interpreter starts up and is never deleted\n",
    "* Global namespace for a module is created when the module definition is read in, and lasts till interpreter quits\n",
    "* Statements executed by the top-level invocation of the interpreter, either read from a script file or considered part of a module called __ __main__ __, so that hey have their own namespace\n",
    "* built-in names also live in a module called *builtins*\n",
    "* local namespace for function is created when the function is called and deleted (forgotten), when the function returs or raises an exception\n",
    "* A *scope* is a textual region of Python program where a namespace is 'directly accessible'.\n",
    "* Although scopes are determined statically, they are used dynamically\n",
    "* At any time during execution there are atleast three nested *scopes* whose namespaces are directly accessible:\n",
    "   * the innermost scope, which is searched first, contains the local names\n",
    "   * the scopes of any enclosing functions, which are searched starting with the nearest enclosing scope, contains non-loca, but also non-global names\n",
    "   * the outermost scope (searched last) is the namespace containing built-in names\n",
    "* If a name is declared global, then all references and assignments go directly to the middle scope containing the module's global names\n",
    "* To rebind variables found outside of the innermost scope, the *nonlocal* statement can be used\n",
    "   * If not declared *nonlocal*, those variables are read-only (an attempt to write to such a variable will simply create a *new* local variable in the innermost scope, leaving the identically outer variable unchanged)\n",
    "* The local scope references the local names of the current function. Outside functions, the local scope references the same namespace as the global scope: the module's namespace.\n",
    "* Class definitions place yet another namespace in the local scope\n",
    "* Scopes are determined textually. The global scope of a function defined in a module is that module's namespace, no matter where or by what alias the function is called.\n",
    "* However, actual search names is done dynamically at run time. So dynamic name resolution should not be relied on\n",
    "* If no global statement is in effect, the assignment to names always go to the innermost scope.\n",
    "* Assignments do not copy data, they just bind names to objects.\n",
    "* The same is true for deletion. The statement *del x* removes binding of *x* from the namespace referenced by he local scope. \n",
    "* All operations that introduce new names use local scope. \n",
    "   * In particular, *import* statements and function definitions bind the module or function name in the local scope.\n",
    "* The *global* statement can be used to indicate that particular variables live in the global scope and should be rebound there\n",
    "* The *nonlocal* statement indicates that particular variables live in an enclosing scope and should be rebound there.\n",
    "\n",
    "# Class definition syntax\n",
    "A simple class:\n",
    "<code> \n",
    "    class ClassName:\n",
    "    `<statement-1>`\n",
    "        ...\n",
    "    `<statement-N>`\n",
    "</code>\n",
    "\n",
    "* Class definitions, like function definitions, must be executed beforethey take any effect.\n",
    "    * Class definitions can be placed in a branc of if statement or inside a function\n",
    "* Class definitions usually will be function definitions, but other statemens are allowed and sometimes useful\n",
    "* The function definitions inside a class normally have a peculiar form of argument list, dictated by calling conventions\n",
    "* When class definition is entered, a new namespace is created and used in local scope. \n",
    "   * So, all assignments to local variables go into this new namespace.\n",
    "   * In particular, function definitinos binding the name of the new function are here.\n",
    "* When class definition is left normally (via the end), a *class object* is created.\n",
    "   * This is basically a wrapper around contents of the namespace created by the class definition.\n",
    "* The original scope is reinstated and the class object is bound here to the class name given in the class definition header.\n",
    "\n",
    "# Class Objects\n",
    "* Class objects support two kinds of operations: attribute reference and instantiation.\n",
    "* *Attribute references* use the standard syntax usded for all attribute references in Python: `obj.name`\n",
    "* Valid attribute names are all the names that were in the class's namespace when the class object was created.\n",
    "\n",
    "\n"
   ]
  },
  {
   "cell_type": "code",
   "execution_count": null,
   "metadata": {},
   "outputs": [],
   "source": [
    "class MyClass:\n",
    "    '''A simple example class'''\n",
    "    i = 12345\n",
    "    \n",
    "    def f(self):\n",
    "        return 'hello world'"
   ]
  },
  {
   "cell_type": "code",
   "execution_count": null,
   "metadata": {},
   "outputs": [],
   "source": [
    "MyClass.i # returns the integer"
   ]
  },
  {
   "cell_type": "code",
   "execution_count": null,
   "metadata": {},
   "outputs": [],
   "source": [
    "MyClass.f # returns the function object"
   ]
  },
  {
   "cell_type": "markdown",
   "metadata": {},
   "source": [
    "* Class attributes can also be assigned to, so you can change the value of MyClass.i by assignment\n",
    "* *\\__doc__* is also a valid attribute, returning the docstring belonging to the class: \"A simple example class\""
   ]
  }
 ],
 "metadata": {
  "kernelspec": {
   "display_name": "Python 3.8.1 32-bit",
   "language": "python",
   "name": "python38132bit2115ca79f6634adbad3a74c57c1d7c04"
  },
  "language_info": {
   "codemirror_mode": {
    "name": "ipython",
    "version": 3
   },
   "file_extension": ".py",
   "mimetype": "text/x-python",
   "name": "python",
   "nbconvert_exporter": "python",
   "pygments_lexer": "ipython3",
   "version": "3.8.1"
  }
 },
 "nbformat": 4,
 "nbformat_minor": 2
}
