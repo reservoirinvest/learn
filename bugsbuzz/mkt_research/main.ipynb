{
 "cells": [
  {
   "cell_type": "markdown",
   "metadata": {},
   "source": [
    "# Background\n",
    "* Respiratory Medicine physicians see between 50 to >150 COPD patients each month, of which over 70% would be on inhaled maintenance therapy.\n",
    "* Market is fragmented. There is immense competition from newer treatment options.\n",
    "* There is an impending product launch using triple combination therapy - consisting of ICS, LABA and LAMA."
   ]
  },
  {
   "cell_type": "markdown",
   "metadata": {},
   "source": [
    "# Objectives\n",
    "* Perform assessment of COPD drugs w.r.t. market changes.\n",
    "    * Analyze drug awareness amongst physicians\n",
    "    * Analyze drug satisfaction"
   ]
  },
  {
   "cell_type": "markdown",
   "metadata": {},
   "source": [
    "# Data staging\n",
    "## Survey Data\n",
    "* Extract survey data from `Raw data` tab\n",
    "* Clean up the columns - to align with product code from master"
   ]
  },
  {
   "cell_type": "code",
   "execution_count": 1,
   "metadata": {},
   "outputs": [],
   "source": [
    "# Data manipulation imports\n",
    "import pandas as pd\n",
    "import re"
   ]
  },
  {
   "cell_type": "code",
   "execution_count": 2,
   "metadata": {},
   "outputs": [],
   "source": [
    "# For plotly rendering\n",
    "import plotly.graph_objects as go\n",
    "import plotly.express as px\n",
    "\n",
    "from plotly.subplots import make_subplots\n",
    "\n",
    "import plotly.io as pio\n",
    "pio.renderers.default = 'jupyterlab'\n",
    "\n",
    "# Jupyter notebooks don't show 'jupyterlab' renderer. So let's overcome it.\n",
    "import IPython as ipy\n",
    "\n",
    "# if ipy.get_ipython().__class__.__name__ == 'ZMQInteractiveShell':\n",
    "#     pio.renderers.default = 'notebook'\n",
    "\n",
    "# For controlling display in Jupyter\n",
    "from IPython.display import display, HTML, IFrame"
   ]
  },
  {
   "cell_type": "code",
   "execution_count": 3,
   "metadata": {},
   "outputs": [
    {
     "data": {
      "text/html": [
       "<div>\n",
       "<style scoped>\n",
       "    .dataframe tbody tr th:only-of-type {\n",
       "        vertical-align: middle;\n",
       "    }\n",
       "\n",
       "    .dataframe tbody tr th {\n",
       "        vertical-align: top;\n",
       "    }\n",
       "\n",
       "    .dataframe thead th {\n",
       "        text-align: right;\n",
       "    }\n",
       "</style>\n",
       "<table border=\"1\" class=\"dataframe\">\n",
       "  <thead>\n",
       "    <tr style=\"text-align: right;\">\n",
       "      <th></th>\n",
       "      <th>RID</th>\n",
       "      <th>Specialty</th>\n",
       "      <th>B1</th>\n",
       "      <th>B1_1</th>\n",
       "      <th>B1_2</th>\n",
       "      <th>Grid_C1[{_3}].C1</th>\n",
       "      <th>Grid_C1[{_5}].C1</th>\n",
       "      <th>Grid_C1[{_7}].C1</th>\n",
       "      <th>Grid_C1[{_9}].C1</th>\n",
       "      <th>Grid_C1[{_10}].C1</th>\n",
       "      <th>Grid_C1[{_11}].C1</th>\n",
       "      <th>Grid_C1[{_12}].C1</th>\n",
       "      <th>Grid_C1[{_16}].C1</th>\n",
       "    </tr>\n",
       "  </thead>\n",
       "  <tbody>\n",
       "    <tr>\n",
       "      <th>0</th>\n",
       "      <td>701</td>\n",
       "      <td>{_1}</td>\n",
       "      <td>{_7}</td>\n",
       "      <td>{_5,_9,_10,_3,_11,_16}</td>\n",
       "      <td>{_12,_101,_102}</td>\n",
       "      <td>{_8}</td>\n",
       "      <td>{_10}</td>\n",
       "      <td>{_10}</td>\n",
       "      <td>{_9}</td>\n",
       "      <td>{_9}</td>\n",
       "      <td>{_8}</td>\n",
       "      <td>NaN</td>\n",
       "      <td>{_8}</td>\n",
       "    </tr>\n",
       "    <tr>\n",
       "      <th>1</th>\n",
       "      <td>702</td>\n",
       "      <td>{_1}</td>\n",
       "      <td>{_5}</td>\n",
       "      <td>{_9,_10,_3}</td>\n",
       "      <td>{_7,_11,_16}</td>\n",
       "      <td>{_7}</td>\n",
       "      <td>{_10}</td>\n",
       "      <td>{_7}</td>\n",
       "      <td>{_10}</td>\n",
       "      <td>{_7}</td>\n",
       "      <td>{_7}</td>\n",
       "      <td>NaN</td>\n",
       "      <td>{_8}</td>\n",
       "    </tr>\n",
       "    <tr>\n",
       "      <th>2</th>\n",
       "      <td>703</td>\n",
       "      <td>{_1}</td>\n",
       "      <td>{_5}</td>\n",
       "      <td>{_7,_9,_3}</td>\n",
       "      <td>{_12,_101,_102,_10,_11,_16}</td>\n",
       "      <td>{_7}</td>\n",
       "      <td>{_8}</td>\n",
       "      <td>{_9}</td>\n",
       "      <td>{_8}</td>\n",
       "      <td>{_7}</td>\n",
       "      <td>{_6}</td>\n",
       "      <td>NaN</td>\n",
       "      <td>{_6}</td>\n",
       "    </tr>\n",
       "    <tr>\n",
       "      <th>3</th>\n",
       "      <td>704</td>\n",
       "      <td>{_3}</td>\n",
       "      <td>{_7}</td>\n",
       "      <td>{_9}</td>\n",
       "      <td>{_5,_3,_16}</td>\n",
       "      <td>{_6}</td>\n",
       "      <td>{_10}</td>\n",
       "      <td>{_9}</td>\n",
       "      <td>{_9}</td>\n",
       "      <td>NaN</td>\n",
       "      <td>NaN</td>\n",
       "      <td>NaN</td>\n",
       "      <td>{_10}</td>\n",
       "    </tr>\n",
       "    <tr>\n",
       "      <th>4</th>\n",
       "      <td>705</td>\n",
       "      <td>{_1}</td>\n",
       "      <td>{_9}</td>\n",
       "      <td>{_7,_5,_11}</td>\n",
       "      <td>{_101,_102,_10,_3,_16}</td>\n",
       "      <td>{_7}</td>\n",
       "      <td>{_8}</td>\n",
       "      <td>{_8}</td>\n",
       "      <td>{_9}</td>\n",
       "      <td>{_6}</td>\n",
       "      <td>{_7}</td>\n",
       "      <td>NaN</td>\n",
       "      <td>{_8}</td>\n",
       "    </tr>\n",
       "  </tbody>\n",
       "</table>\n",
       "</div>"
      ],
      "text/plain": [
       "   RID Specialty    B1                    B1_1                         B1_2  \\\n",
       "0  701      {_1}  {_7}  {_5,_9,_10,_3,_11,_16}              {_12,_101,_102}   \n",
       "1  702      {_1}  {_5}             {_9,_10,_3}                 {_7,_11,_16}   \n",
       "2  703      {_1}  {_5}              {_7,_9,_3}  {_12,_101,_102,_10,_11,_16}   \n",
       "3  704      {_3}  {_7}                    {_9}                  {_5,_3,_16}   \n",
       "4  705      {_1}  {_9}             {_7,_5,_11}       {_101,_102,_10,_3,_16}   \n",
       "\n",
       "  Grid_C1[{_3}].C1 Grid_C1[{_5}].C1 Grid_C1[{_7}].C1 Grid_C1[{_9}].C1  \\\n",
       "0             {_8}            {_10}            {_10}             {_9}   \n",
       "1             {_7}            {_10}             {_7}            {_10}   \n",
       "2             {_7}             {_8}             {_9}             {_8}   \n",
       "3             {_6}            {_10}             {_9}             {_9}   \n",
       "4             {_7}             {_8}             {_8}             {_9}   \n",
       "\n",
       "  Grid_C1[{_10}].C1 Grid_C1[{_11}].C1 Grid_C1[{_12}].C1 Grid_C1[{_16}].C1  \n",
       "0              {_9}              {_8}               NaN              {_8}  \n",
       "1              {_7}              {_7}               NaN              {_8}  \n",
       "2              {_7}              {_6}               NaN              {_6}  \n",
       "3               NaN               NaN               NaN             {_10}  \n",
       "4              {_6}              {_7}               NaN              {_8}  "
      ]
     },
     "execution_count": 3,
     "metadata": {},
     "output_type": "execute_result"
    }
   ],
   "source": [
    "# IMPORT SURVEY DATA\n",
    "\n",
    "## `Raw data` tab clipped to store into df for the first time\n",
    "# df = pd.read_clipboard() \n",
    "# df.to_pickle('./survey.pkl') # Save raw data once as a pickle\n",
    "\n",
    "df = pd.read_pickle('./survey.pkl')\n",
    "df.head()"
   ]
  },
  {
   "cell_type": "code",
   "execution_count": 4,
   "metadata": {},
   "outputs": [
    {
     "data": {
      "text/html": [
       "<div>\n",
       "<style scoped>\n",
       "    .dataframe tbody tr th:only-of-type {\n",
       "        vertical-align: middle;\n",
       "    }\n",
       "\n",
       "    .dataframe tbody tr th {\n",
       "        vertical-align: top;\n",
       "    }\n",
       "\n",
       "    .dataframe thead th {\n",
       "        text-align: right;\n",
       "    }\n",
       "</style>\n",
       "<table border=\"1\" class=\"dataframe\">\n",
       "  <thead>\n",
       "    <tr style=\"text-align: right;\">\n",
       "      <th></th>\n",
       "      <th>RID</th>\n",
       "      <th>Specialty</th>\n",
       "      <th>Favourite</th>\n",
       "      <th>Unaided</th>\n",
       "      <th>Aided</th>\n",
       "      <th>3</th>\n",
       "      <th>5</th>\n",
       "      <th>7</th>\n",
       "      <th>9</th>\n",
       "      <th>10</th>\n",
       "      <th>11</th>\n",
       "      <th>12</th>\n",
       "      <th>16</th>\n",
       "    </tr>\n",
       "  </thead>\n",
       "  <tbody>\n",
       "    <tr>\n",
       "      <th>0</th>\n",
       "      <td>701</td>\n",
       "      <td>{_1}</td>\n",
       "      <td>{_7}</td>\n",
       "      <td>{_5,_9,_10,_3,_11,_16}</td>\n",
       "      <td>{_12,_101,_102}</td>\n",
       "      <td>{_8}</td>\n",
       "      <td>{_10}</td>\n",
       "      <td>{_10}</td>\n",
       "      <td>{_9}</td>\n",
       "      <td>{_9}</td>\n",
       "      <td>{_8}</td>\n",
       "      <td>NaN</td>\n",
       "      <td>{_8}</td>\n",
       "    </tr>\n",
       "    <tr>\n",
       "      <th>1</th>\n",
       "      <td>702</td>\n",
       "      <td>{_1}</td>\n",
       "      <td>{_5}</td>\n",
       "      <td>{_9,_10,_3}</td>\n",
       "      <td>{_7,_11,_16}</td>\n",
       "      <td>{_7}</td>\n",
       "      <td>{_10}</td>\n",
       "      <td>{_7}</td>\n",
       "      <td>{_10}</td>\n",
       "      <td>{_7}</td>\n",
       "      <td>{_7}</td>\n",
       "      <td>NaN</td>\n",
       "      <td>{_8}</td>\n",
       "    </tr>\n",
       "    <tr>\n",
       "      <th>2</th>\n",
       "      <td>703</td>\n",
       "      <td>{_1}</td>\n",
       "      <td>{_5}</td>\n",
       "      <td>{_7,_9,_3}</td>\n",
       "      <td>{_12,_101,_102,_10,_11,_16}</td>\n",
       "      <td>{_7}</td>\n",
       "      <td>{_8}</td>\n",
       "      <td>{_9}</td>\n",
       "      <td>{_8}</td>\n",
       "      <td>{_7}</td>\n",
       "      <td>{_6}</td>\n",
       "      <td>NaN</td>\n",
       "      <td>{_6}</td>\n",
       "    </tr>\n",
       "    <tr>\n",
       "      <th>3</th>\n",
       "      <td>704</td>\n",
       "      <td>{_3}</td>\n",
       "      <td>{_7}</td>\n",
       "      <td>{_9}</td>\n",
       "      <td>{_5,_3,_16}</td>\n",
       "      <td>{_6}</td>\n",
       "      <td>{_10}</td>\n",
       "      <td>{_9}</td>\n",
       "      <td>{_9}</td>\n",
       "      <td>NaN</td>\n",
       "      <td>NaN</td>\n",
       "      <td>NaN</td>\n",
       "      <td>{_10}</td>\n",
       "    </tr>\n",
       "    <tr>\n",
       "      <th>4</th>\n",
       "      <td>705</td>\n",
       "      <td>{_1}</td>\n",
       "      <td>{_9}</td>\n",
       "      <td>{_7,_5,_11}</td>\n",
       "      <td>{_101,_102,_10,_3,_16}</td>\n",
       "      <td>{_7}</td>\n",
       "      <td>{_8}</td>\n",
       "      <td>{_8}</td>\n",
       "      <td>{_9}</td>\n",
       "      <td>{_6}</td>\n",
       "      <td>{_7}</td>\n",
       "      <td>NaN</td>\n",
       "      <td>{_8}</td>\n",
       "    </tr>\n",
       "  </tbody>\n",
       "</table>\n",
       "</div>"
      ],
      "text/plain": [
       "   RID Specialty Favourite                 Unaided  \\\n",
       "0  701      {_1}      {_7}  {_5,_9,_10,_3,_11,_16}   \n",
       "1  702      {_1}      {_5}             {_9,_10,_3}   \n",
       "2  703      {_1}      {_5}              {_7,_9,_3}   \n",
       "3  704      {_3}      {_7}                    {_9}   \n",
       "4  705      {_1}      {_9}             {_7,_5,_11}   \n",
       "\n",
       "                         Aided     3      5      7      9    10    11   12  \\\n",
       "0              {_12,_101,_102}  {_8}  {_10}  {_10}   {_9}  {_9}  {_8}  NaN   \n",
       "1                 {_7,_11,_16}  {_7}  {_10}   {_7}  {_10}  {_7}  {_7}  NaN   \n",
       "2  {_12,_101,_102,_10,_11,_16}  {_7}   {_8}   {_9}   {_8}  {_7}  {_6}  NaN   \n",
       "3                  {_5,_3,_16}  {_6}  {_10}   {_9}   {_9}   NaN   NaN  NaN   \n",
       "4       {_101,_102,_10,_3,_16}  {_7}   {_8}   {_8}   {_9}  {_6}  {_7}  NaN   \n",
       "\n",
       "      16  \n",
       "0   {_8}  \n",
       "1   {_8}  \n",
       "2   {_6}  \n",
       "3  {_10}  \n",
       "4   {_8}  "
      ]
     },
     "execution_count": 4,
     "metadata": {},
     "output_type": "execute_result"
    }
   ],
   "source": [
    "# cleanup the columns of df\n",
    "df.columns = ['RID', 'Specialty', 'Favourite', 'Unaided', 'Aided'] + [int(s.split('_')[2].split('}')[0]) for s in df.columns[5:]]\n",
    "df.head()"
   ]
  },
  {
   "cell_type": "code",
   "execution_count": 5,
   "metadata": {},
   "outputs": [
    {
     "data": {
      "text/html": [
       "<div>\n",
       "<style scoped>\n",
       "    .dataframe tbody tr th:only-of-type {\n",
       "        vertical-align: middle;\n",
       "    }\n",
       "\n",
       "    .dataframe tbody tr th {\n",
       "        vertical-align: top;\n",
       "    }\n",
       "\n",
       "    .dataframe thead th {\n",
       "        text-align: right;\n",
       "    }\n",
       "</style>\n",
       "<table border=\"1\" class=\"dataframe\">\n",
       "  <thead>\n",
       "    <tr style=\"text-align: right;\">\n",
       "      <th></th>\n",
       "      <th>RID</th>\n",
       "      <th>Specialty</th>\n",
       "      <th>Favourite</th>\n",
       "      <th>Unaided</th>\n",
       "      <th>Aided</th>\n",
       "      <th>3</th>\n",
       "      <th>5</th>\n",
       "      <th>7</th>\n",
       "      <th>9</th>\n",
       "      <th>10</th>\n",
       "      <th>11</th>\n",
       "      <th>12</th>\n",
       "      <th>16</th>\n",
       "    </tr>\n",
       "  </thead>\n",
       "  <tbody>\n",
       "    <tr>\n",
       "      <th>0</th>\n",
       "      <td>701</td>\n",
       "      <td>1</td>\n",
       "      <td>7</td>\n",
       "      <td>5,9,10,3,11,16</td>\n",
       "      <td>12,101,102</td>\n",
       "      <td>8</td>\n",
       "      <td>10</td>\n",
       "      <td>10</td>\n",
       "      <td>9</td>\n",
       "      <td>9</td>\n",
       "      <td>8</td>\n",
       "      <td></td>\n",
       "      <td>8</td>\n",
       "    </tr>\n",
       "    <tr>\n",
       "      <th>1</th>\n",
       "      <td>702</td>\n",
       "      <td>1</td>\n",
       "      <td>5</td>\n",
       "      <td>9,10,3</td>\n",
       "      <td>7,11,16</td>\n",
       "      <td>7</td>\n",
       "      <td>10</td>\n",
       "      <td>7</td>\n",
       "      <td>10</td>\n",
       "      <td>7</td>\n",
       "      <td>7</td>\n",
       "      <td></td>\n",
       "      <td>8</td>\n",
       "    </tr>\n",
       "    <tr>\n",
       "      <th>2</th>\n",
       "      <td>703</td>\n",
       "      <td>1</td>\n",
       "      <td>5</td>\n",
       "      <td>7,9,3</td>\n",
       "      <td>12,101,102,10,11,16</td>\n",
       "      <td>7</td>\n",
       "      <td>8</td>\n",
       "      <td>9</td>\n",
       "      <td>8</td>\n",
       "      <td>7</td>\n",
       "      <td>6</td>\n",
       "      <td></td>\n",
       "      <td>6</td>\n",
       "    </tr>\n",
       "    <tr>\n",
       "      <th>3</th>\n",
       "      <td>704</td>\n",
       "      <td>3</td>\n",
       "      <td>7</td>\n",
       "      <td>9</td>\n",
       "      <td>5,3,16</td>\n",
       "      <td>6</td>\n",
       "      <td>10</td>\n",
       "      <td>9</td>\n",
       "      <td>9</td>\n",
       "      <td></td>\n",
       "      <td></td>\n",
       "      <td></td>\n",
       "      <td>10</td>\n",
       "    </tr>\n",
       "    <tr>\n",
       "      <th>4</th>\n",
       "      <td>705</td>\n",
       "      <td>1</td>\n",
       "      <td>9</td>\n",
       "      <td>7,5,11</td>\n",
       "      <td>101,102,10,3,16</td>\n",
       "      <td>7</td>\n",
       "      <td>8</td>\n",
       "      <td>8</td>\n",
       "      <td>9</td>\n",
       "      <td>6</td>\n",
       "      <td>7</td>\n",
       "      <td></td>\n",
       "      <td>8</td>\n",
       "    </tr>\n",
       "  </tbody>\n",
       "</table>\n",
       "</div>"
      ],
      "text/plain": [
       "   RID  Specialty  Favourite         Unaided                Aided  3   5   7  \\\n",
       "0  701          1          7  5,9,10,3,11,16           12,101,102  8  10  10   \n",
       "1  702          1          5          9,10,3              7,11,16  7  10   7   \n",
       "2  703          1          5           7,9,3  12,101,102,10,11,16  7   8   9   \n",
       "3  704          3          7               9               5,3,16  6  10   9   \n",
       "4  705          1          9          7,5,11      101,102,10,3,16  7   8   8   \n",
       "\n",
       "    9 10 11 12  16  \n",
       "0   9  9  8      8  \n",
       "1  10  7  7      8  \n",
       "2   8  7  6      6  \n",
       "3   9           10  \n",
       "4   9  6  7      8  "
      ]
     },
     "execution_count": 5,
     "metadata": {},
     "output_type": "execute_result"
    }
   ],
   "source": [
    "# Clean-up the {}_\n",
    "df = df.fillna('').replace(r'[^0-9,]','', regex=True)\n",
    "\n",
    "df = df.assign(Specialty=df.Specialty.astype('int'),\n",
    "          Favourite=df.Favourite.astype('int'))\n",
    "\n",
    "df.head()"
   ]
  },
  {
   "cell_type": "markdown",
   "metadata": {},
   "source": [
    "## Master data\n",
    "* The master dataframe is taken from `master_data` tab of the spreadsheet.\n",
    "* The `master_data` tab is constructed manually from `Brand List of Coding` sheet\n",
    "    - The only automation is in the `Drug` column, which uses `=LEFT(E2, SEARCH(\" (\", E2,1))` formula\n"
   ]
  },
  {
   "cell_type": "code",
   "execution_count": 6,
   "metadata": {},
   "outputs": [
    {
     "data": {
      "text/html": [
       "<div>\n",
       "<style scoped>\n",
       "    .dataframe tbody tr th:only-of-type {\n",
       "        vertical-align: middle;\n",
       "    }\n",
       "\n",
       "    .dataframe tbody tr th {\n",
       "        vertical-align: top;\n",
       "    }\n",
       "\n",
       "    .dataframe thead th {\n",
       "        text-align: right;\n",
       "    }\n",
       "</style>\n",
       "<table border=\"1\" class=\"dataframe\">\n",
       "  <thead>\n",
       "    <tr style=\"text-align: right;\">\n",
       "      <th></th>\n",
       "      <th>Code</th>\n",
       "      <th>Type</th>\n",
       "      <th>SubType</th>\n",
       "      <th>Drug</th>\n",
       "      <th>Label</th>\n",
       "      <th>Added_on</th>\n",
       "      <th>Remarks</th>\n",
       "    </tr>\n",
       "  </thead>\n",
       "  <tbody>\n",
       "    <tr>\n",
       "      <th>0</th>\n",
       "      <td>201</td>\n",
       "      <td>LAMA</td>\n",
       "      <td>Combi</td>\n",
       "      <td>Spiriva</td>\n",
       "      <td>Spiriva (Tiotropium) + ICS/ LABA FDC</td>\n",
       "      <td>Precodes</td>\n",
       "      <td>NaN</td>\n",
       "    </tr>\n",
       "    <tr>\n",
       "      <th>1</th>\n",
       "      <td>202</td>\n",
       "      <td>LAMA</td>\n",
       "      <td>Combi</td>\n",
       "      <td>Spiriva</td>\n",
       "      <td>Spiriva (Tiotropium) + Onbrez (Indacaterol)</td>\n",
       "      <td>Precodes</td>\n",
       "      <td>NaN</td>\n",
       "    </tr>\n",
       "    <tr>\n",
       "      <th>2</th>\n",
       "      <td>203</td>\n",
       "      <td>LAMA</td>\n",
       "      <td>Combi</td>\n",
       "      <td>Spiriva</td>\n",
       "      <td>Spiriva (Tiotropium) + Striverdi (Olodaterol)</td>\n",
       "      <td>Precodes</td>\n",
       "      <td>NaN</td>\n",
       "    </tr>\n",
       "    <tr>\n",
       "      <th>3</th>\n",
       "      <td>204</td>\n",
       "      <td>LAMA</td>\n",
       "      <td>Combi</td>\n",
       "      <td>Spiriva</td>\n",
       "      <td>Spiriva (Tiotropium) + ICS</td>\n",
       "      <td>Wave 3</td>\n",
       "      <td>NaN</td>\n",
       "    </tr>\n",
       "    <tr>\n",
       "      <th>4</th>\n",
       "      <td>205</td>\n",
       "      <td>LAMA</td>\n",
       "      <td>Combi</td>\n",
       "      <td>Spiriva</td>\n",
       "      <td>Spiriva (Tiotropium) + Ventolin (Albuterol)</td>\n",
       "      <td>Wave 3</td>\n",
       "      <td>NaN</td>\n",
       "    </tr>\n",
       "  </tbody>\n",
       "</table>\n",
       "</div>"
      ],
      "text/plain": [
       "   Code  Type SubType     Drug  \\\n",
       "0   201  LAMA   Combi  Spiriva   \n",
       "1   202  LAMA   Combi  Spiriva   \n",
       "2   203  LAMA   Combi  Spiriva   \n",
       "3   204  LAMA   Combi  Spiriva   \n",
       "4   205  LAMA   Combi  Spiriva   \n",
       "\n",
       "                                            Label  Added_on Remarks  \n",
       "0            Spiriva (Tiotropium) + ICS/ LABA FDC  Precodes     NaN  \n",
       "1     Spiriva (Tiotropium) + Onbrez (Indacaterol)  Precodes     NaN  \n",
       "2  Spiriva (Tiotropium) + Striverdi (Olodaterol)   Precodes     NaN  \n",
       "3                      Spiriva (Tiotropium) + ICS    Wave 3     NaN  \n",
       "4    Spiriva (Tiotropium) + Ventolin (Albuterol)     Wave 3     NaN  "
      ]
     },
     "execution_count": 6,
     "metadata": {},
     "output_type": "execute_result"
    }
   ],
   "source": [
    "# IMPORT MASTER DATA\n",
    "\n",
    "## 'master_data tab clipped to store into df_master for the first time\n",
    "# df_master = pd.read_clipboard()\n",
    "# df_master.to_pickle('./master.pkl')\n",
    "\n",
    "df_master = pd.read_pickle('./master.pkl')\n",
    "df_master.head()"
   ]
  },
  {
   "cell_type": "code",
   "execution_count": 7,
   "metadata": {},
   "outputs": [],
   "source": [
    "# Build the code -> drug dictionary\n",
    "code_drug = {str(k): v for k, v in df_master.set_index('Code').Drug.to_dict().items()}"
   ]
  },
  {
   "cell_type": "code",
   "execution_count": 8,
   "metadata": {},
   "outputs": [
    {
     "data": {
      "text/html": [
       "<div>\n",
       "<style scoped>\n",
       "    .dataframe tbody tr th:only-of-type {\n",
       "        vertical-align: middle;\n",
       "    }\n",
       "\n",
       "    .dataframe tbody tr th {\n",
       "        vertical-align: top;\n",
       "    }\n",
       "\n",
       "    .dataframe thead th {\n",
       "        text-align: right;\n",
       "    }\n",
       "</style>\n",
       "<table border=\"1\" class=\"dataframe\">\n",
       "  <thead>\n",
       "    <tr style=\"text-align: right;\">\n",
       "      <th></th>\n",
       "      <th>RID</th>\n",
       "      <th>Specialty</th>\n",
       "      <th>Favourite</th>\n",
       "      <th>Unaided</th>\n",
       "      <th>Aided</th>\n",
       "      <th>Onbrez</th>\n",
       "      <th>Seretide</th>\n",
       "      <th>Spiriva</th>\n",
       "      <th>Symbicort</th>\n",
       "      <th>Ultibro</th>\n",
       "      <th>Combivent</th>\n",
       "      <th>Relvar</th>\n",
       "      <th>Ventolin</th>\n",
       "    </tr>\n",
       "  </thead>\n",
       "  <tbody>\n",
       "    <tr>\n",
       "      <th>0</th>\n",
       "      <td>701</td>\n",
       "      <td>Pulmo</td>\n",
       "      <td>Spiriva</td>\n",
       "      <td>5,9,10,3,11,16</td>\n",
       "      <td>12,101,102</td>\n",
       "      <td>8</td>\n",
       "      <td>10</td>\n",
       "      <td>10</td>\n",
       "      <td>9</td>\n",
       "      <td>9</td>\n",
       "      <td>8</td>\n",
       "      <td></td>\n",
       "      <td>8</td>\n",
       "    </tr>\n",
       "    <tr>\n",
       "      <th>1</th>\n",
       "      <td>702</td>\n",
       "      <td>Pulmo</td>\n",
       "      <td>Seretide</td>\n",
       "      <td>9,10,3</td>\n",
       "      <td>7,11,16</td>\n",
       "      <td>7</td>\n",
       "      <td>10</td>\n",
       "      <td>7</td>\n",
       "      <td>10</td>\n",
       "      <td>7</td>\n",
       "      <td>7</td>\n",
       "      <td></td>\n",
       "      <td>8</td>\n",
       "    </tr>\n",
       "    <tr>\n",
       "      <th>2</th>\n",
       "      <td>703</td>\n",
       "      <td>Pulmo</td>\n",
       "      <td>Seretide</td>\n",
       "      <td>7,9,3</td>\n",
       "      <td>12,101,102,10,11,16</td>\n",
       "      <td>7</td>\n",
       "      <td>8</td>\n",
       "      <td>9</td>\n",
       "      <td>8</td>\n",
       "      <td>7</td>\n",
       "      <td>6</td>\n",
       "      <td></td>\n",
       "      <td>6</td>\n",
       "    </tr>\n",
       "    <tr>\n",
       "      <th>3</th>\n",
       "      <td>704</td>\n",
       "      <td>GP/IM</td>\n",
       "      <td>Spiriva</td>\n",
       "      <td>9</td>\n",
       "      <td>5,3,16</td>\n",
       "      <td>6</td>\n",
       "      <td>10</td>\n",
       "      <td>9</td>\n",
       "      <td>9</td>\n",
       "      <td></td>\n",
       "      <td></td>\n",
       "      <td></td>\n",
       "      <td>10</td>\n",
       "    </tr>\n",
       "    <tr>\n",
       "      <th>4</th>\n",
       "      <td>705</td>\n",
       "      <td>Pulmo</td>\n",
       "      <td>Symbicort</td>\n",
       "      <td>7,5,11</td>\n",
       "      <td>101,102,10,3,16</td>\n",
       "      <td>7</td>\n",
       "      <td>8</td>\n",
       "      <td>8</td>\n",
       "      <td>9</td>\n",
       "      <td>6</td>\n",
       "      <td>7</td>\n",
       "      <td></td>\n",
       "      <td>8</td>\n",
       "    </tr>\n",
       "  </tbody>\n",
       "</table>\n",
       "</div>"
      ],
      "text/plain": [
       "   RID Specialty  Favourite         Unaided                Aided Onbrez  \\\n",
       "0  701     Pulmo    Spiriva  5,9,10,3,11,16           12,101,102      8   \n",
       "1  702     Pulmo   Seretide          9,10,3              7,11,16      7   \n",
       "2  703     Pulmo   Seretide           7,9,3  12,101,102,10,11,16      7   \n",
       "3  704     GP/IM    Spiriva               9               5,3,16      6   \n",
       "4  705     Pulmo  Symbicort          7,5,11      101,102,10,3,16      7   \n",
       "\n",
       "  Seretide Spiriva Symbicort Ultibro Combivent Relvar Ventolin  \n",
       "0       10      10         9       9         8               8  \n",
       "1       10       7        10       7         7               8  \n",
       "2        8       9         8       7         6               6  \n",
       "3       10       9         9                                10  \n",
       "4        8       8         9       6         7               8  "
      ]
     },
     "execution_count": 8,
     "metadata": {},
     "output_type": "execute_result"
    }
   ],
   "source": [
    "# Rename df columns to reflect drug names\n",
    "df.columns = list(df.columns[:5])+[code_drug.get(str(s), str(s)) for s in df.columns[5:]]\n",
    "\n",
    "# Determine the Specialty and Favourite\n",
    "specialty = {1: 'Pulmo', 3: 'GP/IM'}\n",
    "df = df.assign(Specialty=df.Specialty.astype('int').map(specialty),\n",
    "          Favourite=df.Favourite.astype('str').map(code_drug))\n",
    "\n",
    "df.head()"
   ]
  },
  {
   "cell_type": "markdown",
   "metadata": {},
   "source": [
    "# Perspectives\n",
    "## Drug awareness\n",
    "* [x] How many `\"inhaled maintenance therapies\"` drugs are there in the marketplace?\n",
    "    - [x] How many of them have been addressed by physicians in this sample?\n",
    "* What is the split of these therapies?\n",
    "    - By drug type (LAMA / LABA, etc)\n",
    "    - By drug sub-type (mono / combi)\n",
    "\n",
    "## Drug satisfaction\n",
    "* How does the distribution of Favourites look like?\n",
    "    - By physician type\n",
    "    - By drug type\n",
    "* Which drug is the clear winner?\n",
    "* Which drug-type (mono or combi) has better satisfaction rating?"
   ]
  },
  {
   "cell_type": "markdown",
   "metadata": {},
   "source": [
    "# Analysis"
   ]
  },
  {
   "cell_type": "markdown",
   "metadata": {},
   "source": [
    "## Market Awareness\n",
    "### Surveyed drugs\n",
    "* Demonstrated in a single pie-chart within Jupyter notebook"
   ]
  },
  {
   "cell_type": "code",
   "execution_count": 9,
   "metadata": {
    "tags": []
   },
   "outputs": [
    {
     "name": "stdout",
     "output_type": "stream",
     "text": [
      "There are 58 inhaled-therapy drugs in the marketplace.\n",
      "\n",
      "Out of 58 drugs, 13 have been addressed by physicians in this paper\n"
     ]
    },
    {
     "data": {
      "application/vnd.plotly.v1+json": {
       "config": {
        "plotlyServerURL": "https://plot.ly"
       },
       "data": [
        {
         "domain": {
          "x": [
           0,
           1
          ],
          "y": [
           0,
           1
          ]
         },
         "hovertemplate": "index=%{label}<br>value=%{value}<extra></extra>",
         "labels": [
          "infocus",
          "oofocus"
         ],
         "legendgroup": "",
         "name": "",
         "showlegend": true,
         "type": "pie",
         "values": [
          13,
          45
         ]
        }
       ],
       "layout": {
        "height": 500,
        "legend": {
         "tracegroupgap": 0,
         "traceorder": "reversed"
        },
        "template": {
         "data": {
          "bar": [
           {
            "error_x": {
             "color": "#2a3f5f"
            },
            "error_y": {
             "color": "#2a3f5f"
            },
            "marker": {
             "line": {
              "color": "#E5ECF6",
              "width": 0.5
             }
            },
            "type": "bar"
           }
          ],
          "barpolar": [
           {
            "marker": {
             "line": {
              "color": "#E5ECF6",
              "width": 0.5
             }
            },
            "type": "barpolar"
           }
          ],
          "carpet": [
           {
            "aaxis": {
             "endlinecolor": "#2a3f5f",
             "gridcolor": "white",
             "linecolor": "white",
             "minorgridcolor": "white",
             "startlinecolor": "#2a3f5f"
            },
            "baxis": {
             "endlinecolor": "#2a3f5f",
             "gridcolor": "white",
             "linecolor": "white",
             "minorgridcolor": "white",
             "startlinecolor": "#2a3f5f"
            },
            "type": "carpet"
           }
          ],
          "choropleth": [
           {
            "colorbar": {
             "outlinewidth": 0,
             "ticks": ""
            },
            "type": "choropleth"
           }
          ],
          "contour": [
           {
            "colorbar": {
             "outlinewidth": 0,
             "ticks": ""
            },
            "colorscale": [
             [
              0,
              "#0d0887"
             ],
             [
              0.1111111111111111,
              "#46039f"
             ],
             [
              0.2222222222222222,
              "#7201a8"
             ],
             [
              0.3333333333333333,
              "#9c179e"
             ],
             [
              0.4444444444444444,
              "#bd3786"
             ],
             [
              0.5555555555555556,
              "#d8576b"
             ],
             [
              0.6666666666666666,
              "#ed7953"
             ],
             [
              0.7777777777777778,
              "#fb9f3a"
             ],
             [
              0.8888888888888888,
              "#fdca26"
             ],
             [
              1,
              "#f0f921"
             ]
            ],
            "type": "contour"
           }
          ],
          "contourcarpet": [
           {
            "colorbar": {
             "outlinewidth": 0,
             "ticks": ""
            },
            "type": "contourcarpet"
           }
          ],
          "heatmap": [
           {
            "colorbar": {
             "outlinewidth": 0,
             "ticks": ""
            },
            "colorscale": [
             [
              0,
              "#0d0887"
             ],
             [
              0.1111111111111111,
              "#46039f"
             ],
             [
              0.2222222222222222,
              "#7201a8"
             ],
             [
              0.3333333333333333,
              "#9c179e"
             ],
             [
              0.4444444444444444,
              "#bd3786"
             ],
             [
              0.5555555555555556,
              "#d8576b"
             ],
             [
              0.6666666666666666,
              "#ed7953"
             ],
             [
              0.7777777777777778,
              "#fb9f3a"
             ],
             [
              0.8888888888888888,
              "#fdca26"
             ],
             [
              1,
              "#f0f921"
             ]
            ],
            "type": "heatmap"
           }
          ],
          "heatmapgl": [
           {
            "colorbar": {
             "outlinewidth": 0,
             "ticks": ""
            },
            "colorscale": [
             [
              0,
              "#0d0887"
             ],
             [
              0.1111111111111111,
              "#46039f"
             ],
             [
              0.2222222222222222,
              "#7201a8"
             ],
             [
              0.3333333333333333,
              "#9c179e"
             ],
             [
              0.4444444444444444,
              "#bd3786"
             ],
             [
              0.5555555555555556,
              "#d8576b"
             ],
             [
              0.6666666666666666,
              "#ed7953"
             ],
             [
              0.7777777777777778,
              "#fb9f3a"
             ],
             [
              0.8888888888888888,
              "#fdca26"
             ],
             [
              1,
              "#f0f921"
             ]
            ],
            "type": "heatmapgl"
           }
          ],
          "histogram": [
           {
            "marker": {
             "colorbar": {
              "outlinewidth": 0,
              "ticks": ""
             }
            },
            "type": "histogram"
           }
          ],
          "histogram2d": [
           {
            "colorbar": {
             "outlinewidth": 0,
             "ticks": ""
            },
            "colorscale": [
             [
              0,
              "#0d0887"
             ],
             [
              0.1111111111111111,
              "#46039f"
             ],
             [
              0.2222222222222222,
              "#7201a8"
             ],
             [
              0.3333333333333333,
              "#9c179e"
             ],
             [
              0.4444444444444444,
              "#bd3786"
             ],
             [
              0.5555555555555556,
              "#d8576b"
             ],
             [
              0.6666666666666666,
              "#ed7953"
             ],
             [
              0.7777777777777778,
              "#fb9f3a"
             ],
             [
              0.8888888888888888,
              "#fdca26"
             ],
             [
              1,
              "#f0f921"
             ]
            ],
            "type": "histogram2d"
           }
          ],
          "histogram2dcontour": [
           {
            "colorbar": {
             "outlinewidth": 0,
             "ticks": ""
            },
            "colorscale": [
             [
              0,
              "#0d0887"
             ],
             [
              0.1111111111111111,
              "#46039f"
             ],
             [
              0.2222222222222222,
              "#7201a8"
             ],
             [
              0.3333333333333333,
              "#9c179e"
             ],
             [
              0.4444444444444444,
              "#bd3786"
             ],
             [
              0.5555555555555556,
              "#d8576b"
             ],
             [
              0.6666666666666666,
              "#ed7953"
             ],
             [
              0.7777777777777778,
              "#fb9f3a"
             ],
             [
              0.8888888888888888,
              "#fdca26"
             ],
             [
              1,
              "#f0f921"
             ]
            ],
            "type": "histogram2dcontour"
           }
          ],
          "mesh3d": [
           {
            "colorbar": {
             "outlinewidth": 0,
             "ticks": ""
            },
            "type": "mesh3d"
           }
          ],
          "parcoords": [
           {
            "line": {
             "colorbar": {
              "outlinewidth": 0,
              "ticks": ""
             }
            },
            "type": "parcoords"
           }
          ],
          "pie": [
           {
            "automargin": true,
            "type": "pie"
           }
          ],
          "scatter": [
           {
            "marker": {
             "colorbar": {
              "outlinewidth": 0,
              "ticks": ""
             }
            },
            "type": "scatter"
           }
          ],
          "scatter3d": [
           {
            "line": {
             "colorbar": {
              "outlinewidth": 0,
              "ticks": ""
             }
            },
            "marker": {
             "colorbar": {
              "outlinewidth": 0,
              "ticks": ""
             }
            },
            "type": "scatter3d"
           }
          ],
          "scattercarpet": [
           {
            "marker": {
             "colorbar": {
              "outlinewidth": 0,
              "ticks": ""
             }
            },
            "type": "scattercarpet"
           }
          ],
          "scattergeo": [
           {
            "marker": {
             "colorbar": {
              "outlinewidth": 0,
              "ticks": ""
             }
            },
            "type": "scattergeo"
           }
          ],
          "scattergl": [
           {
            "marker": {
             "colorbar": {
              "outlinewidth": 0,
              "ticks": ""
             }
            },
            "type": "scattergl"
           }
          ],
          "scattermapbox": [
           {
            "marker": {
             "colorbar": {
              "outlinewidth": 0,
              "ticks": ""
             }
            },
            "type": "scattermapbox"
           }
          ],
          "scatterpolar": [
           {
            "marker": {
             "colorbar": {
              "outlinewidth": 0,
              "ticks": ""
             }
            },
            "type": "scatterpolar"
           }
          ],
          "scatterpolargl": [
           {
            "marker": {
             "colorbar": {
              "outlinewidth": 0,
              "ticks": ""
             }
            },
            "type": "scatterpolargl"
           }
          ],
          "scatterternary": [
           {
            "marker": {
             "colorbar": {
              "outlinewidth": 0,
              "ticks": ""
             }
            },
            "type": "scatterternary"
           }
          ],
          "surface": [
           {
            "colorbar": {
             "outlinewidth": 0,
             "ticks": ""
            },
            "colorscale": [
             [
              0,
              "#0d0887"
             ],
             [
              0.1111111111111111,
              "#46039f"
             ],
             [
              0.2222222222222222,
              "#7201a8"
             ],
             [
              0.3333333333333333,
              "#9c179e"
             ],
             [
              0.4444444444444444,
              "#bd3786"
             ],
             [
              0.5555555555555556,
              "#d8576b"
             ],
             [
              0.6666666666666666,
              "#ed7953"
             ],
             [
              0.7777777777777778,
              "#fb9f3a"
             ],
             [
              0.8888888888888888,
              "#fdca26"
             ],
             [
              1,
              "#f0f921"
             ]
            ],
            "type": "surface"
           }
          ],
          "table": [
           {
            "cells": {
             "fill": {
              "color": "#EBF0F8"
             },
             "line": {
              "color": "white"
             }
            },
            "header": {
             "fill": {
              "color": "#C8D4E3"
             },
             "line": {
              "color": "white"
             }
            },
            "type": "table"
           }
          ]
         },
         "layout": {
          "annotationdefaults": {
           "arrowcolor": "#2a3f5f",
           "arrowhead": 0,
           "arrowwidth": 1
          },
          "coloraxis": {
           "colorbar": {
            "outlinewidth": 0,
            "ticks": ""
           }
          },
          "colorscale": {
           "diverging": [
            [
             0,
             "#8e0152"
            ],
            [
             0.1,
             "#c51b7d"
            ],
            [
             0.2,
             "#de77ae"
            ],
            [
             0.3,
             "#f1b6da"
            ],
            [
             0.4,
             "#fde0ef"
            ],
            [
             0.5,
             "#f7f7f7"
            ],
            [
             0.6,
             "#e6f5d0"
            ],
            [
             0.7,
             "#b8e186"
            ],
            [
             0.8,
             "#7fbc41"
            ],
            [
             0.9,
             "#4d9221"
            ],
            [
             1,
             "#276419"
            ]
           ],
           "sequential": [
            [
             0,
             "#0d0887"
            ],
            [
             0.1111111111111111,
             "#46039f"
            ],
            [
             0.2222222222222222,
             "#7201a8"
            ],
            [
             0.3333333333333333,
             "#9c179e"
            ],
            [
             0.4444444444444444,
             "#bd3786"
            ],
            [
             0.5555555555555556,
             "#d8576b"
            ],
            [
             0.6666666666666666,
             "#ed7953"
            ],
            [
             0.7777777777777778,
             "#fb9f3a"
            ],
            [
             0.8888888888888888,
             "#fdca26"
            ],
            [
             1,
             "#f0f921"
            ]
           ],
           "sequentialminus": [
            [
             0,
             "#0d0887"
            ],
            [
             0.1111111111111111,
             "#46039f"
            ],
            [
             0.2222222222222222,
             "#7201a8"
            ],
            [
             0.3333333333333333,
             "#9c179e"
            ],
            [
             0.4444444444444444,
             "#bd3786"
            ],
            [
             0.5555555555555556,
             "#d8576b"
            ],
            [
             0.6666666666666666,
             "#ed7953"
            ],
            [
             0.7777777777777778,
             "#fb9f3a"
            ],
            [
             0.8888888888888888,
             "#fdca26"
            ],
            [
             1,
             "#f0f921"
            ]
           ]
          },
          "colorway": [
           "#636efa",
           "#EF553B",
           "#00cc96",
           "#ab63fa",
           "#FFA15A",
           "#19d3f3",
           "#FF6692",
           "#B6E880",
           "#FF97FF",
           "#FECB52"
          ],
          "font": {
           "color": "#2a3f5f"
          },
          "geo": {
           "bgcolor": "white",
           "lakecolor": "white",
           "landcolor": "#E5ECF6",
           "showlakes": true,
           "showland": true,
           "subunitcolor": "white"
          },
          "hoverlabel": {
           "align": "left"
          },
          "hovermode": "closest",
          "mapbox": {
           "style": "light"
          },
          "paper_bgcolor": "white",
          "plot_bgcolor": "#E5ECF6",
          "polar": {
           "angularaxis": {
            "gridcolor": "white",
            "linecolor": "white",
            "ticks": ""
           },
           "bgcolor": "#E5ECF6",
           "radialaxis": {
            "gridcolor": "white",
            "linecolor": "white",
            "ticks": ""
           }
          },
          "scene": {
           "xaxis": {
            "backgroundcolor": "#E5ECF6",
            "gridcolor": "white",
            "gridwidth": 2,
            "linecolor": "white",
            "showbackground": true,
            "ticks": "",
            "zerolinecolor": "white"
           },
           "yaxis": {
            "backgroundcolor": "#E5ECF6",
            "gridcolor": "white",
            "gridwidth": 2,
            "linecolor": "white",
            "showbackground": true,
            "ticks": "",
            "zerolinecolor": "white"
           },
           "zaxis": {
            "backgroundcolor": "#E5ECF6",
            "gridcolor": "white",
            "gridwidth": 2,
            "linecolor": "white",
            "showbackground": true,
            "ticks": "",
            "zerolinecolor": "white"
           }
          },
          "shapedefaults": {
           "line": {
            "color": "#2a3f5f"
           }
          },
          "ternary": {
           "aaxis": {
            "gridcolor": "white",
            "linecolor": "white",
            "ticks": ""
           },
           "baxis": {
            "gridcolor": "white",
            "linecolor": "white",
            "ticks": ""
           },
           "bgcolor": "#E5ECF6",
           "caxis": {
            "gridcolor": "white",
            "linecolor": "white",
            "ticks": ""
           }
          },
          "title": {
           "x": 0.05
          },
          "xaxis": {
           "automargin": true,
           "gridcolor": "white",
           "linecolor": "white",
           "ticks": "",
           "title": {
            "standoff": 15
           },
           "zerolinecolor": "white",
           "zerolinewidth": 2
          },
          "yaxis": {
           "automargin": true,
           "gridcolor": "white",
           "linecolor": "white",
           "ticks": "",
           "title": {
            "standoff": 15
           },
           "zerolinecolor": "white",
           "zerolinewidth": 2
          }
         }
        },
        "title": {
         "text": "13 out of 58 drugs received a survey response"
        },
        "width": 500
       }
      },
      "image/png": "[encoded data removed]"
     },
     "metadata": {},
     "output_type": "display_data"
    }
   ],
   "source": [
    "# The marketplace\n",
    "total_drugs = df_master.Code.unique()\n",
    "print(f'There are {len(total_drugs)} inhaled-therapy drugs in the marketplace.\\n')\n",
    "\n",
    "# Focus - Addressed v/s unaddressed drugs\n",
    "unaided = [j for i in df.Unaided.apply(lambda x: [code_drug.get(y, y) for y in x.split(',')]).to_list() for j in i]\n",
    "aided = [j for i in df.Aided.apply(lambda x: [code_drug.get(y, y) for y in x.split(',')]).to_list() for j in i]\n",
    "\n",
    "addressed_drugs = set(df.Favourite.to_list()+unaided+aided)\n",
    "\n",
    "print(f'Out of {len(total_drugs)} drugs, {len(addressed_drugs)} have been addressed by physicians in this paper')\n",
    "\n",
    "# ...build a series for pie\n",
    "scope = pd.Series({'infocus': len(addressed_drugs), 'oofocus': len(total_drugs) - len(addressed_drugs)}, name='survey')\n",
    "\n",
    "focus_pie = px.pie(scope, names=scope.index, values=scope.values, height=500, width=500,\n",
    "      title=f'{len(addressed_drugs)} out of {len(total_drugs)} drugs received a survey response')\n",
    "\n",
    "# ... reverse layout to show infocus first!\n",
    "focus_pie.update_layout(legend={'traceorder':'reversed'})\n",
    "\n",
    "focus_pie.show()"
   ]
  },
  {
   "cell_type": "code",
   "execution_count": 10,
   "metadata": {},
   "outputs": [],
   "source": [
    "## Uncomment following code to make an HTML file...\n",
    "## This makes a pretty huge file of 3 MB for one graph!\n",
    "# pio.write_html(focus_pie, './web/z_survey_pie.html', auto_open=True)"
   ]
  },
  {
   "cell_type": "markdown",
   "metadata": {},
   "source": [
    "### Therapy split\n",
    "* Show split of the therapy by drug-type and combination"
   ]
  },
  {
   "cell_type": "code",
   "execution_count": 11,
   "metadata": {},
   "outputs": [],
   "source": [
    "s_type = df_master.Type.value_counts() # Type series\n",
    "s_combi = df_master.SubType.value_counts() # SubType series\n",
    "s_drugs = df_master.Drug.value_counts() # Drug series\n",
    "\n",
    "# Create traces\n",
    "type_pie = px.pie(s_type, values=s_type.values, names=s_type.index, title='Type')\n",
    "combi_pie = px.pie(s_combi, values=s_combi.values, names=s_combi.index, title='Combination')\n",
    "drug_pie = px.pie(s_drugs, values=s_drugs.values, names=s_drugs.index, title='Drugs')"
   ]
  },
  {
   "cell_type": "markdown",
   "metadata": {},
   "source": [
    "#### Split of drug familiarity"
   ]
  },
  {
   "cell_type": "code",
   "execution_count": 12,
   "metadata": {},
   "outputs": [
    {
     "data": {
      "application/vnd.plotly.v1+json": {
       "config": {
        "plotlyServerURL": "https://plot.ly"
       },
       "data": [
        {
         "domain": {
          "x": [
           0,
           1
          ],
          "y": [
           0,
           1
          ]
         },
         "hovertemplate": "index=%{label}<br>value=%{value}<extra></extra>",
         "labels": [
          "Spiriva",
          "Combivent",
          "Ultibro",
          "Anoro",
          "Spiolto",
          "Ventolin",
          "Seebri",
          "Incruse",
          "Eklira",
          "Berodual",
          "Trelegy",
          "Atrovent",
          "Budesonide",
          "Other_combi",
          "Meptin",
          "Striverdi",
          "Glycoair",
          "Relvar",
          "Benralizumab",
          "Flixotide",
          "Salmeflo",
          "Other_mono",
          "Inflammide",
          "Flutiform",
          "Duaklir",
          "Pulmodual",
          "Onbrez",
          "Duavent",
          "Vilanterol",
          "Fluticasone",
          "Pulmicort",
          "Symbicort",
          "Obucort",
          "FDC",
          "Foster",
          "Seretide"
         ],
         "legendgroup": "",
         "name": "",
         "showlegend": true,
         "type": "pie",
         "values": [
          8,
          3,
          3,
          3,
          3,
          3,
          3,
          2,
          2,
          2,
          1,
          1,
          1,
          1,
          1,
          1,
          1,
          1,
          1,
          1,
          1,
          1,
          1,
          1,
          1,
          1,
          1,
          1,
          1,
          1,
          1,
          1,
          1,
          1,
          1,
          1
         ]
        }
       ],
       "layout": {
        "autosize": true,
        "legend": {
         "tracegroupgap": 0
        },
        "template": {
         "data": {
          "bar": [
           {
            "error_x": {
             "color": "#2a3f5f"
            },
            "error_y": {
             "color": "#2a3f5f"
            },
            "marker": {
             "line": {
              "color": "#E5ECF6",
              "width": 0.5
             }
            },
            "type": "bar"
           }
          ],
          "barpolar": [
           {
            "marker": {
             "line": {
              "color": "#E5ECF6",
              "width": 0.5
             }
            },
            "type": "barpolar"
           }
          ],
          "carpet": [
           {
            "aaxis": {
             "endlinecolor": "#2a3f5f",
             "gridcolor": "white",
             "linecolor": "white",
             "minorgridcolor": "white",
             "startlinecolor": "#2a3f5f"
            },
            "baxis": {
             "endlinecolor": "#2a3f5f",
             "gridcolor": "white",
             "linecolor": "white",
             "minorgridcolor": "white",
             "startlinecolor": "#2a3f5f"
            },
            "type": "carpet"
           }
          ],
          "choropleth": [
           {
            "colorbar": {
             "outlinewidth": 0,
             "ticks": ""
            },
            "type": "choropleth"
           }
          ],
          "contour": [
           {
            "colorbar": {
             "outlinewidth": 0,
             "ticks": ""
            },
            "colorscale": [
             [
              0,
              "#0d0887"
             ],
             [
              0.1111111111111111,
              "#46039f"
             ],
             [
              0.2222222222222222,
              "#7201a8"
             ],
             [
              0.3333333333333333,
              "#9c179e"
             ],
             [
              0.4444444444444444,
              "#bd3786"
             ],
             [
              0.5555555555555556,
              "#d8576b"
             ],
             [
              0.6666666666666666,
              "#ed7953"
             ],
             [
              0.7777777777777778,
              "#fb9f3a"
             ],
             [
              0.8888888888888888,
              "#fdca26"
             ],
             [
              1,
              "#f0f921"
             ]
            ],
            "type": "contour"
           }
          ],
          "contourcarpet": [
           {
            "colorbar": {
             "outlinewidth": 0,
             "ticks": ""
            },
            "type": "contourcarpet"
           }
          ],
          "heatmap": [
           {
            "colorbar": {
             "outlinewidth": 0,
             "ticks": ""
            },
            "colorscale": [
             [
              0,
              "#0d0887"
             ],
             [
              0.1111111111111111,
              "#46039f"
             ],
             [
              0.2222222222222222,
              "#7201a8"
             ],
             [
              0.3333333333333333,
              "#9c179e"
             ],
             [
              0.4444444444444444,
              "#bd3786"
             ],
             [
              0.5555555555555556,
              "#d8576b"
             ],
             [
              0.6666666666666666,
              "#ed7953"
             ],
             [
              0.7777777777777778,
              "#fb9f3a"
             ],
             [
              0.8888888888888888,
              "#fdca26"
             ],
             [
              1,
              "#f0f921"
             ]
            ],
            "type": "heatmap"
           }
          ],
          "heatmapgl": [
           {
            "colorbar": {
             "outlinewidth": 0,
             "ticks": ""
            },
            "colorscale": [
             [
              0,
              "#0d0887"
             ],
             [
              0.1111111111111111,
              "#46039f"
             ],
             [
              0.2222222222222222,
              "#7201a8"
             ],
             [
              0.3333333333333333,
              "#9c179e"
             ],
             [
              0.4444444444444444,
              "#bd3786"
             ],
             [
              0.5555555555555556,
              "#d8576b"
             ],
             [
              0.6666666666666666,
              "#ed7953"
             ],
             [
              0.7777777777777778,
              "#fb9f3a"
             ],
             [
              0.8888888888888888,
              "#fdca26"
             ],
             [
              1,
              "#f0f921"
             ]
            ],
            "type": "heatmapgl"
           }
          ],
          "histogram": [
           {
            "marker": {
             "colorbar": {
              "outlinewidth": 0,
              "ticks": ""
             }
            },
            "type": "histogram"
           }
          ],
          "histogram2d": [
           {
            "colorbar": {
             "outlinewidth": 0,
             "ticks": ""
            },
            "colorscale": [
             [
              0,
              "#0d0887"
             ],
             [
              0.1111111111111111,
              "#46039f"
             ],
             [
              0.2222222222222222,
              "#7201a8"
             ],
             [
              0.3333333333333333,
              "#9c179e"
             ],
             [
              0.4444444444444444,
              "#bd3786"
             ],
             [
              0.5555555555555556,
              "#d8576b"
             ],
             [
              0.6666666666666666,
              "#ed7953"
             ],
             [
              0.7777777777777778,
              "#fb9f3a"
             ],
             [
              0.8888888888888888,
              "#fdca26"
             ],
             [
              1,
              "#f0f921"
             ]
            ],
            "type": "histogram2d"
           }
          ],
          "histogram2dcontour": [
           {
            "colorbar": {
             "outlinewidth": 0,
             "ticks": ""
            },
            "colorscale": [
             [
              0,
              "#0d0887"
             ],
             [
              0.1111111111111111,
              "#46039f"
             ],
             [
              0.2222222222222222,
              "#7201a8"
             ],
             [
              0.3333333333333333,
              "#9c179e"
             ],
             [
              0.4444444444444444,
              "#bd3786"
             ],
             [
              0.5555555555555556,
              "#d8576b"
             ],
             [
              0.6666666666666666,
              "#ed7953"
             ],
             [
              0.7777777777777778,
              "#fb9f3a"
             ],
             [
              0.8888888888888888,
              "#fdca26"
             ],
             [
              1,
              "#f0f921"
             ]
            ],
            "type": "histogram2dcontour"
           }
          ],
          "mesh3d": [
           {
            "colorbar": {
             "outlinewidth": 0,
             "ticks": ""
            },
            "type": "mesh3d"
           }
          ],
          "parcoords": [
           {
            "line": {
             "colorbar": {
              "outlinewidth": 0,
              "ticks": ""
             }
            },
            "type": "parcoords"
           }
          ],
          "pie": [
           {
            "automargin": true,
            "type": "pie"
           }
          ],
          "scatter": [
           {
            "marker": {
             "colorbar": {
              "outlinewidth": 0,
              "ticks": ""
             }
            },
            "type": "scatter"
           }
          ],
          "scatter3d": [
           {
            "line": {
             "colorbar": {
              "outlinewidth": 0,
              "ticks": ""
             }
            },
            "marker": {
             "colorbar": {
              "outlinewidth": 0,
              "ticks": ""
             }
            },
            "type": "scatter3d"
           }
          ],
          "scattercarpet": [
           {
            "marker": {
             "colorbar": {
              "outlinewidth": 0,
              "ticks": ""
             }
            },
            "type": "scattercarpet"
           }
          ],
          "scattergeo": [
           {
            "marker": {
             "colorbar": {
              "outlinewidth": 0,
              "ticks": ""
             }
            },
            "type": "scattergeo"
           }
          ],
          "scattergl": [
           {
            "marker": {
             "colorbar": {
              "outlinewidth": 0,
              "ticks": ""
             }
            },
            "type": "scattergl"
           }
          ],
          "scattermapbox": [
           {
            "marker": {
             "colorbar": {
              "outlinewidth": 0,
              "ticks": ""
             }
            },
            "type": "scattermapbox"
           }
          ],
          "scatterpolar": [
           {
            "marker": {
             "colorbar": {
              "outlinewidth": 0,
              "ticks": ""
             }
            },
            "type": "scatterpolar"
           }
          ],
          "scatterpolargl": [
           {
            "marker": {
             "colorbar": {
              "outlinewidth": 0,
              "ticks": ""
             }
            },
            "type": "scatterpolargl"
           }
          ],
          "scatterternary": [
           {
            "marker": {
             "colorbar": {
              "outlinewidth": 0,
              "ticks": ""
             }
            },
            "type": "scatterternary"
           }
          ],
          "surface": [
           {
            "colorbar": {
             "outlinewidth": 0,
             "ticks": ""
            },
            "colorscale": [
             [
              0,
              "#0d0887"
             ],
             [
              0.1111111111111111,
              "#46039f"
             ],
             [
              0.2222222222222222,
              "#7201a8"
             ],
             [
              0.3333333333333333,
              "#9c179e"
             ],
             [
              0.4444444444444444,
              "#bd3786"
             ],
             [
              0.5555555555555556,
              "#d8576b"
             ],
             [
              0.6666666666666666,
              "#ed7953"
             ],
             [
              0.7777777777777778,
              "#fb9f3a"
             ],
             [
              0.8888888888888888,
              "#fdca26"
             ],
             [
              1,
              "#f0f921"
             ]
            ],
            "type": "surface"
           }
          ],
          "table": [
           {
            "cells": {
             "fill": {
              "color": "#EBF0F8"
             },
             "line": {
              "color": "white"
             }
            },
            "header": {
             "fill": {
              "color": "#C8D4E3"
             },
             "line": {
              "color": "white"
             }
            },
            "type": "table"
           }
          ]
         },
         "layout": {
          "annotationdefaults": {
           "arrowcolor": "#2a3f5f",
           "arrowhead": 0,
           "arrowwidth": 1
          },
          "coloraxis": {
           "colorbar": {
            "outlinewidth": 0,
            "ticks": ""
           }
          },
          "colorscale": {
           "diverging": [
            [
             0,
             "#8e0152"
            ],
            [
             0.1,
             "#c51b7d"
            ],
            [
             0.2,
             "#de77ae"
            ],
            [
             0.3,
             "#f1b6da"
            ],
            [
             0.4,
             "#fde0ef"
            ],
            [
             0.5,
             "#f7f7f7"
            ],
            [
             0.6,
             "#e6f5d0"
            ],
            [
             0.7,
             "#b8e186"
            ],
            [
             0.8,
             "#7fbc41"
            ],
            [
             0.9,
             "#4d9221"
            ],
            [
             1,
             "#276419"
            ]
           ],
           "sequential": [
            [
             0,
             "#0d0887"
            ],
            [
             0.1111111111111111,
             "#46039f"
            ],
            [
             0.2222222222222222,
             "#7201a8"
            ],
            [
             0.3333333333333333,
             "#9c179e"
            ],
            [
             0.4444444444444444,
             "#bd3786"
            ],
            [
             0.5555555555555556,
             "#d8576b"
            ],
            [
             0.6666666666666666,
             "#ed7953"
            ],
            [
             0.7777777777777778,
             "#fb9f3a"
            ],
            [
             0.8888888888888888,
             "#fdca26"
            ],
            [
             1,
             "#f0f921"
            ]
           ],
           "sequentialminus": [
            [
             0,
             "#0d0887"
            ],
            [
             0.1111111111111111,
             "#46039f"
            ],
            [
             0.2222222222222222,
             "#7201a8"
            ],
            [
             0.3333333333333333,
             "#9c179e"
            ],
            [
             0.4444444444444444,
             "#bd3786"
            ],
            [
             0.5555555555555556,
             "#d8576b"
            ],
            [
             0.6666666666666666,
             "#ed7953"
            ],
            [
             0.7777777777777778,
             "#fb9f3a"
            ],
            [
             0.8888888888888888,
             "#fdca26"
            ],
            [
             1,
             "#f0f921"
            ]
           ]
          },
          "colorway": [
           "#636efa",
           "#EF553B",
           "#00cc96",
           "#ab63fa",
           "#FFA15A",
           "#19d3f3",
           "#FF6692",
           "#B6E880",
           "#FF97FF",
           "#FECB52"
          ],
          "font": {
           "color": "#2a3f5f"
          },
          "geo": {
           "bgcolor": "white",
           "lakecolor": "white",
           "landcolor": "#E5ECF6",
           "showlakes": true,
           "showland": true,
           "subunitcolor": "white"
          },
          "hoverlabel": {
           "align": "left"
          },
          "hovermode": "closest",
          "mapbox": {
           "style": "light"
          },
          "paper_bgcolor": "white",
          "plot_bgcolor": "#E5ECF6",
          "polar": {
           "angularaxis": {
            "gridcolor": "white",
            "linecolor": "white",
            "ticks": ""
           },
           "bgcolor": "#E5ECF6",
           "radialaxis": {
            "gridcolor": "white",
            "linecolor": "white",
            "ticks": ""
           }
          },
          "scene": {
           "xaxis": {
            "backgroundcolor": "#E5ECF6",
            "gridcolor": "white",
            "gridwidth": 2,
            "linecolor": "white",
            "showbackground": true,
            "ticks": "",
            "zerolinecolor": "white"
           },
           "yaxis": {
            "backgroundcolor": "#E5ECF6",
            "gridcolor": "white",
            "gridwidth": 2,
            "linecolor": "white",
            "showbackground": true,
            "ticks": "",
            "zerolinecolor": "white"
           },
           "zaxis": {
            "backgroundcolor": "#E5ECF6",
            "gridcolor": "white",
            "gridwidth": 2,
            "linecolor": "white",
            "showbackground": true,
            "ticks": "",
            "zerolinecolor": "white"
           }
          },
          "shapedefaults": {
           "line": {
            "color": "#2a3f5f"
           }
          },
          "ternary": {
           "aaxis": {
            "gridcolor": "white",
            "linecolor": "white",
            "ticks": ""
           },
           "baxis": {
            "gridcolor": "white",
            "linecolor": "white",
            "ticks": ""
           },
           "bgcolor": "#E5ECF6",
           "caxis": {
            "gridcolor": "white",
            "linecolor": "white",
            "ticks": ""
           }
          },
          "title": {
           "x": 0.05
          },
          "xaxis": {
           "automargin": true,
           "gridcolor": "white",
           "linecolor": "white",
           "ticks": "",
           "title": {
            "standoff": 15
           },
           "zerolinecolor": "white",
           "zerolinewidth": 2
          },
          "yaxis": {
           "automargin": true,
           "gridcolor": "white",
           "linecolor": "white",
           "ticks": "",
           "title": {
            "standoff": 15
           },
           "zerolinecolor": "white",
           "zerolinewidth": 2
          }
         }
        },
        "title": {
         "text": "Drugs"
        }
       }
      },
      "image/png": "[encoded data removed]"
     },
     "metadata": {},
     "output_type": "display_data"
    }
   ],
   "source": [
    "drug_pie.show()"
   ]
  },
  {
   "cell_type": "markdown",
   "metadata": {},
   "source": [
    "#### Split by drug type"
   ]
  },
  {
   "cell_type": "code",
   "execution_count": 13,
   "metadata": {},
   "outputs": [
    {
     "data": {
      "application/vnd.plotly.v1+json": {
       "config": {
        "plotlyServerURL": "https://plot.ly"
       },
       "data": [
        {
         "domain": {
          "x": [
           0,
           1
          ],
          "y": [
           0,
           1
          ]
         },
         "hovertemplate": "index=%{label}<br>value=%{value}<extra></extra>",
         "labels": [
          "Other",
          "LAMA",
          "LAMA/LABA",
          "ICS/LABA",
          "LABA",
          "Triple"
         ],
         "legendgroup": "",
         "name": "",
         "showlegend": true,
         "type": "pie",
         "values": [
          20,
          15,
          11,
          8,
          3,
          1
         ]
        }
       ],
       "layout": {
        "autosize": true,
        "legend": {
         "tracegroupgap": 0
        },
        "template": {
         "data": {
          "bar": [
           {
            "error_x": {
             "color": "#2a3f5f"
            },
            "error_y": {
             "color": "#2a3f5f"
            },
            "marker": {
             "line": {
              "color": "#E5ECF6",
              "width": 0.5
             }
            },
            "type": "bar"
           }
          ],
          "barpolar": [
           {
            "marker": {
             "line": {
              "color": "#E5ECF6",
              "width": 0.5
             }
            },
            "type": "barpolar"
           }
          ],
          "carpet": [
           {
            "aaxis": {
             "endlinecolor": "#2a3f5f",
             "gridcolor": "white",
             "linecolor": "white",
             "minorgridcolor": "white",
             "startlinecolor": "#2a3f5f"
            },
            "baxis": {
             "endlinecolor": "#2a3f5f",
             "gridcolor": "white",
             "linecolor": "white",
             "minorgridcolor": "white",
             "startlinecolor": "#2a3f5f"
            },
            "type": "carpet"
           }
          ],
          "choropleth": [
           {
            "colorbar": {
             "outlinewidth": 0,
             "ticks": ""
            },
            "type": "choropleth"
           }
          ],
          "contour": [
           {
            "colorbar": {
             "outlinewidth": 0,
             "ticks": ""
            },
            "colorscale": [
             [
              0,
              "#0d0887"
             ],
             [
              0.1111111111111111,
              "#46039f"
             ],
             [
              0.2222222222222222,
              "#7201a8"
             ],
             [
              0.3333333333333333,
              "#9c179e"
             ],
             [
              0.4444444444444444,
              "#bd3786"
             ],
             [
              0.5555555555555556,
              "#d8576b"
             ],
             [
              0.6666666666666666,
              "#ed7953"
             ],
             [
              0.7777777777777778,
              "#fb9f3a"
             ],
             [
              0.8888888888888888,
              "#fdca26"
             ],
             [
              1,
              "#f0f921"
             ]
            ],
            "type": "contour"
           }
          ],
          "contourcarpet": [
           {
            "colorbar": {
             "outlinewidth": 0,
             "ticks": ""
            },
            "type": "contourcarpet"
           }
          ],
          "heatmap": [
           {
            "colorbar": {
             "outlinewidth": 0,
             "ticks": ""
            },
            "colorscale": [
             [
              0,
              "#0d0887"
             ],
             [
              0.1111111111111111,
              "#46039f"
             ],
             [
              0.2222222222222222,
              "#7201a8"
             ],
             [
              0.3333333333333333,
              "#9c179e"
             ],
             [
              0.4444444444444444,
              "#bd3786"
             ],
             [
              0.5555555555555556,
              "#d8576b"
             ],
             [
              0.6666666666666666,
              "#ed7953"
             ],
             [
              0.7777777777777778,
              "#fb9f3a"
             ],
             [
              0.8888888888888888,
              "#fdca26"
             ],
             [
              1,
              "#f0f921"
             ]
            ],
            "type": "heatmap"
           }
          ],
          "heatmapgl": [
           {
            "colorbar": {
             "outlinewidth": 0,
             "ticks": ""
            },
            "colorscale": [
             [
              0,
              "#0d0887"
             ],
             [
              0.1111111111111111,
              "#46039f"
             ],
             [
              0.2222222222222222,
              "#7201a8"
             ],
             [
              0.3333333333333333,
              "#9c179e"
             ],
             [
              0.4444444444444444,
              "#bd3786"
             ],
             [
              0.5555555555555556,
              "#d8576b"
             ],
             [
              0.6666666666666666,
              "#ed7953"
             ],
             [
              0.7777777777777778,
              "#fb9f3a"
             ],
             [
              0.8888888888888888,
              "#fdca26"
             ],
             [
              1,
              "#f0f921"
             ]
            ],
            "type": "heatmapgl"
           }
          ],
          "histogram": [
           {
            "marker": {
             "colorbar": {
              "outlinewidth": 0,
              "ticks": ""
             }
            },
            "type": "histogram"
           }
          ],
          "histogram2d": [
           {
            "colorbar": {
             "outlinewidth": 0,
             "ticks": ""
            },
            "colorscale": [
             [
              0,
              "#0d0887"
             ],
             [
              0.1111111111111111,
              "#46039f"
             ],
             [
              0.2222222222222222,
              "#7201a8"
             ],
             [
              0.3333333333333333,
              "#9c179e"
             ],
             [
              0.4444444444444444,
              "#bd3786"
             ],
             [
              0.5555555555555556,
              "#d8576b"
             ],
             [
              0.6666666666666666,
              "#ed7953"
             ],
             [
              0.7777777777777778,
              "#fb9f3a"
             ],
             [
              0.8888888888888888,
              "#fdca26"
             ],
             [
              1,
              "#f0f921"
             ]
            ],
            "type": "histogram2d"
           }
          ],
          "histogram2dcontour": [
           {
            "colorbar": {
             "outlinewidth": 0,
             "ticks": ""
            },
            "colorscale": [
             [
              0,
              "#0d0887"
             ],
             [
              0.1111111111111111,
              "#46039f"
             ],
             [
              0.2222222222222222,
              "#7201a8"
             ],
             [
              0.3333333333333333,
              "#9c179e"
             ],
             [
              0.4444444444444444,
              "#bd3786"
             ],
             [
              0.5555555555555556,
              "#d8576b"
             ],
             [
              0.6666666666666666,
              "#ed7953"
             ],
             [
              0.7777777777777778,
              "#fb9f3a"
             ],
             [
              0.8888888888888888,
              "#fdca26"
             ],
             [
              1,
              "#f0f921"
             ]
            ],
            "type": "histogram2dcontour"
           }
          ],
          "mesh3d": [
           {
            "colorbar": {
             "outlinewidth": 0,
             "ticks": ""
            },
            "type": "mesh3d"
           }
          ],
          "parcoords": [
           {
            "line": {
             "colorbar": {
              "outlinewidth": 0,
              "ticks": ""
             }
            },
            "type": "parcoords"
           }
          ],
          "pie": [
           {
            "automargin": true,
            "type": "pie"
           }
          ],
          "scatter": [
           {
            "marker": {
             "colorbar": {
              "outlinewidth": 0,
              "ticks": ""
             }
            },
            "type": "scatter"
           }
          ],
          "scatter3d": [
           {
            "line": {
             "colorbar": {
              "outlinewidth": 0,
              "ticks": ""
             }
            },
            "marker": {
             "colorbar": {
              "outlinewidth": 0,
              "ticks": ""
             }
            },
            "type": "scatter3d"
           }
          ],
          "scattercarpet": [
           {
            "marker": {
             "colorbar": {
              "outlinewidth": 0,
              "ticks": ""
             }
            },
            "type": "scattercarpet"
           }
          ],
          "scattergeo": [
           {
            "marker": {
             "colorbar": {
              "outlinewidth": 0,
              "ticks": ""
             }
            },
            "type": "scattergeo"
           }
          ],
          "scattergl": [
           {
            "marker": {
             "colorbar": {
              "outlinewidth": 0,
              "ticks": ""
             }
            },
            "type": "scattergl"
           }
          ],
          "scattermapbox": [
           {
            "marker": {
             "colorbar": {
              "outlinewidth": 0,
              "ticks": ""
             }
            },
            "type": "scattermapbox"
           }
          ],
          "scatterpolar": [
           {
            "marker": {
             "colorbar": {
              "outlinewidth": 0,
              "ticks": ""
             }
            },
            "type": "scatterpolar"
           }
          ],
          "scatterpolargl": [
           {
            "marker": {
             "colorbar": {
              "outlinewidth": 0,
              "ticks": ""
             }
            },
            "type": "scatterpolargl"
           }
          ],
          "scatterternary": [
           {
            "marker": {
             "colorbar": {
              "outlinewidth": 0,
              "ticks": ""
             }
            },
            "type": "scatterternary"
           }
          ],
          "surface": [
           {
            "colorbar": {
             "outlinewidth": 0,
             "ticks": ""
            },
            "colorscale": [
             [
              0,
              "#0d0887"
             ],
             [
              0.1111111111111111,
              "#46039f"
             ],
             [
              0.2222222222222222,
              "#7201a8"
             ],
             [
              0.3333333333333333,
              "#9c179e"
             ],
             [
              0.4444444444444444,
              "#bd3786"
             ],
             [
              0.5555555555555556,
              "#d8576b"
             ],
             [
              0.6666666666666666,
              "#ed7953"
             ],
             [
              0.7777777777777778,
              "#fb9f3a"
             ],
             [
              0.8888888888888888,
              "#fdca26"
             ],
             [
              1,
              "#f0f921"
             ]
            ],
            "type": "surface"
           }
          ],
          "table": [
           {
            "cells": {
             "fill": {
              "color": "#EBF0F8"
             },
             "line": {
              "color": "white"
             }
            },
            "header": {
             "fill": {
              "color": "#C8D4E3"
             },
             "line": {
              "color": "white"
             }
            },
            "type": "table"
           }
          ]
         },
         "layout": {
          "annotationdefaults": {
           "arrowcolor": "#2a3f5f",
           "arrowhead": 0,
           "arrowwidth": 1
          },
          "coloraxis": {
           "colorbar": {
            "outlinewidth": 0,
            "ticks": ""
           }
          },
          "colorscale": {
           "diverging": [
            [
             0,
             "#8e0152"
            ],
            [
             0.1,
             "#c51b7d"
            ],
            [
             0.2,
             "#de77ae"
            ],
            [
             0.3,
             "#f1b6da"
            ],
            [
             0.4,
             "#fde0ef"
            ],
            [
             0.5,
             "#f7f7f7"
            ],
            [
             0.6,
             "#e6f5d0"
            ],
            [
             0.7,
             "#b8e186"
            ],
            [
             0.8,
             "#7fbc41"
            ],
            [
             0.9,
             "#4d9221"
            ],
            [
             1,
             "#276419"
            ]
           ],
           "sequential": [
            [
             0,
             "#0d0887"
            ],
            [
             0.1111111111111111,
             "#46039f"
            ],
            [
             0.2222222222222222,
             "#7201a8"
            ],
            [
             0.3333333333333333,
             "#9c179e"
            ],
            [
             0.4444444444444444,
             "#bd3786"
            ],
            [
             0.5555555555555556,
             "#d8576b"
            ],
            [
             0.6666666666666666,
             "#ed7953"
            ],
            [
             0.7777777777777778,
             "#fb9f3a"
            ],
            [
             0.8888888888888888,
             "#fdca26"
            ],
            [
             1,
             "#f0f921"
            ]
           ],
           "sequentialminus": [
            [
             0,
             "#0d0887"
            ],
            [
             0.1111111111111111,
             "#46039f"
            ],
            [
             0.2222222222222222,
             "#7201a8"
            ],
            [
             0.3333333333333333,
             "#9c179e"
            ],
            [
             0.4444444444444444,
             "#bd3786"
            ],
            [
             0.5555555555555556,
             "#d8576b"
            ],
            [
             0.6666666666666666,
             "#ed7953"
            ],
            [
             0.7777777777777778,
             "#fb9f3a"
            ],
            [
             0.8888888888888888,
             "#fdca26"
            ],
            [
             1,
             "#f0f921"
            ]
           ]
          },
          "colorway": [
           "#636efa",
           "#EF553B",
           "#00cc96",
           "#ab63fa",
           "#FFA15A",
           "#19d3f3",
           "#FF6692",
           "#B6E880",
           "#FF97FF",
           "#FECB52"
          ],
          "font": {
           "color": "#2a3f5f"
          },
          "geo": {
           "bgcolor": "white",
           "lakecolor": "white",
           "landcolor": "#E5ECF6",
           "showlakes": true,
           "showland": true,
           "subunitcolor": "white"
          },
          "hoverlabel": {
           "align": "left"
          },
          "hovermode": "closest",
          "mapbox": {
           "style": "light"
          },
          "paper_bgcolor": "white",
          "plot_bgcolor": "#E5ECF6",
          "polar": {
           "angularaxis": {
            "gridcolor": "white",
            "linecolor": "white",
            "ticks": ""
           },
           "bgcolor": "#E5ECF6",
           "radialaxis": {
            "gridcolor": "white",
            "linecolor": "white",
            "ticks": ""
           }
          },
          "scene": {
           "xaxis": {
            "backgroundcolor": "#E5ECF6",
            "gridcolor": "white",
            "gridwidth": 2,
            "linecolor": "white",
            "showbackground": true,
            "ticks": "",
            "zerolinecolor": "white"
           },
           "yaxis": {
            "backgroundcolor": "#E5ECF6",
            "gridcolor": "white",
            "gridwidth": 2,
            "linecolor": "white",
            "showbackground": true,
            "ticks": "",
            "zerolinecolor": "white"
           },
           "zaxis": {
            "backgroundcolor": "#E5ECF6",
            "gridcolor": "white",
            "gridwidth": 2,
            "linecolor": "white",
            "showbackground": true,
            "ticks": "",
            "zerolinecolor": "white"
           }
          },
          "shapedefaults": {
           "line": {
            "color": "#2a3f5f"
           }
          },
          "ternary": {
           "aaxis": {
            "gridcolor": "white",
            "linecolor": "white",
            "ticks": ""
           },
           "baxis": {
            "gridcolor": "white",
            "linecolor": "white",
            "ticks": ""
           },
           "bgcolor": "#E5ECF6",
           "caxis": {
            "gridcolor": "white",
            "linecolor": "white",
            "ticks": ""
           }
          },
          "title": {
           "x": 0.05
          },
          "xaxis": {
           "automargin": true,
           "gridcolor": "white",
           "linecolor": "white",
           "ticks": "",
           "title": {
            "standoff": 15
           },
           "zerolinecolor": "white",
           "zerolinewidth": 2
          },
          "yaxis": {
           "automargin": true,
           "gridcolor": "white",
           "linecolor": "white",
           "ticks": "",
           "title": {
            "standoff": 15
           },
           "zerolinecolor": "white",
           "zerolinewidth": 2
          }
         }
        },
        "title": {
         "text": "Type"
        }
       }
      },
      "image/png": "[encoded data removed]"
     },
     "metadata": {},
     "output_type": "display_data"
    }
   ],
   "source": [
    "type_pie.show()"
   ]
  },
  {
   "cell_type": "markdown",
   "metadata": {},
   "source": [
    "#### Split by drug combination"
   ]
  },
  {
   "cell_type": "code",
   "execution_count": 14,
   "metadata": {},
   "outputs": [
    {
     "data": {
      "application/vnd.plotly.v1+json": {
       "config": {
        "plotlyServerURL": "https://plot.ly"
       },
       "data": [
        {
         "domain": {
          "x": [
           0,
           1
          ],
          "y": [
           0,
           1
          ]
         },
         "hovertemplate": "index=%{label}<br>value=%{value}<extra></extra>",
         "labels": [
          "Mono",
          "Combi"
         ],
         "legendgroup": "",
         "name": "",
         "showlegend": true,
         "type": "pie",
         "values": [
          34,
          24
         ]
        }
       ],
       "layout": {
        "autosize": true,
        "legend": {
         "tracegroupgap": 0
        },
        "template": {
         "data": {
          "bar": [
           {
            "error_x": {
             "color": "#2a3f5f"
            },
            "error_y": {
             "color": "#2a3f5f"
            },
            "marker": {
             "line": {
              "color": "#E5ECF6",
              "width": 0.5
             }
            },
            "type": "bar"
           }
          ],
          "barpolar": [
           {
            "marker": {
             "line": {
              "color": "#E5ECF6",
              "width": 0.5
             }
            },
            "type": "barpolar"
           }
          ],
          "carpet": [
           {
            "aaxis": {
             "endlinecolor": "#2a3f5f",
             "gridcolor": "white",
             "linecolor": "white",
             "minorgridcolor": "white",
             "startlinecolor": "#2a3f5f"
            },
            "baxis": {
             "endlinecolor": "#2a3f5f",
             "gridcolor": "white",
             "linecolor": "white",
             "minorgridcolor": "white",
             "startlinecolor": "#2a3f5f"
            },
            "type": "carpet"
           }
          ],
          "choropleth": [
           {
            "colorbar": {
             "outlinewidth": 0,
             "ticks": ""
            },
            "type": "choropleth"
           }
          ],
          "contour": [
           {
            "colorbar": {
             "outlinewidth": 0,
             "ticks": ""
            },
            "colorscale": [
             [
              0,
              "#0d0887"
             ],
             [
              0.1111111111111111,
              "#46039f"
             ],
             [
              0.2222222222222222,
              "#7201a8"
             ],
             [
              0.3333333333333333,
              "#9c179e"
             ],
             [
              0.4444444444444444,
              "#bd3786"
             ],
             [
              0.5555555555555556,
              "#d8576b"
             ],
             [
              0.6666666666666666,
              "#ed7953"
             ],
             [
              0.7777777777777778,
              "#fb9f3a"
             ],
             [
              0.8888888888888888,
              "#fdca26"
             ],
             [
              1,
              "#f0f921"
             ]
            ],
            "type": "contour"
           }
          ],
          "contourcarpet": [
           {
            "colorbar": {
             "outlinewidth": 0,
             "ticks": ""
            },
            "type": "contourcarpet"
           }
          ],
          "heatmap": [
           {
            "colorbar": {
             "outlinewidth": 0,
             "ticks": ""
            },
            "colorscale": [
             [
              0,
              "#0d0887"
             ],
             [
              0.1111111111111111,
              "#46039f"
             ],
             [
              0.2222222222222222,
              "#7201a8"
             ],
             [
              0.3333333333333333,
              "#9c179e"
             ],
             [
              0.4444444444444444,
              "#bd3786"
             ],
             [
              0.5555555555555556,
              "#d8576b"
             ],
             [
              0.6666666666666666,
              "#ed7953"
             ],
             [
              0.7777777777777778,
              "#fb9f3a"
             ],
             [
              0.8888888888888888,
              "#fdca26"
             ],
             [
              1,
              "#f0f921"
             ]
            ],
            "type": "heatmap"
           }
          ],
          "heatmapgl": [
           {
            "colorbar": {
             "outlinewidth": 0,
             "ticks": ""
            },
            "colorscale": [
             [
              0,
              "#0d0887"
             ],
             [
              0.1111111111111111,
              "#46039f"
             ],
             [
              0.2222222222222222,
              "#7201a8"
             ],
             [
              0.3333333333333333,
              "#9c179e"
             ],
             [
              0.4444444444444444,
              "#bd3786"
             ],
             [
              0.5555555555555556,
              "#d8576b"
             ],
             [
              0.6666666666666666,
              "#ed7953"
             ],
             [
              0.7777777777777778,
              "#fb9f3a"
             ],
             [
              0.8888888888888888,
              "#fdca26"
             ],
             [
              1,
              "#f0f921"
             ]
            ],
            "type": "heatmapgl"
           }
          ],
          "histogram": [
           {
            "marker": {
             "colorbar": {
              "outlinewidth": 0,
              "ticks": ""
             }
            },
            "type": "histogram"
           }
          ],
          "histogram2d": [
           {
            "colorbar": {
             "outlinewidth": 0,
             "ticks": ""
            },
            "colorscale": [
             [
              0,
              "#0d0887"
             ],
             [
              0.1111111111111111,
              "#46039f"
             ],
             [
              0.2222222222222222,
              "#7201a8"
             ],
             [
              0.3333333333333333,
              "#9c179e"
             ],
             [
              0.4444444444444444,
              "#bd3786"
             ],
             [
              0.5555555555555556,
              "#d8576b"
             ],
             [
              0.6666666666666666,
              "#ed7953"
             ],
             [
              0.7777777777777778,
              "#fb9f3a"
             ],
             [
              0.8888888888888888,
              "#fdca26"
             ],
             [
              1,
              "#f0f921"
             ]
            ],
            "type": "histogram2d"
           }
          ],
          "histogram2dcontour": [
           {
            "colorbar": {
             "outlinewidth": 0,
             "ticks": ""
            },
            "colorscale": [
             [
              0,
              "#0d0887"
             ],
             [
              0.1111111111111111,
              "#46039f"
             ],
             [
              0.2222222222222222,
              "#7201a8"
             ],
             [
              0.3333333333333333,
              "#9c179e"
             ],
             [
              0.4444444444444444,
              "#bd3786"
             ],
             [
              0.5555555555555556,
              "#d8576b"
             ],
             [
              0.6666666666666666,
              "#ed7953"
             ],
             [
              0.7777777777777778,
              "#fb9f3a"
             ],
             [
              0.8888888888888888,
              "#fdca26"
             ],
             [
              1,
              "#f0f921"
             ]
            ],
            "type": "histogram2dcontour"
           }
          ],
          "mesh3d": [
           {
            "colorbar": {
             "outlinewidth": 0,
             "ticks": ""
            },
            "type": "mesh3d"
           }
          ],
          "parcoords": [
           {
            "line": {
             "colorbar": {
              "outlinewidth": 0,
              "ticks": ""
             }
            },
            "type": "parcoords"
           }
          ],
          "pie": [
           {
            "automargin": true,
            "type": "pie"
           }
          ],
          "scatter": [
           {
            "marker": {
             "colorbar": {
              "outlinewidth": 0,
              "ticks": ""
             }
            },
            "type": "scatter"
           }
          ],
          "scatter3d": [
           {
            "line": {
             "colorbar": {
              "outlinewidth": 0,
              "ticks": ""
             }
            },
            "marker": {
             "colorbar": {
              "outlinewidth": 0,
              "ticks": ""
             }
            },
            "type": "scatter3d"
           }
          ],
          "scattercarpet": [
           {
            "marker": {
             "colorbar": {
              "outlinewidth": 0,
              "ticks": ""
             }
            },
            "type": "scattercarpet"
           }
          ],
          "scattergeo": [
           {
            "marker": {
             "colorbar": {
              "outlinewidth": 0,
              "ticks": ""
             }
            },
            "type": "scattergeo"
           }
          ],
          "scattergl": [
           {
            "marker": {
             "colorbar": {
              "outlinewidth": 0,
              "ticks": ""
             }
            },
            "type": "scattergl"
           }
          ],
          "scattermapbox": [
           {
            "marker": {
             "colorbar": {
              "outlinewidth": 0,
              "ticks": ""
             }
            },
            "type": "scattermapbox"
           }
          ],
          "scatterpolar": [
           {
            "marker": {
             "colorbar": {
              "outlinewidth": 0,
              "ticks": ""
             }
            },
            "type": "scatterpolar"
           }
          ],
          "scatterpolargl": [
           {
            "marker": {
             "colorbar": {
              "outlinewidth": 0,
              "ticks": ""
             }
            },
            "type": "scatterpolargl"
           }
          ],
          "scatterternary": [
           {
            "marker": {
             "colorbar": {
              "outlinewidth": 0,
              "ticks": ""
             }
            },
            "type": "scatterternary"
           }
          ],
          "surface": [
           {
            "colorbar": {
             "outlinewidth": 0,
             "ticks": ""
            },
            "colorscale": [
             [
              0,
              "#0d0887"
             ],
             [
              0.1111111111111111,
              "#46039f"
             ],
             [
              0.2222222222222222,
              "#7201a8"
             ],
             [
              0.3333333333333333,
              "#9c179e"
             ],
             [
              0.4444444444444444,
              "#bd3786"
             ],
             [
              0.5555555555555556,
              "#d8576b"
             ],
             [
              0.6666666666666666,
              "#ed7953"
             ],
             [
              0.7777777777777778,
              "#fb9f3a"
             ],
             [
              0.8888888888888888,
              "#fdca26"
             ],
             [
              1,
              "#f0f921"
             ]
            ],
            "type": "surface"
           }
          ],
          "table": [
           {
            "cells": {
             "fill": {
              "color": "#EBF0F8"
             },
             "line": {
              "color": "white"
             }
            },
            "header": {
             "fill": {
              "color": "#C8D4E3"
             },
             "line": {
              "color": "white"
             }
            },
            "type": "table"
           }
          ]
         },
         "layout": {
          "annotationdefaults": {
           "arrowcolor": "#2a3f5f",
           "arrowhead": 0,
           "arrowwidth": 1
          },
          "coloraxis": {
           "colorbar": {
            "outlinewidth": 0,
            "ticks": ""
           }
          },
          "colorscale": {
           "diverging": [
            [
             0,
             "#8e0152"
            ],
            [
             0.1,
             "#c51b7d"
            ],
            [
             0.2,
             "#de77ae"
            ],
            [
             0.3,
             "#f1b6da"
            ],
            [
             0.4,
             "#fde0ef"
            ],
            [
             0.5,
             "#f7f7f7"
            ],
            [
             0.6,
             "#e6f5d0"
            ],
            [
             0.7,
             "#b8e186"
            ],
            [
             0.8,
             "#7fbc41"
            ],
            [
             0.9,
             "#4d9221"
            ],
            [
             1,
             "#276419"
            ]
           ],
           "sequential": [
            [
             0,
             "#0d0887"
            ],
            [
             0.1111111111111111,
             "#46039f"
            ],
            [
             0.2222222222222222,
             "#7201a8"
            ],
            [
             0.3333333333333333,
             "#9c179e"
            ],
            [
             0.4444444444444444,
             "#bd3786"
            ],
            [
             0.5555555555555556,
             "#d8576b"
            ],
            [
             0.6666666666666666,
             "#ed7953"
            ],
            [
             0.7777777777777778,
             "#fb9f3a"
            ],
            [
             0.8888888888888888,
             "#fdca26"
            ],
            [
             1,
             "#f0f921"
            ]
           ],
           "sequentialminus": [
            [
             0,
             "#0d0887"
            ],
            [
             0.1111111111111111,
             "#46039f"
            ],
            [
             0.2222222222222222,
             "#7201a8"
            ],
            [
             0.3333333333333333,
             "#9c179e"
            ],
            [
             0.4444444444444444,
             "#bd3786"
            ],
            [
             0.5555555555555556,
             "#d8576b"
            ],
            [
             0.6666666666666666,
             "#ed7953"
            ],
            [
             0.7777777777777778,
             "#fb9f3a"
            ],
            [
             0.8888888888888888,
             "#fdca26"
            ],
            [
             1,
             "#f0f921"
            ]
           ]
          },
          "colorway": [
           "#636efa",
           "#EF553B",
           "#00cc96",
           "#ab63fa",
           "#FFA15A",
           "#19d3f3",
           "#FF6692",
           "#B6E880",
           "#FF97FF",
           "#FECB52"
          ],
          "font": {
           "color": "#2a3f5f"
          },
          "geo": {
           "bgcolor": "white",
           "lakecolor": "white",
           "landcolor": "#E5ECF6",
           "showlakes": true,
           "showland": true,
           "subunitcolor": "white"
          },
          "hoverlabel": {
           "align": "left"
          },
          "hovermode": "closest",
          "mapbox": {
           "style": "light"
          },
          "paper_bgcolor": "white",
          "plot_bgcolor": "#E5ECF6",
          "polar": {
           "angularaxis": {
            "gridcolor": "white",
            "linecolor": "white",
            "ticks": ""
           },
           "bgcolor": "#E5ECF6",
           "radialaxis": {
            "gridcolor": "white",
            "linecolor": "white",
            "ticks": ""
           }
          },
          "scene": {
           "xaxis": {
            "backgroundcolor": "#E5ECF6",
            "gridcolor": "white",
            "gridwidth": 2,
            "linecolor": "white",
            "showbackground": true,
            "ticks": "",
            "zerolinecolor": "white"
           },
           "yaxis": {
            "backgroundcolor": "#E5ECF6",
            "gridcolor": "white",
            "gridwidth": 2,
            "linecolor": "white",
            "showbackground": true,
            "ticks": "",
            "zerolinecolor": "white"
           },
           "zaxis": {
            "backgroundcolor": "#E5ECF6",
            "gridcolor": "white",
            "gridwidth": 2,
            "linecolor": "white",
            "showbackground": true,
            "ticks": "",
            "zerolinecolor": "white"
           }
          },
          "shapedefaults": {
           "line": {
            "color": "#2a3f5f"
           }
          },
          "ternary": {
           "aaxis": {
            "gridcolor": "white",
            "linecolor": "white",
            "ticks": ""
           },
           "baxis": {
            "gridcolor": "white",
            "linecolor": "white",
            "ticks": ""
           },
           "bgcolor": "#E5ECF6",
           "caxis": {
            "gridcolor": "white",
            "linecolor": "white",
            "ticks": ""
           }
          },
          "title": {
           "x": 0.05
          },
          "xaxis": {
           "automargin": true,
           "gridcolor": "white",
           "linecolor": "white",
           "ticks": "",
           "title": {
            "standoff": 15
           },
           "zerolinecolor": "white",
           "zerolinewidth": 2
          },
          "yaxis": {
           "automargin": true,
           "gridcolor": "white",
           "linecolor": "white",
           "ticks": "",
           "title": {
            "standoff": 15
           },
           "zerolinecolor": "white",
           "zerolinewidth": 2
          }
         }
        },
        "title": {
         "text": "Combination"
        }
       }
      },
      "image/png": "[encoded data removed]"
     },
     "metadata": {},
     "output_type": "display_data"
    }
   ],
   "source": [
    "combi_pie.show()"
   ]
  },
  {
   "cell_type": "markdown",
   "metadata": {},
   "source": [
    "## Drug ratings\n",
    "Here is the distribution of satsifaction ratings"
   ]
  },
  {
   "cell_type": "code",
   "execution_count": 15,
   "metadata": {},
   "outputs": [],
   "source": [
    "# ... building the dataframe\n",
    "df1 = df.iloc[:, 5:].melt(value_name='satisfaction', var_name='drug')\n",
    "df1['SubType'] = df1.drug.map(df_master.set_index('Drug').SubType.to_dict())"
   ]
  },
  {
   "cell_type": "code",
   "execution_count": 16,
   "metadata": {},
   "outputs": [
    {
     "data": {
      "application/vnd.plotly.v1+json": {
       "config": {
        "plotlyServerURL": "https://plot.ly"
       },
       "data": [
        {
         "alignmentgroup": "True",
         "box": {
          "visible": true
         },
         "hovertemplate": "drug=%{x}<br>satisfaction=%{y}<extra></extra>",
         "legendgroup": "",
         "marker": {
          "color": "#636efa"
         },
         "name": "",
         "offsetgroup": "",
         "orientation": "v",
         "points": "all",
         "scalegroup": "True",
         "showlegend": false,
         "type": "violin",
         "x": [
          "Onbrez",
          "Onbrez",
          "Onbrez",
          "Onbrez",
          "Onbrez",
          "Onbrez",
          "Onbrez",
          "Onbrez",
          "Onbrez",
          "Onbrez",
          "Onbrez",
          "Onbrez",
          "Onbrez",
          "Onbrez",
          "Onbrez",
          "Onbrez",
          "Onbrez",
          "Onbrez",
          "Onbrez",
          "Onbrez",
          "Onbrez",
          "Onbrez",
          "Onbrez",
          "Onbrez",
          "Onbrez",
          "Onbrez",
          "Onbrez",
          "Onbrez",
          "Onbrez",
          "Onbrez",
          "Onbrez",
          "Onbrez",
          "Onbrez",
          "Onbrez",
          "Onbrez",
          "Onbrez",
          "Onbrez",
          "Onbrez",
          "Onbrez",
          "Onbrez",
          "Onbrez",
          "Onbrez",
          "Onbrez",
          "Onbrez",
          "Onbrez",
          "Onbrez",
          "Onbrez",
          "Onbrez",
          "Onbrez",
          "Onbrez",
          "Onbrez",
          "Onbrez",
          "Onbrez",
          "Seretide",
          "Seretide",
          "Seretide",
          "Seretide",
          "Seretide",
          "Seretide",
          "Seretide",
          "Seretide",
          "Seretide",
          "Seretide",
          "Seretide",
          "Seretide",
          "Seretide",
          "Seretide",
          "Seretide",
          "Seretide",
          "Seretide",
          "Seretide",
          "Seretide",
          "Seretide",
          "Seretide",
          "Seretide",
          "Seretide",
          "Seretide",
          "Seretide",
          "Seretide",
          "Seretide",
          "Seretide",
          "Seretide",
          "Seretide",
          "Seretide",
          "Seretide",
          "Seretide",
          "Seretide",
          "Seretide",
          "Seretide",
          "Seretide",
          "Seretide",
          "Seretide",
          "Seretide",
          "Seretide",
          "Seretide",
          "Seretide",
          "Seretide",
          "Seretide",
          "Seretide",
          "Seretide",
          "Seretide",
          "Seretide",
          "Seretide",
          "Seretide",
          "Seretide",
          "Seretide",
          "Spiriva",
          "Spiriva",
          "Spiriva",
          "Spiriva",
          "Spiriva",
          "Spiriva",
          "Spiriva",
          "Spiriva",
          "Spiriva",
          "Spiriva",
          "Spiriva",
          "Spiriva",
          "Spiriva",
          "Spiriva",
          "Spiriva",
          "Spiriva",
          "Spiriva",
          "Spiriva",
          "Spiriva",
          "Spiriva",
          "Spiriva",
          "Spiriva",
          "Spiriva",
          "Spiriva",
          "Spiriva",
          "Spiriva",
          "Spiriva",
          "Spiriva",
          "Spiriva",
          "Spiriva",
          "Spiriva",
          "Spiriva",
          "Spiriva",
          "Spiriva",
          "Spiriva",
          "Spiriva",
          "Spiriva",
          "Spiriva",
          "Spiriva",
          "Spiriva",
          "Spiriva",
          "Spiriva",
          "Spiriva",
          "Spiriva",
          "Spiriva",
          "Spiriva",
          "Spiriva",
          "Spiriva",
          "Spiriva",
          "Spiriva",
          "Spiriva",
          "Spiriva",
          "Spiriva",
          "Symbicort",
          "Symbicort",
          "Symbicort",
          "Symbicort",
          "Symbicort",
          "Symbicort",
          "Symbicort",
          "Symbicort",
          "Symbicort",
          "Symbicort",
          "Symbicort",
          "Symbicort",
          "Symbicort",
          "Symbicort",
          "Symbicort",
          "Symbicort",
          "Symbicort",
          "Symbicort",
          "Symbicort",
          "Symbicort",
          "Symbicort",
          "Symbicort",
          "Symbicort",
          "Symbicort",
          "Symbicort",
          "Symbicort",
          "Symbicort",
          "Symbicort",
          "Symbicort",
          "Symbicort",
          "Symbicort",
          "Symbicort",
          "Symbicort",
          "Symbicort",
          "Symbicort",
          "Symbicort",
          "Symbicort",
          "Symbicort",
          "Symbicort",
          "Symbicort",
          "Symbicort",
          "Symbicort",
          "Symbicort",
          "Symbicort",
          "Symbicort",
          "Symbicort",
          "Symbicort",
          "Symbicort",
          "Symbicort",
          "Symbicort",
          "Symbicort",
          "Symbicort",
          "Symbicort",
          "Ultibro",
          "Ultibro",
          "Ultibro",
          "Ultibro",
          "Ultibro",
          "Ultibro",
          "Ultibro",
          "Ultibro",
          "Ultibro",
          "Ultibro",
          "Ultibro",
          "Ultibro",
          "Ultibro",
          "Ultibro",
          "Ultibro",
          "Ultibro",
          "Ultibro",
          "Ultibro",
          "Ultibro",
          "Ultibro",
          "Ultibro",
          "Ultibro",
          "Ultibro",
          "Ultibro",
          "Ultibro",
          "Ultibro",
          "Ultibro",
          "Ultibro",
          "Ultibro",
          "Ultibro",
          "Ultibro",
          "Ultibro",
          "Ultibro",
          "Ultibro",
          "Ultibro",
          "Ultibro",
          "Ultibro",
          "Ultibro",
          "Ultibro",
          "Ultibro",
          "Ultibro",
          "Ultibro",
          "Ultibro",
          "Ultibro",
          "Ultibro",
          "Ultibro",
          "Ultibro",
          "Ultibro",
          "Ultibro",
          "Ultibro",
          "Ultibro",
          "Ultibro",
          "Ultibro",
          "Combivent",
          "Combivent",
          "Combivent",
          "Combivent",
          "Combivent",
          "Combivent",
          "Combivent",
          "Combivent",
          "Combivent",
          "Combivent",
          "Combivent",
          "Combivent",
          "Combivent",
          "Combivent",
          "Combivent",
          "Combivent",
          "Combivent",
          "Combivent",
          "Combivent",
          "Combivent",
          "Combivent",
          "Combivent",
          "Combivent",
          "Combivent",
          "Combivent",
          "Combivent",
          "Combivent",
          "Combivent",
          "Combivent",
          "Combivent",
          "Combivent",
          "Combivent",
          "Combivent",
          "Combivent",
          "Combivent",
          "Combivent",
          "Combivent",
          "Combivent",
          "Combivent",
          "Combivent",
          "Combivent",
          "Combivent",
          "Combivent",
          "Combivent",
          "Combivent",
          "Combivent",
          "Combivent",
          "Combivent",
          "Combivent",
          "Combivent",
          "Combivent",
          "Combivent",
          "Combivent",
          "Relvar",
          "Relvar",
          "Relvar",
          "Relvar",
          "Relvar",
          "Relvar",
          "Relvar",
          "Relvar",
          "Relvar",
          "Relvar",
          "Relvar",
          "Relvar",
          "Relvar",
          "Relvar",
          "Relvar",
          "Relvar",
          "Relvar",
          "Relvar",
          "Relvar",
          "Relvar",
          "Relvar",
          "Relvar",
          "Relvar",
          "Relvar",
          "Relvar",
          "Relvar",
          "Relvar",
          "Relvar",
          "Relvar",
          "Relvar",
          "Relvar",
          "Relvar",
          "Relvar",
          "Relvar",
          "Relvar",
          "Relvar",
          "Relvar",
          "Relvar",
          "Relvar",
          "Relvar",
          "Relvar",
          "Relvar",
          "Relvar",
          "Relvar",
          "Relvar",
          "Relvar",
          "Relvar",
          "Relvar",
          "Relvar",
          "Relvar",
          "Relvar",
          "Relvar",
          "Relvar",
          "Ventolin",
          "Ventolin",
          "Ventolin",
          "Ventolin",
          "Ventolin",
          "Ventolin",
          "Ventolin",
          "Ventolin",
          "Ventolin",
          "Ventolin",
          "Ventolin",
          "Ventolin",
          "Ventolin",
          "Ventolin",
          "Ventolin",
          "Ventolin",
          "Ventolin",
          "Ventolin",
          "Ventolin",
          "Ventolin",
          "Ventolin",
          "Ventolin",
          "Ventolin",
          "Ventolin",
          "Ventolin",
          "Ventolin",
          "Ventolin",
          "Ventolin",
          "Ventolin",
          "Ventolin",
          "Ventolin",
          "Ventolin",
          "Ventolin",
          "Ventolin",
          "Ventolin",
          "Ventolin",
          "Ventolin",
          "Ventolin",
          "Ventolin",
          "Ventolin",
          "Ventolin",
          "Ventolin",
          "Ventolin",
          "Ventolin",
          "Ventolin",
          "Ventolin",
          "Ventolin",
          "Ventolin",
          "Ventolin",
          "Ventolin",
          "Ventolin",
          "Ventolin",
          "Ventolin"
         ],
         "x0": " ",
         "xaxis": "x",
         "y": [
          "8",
          "7",
          "7",
          "6",
          "7",
          "7",
          "8",
          "8",
          "6",
          "6",
          "10",
          "",
          "9",
          "10",
          "10",
          "",
          "",
          "8",
          "9",
          "8",
          "6",
          "5",
          "7",
          "9",
          "",
          "9",
          "",
          "5",
          "",
          "",
          "",
          "",
          "",
          "10",
          "9",
          "9",
          "9",
          "9",
          "8",
          "8",
          "7",
          "8",
          "8",
          "8",
          "9",
          "8",
          "7",
          "8",
          "8",
          "",
          "8",
          "7",
          "9",
          "10",
          "10",
          "8",
          "10",
          "8",
          "7",
          "8",
          "8",
          "6",
          "7",
          "9",
          "9",
          "10",
          "9",
          "10",
          "9",
          "9",
          "8",
          "10",
          "7",
          "8",
          "7",
          "7",
          "10",
          "9",
          "10",
          "9",
          "10",
          "9",
          "9",
          "9",
          "9",
          "9",
          "9",
          "10",
          "9",
          "10",
          "9",
          "10",
          "9",
          "9",
          "9",
          "10",
          "9",
          "10",
          "9",
          "9",
          "9",
          "",
          "9",
          "9",
          "9",
          "10",
          "10",
          "7",
          "9",
          "9",
          "8",
          "8",
          "8",
          "8",
          "7",
          "8",
          "10",
          "10",
          "10",
          "10",
          "9",
          "9",
          "6",
          "8",
          "10",
          "8",
          "7",
          "6",
          "8",
          "10",
          "10",
          "9",
          "7",
          "7",
          "9",
          "8",
          "9",
          "9",
          "7",
          "10",
          "9",
          "10",
          "10",
          "10",
          "10",
          "9",
          "9",
          "9",
          "10",
          "9",
          "10",
          "9",
          "9",
          "10",
          "9",
          "10",
          "9",
          "10",
          "9",
          "9",
          "10",
          "8",
          "9",
          "9",
          "8",
          "8",
          "8",
          "6",
          "7",
          "9",
          "8",
          "9",
          "9",
          "9",
          "10",
          "9",
          "8",
          "8",
          "8",
          "8",
          "8",
          "8",
          "8",
          "9",
          "9",
          "9",
          "9",
          "10",
          "9",
          "8",
          "9",
          "9",
          "8",
          "9",
          "8",
          "10",
          "10",
          "10",
          "9",
          "8",
          "9",
          "10",
          "10",
          "10",
          "9",
          "",
          "9",
          "9",
          "9",
          "9",
          "8",
          "9",
          "9",
          "7",
          "7",
          "",
          "6",
          "7",
          "7",
          "7",
          "6",
          "6",
          "8",
          "10",
          "9",
          "8",
          "10",
          "",
          "",
          "8",
          "",
          "7",
          "7",
          "5",
          "",
          "",
          "8",
          "10",
          "",
          "5",
          "",
          "",
          "",
          "",
          "8",
          "8",
          "10",
          "9",
          "9",
          "10",
          "",
          "",
          "8",
          "",
          "9",
          "9",
          "",
          "",
          "8",
          "10",
          "9",
          "8",
          "8",
          "9",
          "10",
          "8",
          "7",
          "6",
          "",
          "7",
          "6",
          "7",
          "7",
          "8",
          "8",
          "6",
          "8",
          "8",
          "8",
          "",
          "9",
          "7",
          "6",
          "10",
          "6",
          "7",
          "7",
          "6",
          "9",
          "9",
          "6",
          "8",
          "7",
          "9",
          "8",
          "8",
          "8",
          "8",
          "9",
          "8",
          "8",
          "8",
          "9",
          "9",
          "8",
          "8",
          "8",
          "8",
          "8",
          "9",
          "8",
          "8",
          "8",
          "8",
          "",
          "8",
          "7",
          "8",
          "",
          "",
          "",
          "",
          "",
          "",
          "",
          "",
          "",
          "",
          "",
          "",
          "",
          "8",
          "",
          "",
          "7",
          "",
          "",
          "",
          "",
          "",
          "",
          "",
          "",
          "",
          "7",
          "6",
          "",
          "5",
          "8",
          "8",
          "",
          "",
          "",
          "",
          "",
          "",
          "",
          "",
          "",
          "",
          "",
          "",
          "",
          "",
          "7",
          "",
          "",
          "",
          "",
          "",
          "",
          "8",
          "8",
          "6",
          "10",
          "8",
          "6",
          "7",
          "7",
          "8",
          "8",
          "7",
          "7",
          "8",
          "8",
          "9",
          "9",
          "7",
          "6",
          "8",
          "6",
          "7",
          "8",
          "6",
          "9",
          "8",
          "9",
          "8",
          "8",
          "8",
          "7",
          "8",
          "8",
          "8",
          "8",
          "8",
          "10",
          "9",
          "9",
          "9",
          "8",
          "8",
          "8",
          "9",
          "8",
          "10",
          "8",
          "9",
          "8",
          "8",
          "",
          "9",
          "7",
          "9"
         ],
         "y0": " ",
         "yaxis": "y"
        }
       ],
       "layout": {
        "autosize": true,
        "legend": {
         "tracegroupgap": 0
        },
        "template": {
         "data": {
          "bar": [
           {
            "error_x": {
             "color": "#2a3f5f"
            },
            "error_y": {
             "color": "#2a3f5f"
            },
            "marker": {
             "line": {
              "color": "#E5ECF6",
              "width": 0.5
             }
            },
            "type": "bar"
           }
          ],
          "barpolar": [
           {
            "marker": {
             "line": {
              "color": "#E5ECF6",
              "width": 0.5
             }
            },
            "type": "barpolar"
           }
          ],
          "carpet": [
           {
            "aaxis": {
             "endlinecolor": "#2a3f5f",
             "gridcolor": "white",
             "linecolor": "white",
             "minorgridcolor": "white",
             "startlinecolor": "#2a3f5f"
            },
            "baxis": {
             "endlinecolor": "#2a3f5f",
             "gridcolor": "white",
             "linecolor": "white",
             "minorgridcolor": "white",
             "startlinecolor": "#2a3f5f"
            },
            "type": "carpet"
           }
          ],
          "choropleth": [
           {
            "colorbar": {
             "outlinewidth": 0,
             "ticks": ""
            },
            "type": "choropleth"
           }
          ],
          "contour": [
           {
            "colorbar": {
             "outlinewidth": 0,
             "ticks": ""
            },
            "colorscale": [
             [
              0,
              "#0d0887"
             ],
             [
              0.1111111111111111,
              "#46039f"
             ],
             [
              0.2222222222222222,
              "#7201a8"
             ],
             [
              0.3333333333333333,
              "#9c179e"
             ],
             [
              0.4444444444444444,
              "#bd3786"
             ],
             [
              0.5555555555555556,
              "#d8576b"
             ],
             [
              0.6666666666666666,
              "#ed7953"
             ],
             [
              0.7777777777777778,
              "#fb9f3a"
             ],
             [
              0.8888888888888888,
              "#fdca26"
             ],
             [
              1,
              "#f0f921"
             ]
            ],
            "type": "contour"
           }
          ],
          "contourcarpet": [
           {
            "colorbar": {
             "outlinewidth": 0,
             "ticks": ""
            },
            "type": "contourcarpet"
           }
          ],
          "heatmap": [
           {
            "colorbar": {
             "outlinewidth": 0,
             "ticks": ""
            },
            "colorscale": [
             [
              0,
              "#0d0887"
             ],
             [
              0.1111111111111111,
              "#46039f"
             ],
             [
              0.2222222222222222,
              "#7201a8"
             ],
             [
              0.3333333333333333,
              "#9c179e"
             ],
             [
              0.4444444444444444,
              "#bd3786"
             ],
             [
              0.5555555555555556,
              "#d8576b"
             ],
             [
              0.6666666666666666,
              "#ed7953"
             ],
             [
              0.7777777777777778,
              "#fb9f3a"
             ],
             [
              0.8888888888888888,
              "#fdca26"
             ],
             [
              1,
              "#f0f921"
             ]
            ],
            "type": "heatmap"
           }
          ],
          "heatmapgl": [
           {
            "colorbar": {
             "outlinewidth": 0,
             "ticks": ""
            },
            "colorscale": [
             [
              0,
              "#0d0887"
             ],
             [
              0.1111111111111111,
              "#46039f"
             ],
             [
              0.2222222222222222,
              "#7201a8"
             ],
             [
              0.3333333333333333,
              "#9c179e"
             ],
             [
              0.4444444444444444,
              "#bd3786"
             ],
             [
              0.5555555555555556,
              "#d8576b"
             ],
             [
              0.6666666666666666,
              "#ed7953"
             ],
             [
              0.7777777777777778,
              "#fb9f3a"
             ],
             [
              0.8888888888888888,
              "#fdca26"
             ],
             [
              1,
              "#f0f921"
             ]
            ],
            "type": "heatmapgl"
           }
          ],
          "histogram": [
           {
            "marker": {
             "colorbar": {
              "outlinewidth": 0,
              "ticks": ""
             }
            },
            "type": "histogram"
           }
          ],
          "histogram2d": [
           {
            "colorbar": {
             "outlinewidth": 0,
             "ticks": ""
            },
            "colorscale": [
             [
              0,
              "#0d0887"
             ],
             [
              0.1111111111111111,
              "#46039f"
             ],
             [
              0.2222222222222222,
              "#7201a8"
             ],
             [
              0.3333333333333333,
              "#9c179e"
             ],
             [
              0.4444444444444444,
              "#bd3786"
             ],
             [
              0.5555555555555556,
              "#d8576b"
             ],
             [
              0.6666666666666666,
              "#ed7953"
             ],
             [
              0.7777777777777778,
              "#fb9f3a"
             ],
             [
              0.8888888888888888,
              "#fdca26"
             ],
             [
              1,
              "#f0f921"
             ]
            ],
            "type": "histogram2d"
           }
          ],
          "histogram2dcontour": [
           {
            "colorbar": {
             "outlinewidth": 0,
             "ticks": ""
            },
            "colorscale": [
             [
              0,
              "#0d0887"
             ],
             [
              0.1111111111111111,
              "#46039f"
             ],
             [
              0.2222222222222222,
              "#7201a8"
             ],
             [
              0.3333333333333333,
              "#9c179e"
             ],
             [
              0.4444444444444444,
              "#bd3786"
             ],
             [
              0.5555555555555556,
              "#d8576b"
             ],
             [
              0.6666666666666666,
              "#ed7953"
             ],
             [
              0.7777777777777778,
              "#fb9f3a"
             ],
             [
              0.8888888888888888,
              "#fdca26"
             ],
             [
              1,
              "#f0f921"
             ]
            ],
            "type": "histogram2dcontour"
           }
          ],
          "mesh3d": [
           {
            "colorbar": {
             "outlinewidth": 0,
             "ticks": ""
            },
            "type": "mesh3d"
           }
          ],
          "parcoords": [
           {
            "line": {
             "colorbar": {
              "outlinewidth": 0,
              "ticks": ""
             }
            },
            "type": "parcoords"
           }
          ],
          "pie": [
           {
            "automargin": true,
            "type": "pie"
           }
          ],
          "scatter": [
           {
            "marker": {
             "colorbar": {
              "outlinewidth": 0,
              "ticks": ""
             }
            },
            "type": "scatter"
           }
          ],
          "scatter3d": [
           {
            "line": {
             "colorbar": {
              "outlinewidth": 0,
              "ticks": ""
             }
            },
            "marker": {
             "colorbar": {
              "outlinewidth": 0,
              "ticks": ""
             }
            },
            "type": "scatter3d"
           }
          ],
          "scattercarpet": [
           {
            "marker": {
             "colorbar": {
              "outlinewidth": 0,
              "ticks": ""
             }
            },
            "type": "scattercarpet"
           }
          ],
          "scattergeo": [
           {
            "marker": {
             "colorbar": {
              "outlinewidth": 0,
              "ticks": ""
             }
            },
            "type": "scattergeo"
           }
          ],
          "scattergl": [
           {
            "marker": {
             "colorbar": {
              "outlinewidth": 0,
              "ticks": ""
             }
            },
            "type": "scattergl"
           }
          ],
          "scattermapbox": [
           {
            "marker": {
             "colorbar": {
              "outlinewidth": 0,
              "ticks": ""
             }
            },
            "type": "scattermapbox"
           }
          ],
          "scatterpolar": [
           {
            "marker": {
             "colorbar": {
              "outlinewidth": 0,
              "ticks": ""
             }
            },
            "type": "scatterpolar"
           }
          ],
          "scatterpolargl": [
           {
            "marker": {
             "colorbar": {
              "outlinewidth": 0,
              "ticks": ""
             }
            },
            "type": "scatterpolargl"
           }
          ],
          "scatterternary": [
           {
            "marker": {
             "colorbar": {
              "outlinewidth": 0,
              "ticks": ""
             }
            },
            "type": "scatterternary"
           }
          ],
          "surface": [
           {
            "colorbar": {
             "outlinewidth": 0,
             "ticks": ""
            },
            "colorscale": [
             [
              0,
              "#0d0887"
             ],
             [
              0.1111111111111111,
              "#46039f"
             ],
             [
              0.2222222222222222,
              "#7201a8"
             ],
             [
              0.3333333333333333,
              "#9c179e"
             ],
             [
              0.4444444444444444,
              "#bd3786"
             ],
             [
              0.5555555555555556,
              "#d8576b"
             ],
             [
              0.6666666666666666,
              "#ed7953"
             ],
             [
              0.7777777777777778,
              "#fb9f3a"
             ],
             [
              0.8888888888888888,
              "#fdca26"
             ],
             [
              1,
              "#f0f921"
             ]
            ],
            "type": "surface"
           }
          ],
          "table": [
           {
            "cells": {
             "fill": {
              "color": "#EBF0F8"
             },
             "line": {
              "color": "white"
             }
            },
            "header": {
             "fill": {
              "color": "#C8D4E3"
             },
             "line": {
              "color": "white"
             }
            },
            "type": "table"
           }
          ]
         },
         "layout": {
          "annotationdefaults": {
           "arrowcolor": "#2a3f5f",
           "arrowhead": 0,
           "arrowwidth": 1
          },
          "coloraxis": {
           "colorbar": {
            "outlinewidth": 0,
            "ticks": ""
           }
          },
          "colorscale": {
           "diverging": [
            [
             0,
             "#8e0152"
            ],
            [
             0.1,
             "#c51b7d"
            ],
            [
             0.2,
             "#de77ae"
            ],
            [
             0.3,
             "#f1b6da"
            ],
            [
             0.4,
             "#fde0ef"
            ],
            [
             0.5,
             "#f7f7f7"
            ],
            [
             0.6,
             "#e6f5d0"
            ],
            [
             0.7,
             "#b8e186"
            ],
            [
             0.8,
             "#7fbc41"
            ],
            [
             0.9,
             "#4d9221"
            ],
            [
             1,
             "#276419"
            ]
           ],
           "sequential": [
            [
             0,
             "#0d0887"
            ],
            [
             0.1111111111111111,
             "#46039f"
            ],
            [
             0.2222222222222222,
             "#7201a8"
            ],
            [
             0.3333333333333333,
             "#9c179e"
            ],
            [
             0.4444444444444444,
             "#bd3786"
            ],
            [
             0.5555555555555556,
             "#d8576b"
            ],
            [
             0.6666666666666666,
             "#ed7953"
            ],
            [
             0.7777777777777778,
             "#fb9f3a"
            ],
            [
             0.8888888888888888,
             "#fdca26"
            ],
            [
             1,
             "#f0f921"
            ]
           ],
           "sequentialminus": [
            [
             0,
             "#0d0887"
            ],
            [
             0.1111111111111111,
             "#46039f"
            ],
            [
             0.2222222222222222,
             "#7201a8"
            ],
            [
             0.3333333333333333,
             "#9c179e"
            ],
            [
             0.4444444444444444,
             "#bd3786"
            ],
            [
             0.5555555555555556,
             "#d8576b"
            ],
            [
             0.6666666666666666,
             "#ed7953"
            ],
            [
             0.7777777777777778,
             "#fb9f3a"
            ],
            [
             0.8888888888888888,
             "#fdca26"
            ],
            [
             1,
             "#f0f921"
            ]
           ]
          },
          "colorway": [
           "#636efa",
           "#EF553B",
           "#00cc96",
           "#ab63fa",
           "#FFA15A",
           "#19d3f3",
           "#FF6692",
           "#B6E880",
           "#FF97FF",
           "#FECB52"
          ],
          "font": {
           "color": "#2a3f5f"
          },
          "geo": {
           "bgcolor": "white",
           "lakecolor": "white",
           "landcolor": "#E5ECF6",
           "showlakes": true,
           "showland": true,
           "subunitcolor": "white"
          },
          "hoverlabel": {
           "align": "left"
          },
          "hovermode": "closest",
          "mapbox": {
           "style": "light"
          },
          "paper_bgcolor": "white",
          "plot_bgcolor": "#E5ECF6",
          "polar": {
           "angularaxis": {
            "gridcolor": "white",
            "linecolor": "white",
            "ticks": ""
           },
           "bgcolor": "#E5ECF6",
           "radialaxis": {
            "gridcolor": "white",
            "linecolor": "white",
            "ticks": ""
           }
          },
          "scene": {
           "xaxis": {
            "backgroundcolor": "#E5ECF6",
            "gridcolor": "white",
            "gridwidth": 2,
            "linecolor": "white",
            "showbackground": true,
            "ticks": "",
            "zerolinecolor": "white"
           },
           "yaxis": {
            "backgroundcolor": "#E5ECF6",
            "gridcolor": "white",
            "gridwidth": 2,
            "linecolor": "white",
            "showbackground": true,
            "ticks": "",
            "zerolinecolor": "white"
           },
           "zaxis": {
            "backgroundcolor": "#E5ECF6",
            "gridcolor": "white",
            "gridwidth": 2,
            "linecolor": "white",
            "showbackground": true,
            "ticks": "",
            "zerolinecolor": "white"
           }
          },
          "shapedefaults": {
           "line": {
            "color": "#2a3f5f"
           }
          },
          "ternary": {
           "aaxis": {
            "gridcolor": "white",
            "linecolor": "white",
            "ticks": ""
           },
           "baxis": {
            "gridcolor": "white",
            "linecolor": "white",
            "ticks": ""
           },
           "bgcolor": "#E5ECF6",
           "caxis": {
            "gridcolor": "white",
            "linecolor": "white",
            "ticks": ""
           }
          },
          "title": {
           "x": 0.05
          },
          "xaxis": {
           "automargin": true,
           "gridcolor": "white",
           "linecolor": "white",
           "ticks": "",
           "title": {
            "standoff": 15
           },
           "zerolinecolor": "white",
           "zerolinewidth": 2
          },
          "yaxis": {
           "automargin": true,
           "gridcolor": "white",
           "linecolor": "white",
           "ticks": "",
           "title": {
            "standoff": 15
           },
           "zerolinecolor": "white",
           "zerolinewidth": 2
          }
         }
        },
        "title": {
         "text": "Drug satisfaction rating"
        },
        "violinmode": "group",
        "xaxis": {
         "anchor": "y",
         "autorange": true,
         "domain": [
          0,
          1
         ],
         "range": [
          -0.5206008583690988,
          7.5
         ],
         "title": {
          "text": "drug"
         },
         "type": "category"
        },
        "yaxis": {
         "anchor": "x",
         "autorange": true,
         "domain": [
          0,
          1
         ],
         "range": [
          3.064146312858947,
          11.90443053565827
         ],
         "title": {
          "text": "satisfaction"
         },
         "type": "linear"
        }
       }
      },
      "image/png": "[encoded data removed]"
     },
     "metadata": {},
     "output_type": "display_data"
    }
   ],
   "source": [
    "# ... showing the ratings by drug\n",
    "rating = px.violin(df1, y='satisfaction', x='drug', box=True, points='all', title='Drug satisfaction rating')\n",
    "rating.show()"
   ]
  },
  {
   "cell_type": "markdown",
   "metadata": {},
   "source": [
    "From the above it can be seen that there is no clear winner.\n",
    "\n",
    "#### Distribution of drug satisfaction  by mono and combination"
   ]
  },
  {
   "cell_type": "code",
   "execution_count": 17,
   "metadata": {},
   "outputs": [
    {
     "data": {
      "application/vnd.plotly.v1+json": {
       "config": {
        "plotlyServerURL": "https://plot.ly"
       },
       "data": [
        {
         "alignmentgroup": "True",
         "box": {
          "visible": true
         },
         "hovertemplate": "SubType=%{x}<br>satisfaction=%{y}<extra></extra>",
         "legendgroup": "",
         "marker": {
          "color": "#636efa"
         },
         "name": "",
         "offsetgroup": "",
         "orientation": "v",
         "points": "all",
         "scalegroup": "True",
         "showlegend": false,
         "type": "violin",
         "x": [
          "Mono",
          "Mono",
          "Mono",
          "Mono",
          "Mono",
          "Mono",
          "Mono",
          "Mono",
          "Mono",
          "Mono",
          "Mono",
          "Mono",
          "Mono",
          "Mono",
          "Mono",
          "Mono",
          "Mono",
          "Mono",
          "Mono",
          "Mono",
          "Mono",
          "Mono",
          "Mono",
          "Mono",
          "Mono",
          "Mono",
          "Mono",
          "Mono",
          "Mono",
          "Mono",
          "Mono",
          "Mono",
          "Mono",
          "Mono",
          "Mono",
          "Mono",
          "Mono",
          "Mono",
          "Mono",
          "Mono",
          "Mono",
          "Mono",
          "Mono",
          "Mono",
          "Mono",
          "Mono",
          "Mono",
          "Mono",
          "Mono",
          "Mono",
          "Mono",
          "Mono",
          "Mono",
          "Mono",
          "Mono",
          "Mono",
          "Mono",
          "Mono",
          "Mono",
          "Mono",
          "Mono",
          "Mono",
          "Mono",
          "Mono",
          "Mono",
          "Mono",
          "Mono",
          "Mono",
          "Mono",
          "Mono",
          "Mono",
          "Mono",
          "Mono",
          "Mono",
          "Mono",
          "Mono",
          "Mono",
          "Mono",
          "Mono",
          "Mono",
          "Mono",
          "Mono",
          "Mono",
          "Mono",
          "Mono",
          "Mono",
          "Mono",
          "Mono",
          "Mono",
          "Mono",
          "Mono",
          "Mono",
          "Mono",
          "Mono",
          "Mono",
          "Mono",
          "Mono",
          "Mono",
          "Mono",
          "Mono",
          "Mono",
          "Mono",
          "Mono",
          "Mono",
          "Mono",
          "Mono",
          "Mono",
          "Mono",
          "Mono",
          "Mono",
          "Mono",
          "Mono",
          "Mono",
          "Mono",
          "Mono",
          "Mono",
          "Mono",
          "Mono",
          "Mono",
          "Mono",
          "Mono",
          "Mono",
          "Mono",
          "Mono",
          "Mono",
          "Mono",
          "Mono",
          "Mono",
          "Mono",
          "Mono",
          "Mono",
          "Mono",
          "Mono",
          "Mono",
          "Mono",
          "Mono",
          "Mono",
          "Mono",
          "Mono",
          "Mono",
          "Mono",
          "Mono",
          "Mono",
          "Mono",
          "Mono",
          "Mono",
          "Mono",
          "Mono",
          "Mono",
          "Mono",
          "Mono",
          "Mono",
          "Mono",
          "Mono",
          "Mono",
          "Mono",
          "Mono",
          "Mono",
          "Mono",
          "Mono",
          "Mono",
          "Mono",
          "Mono",
          "Mono",
          "Mono",
          "Mono",
          "Mono",
          "Mono",
          "Mono",
          "Mono",
          "Mono",
          "Mono",
          "Mono",
          "Mono",
          "Mono",
          "Mono",
          "Mono",
          "Mono",
          "Mono",
          "Mono",
          "Mono",
          "Mono",
          "Mono",
          "Mono",
          "Mono",
          "Mono",
          "Mono",
          "Mono",
          "Mono",
          "Mono",
          "Mono",
          "Mono",
          "Mono",
          "Mono",
          "Mono",
          "Mono",
          "Mono",
          "Mono",
          "Mono",
          "Mono",
          "Mono",
          "Mono",
          "Mono",
          "Mono",
          "Mono",
          "Mono",
          "Mono",
          "Mono",
          "Mono",
          "Mono",
          "Mono",
          "Mono",
          "Combi",
          "Combi",
          "Combi",
          "Combi",
          "Combi",
          "Combi",
          "Combi",
          "Combi",
          "Combi",
          "Combi",
          "Combi",
          "Combi",
          "Combi",
          "Combi",
          "Combi",
          "Combi",
          "Combi",
          "Combi",
          "Combi",
          "Combi",
          "Combi",
          "Combi",
          "Combi",
          "Combi",
          "Combi",
          "Combi",
          "Combi",
          "Combi",
          "Combi",
          "Combi",
          "Combi",
          "Combi",
          "Combi",
          "Combi",
          "Combi",
          "Combi",
          "Combi",
          "Combi",
          "Combi",
          "Combi",
          "Combi",
          "Combi",
          "Combi",
          "Combi",
          "Combi",
          "Combi",
          "Combi",
          "Combi",
          "Combi",
          "Combi",
          "Combi",
          "Combi",
          "Combi",
          "Combi",
          "Combi",
          "Combi",
          "Combi",
          "Combi",
          "Combi",
          "Combi",
          "Combi",
          "Combi",
          "Combi",
          "Combi",
          "Combi",
          "Combi",
          "Combi",
          "Combi",
          "Combi",
          "Combi",
          "Combi",
          "Combi",
          "Combi",
          "Combi",
          "Combi",
          "Combi",
          "Combi",
          "Combi",
          "Combi",
          "Combi",
          "Combi",
          "Combi",
          "Combi",
          "Combi",
          "Combi",
          "Combi",
          "Combi",
          "Combi",
          "Combi",
          "Combi",
          "Combi",
          "Combi",
          "Combi",
          "Combi",
          "Combi",
          "Combi",
          "Combi",
          "Combi",
          "Combi",
          "Combi",
          "Combi",
          "Combi",
          "Combi",
          "Combi",
          "Combi",
          "Combi",
          "Mono",
          "Mono",
          "Mono",
          "Mono",
          "Mono",
          "Mono",
          "Mono",
          "Mono",
          "Mono",
          "Mono",
          "Mono",
          "Mono",
          "Mono",
          "Mono",
          "Mono",
          "Mono",
          "Mono",
          "Mono",
          "Mono",
          "Mono",
          "Mono",
          "Mono",
          "Mono",
          "Mono",
          "Mono",
          "Mono",
          "Mono",
          "Mono",
          "Mono",
          "Mono",
          "Mono",
          "Mono",
          "Mono",
          "Mono",
          "Mono",
          "Mono",
          "Mono",
          "Mono",
          "Mono",
          "Mono",
          "Mono",
          "Mono",
          "Mono",
          "Mono",
          "Mono",
          "Mono",
          "Mono",
          "Mono",
          "Mono",
          "Mono",
          "Mono",
          "Mono",
          "Mono",
          "Combi",
          "Combi",
          "Combi",
          "Combi",
          "Combi",
          "Combi",
          "Combi",
          "Combi",
          "Combi",
          "Combi",
          "Combi",
          "Combi",
          "Combi",
          "Combi",
          "Combi",
          "Combi",
          "Combi",
          "Combi",
          "Combi",
          "Combi",
          "Combi",
          "Combi",
          "Combi",
          "Combi",
          "Combi",
          "Combi",
          "Combi",
          "Combi",
          "Combi",
          "Combi",
          "Combi",
          "Combi",
          "Combi",
          "Combi",
          "Combi",
          "Combi",
          "Combi",
          "Combi",
          "Combi",
          "Combi",
          "Combi",
          "Combi",
          "Combi",
          "Combi",
          "Combi",
          "Combi",
          "Combi",
          "Combi",
          "Combi",
          "Combi",
          "Combi",
          "Combi",
          "Combi"
         ],
         "x0": " ",
         "xaxis": "x",
         "y": [
          "8",
          "7",
          "7",
          "6",
          "7",
          "7",
          "8",
          "8",
          "6",
          "6",
          "10",
          "",
          "9",
          "10",
          "10",
          "",
          "",
          "8",
          "9",
          "8",
          "6",
          "5",
          "7",
          "9",
          "",
          "9",
          "",
          "5",
          "",
          "",
          "",
          "",
          "",
          "10",
          "9",
          "9",
          "9",
          "9",
          "8",
          "8",
          "7",
          "8",
          "8",
          "8",
          "9",
          "8",
          "7",
          "8",
          "8",
          "",
          "8",
          "7",
          "9",
          "10",
          "10",
          "8",
          "10",
          "8",
          "7",
          "8",
          "8",
          "6",
          "7",
          "9",
          "9",
          "10",
          "9",
          "10",
          "9",
          "9",
          "8",
          "10",
          "7",
          "8",
          "7",
          "7",
          "10",
          "9",
          "10",
          "9",
          "10",
          "9",
          "9",
          "9",
          "9",
          "9",
          "9",
          "10",
          "9",
          "10",
          "9",
          "10",
          "9",
          "9",
          "9",
          "10",
          "9",
          "10",
          "9",
          "9",
          "9",
          "",
          "9",
          "9",
          "9",
          "10",
          "10",
          "7",
          "9",
          "9",
          "8",
          "8",
          "8",
          "8",
          "7",
          "8",
          "10",
          "10",
          "10",
          "10",
          "9",
          "9",
          "6",
          "8",
          "10",
          "8",
          "7",
          "6",
          "8",
          "10",
          "10",
          "9",
          "7",
          "7",
          "9",
          "8",
          "9",
          "9",
          "7",
          "10",
          "9",
          "10",
          "10",
          "10",
          "10",
          "9",
          "9",
          "9",
          "10",
          "9",
          "10",
          "9",
          "9",
          "10",
          "9",
          "10",
          "9",
          "10",
          "9",
          "9",
          "10",
          "8",
          "9",
          "9",
          "8",
          "8",
          "8",
          "6",
          "7",
          "9",
          "8",
          "9",
          "9",
          "9",
          "10",
          "9",
          "8",
          "8",
          "8",
          "8",
          "8",
          "8",
          "8",
          "9",
          "9",
          "9",
          "9",
          "10",
          "9",
          "8",
          "9",
          "9",
          "8",
          "9",
          "8",
          "10",
          "10",
          "10",
          "9",
          "8",
          "9",
          "10",
          "10",
          "10",
          "9",
          "",
          "9",
          "9",
          "9",
          "9",
          "8",
          "9",
          "9",
          "7",
          "7",
          "",
          "6",
          "7",
          "7",
          "7",
          "6",
          "6",
          "8",
          "10",
          "9",
          "8",
          "10",
          "",
          "",
          "8",
          "",
          "7",
          "7",
          "5",
          "",
          "",
          "8",
          "10",
          "",
          "5",
          "",
          "",
          "",
          "",
          "8",
          "8",
          "10",
          "9",
          "9",
          "10",
          "",
          "",
          "8",
          "",
          "9",
          "9",
          "",
          "",
          "8",
          "10",
          "9",
          "8",
          "8",
          "9",
          "10",
          "8",
          "7",
          "6",
          "",
          "7",
          "6",
          "7",
          "7",
          "8",
          "8",
          "6",
          "8",
          "8",
          "8",
          "",
          "9",
          "7",
          "6",
          "10",
          "6",
          "7",
          "7",
          "6",
          "9",
          "9",
          "6",
          "8",
          "7",
          "9",
          "8",
          "8",
          "8",
          "8",
          "9",
          "8",
          "8",
          "8",
          "9",
          "9",
          "8",
          "8",
          "8",
          "8",
          "8",
          "9",
          "8",
          "8",
          "8",
          "8",
          "",
          "8",
          "7",
          "8",
          "",
          "",
          "",
          "",
          "",
          "",
          "",
          "",
          "",
          "",
          "",
          "",
          "",
          "8",
          "",
          "",
          "7",
          "",
          "",
          "",
          "",
          "",
          "",
          "",
          "",
          "",
          "7",
          "6",
          "",
          "5",
          "8",
          "8",
          "",
          "",
          "",
          "",
          "",
          "",
          "",
          "",
          "",
          "",
          "",
          "",
          "",
          "",
          "7",
          "",
          "",
          "",
          "",
          "",
          "",
          "8",
          "8",
          "6",
          "10",
          "8",
          "6",
          "7",
          "7",
          "8",
          "8",
          "7",
          "7",
          "8",
          "8",
          "9",
          "9",
          "7",
          "6",
          "8",
          "6",
          "7",
          "8",
          "6",
          "9",
          "8",
          "9",
          "8",
          "8",
          "8",
          "7",
          "8",
          "8",
          "8",
          "8",
          "8",
          "10",
          "9",
          "9",
          "9",
          "8",
          "8",
          "8",
          "9",
          "8",
          "10",
          "8",
          "9",
          "8",
          "8",
          "",
          "9",
          "7",
          "9"
         ],
         "y0": " ",
         "yaxis": "y"
        }
       ],
       "layout": {
        "autosize": true,
        "legend": {
         "tracegroupgap": 0
        },
        "template": {
         "data": {
          "bar": [
           {
            "error_x": {
             "color": "#2a3f5f"
            },
            "error_y": {
             "color": "#2a3f5f"
            },
            "marker": {
             "line": {
              "color": "#E5ECF6",
              "width": 0.5
             }
            },
            "type": "bar"
           }
          ],
          "barpolar": [
           {
            "marker": {
             "line": {
              "color": "#E5ECF6",
              "width": 0.5
             }
            },
            "type": "barpolar"
           }
          ],
          "carpet": [
           {
            "aaxis": {
             "endlinecolor": "#2a3f5f",
             "gridcolor": "white",
             "linecolor": "white",
             "minorgridcolor": "white",
             "startlinecolor": "#2a3f5f"
            },
            "baxis": {
             "endlinecolor": "#2a3f5f",
             "gridcolor": "white",
             "linecolor": "white",
             "minorgridcolor": "white",
             "startlinecolor": "#2a3f5f"
            },
            "type": "carpet"
           }
          ],
          "choropleth": [
           {
            "colorbar": {
             "outlinewidth": 0,
             "ticks": ""
            },
            "type": "choropleth"
           }
          ],
          "contour": [
           {
            "colorbar": {
             "outlinewidth": 0,
             "ticks": ""
            },
            "colorscale": [
             [
              0,
              "#0d0887"
             ],
             [
              0.1111111111111111,
              "#46039f"
             ],
             [
              0.2222222222222222,
              "#7201a8"
             ],
             [
              0.3333333333333333,
              "#9c179e"
             ],
             [
              0.4444444444444444,
              "#bd3786"
             ],
             [
              0.5555555555555556,
              "#d8576b"
             ],
             [
              0.6666666666666666,
              "#ed7953"
             ],
             [
              0.7777777777777778,
              "#fb9f3a"
             ],
             [
              0.8888888888888888,
              "#fdca26"
             ],
             [
              1,
              "#f0f921"
             ]
            ],
            "type": "contour"
           }
          ],
          "contourcarpet": [
           {
            "colorbar": {
             "outlinewidth": 0,
             "ticks": ""
            },
            "type": "contourcarpet"
           }
          ],
          "heatmap": [
           {
            "colorbar": {
             "outlinewidth": 0,
             "ticks": ""
            },
            "colorscale": [
             [
              0,
              "#0d0887"
             ],
             [
              0.1111111111111111,
              "#46039f"
             ],
             [
              0.2222222222222222,
              "#7201a8"
             ],
             [
              0.3333333333333333,
              "#9c179e"
             ],
             [
              0.4444444444444444,
              "#bd3786"
             ],
             [
              0.5555555555555556,
              "#d8576b"
             ],
             [
              0.6666666666666666,
              "#ed7953"
             ],
             [
              0.7777777777777778,
              "#fb9f3a"
             ],
             [
              0.8888888888888888,
              "#fdca26"
             ],
             [
              1,
              "#f0f921"
             ]
            ],
            "type": "heatmap"
           }
          ],
          "heatmapgl": [
           {
            "colorbar": {
             "outlinewidth": 0,
             "ticks": ""
            },
            "colorscale": [
             [
              0,
              "#0d0887"
             ],
             [
              0.1111111111111111,
              "#46039f"
             ],
             [
              0.2222222222222222,
              "#7201a8"
             ],
             [
              0.3333333333333333,
              "#9c179e"
             ],
             [
              0.4444444444444444,
              "#bd3786"
             ],
             [
              0.5555555555555556,
              "#d8576b"
             ],
             [
              0.6666666666666666,
              "#ed7953"
             ],
             [
              0.7777777777777778,
              "#fb9f3a"
             ],
             [
              0.8888888888888888,
              "#fdca26"
             ],
             [
              1,
              "#f0f921"
             ]
            ],
            "type": "heatmapgl"
           }
          ],
          "histogram": [
           {
            "marker": {
             "colorbar": {
              "outlinewidth": 0,
              "ticks": ""
             }
            },
            "type": "histogram"
           }
          ],
          "histogram2d": [
           {
            "colorbar": {
             "outlinewidth": 0,
             "ticks": ""
            },
            "colorscale": [
             [
              0,
              "#0d0887"
             ],
             [
              0.1111111111111111,
              "#46039f"
             ],
             [
              0.2222222222222222,
              "#7201a8"
             ],
             [
              0.3333333333333333,
              "#9c179e"
             ],
             [
              0.4444444444444444,
              "#bd3786"
             ],
             [
              0.5555555555555556,
              "#d8576b"
             ],
             [
              0.6666666666666666,
              "#ed7953"
             ],
             [
              0.7777777777777778,
              "#fb9f3a"
             ],
             [
              0.8888888888888888,
              "#fdca26"
             ],
             [
              1,
              "#f0f921"
             ]
            ],
            "type": "histogram2d"
           }
          ],
          "histogram2dcontour": [
           {
            "colorbar": {
             "outlinewidth": 0,
             "ticks": ""
            },
            "colorscale": [
             [
              0,
              "#0d0887"
             ],
             [
              0.1111111111111111,
              "#46039f"
             ],
             [
              0.2222222222222222,
              "#7201a8"
             ],
             [
              0.3333333333333333,
              "#9c179e"
             ],
             [
              0.4444444444444444,
              "#bd3786"
             ],
             [
              0.5555555555555556,
              "#d8576b"
             ],
             [
              0.6666666666666666,
              "#ed7953"
             ],
             [
              0.7777777777777778,
              "#fb9f3a"
             ],
             [
              0.8888888888888888,
              "#fdca26"
             ],
             [
              1,
              "#f0f921"
             ]
            ],
            "type": "histogram2dcontour"
           }
          ],
          "mesh3d": [
           {
            "colorbar": {
             "outlinewidth": 0,
             "ticks": ""
            },
            "type": "mesh3d"
           }
          ],
          "parcoords": [
           {
            "line": {
             "colorbar": {
              "outlinewidth": 0,
              "ticks": ""
             }
            },
            "type": "parcoords"
           }
          ],
          "pie": [
           {
            "automargin": true,
            "type": "pie"
           }
          ],
          "scatter": [
           {
            "marker": {
             "colorbar": {
              "outlinewidth": 0,
              "ticks": ""
             }
            },
            "type": "scatter"
           }
          ],
          "scatter3d": [
           {
            "line": {
             "colorbar": {
              "outlinewidth": 0,
              "ticks": ""
             }
            },
            "marker": {
             "colorbar": {
              "outlinewidth": 0,
              "ticks": ""
             }
            },
            "type": "scatter3d"
           }
          ],
          "scattercarpet": [
           {
            "marker": {
             "colorbar": {
              "outlinewidth": 0,
              "ticks": ""
             }
            },
            "type": "scattercarpet"
           }
          ],
          "scattergeo": [
           {
            "marker": {
             "colorbar": {
              "outlinewidth": 0,
              "ticks": ""
             }
            },
            "type": "scattergeo"
           }
          ],
          "scattergl": [
           {
            "marker": {
             "colorbar": {
              "outlinewidth": 0,
              "ticks": ""
             }
            },
            "type": "scattergl"
           }
          ],
          "scattermapbox": [
           {
            "marker": {
             "colorbar": {
              "outlinewidth": 0,
              "ticks": ""
             }
            },
            "type": "scattermapbox"
           }
          ],
          "scatterpolar": [
           {
            "marker": {
             "colorbar": {
              "outlinewidth": 0,
              "ticks": ""
             }
            },
            "type": "scatterpolar"
           }
          ],
          "scatterpolargl": [
           {
            "marker": {
             "colorbar": {
              "outlinewidth": 0,
              "ticks": ""
             }
            },
            "type": "scatterpolargl"
           }
          ],
          "scatterternary": [
           {
            "marker": {
             "colorbar": {
              "outlinewidth": 0,
              "ticks": ""
             }
            },
            "type": "scatterternary"
           }
          ],
          "surface": [
           {
            "colorbar": {
             "outlinewidth": 0,
             "ticks": ""
            },
            "colorscale": [
             [
              0,
              "#0d0887"
             ],
             [
              0.1111111111111111,
              "#46039f"
             ],
             [
              0.2222222222222222,
              "#7201a8"
             ],
             [
              0.3333333333333333,
              "#9c179e"
             ],
             [
              0.4444444444444444,
              "#bd3786"
             ],
             [
              0.5555555555555556,
              "#d8576b"
             ],
             [
              0.6666666666666666,
              "#ed7953"
             ],
             [
              0.7777777777777778,
              "#fb9f3a"
             ],
             [
              0.8888888888888888,
              "#fdca26"
             ],
             [
              1,
              "#f0f921"
             ]
            ],
            "type": "surface"
           }
          ],
          "table": [
           {
            "cells": {
             "fill": {
              "color": "#EBF0F8"
             },
             "line": {
              "color": "white"
             }
            },
            "header": {
             "fill": {
              "color": "#C8D4E3"
             },
             "line": {
              "color": "white"
             }
            },
            "type": "table"
           }
          ]
         },
         "layout": {
          "annotationdefaults": {
           "arrowcolor": "#2a3f5f",
           "arrowhead": 0,
           "arrowwidth": 1
          },
          "coloraxis": {
           "colorbar": {
            "outlinewidth": 0,
            "ticks": ""
           }
          },
          "colorscale": {
           "diverging": [
            [
             0,
             "#8e0152"
            ],
            [
             0.1,
             "#c51b7d"
            ],
            [
             0.2,
             "#de77ae"
            ],
            [
             0.3,
             "#f1b6da"
            ],
            [
             0.4,
             "#fde0ef"
            ],
            [
             0.5,
             "#f7f7f7"
            ],
            [
             0.6,
             "#e6f5d0"
            ],
            [
             0.7,
             "#b8e186"
            ],
            [
             0.8,
             "#7fbc41"
            ],
            [
             0.9,
             "#4d9221"
            ],
            [
             1,
             "#276419"
            ]
           ],
           "sequential": [
            [
             0,
             "#0d0887"
            ],
            [
             0.1111111111111111,
             "#46039f"
            ],
            [
             0.2222222222222222,
             "#7201a8"
            ],
            [
             0.3333333333333333,
             "#9c179e"
            ],
            [
             0.4444444444444444,
             "#bd3786"
            ],
            [
             0.5555555555555556,
             "#d8576b"
            ],
            [
             0.6666666666666666,
             "#ed7953"
            ],
            [
             0.7777777777777778,
             "#fb9f3a"
            ],
            [
             0.8888888888888888,
             "#fdca26"
            ],
            [
             1,
             "#f0f921"
            ]
           ],
           "sequentialminus": [
            [
             0,
             "#0d0887"
            ],
            [
             0.1111111111111111,
             "#46039f"
            ],
            [
             0.2222222222222222,
             "#7201a8"
            ],
            [
             0.3333333333333333,
             "#9c179e"
            ],
            [
             0.4444444444444444,
             "#bd3786"
            ],
            [
             0.5555555555555556,
             "#d8576b"
            ],
            [
             0.6666666666666666,
             "#ed7953"
            ],
            [
             0.7777777777777778,
             "#fb9f3a"
            ],
            [
             0.8888888888888888,
             "#fdca26"
            ],
            [
             1,
             "#f0f921"
            ]
           ]
          },
          "colorway": [
           "#636efa",
           "#EF553B",
           "#00cc96",
           "#ab63fa",
           "#FFA15A",
           "#19d3f3",
           "#FF6692",
           "#B6E880",
           "#FF97FF",
           "#FECB52"
          ],
          "font": {
           "color": "#2a3f5f"
          },
          "geo": {
           "bgcolor": "white",
           "lakecolor": "white",
           "landcolor": "#E5ECF6",
           "showlakes": true,
           "showland": true,
           "subunitcolor": "white"
          },
          "hoverlabel": {
           "align": "left"
          },
          "hovermode": "closest",
          "mapbox": {
           "style": "light"
          },
          "paper_bgcolor": "white",
          "plot_bgcolor": "#E5ECF6",
          "polar": {
           "angularaxis": {
            "gridcolor": "white",
            "linecolor": "white",
            "ticks": ""
           },
           "bgcolor": "#E5ECF6",
           "radialaxis": {
            "gridcolor": "white",
            "linecolor": "white",
            "ticks": ""
           }
          },
          "scene": {
           "xaxis": {
            "backgroundcolor": "#E5ECF6",
            "gridcolor": "white",
            "gridwidth": 2,
            "linecolor": "white",
            "showbackground": true,
            "ticks": "",
            "zerolinecolor": "white"
           },
           "yaxis": {
            "backgroundcolor": "#E5ECF6",
            "gridcolor": "white",
            "gridwidth": 2,
            "linecolor": "white",
            "showbackground": true,
            "ticks": "",
            "zerolinecolor": "white"
           },
           "zaxis": {
            "backgroundcolor": "#E5ECF6",
            "gridcolor": "white",
            "gridwidth": 2,
            "linecolor": "white",
            "showbackground": true,
            "ticks": "",
            "zerolinecolor": "white"
           }
          },
          "shapedefaults": {
           "line": {
            "color": "#2a3f5f"
           }
          },
          "ternary": {
           "aaxis": {
            "gridcolor": "white",
            "linecolor": "white",
            "ticks": ""
           },
           "baxis": {
            "gridcolor": "white",
            "linecolor": "white",
            "ticks": ""
           },
           "bgcolor": "#E5ECF6",
           "caxis": {
            "gridcolor": "white",
            "linecolor": "white",
            "ticks": ""
           }
          },
          "title": {
           "x": 0.05
          },
          "xaxis": {
           "automargin": true,
           "gridcolor": "white",
           "linecolor": "white",
           "ticks": "",
           "title": {
            "standoff": 15
           },
           "zerolinecolor": "white",
           "zerolinewidth": 2
          },
          "yaxis": {
           "automargin": true,
           "gridcolor": "white",
           "linecolor": "white",
           "ticks": "",
           "title": {
            "standoff": 15
           },
           "zerolinecolor": "white",
           "zerolinewidth": 2
          }
         }
        },
        "title": {
         "text": "Mono v/s Combi satisfaction rating"
        },
        "violinmode": "group",
        "xaxis": {
         "anchor": "y",
         "autorange": true,
         "domain": [
          0,
          1
         ],
         "range": [
          -0.5051502145922747,
          1.5
         ],
         "title": {
          "text": "SubType"
         },
         "type": "category"
        },
        "yaxis": {
         "anchor": "x",
         "autorange": true,
         "domain": [
          0,
          1
         ],
         "range": [
          3.7425775246636768,
          11.257422475336323
         ],
         "title": {
          "text": "satisfaction"
         },
         "type": "linear"
        }
       }
      },
      "image/png": "[encoded data removed]"
     },
     "metadata": {},
     "output_type": "display_data"
    }
   ],
   "source": [
    "px.violin(df1, y='satisfaction', x='SubType', box=True, points='all', title='Mono v/s Combi satisfaction rating')"
   ]
  },
  {
   "cell_type": "markdown",
   "metadata": {},
   "source": [
    "# Conclusions\n",
    "1. 22.4% of drugs were reviewed by the survey\n",
    "2. Spiriva was the most recognized drug, followed by Spiolto and Anoro\n",
    "3. LAMA and LAMA/LABA were the most favoured drug type\n",
    "4. From satisfaction ratings Spiriva was the most preferred. \n",
    "    * It also had a normalized satisfaction distribution\n",
    "3. Combination drugs were found to be more uniformly distributed than Mono drugs, which were all over the place. "
   ]
  },
  {
   "cell_type": "code",
   "execution_count": null,
   "metadata": {},
   "outputs": [],
   "source": []
  }
 ],
 "metadata": {
  "kernelspec": {
   "display_name": "Python 3",
   "language": "python",
   "name": "python3"
  },
  "language_info": {
   "codemirror_mode": {
    "name": "ipython",
    "version": 3
   },
   "file_extension": ".py",
   "mimetype": "text/x-python",
   "name": "python",
   "nbconvert_exporter": "python",
   "pygments_lexer": "ipython3",
   "version": "3.8.6"
  }
 },
 "nbformat": 4,
 "nbformat_minor": 4
}
